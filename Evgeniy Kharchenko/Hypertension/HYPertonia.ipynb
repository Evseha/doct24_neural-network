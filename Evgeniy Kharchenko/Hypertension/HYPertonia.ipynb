{
 "cells": [
  {
   "cell_type": "markdown",
   "id": "0f571e6e",
   "metadata": {},
   "source": [
    "# Исследование данных в области Гипертонии"
   ]
  },
  {
   "cell_type": "markdown",
   "id": "042a2327",
   "metadata": {},
   "source": [
    "## Описание данных"
   ]
  },
  {
   "cell_type": "markdown",
   "id": "2d812d8f",
   "metadata": {},
   "source": [
    "Для предсказания заболевания используются следующие признаки:\n",
    "\n",
    "1. age: age in years\n",
    "2. sex:\n",
    "- 0 = Female\n",
    "- 1 = Male\n",
    "3. cp: Chest pain types\n",
    "- 0 = Typical angina\n",
    "- 1 = Atypical angina\n",
    "- 2 = Non-angina pain\n",
    "- 3 = Asymptomatic\n",
    "4. trestbps: Resting blood pressure (mmHg)\n",
    "- High blood pressure = 140 mmHg or above\n",
    "5. chol: Serum cholestoral (mg/dL)\n",
    "- Certain elements in the blood, including low-density lipoprotein (LDL), high-density lipoprotein (HDL) and triglycerides Calculation = HDL + LDL + 0.2 * triglycerides.Higher than 200 mg/dL is concerned\n",
    "6. fbs: Fasting blood sugar (> 120 mg/dL)\n",
    "- 0 = False\n",
    "- 1 = True\n",
    "7. restecg: Resting electrocardiographic results\n",
    "- 0 = Normal\n",
    "- 1 = Abnormal ST-T wave\n",
    "- 2 = Showing probable or definite left ventricular hypertrophy\n",
    "8. thalach: Maximum heart rate achieved (bpm)\n",
    "9. exang: Exercise induced angina \n",
    "- 0 = Negative\n",
    "- 1 = Positive\n",
    "10. oldpeak: ST depression induced by exercise relative to rest\n",
    "11. slope: The slope of the peak exercise ST segment\n",
    "- 0 = Upsloping\n",
    "- 1 = Horizontal\n",
    "- 2 = Downsloping\n",
    "12. ca: Number of major vessels (0-3) colored by fluoroscopy. The colored blood vessels are passing through. There is a clot if the blood vessel is not colored\n",
    "13. thal: Thallium scintigraphy\n",
    "- 3 = Normal\n",
    "- 6 = Fixed defect\n",
    "- 7 = Reversable defect\n",
    "14. target: Whether the patient has hypertension\n",
    "- 0 = Negative\n",
    "- 1 = Positive"
   ]
  },
  {
   "cell_type": "markdown",
   "id": "e109f2c0",
   "metadata": {},
   "source": [
    "## Изучение датасета"
   ]
  },
  {
   "cell_type": "markdown",
   "id": "1a7a79d4",
   "metadata": {},
   "source": [
    "Импортируем необхожимые для работы библиотеки"
   ]
  },
  {
   "cell_type": "code",
   "execution_count": 1,
   "id": "7ca93cca",
   "metadata": {},
   "outputs": [],
   "source": [
    "import pandas as pd\n",
    "import numpy as np\n",
    "import seaborn as sns\n",
    "from sklearn.model_selection import train_test_split\n",
    "from lightgbm import LGBMClassifier\n",
    "from sklearn.model_selection import RepeatedStratifiedKFold\n",
    "from sklearn.model_selection import cross_val_score\n",
    "from sklearn.metrics import accuracy_score\n",
    "from sklearn.metrics import classification_report\n",
    "from sklearn.metrics import confusion_matrix, ConfusionMatrixDisplay\n",
    "from sklearn.metrics import f1_score\n",
    "from sklearn.metrics import precision_score\n",
    "from sklearn.metrics import recall_score\n",
    "from sklearn.metrics import roc_curve \n",
    "from sklearn.ensemble import RandomForestClassifier\n",
    "from sklearn.neighbors import KNeighborsClassifier\n",
    "from optuna.samplers import TPESampler, RandomSampler\n",
    "from sklearn.linear_model import LogisticRegression\n",
    "from sklearn.tree import DecisionTreeClassifier\n",
    "from catboost import CatBoostClassifier, Pool\n",
    "from optuna.integration import CatBoostPruningCallback\n",
    "from sklearn.utils import shuffle\n",
    "import matplotlib.pyplot as plt\n",
    "import numpy as np\n",
    "import optuna\n",
    "import pandas as pd\n",
    "import seaborn as sns\n",
    "import warnings\n",
    "warnings.filterwarnings('ignore')"
   ]
  },
  {
   "cell_type": "markdown",
   "id": "bb2153d6",
   "metadata": {},
   "source": [
    "Сохраним наш датасет в перменной df, откроем и взглянем на первые 5 строк"
   ]
  },
  {
   "cell_type": "code",
   "execution_count": 2,
   "id": "7913a326",
   "metadata": {
    "scrolled": false
   },
   "outputs": [
    {
     "data": {
      "text/html": [
       "<div>\n",
       "<style scoped>\n",
       "    .dataframe tbody tr th:only-of-type {\n",
       "        vertical-align: middle;\n",
       "    }\n",
       "\n",
       "    .dataframe tbody tr th {\n",
       "        vertical-align: top;\n",
       "    }\n",
       "\n",
       "    .dataframe thead th {\n",
       "        text-align: right;\n",
       "    }\n",
       "</style>\n",
       "<table border=\"1\" class=\"dataframe\">\n",
       "  <thead>\n",
       "    <tr style=\"text-align: right;\">\n",
       "      <th></th>\n",
       "      <th>age</th>\n",
       "      <th>sex</th>\n",
       "      <th>cp</th>\n",
       "      <th>trestbps</th>\n",
       "      <th>chol</th>\n",
       "      <th>fbs</th>\n",
       "      <th>restecg</th>\n",
       "      <th>thalach</th>\n",
       "      <th>exang</th>\n",
       "      <th>oldpeak</th>\n",
       "      <th>slope</th>\n",
       "      <th>ca</th>\n",
       "      <th>thal</th>\n",
       "      <th>target</th>\n",
       "    </tr>\n",
       "  </thead>\n",
       "  <tbody>\n",
       "    <tr>\n",
       "      <th>0</th>\n",
       "      <td>57.0</td>\n",
       "      <td>1.0</td>\n",
       "      <td>3</td>\n",
       "      <td>145</td>\n",
       "      <td>233</td>\n",
       "      <td>1</td>\n",
       "      <td>0</td>\n",
       "      <td>150</td>\n",
       "      <td>0</td>\n",
       "      <td>2.3</td>\n",
       "      <td>0</td>\n",
       "      <td>0</td>\n",
       "      <td>1</td>\n",
       "      <td>1</td>\n",
       "    </tr>\n",
       "    <tr>\n",
       "      <th>1</th>\n",
       "      <td>64.0</td>\n",
       "      <td>0.0</td>\n",
       "      <td>2</td>\n",
       "      <td>130</td>\n",
       "      <td>250</td>\n",
       "      <td>0</td>\n",
       "      <td>1</td>\n",
       "      <td>187</td>\n",
       "      <td>0</td>\n",
       "      <td>3.5</td>\n",
       "      <td>0</td>\n",
       "      <td>0</td>\n",
       "      <td>2</td>\n",
       "      <td>1</td>\n",
       "    </tr>\n",
       "    <tr>\n",
       "      <th>2</th>\n",
       "      <td>52.0</td>\n",
       "      <td>1.0</td>\n",
       "      <td>1</td>\n",
       "      <td>130</td>\n",
       "      <td>204</td>\n",
       "      <td>0</td>\n",
       "      <td>0</td>\n",
       "      <td>172</td>\n",
       "      <td>0</td>\n",
       "      <td>1.4</td>\n",
       "      <td>2</td>\n",
       "      <td>0</td>\n",
       "      <td>2</td>\n",
       "      <td>1</td>\n",
       "    </tr>\n",
       "    <tr>\n",
       "      <th>3</th>\n",
       "      <td>56.0</td>\n",
       "      <td>0.0</td>\n",
       "      <td>1</td>\n",
       "      <td>120</td>\n",
       "      <td>236</td>\n",
       "      <td>0</td>\n",
       "      <td>1</td>\n",
       "      <td>178</td>\n",
       "      <td>0</td>\n",
       "      <td>0.8</td>\n",
       "      <td>2</td>\n",
       "      <td>0</td>\n",
       "      <td>2</td>\n",
       "      <td>1</td>\n",
       "    </tr>\n",
       "    <tr>\n",
       "      <th>4</th>\n",
       "      <td>66.0</td>\n",
       "      <td>0.0</td>\n",
       "      <td>0</td>\n",
       "      <td>120</td>\n",
       "      <td>354</td>\n",
       "      <td>0</td>\n",
       "      <td>1</td>\n",
       "      <td>163</td>\n",
       "      <td>1</td>\n",
       "      <td>0.6</td>\n",
       "      <td>2</td>\n",
       "      <td>0</td>\n",
       "      <td>2</td>\n",
       "      <td>1</td>\n",
       "    </tr>\n",
       "  </tbody>\n",
       "</table>\n",
       "</div>"
      ],
      "text/plain": [
       "    age  sex  cp  trestbps  chol  fbs  restecg  thalach  exang  oldpeak  \\\n",
       "0  57.0  1.0   3       145   233    1        0      150      0      2.3   \n",
       "1  64.0  0.0   2       130   250    0        1      187      0      3.5   \n",
       "2  52.0  1.0   1       130   204    0        0      172      0      1.4   \n",
       "3  56.0  0.0   1       120   236    0        1      178      0      0.8   \n",
       "4  66.0  0.0   0       120   354    0        1      163      1      0.6   \n",
       "\n",
       "   slope  ca  thal  target  \n",
       "0      0   0     1       1  \n",
       "1      0   0     2       1  \n",
       "2      2   0     2       1  \n",
       "3      2   0     2       1  \n",
       "4      2   0     2       1  "
      ]
     },
     "execution_count": 2,
     "metadata": {},
     "output_type": "execute_result"
    }
   ],
   "source": [
    "df = pd.read_csv('hypertension_data.csv')\n",
    "df.head()"
   ]
  },
  {
   "cell_type": "markdown",
   "id": "298e7eaa",
   "metadata": {},
   "source": [
    "Проверим датасет на наличие пропусков"
   ]
  },
  {
   "cell_type": "code",
   "execution_count": 3,
   "id": "e06a1b15",
   "metadata": {
    "scrolled": false
   },
   "outputs": [
    {
     "data": {
      "text/plain": [
       "age          0\n",
       "sex         25\n",
       "cp           0\n",
       "trestbps     0\n",
       "chol         0\n",
       "fbs          0\n",
       "restecg      0\n",
       "thalach      0\n",
       "exang        0\n",
       "oldpeak      0\n",
       "slope        0\n",
       "ca           0\n",
       "thal         0\n",
       "target       0\n",
       "dtype: int64"
      ]
     },
     "execution_count": 3,
     "metadata": {},
     "output_type": "execute_result"
    }
   ],
   "source": [
    "df.isna().sum()"
   ]
  },
  {
   "cell_type": "markdown",
   "id": "7a692826",
   "metadata": {},
   "source": [
    "Пропусков всего 25. Удалим строки с пропущенными значениями"
   ]
  },
  {
   "cell_type": "code",
   "execution_count": 4,
   "id": "2fdfaf24",
   "metadata": {},
   "outputs": [],
   "source": [
    "df=df.dropna()"
   ]
  },
  {
   "cell_type": "code",
   "execution_count": 5,
   "id": "aa612d45",
   "metadata": {},
   "outputs": [
    {
     "name": "stdout",
     "output_type": "stream",
     "text": [
      "<class 'pandas.core.frame.DataFrame'>\n",
      "Int64Index: 26058 entries, 0 to 26082\n",
      "Data columns (total 14 columns):\n",
      " #   Column    Non-Null Count  Dtype  \n",
      "---  ------    --------------  -----  \n",
      " 0   age       26058 non-null  float64\n",
      " 1   sex       26058 non-null  float64\n",
      " 2   cp        26058 non-null  int64  \n",
      " 3   trestbps  26058 non-null  int64  \n",
      " 4   chol      26058 non-null  int64  \n",
      " 5   fbs       26058 non-null  int64  \n",
      " 6   restecg   26058 non-null  int64  \n",
      " 7   thalach   26058 non-null  int64  \n",
      " 8   exang     26058 non-null  int64  \n",
      " 9   oldpeak   26058 non-null  float64\n",
      " 10  slope     26058 non-null  int64  \n",
      " 11  ca        26058 non-null  int64  \n",
      " 12  thal      26058 non-null  int64  \n",
      " 13  target    26058 non-null  int64  \n",
      "dtypes: float64(3), int64(11)\n",
      "memory usage: 3.0 MB\n"
     ]
    }
   ],
   "source": [
    "df.info()"
   ]
  },
  {
   "cell_type": "markdown",
   "id": "9819fc0c",
   "metadata": {},
   "source": [
    "Пропуски отсутствуют. Столбцы age, sex переведем в формат int"
   ]
  },
  {
   "cell_type": "code",
   "execution_count": 6,
   "id": "bb719938",
   "metadata": {},
   "outputs": [],
   "source": [
    "df[['age', 'sex']] = df[['age', 'sex']].astype('int')"
   ]
  },
  {
   "cell_type": "code",
   "execution_count": 7,
   "id": "c8468d75",
   "metadata": {},
   "outputs": [
    {
     "name": "stdout",
     "output_type": "stream",
     "text": [
      "<class 'pandas.core.frame.DataFrame'>\n",
      "Int64Index: 26058 entries, 0 to 26082\n",
      "Data columns (total 14 columns):\n",
      " #   Column    Non-Null Count  Dtype  \n",
      "---  ------    --------------  -----  \n",
      " 0   age       26058 non-null  int32  \n",
      " 1   sex       26058 non-null  int32  \n",
      " 2   cp        26058 non-null  int64  \n",
      " 3   trestbps  26058 non-null  int64  \n",
      " 4   chol      26058 non-null  int64  \n",
      " 5   fbs       26058 non-null  int64  \n",
      " 6   restecg   26058 non-null  int64  \n",
      " 7   thalach   26058 non-null  int64  \n",
      " 8   exang     26058 non-null  int64  \n",
      " 9   oldpeak   26058 non-null  float64\n",
      " 10  slope     26058 non-null  int64  \n",
      " 11  ca        26058 non-null  int64  \n",
      " 12  thal      26058 non-null  int64  \n",
      " 13  target    26058 non-null  int64  \n",
      "dtypes: float64(1), int32(2), int64(11)\n",
      "memory usage: 2.8 MB\n"
     ]
    }
   ],
   "source": [
    "df.info()"
   ]
  },
  {
   "cell_type": "code",
   "execution_count": 8,
   "id": "a6be20f5",
   "metadata": {
    "scrolled": false
   },
   "outputs": [
    {
     "data": {
      "text/html": [
       "<div>\n",
       "<style scoped>\n",
       "    .dataframe tbody tr th:only-of-type {\n",
       "        vertical-align: middle;\n",
       "    }\n",
       "\n",
       "    .dataframe tbody tr th {\n",
       "        vertical-align: top;\n",
       "    }\n",
       "\n",
       "    .dataframe thead th {\n",
       "        text-align: right;\n",
       "    }\n",
       "</style>\n",
       "<table border=\"1\" class=\"dataframe\">\n",
       "  <thead>\n",
       "    <tr style=\"text-align: right;\">\n",
       "      <th></th>\n",
       "      <th>age</th>\n",
       "      <th>sex</th>\n",
       "      <th>cp</th>\n",
       "      <th>trestbps</th>\n",
       "      <th>chol</th>\n",
       "      <th>fbs</th>\n",
       "      <th>restecg</th>\n",
       "      <th>thalach</th>\n",
       "      <th>exang</th>\n",
       "      <th>oldpeak</th>\n",
       "      <th>slope</th>\n",
       "      <th>ca</th>\n",
       "      <th>thal</th>\n",
       "      <th>target</th>\n",
       "    </tr>\n",
       "  </thead>\n",
       "  <tbody>\n",
       "    <tr>\n",
       "      <th>count</th>\n",
       "      <td>26058.000000</td>\n",
       "      <td>26058.00000</td>\n",
       "      <td>26058.000000</td>\n",
       "      <td>26058.000000</td>\n",
       "      <td>26058.000000</td>\n",
       "      <td>26058.000000</td>\n",
       "      <td>26058.000000</td>\n",
       "      <td>26058.000000</td>\n",
       "      <td>26058.000000</td>\n",
       "      <td>26058.000000</td>\n",
       "      <td>26058.000000</td>\n",
       "      <td>26058.000000</td>\n",
       "      <td>26058.000000</td>\n",
       "      <td>26058.000000</td>\n",
       "    </tr>\n",
       "    <tr>\n",
       "      <th>mean</th>\n",
       "      <td>55.655730</td>\n",
       "      <td>0.50000</td>\n",
       "      <td>0.956635</td>\n",
       "      <td>131.590682</td>\n",
       "      <td>246.286591</td>\n",
       "      <td>0.149896</td>\n",
       "      <td>0.526057</td>\n",
       "      <td>149.643181</td>\n",
       "      <td>0.326886</td>\n",
       "      <td>1.039742</td>\n",
       "      <td>1.399724</td>\n",
       "      <td>0.720623</td>\n",
       "      <td>2.319057</td>\n",
       "      <td>0.547778</td>\n",
       "    </tr>\n",
       "    <tr>\n",
       "      <th>std</th>\n",
       "      <td>15.190407</td>\n",
       "      <td>0.50001</td>\n",
       "      <td>1.022467</td>\n",
       "      <td>17.597086</td>\n",
       "      <td>51.651701</td>\n",
       "      <td>0.356977</td>\n",
       "      <td>0.525688</td>\n",
       "      <td>22.865871</td>\n",
       "      <td>0.469084</td>\n",
       "      <td>1.165673</td>\n",
       "      <td>0.616529</td>\n",
       "      <td>1.011317</td>\n",
       "      <td>0.604868</td>\n",
       "      <td>0.497722</td>\n",
       "    </tr>\n",
       "    <tr>\n",
       "      <th>min</th>\n",
       "      <td>11.000000</td>\n",
       "      <td>0.00000</td>\n",
       "      <td>0.000000</td>\n",
       "      <td>94.000000</td>\n",
       "      <td>126.000000</td>\n",
       "      <td>0.000000</td>\n",
       "      <td>0.000000</td>\n",
       "      <td>71.000000</td>\n",
       "      <td>0.000000</td>\n",
       "      <td>0.000000</td>\n",
       "      <td>0.000000</td>\n",
       "      <td>0.000000</td>\n",
       "      <td>0.000000</td>\n",
       "      <td>0.000000</td>\n",
       "    </tr>\n",
       "    <tr>\n",
       "      <th>25%</th>\n",
       "      <td>44.000000</td>\n",
       "      <td>0.00000</td>\n",
       "      <td>0.000000</td>\n",
       "      <td>120.000000</td>\n",
       "      <td>211.000000</td>\n",
       "      <td>0.000000</td>\n",
       "      <td>0.000000</td>\n",
       "      <td>133.000000</td>\n",
       "      <td>0.000000</td>\n",
       "      <td>0.000000</td>\n",
       "      <td>1.000000</td>\n",
       "      <td>0.000000</td>\n",
       "      <td>2.000000</td>\n",
       "      <td>0.000000</td>\n",
       "    </tr>\n",
       "    <tr>\n",
       "      <th>50%</th>\n",
       "      <td>56.000000</td>\n",
       "      <td>0.50000</td>\n",
       "      <td>1.000000</td>\n",
       "      <td>130.000000</td>\n",
       "      <td>240.000000</td>\n",
       "      <td>0.000000</td>\n",
       "      <td>1.000000</td>\n",
       "      <td>153.000000</td>\n",
       "      <td>0.000000</td>\n",
       "      <td>0.800000</td>\n",
       "      <td>1.000000</td>\n",
       "      <td>0.000000</td>\n",
       "      <td>2.000000</td>\n",
       "      <td>1.000000</td>\n",
       "    </tr>\n",
       "    <tr>\n",
       "      <th>75%</th>\n",
       "      <td>67.000000</td>\n",
       "      <td>1.00000</td>\n",
       "      <td>2.000000</td>\n",
       "      <td>140.000000</td>\n",
       "      <td>275.000000</td>\n",
       "      <td>0.000000</td>\n",
       "      <td>1.000000</td>\n",
       "      <td>166.000000</td>\n",
       "      <td>1.000000</td>\n",
       "      <td>1.600000</td>\n",
       "      <td>2.000000</td>\n",
       "      <td>1.000000</td>\n",
       "      <td>3.000000</td>\n",
       "      <td>1.000000</td>\n",
       "    </tr>\n",
       "    <tr>\n",
       "      <th>max</th>\n",
       "      <td>98.000000</td>\n",
       "      <td>1.00000</td>\n",
       "      <td>3.000000</td>\n",
       "      <td>200.000000</td>\n",
       "      <td>564.000000</td>\n",
       "      <td>1.000000</td>\n",
       "      <td>2.000000</td>\n",
       "      <td>202.000000</td>\n",
       "      <td>1.000000</td>\n",
       "      <td>6.200000</td>\n",
       "      <td>2.000000</td>\n",
       "      <td>4.000000</td>\n",
       "      <td>3.000000</td>\n",
       "      <td>1.000000</td>\n",
       "    </tr>\n",
       "  </tbody>\n",
       "</table>\n",
       "</div>"
      ],
      "text/plain": [
       "                age          sex            cp      trestbps          chol  \\\n",
       "count  26058.000000  26058.00000  26058.000000  26058.000000  26058.000000   \n",
       "mean      55.655730      0.50000      0.956635    131.590682    246.286591   \n",
       "std       15.190407      0.50001      1.022467     17.597086     51.651701   \n",
       "min       11.000000      0.00000      0.000000     94.000000    126.000000   \n",
       "25%       44.000000      0.00000      0.000000    120.000000    211.000000   \n",
       "50%       56.000000      0.50000      1.000000    130.000000    240.000000   \n",
       "75%       67.000000      1.00000      2.000000    140.000000    275.000000   \n",
       "max       98.000000      1.00000      3.000000    200.000000    564.000000   \n",
       "\n",
       "                fbs       restecg       thalach         exang       oldpeak  \\\n",
       "count  26058.000000  26058.000000  26058.000000  26058.000000  26058.000000   \n",
       "mean       0.149896      0.526057    149.643181      0.326886      1.039742   \n",
       "std        0.356977      0.525688     22.865871      0.469084      1.165673   \n",
       "min        0.000000      0.000000     71.000000      0.000000      0.000000   \n",
       "25%        0.000000      0.000000    133.000000      0.000000      0.000000   \n",
       "50%        0.000000      1.000000    153.000000      0.000000      0.800000   \n",
       "75%        0.000000      1.000000    166.000000      1.000000      1.600000   \n",
       "max        1.000000      2.000000    202.000000      1.000000      6.200000   \n",
       "\n",
       "              slope            ca          thal        target  \n",
       "count  26058.000000  26058.000000  26058.000000  26058.000000  \n",
       "mean       1.399724      0.720623      2.319057      0.547778  \n",
       "std        0.616529      1.011317      0.604868      0.497722  \n",
       "min        0.000000      0.000000      0.000000      0.000000  \n",
       "25%        1.000000      0.000000      2.000000      0.000000  \n",
       "50%        1.000000      0.000000      2.000000      1.000000  \n",
       "75%        2.000000      1.000000      3.000000      1.000000  \n",
       "max        2.000000      4.000000      3.000000      1.000000  "
      ]
     },
     "execution_count": 8,
     "metadata": {},
     "output_type": "execute_result"
    }
   ],
   "source": [
    "df.describe()"
   ]
  },
  {
   "cell_type": "markdown",
   "id": "f75719a3",
   "metadata": {},
   "source": [
    "Проверим целевой признак на предмет баланса признаков"
   ]
  },
  {
   "cell_type": "code",
   "execution_count": 9,
   "id": "f9a9556d",
   "metadata": {
    "scrolled": true
   },
   "outputs": [
    {
     "data": {
      "text/plain": [
       "1    14274\n",
       "0    11784\n",
       "Name: target, dtype: int64"
      ]
     },
     "execution_count": 9,
     "metadata": {},
     "output_type": "execute_result"
    }
   ],
   "source": [
    "df['target'].value_counts()"
   ]
  },
  {
   "cell_type": "code",
   "execution_count": 10,
   "id": "6e7cc895",
   "metadata": {
    "scrolled": true
   },
   "outputs": [
    {
     "data": {
      "text/plain": [
       "(-1.25, 1.25, -1.25, 1.25)"
      ]
     },
     "execution_count": 10,
     "metadata": {},
     "output_type": "execute_result"
    },
    {
     "data": {
      "image/png": "[encoded data removed]",
      "text/plain": [
       "<Figure size 400x400 with 1 Axes>"
      ]
     },
     "metadata": {},
     "output_type": "display_data"
    }
   ],
   "source": [
    "df.target.value_counts().plot(kind='pie', autopct='%1.1f%%', figsize=(4, 4))\n",
    "plt.title('target')\n",
    "plt.tight_layout()\n",
    "plt.axis('off')"
   ]
  },
  {
   "cell_type": "markdown",
   "id": "8f4f39fd",
   "metadata": {},
   "source": [
    "Мы видим допустимое соотношение больных к здоровым, дисбаланс отсутствует"
   ]
  },
  {
   "cell_type": "markdown",
   "id": "c4b45703",
   "metadata": {},
   "source": [
    "## Предобработка данных"
   ]
  },
  {
   "cell_type": "markdown",
   "id": "5cc27c47",
   "metadata": {},
   "source": [
    "Разберем каждый столбец по отдельностии исследуем на предмет выбросов"
   ]
  },
  {
   "cell_type": "markdown",
   "id": "417894ee",
   "metadata": {},
   "source": [
    "### 1. age (возраст)"
   ]
  },
  {
   "cell_type": "code",
   "execution_count": 11,
   "id": "deef13d1",
   "metadata": {},
   "outputs": [
    {
     "data": {
      "text/plain": [
       "count    26058.000000\n",
       "mean        55.655730\n",
       "std         15.190407\n",
       "min         11.000000\n",
       "25%         44.000000\n",
       "50%         56.000000\n",
       "75%         67.000000\n",
       "max         98.000000\n",
       "Name: age, dtype: float64"
      ]
     },
     "execution_count": 11,
     "metadata": {},
     "output_type": "execute_result"
    }
   ],
   "source": [
    "df['age'].describe()"
   ]
  },
  {
   "cell_type": "code",
   "execution_count": 12,
   "id": "4ed78ab0",
   "metadata": {},
   "outputs": [
    {
     "data": {
      "text/plain": [
       "<Axes: >"
      ]
     },
     "execution_count": 12,
     "metadata": {},
     "output_type": "execute_result"
    },
    {
     "data": {
      "image/png": "[encoded data removed]",
      "text/plain": [
       "<Figure size 300x300 with 1 Axes>"
      ]
     },
     "metadata": {},
     "output_type": "display_data"
    }
   ],
   "source": [
    "df['age'].hist(figsize=(3, 3))"
   ]
  },
  {
   "cell_type": "markdown",
   "id": "1f006ebe",
   "metadata": {},
   "source": [
    "### 2. sex (пол)"
   ]
  },
  {
   "cell_type": "code",
   "execution_count": 13,
   "id": "01c91f3f",
   "metadata": {},
   "outputs": [
    {
     "data": {
      "text/plain": [
       "1    13029\n",
       "0    13029\n",
       "Name: sex, dtype: int64"
      ]
     },
     "execution_count": 13,
     "metadata": {},
     "output_type": "execute_result"
    }
   ],
   "source": [
    "df['sex'].value_counts()"
   ]
  },
  {
   "cell_type": "code",
   "execution_count": 14,
   "id": "273f8d8b",
   "metadata": {},
   "outputs": [
    {
     "data": {
      "text/plain": [
       "(-1.25, 1.25, -1.25, 1.25)"
      ]
     },
     "execution_count": 14,
     "metadata": {},
     "output_type": "execute_result"
    },
    {
     "data": {
      "image/png": "[encoded data removed]",
      "text/plain": [
       "<Figure size 400x400 with 1 Axes>"
      ]
     },
     "metadata": {},
     "output_type": "display_data"
    }
   ],
   "source": [
    "df.sex.value_counts().plot(kind='pie', autopct='%1.1f%%', figsize=(4, 4))\n",
    "plt.title('sex')\n",
    "plt.tight_layout()\n",
    "plt.axis('off')"
   ]
  },
  {
   "cell_type": "markdown",
   "id": "69b8b50f",
   "metadata": {},
   "source": [
    "### 3. cp (Тип боли в груди)"
   ]
  },
  {
   "cell_type": "code",
   "execution_count": 15,
   "id": "b5a36638",
   "metadata": {},
   "outputs": [
    {
     "data": {
      "text/plain": [
       "0    12314\n",
       "2     7392\n",
       "1     4456\n",
       "3     1896\n",
       "Name: cp, dtype: int64"
      ]
     },
     "execution_count": 15,
     "metadata": {},
     "output_type": "execute_result"
    }
   ],
   "source": [
    "df['cp'].value_counts()"
   ]
  },
  {
   "cell_type": "code",
   "execution_count": 16,
   "id": "ea35827d",
   "metadata": {},
   "outputs": [
    {
     "data": {
      "text/plain": [
       "(-1.25, 1.25, -1.25, 1.25)"
      ]
     },
     "execution_count": 16,
     "metadata": {},
     "output_type": "execute_result"
    },
    {
     "data": {
      "image/png": "[encoded data removed]",
      "text/plain": [
       "<Figure size 400x400 with 1 Axes>"
      ]
     },
     "metadata": {},
     "output_type": "display_data"
    }
   ],
   "source": [
    "df.cp.value_counts().plot(kind='pie', autopct='%1.1f%%', figsize = (4, 4))\n",
    "plt.title('cp')\n",
    "plt.tight_layout()\n",
    "plt.axis('off')"
   ]
  },
  {
   "cell_type": "markdown",
   "id": "b6fa4c38",
   "metadata": {},
   "source": [
    "### 4. trestbps (кровяное давление в  состоянии покоя)"
   ]
  },
  {
   "cell_type": "code",
   "execution_count": 17,
   "id": "0224c47b",
   "metadata": {},
   "outputs": [
    {
     "data": {
      "text/plain": [
       "<Axes: >"
      ]
     },
     "execution_count": 17,
     "metadata": {},
     "output_type": "execute_result"
    },
    {
     "data": {
      "image/png": "[encoded data removed]",
      "text/plain": [
       "<Figure size 400x400 with 1 Axes>"
      ]
     },
     "metadata": {},
     "output_type": "display_data"
    }
   ],
   "source": [
    "df['trestbps'].hist(figsize=(4, 4))"
   ]
  },
  {
   "cell_type": "markdown",
   "id": "fa83fe08",
   "metadata": {},
   "source": [
    "### 5. chol (уровень холестерина в сыворотке крови (мг/дл))"
   ]
  },
  {
   "cell_type": "code",
   "execution_count": 18,
   "id": "0369062b",
   "metadata": {
    "scrolled": true
   },
   "outputs": [
    {
     "data": {
      "text/plain": [
       "<Axes: >"
      ]
     },
     "execution_count": 18,
     "metadata": {},
     "output_type": "execute_result"
    },
    {
     "data": {
      "image/png": "[encoded data removed]",
      "text/plain": [
       "<Figure size 400x400 with 1 Axes>"
      ]
     },
     "metadata": {},
     "output_type": "display_data"
    }
   ],
   "source": [
    "df['chol'].hist(figsize=(4, 4))"
   ]
  },
  {
   "cell_type": "code",
   "execution_count": 19,
   "id": "0dd12d68",
   "metadata": {
    "scrolled": true
   },
   "outputs": [
    {
     "data": {
      "text/plain": [
       "count    26058.000000\n",
       "mean       246.286591\n",
       "std         51.651701\n",
       "min        126.000000\n",
       "25%        211.000000\n",
       "50%        240.000000\n",
       "75%        275.000000\n",
       "max        564.000000\n",
       "Name: chol, dtype: float64"
      ]
     },
     "execution_count": 19,
     "metadata": {},
     "output_type": "execute_result"
    }
   ],
   "source": [
    "df['chol'].describe()"
   ]
  },
  {
   "cell_type": "code",
   "execution_count": 20,
   "id": "d0fbf9dc",
   "metadata": {
    "scrolled": true
   },
   "outputs": [
    {
     "data": {
      "text/html": [
       "<div>\n",
       "<style scoped>\n",
       "    .dataframe tbody tr th:only-of-type {\n",
       "        vertical-align: middle;\n",
       "    }\n",
       "\n",
       "    .dataframe tbody tr th {\n",
       "        vertical-align: top;\n",
       "    }\n",
       "\n",
       "    .dataframe thead th {\n",
       "        text-align: right;\n",
       "    }\n",
       "</style>\n",
       "<table border=\"1\" class=\"dataframe\">\n",
       "  <thead>\n",
       "    <tr style=\"text-align: right;\">\n",
       "      <th></th>\n",
       "      <th>age</th>\n",
       "      <th>sex</th>\n",
       "      <th>cp</th>\n",
       "      <th>trestbps</th>\n",
       "      <th>chol</th>\n",
       "      <th>fbs</th>\n",
       "      <th>restecg</th>\n",
       "      <th>thalach</th>\n",
       "      <th>exang</th>\n",
       "      <th>oldpeak</th>\n",
       "      <th>slope</th>\n",
       "      <th>ca</th>\n",
       "      <th>thal</th>\n",
       "      <th>target</th>\n",
       "    </tr>\n",
       "  </thead>\n",
       "  <tbody>\n",
       "    <tr>\n",
       "      <th>4</th>\n",
       "      <td>66</td>\n",
       "      <td>0</td>\n",
       "      <td>0</td>\n",
       "      <td>120</td>\n",
       "      <td>354</td>\n",
       "      <td>0</td>\n",
       "      <td>1</td>\n",
       "      <td>163</td>\n",
       "      <td>1</td>\n",
       "      <td>0.6</td>\n",
       "      <td>2</td>\n",
       "      <td>0</td>\n",
       "      <td>2</td>\n",
       "      <td>1</td>\n",
       "    </tr>\n",
       "    <tr>\n",
       "      <th>28</th>\n",
       "      <td>34</td>\n",
       "      <td>1</td>\n",
       "      <td>2</td>\n",
       "      <td>140</td>\n",
       "      <td>417</td>\n",
       "      <td>1</td>\n",
       "      <td>0</td>\n",
       "      <td>157</td>\n",
       "      <td>0</td>\n",
       "      <td>0.8</td>\n",
       "      <td>2</td>\n",
       "      <td>1</td>\n",
       "      <td>2</td>\n",
       "      <td>1</td>\n",
       "    </tr>\n",
       "    <tr>\n",
       "      <th>39</th>\n",
       "      <td>67</td>\n",
       "      <td>0</td>\n",
       "      <td>2</td>\n",
       "      <td>160</td>\n",
       "      <td>360</td>\n",
       "      <td>0</td>\n",
       "      <td>0</td>\n",
       "      <td>151</td>\n",
       "      <td>0</td>\n",
       "      <td>0.8</td>\n",
       "      <td>2</td>\n",
       "      <td>0</td>\n",
       "      <td>2</td>\n",
       "      <td>1</td>\n",
       "    </tr>\n",
       "    <tr>\n",
       "      <th>85</th>\n",
       "      <td>54</td>\n",
       "      <td>0</td>\n",
       "      <td>2</td>\n",
       "      <td>115</td>\n",
       "      <td>564</td>\n",
       "      <td>0</td>\n",
       "      <td>0</td>\n",
       "      <td>160</td>\n",
       "      <td>0</td>\n",
       "      <td>1.6</td>\n",
       "      <td>1</td>\n",
       "      <td>0</td>\n",
       "      <td>3</td>\n",
       "      <td>1</td>\n",
       "    </tr>\n",
       "    <tr>\n",
       "      <th>96</th>\n",
       "      <td>60</td>\n",
       "      <td>0</td>\n",
       "      <td>0</td>\n",
       "      <td>140</td>\n",
       "      <td>394</td>\n",
       "      <td>0</td>\n",
       "      <td>0</td>\n",
       "      <td>157</td>\n",
       "      <td>0</td>\n",
       "      <td>1.2</td>\n",
       "      <td>1</td>\n",
       "      <td>0</td>\n",
       "      <td>2</td>\n",
       "      <td>1</td>\n",
       "    </tr>\n",
       "    <tr>\n",
       "      <th>...</th>\n",
       "      <td>...</td>\n",
       "      <td>...</td>\n",
       "      <td>...</td>\n",
       "      <td>...</td>\n",
       "      <td>...</td>\n",
       "      <td>...</td>\n",
       "      <td>...</td>\n",
       "      <td>...</td>\n",
       "      <td>...</td>\n",
       "      <td>...</td>\n",
       "      <td>...</td>\n",
       "      <td>...</td>\n",
       "      <td>...</td>\n",
       "      <td>...</td>\n",
       "    </tr>\n",
       "    <tr>\n",
       "      <th>25976</th>\n",
       "      <td>75</td>\n",
       "      <td>0</td>\n",
       "      <td>2</td>\n",
       "      <td>140</td>\n",
       "      <td>417</td>\n",
       "      <td>1</td>\n",
       "      <td>0</td>\n",
       "      <td>157</td>\n",
       "      <td>0</td>\n",
       "      <td>0.8</td>\n",
       "      <td>2</td>\n",
       "      <td>1</td>\n",
       "      <td>2</td>\n",
       "      <td>1</td>\n",
       "    </tr>\n",
       "    <tr>\n",
       "      <th>25985</th>\n",
       "      <td>72</td>\n",
       "      <td>1</td>\n",
       "      <td>0</td>\n",
       "      <td>140</td>\n",
       "      <td>394</td>\n",
       "      <td>0</td>\n",
       "      <td>0</td>\n",
       "      <td>157</td>\n",
       "      <td>0</td>\n",
       "      <td>1.2</td>\n",
       "      <td>1</td>\n",
       "      <td>0</td>\n",
       "      <td>2</td>\n",
       "      <td>1</td>\n",
       "    </tr>\n",
       "    <tr>\n",
       "      <th>26019</th>\n",
       "      <td>73</td>\n",
       "      <td>1</td>\n",
       "      <td>0</td>\n",
       "      <td>150</td>\n",
       "      <td>407</td>\n",
       "      <td>0</td>\n",
       "      <td>0</td>\n",
       "      <td>154</td>\n",
       "      <td>0</td>\n",
       "      <td>4.0</td>\n",
       "      <td>1</td>\n",
       "      <td>3</td>\n",
       "      <td>3</td>\n",
       "      <td>0</td>\n",
       "    </tr>\n",
       "    <tr>\n",
       "      <th>26049</th>\n",
       "      <td>75</td>\n",
       "      <td>0</td>\n",
       "      <td>2</td>\n",
       "      <td>160</td>\n",
       "      <td>360</td>\n",
       "      <td>0</td>\n",
       "      <td>0</td>\n",
       "      <td>151</td>\n",
       "      <td>0</td>\n",
       "      <td>0.8</td>\n",
       "      <td>2</td>\n",
       "      <td>0</td>\n",
       "      <td>2</td>\n",
       "      <td>1</td>\n",
       "    </tr>\n",
       "    <tr>\n",
       "      <th>26058</th>\n",
       "      <td>72</td>\n",
       "      <td>0</td>\n",
       "      <td>0</td>\n",
       "      <td>140</td>\n",
       "      <td>394</td>\n",
       "      <td>0</td>\n",
       "      <td>0</td>\n",
       "      <td>157</td>\n",
       "      <td>0</td>\n",
       "      <td>1.2</td>\n",
       "      <td>1</td>\n",
       "      <td>0</td>\n",
       "      <td>2</td>\n",
       "      <td>1</td>\n",
       "    </tr>\n",
       "  </tbody>\n",
       "</table>\n",
       "<p>692 rows × 14 columns</p>\n",
       "</div>"
      ],
      "text/plain": [
       "       age  sex  cp  trestbps  chol  fbs  restecg  thalach  exang  oldpeak  \\\n",
       "4       66    0   0       120   354    0        1      163      1      0.6   \n",
       "28      34    1   2       140   417    1        0      157      0      0.8   \n",
       "39      67    0   2       160   360    0        0      151      0      0.8   \n",
       "85      54    0   2       115   564    0        0      160      0      1.6   \n",
       "96      60    0   0       140   394    0        0      157      0      1.2   \n",
       "...    ...  ...  ..       ...   ...  ...      ...      ...    ...      ...   \n",
       "25976   75    0   2       140   417    1        0      157      0      0.8   \n",
       "25985   72    1   0       140   394    0        0      157      0      1.2   \n",
       "26019   73    1   0       150   407    0        0      154      0      4.0   \n",
       "26049   75    0   2       160   360    0        0      151      0      0.8   \n",
       "26058   72    0   0       140   394    0        0      157      0      1.2   \n",
       "\n",
       "       slope  ca  thal  target  \n",
       "4          2   0     2       1  \n",
       "28         2   1     2       1  \n",
       "39         2   0     2       1  \n",
       "85         1   0     3       1  \n",
       "96         1   0     2       1  \n",
       "...      ...  ..   ...     ...  \n",
       "25976      2   1     2       1  \n",
       "25985      1   0     2       1  \n",
       "26019      1   3     3       0  \n",
       "26049      2   0     2       1  \n",
       "26058      1   0     2       1  \n",
       "\n",
       "[692 rows x 14 columns]"
      ]
     },
     "execution_count": 20,
     "metadata": {},
     "output_type": "execute_result"
    }
   ],
   "source": [
    "df[df['chol'] > 350]"
   ]
  },
  {
   "cell_type": "code",
   "execution_count": 21,
   "id": "fcc818c7",
   "metadata": {},
   "outputs": [],
   "source": [
    "#df = df[df['chol'] <= 350]\n",
    "#df.info()"
   ]
  },
  {
   "cell_type": "markdown",
   "id": "2875881e",
   "metadata": {},
   "source": [
    "### 6. fbs (Уровень сахара в крови натощак(> 120 mg/dL))"
   ]
  },
  {
   "cell_type": "code",
   "execution_count": 22,
   "id": "b8eed882",
   "metadata": {},
   "outputs": [
    {
     "data": {
      "text/plain": [
       "count    26058.000000\n",
       "mean         0.149896\n",
       "std          0.356977\n",
       "min          0.000000\n",
       "25%          0.000000\n",
       "50%          0.000000\n",
       "75%          0.000000\n",
       "max          1.000000\n",
       "Name: fbs, dtype: float64"
      ]
     },
     "execution_count": 22,
     "metadata": {},
     "output_type": "execute_result"
    }
   ],
   "source": [
    "df['fbs'].describe()"
   ]
  },
  {
   "cell_type": "code",
   "execution_count": 23,
   "id": "5a2454f9",
   "metadata": {
    "scrolled": true
   },
   "outputs": [
    {
     "data": {
      "text/plain": [
       "(-1.25, 1.25, -1.25, 1.25)"
      ]
     },
     "execution_count": 23,
     "metadata": {},
     "output_type": "execute_result"
    },
    {
     "data": {
      "image/png": "[encoded data removed]",
      "text/plain": [
       "<Figure size 400x400 with 1 Axes>"
      ]
     },
     "metadata": {},
     "output_type": "display_data"
    }
   ],
   "source": [
    "df.fbs.value_counts().plot(kind='pie', autopct='%1.1f%%', figsize=(4,4))\n",
    "plt.title('fbs')\n",
    "plt.tight_layout()\n",
    "plt.axis('off')"
   ]
  },
  {
   "cell_type": "markdown",
   "id": "c9a73771",
   "metadata": {},
   "source": [
    "### 7. restecg (Результаты электрокардиографии в состоянии покоя(0-Обычный; 1-Аномальная волна ST-T; 2-Наличие вероятной или определенной гипертрофии левого желудочка))"
   ]
  },
  {
   "cell_type": "code",
   "execution_count": 24,
   "id": "c7ed7bc6",
   "metadata": {},
   "outputs": [
    {
     "data": {
      "text/plain": [
       "1    13004\n",
       "0    12702\n",
       "2      352\n",
       "Name: restecg, dtype: int64"
      ]
     },
     "execution_count": 24,
     "metadata": {},
     "output_type": "execute_result"
    }
   ],
   "source": [
    "df['restecg'].value_counts()"
   ]
  },
  {
   "cell_type": "code",
   "execution_count": 25,
   "id": "290d2b4c",
   "metadata": {},
   "outputs": [
    {
     "data": {
      "text/plain": [
       "(-1.25, 1.25, -1.25, 1.25)"
      ]
     },
     "execution_count": 25,
     "metadata": {},
     "output_type": "execute_result"
    },
    {
     "data": {
      "image/png": "[encoded data removed]",
      "text/plain": [
       "<Figure size 400x400 with 1 Axes>"
      ]
     },
     "metadata": {},
     "output_type": "display_data"
    }
   ],
   "source": [
    "df.restecg.value_counts().plot(kind='pie', autopct='%1.1f%%', figsize=(4,4))\n",
    "plt.title('restecg')\n",
    "plt.tight_layout()\n",
    "plt.axis('off')"
   ]
  },
  {
   "cell_type": "markdown",
   "id": "63e6873b",
   "metadata": {},
   "source": [
    "### 8. thalach (Достигнутая максимальная частота сердечных сокращений (ударов в минуту))"
   ]
  },
  {
   "cell_type": "code",
   "execution_count": 26,
   "id": "5517ac84",
   "metadata": {},
   "outputs": [
    {
     "data": {
      "text/plain": [
       "count    26058.000000\n",
       "mean       149.643181\n",
       "std         22.865871\n",
       "min         71.000000\n",
       "25%        133.000000\n",
       "50%        153.000000\n",
       "75%        166.000000\n",
       "max        202.000000\n",
       "Name: thalach, dtype: float64"
      ]
     },
     "execution_count": 26,
     "metadata": {},
     "output_type": "execute_result"
    }
   ],
   "source": [
    "df['thalach'].describe()"
   ]
  },
  {
   "cell_type": "code",
   "execution_count": 27,
   "id": "59e5254c",
   "metadata": {},
   "outputs": [
    {
     "data": {
      "text/plain": [
       "<Axes: >"
      ]
     },
     "execution_count": 27,
     "metadata": {},
     "output_type": "execute_result"
    },
    {
     "data": {
      "image/png": "[encoded data removed]",
      "text/plain": [
       "<Figure size 400x400 with 1 Axes>"
      ]
     },
     "metadata": {},
     "output_type": "display_data"
    }
   ],
   "source": [
    "df['thalach'].hist(figsize=(4,4))"
   ]
  },
  {
   "cell_type": "markdown",
   "id": "c58441c4",
   "metadata": {},
   "source": [
    "### 9. exang (Стенокардия, вызванная физической нагрузкой (0-Отрицательный, 1-Положительный)"
   ]
  },
  {
   "cell_type": "code",
   "execution_count": 28,
   "id": "36d3abd7",
   "metadata": {},
   "outputs": [
    {
     "data": {
      "text/plain": [
       "0    17540\n",
       "1     8518\n",
       "Name: exang, dtype: int64"
      ]
     },
     "execution_count": 28,
     "metadata": {},
     "output_type": "execute_result"
    }
   ],
   "source": [
    "df['exang'].value_counts()"
   ]
  },
  {
   "cell_type": "code",
   "execution_count": 29,
   "id": "bdcc8354",
   "metadata": {},
   "outputs": [
    {
     "data": {
      "text/plain": [
       "(-1.25, 1.25, -1.25, 1.25)"
      ]
     },
     "execution_count": 29,
     "metadata": {},
     "output_type": "execute_result"
    },
    {
     "data": {
      "image/png": "[encoded data removed]",
      "text/plain": [
       "<Figure size 400x400 with 1 Axes>"
      ]
     },
     "metadata": {},
     "output_type": "display_data"
    }
   ],
   "source": [
    "df.exang.value_counts().plot(kind='pie', autopct='%1.1f%%', figsize=(4,4))\n",
    "plt.title('exang')\n",
    "plt.tight_layout()\n",
    "plt.axis('off')"
   ]
  },
  {
   "cell_type": "markdown",
   "id": "4cc860f8",
   "metadata": {},
   "source": [
    "### 10. oldpeak (депрессия ST, вызванная физической нагрузкой по сравнению с отдыхом)"
   ]
  },
  {
   "cell_type": "code",
   "execution_count": 30,
   "id": "3fa0d29a",
   "metadata": {},
   "outputs": [
    {
     "data": {
      "text/plain": [
       "count    26058.000000\n",
       "mean         1.039742\n",
       "std          1.165673\n",
       "min          0.000000\n",
       "25%          0.000000\n",
       "50%          0.800000\n",
       "75%          1.600000\n",
       "max          6.200000\n",
       "Name: oldpeak, dtype: float64"
      ]
     },
     "execution_count": 30,
     "metadata": {},
     "output_type": "execute_result"
    }
   ],
   "source": [
    "df['oldpeak'].describe()"
   ]
  },
  {
   "cell_type": "code",
   "execution_count": 31,
   "id": "2a83a7e2",
   "metadata": {},
   "outputs": [
    {
     "data": {
      "text/plain": [
       "<Axes: >"
      ]
     },
     "execution_count": 31,
     "metadata": {},
     "output_type": "execute_result"
    },
    {
     "data": {
      "image/png": "[encoded data removed]",
      "text/plain": [
       "<Figure size 400x400 with 1 Axes>"
      ]
     },
     "metadata": {},
     "output_type": "display_data"
    }
   ],
   "source": [
    "df['oldpeak'].hist(figsize=(4,4))"
   ]
  },
  {
   "cell_type": "markdown",
   "id": "275562bd",
   "metadata": {},
   "source": [
    "### 11. slope (наклон сегмента ST пикового упражнения - 0-Подъем по склону, 1-Горизонтальный, 2-Нисходящий уклон)"
   ]
  },
  {
   "cell_type": "code",
   "execution_count": 32,
   "id": "e8b27085",
   "metadata": {},
   "outputs": [
    {
     "data": {
      "text/plain": [
       "2    12242\n",
       "1    11990\n",
       "0     1826\n",
       "Name: slope, dtype: int64"
      ]
     },
     "execution_count": 32,
     "metadata": {},
     "output_type": "execute_result"
    }
   ],
   "source": [
    "df['slope'].value_counts()"
   ]
  },
  {
   "cell_type": "code",
   "execution_count": 33,
   "id": "41c53041",
   "metadata": {},
   "outputs": [
    {
     "data": {
      "text/plain": [
       "(-1.25, 1.25, -1.25, 1.25)"
      ]
     },
     "execution_count": 33,
     "metadata": {},
     "output_type": "execute_result"
    },
    {
     "data": {
      "image/png": "[encoded data removed]",
      "text/plain": [
       "<Figure size 400x400 with 1 Axes>"
      ]
     },
     "metadata": {},
     "output_type": "display_data"
    }
   ],
   "source": [
    "df.slope.value_counts().plot(kind='pie', autopct='%1.1f%%', figsize=(4,4))\n",
    "plt.title('slope')\n",
    "plt.tight_layout()\n",
    "plt.axis('off')"
   ]
  },
  {
   "cell_type": "markdown",
   "id": "09a67a0b",
   "metadata": {},
   "source": [
    "### 12. ca (количество крупных сосудов (0-3), окрашенная при рентгеноскопии. Через них проходят окрашенные кровеносные сосуды. Если кровеносный сосуд не окрашен, образуется тромб)"
   ]
  },
  {
   "cell_type": "code",
   "execution_count": 34,
   "id": "1e232c85",
   "metadata": {},
   "outputs": [
    {
     "data": {
      "text/plain": [
       "0    15146\n",
       "1     5514\n",
       "2     3298\n",
       "3     1732\n",
       "4      368\n",
       "Name: ca, dtype: int64"
      ]
     },
     "execution_count": 34,
     "metadata": {},
     "output_type": "execute_result"
    }
   ],
   "source": [
    "df['ca'].value_counts()"
   ]
  },
  {
   "cell_type": "code",
   "execution_count": 35,
   "id": "2dc12b31",
   "metadata": {},
   "outputs": [
    {
     "data": {
      "text/plain": [
       "<Axes: >"
      ]
     },
     "execution_count": 35,
     "metadata": {},
     "output_type": "execute_result"
    },
    {
     "data": {
      "image/png": "[encoded data removed]",
      "text/plain": [
       "<Figure size 400x400 with 1 Axes>"
      ]
     },
     "metadata": {},
     "output_type": "display_data"
    }
   ],
   "source": [
    "df['ca'].hist(figsize=(4,4))"
   ]
  },
  {
   "cell_type": "markdown",
   "id": "4ea36fa0",
   "metadata": {},
   "source": [
    "### 13. thal (Сцинтиграфия таллия - 3-Нормальный, 6-Исправленный дефект, 7-Обратимый дефект)"
   ]
  },
  {
   "cell_type": "code",
   "execution_count": 36,
   "id": "a714e00c",
   "metadata": {},
   "outputs": [
    {
     "data": {
      "text/plain": [
       "2    14334\n",
       "3    10096\n",
       "1     1474\n",
       "0      154\n",
       "Name: thal, dtype: int64"
      ]
     },
     "execution_count": 36,
     "metadata": {},
     "output_type": "execute_result"
    }
   ],
   "source": [
    "df['thal'].value_counts()"
   ]
  },
  {
   "cell_type": "code",
   "execution_count": 37,
   "id": "a245e1f4",
   "metadata": {},
   "outputs": [
    {
     "data": {
      "text/plain": [
       "<Axes: >"
      ]
     },
     "execution_count": 37,
     "metadata": {},
     "output_type": "execute_result"
    },
    {
     "data": {
      "image/png": "[encoded data removed]",
      "text/plain": [
       "<Figure size 400x400 with 1 Axes>"
      ]
     },
     "metadata": {},
     "output_type": "display_data"
    }
   ],
   "source": [
    "df['thal'].hist(figsize=(4,4))"
   ]
  },
  {
   "cell_type": "markdown",
   "id": "f6381928",
   "metadata": {},
   "source": [
    "### 14. target (Есть ли у пациента гипертоническая болезнь - 0-Отрицательный, 1-Положительный)"
   ]
  },
  {
   "cell_type": "code",
   "execution_count": 38,
   "id": "599d7bad",
   "metadata": {},
   "outputs": [
    {
     "data": {
      "text/plain": [
       "1    14274\n",
       "0    11784\n",
       "Name: target, dtype: int64"
      ]
     },
     "execution_count": 38,
     "metadata": {},
     "output_type": "execute_result"
    }
   ],
   "source": [
    "df['target'].value_counts()"
   ]
  },
  {
   "cell_type": "code",
   "execution_count": 39,
   "id": "bf8b4797",
   "metadata": {},
   "outputs": [
    {
     "data": {
      "text/plain": [
       "(-1.25, 1.25, -1.25, 1.25)"
      ]
     },
     "execution_count": 39,
     "metadata": {},
     "output_type": "execute_result"
    },
    {
     "data": {
      "image/png": "[encoded data removed]",
      "text/plain": [
       "<Figure size 400x400 with 1 Axes>"
      ]
     },
     "metadata": {},
     "output_type": "display_data"
    }
   ],
   "source": [
    "df.target.value_counts().plot(kind='pie', autopct='%1.1f%%', figsize=(4,4))\n",
    "plt.title('target')\n",
    "plt.tight_layout()\n",
    "plt.axis('off')"
   ]
  },
  {
   "cell_type": "markdown",
   "id": "d5892eb0",
   "metadata": {},
   "source": [
    "## Обучение моделей"
   ]
  },
  {
   "cell_type": "markdown",
   "id": "d31afa86",
   "metadata": {},
   "source": [
    "Определим признаки и целевой признак"
   ]
  },
  {
   "cell_type": "code",
   "execution_count": 40,
   "id": "521efb01",
   "metadata": {},
   "outputs": [],
   "source": [
    "X = df.drop(['target'], axis=1)\n",
    "y = df['target']"
   ]
  },
  {
   "cell_type": "markdown",
   "id": "2e247096",
   "metadata": {},
   "source": [
    "Разделим датасет на тренировочную и тестовую выборки"
   ]
  },
  {
   "cell_type": "code",
   "execution_count": 41,
   "id": "8aedb8ab",
   "metadata": {},
   "outputs": [],
   "source": [
    "X_train, X_test, y_train, y_test = train_test_split(X,y, test_size=0.3, random_state=42)"
   ]
  },
  {
   "cell_type": "code",
   "execution_count": 42,
   "id": "a7d943d7",
   "metadata": {},
   "outputs": [
    {
     "data": {
      "text/plain": [
       "(7818, 13)"
      ]
     },
     "execution_count": 42,
     "metadata": {},
     "output_type": "execute_result"
    }
   ],
   "source": [
    "X_test.shape"
   ]
  },
  {
   "cell_type": "markdown",
   "id": "c605c8c3",
   "metadata": {},
   "source": [
    "Напишем функцию для быстрого получения показателей работы модели"
   ]
  },
  {
   "cell_type": "code",
   "execution_count": 43,
   "id": "a356843a",
   "metadata": {},
   "outputs": [],
   "source": [
    "def checkstat (model, X_train, y_train): \n",
    "    model.fit(X_train, y_train)\n",
    "    predicted_test=model.predict(X_test)\n",
    "    print('Accuracy :', accuracy_score(y_test, predicted_test))\n",
    "    print(\"F1:\", f1_score(y_test, predicted_test))\n",
    "    print('recall:', recall_score(y_test, predicted_test))\n",
    "    print('precision:', precision_score(y_test, predicted_test))\n",
    "    cm = confusion_matrix(y_test, predicted_test, labels=model.classes_)\n",
    "    disp = ConfusionMatrixDisplay(confusion_matrix=cm,\n",
    "                               display_labels=model.classes_)\n",
    "    disp.plot()\n",
    "    plt.show()"
   ]
  },
  {
   "cell_type": "markdown",
   "id": "421a0c3d",
   "metadata": {},
   "source": [
    "### 1.RandomForestClassifier"
   ]
  },
  {
   "cell_type": "code",
   "execution_count": 44,
   "id": "6aace24f",
   "metadata": {},
   "outputs": [
    {
     "data": {
      "text/plain": [
       "array([0.93092863, 0.92689946, 0.91730622, 0.93801574, 0.93072347])"
      ]
     },
     "execution_count": 44,
     "metadata": {},
     "output_type": "execute_result"
    }
   ],
   "source": [
    "model_rfc = RandomForestClassifier(random_state=42, n_estimators=10, max_depth=5, class_weight='balanced')\n",
    "scores = cross_val_score(model_rfc, X, y, cv = 5, scoring = 'accuracy')\n",
    "scores"
   ]
  },
  {
   "cell_type": "code",
   "execution_count": 45,
   "id": "c40e07ab",
   "metadata": {},
   "outputs": [
    {
     "name": "stdout",
     "output_type": "stream",
     "text": [
      "Accuracy : 0.9364287541570734\n",
      "F1: 0.943784639746635\n",
      "recall: 0.9691056910569106\n",
      "precision: 0.9197530864197531\n"
     ]
    },
    {
     "data": {
      "image/png": "[encoded data removed]",
      "text/plain": [
       "<Figure size 640x480 with 2 Axes>"
      ]
     },
     "metadata": {},
     "output_type": "display_data"
    }
   ],
   "source": [
    "checkstat(model_rfc, X_train, y_train)"
   ]
  },
  {
   "cell_type": "markdown",
   "id": "682e5101",
   "metadata": {},
   "source": [
    "##  2.DecisionTreeClassifier"
   ]
  },
  {
   "cell_type": "code",
   "execution_count": 46,
   "id": "6055fc05",
   "metadata": {},
   "outputs": [
    {
     "data": {
      "text/plain": [
       "array([0.926132  , 0.92555641, 0.92843438, 0.92515832, 0.92554212])"
      ]
     },
     "execution_count": 46,
     "metadata": {},
     "output_type": "execute_result"
    }
   ],
   "source": [
    "model_dtc = DecisionTreeClassifier(random_state=42, max_depth=5)\n",
    "scores = cross_val_score(model_dtc, X, y, cv = 5, scoring = 'accuracy')\n",
    "scores"
   ]
  },
  {
   "cell_type": "code",
   "execution_count": 47,
   "id": "1f2cb2dc",
   "metadata": {},
   "outputs": [
    {
     "name": "stdout",
     "output_type": "stream",
     "text": [
      "Accuracy : 0.9277308774622666\n",
      "F1: 0.9367796799820969\n",
      "recall: 0.9723577235772358\n",
      "precision: 0.903713298791019\n"
     ]
    },
    {
     "data": {
      "image/png": "[encoded data removed]",
      "text/plain": [
       "<Figure size 640x480 with 2 Axes>"
      ]
     },
     "metadata": {},
     "output_type": "display_data"
    }
   ],
   "source": [
    "checkstat(model_dtc, X_train, y_train)"
   ]
  },
  {
   "cell_type": "markdown",
   "id": "a8e6ed78",
   "metadata": {},
   "source": [
    "## 3.CatBoost"
   ]
  },
  {
   "cell_type": "code",
   "execution_count": 48,
   "id": "f1e47b1d",
   "metadata": {},
   "outputs": [],
   "source": [
    "train_pool = Pool (\n",
    "    X_train,\n",
    "    y_train\n",
    "\n",
    ")\n",
    "test_pool = Pool (\n",
    "    X_test,\n",
    "   y_test\n",
    ")"
   ]
  },
  {
   "cell_type": "code",
   "execution_count": 49,
   "id": "9f3cce02",
   "metadata": {},
   "outputs": [],
   "source": [
    "EVAL = 'TotalF1'"
   ]
  },
  {
   "cell_type": "code",
   "execution_count": 50,
   "id": "45e0b459",
   "metadata": {},
   "outputs": [],
   "source": [
    "def objective(trial):\n",
    "\n",
    "   # это гиперпараметры, которые будем проверять. \n",
    "    param = {\n",
    "       # suggest_int и suggest_float - непрерывные переменные. выбирает из диапазона от-до. \n",
    "       # можно ставить шаг (как стоит у регуляризации), чтоб он не тыкался +- сотые :)\n",
    "        'learning_rate':trial.suggest_float('learning_rate', 0.01, 0.1, log=True),\n",
    "        'l2_leaf_reg':trial.suggest_float('l2_leaf_reg', 2.0, 20.0, step=1),\n",
    "        'min_data_in_leaf': trial.suggest_int('min_data_in_leaf', 10, 500),\n",
    "        'depth': trial.suggest_int('depth', 3, 12),\n",
    "       \n",
    "       # suggest_categorical - выбор из списка.\n",
    "        'grow_policy': trial.suggest_categorical('grow_policy', ['SymmetricTree', 'Lossguide', 'Depthwise']),\n",
    "        'bootstrap_type': trial.suggest_categorical('bootstrap_type', ['Bayesian', 'Bernoulli']), \n",
    "      \n",
    "    }\n",
    "    # эти гиперпараметры тоже подбираем, но отдельно, в зависимости от выбранного bootstrap_type\n",
    "   # если делать одним куском, то будет падать\n",
    "    if param[\"bootstrap_type\"] == \"Bayesian\":\n",
    "        param[\"bagging_temperature\"] = trial.suggest_float(\"bagging_temperature\", 0, 10)\n",
    "    elif param[\"bootstrap_type\"] == \"Bernoulli\":\n",
    "        param[\"subsample\"] = trial.suggest_float(\"subsample\", 0.1, 0.99)\n",
    "    cat_model = CatBoostClassifier(**param, \n",
    "                                   iterations=3000,\n",
    "                                   random_state=12345,\n",
    "                                   eval_metric=EVAL,\n",
    "                                   verbose=0, \n",
    "                                   leaf_estimation_method='Newton',\n",
    "                                #   task_type='GPU',\n",
    "                                   early_stopping_rounds=120,  \n",
    "                               #   custom_metric=['AUC', 'NormalizedGini'],\n",
    "                                   )\n",
    "    \n",
    "   # это интеграция. прунер - фиговинка, которая сама прервет эксперимент, если ей что-то не понравится\n",
    "   # не особо давно добавили и иногда глючит. но с ним лучше\n",
    "    pruning_callback = CatBoostPruningCallback(trial, EVAL)\n",
    "   \n",
    "    cat_model.fit(train_pool, eval_set=test_pool)\n",
    "   \n",
    "    pruning_callback.check_pruned()\n",
    "   \n",
    "   # результат в процессе оно не печатает, хоть так.\n",
    "    print(param)\n",
    "    print(cat_model.best_score_)\n",
    "    print('________________')\n",
    "    return cat_model.best_score_['validation'][EVAL]"
   ]
  },
  {
   "cell_type": "code",
   "execution_count": 51,
   "id": "bff533fe",
   "metadata": {},
   "outputs": [],
   "source": [
    "optuna.logging.set_verbosity(optuna.logging.WARNING)\n",
    "\n",
    "# семплер - что-то типа способа подбора параметров. \n",
    "# первые раз 20 лучше запустить RandomSampler(), он работает по принципу RandomizedSearchCV из sklearn\n",
    "# помогает приблизительно оценить интервалы параметров. потом в функции оптимизации порезать :)\n",
    "# сам TPESampler рекомендуют запускать под сотню раз. \n",
    "sampler = TPESampler(seed=12345) \n",
    "# объявление процесса подбора\n",
    "# для TPESampler используют прунер HyperbandPruner()\n",
    "# для RandomSampler - прунер MedianPruner()\n",
    "study = optuna.create_study(study_name=\"catboost\", \n",
    "                            direction=\"maximize\",\n",
    "                            pruner=optuna.pruners.HyperbandPruner(),\n",
    "                            sampler=sampler)\n",
    "# study тут создается новый, а вообще можно его сохранять/загружать, \n",
    "# если хочется продолжить подбор на том же наборе данных"
   ]
  },
  {
   "cell_type": "code",
   "execution_count": 52,
   "id": "1e7983b2",
   "metadata": {},
   "outputs": [
    {
     "name": "stdout",
     "output_type": "stream",
     "text": [
      "{'learning_rate': 0.08503859825373385, 'l2_leaf_reg': 8.0, 'min_data_in_leaf': 100, 'depth': 5, 'grow_policy': 'Depthwise', 'bootstrap_type': 'Bernoulli', 'subsample': 0.6816771850580444}\n",
      "{'learn': {'Logloss': 0.002297646504375098, 'TotalF1': 1.0}, 'validation': {'Logloss': 0.0023456038200775375, 'TotalF1': 1.0}}\n",
      "________________\n",
      "{'learning_rate': 0.05593901428206581, 'l2_leaf_reg': 20.0, 'min_data_in_leaf': 14, 'depth': 4, 'grow_policy': 'Depthwise', 'bootstrap_type': 'Bernoulli', 'subsample': 0.7440799587587585}\n",
      "{'learn': {'Logloss': 0.013497596173491276, 'TotalF1': 1.0}, 'validation': {'Logloss': 0.013813455434183953, 'TotalF1': 1.0}}\n",
      "________________\n",
      "{'learning_rate': 0.043901092488902525, 'l2_leaf_reg': 15.0, 'min_data_in_leaf': 239, 'depth': 6, 'grow_policy': 'Depthwise', 'bootstrap_type': 'Bernoulli', 'subsample': 0.25211368943526663}\n",
      "{'learn': {'Logloss': 0.008323397923501953, 'TotalF1': 1.0}, 'validation': {'Logloss': 0.008507627618490016, 'TotalF1': 1.0}}\n",
      "________________\n",
      "{'learning_rate': 0.010637737658086158, 'l2_leaf_reg': 17.0, 'min_data_in_leaf': 453, 'depth': 3, 'grow_policy': 'Depthwise', 'bootstrap_type': 'Bernoulli', 'subsample': 0.7481569004911344}\n",
      "{'learn': {'Logloss': 0.10423575212288348, 'TotalF1': 0.9851184336828576}, 'validation': {'Logloss': 0.10657194013698337, 'TotalF1': 0.9850081383708391}}\n",
      "________________\n",
      "{'learning_rate': 0.06581880778396462, 'l2_leaf_reg': 11.0, 'min_data_in_leaf': 407, 'depth': 3, 'grow_policy': 'Depthwise', 'bootstrap_type': 'Bernoulli', 'subsample': 0.25846717523634893}\n",
      "{'learn': {'Logloss': 0.02302792606208181, 'TotalF1': 1.0}, 'validation': {'Logloss': 0.023900893648031534, 'TotalF1': 1.0}}\n",
      "________________\n"
     ]
    }
   ],
   "source": [
    "# это уже запуск попыток. n_trials количество. можно поставить время timeout\n",
    "study.optimize(objective, n_trials=5)"
   ]
  },
  {
   "cell_type": "code",
   "execution_count": 53,
   "id": "e10297cf",
   "metadata": {},
   "outputs": [
    {
     "data": {
      "text/plain": [
       "{'learning_rate': 0.08503859825373385,\n",
       " 'l2_leaf_reg': 8.0,\n",
       " 'min_data_in_leaf': 100,\n",
       " 'depth': 5,\n",
       " 'grow_policy': 'Depthwise',\n",
       " 'bootstrap_type': 'Bernoulli',\n",
       " 'subsample': 0.6816771850580444}"
      ]
     },
     "execution_count": 53,
     "metadata": {},
     "output_type": "execute_result"
    }
   ],
   "source": [
    "# лучшая метрика\n",
    "study.best_trial.value\n",
    "# гиперпараметры, для которых она достигнута\n",
    "study.best_trial.params"
   ]
  },
  {
   "cell_type": "code",
   "execution_count": 54,
   "id": "e126b3d7",
   "metadata": {},
   "outputs": [
    {
     "data": {
      "text/plain": [
       "{'learn': {'Logloss': 0.0011922981132540787},\n",
       " 'validation': {'Logloss': 0.001229230725397165}}"
      ]
     },
     "execution_count": 54,
     "metadata": {},
     "output_type": "execute_result"
    }
   ],
   "source": [
    "catboost = CatBoostClassifier(random_state=12345, silent=True)\n",
    "catboost_params = {\n",
    "    'learning_rate': 0.08503859825373385,\n",
    "     'l2_leaf_reg': 8.0,\n",
    "     'min_data_in_leaf': 100,\n",
    "     'depth': 5,\n",
    "     'grow_policy': 'Depthwise',\n",
    "     'bootstrap_type': 'Bernoulli',\n",
    "     'bagging_temperature': 0.6816771850580444\n",
    "}\n",
    "\n",
    "catboost.fit(train_pool, eval_set=test_pool) \n",
    "catboost.best_score_"
   ]
  },
  {
   "cell_type": "code",
   "execution_count": 55,
   "id": "5904af4d",
   "metadata": {},
   "outputs": [
    {
     "name": "stdout",
     "output_type": "stream",
     "text": [
      "Accuracy : 1.0\n",
      "F1: 1.0\n",
      "recall: 1.0\n",
      "precision: 1.0\n"
     ]
    },
    {
     "data": {
      "image/png": "[encoded data removed]",
      "text/plain": [
       "<Figure size 640x480 with 2 Axes>"
      ]
     },
     "metadata": {},
     "output_type": "display_data"
    }
   ],
   "source": [
    "checkstat(catboost, X_train, y_train)"
   ]
  },
  {
   "cell_type": "code",
   "execution_count": 56,
   "id": "9eff48a8",
   "metadata": {},
   "outputs": [
    {
     "data": {
      "image/png": "[encoded data removed]",
      "text/plain": [
       "<Figure size 1600x1400 with 1 Axes>"
      ]
     },
     "metadata": {},
     "output_type": "display_data"
    }
   ],
   "source": [
    "f_imp = pd.Series(catboost.feature_importances_,\n",
    "                         df.drop(['target'], axis=1).columns)\n",
    "\n",
    "fig, ax = plt.subplots(figsize=(16,14))\n",
    "f_imp.plot.bar(ax=ax)\n",
    "ax.set_title(\"Важность признаков\")\n",
    "ax.set_ylabel('Важность')\n",
    "fig.tight_layout()"
   ]
  },
  {
   "cell_type": "markdown",
   "id": "192dd9ed",
   "metadata": {},
   "source": [
    "## 4.LGBM"
   ]
  },
  {
   "cell_type": "code",
   "execution_count": 57,
   "id": "7ec21d3f",
   "metadata": {},
   "outputs": [
    {
     "name": "stdout",
     "output_type": "stream",
     "text": [
      "Accuracy: %.3f (%.3f) [1. 1. 1. 1. 1. 1. 1. 1. 1. 1. 1. 1. 1. 1. 1. 1. 1. 1. 1. 1. 1. 1. 1. 1.\n",
      " 1. 1. 1. 1. 1. 1.]\n"
     ]
    }
   ],
   "source": [
    "model_lgbm = LGBMClassifier()\n",
    "# evaluate the model\n",
    "cv = RepeatedStratifiedKFold(n_splits=10, n_repeats=3, random_state=1)\n",
    "n_scores = cross_val_score(model_lgbm, X_train, y_train, scoring='accuracy', cv=cv, n_jobs=-1)\n",
    "# report performance\n",
    "print('Accuracy: %.3f (%.3f)', n_scores)"
   ]
  },
  {
   "cell_type": "code",
   "execution_count": 58,
   "id": "039f4088",
   "metadata": {},
   "outputs": [
    {
     "name": "stdout",
     "output_type": "stream",
     "text": [
      "Accuracy : 1.0\n",
      "F1: 1.0\n",
      "recall: 1.0\n",
      "precision: 1.0\n"
     ]
    },
    {
     "data": {
      "image/png": "[encoded data removed]",
      "text/plain": [
       "<Figure size 640x480 with 2 Axes>"
      ]
     },
     "metadata": {},
     "output_type": "display_data"
    }
   ],
   "source": [
    "checkstat(model_lgbm, X_train, y_train)"
   ]
  },
  {
   "cell_type": "code",
   "execution_count": 59,
   "id": "0c011f84",
   "metadata": {},
   "outputs": [
    {
     "data": {
      "image/png": "[encoded data removed]",
      "text/plain": [
       "<Figure size 1600x1400 with 1 Axes>"
      ]
     },
     "metadata": {},
     "output_type": "display_data"
    }
   ],
   "source": [
    "f_imp = pd.Series(model_lgbm.feature_importances_,\n",
    "                         df.drop(['target'], axis=1).columns)\n",
    "\n",
    "fig, ax = plt.subplots(figsize=(16,14))\n",
    "f_imp.plot.bar(ax=ax)\n",
    "ax.set_title(\"Важность признаков\")\n",
    "ax.set_ylabel('Важность')\n",
    "fig.tight_layout()"
   ]
  },
  {
   "cell_type": "markdown",
   "id": "b8a5cd83",
   "metadata": {},
   "source": [
    "## 5.KNeighborsClassifier"
   ]
  },
  {
   "cell_type": "code",
   "execution_count": 60,
   "id": "3a3982f7",
   "metadata": {},
   "outputs": [
    {
     "data": {
      "text/plain": [
       "0.9951206140350877"
      ]
     },
     "execution_count": 60,
     "metadata": {},
     "output_type": "execute_result"
    }
   ],
   "source": [
    "model_KNN = KNeighborsClassifier(n_neighbors = 5)\n",
    "scores = cross_val_score(model_KNN, X_train, y_train, cv = 5, scoring = 'accuracy')\n",
    "scores.mean()"
   ]
  },
  {
   "cell_type": "code",
   "execution_count": 61,
   "id": "3cb48023",
   "metadata": {},
   "outputs": [
    {
     "name": "stdout",
     "output_type": "stream",
     "text": [
      "Accuracy : 0.9966743412637503\n",
      "F1: 0.9969809568044589\n",
      "recall: 0.997212543554007\n",
      "precision: 0.9967494775946134\n"
     ]
    },
    {
     "data": {
      "image/png": "[encoded data removed]",
      "text/plain": [
       "<Figure size 640x480 with 2 Axes>"
      ]
     },
     "metadata": {},
     "output_type": "display_data"
    }
   ],
   "source": [
    "checkstat(model_KNN, X_train, y_train)"
   ]
  },
  {
   "cell_type": "markdown",
   "id": "4719dbe2",
   "metadata": {},
   "source": [
    "# Вывод"
   ]
  },
  {
   "cell_type": "markdown",
   "id": "026bcbf9",
   "metadata": {},
   "source": [
    "Проведя предобработку датасета, проверив на наличие пропусков, дубликатов и выбросов, проверив корреляцию признаков мы пришли к выводу, что большая часть признаков имеют отрицательную корреляцию. Отрицательная корреляция может быть, если использовать только признаки с положительной корреляцией, то останется слишком мало признаков. Было принято решение оставить признаки с более высокой корреляцией. \n",
    "Обучив несколько моделей, подобрав гиперпраметры, мы сделали вывод, что наилучший результат показали модели CatBoostClassifier и LightGBM."
   ]
  }
 ],
 "metadata": {
  "kernelspec": {
   "display_name": "Python 3 (ipykernel)",
   "language": "python",
   "name": "python3"
  },
  "language_info": {
   "codemirror_mode": {
    "name": "ipython",
    "version": 3
   },
   "file_extension": ".py",
   "mimetype": "text/x-python",
   "name": "python",
   "nbconvert_exporter": "python",
   "pygments_lexer": "ipython3",
   "version": "3.10.9"
  }
 },
 "nbformat": 4,
 "nbformat_minor": 5
}
