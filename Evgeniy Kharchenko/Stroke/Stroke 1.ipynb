{
 "cells": [
  {
   "cell_type": "markdown",
   "id": "8f2bbbd3",
   "metadata": {},
   "source": [
    "# Разработка модели предсказания инсульта"
   ]
  },
  {
   "cell_type": "markdown",
   "id": "96ea363c",
   "metadata": {},
   "source": [
    "## Описание Датасета"
   ]
  },
  {
   "cell_type": "markdown",
   "id": "4c37f161",
   "metadata": {},
   "source": [
    "1) id: unique identifier\n",
    "2) gender: \"Male\", \"Female\" or \"Other\"\n",
    "3) age: age of the patient\n",
    "4) hypertension: 0 if the patient doesn't have hypertension, 1 if the patient has hypertension\n",
    "5) heart_disease: 0 if the patient doesn't have any heart diseases, 1 if the patient has a heart disease\n",
    "6) ever_married: \"No\" or \"Yes\"\n",
    "7) work_type: \"children\", \"Govt_jov\", \"Never_worked\", \"Private\" or \"Self-employed\"\n",
    "8) Residence_type: \"Rural\" or \"Urban\"\n",
    "9) avg_glucose_level: average glucose level in blood\n",
    "10) bmi: body mass index\n",
    "11) smoking_status: \"formerly smoked\", \"never smoked\", \"smokes\" or \"Unknown\"*\n",
    "12) stroke: 1 if the patient had a stroke or 0 if not\n",
    "*Note: \"Unknown\" in smoking_status means that the information is unavailable for this patient"
   ]
  },
  {
   "cell_type": "markdown",
   "id": "543b9071",
   "metadata": {},
   "source": [
    "Импортируем необходимые для работы библиотеки и взглянем на датасет и информацию по нему"
   ]
  },
  {
   "cell_type": "code",
   "execution_count": 1,
   "id": "8556e0df",
   "metadata": {},
   "outputs": [],
   "source": [
    "import matplotlib.pyplot as plt\n",
    "import numpy as np\n",
    "import optuna\n",
    "import pandas as pd\n",
    "import seaborn as sns\n",
    "import warnings\n",
    "warnings.filterwarnings(\"ignore\")\n",
    "from lightgbm import LGBMClassifier\n",
    "from sklearn.datasets import make_classification\n",
    "from sklearn.ensemble import RandomForestClassifier\n",
    "from sklearn.metrics import accuracy_score\n",
    "from sklearn.metrics import classification_report\n",
    "from sklearn.metrics import confusion_matrix, ConfusionMatrixDisplay\n",
    "from sklearn.metrics import f1_score\n",
    "from sklearn.metrics import precision_score\n",
    "from sklearn.metrics import recall_score\n",
    "from sklearn.metrics import roc_curve \n",
    "from sklearn.model_selection import cross_val_score\n",
    "from sklearn.model_selection import GridSearchCV\n",
    "from sklearn.model_selection import RepeatedStratifiedKFold\n",
    "from sklearn.model_selection import train_test_split\n",
    "from sklearn.neighbors import KNeighborsClassifier\n",
    "from optuna.samplers import TPESampler, RandomSampler\n",
    "from sklearn.linear_model import LogisticRegression\n",
    "from sklearn.tree import DecisionTreeClassifier\n",
    "from catboost import CatBoostClassifier, Pool\n",
    "from optuna.integration import CatBoostPruningCallback\n",
    "from sklearn.utils import shuffle"
   ]
  },
  {
   "cell_type": "code",
   "execution_count": 2,
   "id": "9546e020",
   "metadata": {
    "scrolled": true
   },
   "outputs": [
    {
     "data": {
      "text/html": [
       "<div>\n",
       "<style scoped>\n",
       "    .dataframe tbody tr th:only-of-type {\n",
       "        vertical-align: middle;\n",
       "    }\n",
       "\n",
       "    .dataframe tbody tr th {\n",
       "        vertical-align: top;\n",
       "    }\n",
       "\n",
       "    .dataframe thead th {\n",
       "        text-align: right;\n",
       "    }\n",
       "</style>\n",
       "<table border=\"1\" class=\"dataframe\">\n",
       "  <thead>\n",
       "    <tr style=\"text-align: right;\">\n",
       "      <th></th>\n",
       "      <th>id</th>\n",
       "      <th>gender</th>\n",
       "      <th>age</th>\n",
       "      <th>hypertension</th>\n",
       "      <th>heart_disease</th>\n",
       "      <th>ever_married</th>\n",
       "      <th>work_type</th>\n",
       "      <th>Residence_type</th>\n",
       "      <th>avg_glucose_level</th>\n",
       "      <th>bmi</th>\n",
       "      <th>smoking_status</th>\n",
       "      <th>stroke</th>\n",
       "    </tr>\n",
       "  </thead>\n",
       "  <tbody>\n",
       "    <tr>\n",
       "      <th>0</th>\n",
       "      <td>9046</td>\n",
       "      <td>Male</td>\n",
       "      <td>67.0</td>\n",
       "      <td>0</td>\n",
       "      <td>1</td>\n",
       "      <td>Yes</td>\n",
       "      <td>Private</td>\n",
       "      <td>Urban</td>\n",
       "      <td>228.69</td>\n",
       "      <td>36.6</td>\n",
       "      <td>formerly smoked</td>\n",
       "      <td>1</td>\n",
       "    </tr>\n",
       "    <tr>\n",
       "      <th>1</th>\n",
       "      <td>51676</td>\n",
       "      <td>Female</td>\n",
       "      <td>61.0</td>\n",
       "      <td>0</td>\n",
       "      <td>0</td>\n",
       "      <td>Yes</td>\n",
       "      <td>Self-employed</td>\n",
       "      <td>Rural</td>\n",
       "      <td>202.21</td>\n",
       "      <td>NaN</td>\n",
       "      <td>never smoked</td>\n",
       "      <td>1</td>\n",
       "    </tr>\n",
       "    <tr>\n",
       "      <th>2</th>\n",
       "      <td>31112</td>\n",
       "      <td>Male</td>\n",
       "      <td>80.0</td>\n",
       "      <td>0</td>\n",
       "      <td>1</td>\n",
       "      <td>Yes</td>\n",
       "      <td>Private</td>\n",
       "      <td>Rural</td>\n",
       "      <td>105.92</td>\n",
       "      <td>32.5</td>\n",
       "      <td>never smoked</td>\n",
       "      <td>1</td>\n",
       "    </tr>\n",
       "    <tr>\n",
       "      <th>3</th>\n",
       "      <td>60182</td>\n",
       "      <td>Female</td>\n",
       "      <td>49.0</td>\n",
       "      <td>0</td>\n",
       "      <td>0</td>\n",
       "      <td>Yes</td>\n",
       "      <td>Private</td>\n",
       "      <td>Urban</td>\n",
       "      <td>171.23</td>\n",
       "      <td>34.4</td>\n",
       "      <td>smokes</td>\n",
       "      <td>1</td>\n",
       "    </tr>\n",
       "    <tr>\n",
       "      <th>4</th>\n",
       "      <td>1665</td>\n",
       "      <td>Female</td>\n",
       "      <td>79.0</td>\n",
       "      <td>1</td>\n",
       "      <td>0</td>\n",
       "      <td>Yes</td>\n",
       "      <td>Self-employed</td>\n",
       "      <td>Rural</td>\n",
       "      <td>174.12</td>\n",
       "      <td>24.0</td>\n",
       "      <td>never smoked</td>\n",
       "      <td>1</td>\n",
       "    </tr>\n",
       "  </tbody>\n",
       "</table>\n",
       "</div>"
      ],
      "text/plain": [
       "      id  gender   age  hypertension  heart_disease ever_married  \\\n",
       "0   9046    Male  67.0             0              1          Yes   \n",
       "1  51676  Female  61.0             0              0          Yes   \n",
       "2  31112    Male  80.0             0              1          Yes   \n",
       "3  60182  Female  49.0             0              0          Yes   \n",
       "4   1665  Female  79.0             1              0          Yes   \n",
       "\n",
       "       work_type Residence_type  avg_glucose_level   bmi   smoking_status  \\\n",
       "0        Private          Urban             228.69  36.6  formerly smoked   \n",
       "1  Self-employed          Rural             202.21   NaN     never smoked   \n",
       "2        Private          Rural             105.92  32.5     never smoked   \n",
       "3        Private          Urban             171.23  34.4           smokes   \n",
       "4  Self-employed          Rural             174.12  24.0     never smoked   \n",
       "\n",
       "   stroke  \n",
       "0       1  \n",
       "1       1  \n",
       "2       1  \n",
       "3       1  \n",
       "4       1  "
      ]
     },
     "execution_count": 2,
     "metadata": {},
     "output_type": "execute_result"
    }
   ],
   "source": [
    "df = pd.read_csv('healthcare-dataset-stroke-data.csv')\n",
    "df.head()"
   ]
  },
  {
   "cell_type": "code",
   "execution_count": 3,
   "id": "cea2aa9d",
   "metadata": {},
   "outputs": [
    {
     "name": "stdout",
     "output_type": "stream",
     "text": [
      "<class 'pandas.core.frame.DataFrame'>\n",
      "RangeIndex: 5110 entries, 0 to 5109\n",
      "Data columns (total 12 columns):\n",
      " #   Column             Non-Null Count  Dtype  \n",
      "---  ------             --------------  -----  \n",
      " 0   id                 5110 non-null   int64  \n",
      " 1   gender             5110 non-null   object \n",
      " 2   age                5110 non-null   float64\n",
      " 3   hypertension       5110 non-null   int64  \n",
      " 4   heart_disease      5110 non-null   int64  \n",
      " 5   ever_married       5110 non-null   object \n",
      " 6   work_type          5110 non-null   object \n",
      " 7   Residence_type     5110 non-null   object \n",
      " 8   avg_glucose_level  5110 non-null   float64\n",
      " 9   bmi                4909 non-null   float64\n",
      " 10  smoking_status     5110 non-null   object \n",
      " 11  stroke             5110 non-null   int64  \n",
      "dtypes: float64(3), int64(4), object(5)\n",
      "memory usage: 479.2+ KB\n"
     ]
    },
    {
     "data": {
      "text/html": [
       "<div>\n",
       "<style scoped>\n",
       "    .dataframe tbody tr th:only-of-type {\n",
       "        vertical-align: middle;\n",
       "    }\n",
       "\n",
       "    .dataframe tbody tr th {\n",
       "        vertical-align: top;\n",
       "    }\n",
       "\n",
       "    .dataframe thead th {\n",
       "        text-align: right;\n",
       "    }\n",
       "</style>\n",
       "<table border=\"1\" class=\"dataframe\">\n",
       "  <thead>\n",
       "    <tr style=\"text-align: right;\">\n",
       "      <th></th>\n",
       "      <th>id</th>\n",
       "      <th>age</th>\n",
       "      <th>hypertension</th>\n",
       "      <th>heart_disease</th>\n",
       "      <th>avg_glucose_level</th>\n",
       "      <th>bmi</th>\n",
       "      <th>stroke</th>\n",
       "    </tr>\n",
       "  </thead>\n",
       "  <tbody>\n",
       "    <tr>\n",
       "      <th>count</th>\n",
       "      <td>5110.000000</td>\n",
       "      <td>5110.000000</td>\n",
       "      <td>5110.000000</td>\n",
       "      <td>5110.000000</td>\n",
       "      <td>5110.000000</td>\n",
       "      <td>4909.000000</td>\n",
       "      <td>5110.000000</td>\n",
       "    </tr>\n",
       "    <tr>\n",
       "      <th>mean</th>\n",
       "      <td>36517.829354</td>\n",
       "      <td>43.226614</td>\n",
       "      <td>0.097456</td>\n",
       "      <td>0.054012</td>\n",
       "      <td>106.147677</td>\n",
       "      <td>28.893237</td>\n",
       "      <td>0.048728</td>\n",
       "    </tr>\n",
       "    <tr>\n",
       "      <th>std</th>\n",
       "      <td>21161.721625</td>\n",
       "      <td>22.612647</td>\n",
       "      <td>0.296607</td>\n",
       "      <td>0.226063</td>\n",
       "      <td>45.283560</td>\n",
       "      <td>7.854067</td>\n",
       "      <td>0.215320</td>\n",
       "    </tr>\n",
       "    <tr>\n",
       "      <th>min</th>\n",
       "      <td>67.000000</td>\n",
       "      <td>0.080000</td>\n",
       "      <td>0.000000</td>\n",
       "      <td>0.000000</td>\n",
       "      <td>55.120000</td>\n",
       "      <td>10.300000</td>\n",
       "      <td>0.000000</td>\n",
       "    </tr>\n",
       "    <tr>\n",
       "      <th>25%</th>\n",
       "      <td>17741.250000</td>\n",
       "      <td>25.000000</td>\n",
       "      <td>0.000000</td>\n",
       "      <td>0.000000</td>\n",
       "      <td>77.245000</td>\n",
       "      <td>23.500000</td>\n",
       "      <td>0.000000</td>\n",
       "    </tr>\n",
       "    <tr>\n",
       "      <th>50%</th>\n",
       "      <td>36932.000000</td>\n",
       "      <td>45.000000</td>\n",
       "      <td>0.000000</td>\n",
       "      <td>0.000000</td>\n",
       "      <td>91.885000</td>\n",
       "      <td>28.100000</td>\n",
       "      <td>0.000000</td>\n",
       "    </tr>\n",
       "    <tr>\n",
       "      <th>75%</th>\n",
       "      <td>54682.000000</td>\n",
       "      <td>61.000000</td>\n",
       "      <td>0.000000</td>\n",
       "      <td>0.000000</td>\n",
       "      <td>114.090000</td>\n",
       "      <td>33.100000</td>\n",
       "      <td>0.000000</td>\n",
       "    </tr>\n",
       "    <tr>\n",
       "      <th>max</th>\n",
       "      <td>72940.000000</td>\n",
       "      <td>82.000000</td>\n",
       "      <td>1.000000</td>\n",
       "      <td>1.000000</td>\n",
       "      <td>271.740000</td>\n",
       "      <td>97.600000</td>\n",
       "      <td>1.000000</td>\n",
       "    </tr>\n",
       "  </tbody>\n",
       "</table>\n",
       "</div>"
      ],
      "text/plain": [
       "                 id          age  hypertension  heart_disease  \\\n",
       "count   5110.000000  5110.000000   5110.000000    5110.000000   \n",
       "mean   36517.829354    43.226614      0.097456       0.054012   \n",
       "std    21161.721625    22.612647      0.296607       0.226063   \n",
       "min       67.000000     0.080000      0.000000       0.000000   \n",
       "25%    17741.250000    25.000000      0.000000       0.000000   \n",
       "50%    36932.000000    45.000000      0.000000       0.000000   \n",
       "75%    54682.000000    61.000000      0.000000       0.000000   \n",
       "max    72940.000000    82.000000      1.000000       1.000000   \n",
       "\n",
       "       avg_glucose_level          bmi       stroke  \n",
       "count        5110.000000  4909.000000  5110.000000  \n",
       "mean          106.147677    28.893237     0.048728  \n",
       "std            45.283560     7.854067     0.215320  \n",
       "min            55.120000    10.300000     0.000000  \n",
       "25%            77.245000    23.500000     0.000000  \n",
       "50%            91.885000    28.100000     0.000000  \n",
       "75%           114.090000    33.100000     0.000000  \n",
       "max           271.740000    97.600000     1.000000  "
      ]
     },
     "execution_count": 3,
     "metadata": {},
     "output_type": "execute_result"
    }
   ],
   "source": [
    "df.info()\n",
    "df.describe()"
   ]
  },
  {
   "cell_type": "code",
   "execution_count": 4,
   "id": "80af5726",
   "metadata": {},
   "outputs": [
    {
     "data": {
      "text/plain": [
       "0"
      ]
     },
     "execution_count": 4,
     "metadata": {},
     "output_type": "execute_result"
    }
   ],
   "source": [
    "df.duplicated().sum()"
   ]
  },
  {
   "cell_type": "code",
   "execution_count": 5,
   "id": "dd7d6a8e",
   "metadata": {
    "scrolled": true
   },
   "outputs": [
    {
     "data": {
      "text/plain": [
       "Index(['id', 'gender', 'age', 'hypertension', 'heart_disease', 'ever_married',\n",
       "       'work_type', 'Residence_type', 'avg_glucose_level', 'bmi',\n",
       "       'smoking_status', 'stroke'],\n",
       "      dtype='object')"
      ]
     },
     "execution_count": 5,
     "metadata": {},
     "output_type": "execute_result"
    }
   ],
   "source": [
    "df.columns"
   ]
  },
  {
   "cell_type": "code",
   "execution_count": 6,
   "id": "daa55aea",
   "metadata": {},
   "outputs": [
    {
     "data": {
      "text/plain": [
       "(-1.25, 1.25, -1.25, 1.25)"
      ]
     },
     "execution_count": 6,
     "metadata": {},
     "output_type": "execute_result"
    },
    {
     "data": {
      "image/png": "[encoded data removed]",
      "text/plain": [
       "<Figure size 400x400 with 1 Axes>"
      ]
     },
     "metadata": {},
     "output_type": "display_data"
    }
   ],
   "source": [
    "df.stroke.value_counts().plot(kind='pie', autopct='%1.1f%%', figsize=(4,4))\n",
    "plt.title('stroke')\n",
    "plt.tight_layout()\n",
    "plt.axis('off')"
   ]
  },
  {
   "cell_type": "markdown",
   "id": "fc00d8f5",
   "metadata": {},
   "source": [
    "## Вывод"
   ]
  },
  {
   "cell_type": "markdown",
   "id": "066966f6",
   "metadata": {},
   "source": [
    "Датасет состоит из 5110 строк и 12 столбцов. Дубликатов нет. Пропуски наблюдаются только в столбце bmi. Видим явный дисбаланс классов у целевого признака. Формат столбцов следует поменять в некоторых столбцах. В столбцах age, avg_glucose_level, bmi наблюдаются аномальные значения. Проведем предобработку данных и рассмотрим данные более подробно"
   ]
  },
  {
   "cell_type": "markdown",
   "id": "c47eb04b",
   "metadata": {},
   "source": [
    "## Предобработка данных"
   ]
  },
  {
   "cell_type": "markdown",
   "id": "897cffcb",
   "metadata": {},
   "source": [
    "Разберем каждый столбец по отдельности"
   ]
  },
  {
   "cell_type": "markdown",
   "id": "eaab9d91",
   "metadata": {},
   "source": [
    "Для начала переведем названия всех столбцов в нижний регистр"
   ]
  },
  {
   "cell_type": "code",
   "execution_count": 7,
   "id": "3ec48099",
   "metadata": {},
   "outputs": [
    {
     "data": {
      "text/plain": [
       "Index(['id', 'gender', 'age', 'hypertension', 'heart_disease', 'ever_married',\n",
       "       'work_type', 'residence_type', 'avg_glucose_level', 'bmi',\n",
       "       'smoking_status', 'stroke'],\n",
       "      dtype='object')"
      ]
     },
     "execution_count": 7,
     "metadata": {},
     "output_type": "execute_result"
    }
   ],
   "source": [
    "df.columns = df.columns.str.lower()\n",
    "df.columns"
   ]
  },
  {
   "cell_type": "markdown",
   "id": "6f11e6b5",
   "metadata": {},
   "source": [
    "### gender"
   ]
  },
  {
   "cell_type": "code",
   "execution_count": 8,
   "id": "b5cb9688",
   "metadata": {},
   "outputs": [
    {
     "data": {
      "text/plain": [
       "Female    2994\n",
       "Male      2115\n",
       "Other        1\n",
       "Name: gender, dtype: int64"
      ]
     },
     "execution_count": 8,
     "metadata": {},
     "output_type": "execute_result"
    }
   ],
   "source": [
    "df['gender'].value_counts()"
   ]
  },
  {
   "cell_type": "code",
   "execution_count": 9,
   "id": "0424b11a",
   "metadata": {},
   "outputs": [
    {
     "data": {
      "text/plain": [
       "Female    2994\n",
       "Male      2115\n",
       "Name: gender, dtype: int64"
      ]
     },
     "execution_count": 9,
     "metadata": {},
     "output_type": "execute_result"
    }
   ],
   "source": [
    "df = df[df['gender'] != 'Other']\n",
    "df['gender'].value_counts()"
   ]
  },
  {
   "cell_type": "code",
   "execution_count": 10,
   "id": "9bf69d7e",
   "metadata": {},
   "outputs": [],
   "source": [
    "df['gender'] = df['gender'].replace(('Male', 'Female'), (1, 0))"
   ]
  },
  {
   "cell_type": "code",
   "execution_count": 11,
   "id": "9dfcbd80",
   "metadata": {},
   "outputs": [
    {
     "data": {
      "text/html": [
       "<div>\n",
       "<style scoped>\n",
       "    .dataframe tbody tr th:only-of-type {\n",
       "        vertical-align: middle;\n",
       "    }\n",
       "\n",
       "    .dataframe tbody tr th {\n",
       "        vertical-align: top;\n",
       "    }\n",
       "\n",
       "    .dataframe thead th {\n",
       "        text-align: right;\n",
       "    }\n",
       "</style>\n",
       "<table border=\"1\" class=\"dataframe\">\n",
       "  <thead>\n",
       "    <tr style=\"text-align: right;\">\n",
       "      <th></th>\n",
       "      <th>id</th>\n",
       "      <th>gender</th>\n",
       "      <th>age</th>\n",
       "      <th>hypertension</th>\n",
       "      <th>heart_disease</th>\n",
       "      <th>ever_married</th>\n",
       "      <th>work_type</th>\n",
       "      <th>residence_type</th>\n",
       "      <th>avg_glucose_level</th>\n",
       "      <th>bmi</th>\n",
       "      <th>smoking_status</th>\n",
       "      <th>stroke</th>\n",
       "    </tr>\n",
       "  </thead>\n",
       "  <tbody>\n",
       "    <tr>\n",
       "      <th>0</th>\n",
       "      <td>9046</td>\n",
       "      <td>1</td>\n",
       "      <td>67.0</td>\n",
       "      <td>0</td>\n",
       "      <td>1</td>\n",
       "      <td>Yes</td>\n",
       "      <td>Private</td>\n",
       "      <td>Urban</td>\n",
       "      <td>228.69</td>\n",
       "      <td>36.6</td>\n",
       "      <td>formerly smoked</td>\n",
       "      <td>1</td>\n",
       "    </tr>\n",
       "    <tr>\n",
       "      <th>1</th>\n",
       "      <td>51676</td>\n",
       "      <td>0</td>\n",
       "      <td>61.0</td>\n",
       "      <td>0</td>\n",
       "      <td>0</td>\n",
       "      <td>Yes</td>\n",
       "      <td>Self-employed</td>\n",
       "      <td>Rural</td>\n",
       "      <td>202.21</td>\n",
       "      <td>NaN</td>\n",
       "      <td>never smoked</td>\n",
       "      <td>1</td>\n",
       "    </tr>\n",
       "    <tr>\n",
       "      <th>2</th>\n",
       "      <td>31112</td>\n",
       "      <td>1</td>\n",
       "      <td>80.0</td>\n",
       "      <td>0</td>\n",
       "      <td>1</td>\n",
       "      <td>Yes</td>\n",
       "      <td>Private</td>\n",
       "      <td>Rural</td>\n",
       "      <td>105.92</td>\n",
       "      <td>32.5</td>\n",
       "      <td>never smoked</td>\n",
       "      <td>1</td>\n",
       "    </tr>\n",
       "    <tr>\n",
       "      <th>3</th>\n",
       "      <td>60182</td>\n",
       "      <td>0</td>\n",
       "      <td>49.0</td>\n",
       "      <td>0</td>\n",
       "      <td>0</td>\n",
       "      <td>Yes</td>\n",
       "      <td>Private</td>\n",
       "      <td>Urban</td>\n",
       "      <td>171.23</td>\n",
       "      <td>34.4</td>\n",
       "      <td>smokes</td>\n",
       "      <td>1</td>\n",
       "    </tr>\n",
       "    <tr>\n",
       "      <th>4</th>\n",
       "      <td>1665</td>\n",
       "      <td>0</td>\n",
       "      <td>79.0</td>\n",
       "      <td>1</td>\n",
       "      <td>0</td>\n",
       "      <td>Yes</td>\n",
       "      <td>Self-employed</td>\n",
       "      <td>Rural</td>\n",
       "      <td>174.12</td>\n",
       "      <td>24.0</td>\n",
       "      <td>never smoked</td>\n",
       "      <td>1</td>\n",
       "    </tr>\n",
       "  </tbody>\n",
       "</table>\n",
       "</div>"
      ],
      "text/plain": [
       "      id  gender   age  hypertension  heart_disease ever_married  \\\n",
       "0   9046       1  67.0             0              1          Yes   \n",
       "1  51676       0  61.0             0              0          Yes   \n",
       "2  31112       1  80.0             0              1          Yes   \n",
       "3  60182       0  49.0             0              0          Yes   \n",
       "4   1665       0  79.0             1              0          Yes   \n",
       "\n",
       "       work_type residence_type  avg_glucose_level   bmi   smoking_status  \\\n",
       "0        Private          Urban             228.69  36.6  formerly smoked   \n",
       "1  Self-employed          Rural             202.21   NaN     never smoked   \n",
       "2        Private          Rural             105.92  32.5     never smoked   \n",
       "3        Private          Urban             171.23  34.4           smokes   \n",
       "4  Self-employed          Rural             174.12  24.0     never smoked   \n",
       "\n",
       "   stroke  \n",
       "0       1  \n",
       "1       1  \n",
       "2       1  \n",
       "3       1  \n",
       "4       1  "
      ]
     },
     "execution_count": 11,
     "metadata": {},
     "output_type": "execute_result"
    }
   ],
   "source": [
    "df.head()"
   ]
  },
  {
   "cell_type": "code",
   "execution_count": 12,
   "id": "0365566e",
   "metadata": {},
   "outputs": [
    {
     "data": {
      "text/plain": [
       "(-1.25, 1.25, -1.25, 1.25)"
      ]
     },
     "execution_count": 12,
     "metadata": {},
     "output_type": "execute_result"
    },
    {
     "data": {
      "image/png": "[encoded data removed]",
      "text/plain": [
       "<Figure size 400x400 with 1 Axes>"
      ]
     },
     "metadata": {},
     "output_type": "display_data"
    }
   ],
   "source": [
    "df.gender.value_counts().plot(kind='pie', autopct='%1.1f%%', figsize=(4,4))\n",
    "plt.title('gender')\n",
    "plt.tight_layout()\n",
    "plt.axis('off')"
   ]
  },
  {
   "cell_type": "markdown",
   "id": "a052b8bf",
   "metadata": {},
   "source": [
    "### age"
   ]
  },
  {
   "cell_type": "code",
   "execution_count": 13,
   "id": "bad5b4e2",
   "metadata": {},
   "outputs": [
    {
     "data": {
      "text/plain": [
       "count    5109.000000\n",
       "mean       43.229986\n",
       "std        22.613575\n",
       "min         0.080000\n",
       "25%        25.000000\n",
       "50%        45.000000\n",
       "75%        61.000000\n",
       "max        82.000000\n",
       "Name: age, dtype: float64"
      ]
     },
     "execution_count": 13,
     "metadata": {},
     "output_type": "execute_result"
    }
   ],
   "source": [
    "df['age'].describe()"
   ]
  },
  {
   "cell_type": "code",
   "execution_count": 14,
   "id": "24221c28",
   "metadata": {
    "scrolled": true
   },
   "outputs": [
    {
     "data": {
      "text/plain": [
       "<Axes: >"
      ]
     },
     "execution_count": 14,
     "metadata": {},
     "output_type": "execute_result"
    },
    {
     "data": {
      "image/png": "[encoded data removed]",
      "text/plain": [
       "<Figure size 300x300 with 1 Axes>"
      ]
     },
     "metadata": {},
     "output_type": "display_data"
    }
   ],
   "source": [
    "df['age'].hist(figsize=(3, 3))"
   ]
  },
  {
   "cell_type": "markdown",
   "id": "dc97a577",
   "metadata": {},
   "source": [
    "Среди находящихся в неврологическом отделении можно встретить даже 10–15-летних подростков, хотя чаще сосудистое нарушение наблюдается у людей от 18 до 40 лет. Так как у нас дисбаланс классов и вероятность инсульта у молодых людей достаточно маловероятна, посмотрим наличие инсульта у молодых людей и установим нижний порог"
   ]
  },
  {
   "cell_type": "code",
   "execution_count": 15,
   "id": "85845248",
   "metadata": {},
   "outputs": [
    {
     "data": {
      "text/html": [
       "<div>\n",
       "<style scoped>\n",
       "    .dataframe tbody tr th:only-of-type {\n",
       "        vertical-align: middle;\n",
       "    }\n",
       "\n",
       "    .dataframe tbody tr th {\n",
       "        vertical-align: top;\n",
       "    }\n",
       "\n",
       "    .dataframe thead th {\n",
       "        text-align: right;\n",
       "    }\n",
       "</style>\n",
       "<table border=\"1\" class=\"dataframe\">\n",
       "  <thead>\n",
       "    <tr style=\"text-align: right;\">\n",
       "      <th></th>\n",
       "      <th>id</th>\n",
       "      <th>gender</th>\n",
       "      <th>age</th>\n",
       "      <th>hypertension</th>\n",
       "      <th>heart_disease</th>\n",
       "      <th>ever_married</th>\n",
       "      <th>work_type</th>\n",
       "      <th>residence_type</th>\n",
       "      <th>avg_glucose_level</th>\n",
       "      <th>bmi</th>\n",
       "      <th>smoking_status</th>\n",
       "      <th>stroke</th>\n",
       "    </tr>\n",
       "  </thead>\n",
       "  <tbody>\n",
       "    <tr>\n",
       "      <th>162</th>\n",
       "      <td>69768</td>\n",
       "      <td>0</td>\n",
       "      <td>1.32</td>\n",
       "      <td>0</td>\n",
       "      <td>0</td>\n",
       "      <td>No</td>\n",
       "      <td>children</td>\n",
       "      <td>Urban</td>\n",
       "      <td>70.37</td>\n",
       "      <td>NaN</td>\n",
       "      <td>Unknown</td>\n",
       "      <td>1</td>\n",
       "    </tr>\n",
       "    <tr>\n",
       "      <th>245</th>\n",
       "      <td>49669</td>\n",
       "      <td>0</td>\n",
       "      <td>14.00</td>\n",
       "      <td>0</td>\n",
       "      <td>0</td>\n",
       "      <td>No</td>\n",
       "      <td>children</td>\n",
       "      <td>Rural</td>\n",
       "      <td>57.93</td>\n",
       "      <td>30.9</td>\n",
       "      <td>Unknown</td>\n",
       "      <td>1</td>\n",
       "    </tr>\n",
       "    <tr>\n",
       "      <th>249</th>\n",
       "      <td>30669</td>\n",
       "      <td>1</td>\n",
       "      <td>3.00</td>\n",
       "      <td>0</td>\n",
       "      <td>0</td>\n",
       "      <td>No</td>\n",
       "      <td>children</td>\n",
       "      <td>Rural</td>\n",
       "      <td>95.12</td>\n",
       "      <td>18.0</td>\n",
       "      <td>Unknown</td>\n",
       "      <td>0</td>\n",
       "    </tr>\n",
       "    <tr>\n",
       "      <th>251</th>\n",
       "      <td>16523</td>\n",
       "      <td>0</td>\n",
       "      <td>8.00</td>\n",
       "      <td>0</td>\n",
       "      <td>0</td>\n",
       "      <td>No</td>\n",
       "      <td>Private</td>\n",
       "      <td>Urban</td>\n",
       "      <td>110.89</td>\n",
       "      <td>17.6</td>\n",
       "      <td>Unknown</td>\n",
       "      <td>0</td>\n",
       "    </tr>\n",
       "    <tr>\n",
       "      <th>253</th>\n",
       "      <td>46136</td>\n",
       "      <td>1</td>\n",
       "      <td>14.00</td>\n",
       "      <td>0</td>\n",
       "      <td>0</td>\n",
       "      <td>No</td>\n",
       "      <td>Never_worked</td>\n",
       "      <td>Rural</td>\n",
       "      <td>161.28</td>\n",
       "      <td>19.1</td>\n",
       "      <td>Unknown</td>\n",
       "      <td>0</td>\n",
       "    </tr>\n",
       "    <tr>\n",
       "      <th>...</th>\n",
       "      <td>...</td>\n",
       "      <td>...</td>\n",
       "      <td>...</td>\n",
       "      <td>...</td>\n",
       "      <td>...</td>\n",
       "      <td>...</td>\n",
       "      <td>...</td>\n",
       "      <td>...</td>\n",
       "      <td>...</td>\n",
       "      <td>...</td>\n",
       "      <td>...</td>\n",
       "      <td>...</td>\n",
       "    </tr>\n",
       "    <tr>\n",
       "      <th>5089</th>\n",
       "      <td>56714</td>\n",
       "      <td>0</td>\n",
       "      <td>0.72</td>\n",
       "      <td>0</td>\n",
       "      <td>0</td>\n",
       "      <td>No</td>\n",
       "      <td>children</td>\n",
       "      <td>Rural</td>\n",
       "      <td>62.13</td>\n",
       "      <td>16.8</td>\n",
       "      <td>Unknown</td>\n",
       "      <td>0</td>\n",
       "    </tr>\n",
       "    <tr>\n",
       "      <th>5094</th>\n",
       "      <td>28048</td>\n",
       "      <td>1</td>\n",
       "      <td>13.00</td>\n",
       "      <td>0</td>\n",
       "      <td>0</td>\n",
       "      <td>No</td>\n",
       "      <td>children</td>\n",
       "      <td>Urban</td>\n",
       "      <td>82.38</td>\n",
       "      <td>24.3</td>\n",
       "      <td>Unknown</td>\n",
       "      <td>0</td>\n",
       "    </tr>\n",
       "    <tr>\n",
       "      <th>5095</th>\n",
       "      <td>68598</td>\n",
       "      <td>1</td>\n",
       "      <td>1.08</td>\n",
       "      <td>0</td>\n",
       "      <td>0</td>\n",
       "      <td>No</td>\n",
       "      <td>children</td>\n",
       "      <td>Rural</td>\n",
       "      <td>79.15</td>\n",
       "      <td>17.4</td>\n",
       "      <td>Unknown</td>\n",
       "      <td>0</td>\n",
       "    </tr>\n",
       "    <tr>\n",
       "      <th>5098</th>\n",
       "      <td>579</td>\n",
       "      <td>1</td>\n",
       "      <td>9.00</td>\n",
       "      <td>0</td>\n",
       "      <td>0</td>\n",
       "      <td>No</td>\n",
       "      <td>children</td>\n",
       "      <td>Urban</td>\n",
       "      <td>71.88</td>\n",
       "      <td>17.5</td>\n",
       "      <td>Unknown</td>\n",
       "      <td>0</td>\n",
       "    </tr>\n",
       "    <tr>\n",
       "      <th>5104</th>\n",
       "      <td>14180</td>\n",
       "      <td>0</td>\n",
       "      <td>13.00</td>\n",
       "      <td>0</td>\n",
       "      <td>0</td>\n",
       "      <td>No</td>\n",
       "      <td>children</td>\n",
       "      <td>Rural</td>\n",
       "      <td>103.08</td>\n",
       "      <td>18.6</td>\n",
       "      <td>Unknown</td>\n",
       "      <td>0</td>\n",
       "    </tr>\n",
       "  </tbody>\n",
       "</table>\n",
       "<p>744 rows × 12 columns</p>\n",
       "</div>"
      ],
      "text/plain": [
       "         id  gender    age  hypertension  heart_disease ever_married  \\\n",
       "162   69768       0   1.32             0              0           No   \n",
       "245   49669       0  14.00             0              0           No   \n",
       "249   30669       1   3.00             0              0           No   \n",
       "251   16523       0   8.00             0              0           No   \n",
       "253   46136       1  14.00             0              0           No   \n",
       "...     ...     ...    ...           ...            ...          ...   \n",
       "5089  56714       0   0.72             0              0           No   \n",
       "5094  28048       1  13.00             0              0           No   \n",
       "5095  68598       1   1.08             0              0           No   \n",
       "5098    579       1   9.00             0              0           No   \n",
       "5104  14180       0  13.00             0              0           No   \n",
       "\n",
       "         work_type residence_type  avg_glucose_level   bmi smoking_status  \\\n",
       "162       children          Urban              70.37   NaN        Unknown   \n",
       "245       children          Rural              57.93  30.9        Unknown   \n",
       "249       children          Rural              95.12  18.0        Unknown   \n",
       "251        Private          Urban             110.89  17.6        Unknown   \n",
       "253   Never_worked          Rural             161.28  19.1        Unknown   \n",
       "...            ...            ...                ...   ...            ...   \n",
       "5089      children          Rural              62.13  16.8        Unknown   \n",
       "5094      children          Urban              82.38  24.3        Unknown   \n",
       "5095      children          Rural              79.15  17.4        Unknown   \n",
       "5098      children          Urban              71.88  17.5        Unknown   \n",
       "5104      children          Rural             103.08  18.6        Unknown   \n",
       "\n",
       "      stroke  \n",
       "162        1  \n",
       "245        1  \n",
       "249        0  \n",
       "251        0  \n",
       "253        0  \n",
       "...      ...  \n",
       "5089       0  \n",
       "5094       0  \n",
       "5095       0  \n",
       "5098       0  \n",
       "5104       0  \n",
       "\n",
       "[744 rows x 12 columns]"
      ]
     },
     "execution_count": 15,
     "metadata": {},
     "output_type": "execute_result"
    }
   ],
   "source": [
    "df[(df['age'] <= 15)]"
   ]
  },
  {
   "cell_type": "markdown",
   "id": "5edeab0f",
   "metadata": {},
   "source": [
    "Я думаю стоит поставить нижний порог в 15 лет"
   ]
  },
  {
   "cell_type": "code",
   "execution_count": 16,
   "id": "a365922c",
   "metadata": {},
   "outputs": [],
   "source": [
    "df = df[df['age'] >= 15]"
   ]
  },
  {
   "cell_type": "code",
   "execution_count": 17,
   "id": "9f4186ee",
   "metadata": {},
   "outputs": [
    {
     "data": {
      "text/plain": [
       "count    4410.000000\n",
       "mean       48.993424\n",
       "std        18.613952\n",
       "min        15.000000\n",
       "25%        34.000000\n",
       "50%        50.000000\n",
       "75%        63.000000\n",
       "max        82.000000\n",
       "Name: age, dtype: float64"
      ]
     },
     "execution_count": 17,
     "metadata": {},
     "output_type": "execute_result"
    }
   ],
   "source": [
    "df['age'].describe()"
   ]
  },
  {
   "cell_type": "markdown",
   "id": "7208b11f",
   "metadata": {},
   "source": [
    "### hypertension"
   ]
  },
  {
   "cell_type": "code",
   "execution_count": 18,
   "id": "2ba483bc",
   "metadata": {
    "scrolled": true
   },
   "outputs": [
    {
     "data": {
      "text/plain": [
       "0    3912\n",
       "1     498\n",
       "Name: hypertension, dtype: int64"
      ]
     },
     "execution_count": 18,
     "metadata": {},
     "output_type": "execute_result"
    }
   ],
   "source": [
    "df['hypertension'].value_counts()"
   ]
  },
  {
   "cell_type": "code",
   "execution_count": 19,
   "id": "188b8653",
   "metadata": {},
   "outputs": [
    {
     "data": {
      "text/plain": [
       "(-1.25, 1.25, -1.25, 1.25)"
      ]
     },
     "execution_count": 19,
     "metadata": {},
     "output_type": "execute_result"
    },
    {
     "data": {
      "image/png": "[encoded data removed]",
      "text/plain": [
       "<Figure size 400x400 with 1 Axes>"
      ]
     },
     "metadata": {},
     "output_type": "display_data"
    }
   ],
   "source": [
    "df.hypertension.value_counts().plot(kind='pie', autopct='%1.1f%%', figsize=(4,4))\n",
    "plt.title('hypertension')\n",
    "plt.tight_layout()\n",
    "plt.axis('off')"
   ]
  },
  {
   "cell_type": "markdown",
   "id": "1b2150a9",
   "metadata": {},
   "source": [
    "### heart_disease"
   ]
  },
  {
   "cell_type": "code",
   "execution_count": 20,
   "id": "a9390a11",
   "metadata": {},
   "outputs": [
    {
     "data": {
      "text/plain": [
       "0    4135\n",
       "1     275\n",
       "Name: heart_disease, dtype: int64"
      ]
     },
     "execution_count": 20,
     "metadata": {},
     "output_type": "execute_result"
    }
   ],
   "source": [
    "df['heart_disease'].value_counts()"
   ]
  },
  {
   "cell_type": "code",
   "execution_count": 21,
   "id": "fa05cb53",
   "metadata": {},
   "outputs": [
    {
     "data": {
      "text/plain": [
       "(-1.25, 1.25, -1.25, 1.25)"
      ]
     },
     "execution_count": 21,
     "metadata": {},
     "output_type": "execute_result"
    },
    {
     "data": {
      "image/png": "[encoded data removed]",
      "text/plain": [
       "<Figure size 400x400 with 1 Axes>"
      ]
     },
     "metadata": {},
     "output_type": "display_data"
    }
   ],
   "source": [
    "df.heart_disease.value_counts().plot(kind='pie', autopct='%1.1f%%', figsize=(4,4))\n",
    "plt.title('heart_disease')\n",
    "plt.tight_layout()\n",
    "plt.axis('off')"
   ]
  },
  {
   "cell_type": "markdown",
   "id": "1d4c336f",
   "metadata": {},
   "source": [
    "### ever_married"
   ]
  },
  {
   "cell_type": "code",
   "execution_count": 22,
   "id": "223edf7b",
   "metadata": {},
   "outputs": [
    {
     "data": {
      "text/plain": [
       "Yes    3353\n",
       "No     1057\n",
       "Name: ever_married, dtype: int64"
      ]
     },
     "execution_count": 22,
     "metadata": {},
     "output_type": "execute_result"
    }
   ],
   "source": [
    "df['ever_married'].value_counts()"
   ]
  },
  {
   "cell_type": "markdown",
   "id": "0537024a",
   "metadata": {},
   "source": [
    "Для улучшения работы модели заменим категориальные на количественные признаки"
   ]
  },
  {
   "cell_type": "code",
   "execution_count": 23,
   "id": "ca34ac11",
   "metadata": {},
   "outputs": [
    {
     "data": {
      "text/plain": [
       "1    3353\n",
       "0    1057\n",
       "Name: ever_married, dtype: int64"
      ]
     },
     "execution_count": 23,
     "metadata": {},
     "output_type": "execute_result"
    }
   ],
   "source": [
    "df['ever_married'] = df['ever_married'].replace('Yes', 1)\n",
    "df['ever_married'] = df['ever_married'].replace('No', 0)\n",
    "df['ever_married'].value_counts()"
   ]
  },
  {
   "cell_type": "code",
   "execution_count": 24,
   "id": "685dde9a",
   "metadata": {},
   "outputs": [
    {
     "data": {
      "text/plain": [
       "(-1.25, 1.25, -1.25, 1.25)"
      ]
     },
     "execution_count": 24,
     "metadata": {},
     "output_type": "execute_result"
    },
    {
     "data": {
      "image/png": "[encoded data removed]",
      "text/plain": [
       "<Figure size 400x400 with 1 Axes>"
      ]
     },
     "metadata": {},
     "output_type": "display_data"
    }
   ],
   "source": [
    "df.ever_married.value_counts().plot(kind='pie', autopct='%1.1f%%', figsize=(4,4))\n",
    "plt.title('ever_married')\n",
    "plt.tight_layout()\n",
    "plt.axis('off')"
   ]
  },
  {
   "cell_type": "markdown",
   "id": "0e9019a9",
   "metadata": {},
   "source": [
    "### work_type"
   ]
  },
  {
   "cell_type": "code",
   "execution_count": 25,
   "id": "2861c89d",
   "metadata": {
    "scrolled": true
   },
   "outputs": [
    {
     "data": {
      "text/plain": [
       "Private          2895\n",
       "Self-employed     813\n",
       "Govt_job          656\n",
       "children           30\n",
       "Never_worked       16\n",
       "Name: work_type, dtype: int64"
      ]
     },
     "execution_count": 25,
     "metadata": {},
     "output_type": "execute_result"
    }
   ],
   "source": [
    "df['work_type'].value_counts()"
   ]
  },
  {
   "cell_type": "code",
   "execution_count": 26,
   "id": "77785b71",
   "metadata": {},
   "outputs": [],
   "source": [
    "df['work_type'] = df['work_type'].replace(('Never_worked', 'Private', 'Self-employed', 'Govt_job', 'children'), (0, 1, 2, 3, 4))"
   ]
  },
  {
   "cell_type": "code",
   "execution_count": 27,
   "id": "3a79c57f",
   "metadata": {},
   "outputs": [
    {
     "data": {
      "text/plain": [
       "count    4410.000000\n",
       "mean        1.498639\n",
       "std         0.771823\n",
       "min         0.000000\n",
       "25%         1.000000\n",
       "50%         1.000000\n",
       "75%         2.000000\n",
       "max         4.000000\n",
       "Name: work_type, dtype: float64"
      ]
     },
     "execution_count": 27,
     "metadata": {},
     "output_type": "execute_result"
    }
   ],
   "source": [
    "df['work_type'].describe()"
   ]
  },
  {
   "cell_type": "code",
   "execution_count": 28,
   "id": "0c1401fb",
   "metadata": {},
   "outputs": [
    {
     "data": {
      "text/plain": [
       "(-1.25, 1.25, -1.25, 1.25)"
      ]
     },
     "execution_count": 28,
     "metadata": {},
     "output_type": "execute_result"
    },
    {
     "data": {
      "image/png": "[encoded data removed]",
      "text/plain": [
       "<Figure size 400x400 with 1 Axes>"
      ]
     },
     "metadata": {},
     "output_type": "display_data"
    }
   ],
   "source": [
    "df.work_type.value_counts().plot(kind='pie', autopct='%1.1f%%', figsize=(4,4))\n",
    "plt.title('work_type')\n",
    "plt.tight_layout()\n",
    "plt.axis('off')"
   ]
  },
  {
   "cell_type": "markdown",
   "id": "469aa440",
   "metadata": {},
   "source": [
    "### Residence_type"
   ]
  },
  {
   "cell_type": "code",
   "execution_count": 29,
   "id": "9702fd5d",
   "metadata": {},
   "outputs": [
    {
     "data": {
      "text/plain": [
       "Urban    2244\n",
       "Rural    2166\n",
       "Name: residence_type, dtype: int64"
      ]
     },
     "execution_count": 29,
     "metadata": {},
     "output_type": "execute_result"
    }
   ],
   "source": [
    "df['residence_type'].value_counts()"
   ]
  },
  {
   "cell_type": "code",
   "execution_count": 30,
   "id": "53789754",
   "metadata": {
    "scrolled": true
   },
   "outputs": [
    {
     "data": {
      "text/plain": [
       "(-1.25, 1.25, -1.25, 1.25)"
      ]
     },
     "execution_count": 30,
     "metadata": {},
     "output_type": "execute_result"
    },
    {
     "data": {
      "image/png": "[encoded data removed]",
      "text/plain": [
       "<Figure size 400x400 with 1 Axes>"
      ]
     },
     "metadata": {},
     "output_type": "display_data"
    }
   ],
   "source": [
    "df.residence_type.value_counts().plot(kind='pie', autopct='%1.1f%%', figsize=(4,4))\n",
    "plt.title('residence_type')\n",
    "plt.tight_layout()\n",
    "plt.axis('off')"
   ]
  },
  {
   "cell_type": "markdown",
   "id": "2d845a74",
   "metadata": {},
   "source": [
    "Чтобы перевести столбец residence_type  в бинарный числовой тип создадим столбец if_urban"
   ]
  },
  {
   "cell_type": "code",
   "execution_count": 31,
   "id": "f74c0495",
   "metadata": {},
   "outputs": [],
   "source": [
    "df['residence_type'] = df['residence_type'].replace(('Urban', 'Rural'), (1, 0))"
   ]
  },
  {
   "cell_type": "code",
   "execution_count": 32,
   "id": "3dce5484",
   "metadata": {},
   "outputs": [
    {
     "data": {
      "text/plain": [
       "count    4410.000000\n",
       "mean        0.508844\n",
       "std         0.499978\n",
       "min         0.000000\n",
       "25%         0.000000\n",
       "50%         1.000000\n",
       "75%         1.000000\n",
       "max         1.000000\n",
       "Name: residence_type, dtype: float64"
      ]
     },
     "execution_count": 32,
     "metadata": {},
     "output_type": "execute_result"
    }
   ],
   "source": [
    "df['residence_type'].describe()"
   ]
  },
  {
   "cell_type": "markdown",
   "id": "ddbf89f2",
   "metadata": {},
   "source": [
    "### avg_glucose_level"
   ]
  },
  {
   "cell_type": "code",
   "execution_count": 33,
   "id": "e3747c80",
   "metadata": {},
   "outputs": [
    {
     "data": {
      "text/plain": [
       "count    4410.000000\n",
       "mean      108.001594\n",
       "std        47.257134\n",
       "min        55.120000\n",
       "25%        77.492500\n",
       "50%        92.225000\n",
       "75%       115.820000\n",
       "max       271.740000\n",
       "Name: avg_glucose_level, dtype: float64"
      ]
     },
     "execution_count": 33,
     "metadata": {},
     "output_type": "execute_result"
    }
   ],
   "source": [
    "df['avg_glucose_level'].describe()"
   ]
  },
  {
   "cell_type": "markdown",
   "id": "b7c94cb3",
   "metadata": {},
   "source": [
    "Cогласно клиническому определению, “нормальный” уровень глюкозы в крови составляет 70-120 мг / дЛ (миллиграмм на децилитр), если вы голодали восемь-двенадцать часов, или 70-160 мг / дЛ, если вы не голодали. Посмотрим количество наблюдений, где avg_glucose_level свыше 160"
   ]
  },
  {
   "cell_type": "code",
   "execution_count": 34,
   "id": "bd587139",
   "metadata": {
    "scrolled": true
   },
   "outputs": [
    {
     "data": {
      "text/html": [
       "<div>\n",
       "<style scoped>\n",
       "    .dataframe tbody tr th:only-of-type {\n",
       "        vertical-align: middle;\n",
       "    }\n",
       "\n",
       "    .dataframe tbody tr th {\n",
       "        vertical-align: top;\n",
       "    }\n",
       "\n",
       "    .dataframe thead th {\n",
       "        text-align: right;\n",
       "    }\n",
       "</style>\n",
       "<table border=\"1\" class=\"dataframe\">\n",
       "  <thead>\n",
       "    <tr style=\"text-align: right;\">\n",
       "      <th></th>\n",
       "      <th>id</th>\n",
       "      <th>gender</th>\n",
       "      <th>age</th>\n",
       "      <th>hypertension</th>\n",
       "      <th>heart_disease</th>\n",
       "      <th>ever_married</th>\n",
       "      <th>work_type</th>\n",
       "      <th>residence_type</th>\n",
       "      <th>avg_glucose_level</th>\n",
       "      <th>bmi</th>\n",
       "      <th>smoking_status</th>\n",
       "      <th>stroke</th>\n",
       "    </tr>\n",
       "  </thead>\n",
       "  <tbody>\n",
       "    <tr>\n",
       "      <th>0</th>\n",
       "      <td>9046</td>\n",
       "      <td>1</td>\n",
       "      <td>67.0</td>\n",
       "      <td>0</td>\n",
       "      <td>1</td>\n",
       "      <td>1</td>\n",
       "      <td>1</td>\n",
       "      <td>1</td>\n",
       "      <td>228.69</td>\n",
       "      <td>36.6</td>\n",
       "      <td>formerly smoked</td>\n",
       "      <td>1</td>\n",
       "    </tr>\n",
       "    <tr>\n",
       "      <th>1</th>\n",
       "      <td>51676</td>\n",
       "      <td>0</td>\n",
       "      <td>61.0</td>\n",
       "      <td>0</td>\n",
       "      <td>0</td>\n",
       "      <td>1</td>\n",
       "      <td>2</td>\n",
       "      <td>0</td>\n",
       "      <td>202.21</td>\n",
       "      <td>NaN</td>\n",
       "      <td>never smoked</td>\n",
       "      <td>1</td>\n",
       "    </tr>\n",
       "    <tr>\n",
       "      <th>3</th>\n",
       "      <td>60182</td>\n",
       "      <td>0</td>\n",
       "      <td>49.0</td>\n",
       "      <td>0</td>\n",
       "      <td>0</td>\n",
       "      <td>1</td>\n",
       "      <td>1</td>\n",
       "      <td>1</td>\n",
       "      <td>171.23</td>\n",
       "      <td>34.4</td>\n",
       "      <td>smokes</td>\n",
       "      <td>1</td>\n",
       "    </tr>\n",
       "    <tr>\n",
       "      <th>4</th>\n",
       "      <td>1665</td>\n",
       "      <td>0</td>\n",
       "      <td>79.0</td>\n",
       "      <td>1</td>\n",
       "      <td>0</td>\n",
       "      <td>1</td>\n",
       "      <td>2</td>\n",
       "      <td>0</td>\n",
       "      <td>174.12</td>\n",
       "      <td>24.0</td>\n",
       "      <td>never smoked</td>\n",
       "      <td>1</td>\n",
       "    </tr>\n",
       "    <tr>\n",
       "      <th>5</th>\n",
       "      <td>56669</td>\n",
       "      <td>1</td>\n",
       "      <td>81.0</td>\n",
       "      <td>0</td>\n",
       "      <td>0</td>\n",
       "      <td>1</td>\n",
       "      <td>1</td>\n",
       "      <td>1</td>\n",
       "      <td>186.21</td>\n",
       "      <td>29.0</td>\n",
       "      <td>formerly smoked</td>\n",
       "      <td>1</td>\n",
       "    </tr>\n",
       "    <tr>\n",
       "      <th>...</th>\n",
       "      <td>...</td>\n",
       "      <td>...</td>\n",
       "      <td>...</td>\n",
       "      <td>...</td>\n",
       "      <td>...</td>\n",
       "      <td>...</td>\n",
       "      <td>...</td>\n",
       "      <td>...</td>\n",
       "      <td>...</td>\n",
       "      <td>...</td>\n",
       "      <td>...</td>\n",
       "      <td>...</td>\n",
       "    </tr>\n",
       "    <tr>\n",
       "      <th>5062</th>\n",
       "      <td>11184</td>\n",
       "      <td>0</td>\n",
       "      <td>82.0</td>\n",
       "      <td>0</td>\n",
       "      <td>0</td>\n",
       "      <td>1</td>\n",
       "      <td>2</td>\n",
       "      <td>0</td>\n",
       "      <td>211.58</td>\n",
       "      <td>36.9</td>\n",
       "      <td>never smoked</td>\n",
       "      <td>0</td>\n",
       "    </tr>\n",
       "    <tr>\n",
       "      <th>5063</th>\n",
       "      <td>68967</td>\n",
       "      <td>1</td>\n",
       "      <td>39.0</td>\n",
       "      <td>0</td>\n",
       "      <td>0</td>\n",
       "      <td>1</td>\n",
       "      <td>1</td>\n",
       "      <td>1</td>\n",
       "      <td>179.38</td>\n",
       "      <td>27.7</td>\n",
       "      <td>Unknown</td>\n",
       "      <td>0</td>\n",
       "    </tr>\n",
       "    <tr>\n",
       "      <th>5064</th>\n",
       "      <td>66684</td>\n",
       "      <td>1</td>\n",
       "      <td>70.0</td>\n",
       "      <td>0</td>\n",
       "      <td>0</td>\n",
       "      <td>1</td>\n",
       "      <td>2</td>\n",
       "      <td>0</td>\n",
       "      <td>193.88</td>\n",
       "      <td>24.3</td>\n",
       "      <td>Unknown</td>\n",
       "      <td>0</td>\n",
       "    </tr>\n",
       "    <tr>\n",
       "      <th>5076</th>\n",
       "      <td>39935</td>\n",
       "      <td>0</td>\n",
       "      <td>34.0</td>\n",
       "      <td>0</td>\n",
       "      <td>0</td>\n",
       "      <td>1</td>\n",
       "      <td>1</td>\n",
       "      <td>0</td>\n",
       "      <td>174.37</td>\n",
       "      <td>23.0</td>\n",
       "      <td>never smoked</td>\n",
       "      <td>0</td>\n",
       "    </tr>\n",
       "    <tr>\n",
       "      <th>5108</th>\n",
       "      <td>37544</td>\n",
       "      <td>1</td>\n",
       "      <td>51.0</td>\n",
       "      <td>0</td>\n",
       "      <td>0</td>\n",
       "      <td>1</td>\n",
       "      <td>1</td>\n",
       "      <td>0</td>\n",
       "      <td>166.29</td>\n",
       "      <td>25.6</td>\n",
       "      <td>formerly smoked</td>\n",
       "      <td>0</td>\n",
       "    </tr>\n",
       "  </tbody>\n",
       "</table>\n",
       "<p>649 rows × 12 columns</p>\n",
       "</div>"
      ],
      "text/plain": [
       "         id  gender   age  hypertension  heart_disease  ever_married  \\\n",
       "0      9046       1  67.0             0              1             1   \n",
       "1     51676       0  61.0             0              0             1   \n",
       "3     60182       0  49.0             0              0             1   \n",
       "4      1665       0  79.0             1              0             1   \n",
       "5     56669       1  81.0             0              0             1   \n",
       "...     ...     ...   ...           ...            ...           ...   \n",
       "5062  11184       0  82.0             0              0             1   \n",
       "5063  68967       1  39.0             0              0             1   \n",
       "5064  66684       1  70.0             0              0             1   \n",
       "5076  39935       0  34.0             0              0             1   \n",
       "5108  37544       1  51.0             0              0             1   \n",
       "\n",
       "      work_type  residence_type  avg_glucose_level   bmi   smoking_status  \\\n",
       "0             1               1             228.69  36.6  formerly smoked   \n",
       "1             2               0             202.21   NaN     never smoked   \n",
       "3             1               1             171.23  34.4           smokes   \n",
       "4             2               0             174.12  24.0     never smoked   \n",
       "5             1               1             186.21  29.0  formerly smoked   \n",
       "...         ...             ...                ...   ...              ...   \n",
       "5062          2               0             211.58  36.9     never smoked   \n",
       "5063          1               1             179.38  27.7          Unknown   \n",
       "5064          2               0             193.88  24.3          Unknown   \n",
       "5076          1               0             174.37  23.0     never smoked   \n",
       "5108          1               0             166.29  25.6  formerly smoked   \n",
       "\n",
       "      stroke  \n",
       "0          1  \n",
       "1          1  \n",
       "3          1  \n",
       "4          1  \n",
       "5          1  \n",
       "...      ...  \n",
       "5062       0  \n",
       "5063       0  \n",
       "5064       0  \n",
       "5076       0  \n",
       "5108       0  \n",
       "\n",
       "[649 rows x 12 columns]"
      ]
     },
     "execution_count": 34,
     "metadata": {},
     "output_type": "execute_result"
    }
   ],
   "source": [
    "df[df['avg_glucose_level'] >= 160]"
   ]
  },
  {
   "cell_type": "markdown",
   "id": "f4d95d11",
   "metadata": {},
   "source": [
    "Не так много. Если большая часть не переносили инсульт, удалим их из нашего датасета"
   ]
  },
  {
   "cell_type": "code",
   "execution_count": 35,
   "id": "ae50215e",
   "metadata": {},
   "outputs": [
    {
     "data": {
      "text/html": [
       "<div>\n",
       "<style scoped>\n",
       "    .dataframe tbody tr th:only-of-type {\n",
       "        vertical-align: middle;\n",
       "    }\n",
       "\n",
       "    .dataframe tbody tr th {\n",
       "        vertical-align: top;\n",
       "    }\n",
       "\n",
       "    .dataframe thead th {\n",
       "        text-align: right;\n",
       "    }\n",
       "</style>\n",
       "<table border=\"1\" class=\"dataframe\">\n",
       "  <thead>\n",
       "    <tr style=\"text-align: right;\">\n",
       "      <th></th>\n",
       "      <th>id</th>\n",
       "      <th>gender</th>\n",
       "      <th>age</th>\n",
       "      <th>hypertension</th>\n",
       "      <th>heart_disease</th>\n",
       "      <th>ever_married</th>\n",
       "      <th>work_type</th>\n",
       "      <th>residence_type</th>\n",
       "      <th>avg_glucose_level</th>\n",
       "      <th>bmi</th>\n",
       "      <th>smoking_status</th>\n",
       "      <th>stroke</th>\n",
       "    </tr>\n",
       "  </thead>\n",
       "  <tbody>\n",
       "    <tr>\n",
       "      <th>254</th>\n",
       "      <td>32257</td>\n",
       "      <td>0</td>\n",
       "      <td>47.0</td>\n",
       "      <td>0</td>\n",
       "      <td>0</td>\n",
       "      <td>1</td>\n",
       "      <td>1</td>\n",
       "      <td>1</td>\n",
       "      <td>210.95</td>\n",
       "      <td>50.1</td>\n",
       "      <td>Unknown</td>\n",
       "      <td>0</td>\n",
       "    </tr>\n",
       "    <tr>\n",
       "      <th>256</th>\n",
       "      <td>41413</td>\n",
       "      <td>0</td>\n",
       "      <td>75.0</td>\n",
       "      <td>0</td>\n",
       "      <td>1</td>\n",
       "      <td>1</td>\n",
       "      <td>2</td>\n",
       "      <td>0</td>\n",
       "      <td>243.53</td>\n",
       "      <td>27.0</td>\n",
       "      <td>never smoked</td>\n",
       "      <td>0</td>\n",
       "    </tr>\n",
       "    <tr>\n",
       "      <th>258</th>\n",
       "      <td>28674</td>\n",
       "      <td>0</td>\n",
       "      <td>74.0</td>\n",
       "      <td>1</td>\n",
       "      <td>0</td>\n",
       "      <td>1</td>\n",
       "      <td>2</td>\n",
       "      <td>1</td>\n",
       "      <td>205.84</td>\n",
       "      <td>54.6</td>\n",
       "      <td>never smoked</td>\n",
       "      <td>0</td>\n",
       "    </tr>\n",
       "    <tr>\n",
       "      <th>261</th>\n",
       "      <td>63884</td>\n",
       "      <td>0</td>\n",
       "      <td>37.0</td>\n",
       "      <td>0</td>\n",
       "      <td>0</td>\n",
       "      <td>1</td>\n",
       "      <td>1</td>\n",
       "      <td>0</td>\n",
       "      <td>162.96</td>\n",
       "      <td>39.4</td>\n",
       "      <td>never smoked</td>\n",
       "      <td>0</td>\n",
       "    </tr>\n",
       "    <tr>\n",
       "      <th>272</th>\n",
       "      <td>4057</td>\n",
       "      <td>1</td>\n",
       "      <td>71.0</td>\n",
       "      <td>0</td>\n",
       "      <td>0</td>\n",
       "      <td>1</td>\n",
       "      <td>1</td>\n",
       "      <td>1</td>\n",
       "      <td>198.21</td>\n",
       "      <td>27.3</td>\n",
       "      <td>formerly smoked</td>\n",
       "      <td>0</td>\n",
       "    </tr>\n",
       "    <tr>\n",
       "      <th>...</th>\n",
       "      <td>...</td>\n",
       "      <td>...</td>\n",
       "      <td>...</td>\n",
       "      <td>...</td>\n",
       "      <td>...</td>\n",
       "      <td>...</td>\n",
       "      <td>...</td>\n",
       "      <td>...</td>\n",
       "      <td>...</td>\n",
       "      <td>...</td>\n",
       "      <td>...</td>\n",
       "      <td>...</td>\n",
       "    </tr>\n",
       "    <tr>\n",
       "      <th>5062</th>\n",
       "      <td>11184</td>\n",
       "      <td>0</td>\n",
       "      <td>82.0</td>\n",
       "      <td>0</td>\n",
       "      <td>0</td>\n",
       "      <td>1</td>\n",
       "      <td>2</td>\n",
       "      <td>0</td>\n",
       "      <td>211.58</td>\n",
       "      <td>36.9</td>\n",
       "      <td>never smoked</td>\n",
       "      <td>0</td>\n",
       "    </tr>\n",
       "    <tr>\n",
       "      <th>5063</th>\n",
       "      <td>68967</td>\n",
       "      <td>1</td>\n",
       "      <td>39.0</td>\n",
       "      <td>0</td>\n",
       "      <td>0</td>\n",
       "      <td>1</td>\n",
       "      <td>1</td>\n",
       "      <td>1</td>\n",
       "      <td>179.38</td>\n",
       "      <td>27.7</td>\n",
       "      <td>Unknown</td>\n",
       "      <td>0</td>\n",
       "    </tr>\n",
       "    <tr>\n",
       "      <th>5064</th>\n",
       "      <td>66684</td>\n",
       "      <td>1</td>\n",
       "      <td>70.0</td>\n",
       "      <td>0</td>\n",
       "      <td>0</td>\n",
       "      <td>1</td>\n",
       "      <td>2</td>\n",
       "      <td>0</td>\n",
       "      <td>193.88</td>\n",
       "      <td>24.3</td>\n",
       "      <td>Unknown</td>\n",
       "      <td>0</td>\n",
       "    </tr>\n",
       "    <tr>\n",
       "      <th>5076</th>\n",
       "      <td>39935</td>\n",
       "      <td>0</td>\n",
       "      <td>34.0</td>\n",
       "      <td>0</td>\n",
       "      <td>0</td>\n",
       "      <td>1</td>\n",
       "      <td>1</td>\n",
       "      <td>0</td>\n",
       "      <td>174.37</td>\n",
       "      <td>23.0</td>\n",
       "      <td>never smoked</td>\n",
       "      <td>0</td>\n",
       "    </tr>\n",
       "    <tr>\n",
       "      <th>5108</th>\n",
       "      <td>37544</td>\n",
       "      <td>1</td>\n",
       "      <td>51.0</td>\n",
       "      <td>0</td>\n",
       "      <td>0</td>\n",
       "      <td>1</td>\n",
       "      <td>1</td>\n",
       "      <td>0</td>\n",
       "      <td>166.29</td>\n",
       "      <td>25.6</td>\n",
       "      <td>formerly smoked</td>\n",
       "      <td>0</td>\n",
       "    </tr>\n",
       "  </tbody>\n",
       "</table>\n",
       "<p>560 rows × 12 columns</p>\n",
       "</div>"
      ],
      "text/plain": [
       "         id  gender   age  hypertension  heart_disease  ever_married  \\\n",
       "254   32257       0  47.0             0              0             1   \n",
       "256   41413       0  75.0             0              1             1   \n",
       "258   28674       0  74.0             1              0             1   \n",
       "261   63884       0  37.0             0              0             1   \n",
       "272    4057       1  71.0             0              0             1   \n",
       "...     ...     ...   ...           ...            ...           ...   \n",
       "5062  11184       0  82.0             0              0             1   \n",
       "5063  68967       1  39.0             0              0             1   \n",
       "5064  66684       1  70.0             0              0             1   \n",
       "5076  39935       0  34.0             0              0             1   \n",
       "5108  37544       1  51.0             0              0             1   \n",
       "\n",
       "      work_type  residence_type  avg_glucose_level   bmi   smoking_status  \\\n",
       "254           1               1             210.95  50.1          Unknown   \n",
       "256           2               0             243.53  27.0     never smoked   \n",
       "258           2               1             205.84  54.6     never smoked   \n",
       "261           1               0             162.96  39.4     never smoked   \n",
       "272           1               1             198.21  27.3  formerly smoked   \n",
       "...         ...             ...                ...   ...              ...   \n",
       "5062          2               0             211.58  36.9     never smoked   \n",
       "5063          1               1             179.38  27.7          Unknown   \n",
       "5064          2               0             193.88  24.3          Unknown   \n",
       "5076          1               0             174.37  23.0     never smoked   \n",
       "5108          1               0             166.29  25.6  formerly smoked   \n",
       "\n",
       "      stroke  \n",
       "254        0  \n",
       "256        0  \n",
       "258        0  \n",
       "261        0  \n",
       "272        0  \n",
       "...      ...  \n",
       "5062       0  \n",
       "5063       0  \n",
       "5064       0  \n",
       "5076       0  \n",
       "5108       0  \n",
       "\n",
       "[560 rows x 12 columns]"
      ]
     },
     "execution_count": 35,
     "metadata": {},
     "output_type": "execute_result"
    }
   ],
   "source": [
    "df[(df['avg_glucose_level'] >= 160)&(df['stroke'] == 0)]"
   ]
  },
  {
   "cell_type": "code",
   "execution_count": 36,
   "id": "2de0abfb",
   "metadata": {},
   "outputs": [],
   "source": [
    "df = df[df['avg_glucose_level'] <= 160]"
   ]
  },
  {
   "cell_type": "code",
   "execution_count": 37,
   "id": "585f72a6",
   "metadata": {
    "scrolled": true
   },
   "outputs": [
    {
     "data": {
      "text/plain": [
       "<Axes: >"
      ]
     },
     "execution_count": 37,
     "metadata": {},
     "output_type": "execute_result"
    },
    {
     "data": {
      "image/png": "[encoded data removed]",
      "text/plain": [
       "<Figure size 500x500 with 1 Axes>"
      ]
     },
     "metadata": {},
     "output_type": "display_data"
    }
   ],
   "source": [
    "df['avg_glucose_level'].hist(figsize=(5, 5))"
   ]
  },
  {
   "cell_type": "markdown",
   "id": "0590bbed",
   "metadata": {},
   "source": [
    "Нижний предел оставим как есть"
   ]
  },
  {
   "cell_type": "markdown",
   "id": "bcec0168",
   "metadata": {},
   "source": [
    "### bmi"
   ]
  },
  {
   "cell_type": "code",
   "execution_count": 38,
   "id": "c3c2d361",
   "metadata": {},
   "outputs": [
    {
     "data": {
      "text/plain": [
       "count    3640.000000\n",
       "mean       29.827500\n",
       "std         7.130484\n",
       "min        11.300000\n",
       "25%        24.900000\n",
       "50%        28.700000\n",
       "75%        33.300000\n",
       "max        97.600000\n",
       "Name: bmi, dtype: float64"
      ]
     },
     "execution_count": 38,
     "metadata": {},
     "output_type": "execute_result"
    }
   ],
   "source": [
    "df['bmi'].describe()"
   ]
  },
  {
   "cell_type": "markdown",
   "id": "cef03249",
   "metadata": {},
   "source": [
    "Наблюдаются слишком высокие и слишком низкие показатели. Исходя из данных из Wikipedia, от 30 лет и выше имеют показатель bmi от 20 и до 42"
   ]
  },
  {
   "cell_type": "code",
   "execution_count": 39,
   "id": "04ef2383",
   "metadata": {},
   "outputs": [],
   "source": [
    "df = df[(df['bmi'] >= 20)&(df['bmi'] <= 42)]"
   ]
  },
  {
   "cell_type": "code",
   "execution_count": 40,
   "id": "d683cf03",
   "metadata": {},
   "outputs": [
    {
     "data": {
      "text/plain": [
       "count    3325.000000\n",
       "mean       29.090827\n",
       "std         5.184176\n",
       "min        20.000000\n",
       "25%        25.000000\n",
       "50%        28.500000\n",
       "75%        32.500000\n",
       "max        42.000000\n",
       "Name: bmi, dtype: float64"
      ]
     },
     "execution_count": 40,
     "metadata": {},
     "output_type": "execute_result"
    }
   ],
   "source": [
    "df['bmi'].describe()"
   ]
  },
  {
   "cell_type": "code",
   "execution_count": 41,
   "id": "5f0c3f6b",
   "metadata": {
    "scrolled": true
   },
   "outputs": [
    {
     "data": {
      "text/plain": [
       "<Axes: >"
      ]
     },
     "execution_count": 41,
     "metadata": {},
     "output_type": "execute_result"
    },
    {
     "data": {
      "image/png": "[encoded data removed]",
      "text/plain": [
       "<Figure size 500x500 with 1 Axes>"
      ]
     },
     "metadata": {},
     "output_type": "display_data"
    }
   ],
   "source": [
    "df['bmi'].hist(figsize=(5, 5))"
   ]
  },
  {
   "cell_type": "markdown",
   "id": "c7581368",
   "metadata": {},
   "source": [
    "### smoking_status"
   ]
  },
  {
   "cell_type": "code",
   "execution_count": 42,
   "id": "5fc7a35f",
   "metadata": {},
   "outputs": [
    {
     "data": {
      "text/plain": [
       "never smoked       1403\n",
       "Unknown             731\n",
       "formerly smoked     607\n",
       "smokes              584\n",
       "Name: smoking_status, dtype: int64"
      ]
     },
     "execution_count": 42,
     "metadata": {},
     "output_type": "execute_result"
    }
   ],
   "source": [
    "df['smoking_status'].value_counts()"
   ]
  },
  {
   "cell_type": "markdown",
   "id": "08a51d2e",
   "metadata": {},
   "source": [
    "Напишем функцию и преобразуем в числовые значения"
   ]
  },
  {
   "cell_type": "code",
   "execution_count": 43,
   "id": "8d4fd9fe",
   "metadata": {},
   "outputs": [],
   "source": [
    "df['smoking_status'] = df['smoking_status'].replace(('never smoked', 'formerly smoked', 'smokes', 'Unknown'), (0, 1, 2, 3))   "
   ]
  },
  {
   "cell_type": "code",
   "execution_count": 44,
   "id": "344935ba",
   "metadata": {},
   "outputs": [
    {
     "data": {
      "text/plain": [
       "count    3325.000000\n",
       "mean        1.193383\n",
       "std         1.200012\n",
       "min         0.000000\n",
       "25%         0.000000\n",
       "50%         1.000000\n",
       "75%         2.000000\n",
       "max         3.000000\n",
       "Name: smoking_status, dtype: float64"
      ]
     },
     "execution_count": 44,
     "metadata": {},
     "output_type": "execute_result"
    }
   ],
   "source": [
    "df['smoking_status'].describe()"
   ]
  },
  {
   "cell_type": "code",
   "execution_count": 45,
   "id": "5038e2da",
   "metadata": {
    "scrolled": true
   },
   "outputs": [
    {
     "data": {
      "text/plain": [
       "(-1.25, 1.25, -1.25, 1.25)"
      ]
     },
     "execution_count": 45,
     "metadata": {},
     "output_type": "execute_result"
    },
    {
     "data": {
      "image/png": "[encoded data removed]",
      "text/plain": [
       "<Figure size 400x400 with 1 Axes>"
      ]
     },
     "metadata": {},
     "output_type": "display_data"
    }
   ],
   "source": [
    "df.smoking_status.value_counts().plot(kind='pie', autopct='%1.1f%%', figsize=(4,4))\n",
    "plt.title('smoking_status')\n",
    "plt.tight_layout()\n",
    "plt.axis('off')"
   ]
  },
  {
   "cell_type": "markdown",
   "id": "7a017507",
   "metadata": {},
   "source": [
    "### stroke"
   ]
  },
  {
   "cell_type": "code",
   "execution_count": 46,
   "id": "58cc7316",
   "metadata": {
    "scrolled": true
   },
   "outputs": [
    {
     "data": {
      "text/plain": [
       "(-1.25, 1.25, -1.25, 1.25)"
      ]
     },
     "execution_count": 46,
     "metadata": {},
     "output_type": "execute_result"
    },
    {
     "data": {
      "image/png": "[encoded data removed]",
      "text/plain": [
       "<Figure size 400x400 with 1 Axes>"
      ]
     },
     "metadata": {},
     "output_type": "display_data"
    }
   ],
   "source": [
    "df.stroke.value_counts().plot(kind='pie', autopct='%1.1f%%', figsize=(4,4))\n",
    "plt.title('stroke')\n",
    "plt.tight_layout()\n",
    "plt.axis('off')"
   ]
  },
  {
   "cell_type": "code",
   "execution_count": 47,
   "id": "a76bae55",
   "metadata": {},
   "outputs": [
    {
     "name": "stdout",
     "output_type": "stream",
     "text": [
      "<class 'pandas.core.frame.DataFrame'>\n",
      "Int64Index: 3325 entries, 2 to 5109\n",
      "Data columns (total 12 columns):\n",
      " #   Column             Non-Null Count  Dtype  \n",
      "---  ------             --------------  -----  \n",
      " 0   id                 3325 non-null   int64  \n",
      " 1   gender             3325 non-null   int64  \n",
      " 2   age                3325 non-null   float64\n",
      " 3   hypertension       3325 non-null   int64  \n",
      " 4   heart_disease      3325 non-null   int64  \n",
      " 5   ever_married       3325 non-null   int64  \n",
      " 6   work_type          3325 non-null   int64  \n",
      " 7   residence_type     3325 non-null   int64  \n",
      " 8   avg_glucose_level  3325 non-null   float64\n",
      " 9   bmi                3325 non-null   float64\n",
      " 10  smoking_status     3325 non-null   int64  \n",
      " 11  stroke             3325 non-null   int64  \n",
      "dtypes: float64(3), int64(9)\n",
      "memory usage: 337.7 KB\n"
     ]
    }
   ],
   "source": [
    "df.info()"
   ]
  },
  {
   "cell_type": "markdown",
   "id": "312ac241",
   "metadata": {},
   "source": [
    "### Вывод по предобработке"
   ]
  },
  {
   "cell_type": "markdown",
   "id": "4dd3c2ca",
   "metadata": {},
   "source": [
    "В столбце gender убрали 1 строку с показателем other. "
   ]
  },
  {
   "cell_type": "code",
   "execution_count": 48,
   "id": "ae1f62b8",
   "metadata": {},
   "outputs": [],
   "source": [
    "df = df.drop(['id'], axis=1)"
   ]
  },
  {
   "cell_type": "markdown",
   "id": "083dc767",
   "metadata": {},
   "source": [
    "## Подготовка к обучению моделей"
   ]
  },
  {
   "cell_type": "markdown",
   "id": "b4f75d01",
   "metadata": {},
   "source": [
    "Разделим наши данные на признаки  целевой признак"
   ]
  },
  {
   "cell_type": "code",
   "execution_count": 49,
   "id": "e6c185fb",
   "metadata": {},
   "outputs": [],
   "source": [
    "X = df.drop(['stroke'], axis=1)\n",
    "y = df['stroke']"
   ]
  },
  {
   "cell_type": "code",
   "execution_count": 50,
   "id": "92e2e58c",
   "metadata": {
    "scrolled": true
   },
   "outputs": [
    {
     "data": {
      "text/html": [
       "<div>\n",
       "<style scoped>\n",
       "    .dataframe tbody tr th:only-of-type {\n",
       "        vertical-align: middle;\n",
       "    }\n",
       "\n",
       "    .dataframe tbody tr th {\n",
       "        vertical-align: top;\n",
       "    }\n",
       "\n",
       "    .dataframe thead th {\n",
       "        text-align: right;\n",
       "    }\n",
       "</style>\n",
       "<table border=\"1\" class=\"dataframe\">\n",
       "  <thead>\n",
       "    <tr style=\"text-align: right;\">\n",
       "      <th></th>\n",
       "      <th>gender</th>\n",
       "      <th>age</th>\n",
       "      <th>hypertension</th>\n",
       "      <th>heart_disease</th>\n",
       "      <th>ever_married</th>\n",
       "      <th>work_type</th>\n",
       "      <th>residence_type</th>\n",
       "      <th>avg_glucose_level</th>\n",
       "      <th>bmi</th>\n",
       "      <th>smoking_status</th>\n",
       "      <th>stroke</th>\n",
       "    </tr>\n",
       "  </thead>\n",
       "  <tbody>\n",
       "    <tr>\n",
       "      <th>2</th>\n",
       "      <td>1</td>\n",
       "      <td>80.0</td>\n",
       "      <td>0</td>\n",
       "      <td>1</td>\n",
       "      <td>1</td>\n",
       "      <td>1</td>\n",
       "      <td>0</td>\n",
       "      <td>105.92</td>\n",
       "      <td>32.5</td>\n",
       "      <td>0</td>\n",
       "      <td>1</td>\n",
       "    </tr>\n",
       "    <tr>\n",
       "      <th>6</th>\n",
       "      <td>1</td>\n",
       "      <td>74.0</td>\n",
       "      <td>1</td>\n",
       "      <td>1</td>\n",
       "      <td>1</td>\n",
       "      <td>1</td>\n",
       "      <td>0</td>\n",
       "      <td>70.09</td>\n",
       "      <td>27.4</td>\n",
       "      <td>0</td>\n",
       "      <td>1</td>\n",
       "    </tr>\n",
       "    <tr>\n",
       "      <th>7</th>\n",
       "      <td>0</td>\n",
       "      <td>69.0</td>\n",
       "      <td>0</td>\n",
       "      <td>0</td>\n",
       "      <td>0</td>\n",
       "      <td>1</td>\n",
       "      <td>1</td>\n",
       "      <td>94.39</td>\n",
       "      <td>22.8</td>\n",
       "      <td>0</td>\n",
       "      <td>1</td>\n",
       "    </tr>\n",
       "    <tr>\n",
       "      <th>9</th>\n",
       "      <td>0</td>\n",
       "      <td>78.0</td>\n",
       "      <td>0</td>\n",
       "      <td>0</td>\n",
       "      <td>1</td>\n",
       "      <td>1</td>\n",
       "      <td>1</td>\n",
       "      <td>58.57</td>\n",
       "      <td>24.2</td>\n",
       "      <td>3</td>\n",
       "      <td>1</td>\n",
       "    </tr>\n",
       "    <tr>\n",
       "      <th>10</th>\n",
       "      <td>0</td>\n",
       "      <td>81.0</td>\n",
       "      <td>1</td>\n",
       "      <td>0</td>\n",
       "      <td>1</td>\n",
       "      <td>1</td>\n",
       "      <td>0</td>\n",
       "      <td>80.43</td>\n",
       "      <td>29.7</td>\n",
       "      <td>0</td>\n",
       "      <td>1</td>\n",
       "    </tr>\n",
       "  </tbody>\n",
       "</table>\n",
       "</div>"
      ],
      "text/plain": [
       "    gender   age  hypertension  heart_disease  ever_married  work_type  \\\n",
       "2        1  80.0             0              1             1          1   \n",
       "6        1  74.0             1              1             1          1   \n",
       "7        0  69.0             0              0             0          1   \n",
       "9        0  78.0             0              0             1          1   \n",
       "10       0  81.0             1              0             1          1   \n",
       "\n",
       "    residence_type  avg_glucose_level   bmi  smoking_status  stroke  \n",
       "2                0             105.92  32.5               0       1  \n",
       "6                0              70.09  27.4               0       1  \n",
       "7                1              94.39  22.8               0       1  \n",
       "9                1              58.57  24.2               3       1  \n",
       "10               0              80.43  29.7               0       1  "
      ]
     },
     "execution_count": 50,
     "metadata": {},
     "output_type": "execute_result"
    }
   ],
   "source": [
    "df.head()"
   ]
  },
  {
   "cell_type": "markdown",
   "id": "21aec151",
   "metadata": {},
   "source": [
    "### Борьба с дисбалансом классов"
   ]
  },
  {
   "cell_type": "markdown",
   "id": "896b30f3",
   "metadata": {},
   "source": [
    "Прежде чем решать проблему дисбаланса классов разделим наш датасет на тренировочну и тестовую выборки"
   ]
  },
  {
   "cell_type": "code",
   "execution_count": 51,
   "id": "ce8583a7",
   "metadata": {},
   "outputs": [],
   "source": [
    "X_train, X_test, y_train, y_test = train_test_split(X, y, test_size = 0.3, random_state=12345)"
   ]
  },
  {
   "cell_type": "markdown",
   "id": "66c36675",
   "metadata": {},
   "source": [
    "Для решения проблемы дисбаланса классов напишем функцию, которая умножит количество наблюдаемых с диагнозом преддиабет, а также функцию, которая уменшит количество здоровых наблюдаемых"
   ]
  },
  {
   "cell_type": "code",
   "execution_count": 52,
   "id": "a12d3e16",
   "metadata": {},
   "outputs": [],
   "source": [
    "def upsample(X_train, y_train, repeat):\n",
    "    X_zeros = X[y == 0]\n",
    "    X_ones = X[y == 1]\n",
    "    y_zeros = y[y == 0]\n",
    "    y_ones = y[y == 1]\n",
    "\n",
    "    X_upsampled = pd.concat([X_zeros] + [X_ones]  * repeat * repeat)\n",
    "    y_upsampled = pd.concat([y_zeros] + [y_ones] * repeat * repeat)\n",
    "    \n",
    "    X_upsampled, y_upsampled = shuffle(\n",
    "        X_upsampled, y_upsampled, random_state=12345)\n",
    "    \n",
    "    return X_upsampled, y_upsampled\n",
    "\n",
    "X_upsampled, y_upsampled = upsample(X, y, 4)"
   ]
  },
  {
   "cell_type": "code",
   "execution_count": 53,
   "id": "69861d36",
   "metadata": {},
   "outputs": [],
   "source": [
    "def downsample(X_upsampled,y_upsampled, fraction):\n",
    "    X_zeros = X_upsampled[y_upsampled == 0]\n",
    "    X_ones = X_upsampled[y_upsampled == 1]\n",
    "    y_zeros = y_upsampled[y_upsampled == 0]\n",
    "    y_ones = y_upsampled[y_upsampled == 1]\n",
    "    \n",
    "    X_downsampled = pd.concat(\n",
    "       [X_zeros.sample(frac=fraction, random_state=12345)] + [X_ones])\n",
    "    y_downsampled = pd.concat(\n",
    "       [y_zeros.sample(frac=fraction, random_state=12345)] + [y_ones])\n",
    "    \n",
    "    X_downsampled, y_downsampled= shuffle(\n",
    "        X_downsampled, y_downsampled, random_state=12345)\n",
    "    \n",
    "    return X_downsampled, y_downsampled\n",
    "\n",
    "X_downsampled, y_downsampled = downsample(X_upsampled, y_upsampled, 0.65)"
   ]
  },
  {
   "cell_type": "code",
   "execution_count": 54,
   "id": "7bd72f8e",
   "metadata": {},
   "outputs": [
    {
     "data": {
      "text/plain": [
       "0    2080\n",
       "1    2000\n",
       "Name: stroke, dtype: int64"
      ]
     },
     "execution_count": 54,
     "metadata": {},
     "output_type": "execute_result"
    }
   ],
   "source": [
    "y_downsampled.value_counts()"
   ]
  },
  {
   "cell_type": "markdown",
   "id": "2aa09514",
   "metadata": {},
   "source": [
    "После устрнения пролемы дисбаланса можно приступить к обучению моделей"
   ]
  },
  {
   "cell_type": "code",
   "execution_count": 55,
   "id": "47833316",
   "metadata": {},
   "outputs": [],
   "source": [
    "X_train = X_downsampled\n",
    "y_train = y_downsampled"
   ]
  },
  {
   "cell_type": "markdown",
   "id": "c93f01c7",
   "metadata": {},
   "source": [
    "## Обучение моделей"
   ]
  },
  {
   "cell_type": "markdown",
   "id": "053954d4",
   "metadata": {},
   "source": [
    "Разделим датасет на обучающую и тестовую выборки"
   ]
  },
  {
   "cell_type": "code",
   "execution_count": 56,
   "id": "4b814a90",
   "metadata": {
    "scrolled": false
   },
   "outputs": [
    {
     "data": {
      "text/plain": [
       "0    2080\n",
       "1    2000\n",
       "Name: stroke, dtype: int64"
      ]
     },
     "execution_count": 56,
     "metadata": {},
     "output_type": "execute_result"
    }
   ],
   "source": [
    "y_train.value_counts()"
   ]
  },
  {
   "cell_type": "code",
   "execution_count": 57,
   "id": "6a1d25cb",
   "metadata": {
    "scrolled": true
   },
   "outputs": [
    {
     "data": {
      "text/plain": [
       "0    958\n",
       "1     40\n",
       "Name: stroke, dtype: int64"
      ]
     },
     "execution_count": 57,
     "metadata": {},
     "output_type": "execute_result"
    }
   ],
   "source": [
    "y_test.value_counts()"
   ]
  },
  {
   "cell_type": "markdown",
   "id": "97b6b7b3",
   "metadata": {},
   "source": [
    "Напишем функцию для получения показателей результатов работы модели"
   ]
  },
  {
   "cell_type": "code",
   "execution_count": 58,
   "id": "2e8e0e12",
   "metadata": {},
   "outputs": [],
   "source": [
    "def checkstat (model, X_train, y_train): \n",
    "    model.fit(X_train, y_train)\n",
    "    predicted_test=model.predict(X_test)\n",
    "    print('Accuracy :', accuracy_score(y_test, predicted_test))\n",
    "    print(\"F1:\", f1_score(y_test, predicted_test))\n",
    "    print('recall:', recall_score(y_test, predicted_test))\n",
    "    print('precision:', precision_score(y_test, predicted_test))\n",
    "    cm = confusion_matrix(y_test, predicted_test, labels=model.classes_)\n",
    "    disp = ConfusionMatrixDisplay(confusion_matrix=cm,\n",
    "                               display_labels=model.classes_)\n",
    "    disp.plot()\n",
    "    plt.show()"
   ]
  },
  {
   "cell_type": "markdown",
   "id": "55e10706",
   "metadata": {},
   "source": [
    "## 1.RandomForestClassifier"
   ]
  },
  {
   "cell_type": "code",
   "execution_count": 59,
   "id": "50c1b58c",
   "metadata": {},
   "outputs": [
    {
     "data": {
      "text/plain": [
       "array([0.77307692, 0.83173077, 0.77403846, 0.78173077, 0.78076923])"
      ]
     },
     "execution_count": 59,
     "metadata": {},
     "output_type": "execute_result"
    }
   ],
   "source": [
    "model_rfc = RandomForestClassifier(random_state=12345, n_estimators=10, max_depth=5, class_weight='balanced')\n",
    "scores = cross_val_score(model_rfc, X_upsampled, y_upsampled, cv = 5, scoring = 'accuracy')\n",
    "scores"
   ]
  },
  {
   "cell_type": "code",
   "execution_count": 60,
   "id": "e9ae4e8c",
   "metadata": {
    "scrolled": true
   },
   "outputs": [
    {
     "name": "stdout",
     "output_type": "stream",
     "text": [
      "Accuracy : 0.7535070140280561\n",
      "F1: 0.2012987012987013\n",
      "recall: 0.775\n",
      "precision: 0.11567164179104478\n"
     ]
    },
    {
     "data": {
      "image/png": "[encoded data removed]",
      "text/plain": [
       "<Figure size 640x480 with 2 Axes>"
      ]
     },
     "metadata": {},
     "output_type": "display_data"
    }
   ],
   "source": [
    "checkstat(model_rfc, X_train, y_train)"
   ]
  },
  {
   "cell_type": "code",
   "execution_count": 61,
   "id": "3871e3d4",
   "metadata": {},
   "outputs": [
    {
     "data": {
      "image/png": "[encoded data removed]",
      "text/plain": [
       "<Figure size 1600x1400 with 1 Axes>"
      ]
     },
     "metadata": {},
     "output_type": "display_data"
    }
   ],
   "source": [
    "f_imp = pd.Series(model_rfc.feature_importances_,\n",
    "                         df.drop(['stroke'], axis=1).columns)\n",
    "\n",
    "fig, ax = plt.subplots(figsize=(16,14))\n",
    "f_imp.plot.bar(ax=ax)\n",
    "ax.set_title(\"Важность признаков\")\n",
    "ax.set_ylabel('Важность')\n",
    "fig.tight_layout()"
   ]
  },
  {
   "cell_type": "markdown",
   "id": "3b42bd6c",
   "metadata": {},
   "source": [
    "##  2.DecisionTreeClassifier"
   ]
  },
  {
   "cell_type": "code",
   "execution_count": 62,
   "id": "eae5da38",
   "metadata": {},
   "outputs": [
    {
     "data": {
      "text/plain": [
       "array([0.78076923, 0.79519231, 0.79519231, 0.78942308, 0.81153846])"
      ]
     },
     "execution_count": 62,
     "metadata": {},
     "output_type": "execute_result"
    }
   ],
   "source": [
    "model_dtc = DecisionTreeClassifier(random_state=12345, max_depth=5)\n",
    "scores = cross_val_score(model_dtc, X_upsampled, y_upsampled, cv = 5, scoring = 'accuracy')\n",
    "scores"
   ]
  },
  {
   "cell_type": "code",
   "execution_count": 63,
   "id": "f13979c5",
   "metadata": {
    "scrolled": true
   },
   "outputs": [
    {
     "name": "stdout",
     "output_type": "stream",
     "text": [
      "Accuracy : 0.6983967935871743\n",
      "F1: 0.20580474934036938\n",
      "recall: 0.975\n",
      "precision: 0.11504424778761062\n"
     ]
    },
    {
     "data": {
      "image/png": "[encoded data removed]",
      "text/plain": [
       "<Figure size 640x480 with 2 Axes>"
      ]
     },
     "metadata": {},
     "output_type": "display_data"
    }
   ],
   "source": [
    "checkstat(model_dtc, X_train, y_train)"
   ]
  },
  {
   "cell_type": "code",
   "execution_count": 64,
   "id": "6606f0c8",
   "metadata": {},
   "outputs": [
    {
     "data": {
      "image/png": "[encoded data removed]",
      "text/plain": [
       "<Figure size 1600x1400 with 1 Axes>"
      ]
     },
     "metadata": {},
     "output_type": "display_data"
    }
   ],
   "source": [
    "f_imp = pd.Series(model_dtc.feature_importances_,\n",
    "                         df.drop(['stroke'], axis=1).columns)\n",
    "\n",
    "fig, ax = plt.subplots(figsize=(16,14))\n",
    "f_imp.plot.bar(ax=ax)\n",
    "ax.set_title(\"Важность признаков\")\n",
    "ax.set_ylabel('Важность')\n",
    "fig.tight_layout()"
   ]
  },
  {
   "cell_type": "markdown",
   "id": "39c265a9",
   "metadata": {},
   "source": [
    "## 3.CatBoost"
   ]
  },
  {
   "cell_type": "code",
   "execution_count": 65,
   "id": "d5c888ea",
   "metadata": {},
   "outputs": [],
   "source": [
    "train_pool = Pool (\n",
    "    X_train,\n",
    "    y_train\n",
    "\n",
    ")\n",
    "test_pool = Pool (\n",
    "    X_test,\n",
    "   y_test\n",
    ")"
   ]
  },
  {
   "cell_type": "code",
   "execution_count": 66,
   "id": "08f04463",
   "metadata": {},
   "outputs": [],
   "source": [
    "EVAL = 'TotalF1'"
   ]
  },
  {
   "cell_type": "code",
   "execution_count": 67,
   "id": "17f3ff59",
   "metadata": {},
   "outputs": [],
   "source": [
    "def objective(trial):\n",
    "\n",
    "   # это гиперпараметры, которые будем проверять. \n",
    "    param = {\n",
    "       # suggest_int и suggest_float - непрерывные переменные. выбирает из диапазона от-до. \n",
    "       # можно ставить шаг (как стоит у регуляризации), чтоб он не тыкался +- сотые :)\n",
    "        'learning_rate':trial.suggest_float('learning_rate', 0.01, 0.1, log=True),\n",
    "        'l2_leaf_reg':trial.suggest_float('l2_leaf_reg', 2.0, 20.0, step=1),\n",
    "        'min_data_in_leaf': trial.suggest_int('min_data_in_leaf', 10, 500),\n",
    "        'depth': trial.suggest_int('depth', 3, 12),\n",
    "       \n",
    "       # suggest_categorical - выбор из списка.\n",
    "        'grow_policy': trial.suggest_categorical('grow_policy', ['SymmetricTree', 'Lossguide', 'Depthwise']),\n",
    "        'bootstrap_type': trial.suggest_categorical('bootstrap_type', ['Bayesian', 'Bernoulli']), \n",
    "      \n",
    "    }\n",
    "    # эти гиперпараметры тоже подбираем, но отдельно, в зависимости от выбранного bootstrap_type\n",
    "   # если делать одним куском, то будет падать\n",
    "    if param[\"bootstrap_type\"] == \"Bayesian\":\n",
    "        param[\"bagging_temperature\"] = trial.suggest_float(\"bagging_temperature\", 0, 10)\n",
    "    elif param[\"bootstrap_type\"] == \"Bernoulli\":\n",
    "        param[\"subsample\"] = trial.suggest_float(\"subsample\", 0.1, 0.99)\n",
    "    cat_model = CatBoostClassifier(**param, \n",
    "                                   iterations=3000,\n",
    "                                   random_state=12345,\n",
    "                                   eval_metric=EVAL,\n",
    "                                   verbose=0, \n",
    "                                   leaf_estimation_method='Newton',\n",
    "                                #   task_type='GPU',\n",
    "                                   early_stopping_rounds=120,  \n",
    "                               #   custom_metric=['AUC', 'NormalizedGini'],\n",
    "                                   )\n",
    "    \n",
    "   # это интеграция. прунер - фиговинка, которая сама прервет эксперимент, если ей что-то не понравится\n",
    "   # не особо давно добавили и иногда глючит. но с ним лучше\n",
    "    pruning_callback = CatBoostPruningCallback(trial, EVAL)\n",
    "   \n",
    "    cat_model.fit(train_pool, eval_set=test_pool)\n",
    "   \n",
    "    pruning_callback.check_pruned()\n",
    "   \n",
    "   # результат в процессе оно не печатает, хоть так.\n",
    "    print(param)\n",
    "    print(cat_model.best_score_)\n",
    "    print('________________')\n",
    "    return cat_model.best_score_['validation'][EVAL]"
   ]
  },
  {
   "cell_type": "code",
   "execution_count": 68,
   "id": "e2a8d1a8",
   "metadata": {},
   "outputs": [],
   "source": [
    "optuna.logging.set_verbosity(optuna.logging.WARNING)\n",
    "\n",
    "# семплер - что-то типа способа подбора параметров. \n",
    "# первые раз 20 лучше запустить RandomSampler(), он работает по принципу RandomizedSearchCV из sklearn\n",
    "# помогает приблизительно оценить интервалы параметров. потом в функции оптимизации порезать :)\n",
    "# сам TPESampler рекомендуют запускать под сотню раз. \n",
    "sampler = TPESampler(seed=12345) \n",
    "# объявление процесса подбора\n",
    "# для TPESampler используют прунер HyperbandPruner()\n",
    "# для RandomSampler - прунер MedianPruner()\n",
    "study = optuna.create_study(study_name=\"catboost\", \n",
    "                            direction=\"maximize\",\n",
    "                            pruner=optuna.pruners.HyperbandPruner(),\n",
    "                            sampler=sampler)\n",
    "# study тут создается новый, а вообще можно его сохранять/загружать, \n",
    "# если хочется продолжить подбор на том же наборе данных"
   ]
  },
  {
   "cell_type": "code",
   "execution_count": 69,
   "id": "e4b25afc",
   "metadata": {},
   "outputs": [
    {
     "name": "stdout",
     "output_type": "stream",
     "text": [
      "{'learning_rate': 0.08503859825373385, 'l2_leaf_reg': 8.0, 'min_data_in_leaf': 100, 'depth': 5, 'grow_policy': 'Depthwise', 'bootstrap_type': 'Bernoulli', 'subsample': 0.6816771850580444}\n",
      "{'learn': {'Logloss': 0.015993364968500675, 'TotalF1': 1.0}, 'validation': {'Logloss': 0.03901205446875506, 'TotalF1': 0.9914166519377673}}\n",
      "________________\n",
      "{'learning_rate': 0.05593901428206581, 'l2_leaf_reg': 20.0, 'min_data_in_leaf': 14, 'depth': 4, 'grow_policy': 'Depthwise', 'bootstrap_type': 'Bernoulli', 'subsample': 0.7440799587587585}\n",
      "{'learn': {'Logloss': 0.036997031768488696, 'TotalF1': 0.9987745374203532}, 'validation': {'Logloss': 0.05695694681878714, 'TotalF1': 0.9869649583974536}}\n",
      "________________\n",
      "{'learning_rate': 0.043901092488902525, 'l2_leaf_reg': 15.0, 'min_data_in_leaf': 239, 'depth': 6, 'grow_policy': 'Depthwise', 'bootstrap_type': 'Bernoulli', 'subsample': 0.25211368943526663}\n",
      "{'learn': {'Logloss': 0.07531610971276724, 'TotalF1': 0.9884814655469464}, 'validation': {'Logloss': 0.09350452908610515, 'TotalF1': 0.9761659146476781}}\n",
      "________________\n",
      "{'learning_rate': 0.010637737658086158, 'l2_leaf_reg': 17.0, 'min_data_in_leaf': 453, 'depth': 3, 'grow_policy': 'Depthwise', 'bootstrap_type': 'Bernoulli', 'subsample': 0.7481569004911344}\n",
      "{'learn': {'Logloss': 0.4851689739342644, 'TotalF1': 0.7806070447632832}, 'validation': {'Logloss': 0.46994734030108304, 'TotalF1': 0.8245784928106474}}\n",
      "________________\n",
      "{'learning_rate': 0.06581880778396462, 'l2_leaf_reg': 11.0, 'min_data_in_leaf': 407, 'depth': 3, 'grow_policy': 'Depthwise', 'bootstrap_type': 'Bernoulli', 'subsample': 0.25846717523634893}\n",
      "{'learn': {'Logloss': 0.16349666068868576, 'TotalF1': 0.9659145848200326}, 'validation': {'Logloss': 0.187900892482489, 'TotalF1': 0.9408249051056405}}\n",
      "________________\n"
     ]
    }
   ],
   "source": [
    "# это уже запуск попыток. n_trials количество. можно поставить время timeout\n",
    "study.optimize(objective, n_trials=5)"
   ]
  },
  {
   "cell_type": "code",
   "execution_count": 70,
   "id": "107fc26a",
   "metadata": {},
   "outputs": [
    {
     "data": {
      "text/plain": [
       "{'learning_rate': 0.08503859825373385,\n",
       " 'l2_leaf_reg': 8.0,\n",
       " 'min_data_in_leaf': 100,\n",
       " 'depth': 5,\n",
       " 'grow_policy': 'Depthwise',\n",
       " 'bootstrap_type': 'Bernoulli',\n",
       " 'subsample': 0.6816771850580444}"
      ]
     },
     "execution_count": 70,
     "metadata": {},
     "output_type": "execute_result"
    }
   ],
   "source": [
    "# лучшая метрика\n",
    "study.best_trial.value\n",
    "# гиперпараметры, для которых она достигнута\n",
    "study.best_trial.params"
   ]
  },
  {
   "cell_type": "code",
   "execution_count": 71,
   "id": "9f836918",
   "metadata": {},
   "outputs": [
    {
     "data": {
      "text/plain": [
       "{'learn': {'Logloss': 0.01605358871759153},\n",
       " 'validation': {'Logloss': 0.037235723669940594}}"
      ]
     },
     "execution_count": 71,
     "metadata": {},
     "output_type": "execute_result"
    }
   ],
   "source": [
    "catboost = CatBoostClassifier(random_state=12345, silent=True)\n",
    "catboost_params = {\n",
    "    'learning_rate': 0.08503859825373385,\n",
    "     'l2_leaf_reg': 8.0,\n",
    "     'min_data_in_leaf': 100,\n",
    "     'depth': 5,\n",
    "     'grow_policy': 'Depthwise',\n",
    "     'bootstrap_type': 'Bernoulli',\n",
    "     'bagging_temperature': 0.6816771850580444\n",
    "}\n",
    "\n",
    "catboost.fit(train_pool, eval_set=test_pool) \n",
    "catboost.best_score_"
   ]
  },
  {
   "cell_type": "code",
   "execution_count": 72,
   "id": "ccbf9565",
   "metadata": {
    "scrolled": true
   },
   "outputs": [
    {
     "name": "stdout",
     "output_type": "stream",
     "text": [
      "Accuracy : 0.9789579158316634\n",
      "F1: 0.7920792079207921\n",
      "recall: 1.0\n",
      "precision: 0.6557377049180327\n"
     ]
    },
    {
     "data": {
      "image/png": "[encoded data removed]",
      "text/plain": [
       "<Figure size 640x480 with 2 Axes>"
      ]
     },
     "metadata": {},
     "output_type": "display_data"
    }
   ],
   "source": [
    "checkstat(catboost, X_train, y_train)"
   ]
  },
  {
   "cell_type": "code",
   "execution_count": 73,
   "id": "89e48df1",
   "metadata": {},
   "outputs": [
    {
     "data": {
      "image/png": "[encoded data removed]",
      "text/plain": [
       "<Figure size 1600x1400 with 1 Axes>"
      ]
     },
     "metadata": {},
     "output_type": "display_data"
    }
   ],
   "source": [
    "f_imp = pd.Series(catboost.feature_importances_,\n",
    "                         df.drop(['stroke'], axis=1).columns)\n",
    "\n",
    "fig, ax = plt.subplots(figsize=(16,14))\n",
    "f_imp.plot.bar(ax=ax)\n",
    "ax.set_title(\"Важность признаков\")\n",
    "ax.set_ylabel('Важность')\n",
    "fig.tight_layout()"
   ]
  },
  {
   "cell_type": "markdown",
   "id": "3216c8f7",
   "metadata": {},
   "source": [
    "## 4.LGBM"
   ]
  },
  {
   "cell_type": "code",
   "execution_count": 74,
   "id": "0addf3ba",
   "metadata": {},
   "outputs": [
    {
     "name": "stdout",
     "output_type": "stream",
     "text": [
      "Accuracy: %.3f (%.3f) [0.96813725 0.98529412 0.97303922 0.9754902  0.97303922 0.98284314\n",
      " 0.97058824 0.9754902  0.9754902  0.98039216 0.96813725 0.97794118\n",
      " 0.97303922 0.97058824 0.96078431 0.97058824 0.9754902  0.98284314\n",
      " 0.96568627 0.97794118 0.97303922 0.95833333 0.99264706 0.98039216\n",
      " 0.98284314 0.96568627 0.97794118 0.97303922 0.9754902  0.96813725]\n"
     ]
    }
   ],
   "source": [
    "model_lgbm = LGBMClassifier()\n",
    "# evaluate the model\n",
    "cv = RepeatedStratifiedKFold(n_splits=10, n_repeats=3, random_state=1)\n",
    "n_scores = cross_val_score(model_lgbm, X_train, y_train, scoring='accuracy', cv=cv, n_jobs=-1)\n",
    "# report performance\n",
    "print('Accuracy: %.3f (%.3f)', n_scores)"
   ]
  },
  {
   "cell_type": "code",
   "execution_count": 75,
   "id": "be924c87",
   "metadata": {},
   "outputs": [
    {
     "name": "stdout",
     "output_type": "stream",
     "text": [
      "Accuracy : 0.9819639278557114\n",
      "F1: 0.8163265306122449\n",
      "recall: 1.0\n",
      "precision: 0.6896551724137931\n"
     ]
    },
    {
     "data": {
      "image/png": "[encoded data removed]",
      "text/plain": [
       "<Figure size 640x480 with 2 Axes>"
      ]
     },
     "metadata": {},
     "output_type": "display_data"
    }
   ],
   "source": [
    "checkstat(model_lgbm, X_train, y_train)"
   ]
  },
  {
   "cell_type": "code",
   "execution_count": 76,
   "id": "d7c35ff4",
   "metadata": {},
   "outputs": [
    {
     "data": {
      "image/png": "[encoded data removed]",
      "text/plain": [
       "<Figure size 1600x1400 with 1 Axes>"
      ]
     },
     "metadata": {},
     "output_type": "display_data"
    }
   ],
   "source": [
    "f_imp = pd.Series(model_lgbm.feature_importances_,\n",
    "                         df.drop(['stroke'], axis=1).columns)\n",
    "\n",
    "fig, ax = plt.subplots(figsize=(16,14))\n",
    "f_imp.plot.bar(ax=ax)\n",
    "ax.set_title(\"Важность признаков\")\n",
    "ax.set_ylabel('Важность')\n",
    "fig.tight_layout()"
   ]
  },
  {
   "cell_type": "markdown",
   "id": "463ae768",
   "metadata": {},
   "source": [
    "## 5.KNeighborsClassifier"
   ]
  },
  {
   "cell_type": "code",
   "execution_count": 77,
   "id": "ffd175f1",
   "metadata": {},
   "outputs": [
    {
     "data": {
      "text/plain": [
       "0.9205882352941176"
      ]
     },
     "execution_count": 77,
     "metadata": {},
     "output_type": "execute_result"
    }
   ],
   "source": [
    "model_KNN = KNeighborsClassifier(n_neighbors = 5)\n",
    "scores = cross_val_score(model_KNN, X_train, y_train, cv = 5, scoring = 'accuracy')\n",
    "scores.mean()"
   ]
  },
  {
   "cell_type": "code",
   "execution_count": 78,
   "id": "846fce8d",
   "metadata": {
    "scrolled": true
   },
   "outputs": [
    {
     "name": "stdout",
     "output_type": "stream",
     "text": [
      "Accuracy : 0.8997995991983968\n",
      "F1: 0.4444444444444445\n",
      "recall: 1.0\n",
      "precision: 0.2857142857142857\n"
     ]
    },
    {
     "data": {
      "image/png": "[encoded data removed]",
      "text/plain": [
       "<Figure size 640x480 with 2 Axes>"
      ]
     },
     "metadata": {},
     "output_type": "display_data"
    }
   ],
   "source": [
    "checkstat(model_KNN, X_train, y_train)"
   ]
  },
  {
   "cell_type": "markdown",
   "id": "a54de37e",
   "metadata": {},
   "source": [
    "# Вывод"
   ]
  },
  {
   "cell_type": "markdown",
   "id": "7aabf271",
   "metadata": {},
   "source": [
    "В процессе работы была проведена преодобработка данных. Датасет был проверен на пропуски и дубликаты. Был разобран каждый столбец, а именно были преобразованы категориальные признаки в численные, устранены выбросы в данных согласно статистике. Далее для обучения моделей датасет был разделен на обучающую и тестовую выборки. Так как в данных был дисбаланс классов, в тренировочной выборке был исправлен дисбаланс для нормального обучения моделей. В процессе обучения моделей лучший результат показала модель LGBMClassifier"
   ]
  },
  {
   "cell_type": "code",
   "execution_count": null,
   "id": "07c20c05",
   "metadata": {},
   "outputs": [],
   "source": []
  }
 ],
 "metadata": {
  "kernelspec": {
   "display_name": "Python 3 (ipykernel)",
   "language": "python",
   "name": "python3"
  },
  "language_info": {
   "codemirror_mode": {
    "name": "ipython",
    "version": 3
   },
   "file_extension": ".py",
   "mimetype": "text/x-python",
   "name": "python",
   "nbconvert_exporter": "python",
   "pygments_lexer": "ipython3",
   "version": "3.10.9"
  }
 },
 "nbformat": 4,
 "nbformat_minor": 5
}
