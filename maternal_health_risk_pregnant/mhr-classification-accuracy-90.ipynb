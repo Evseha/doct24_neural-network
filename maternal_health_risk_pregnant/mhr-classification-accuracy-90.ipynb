{
 "cells": [
  {
   "cell_type": "markdown",
   "id": "81df5307",
   "metadata": {
    "papermill": {
     "duration": 0.029634,
     "end_time": "2022-06-15T10:26:33.103439",
     "exception": false,
     "start_time": "2022-06-15T10:26:33.073805",
     "status": "completed"
    },
    "tags": []
   },
   "source": [
    "# Анализ и классификация рисков для здоровья матери\n",
    "\n",
    "Короткая русифицированная версия: https://www.kaggle.com/code/corazon17/mhr-analysis-and-classification-90-15-accuracy\n",
    "\n",
    "# Выявление проблемы\n",
    "\n",
    "Многие беременные женщины умирают от осложнений беременности из-за отсутствия достаточной информации об охране здоровья матери во время беременности и после беременности. Во время беременности необходимо следить за каждым моментом для здорового развития плода и обеспечения безопасных родов. Надлежащий уход и диагностика в начале беременности могут помочь снизить предотвратимую смертность беременных женщин и новорожденных, особенно в сельской местности.\n",
    "\n",
    "В этой тетради мы проанализируем несколько атрибутов, влияющих на здоровье беременных женщин. Мы также создадим модель машинного обучения для прогнозирования уровня риска для здоровья беременных женщин.\n",
    "\n",
    "# Импорт пакетов и набора данных"
   ]
  },
  {
   "cell_type": "code",
   "execution_count": 1,
   "id": "560d8d68",
   "metadata": {
    "execution": {
     "iopub.execute_input": "2022-06-15T10:26:33.342976Z",
     "iopub.status.busy": "2022-06-15T10:26:33.342344Z",
     "iopub.status.idle": "2022-06-15T10:26:34.904063Z",
     "shell.execute_reply": "2022-06-15T10:26:34.902943Z"
    },
    "papermill": {
     "duration": 1.597596,
     "end_time": "2022-06-15T10:26:34.908723",
     "exception": false,
     "start_time": "2022-06-15T10:26:33.311127",
     "status": "completed"
    },
    "tags": []
   },
   "outputs": [],
   "source": [
    "import numpy as np\n",
    "import pandas as pd\n",
    "import matplotlib.pyplot as plt\n",
    "import seaborn as sns\n",
    "\n",
    "from sklearn.model_selection import train_test_split as split, GridSearchCV\n",
    "from sklearn.ensemble import RandomForestClassifier\n",
    "from sklearn.metrics import accuracy_score, confusion_matrix\n"
   ]
  },
  {
   "cell_type": "code",
   "execution_count": 2,
   "id": "d1ef92bf",
   "metadata": {
    "execution": {
     "iopub.execute_input": "2022-06-15T10:26:35.030566Z",
     "iopub.status.busy": "2022-06-15T10:26:35.030155Z",
     "iopub.status.idle": "2022-06-15T10:26:35.064396Z",
     "shell.execute_reply": "2022-06-15T10:26:35.063690Z"
    },
    "papermill": {
     "duration": 0.067554,
     "end_time": "2022-06-15T10:26:35.066494",
     "exception": false,
     "start_time": "2022-06-15T10:26:34.998940",
     "status": "completed"
    },
    "tags": []
   },
   "outputs": [
    {
     "data": {
      "text/html": [
       "<div>\n",
       "<style scoped>\n",
       "    .dataframe tbody tr th:only-of-type {\n",
       "        vertical-align: middle;\n",
       "    }\n",
       "\n",
       "    .dataframe tbody tr th {\n",
       "        vertical-align: top;\n",
       "    }\n",
       "\n",
       "    .dataframe thead th {\n",
       "        text-align: right;\n",
       "    }\n",
       "</style>\n",
       "<table border=\"1\" class=\"dataframe\">\n",
       "  <thead>\n",
       "    <tr style=\"text-align: right;\">\n",
       "      <th></th>\n",
       "      <th>Age</th>\n",
       "      <th>SystolicBP</th>\n",
       "      <th>DiastolicBP</th>\n",
       "      <th>BS</th>\n",
       "      <th>BodyTemp</th>\n",
       "      <th>HeartRate</th>\n",
       "      <th>RiskLevel</th>\n",
       "    </tr>\n",
       "  </thead>\n",
       "  <tbody>\n",
       "    <tr>\n",
       "      <th>0</th>\n",
       "      <td>25</td>\n",
       "      <td>130</td>\n",
       "      <td>80</td>\n",
       "      <td>15.0</td>\n",
       "      <td>98.0</td>\n",
       "      <td>86</td>\n",
       "      <td>high risk</td>\n",
       "    </tr>\n",
       "    <tr>\n",
       "      <th>1</th>\n",
       "      <td>35</td>\n",
       "      <td>140</td>\n",
       "      <td>90</td>\n",
       "      <td>13.0</td>\n",
       "      <td>98.0</td>\n",
       "      <td>70</td>\n",
       "      <td>high risk</td>\n",
       "    </tr>\n",
       "    <tr>\n",
       "      <th>2</th>\n",
       "      <td>29</td>\n",
       "      <td>90</td>\n",
       "      <td>70</td>\n",
       "      <td>8.0</td>\n",
       "      <td>100.0</td>\n",
       "      <td>80</td>\n",
       "      <td>high risk</td>\n",
       "    </tr>\n",
       "    <tr>\n",
       "      <th>3</th>\n",
       "      <td>30</td>\n",
       "      <td>140</td>\n",
       "      <td>85</td>\n",
       "      <td>7.0</td>\n",
       "      <td>98.0</td>\n",
       "      <td>70</td>\n",
       "      <td>high risk</td>\n",
       "    </tr>\n",
       "    <tr>\n",
       "      <th>4</th>\n",
       "      <td>35</td>\n",
       "      <td>120</td>\n",
       "      <td>60</td>\n",
       "      <td>6.1</td>\n",
       "      <td>98.0</td>\n",
       "      <td>76</td>\n",
       "      <td>low risk</td>\n",
       "    </tr>\n",
       "  </tbody>\n",
       "</table>\n",
       "</div>"
      ],
      "text/plain": [
       "   Age  SystolicBP  DiastolicBP    BS  BodyTemp  HeartRate  RiskLevel\n",
       "0   25         130           80  15.0      98.0         86  high risk\n",
       "1   35         140           90  13.0      98.0         70  high risk\n",
       "2   29          90           70   8.0     100.0         80  high risk\n",
       "3   30         140           85   7.0      98.0         70  high risk\n",
       "4   35         120           60   6.1      98.0         76   low risk"
      ]
     },
     "execution_count": 2,
     "metadata": {},
     "output_type": "execute_result"
    }
   ],
   "source": [
    "data = pd.read_csv(r'pregnant.csv')\n",
    "data.head()"
   ]
  },
  {
   "cell_type": "markdown",
   "id": "eaacf233",
   "metadata": {},
   "source": [
    "Age - Возраст\n",
    "\n",
    "SystolicBP - Верхнее значение артериального давления в мм рт.ст.\n",
    "\n",
    "DiastolicBP - Нижнее значение артериального давления в мм рт.ст.\n",
    "\n",
    "BS - Уровень глюкозы в крови в пересчете на молярную концентрацию, ммоль/л\n",
    "\n",
    "BodyTemp - температура тела по Фаренгейту\n",
    "\n",
    "HeartRate - Нормальная частота сердечных сокращений в состоянии покоя в ударах в минуту.\n",
    "\n",
    "RiskLevel - Прогнозируемый уровень интенсивности риска во время беременности\n"
   ]
  },
  {
   "cell_type": "markdown",
   "id": "5a818c64",
   "metadata": {
    "papermill": {
     "duration": 0.030212,
     "end_time": "2022-06-15T10:26:36.049500",
     "exception": false,
     "start_time": "2022-06-15T10:26:36.019288",
     "status": "completed"
    },
    "tags": []
   },
   "source": [
    "# Уровень риска"
   ]
  },
  {
   "cell_type": "code",
   "execution_count": 6,
   "id": "f737ab21",
   "metadata": {
    "execution": {
     "iopub.execute_input": "2022-06-15T10:26:36.356628Z",
     "iopub.status.busy": "2022-06-15T10:26:36.356087Z",
     "iopub.status.idle": "2022-06-15T10:26:36.688441Z",
     "shell.execute_reply": "2022-06-15T10:26:36.687392Z"
    },
    "papermill": {
     "duration": 0.366698,
     "end_time": "2022-06-15T10:26:36.690827",
     "exception": false,
     "start_time": "2022-06-15T10:26:36.324129",
     "status": "completed"
    },
    "scrolled": false,
    "tags": []
   },
   "outputs": [
    {
     "data": {
      "image/png": "[encoded data removed]",
      "text/plain": [
       "<Figure size 1200x400 with 2 Axes>"
      ]
     },
     "metadata": {},
     "output_type": "display_data"
    }
   ],
   "source": [
    "p_colors = ['green', 'orange', 'red']\n",
    "risk_order = [\"low risk\", \"mid risk\", \"high risk\"]\n",
    "fig, ax = plt.subplots(1, 2, figsize=(12, 4))\n",
    "\n",
    "data[\"RiskLevel\"].value_counts().plot(kind=\"pie\", labels=risk_order, colors=p_colors, explode=[0.05, 0.05,  0.05], autopct='%1.1f%%', ax=ax[0], shadow=True)\n",
    "ax[0].set_title(\"Гистограмма уровня риска\")\n",
    "ax[0].set_ylabel('')\n",
    "\n",
    "count = sns.countplot(x=\"RiskLevel\", data=data, ax=ax[1], order=risk_order, palette=p_colors)\n",
    "for bar in count.patches:\n",
    "    count.annotate(format(bar.get_height()),\n",
    "        (bar.get_x() + bar.get_width() / 2,\n",
    "        bar.get_height()), ha='center', va='center',\n",
    "        size=11, xytext=(0, 8),\n",
    "        textcoords='offset points')\n",
    "ax[1].set_title(\"Гистограмма уровня риска\")\n",
    "plt.show()"
   ]
  },
  {
   "cell_type": "markdown",
   "id": "d9181c48",
   "metadata": {
    "papermill": {
     "duration": 0.030848,
     "end_time": "2022-06-15T10:26:36.753026",
     "exception": false,
     "start_time": "2022-06-15T10:26:36.722178",
     "status": "completed"
    },
    "tags": []
   },
   "source": [
    "Похоже, что большинство беременных женщин в этом наборе данных в основном имеют низкий риск для здоровья. Из 1014 наблюдений у 406 (40%) беременных низкий риск, у 336 (33,1%) средний риск, у 272 (26,8%) высокий риск. Мы изучим данные, чтобы получить больше информации и понять, почему у беременных женщин разный риск для здоровья. Мы постараемся проверить каждую переменную, которая может на нее повлиять. Давайте рассмотрим его один за другим."
   ]
  },
  {
   "cell_type": "markdown",
   "id": "046cc718",
   "metadata": {
    "papermill": {
     "duration": 0.050437,
     "end_time": "2022-06-15T10:27:02.786234",
     "exception": false,
     "start_time": "2022-06-15T10:27:02.735797",
     "status": "completed"
    },
    "tags": []
   },
   "source": [
    "# Разработка функций и очистка данных\n",
    "\n",
    "## Обработка выбросов\n",
    "\n",
    "Как мы знаем из предыдущего анализа, в этом наборе данных есть несколько переменных, которые имеют выбросы, но даже в этом случае большинство этих значений по-прежнему имеют смысл в реальной жизни. Единственная переменная, которая имеет выброс с необоснованным значением, — это HeartRate. В этой переменной есть два наблюдения со значением частоты сердечных сокращений 7 ударов в минуту (ударов в минуту). Нормальная частота сердечных сокращений в покое для взрослых колеблется от 60 до 100 ударов в минуту, а самая низкая зарегистрированная частота сердечных сокращений в состоянии покоя в истории человечества составляла 25 ударов в минуту. Поэтому мы отбросим эти 2 записи со значением частоты сердечных сокращений 7, потому что это значение не имеет никакого смысла и, скорее всего, является ошибкой ввода.\n",
    "\n",
    "Мы не будем хранить обработанные данные в исходной переменной, а вместо этого будем хранить их в новой переменной, чтобы мы могли сравнить их с исходными данными."
   ]
  },
  {
   "cell_type": "code",
   "execution_count": 44,
   "id": "c595657a",
   "metadata": {
    "execution": {
     "iopub.execute_input": "2022-06-15T10:27:03.097660Z",
     "iopub.status.busy": "2022-06-15T10:27:03.096962Z",
     "iopub.status.idle": "2022-06-15T10:27:03.727254Z",
     "shell.execute_reply": "2022-06-15T10:27:03.726209Z"
    },
    "papermill": {
     "duration": 0.684678,
     "end_time": "2022-06-15T10:27:03.729520",
     "exception": false,
     "start_time": "2022-06-15T10:27:03.044842",
     "status": "completed"
    },
    "scrolled": false,
    "tags": []
   },
   "outputs": [
    {
     "data": {
      "image/png": "[encoded data removed]",
      "text/plain": [
       "<Figure size 1200x400 with 2 Axes>"
      ]
     },
     "metadata": {},
     "output_type": "display_data"
    }
   ],
   "source": [
    "data_proc = data.drop(data.index[data.HeartRate == 7])\n",
    "\n",
    "fig, ax = plt.subplots(1, 2, figsize=(12, 4))\n",
    "sns.histplot(data=data, x=\"HeartRate\", kde=True, ax=ax[0])\n",
    "sns.histplot(data=data_proc, x=\"HeartRate\", kde=True, ax=ax[1])\n",
    "ax[0].set_title(\"Исходное распределение сердечного ритма\")\n",
    "ax[1].set_title(\"Обработанное распределение сердечного ритма\")\n",
    "plt.show()"
   ]
  },
  {
   "cell_type": "markdown",
   "id": "bdb59559",
   "metadata": {
    "papermill": {
     "duration": 0.050965,
     "end_time": "2022-06-15T10:27:03.833998",
     "exception": false,
     "start_time": "2022-06-15T10:27:03.783033",
     "status": "completed"
    },
    "tags": []
   },
   "source": [
    "## Удаление ненужных функций\n",
    "\n",
    "Проведя несколько анализов переменных-предикторов, мы пришли к выводу, что переменная HeartRate менее полезна для определения рисков для здоровья беременных женщин. Таким образом, можно безопасно удалить эту переменную."
   ]
  },
  {
   "cell_type": "code",
   "execution_count": 45,
   "id": "aef21d16",
   "metadata": {
    "execution": {
     "iopub.execute_input": "2022-06-15T10:27:04.042118Z",
     "iopub.status.busy": "2022-06-15T10:27:04.041401Z",
     "iopub.status.idle": "2022-06-15T10:27:04.046930Z",
     "shell.execute_reply": "2022-06-15T10:27:04.045885Z"
    },
    "papermill": {
     "duration": 0.060377,
     "end_time": "2022-06-15T10:27:04.049164",
     "exception": false,
     "start_time": "2022-06-15T10:27:03.988787",
     "status": "completed"
    },
    "tags": []
   },
   "outputs": [],
   "source": [
    "data_proc = data_proc.drop([\"HeartRate\"], axis=1)"
   ]
  },
  {
   "cell_type": "markdown",
   "id": "4b53a6c1",
   "metadata": {
    "papermill": {
     "duration": 0.050871,
     "end_time": "2022-06-15T10:27:04.151380",
     "exception": false,
     "start_time": "2022-06-15T10:27:04.100509",
     "status": "completed"
    },
    "tags": []
   },
   "source": [
    "Вы можете подумать, почему мы удаляем записи с выбросом в переменной HeartRate, если в конце мы удалим эту переменную. Ответ заключается в том, что в нем есть ошибка ввода, поэтому записи могут быть незаконными. Может случиться так, что данная метка также неверна, поэтому она будет вводить в заблуждение процесс обучения, что сделает модель менее точной."
   ]
  },
  {
   "cell_type": "markdown",
   "id": "83b41bc8",
   "metadata": {
    "papermill": {
     "duration": 0.051542,
     "end_time": "2022-06-15T10:27:04.253984",
     "exception": false,
     "start_time": "2022-06-15T10:27:04.202442",
     "status": "completed"
    },
    "tags": []
   },
   "source": [
    "# Построение модели\n",
    "\n",
    "## Разделение набора данных\n",
    "\n",
    "Мы разделим наш набор данных на 80% данных поезда и 20% тестовых данных."
   ]
  },
  {
   "cell_type": "code",
   "execution_count": 46,
   "id": "6723fbde",
   "metadata": {
    "execution": {
     "iopub.execute_input": "2022-06-15T10:27:04.563341Z",
     "iopub.status.busy": "2022-06-15T10:27:04.562714Z",
     "iopub.status.idle": "2022-06-15T10:27:04.574017Z",
     "shell.execute_reply": "2022-06-15T10:27:04.573379Z"
    },
    "papermill": {
     "duration": 0.067601,
     "end_time": "2022-06-15T10:27:04.577440",
     "exception": false,
     "start_time": "2022-06-15T10:27:04.509839",
     "status": "completed"
    },
    "tags": []
   },
   "outputs": [
    {
     "name": "stdout",
     "output_type": "stream",
     "text": [
      "Исходный датасет 811 train data and 203 test data\n",
      "\n",
      "Предобработанный датасет 809 train data and 203 test data\n"
     ]
    }
   ],
   "source": [
    "# Original Dataset\n",
    "X = data.drop(\"RiskLevel\", axis=1)\n",
    "y = data.RiskLevel\n",
    "x_train, x_test, y_train, y_test = split(X, y, test_size=0.2, random_state=1)\n",
    "\n",
    "# Processed Dataset\n",
    "X_proc = data_proc.drop(\"RiskLevel\", axis=1)\n",
    "y_proc = data_proc.RiskLevel\n",
    "x_train_proc, x_test_proc, y_train_proc, y_test_proc = split(X_proc, y_proc, test_size=0.2, random_state=1)\n",
    "\n",
    "print(f\"Исходный датасет {x_train.shape[0]} train data and {x_test.shape[0]} test data\\n\")\n",
    "print(f\"Предобработанный датасет {x_train_proc.shape[0]} train data and {x_test_proc.shape[0]} test data\")"
   ]
  },
  {
   "cell_type": "markdown",
   "id": "7493dabd",
   "metadata": {
    "papermill": {
     "duration": 0.054548,
     "end_time": "2022-06-15T10:27:04.684504",
     "exception": false,
     "start_time": "2022-06-15T10:27:04.629956",
     "status": "completed"
    },
    "tags": []
   },
   "source": [
    "## Модель классификации зданий\n",
    "\n",
    "В этом случае мы будем использовать алгоритм Random Forest для построения нашей модели. Случайный лес содержит множество деревьев решений, представляющих отдельный экземпляр классификации входных данных. Техника случайного леса рассматривает экземпляры по отдельности, принимая за выбранный прогноз тот, у которого больше всего голосов. Таким образом, случайный лес позволяет любым классификаторам со слабыми корреляциями создать сильный классификатор.\n",
    "\n",
    "Мы выбираем Random Forest, потому что это один из самых точных доступных алгоритмов обучения, и время его обучения мало. Кроме того, Random Forest может работать с набором данных, который имеет значения признаков с разным масштабом, поэтому нам не нужно выполнять нормализацию/масштабирование признаков."
   ]
  },
  {
   "cell_type": "code",
   "execution_count": 47,
   "id": "3d31f71a",
   "metadata": {
    "execution": {
     "iopub.execute_input": "2022-06-15T10:27:04.891303Z",
     "iopub.status.busy": "2022-06-15T10:27:04.890770Z",
     "iopub.status.idle": "2022-06-15T10:27:05.374317Z",
     "shell.execute_reply": "2022-06-15T10:27:05.373130Z"
    },
    "papermill": {
     "duration": 0.539094,
     "end_time": "2022-06-15T10:27:05.377123",
     "exception": false,
     "start_time": "2022-06-15T10:27:04.838029",
     "status": "completed"
    },
    "tags": []
   },
   "outputs": [
    {
     "name": "stdout",
     "output_type": "stream",
     "text": [
      "Accuracy исходного датасета: 0.8669950738916257\n",
      "Accuracy предобработанного: 0.8916256157635468\n"
     ]
    }
   ],
   "source": [
    "# Using original dataset\n",
    "rf = RandomForestClassifier(random_state=100)\n",
    "rf.fit(x_train, y_train)\n",
    "y_pred = rf.predict(x_test)\n",
    "print(f\"Accuracy исходного датасета: {accuracy_score(y_test, y_pred)}\")\n",
    "\n",
    "# Using processed dataset\n",
    "rf2 = RandomForestClassifier(random_state=100)\n",
    "rf2.fit(x_train_proc, y_train_proc)\n",
    "y_pred = rf2.predict(x_test_proc)\n",
    "print(f\"Accuracy предобработанного: {accuracy_score(y_test_proc, y_pred)}\")"
   ]
  },
  {
   "cell_type": "markdown",
   "id": "7ed7687c",
   "metadata": {
    "papermill": {
     "duration": 0.15075,
     "end_time": "2022-06-15T10:27:05.580097",
     "exception": false,
     "start_time": "2022-06-15T10:27:05.429347",
     "status": "completed"
    },
    "tags": []
   },
   "source": [
    "Вот так. Мы получили на 2,46% больше точности тестовых данных с нашим обработанным набором данных. Это показывает, что наша модель лучше обобщает обработанный набор данных для наших тестовых данных. Мало того, Random Forest также имеет несколько гиперпараметров, которые мы можем настроить, чтобы получить модель с еще лучшим обобщением."
   ]
  },
  {
   "cell_type": "markdown",
   "id": "5f8ee476",
   "metadata": {
    "papermill": {
     "duration": 0.065347,
     "end_time": "2022-06-15T10:27:05.697855",
     "exception": false,
     "start_time": "2022-06-15T10:27:05.632508",
     "status": "completed"
    },
    "tags": []
   },
   "source": [
    "## Настройка гиперпараметров\n",
    "\n",
    "Мы попробуем настроить 2 параметра Random Forest, а именно n_estimators и критерий. n_estimator — это количество деревьев в лесу, а критерий — это функция для измерения качества разделения. Для этого мы будем использовать GridSearchCrossValidation с количеством сгибов до 10."
   ]
  },
  {
   "cell_type": "code",
   "execution_count": 48,
   "id": "f667f02e",
   "metadata": {
    "execution": {
     "iopub.execute_input": "2022-06-15T10:27:05.923420Z",
     "iopub.status.busy": "2022-06-15T10:27:05.922897Z",
     "iopub.status.idle": "2022-06-15T10:27:14.620845Z",
     "shell.execute_reply": "2022-06-15T10:27:14.620011Z"
    },
    "papermill": {
     "duration": 8.757683,
     "end_time": "2022-06-15T10:27:14.623109",
     "exception": false,
     "start_time": "2022-06-15T10:27:05.865426",
     "status": "completed"
    },
    "tags": []
   },
   "outputs": [
    {
     "name": "stdout",
     "output_type": "stream",
     "text": [
      "Лучшие гиперпараметры: {'criterion': 'gini', 'n_estimators': 50}\n"
     ]
    }
   ],
   "source": [
    "params = {\n",
    "    \"n_estimators\": [10, 20, 50, 100],\n",
    "    \"criterion\": [\"gini\", \"entropy\"]\n",
    "}\n",
    "rf = RandomForestClassifier(random_state=100)\n",
    "grid = GridSearchCV(rf, params, cv=10)\n",
    "grid.fit(x_train_proc, y_train_proc)\n",
    "print(\"Лучшие гиперпараметры:\", grid.best_params_)"
   ]
  },
  {
   "cell_type": "code",
   "execution_count": 49,
   "id": "d8579bc4",
   "metadata": {
    "execution": {
     "iopub.execute_input": "2022-06-15T10:27:14.729061Z",
     "iopub.status.busy": "2022-06-15T10:27:14.728402Z",
     "iopub.status.idle": "2022-06-15T10:27:14.746516Z",
     "shell.execute_reply": "2022-06-15T10:27:14.745541Z"
    },
    "papermill": {
     "duration": 0.074169,
     "end_time": "2022-06-15T10:27:14.748498",
     "exception": false,
     "start_time": "2022-06-15T10:27:14.674329",
     "status": "completed"
    },
    "tags": []
   },
   "outputs": [
    {
     "data": {
      "text/html": [
       "<div>\n",
       "<style scoped>\n",
       "    .dataframe tbody tr th:only-of-type {\n",
       "        vertical-align: middle;\n",
       "    }\n",
       "\n",
       "    .dataframe tbody tr th {\n",
       "        vertical-align: top;\n",
       "    }\n",
       "\n",
       "    .dataframe thead th {\n",
       "        text-align: right;\n",
       "    }\n",
       "</style>\n",
       "<table border=\"1\" class=\"dataframe\">\n",
       "  <thead>\n",
       "    <tr style=\"text-align: right;\">\n",
       "      <th></th>\n",
       "      <th>params</th>\n",
       "      <th>mean_test_score</th>\n",
       "      <th>rank_test_score</th>\n",
       "    </tr>\n",
       "  </thead>\n",
       "  <tbody>\n",
       "    <tr>\n",
       "      <th>2</th>\n",
       "      <td>{'criterion': 'gini', 'n_estimators': 50}</td>\n",
       "      <td>0.831867</td>\n",
       "      <td>1</td>\n",
       "    </tr>\n",
       "    <tr>\n",
       "      <th>3</th>\n",
       "      <td>{'criterion': 'gini', 'n_estimators': 100}</td>\n",
       "      <td>0.830648</td>\n",
       "      <td>2</td>\n",
       "    </tr>\n",
       "    <tr>\n",
       "      <th>7</th>\n",
       "      <td>{'criterion': 'entropy', 'n_estimators': 100}</td>\n",
       "      <td>0.828179</td>\n",
       "      <td>3</td>\n",
       "    </tr>\n",
       "    <tr>\n",
       "      <th>6</th>\n",
       "      <td>{'criterion': 'entropy', 'n_estimators': 50}</td>\n",
       "      <td>0.828164</td>\n",
       "      <td>4</td>\n",
       "    </tr>\n",
       "    <tr>\n",
       "      <th>1</th>\n",
       "      <td>{'criterion': 'gini', 'n_estimators': 20}</td>\n",
       "      <td>0.823241</td>\n",
       "      <td>5</td>\n",
       "    </tr>\n",
       "    <tr>\n",
       "      <th>5</th>\n",
       "      <td>{'criterion': 'entropy', 'n_estimators': 20}</td>\n",
       "      <td>0.822006</td>\n",
       "      <td>6</td>\n",
       "    </tr>\n",
       "    <tr>\n",
       "      <th>4</th>\n",
       "      <td>{'criterion': 'entropy', 'n_estimators': 10}</td>\n",
       "      <td>0.818210</td>\n",
       "      <td>7</td>\n",
       "    </tr>\n",
       "    <tr>\n",
       "      <th>0</th>\n",
       "      <td>{'criterion': 'gini', 'n_estimators': 10}</td>\n",
       "      <td>0.808302</td>\n",
       "      <td>8</td>\n",
       "    </tr>\n",
       "  </tbody>\n",
       "</table>\n",
       "</div>"
      ],
      "text/plain": [
       "                                          params  mean_test_score  \\\n",
       "2      {'criterion': 'gini', 'n_estimators': 50}         0.831867   \n",
       "3     {'criterion': 'gini', 'n_estimators': 100}         0.830648   \n",
       "7  {'criterion': 'entropy', 'n_estimators': 100}         0.828179   \n",
       "6   {'criterion': 'entropy', 'n_estimators': 50}         0.828164   \n",
       "1      {'criterion': 'gini', 'n_estimators': 20}         0.823241   \n",
       "5   {'criterion': 'entropy', 'n_estimators': 20}         0.822006   \n",
       "4   {'criterion': 'entropy', 'n_estimators': 10}         0.818210   \n",
       "0      {'criterion': 'gini', 'n_estimators': 10}         0.808302   \n",
       "\n",
       "   rank_test_score  \n",
       "2                1  \n",
       "3                2  \n",
       "7                3  \n",
       "6                4  \n",
       "1                5  \n",
       "5                6  \n",
       "4                7  \n",
       "0                8  "
      ]
     },
     "execution_count": 49,
     "metadata": {},
     "output_type": "execute_result"
    }
   ],
   "source": [
    "pd.DataFrame(grid.cv_results_).sort_values(by=\"rank_test_score\")[[\"params\", \"mean_test_score\", \"rank_test_score\"]]"
   ]
  },
  {
   "cell_type": "code",
   "execution_count": 50,
   "id": "9baaaebd",
   "metadata": {
    "execution": {
     "iopub.execute_input": "2022-06-15T10:27:14.855115Z",
     "iopub.status.busy": "2022-06-15T10:27:14.854358Z",
     "iopub.status.idle": "2022-06-15T10:27:14.870945Z",
     "shell.execute_reply": "2022-06-15T10:27:14.869841Z"
    },
    "papermill": {
     "duration": 0.072672,
     "end_time": "2022-06-15T10:27:14.873100",
     "exception": false,
     "start_time": "2022-06-15T10:27:14.800428",
     "status": "completed"
    },
    "tags": []
   },
   "outputs": [
    {
     "name": "stdout",
     "output_type": "stream",
     "text": [
      "Accuracy предобработанного датасета: 0.9014778325123153\n"
     ]
    }
   ],
   "source": [
    "y_pred = grid.predict(x_test_proc)\n",
    "print(f\"Accuracy предобработанного датасета: {accuracy_score(y_test_proc, y_pred)}\")"
   ]
  },
  {
   "cell_type": "code",
   "execution_count": 51,
   "id": "b9a8bcfb",
   "metadata": {
    "execution": {
     "iopub.execute_input": "2022-06-15T10:27:14.979922Z",
     "iopub.status.busy": "2022-06-15T10:27:14.979509Z",
     "iopub.status.idle": "2022-06-15T10:27:15.221353Z",
     "shell.execute_reply": "2022-06-15T10:27:15.220443Z"
    },
    "papermill": {
     "duration": 0.298149,
     "end_time": "2022-06-15T10:27:15.223760",
     "exception": false,
     "start_time": "2022-06-15T10:27:14.925611",
     "status": "completed"
    },
    "scrolled": false,
    "tags": []
   },
   "outputs": [
    {
     "data": {
      "image/png": "[encoded data removed]",
      "text/plain": [
       "<Figure size 640x480 with 2 Axes>"
      ]
     },
     "metadata": {},
     "output_type": "display_data"
    }
   ],
   "source": [
    "labels = np.unique(y_pred)\n",
    "sns.heatmap(confusion_matrix(y_test_proc, y_pred), annot=True, xticklabels=labels, yticklabels=labels, cmap=\"coolwarm\")\n",
    "plt.show()"
   ]
  },
  {
   "cell_type": "markdown",
   "id": "58f8a1df",
   "metadata": {
    "papermill": {
     "duration": 0.053098,
     "end_time": "2022-06-15T10:27:15.329439",
     "exception": false,
     "start_time": "2022-06-15T10:27:15.276341",
     "status": "completed"
    },
    "tags": []
   },
   "source": [
    "Вот и все. После настройки гиперпараметров мы получили лучшее значение для критерия «джини», а n_estimators равно 50. При таком значении параметра точность полученной модели увеличилась почти на 1% по сравнению с тестовыми данными. Хоть это и не много, но все же улучшение от получившейся модели есть."
   ]
  },
  {
   "cell_type": "markdown",
   "id": "f6cb0bf5",
   "metadata": {
    "papermill": {
     "duration": 0.053313,
     "end_time": "2022-06-15T10:27:15.437639",
     "exception": false,
     "start_time": "2022-06-15T10:27:15.384326",
     "status": "completed"
    },
    "tags": []
   },
   "source": [
    "# Заключение\n",
    "\n",
    "Проведя некоторый анализ этого набора данных, мы можем сделать вывод, что BS или уровень глюкозы в крови является наиболее важной переменной в определении уровня здоровья беременных женщин. Беременные женщины с высоким уровнем глюкозы в крови, как правило, имеют высокий риск для здоровья. Более 75% беременных с BS 8 и более имеют высокий риск для здоровья. BS также имеет относительно сильную положительную корреляцию с возрастом, систолическим и диастолическим АД, поэтому беременным женщинам с высоким возрастом, систолическим и диастолическим АД следует быть бдительными. Возраст также является довольно важной переменной, поскольку риски для здоровья беременных женщин, по-видимому, начинают увеличиваться, начиная с 25-летнего возраста. Для систолического и диастолического АД эти две переменные действительно имеют сильную взаимосвязь, о чем свидетельствует значение коэффициента корреляции, равное 0,79. Что касается BodyTemp, эта переменная на самом деле не дает много информации, потому что более 79% от общего значения составляет 98F. Но из этой переменной мы знаем, что беременные женщины с температурой тела выше 98,4 F, как правило, имеют больший риск для здоровья. И последний параметр — частота сердечных сокращений, наименее значимая переменная для определения уровня здоровья беременных женщин.\n",
    "\n",
    "И, наконец, мы можем построить нашу модель классификации, используя алгоритм Random Forest для этого набора данных. С исходным набором данных мы получаем точность 86,7%. Но после того, как мы проделаем некоторую инженерию функций и очистку данных, удалив выбросы и ненужную переменную, точность, которую мы получим, возрастет до 89,16%. Это показывает, что наша модель лучше обобщается с нашим обработанным набором данных. Мы также выполнили настройку гиперпараметров, чтобы получить лучший гиперпараметр для алгоритма Random Forest. Используя лучшие из полученных гиперпараметров, модель способна обеспечить более высокую точность, которая составляет 90,15%."
   ]
  }
 ],
 "metadata": {
  "kernelspec": {
   "display_name": "Python 3 (ipykernel)",
   "language": "python",
   "name": "python3"
  },
  "language_info": {
   "codemirror_mode": {
    "name": "ipython",
    "version": 3
   },
   "file_extension": ".py",
   "mimetype": "text/x-python",
   "name": "python",
   "nbconvert_exporter": "python",
   "pygments_lexer": "ipython3",
   "version": "3.10.9"
  },
  "papermill": {
   "default_parameters": {},
   "duration": 53.623437,
   "end_time": "2022-06-15T10:27:16.526641",
   "environment_variables": {},
   "exception": null,
   "input_path": "__notebook__.ipynb",
   "output_path": "__notebook__.ipynb",
   "parameters": {},
   "start_time": "2022-06-15T10:26:22.903204",
   "version": "2.3.4"
  }
 },
 "nbformat": 4,
 "nbformat_minor": 5
}
