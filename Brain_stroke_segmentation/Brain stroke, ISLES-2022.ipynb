{
 "cells": [
  {
   "cell_type": "code",
   "execution_count": 1,
   "id": "59c03030",
   "metadata": {},
   "outputs": [],
   "source": [
    "import nibabel as nib\n",
    "import scipy\n",
    "import napari\n",
    "import numpy as np\n",
    "import os\n",
    "from matplotlib import pyplot as plt\n",
    "from torch.utils.data import Dataset, DataLoader, SubsetRandomSampler\n",
    "import eval_utils\n",
    "import torch\n",
    "import random\n",
    "import torch.nn as nn\n",
    "from torchvision import transforms\n",
    "import segmentation_models_pytorch as smp\n",
    "import time"
   ]
  },
  {
   "cell_type": "markdown",
   "id": "84409d59",
   "metadata": {},
   "source": [
    "### Модель обучена на соревновательном датасете ISLES-2022 и представляет из себя сегментационную модель для выявления последствий инсульта на мрт голосного мозга.\n",
    "\n",
    "#### Ссылка на веса модели: https://drive.google.com/file/d/1ZCVcWxuD88CUJF1TmH8MUZu_iREFo-hE/view?usp=sharing\n",
    "(модель получилась объемная, более 100 mb, но можно будет ее оптимизировать и сделать намного легче)\n",
    "\n",
    "#### На вход модель получает DICOM файл размерностью (X слоев на 112 пикселей на 112 пикселей)\n",
    "\n",
    "#### При работе на графичекой карте, модель обрабатывает 75 слоев за 0.7 секунды. Такую скорость можно реализовать и на процессоре Intel, используя библиотеку OpenVino. "
   ]
  },
  {
   "cell_type": "code",
   "execution_count": 268,
   "id": "242d6094",
   "metadata": {},
   "outputs": [],
   "source": [
    "#  def make_path_right(path):\n",
    "#         path = path.replace('\\\\','/')\n",
    "#         return path"
   ]
  },
  {
   "cell_type": "code",
   "execution_count": 292,
   "id": "bee00331",
   "metadata": {},
   "outputs": [],
   "source": [
    "# isles_data_dir = 'ISLES-2022/'\n",
    "# example_case = 2\n",
    "\n",
    "# # images paths\n",
    "# dwi_path = os.path.join(isles_data_dir, 'rawdata', 'sub-strokecase{}'.format('%04d' %example_case), 'ses-0001','dwi',\n",
    "#                        'sub-strokecase{}_ses-0001_dwi.nii.gz'.format(\"%04d\" % example_case))\n",
    "# dwi_path = make_path_right(dwi_path)\n",
    "# adc_path = ''.join(reversed(''.join(reversed(dwi_path)).replace('iwd', 'cda', 1 )))\n",
    "# flair_path = dwi_path.replace('dwi', 'anat', 1).replace('dwi', 'flair', 1)\n",
    "# mask_path = dwi_path.replace('rawdata', 'derivatives').replace('dwi', 'msk').replace('msk', '', 1)"
   ]
  },
  {
   "cell_type": "code",
   "execution_count": 293,
   "id": "6115a9b8",
   "metadata": {
    "scrolled": true
   },
   "outputs": [],
   "source": [
    "# # Load image data.\n",
    "# dwi_image = nib.load(dwi_path).get_fdata().transpose(2, 0, 1)\n",
    "# adc_image = nib.load(adc_path).get_fdata()\n",
    "# flair_image = nib.load(flair_path).get_fdata()\n",
    "# mask_image = nib.load(mask_path).get_fdata().transpose(2, 0, 1)"
   ]
  },
  {
   "cell_type": "code",
   "execution_count": 294,
   "id": "57becf11",
   "metadata": {},
   "outputs": [],
   "source": [
    "# result = []\n",
    "# result.extend(dwi_image)"
   ]
  },
  {
   "cell_type": "code",
   "execution_count": 299,
   "id": "2e667d63",
   "metadata": {},
   "outputs": [
    {
     "data": {
      "text/plain": [
       "(72, 112, 112)"
      ]
     },
     "execution_count": 299,
     "metadata": {},
     "output_type": "execute_result"
    }
   ],
   "source": [
    "# dwi_image.shape"
   ]
  },
  {
   "cell_type": "code",
   "execution_count": 352,
   "id": "7d542c4e",
   "metadata": {},
   "outputs": [],
   "source": [
    "# slice2show=6\n",
    "# plt.imshow(dwi_image[slice2show,:,:], alpha=0.5, cmap='gray')"
   ]
  },
  {
   "cell_type": "markdown",
   "id": "1577d47a",
   "metadata": {},
   "source": [
    "## Загрузка датасета"
   ]
  },
  {
   "cell_type": "code",
   "execution_count": 19,
   "id": "aaeaa55b",
   "metadata": {},
   "outputs": [],
   "source": [
    "class ISLES_dataset(Dataset):\n",
    "    def __init__(self, dataset_dir, transform=None):\n",
    "        self.dataset_dir = dataset_dir\n",
    "        self.transform = transform\n",
    "        self.image_layers = []\n",
    "        self.mask_layers = []\n",
    "        for example_case in range(1, 220):#220\n",
    "            # images paths\n",
    "            dwi_path = os.path.join(dataset_dir, 'rawdata', 'sub-strokecase{}'.format('%04d' %example_case), 'ses-0001','dwi',\n",
    "                                   'sub-strokecase{}_ses-0001_dwi.nii.gz'.format(\"%04d\" % example_case))\n",
    "            dwi_path = self.make_path_right(dwi_path)\n",
    "            mask_path = dwi_path.replace('rawdata', 'derivatives').replace('dwi', 'msk').replace('msk', '', 1)\n",
    "            dwi_image = nib.load(dwi_path).get_fdata().transpose(2, 0, 1)\n",
    "            mask_image = nib.load(mask_path).get_fdata().transpose(2, 0, 1)\n",
    "            self.image_layers.extend(dwi_image)\n",
    "            self.mask_layers.extend(mask_image)\n",
    "            \n",
    "    @staticmethod\n",
    "    def make_path_right(path):\n",
    "        path = path.replace('\\\\','/')\n",
    "        return path\n",
    "    \n",
    "    @staticmethod\n",
    "    def NormalizeTensor(data):\n",
    "        diff = torch.max(data) - torch.min(data)\n",
    "        if diff==0:\n",
    "            return torch.zeros_like(data)\n",
    "        return (data - torch.min(data)) / (torch.max(data) - torch.min(data))\n",
    "    # аугментация кастомного датасета\n",
    "    def apply_transform(self, image, mask):\n",
    "        \n",
    "        # Transform to tensor\n",
    "        image = transforms.functional.to_tensor(image)\n",
    "        mask = transforms.functional.to_tensor(mask)\n",
    "    \n",
    "        # Resize\n",
    "        resize = transforms.Resize(size=(112, 112), antialias=None)\n",
    "        image = resize(image)\n",
    "        mask = resize(mask)\n",
    "\n",
    "\n",
    "#         # Random horizontal flipping\n",
    "#         if random.random() > 0.5:\n",
    "#             image = transforms.functional.hflip(image)\n",
    "#             mask = transforms.functional.hflip(mask)\n",
    "\n",
    "#         # Random vertical flipping\n",
    "#         if random.random() > 0.5:\n",
    "#             image = transforms.functional.vflip(image)\n",
    "#             mask = transforms.functional.vflip(mask)\n",
    "\n",
    "        # Random rotation\n",
    "        degrees = [0, 90, 180, 270]\n",
    "        angle = random.choice(degrees)\n",
    "        image = transforms.functional.rotate(image, angle)\n",
    "        mask = transforms.functional.rotate(mask, angle)\n",
    "        \n",
    "        return image, mask\n",
    "        \n",
    "    def __len__(self):\n",
    "        return len(self.mask_layers)\n",
    "    \n",
    "    def __getitem__(self, idx):\n",
    "        \n",
    "        image_layer = self.image_layers[idx]\n",
    "        mask_layer = self.mask_layers[idx]\n",
    "        \n",
    "        image_layer, mask_layer = self.apply_transform(image_layer, mask_layer)\n",
    "        image_layer = self.NormalizeTensor(image_layer)\n",
    "        \n",
    "        \n",
    "        return image_layer, mask_layer\n",
    "        \n",
    "            \n"
   ]
  },
  {
   "cell_type": "code",
   "execution_count": 20,
   "id": "e809dc8e",
   "metadata": {},
   "outputs": [],
   "source": [
    "dataset = ISLES_dataset('ISLES-2022/')"
   ]
  },
  {
   "cell_type": "code",
   "execution_count": 21,
   "id": "3af1b662",
   "metadata": {},
   "outputs": [],
   "source": [
    "train_loader = DataLoader(dataset, batch_size=32)"
   ]
  },
  {
   "cell_type": "code",
   "execution_count": 168,
   "id": "bf456b77",
   "metadata": {},
   "outputs": [],
   "source": [
    "train_iterator = iter(train_loader)\n",
    "sample_data, sample_label = next(train_iterator)"
   ]
  },
  {
   "cell_type": "code",
   "execution_count": 169,
   "id": "9fb52600",
   "metadata": {},
   "outputs": [
    {
     "data": {
      "text/plain": [
       "torch.Size([64, 1, 112, 112])"
      ]
     },
     "execution_count": 169,
     "metadata": {},
     "output_type": "execute_result"
    }
   ],
   "source": [
    "sample_data.shape"
   ]
  },
  {
   "cell_type": "code",
   "execution_count": 89,
   "id": "b9b1c68d",
   "metadata": {},
   "outputs": [],
   "source": [
    "sample_data, sample_label = next(train_iterator)"
   ]
  },
  {
   "cell_type": "code",
   "execution_count": 178,
   "id": "82abbcf5",
   "metadata": {},
   "outputs": [
    {
     "data": {
      "text/plain": [
       "100352"
      ]
     },
     "execution_count": 178,
     "metadata": {},
     "output_type": "execute_result"
    }
   ],
   "source": [
    "sample_data[3].squeeze(0).numpy().nbytes"
   ]
  },
  {
   "cell_type": "code",
   "execution_count": 90,
   "id": "c807f08f",
   "metadata": {},
   "outputs": [
    {
     "data": {
      "text/plain": [
       "<matplotlib.image.AxesImage at 0x26c618294b0>"
      ]
     },
     "execution_count": 90,
     "metadata": {},
     "output_type": "execute_result"
    },
    {
     "data": {
      "image/png": "[encoded data removed]",
      "text/plain": [
       "<Figure size 640x480 with 1 Axes>"
      ]
     },
     "metadata": {},
     "output_type": "display_data"
    }
   ],
   "source": [
    "plt.imshow(sample_data[3].squeeze(0).numpy(), cmap='gray')"
   ]
  },
  {
   "cell_type": "code",
   "execution_count": 91,
   "id": "f4e5adeb",
   "metadata": {},
   "outputs": [
    {
     "data": {
      "text/plain": [
       "<matplotlib.image.AxesImage at 0x26c6d8b4ee0>"
      ]
     },
     "execution_count": 91,
     "metadata": {},
     "output_type": "execute_result"
    },
    {
     "data": {
      "image/png": "[encoded data removed]",
      "text/plain": [
       "<Figure size 640x480 with 1 Axes>"
      ]
     },
     "metadata": {},
     "output_type": "display_data"
    }
   ],
   "source": [
    "\n",
    "plt.imshow(sample_label[3].squeeze(0).numpy(), cmap='gray')"
   ]
  },
  {
   "cell_type": "markdown",
   "id": "25b03104",
   "metadata": {},
   "source": [
    "# Валидационная выборка"
   ]
  },
  {
   "cell_type": "code",
   "execution_count": 16,
   "id": "35f54bea",
   "metadata": {},
   "outputs": [],
   "source": [
    "class ISLES_dataset_valid(Dataset):\n",
    "    def __init__(self, dataset_dir, transform=None):\n",
    "        self.dataset_dir = dataset_dir\n",
    "        self.transform = transform\n",
    "        self.image_layers = []\n",
    "        self.mask_layers = []\n",
    "        for example_case in range(221, 251):#251\n",
    "            # images paths\n",
    "            dwi_path = os.path.join(dataset_dir, 'rawdata', 'sub-strokecase{}'.format('%04d' %example_case), 'ses-0001','dwi',\n",
    "                                   'sub-strokecase{}_ses-0001_dwi.nii.gz'.format(\"%04d\" % example_case))\n",
    "            dwi_path = self.make_path_right(dwi_path)\n",
    "  \n",
    "            mask_path = dwi_path.replace('rawdata', 'derivatives').replace('dwi', 'msk').replace('msk', '', 1)\n",
    "            dwi_image = nib.load(dwi_path).get_fdata().transpose(2, 0, 1)\n",
    "            mask_image = nib.load(mask_path).get_fdata().transpose(2, 0, 1)\n",
    "            self.image_layers.extend(dwi_image)\n",
    "            self.mask_layers.extend(mask_image)\n",
    "            \n",
    "    @staticmethod\n",
    "    def make_path_right(path):\n",
    "        path = path.replace('\\\\','/')\n",
    "        return path\n",
    "    \n",
    "    @staticmethod\n",
    "    def NormalizeTensor(data):\n",
    "        diff = torch.max(data) - torch.min(data)\n",
    "        if diff==0:\n",
    "            return torch.zeros_like(data)\n",
    "        return (data - torch.min(data)) / (torch.max(data) - torch.min(data))\n",
    "    \n",
    "    def apply_transform(self, image, mask):\n",
    "        \n",
    "        # Transform to tensor\n",
    "        image = transforms.functional.to_tensor(image)\n",
    "        mask = transforms.functional.to_tensor(mask)\n",
    "        \n",
    "        # Resize\n",
    "        resize = transforms.Resize(size=(112, 112), antialias=None)\n",
    "        image = resize(image)\n",
    "        mask = resize(mask)\n",
    "\n",
    "#         # Random horizontal flipping\n",
    "#         if random.random() > 0.5:\n",
    "#             image = transforms.functional.hflip(image)\n",
    "#             mask = transforms.functional.hflip(mask)\n",
    "\n",
    "#         # Random vertical flipping\n",
    "#         if random.random() > 0.5:\n",
    "#             image = transforms.functional.vflip(image)\n",
    "#             mask = transforms.functional.vflip(mask)\n",
    "\n",
    "        # Random rotation\n",
    "        degrees = [0, 90, 180, 270]\n",
    "        angle = random.choice(degrees)\n",
    "        image = transforms.functional.rotate(image, angle)\n",
    "        mask = transforms.functional.rotate(mask, angle)\n",
    "        \n",
    "        return image, mask\n",
    "        \n",
    "    def __len__(self):\n",
    "        return len(self.mask_layers)\n",
    "    \n",
    "    def __getitem__(self, idx):\n",
    "        \n",
    "        image_layer = self.image_layers[idx]\n",
    "        mask_layer = self.mask_layers[idx]\n",
    "        \n",
    "        image_layer, mask_layer = self.apply_transform(image_layer, mask_layer)\n",
    "        image_layer = self.NormalizeTensor(image_layer)\n",
    "        \n",
    "        \n",
    "        return image_layer, mask_layer\n",
    "        "
   ]
  },
  {
   "cell_type": "code",
   "execution_count": 17,
   "id": "e429ed6a",
   "metadata": {},
   "outputs": [],
   "source": [
    "valid_dataset = ISLES_dataset_valid('ISLES-2022/')"
   ]
  },
  {
   "cell_type": "code",
   "execution_count": 18,
   "id": "25f0f42a",
   "metadata": {},
   "outputs": [],
   "source": [
    "valid_loader = DataLoader(valid_dataset, batch_size=32)"
   ]
  },
  {
   "cell_type": "code",
   "execution_count": 134,
   "id": "80aad415",
   "metadata": {},
   "outputs": [],
   "source": [
    "# valid_iterator = iter(valid_loader)\n",
    "# sample_data, sample_label = next(valid_iterator)"
   ]
  },
  {
   "cell_type": "code",
   "execution_count": 135,
   "id": "bff72d89",
   "metadata": {},
   "outputs": [],
   "source": [
    "# plt.imshow(sample_data[3].squeeze(0).numpy(), cmap='gray')"
   ]
  },
  {
   "cell_type": "code",
   "execution_count": 131,
   "id": "2261543e",
   "metadata": {},
   "outputs": [],
   "source": [
    "# plt.imshow(sample_label[3].squeeze(0).numpy(), cmap='gray')"
   ]
  },
  {
   "cell_type": "markdown",
   "id": "beadef0d",
   "metadata": {},
   "source": [
    "## CNN"
   ]
  },
  {
   "cell_type": "code",
   "execution_count": 3,
   "id": "e295534c",
   "metadata": {},
   "outputs": [],
   "source": [
    "class UNet(nn.Module):\n",
    "\n",
    "    def __init__(self, num_classes):\n",
    "        super(UNet, self).__init__()\n",
    "        self.num_classes = num_classes\n",
    "\n",
    "        # Левая сторона (Путь уменьшения размерности картинки)\n",
    "        self.down_conv_11 = self.conv_block(in_channels=1,\n",
    "                                            out_channels=64)\n",
    "        self.down_conv_12 = nn.MaxPool2d(kernel_size=2,\n",
    "                                         stride=2)\n",
    "        self.down_conv_21 = self.conv_block(in_channels=64,\n",
    "                                            out_channels=128)\n",
    "        self.down_conv_22 = nn.MaxPool2d(kernel_size=2,\n",
    "                                         stride=2)\n",
    "        self.down_conv_31 = self.conv_block(in_channels=128,\n",
    "                                            out_channels=256)\n",
    "        self.down_conv_32 = nn.MaxPool2d(kernel_size=2,\n",
    "                                         stride=2)\n",
    "        self.down_conv_41 = self.conv_block(in_channels=256,\n",
    "                                            out_channels=512)\n",
    "        self.down_conv_42 = nn.MaxPool2d(kernel_size=2,\n",
    "                                         stride=2)\n",
    "        \n",
    "        self.middle = self.conv_block(in_channels=512, out_channels=1024)\n",
    "        \n",
    "        # Правая сторона (Путь увеличения размерности картинки)\n",
    "        self.up_conv_11 = nn.ConvTranspose2d(in_channels=1024, out_channels=512,\n",
    "                                             kernel_size=3, stride=2,\n",
    "                                             padding=1, output_padding=1)\n",
    "        self.up_conv_12 = self.conv_block(in_channels=1024,\n",
    "                                          out_channels=512)\n",
    "        self.up_conv_21 = nn.ConvTranspose2d(in_channels=512, out_channels=256,\n",
    "                                             kernel_size=3, stride=2,\n",
    "                                             padding=1, output_padding=1)\n",
    "        self.up_conv_22 = self.conv_block(in_channels=512,\n",
    "                                          out_channels=256)\n",
    "        self.up_conv_31 = nn.ConvTranspose2d(in_channels=256, out_channels=128,\n",
    "                                             kernel_size=3, stride=2,\n",
    "                                             padding=1, output_padding=1)\n",
    "        self.up_conv_32 = self.conv_block(in_channels=256,\n",
    "                                          out_channels=128)\n",
    "        self.up_conv_41 = nn.ConvTranspose2d(in_channels=128, out_channels=64,\n",
    "                                             kernel_size=3, stride=2,\n",
    "                                             padding=1, output_padding=1)\n",
    "        self.up_conv_42 = self.conv_block(in_channels=128,\n",
    "                                          out_channels=64)\n",
    "        \n",
    "        self.output = nn.Conv2d(in_channels=64, out_channels=num_classes,\n",
    "                                kernel_size=3, stride=1,\n",
    "                                padding=1)\n",
    "#         self.softmax = nn.Softmax(dim=1)\n",
    "    \n",
    "    @staticmethod\n",
    "    def conv_block(in_channels, out_channels):\n",
    "        block = nn.Sequential(\n",
    "            nn.Conv2d(in_channels=in_channels,\n",
    "                      out_channels=out_channels,\n",
    "                      kernel_size=3,\n",
    "                      stride=1,\n",
    "                      padding=1),\n",
    "            nn.ReLU(),\n",
    "            nn.BatchNorm2d(num_features=out_channels),\n",
    "            nn.Conv2d(in_channels=out_channels,\n",
    "                      out_channels=out_channels,\n",
    "                      kernel_size=3,\n",
    "                      stride=1,\n",
    "                      padding=1),\n",
    "            nn.ReLU(),\n",
    "            nn.BatchNorm2d(num_features=out_channels))\n",
    "        return block\n",
    "    \n",
    "    @staticmethod\n",
    "    def crop_tensor(target_tensor, tensor):\n",
    "        target_size = target_tensor.size()[2]\n",
    "        tensor_size = tensor.size()[2]\n",
    "        delta = tensor_size - target_size\n",
    "        delta = delta // 2\n",
    "\n",
    "        return tensor[:,:, delta:tensor_size-delta, delta:tensor_size-delta]\n",
    "\n",
    "\n",
    "    def forward(self, X):\n",
    "        # Проход по левой стороне\n",
    "        x1 = self.down_conv_11(X) # [-1, 64, 256, 256]\n",
    "        x2 = self.down_conv_12(x1) # [-1, 64, 128, 128]\n",
    "        x3 = self.down_conv_21(x2) # [-1, 128, 128, 128]\n",
    "        x4 = self.down_conv_22(x3) # [-1, 128, 64, 64]\n",
    "        x5 = self.down_conv_31(x4) # [-1, 256, 64, 64]\n",
    "        x6 = self.down_conv_32(x5) # [-1, 256, 32, 32]\n",
    "        x7 = self.down_conv_41(x6) # [-1, 512, 32, 32]\n",
    "        x8 = self.down_conv_42(x7) # [-1, 512, 16, 16]\n",
    "        \n",
    "        middle_out = self.middle(x8) # [-1, 1024, 16, 16]\n",
    "\n",
    "        # Проход по правой стороне\n",
    "        x = self.up_conv_11(middle_out) # [-1, 512, 32, 32]\n",
    "        y = self.crop_tensor(x, x7)\n",
    "        x = self.up_conv_12(torch.cat((x, y), dim=1)) # [-1, 1024, 32, 32] -> [-1, 512, 32, 32]\n",
    "        \n",
    "        x = self.up_conv_21(x) # [-1, 256, 64, 64]\n",
    "        y = self.crop_tensor(x, x5)\n",
    "        x = self.up_conv_22(torch.cat((x, y), dim=1)) # [-1, 512, 64, 64] -> [-1, 256, 64, 64]\n",
    "        \n",
    "        x = self.up_conv_31(x) # [-1, 128, 128, 128]\n",
    "        y = self.crop_tensor(x, x3)\n",
    "        x = self.up_conv_32(torch.cat((x, y), dim=1)) # [-1, 256, 128, 128] -> [-1, 128, 128, 128]\n",
    "        \n",
    "        x = self.up_conv_41(x) # [-1, 64, 256, 256]\n",
    "        y = self.crop_tensor(x, x1)\n",
    "        x = self.up_conv_42(torch.cat((x, y), dim=1)) # [-1, 128, 256, 256] -> [-1, 64, 256, 256]\n",
    "        \n",
    "        output = self.output(x) # [-1, num_classes, 256, 256]\n",
    "#         output = self.softmax(output)\n",
    "\n",
    "        return output"
   ]
  },
  {
   "cell_type": "code",
   "execution_count": 9,
   "id": "f2091724",
   "metadata": {},
   "outputs": [
    {
     "data": {
      "text/plain": [
       "device(type='cuda', index=0)"
      ]
     },
     "execution_count": 9,
     "metadata": {},
     "output_type": "execute_result"
    }
   ],
   "source": [
    "device = torch.device('cuda:0' if torch.cuda.is_available() else 'cpu')\n",
    "device"
   ]
  },
  {
   "cell_type": "code",
   "execution_count": 10,
   "id": "210e694a",
   "metadata": {},
   "outputs": [],
   "source": [
    "Umodel = UNet(num_classes=1).to(device)"
   ]
  },
  {
   "cell_type": "markdown",
   "id": "4649a9c7",
   "metadata": {},
   "source": [
    "# Обучение модели"
   ]
  },
  {
   "cell_type": "code",
   "execution_count": 13,
   "id": "c5c119d3",
   "metadata": {},
   "outputs": [],
   "source": [
    "\n",
    "optimizer = torch.optim.Adam(Umodel.parameters())"
   ]
  },
  {
   "cell_type": "code",
   "execution_count": 14,
   "id": "d230539c",
   "metadata": {},
   "outputs": [],
   "source": [
    "\n",
    "criterion = smp.losses.DiceLoss(smp.losses.BINARY_MODE, from_logits=True)"
   ]
  },
  {
   "cell_type": "code",
   "execution_count": 22,
   "id": "8b3ae7be",
   "metadata": {},
   "outputs": [
    {
     "name": "stdout",
     "output_type": "stream",
     "text": [
      "Epoch1 - train_loss: 0.3504 | valid_loss:0.3551\n",
      "Spend time for 1 epoch: 152.30818676948547 sec\n",
      "Model saved\n",
      "Epoch2 - train_loss: 0.3528 | valid_loss:0.3970\n",
      "Epoch3 - train_loss: 0.3618 | valid_loss:0.3708\n",
      "Epoch4 - train_loss: 0.3468 | valid_loss:0.3648\n",
      "Epoch5 - train_loss: 0.3455 | valid_loss:0.3773\n",
      "Epoch6 - train_loss: 0.3474 | valid_loss:0.3618\n",
      "Epoch7 - train_loss: 0.3418 | valid_loss:0.3878\n",
      "Epoch8 - train_loss: 0.3427 | valid_loss:0.3846\n",
      "Epoch9 - train_loss: 0.3407 | valid_loss:0.3519\n",
      "Model saved\n",
      "Epoch10 - train_loss: 0.3344 | valid_loss:0.3665\n",
      "Epoch11 - train_loss: 0.3394 | valid_loss:0.3583\n",
      "Epoch12 - train_loss: 0.3409 | valid_loss:0.3587\n",
      "Epoch13 - train_loss: 0.3306 | valid_loss:0.3826\n",
      "Epoch14 - train_loss: 0.3385 | valid_loss:0.3650\n",
      "Epoch15 - train_loss: 0.3322 | valid_loss:0.4252\n",
      "Epoch16 - train_loss: 0.3264 | valid_loss:0.3621\n",
      "Epoch17 - train_loss: 0.3265 | valid_loss:0.3670\n",
      "Epoch18 - train_loss: 0.3275 | valid_loss:0.3639\n",
      "Epoch19 - train_loss: 0.3281 | valid_loss:0.3541\n",
      "Epoch20 - train_loss: 0.3261 | valid_loss:0.3740\n",
      "Epoch21 - train_loss: 0.3465 | valid_loss:0.3483\n",
      "Model saved\n",
      "Epoch22 - train_loss: 0.3290 | valid_loss:0.3535\n",
      "Epoch23 - train_loss: 0.3231 | valid_loss:0.3538\n",
      "Epoch24 - train_loss: 0.3276 | valid_loss:0.3498\n",
      "Epoch25 - train_loss: 0.3182 | valid_loss:0.3422\n",
      "Model saved\n",
      "Epoch26 - train_loss: 0.3127 | valid_loss:0.3391\n",
      "Model saved\n",
      "Epoch27 - train_loss: 0.3251 | valid_loss:0.3601\n",
      "Epoch28 - train_loss: 0.3212 | valid_loss:0.3441\n",
      "Epoch29 - train_loss: 0.3206 | valid_loss:0.3660\n",
      "Epoch30 - train_loss: 0.3148 | valid_loss:0.3563\n",
      "Epoch31 - train_loss: 0.3174 | valid_loss:0.3397\n",
      "Epoch32 - train_loss: 0.3121 | valid_loss:0.3445\n",
      "Epoch33 - train_loss: 0.3077 | valid_loss:0.3452\n",
      "Epoch34 - train_loss: 0.3172 | valid_loss:0.3408\n",
      "Epoch35 - train_loss: 0.3038 | valid_loss:0.3422\n",
      "Epoch36 - train_loss: 0.3065 | valid_loss:0.3266\n",
      "Model saved\n",
      "Epoch37 - train_loss: 0.3105 | valid_loss:0.3396\n",
      "Epoch38 - train_loss: 0.3409 | valid_loss:0.3719\n",
      "Epoch39 - train_loss: 0.3059 | valid_loss:0.3618\n",
      "Epoch40 - train_loss: 0.3247 | valid_loss:0.3363\n",
      "Epoch41 - train_loss: 0.2952 | valid_loss:0.3377\n",
      "Epoch42 - train_loss: 0.2998 | valid_loss:0.3373\n",
      "Epoch43 - train_loss: 0.2896 | valid_loss:0.3289\n",
      "Epoch44 - train_loss: 0.2988 | valid_loss:0.3411\n",
      "Epoch45 - train_loss: 0.3046 | valid_loss:0.3680\n",
      "Epoch46 - train_loss: 0.3070 | valid_loss:0.3248\n",
      "Model saved\n",
      "Epoch47 - train_loss: 0.2954 | valid_loss:0.3346\n",
      "Epoch48 - train_loss: 0.2935 | valid_loss:0.3466\n",
      "Epoch49 - train_loss: 0.3060 | valid_loss:0.3286\n",
      "Epoch50 - train_loss: 0.3056 | valid_loss:0.3344\n"
     ]
    }
   ],
   "source": [
    "# learning_rate = 0.0001\n",
    "epochs = 50\n",
    "\n",
    "# запускаем главный тренировочный цикл\n",
    "epoch_losses = []\n",
    "best_valid_loss = float('inf')\n",
    "for epoch in range(epochs):\n",
    "    start_time = time.time()\n",
    "    epoch_loss = []\n",
    "    valid_loss = []\n",
    "    Umodel.train()\n",
    "    for batch_idx, (data, labels) in enumerate(train_loader):\n",
    "        \n",
    "        data, labels = data.float().to(device), labels.float().to(device)        \n",
    "        \n",
    "        optimizer.zero_grad()\n",
    "        outputs = Umodel(data)                \n",
    "        \n",
    "        \n",
    "        loss = criterion(outputs, labels)\n",
    "        loss.backward()\n",
    "        optimizer.step()\n",
    "        \n",
    "        epoch_loss.append(loss.item())\n",
    "        \n",
    "    Umodel.eval()\n",
    "    for batch_idx, (data, labels) in enumerate(valid_loader):\n",
    "        \n",
    "        data, labels = data.float().to(device), labels.float().to(device)\n",
    "        outputs = Umodel(data)\n",
    "        loss = criterion(outputs, labels)\n",
    "        valid_loss.append(loss.item())\n",
    "        \n",
    "    print(f'Epoch{epoch+1} - train_loss: {np.mean(epoch_loss):.4f} | valid_loss:{np.mean(valid_loss):.4f}')\n",
    "    end_time = time.time()\n",
    "    if epoch ==0:\n",
    "        print(f'Spend time for 1 epoch: {end_time - start_time} sec')\n",
    "        \n",
    "    if np.mean(valid_loss) < best_valid_loss:\n",
    "        best_valid_loss = np.mean(valid_loss)\n",
    "        torch.save(Umodel, 'best_model.pth')\n",
    "        print('Model saved')\n",
    "        \n",
    "    epoch_losses.append(epoch_loss)"
   ]
  },
  {
   "cell_type": "markdown",
   "id": "761889c2",
   "metadata": {},
   "source": [
    "# inference"
   ]
  },
  {
   "cell_type": "code",
   "execution_count": 4,
   "id": "5b3a4d2a",
   "metadata": {},
   "outputs": [],
   "source": [
    "model = torch.load('best_model.pth')"
   ]
  },
  {
   "cell_type": "code",
   "execution_count": 63,
   "id": "02a9d311",
   "metadata": {},
   "outputs": [],
   "source": [
    " def make_path_right(path):\n",
    "        path = path.replace('\\\\','/')\n",
    "        return path\n",
    "    \n",
    "def NormalizeTensor(data):\n",
    "    diff = torch.max(data) - torch.min(data)\n",
    "    if diff==0:\n",
    "        return torch.zeros_like(data)\n",
    "    return (data - torch.min(data)) / (torch.max(data) - torch.min(data))\n",
    "\n",
    "isles_data_dir = 'ISLES-2022/'\n",
    "example_case = 231\n",
    "\n",
    "# images paths\n",
    "dwi_path = os.path.join(isles_data_dir, 'rawdata', 'sub-strokecase{}'.format('%04d' %example_case), 'ses-0001','dwi',\n",
    "                       'sub-strokecase{}_ses-0001_dwi.nii.gz'.format(\"%04d\" % example_case))\n",
    "dwi_path = make_path_right(dwi_path)\n",
    "\n",
    "mask_path = dwi_path.replace('rawdata', 'derivatives').replace('dwi', 'msk').replace('msk', '', 1)\n",
    "\n",
    "# Load image data.\n",
    "dwi_image = nib.load(dwi_path).get_fdata().transpose(2, 0, 1)\n",
    "\n",
    "mask_image = nib.load(mask_path).get_fdata().transpose(2, 0, 1)"
   ]
  },
  {
   "cell_type": "code",
   "execution_count": 64,
   "id": "627f6acc",
   "metadata": {},
   "outputs": [],
   "source": [
    "image = torch.Tensor(dwi_image)\n",
    "\n",
    "i=0\n",
    "for s in image:\n",
    "    image[i] = NormalizeTensor(s)\n",
    "    i+=1\n",
    "    \n",
    "resize = transforms.Resize(size=(112, 112), antialias=None)\n",
    "image = resize(image)\n",
    "image =  image.unsqueeze(1)\n",
    "shape_of_file = image.shape[0]\n",
    "result = np.zeros((shape_of_file, 1, 112, 112))"
   ]
  },
  {
   "cell_type": "code",
   "execution_count": 65,
   "id": "5940b12b",
   "metadata": {},
   "outputs": [
    {
     "data": {
      "text/plain": [
       "device(type='cuda', index=0)"
      ]
     },
     "execution_count": 65,
     "metadata": {},
     "output_type": "execute_result"
    }
   ],
   "source": [
    "device = torch.device('cuda:0' if torch.cuda.is_available() else 'cpu')\n",
    "device"
   ]
  },
  {
   "cell_type": "code",
   "execution_count": 66,
   "id": "587906bb",
   "metadata": {},
   "outputs": [
    {
     "name": "stdout",
     "output_type": "stream",
     "text": [
      "CPU times: total: 688 ms\n",
      "Wall time: 732 ms\n"
     ]
    }
   ],
   "source": [
    "%%time\n",
    "i=0\n",
    "for m in image:\n",
    "    m = m.unsqueeze(0)\n",
    "    m = m.float()\n",
    "    output = model(m.to(device))\n",
    "    preds = torch.sigmoid(output) > 0.5\n",
    "    result[i] = preds.detach().cpu().numpy()\n",
    "    i+=1"
   ]
  },
  {
   "cell_type": "code",
   "execution_count": 67,
   "id": "d654acbc",
   "metadata": {},
   "outputs": [
    {
     "data": {
      "text/plain": [
       "<Labels layer 'Preds' at 0x17dbdac7fd0>"
      ]
     },
     "execution_count": 67,
     "metadata": {},
     "output_type": "execute_result"
    }
   ],
   "source": [
    "\n",
    "image = image.detach().cpu().numpy()\n",
    "viewer = napari.Viewer()\n",
    "viewer.add_image(image.squeeze(1), name='DICOM')\n",
    "viewer.add_labels(result.squeeze(1).astype(int), name='Preds')\n",
    "\n"
   ]
  },
  {
   "cell_type": "code",
   "execution_count": 68,
   "id": "3601d113",
   "metadata": {},
   "outputs": [
    {
     "data": {
      "text/plain": [
       "<Labels layer 'Ground truth' at 0x17dc107ab00>"
      ]
     },
     "execution_count": 68,
     "metadata": {},
     "output_type": "execute_result"
    }
   ],
   "source": [
    "viewer = napari.Viewer()\n",
    "viewer.add_image(image.squeeze(1), name='DICOM')\n",
    "viewer.add_labels(mask_image.astype(int), name='Ground truth')\n"
   ]
  },
  {
   "cell_type": "code",
   "execution_count": null,
   "id": "e6c58c72",
   "metadata": {},
   "outputs": [],
   "source": []
  }
 ],
 "metadata": {
  "kernelspec": {
   "display_name": "Python 3 (ipykernel)",
   "language": "python",
   "name": "python3"
  },
  "language_info": {
   "codemirror_mode": {
    "name": "ipython",
    "version": 3
   },
   "file_extension": ".py",
   "mimetype": "text/x-python",
   "name": "python",
   "nbconvert_exporter": "python",
   "pygments_lexer": "ipython3",
   "version": "3.10.9"
  }
 },
 "nbformat": 4,
 "nbformat_minor": 5
}
