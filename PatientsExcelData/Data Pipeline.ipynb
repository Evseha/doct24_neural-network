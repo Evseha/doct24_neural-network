{
 "cells": [
  {
   "cell_type": "markdown",
   "id": "f86ba541",
   "metadata": {},
   "source": [
    "# Подготовка данных пациентов"
   ]
  },
  {
   "cell_type": "code",
   "execution_count": 20,
   "id": "a0a42e57",
   "metadata": {},
   "outputs": [],
   "source": [
    "import pandas as pd\n",
    "import numpy as np\n",
    "import os\n",
    "from sklearn.preprocessing import OneHotEncoder\n",
    "import transformers\n",
    "from tqdm import notebook\n",
    "from sklearn.model_selection import train_test_split"
   ]
  },
  {
   "cell_type": "markdown",
   "id": "f0a7f922",
   "metadata": {},
   "source": [
    "## Загрузка данных"
   ]
  },
  {
   "cell_type": "code",
   "execution_count": 7,
   "id": "4bcf3dc0",
   "metadata": {},
   "outputs": [],
   "source": [
    "file_path = 'chd — 100.xlsx'"
   ]
  },
  {
   "cell_type": "code",
   "execution_count": 9,
   "id": "308ce412",
   "metadata": {},
   "outputs": [],
   "source": [
    "patient_data = pd.read_excel(file_path)"
   ]
  },
  {
   "cell_type": "code",
   "execution_count": 10,
   "id": "bed50988",
   "metadata": {},
   "outputs": [
    {
     "data": {
      "text/html": [
       "<div>\n",
       "<style scoped>\n",
       "    .dataframe tbody tr th:only-of-type {\n",
       "        vertical-align: middle;\n",
       "    }\n",
       "\n",
       "    .dataframe tbody tr th {\n",
       "        vertical-align: top;\n",
       "    }\n",
       "\n",
       "    .dataframe thead th {\n",
       "        text-align: right;\n",
       "    }\n",
       "</style>\n",
       "<table border=\"1\" class=\"dataframe\">\n",
       "  <thead>\n",
       "    <tr style=\"text-align: right;\">\n",
       "      <th></th>\n",
       "      <th>admittion</th>\n",
       "      <th>department</th>\n",
       "      <th>discharge</th>\n",
       "      <th>sex</th>\n",
       "      <th>height</th>\n",
       "      <th>weight</th>\n",
       "      <th>BMI</th>\n",
       "      <th>BSA</th>\n",
       "      <th>birth</th>\n",
       "      <th>Операции (все в ИБ)</th>\n",
       "      <th>...</th>\n",
       "      <th>Количество выб. из ОРИТ</th>\n",
       "      <th>К.дней в ОРИТ (всего)</th>\n",
       "      <th>ИВЛ, час. в ОРИТ (суммарно)</th>\n",
       "      <th>Инф. осложнения в ОРИТ</th>\n",
       "      <th>Назн. преп. в ОРИТ</th>\n",
       "      <th>target</th>\n",
       "      <th>Непосред. причина смерти</th>\n",
       "      <th>ЭхоКГ (Из Эпикр. вып.)</th>\n",
       "      <th>ЭКГ (Из Эпикр. вып.)</th>\n",
       "      <th>Назначения при выписке</th>\n",
       "    </tr>\n",
       "  </thead>\n",
       "  <tbody>\n",
       "    <tr>\n",
       "      <th>0</th>\n",
       "      <td>2016-12-12</td>\n",
       "      <td>ehn</td>\n",
       "      <td>2017-01-10</td>\n",
       "      <td>m</td>\n",
       "      <td>76</td>\n",
       "      <td>9.70</td>\n",
       "      <td>111.27</td>\n",
       "      <td>0.46</td>\n",
       "      <td>02.01.2016</td>\n",
       "      <td>12.12.2016: (Откр./ИК) Перевязка ранее наложен...</td>\n",
       "      <td>...</td>\n",
       "      <td>2</td>\n",
       "      <td>20</td>\n",
       "      <td>252</td>\n",
       "      <td>01.01.2017: пневмония</td>\n",
       "      <td>Адреналина г\\хл 0,1% 1мл №5; Аксетин 750мг №10...</td>\n",
       "      <td>recovery</td>\n",
       "      <td>NaN</td>\n",
       "      <td>ЭхоКГ ВПС (02.12.2016 14:37:22, врач Неталиева...</td>\n",
       "      <td>ЭКГ (02.12.2016 16:43:25)\\nРитм сердца синусов...</td>\n",
       "      <td></td>\n",
       "    </tr>\n",
       "    <tr>\n",
       "      <th>1</th>\n",
       "      <td>2017-01-13</td>\n",
       "      <td>rhn</td>\n",
       "      <td>2017-02-01</td>\n",
       "      <td>f</td>\n",
       "      <td>67</td>\n",
       "      <td>7.34</td>\n",
       "      <td>89.67</td>\n",
       "      <td>0.37</td>\n",
       "      <td>02.02.2016</td>\n",
       "      <td>18.01.2017: (Откр./ИК) Радикальная коррекция д...</td>\n",
       "      <td>...</td>\n",
       "      <td>1</td>\n",
       "      <td>2</td>\n",
       "      <td>0</td>\n",
       "      <td>NaN</td>\n",
       "      <td>Адреналина г\\хл 0,1% 1мл №5; Аксетин 750мг №1;...</td>\n",
       "      <td>recovery</td>\n",
       "      <td>NaN</td>\n",
       "      <td>от 08.08.2016, врач Плахова: ЛЖ: не увеличен, ...</td>\n",
       "      <td>Ритм сердца синусовый. Частота сердцебиений в ...</td>\n",
       "      <td>На 3 мес: верошпирон 12 мг 2р в 17-20ч под наб...</td>\n",
       "    </tr>\n",
       "    <tr>\n",
       "      <th>2</th>\n",
       "      <td>2017-01-17</td>\n",
       "      <td>ehn</td>\n",
       "      <td>2017-02-09</td>\n",
       "      <td>m</td>\n",
       "      <td>74</td>\n",
       "      <td>8.90</td>\n",
       "      <td>103.46</td>\n",
       "      <td>0.43</td>\n",
       "      <td>21.02.2016</td>\n",
       "      <td>19.01.2017: (Откр./ИК) Перевязка ранее наложен...</td>\n",
       "      <td>...</td>\n",
       "      <td>1</td>\n",
       "      <td>2</td>\n",
       "      <td>3</td>\n",
       "      <td>21.01.2017: инфекция ВДП</td>\n",
       "      <td>Адреналина г\\хл 0,1% 1мл №5; Дексамед 4мг/мл 1...</td>\n",
       "      <td>recovery</td>\n",
       "      <td>NaN</td>\n",
       "      <td>ЭхоКГ ВПС (17.01.2017 16:41:49, врач Неталиева...</td>\n",
       "      <td>ЭКГ (17.01.2017 17:30:48)\\nритм синусовый, отк...</td>\n",
       "      <td>фуросемид по 4 мг * 3 раза в день (14:00, 22:0...</td>\n",
       "    </tr>\n",
       "    <tr>\n",
       "      <th>3</th>\n",
       "      <td>2017-01-20</td>\n",
       "      <td>ehn</td>\n",
       "      <td>2017-02-21</td>\n",
       "      <td>f</td>\n",
       "      <td>67</td>\n",
       "      <td>6.97</td>\n",
       "      <td>85.15</td>\n",
       "      <td>0.36</td>\n",
       "      <td>02.03.2016</td>\n",
       "      <td>23.01.2017: (Откр./ИК) Наложение двустороннего...</td>\n",
       "      <td>...</td>\n",
       "      <td>1</td>\n",
       "      <td>3</td>\n",
       "      <td>24</td>\n",
       "      <td>26.01.2017: -</td>\n",
       "      <td>Аксетин 750мг №1; Аминовен Инфант 10% 100мл №1...</td>\n",
       "      <td>recovery</td>\n",
       "      <td>NaN</td>\n",
       "      <td>21.12.2016\\nЛЖ - гипоплазирован, КДР-1.1-1.2. ...</td>\n",
       "      <td>Ритм синусовый, ЭОС отклонена влево</td>\n",
       "      <td>1. Варфарин по 1\\2 таб. 1 р\\день (++--).под ко...</td>\n",
       "    </tr>\n",
       "    <tr>\n",
       "      <th>4</th>\n",
       "      <td>2017-02-13</td>\n",
       "      <td>onik</td>\n",
       "      <td>2017-03-01</td>\n",
       "      <td>m</td>\n",
       "      <td>82</td>\n",
       "      <td>9.29</td>\n",
       "      <td>102.59</td>\n",
       "      <td>0.46</td>\n",
       "      <td>08.03.2016</td>\n",
       "      <td>15.02.2017: (Откр./ИК) Реконструкция путей отт...</td>\n",
       "      <td>...</td>\n",
       "      <td>1</td>\n",
       "      <td>5</td>\n",
       "      <td>48</td>\n",
       "      <td>20.02.2017: -</td>\n",
       "      <td>Адреналина г\\хл 0,1% 1мл №5; Аксетин 750мг №1;...</td>\n",
       "      <td>recovery</td>\n",
       "      <td>NaN</td>\n",
       "      <td>08.02.17 (Неталиева) ЛП, ЛЖ - не увеличены, КД...</td>\n",
       "      <td>14.02.17 Ритм синусовый. ЧСС 120/мин. ЭОС откл...</td>\n",
       "      <td>педиатра, невропатолога  по месту жительства. ...</td>\n",
       "    </tr>\n",
       "  </tbody>\n",
       "</table>\n",
       "<p>5 rows × 43 columns</p>\n",
       "</div>"
      ],
      "text/plain": [
       "   admittion department  discharge sex  height  weight     BMI   BSA  \\\n",
       "0 2016-12-12        ehn 2017-01-10   m      76    9.70  111.27  0.46   \n",
       "1 2017-01-13        rhn 2017-02-01   f      67    7.34   89.67  0.37   \n",
       "2 2017-01-17        ehn 2017-02-09   m      74    8.90  103.46  0.43   \n",
       "3 2017-01-20        ehn 2017-02-21   f      67    6.97   85.15  0.36   \n",
       "4 2017-02-13       onik 2017-03-01   m      82    9.29  102.59  0.46   \n",
       "\n",
       "        birth                                Операции (все в ИБ)  ...  \\\n",
       "0  02.01.2016  12.12.2016: (Откр./ИК) Перевязка ранее наложен...  ...   \n",
       "1  02.02.2016  18.01.2017: (Откр./ИК) Радикальная коррекция д...  ...   \n",
       "2  21.02.2016  19.01.2017: (Откр./ИК) Перевязка ранее наложен...  ...   \n",
       "3  02.03.2016  23.01.2017: (Откр./ИК) Наложение двустороннего...  ...   \n",
       "4  08.03.2016  15.02.2017: (Откр./ИК) Реконструкция путей отт...  ...   \n",
       "\n",
       "  Количество выб. из ОРИТ К.дней в ОРИТ (всего) ИВЛ, час. в ОРИТ (суммарно)  \\\n",
       "0                       2                    20                         252   \n",
       "1                       1                     2                           0   \n",
       "2                       1                     2                           3   \n",
       "3                       1                     3                          24   \n",
       "4                       1                     5                          48   \n",
       "\n",
       "     Инф. осложнения в ОРИТ  \\\n",
       "0     01.01.2017: пневмония   \n",
       "1                       NaN   \n",
       "2  21.01.2017: инфекция ВДП   \n",
       "3             26.01.2017: -   \n",
       "4             20.02.2017: -   \n",
       "\n",
       "                                  Назн. преп. в ОРИТ    target  \\\n",
       "0  Адреналина г\\хл 0,1% 1мл №5; Аксетин 750мг №10...  recovery   \n",
       "1  Адреналина г\\хл 0,1% 1мл №5; Аксетин 750мг №1;...  recovery   \n",
       "2  Адреналина г\\хл 0,1% 1мл №5; Дексамед 4мг/мл 1...  recovery   \n",
       "3  Аксетин 750мг №1; Аминовен Инфант 10% 100мл №1...  recovery   \n",
       "4  Адреналина г\\хл 0,1% 1мл №5; Аксетин 750мг №1;...  recovery   \n",
       "\n",
       "  Непосред. причина смерти   \\\n",
       "0                       NaN   \n",
       "1                       NaN   \n",
       "2                       NaN   \n",
       "3                       NaN   \n",
       "4                       NaN   \n",
       "\n",
       "                              ЭхоКГ (Из Эпикр. вып.)  \\\n",
       "0  ЭхоКГ ВПС (02.12.2016 14:37:22, врач Неталиева...   \n",
       "1  от 08.08.2016, врач Плахова: ЛЖ: не увеличен, ...   \n",
       "2  ЭхоКГ ВПС (17.01.2017 16:41:49, врач Неталиева...   \n",
       "3  21.12.2016\\nЛЖ - гипоплазирован, КДР-1.1-1.2. ...   \n",
       "4  08.02.17 (Неталиева) ЛП, ЛЖ - не увеличены, КД...   \n",
       "\n",
       "                                ЭКГ (Из Эпикр. вып.)  \\\n",
       "0  ЭКГ (02.12.2016 16:43:25)\\nРитм сердца синусов...   \n",
       "1  Ритм сердца синусовый. Частота сердцебиений в ...   \n",
       "2  ЭКГ (17.01.2017 17:30:48)\\nритм синусовый, отк...   \n",
       "3                Ритм синусовый, ЭОС отклонена влево   \n",
       "4  14.02.17 Ритм синусовый. ЧСС 120/мин. ЭОС откл...   \n",
       "\n",
       "                              Назначения при выписке  \n",
       "0                                                     \n",
       "1  На 3 мес: верошпирон 12 мг 2р в 17-20ч под наб...  \n",
       "2  фуросемид по 4 мг * 3 раза в день (14:00, 22:0...  \n",
       "3  1. Варфарин по 1\\2 таб. 1 р\\день (++--).под ко...  \n",
       "4  педиатра, невропатолога  по месту жительства. ...  \n",
       "\n",
       "[5 rows x 43 columns]"
      ]
     },
     "execution_count": 10,
     "metadata": {},
     "output_type": "execute_result"
    }
   ],
   "source": [
    "patient_data.head()"
   ]
  },
  {
   "cell_type": "code",
   "execution_count": 11,
   "id": "2370e16a",
   "metadata": {},
   "outputs": [
    {
     "name": "stdout",
     "output_type": "stream",
     "text": [
      "<class 'pandas.core.frame.DataFrame'>\n",
      "RangeIndex: 99 entries, 0 to 98\n",
      "Data columns (total 43 columns):\n",
      " #   Column                                           Non-Null Count  Dtype         \n",
      "---  ------                                           --------------  -----         \n",
      " 0   admittion                                        99 non-null     datetime64[ns]\n",
      " 1   department                                       99 non-null     object        \n",
      " 2   discharge                                        99 non-null     datetime64[ns]\n",
      " 3   sex                                              99 non-null     object        \n",
      " 4   height                                           99 non-null     int64         \n",
      " 5   weight                                           99 non-null     float64       \n",
      " 6   BMI                                              99 non-null     float64       \n",
      " 7   BSA                                              99 non-null     float64       \n",
      " 8   birth                                            99 non-null     object        \n",
      " 9   Операции (все в ИБ)                              99 non-null     object        \n",
      " 10  Перенесенные опер. (из Анамн.)                   99 non-null     object        \n",
      " 11  Диагноз                                          99 non-null     object        \n",
      " 12  МКБ                                              99 non-null     object        \n",
      " 13  Соп. забол. (из Анамн.)                          99 non-null     object        \n",
      " 14  Медикам. леч. по поводу осн. забол. (из Анамн.)  87 non-null     object        \n",
      " 15  Принимаемые препараты (из Анамн.)                66 non-null     object        \n",
      " 16  ЭхоКГ (Из Эпикр. до опер.)                       96 non-null     object        \n",
      " 17  ЭКГ (Из Эпикр. до опер.)                         93 non-null     object        \n",
      " 18  АКГ (Из Эпикр. до опер.)                         51 non-null     object        \n",
      " 19  КТ (Из Эпикр. до опер.)                          14 non-null     object        \n",
      " 20  Операция (основная / первая в ИБ)                99 non-null     object        \n",
      " 21  Дата опер.                                       99 non-null     object        \n",
      " 22  Тип опер.                                        99 non-null     object        \n",
      " 23  Протокол                                         98 non-null     object        \n",
      " 24  Время ИК, мин.                                   99 non-null     object        \n",
      " 25  Время ПерАо, мин.                                55 non-null     float64       \n",
      " 26  Осложнения опер.                                 0 non-null      float64       \n",
      " 27  Смерть на опер. столе                            1 non-null      object        \n",
      " 28  Хирургические ман.                               22 non-null     object        \n",
      " 29  Поступил в ОРИТ                                  99 non-null     object        \n",
      " 30  Выбыл из ОРИТ                                    99 non-null     object        \n",
      " 31  Умер в ОРИТ                                      99 non-null     object        \n",
      " 32  Количество пост. в ОРИТ                          99 non-null     int64         \n",
      " 33  Количество выб. из ОРИТ                          99 non-null     int64         \n",
      " 34  К.дней в ОРИТ (всего)                            99 non-null     int64         \n",
      " 35  ИВЛ, час. в ОРИТ (суммарно)                      99 non-null     int64         \n",
      " 36  Инф. осложнения в ОРИТ                           70 non-null     object        \n",
      " 37  Назн. преп. в ОРИТ                               83 non-null     object        \n",
      " 38  target                                           99 non-null     object        \n",
      " 39  Непосред. причина смерти                         5 non-null      object        \n",
      " 40  ЭхоКГ (Из Эпикр. вып.)                           97 non-null     object        \n",
      " 41  ЭКГ (Из Эпикр. вып.)                             91 non-null     object        \n",
      " 42  Назначения при выписке                           99 non-null     object        \n",
      "dtypes: datetime64[ns](2), float64(5), int64(5), object(31)\n",
      "memory usage: 33.4+ KB\n"
     ]
    }
   ],
   "source": [
    "patient_data.info()"
   ]
  },
  {
   "cell_type": "code",
   "execution_count": 12,
   "id": "b8715db7",
   "metadata": {},
   "outputs": [
    {
     "data": {
      "text/html": [
       "<div>\n",
       "<style scoped>\n",
       "    .dataframe tbody tr th:only-of-type {\n",
       "        vertical-align: middle;\n",
       "    }\n",
       "\n",
       "    .dataframe tbody tr th {\n",
       "        vertical-align: top;\n",
       "    }\n",
       "\n",
       "    .dataframe thead th {\n",
       "        text-align: right;\n",
       "    }\n",
       "</style>\n",
       "<table border=\"1\" class=\"dataframe\">\n",
       "  <thead>\n",
       "    <tr style=\"text-align: right;\">\n",
       "      <th></th>\n",
       "      <th>height</th>\n",
       "      <th>weight</th>\n",
       "      <th>BMI</th>\n",
       "      <th>BSA</th>\n",
       "      <th>Время ПерАо, мин.</th>\n",
       "      <th>Осложнения опер.</th>\n",
       "      <th>Количество пост. в ОРИТ</th>\n",
       "      <th>Количество выб. из ОРИТ</th>\n",
       "      <th>К.дней в ОРИТ (всего)</th>\n",
       "      <th>ИВЛ, час. в ОРИТ (суммарно)</th>\n",
       "    </tr>\n",
       "  </thead>\n",
       "  <tbody>\n",
       "    <tr>\n",
       "      <th>count</th>\n",
       "      <td>99.000000</td>\n",
       "      <td>99.000000</td>\n",
       "      <td>99.000000</td>\n",
       "      <td>99.000000</td>\n",
       "      <td>55.000000</td>\n",
       "      <td>0.0</td>\n",
       "      <td>99.000000</td>\n",
       "      <td>99.000000</td>\n",
       "      <td>99.000000</td>\n",
       "      <td>99.000000</td>\n",
       "    </tr>\n",
       "    <tr>\n",
       "      <th>mean</th>\n",
       "      <td>69.161616</td>\n",
       "      <td>7.208677</td>\n",
       "      <td>85.899394</td>\n",
       "      <td>0.372222</td>\n",
       "      <td>56.927273</td>\n",
       "      <td>NaN</td>\n",
       "      <td>0.818182</td>\n",
       "      <td>0.777778</td>\n",
       "      <td>3.757576</td>\n",
       "      <td>61.070707</td>\n",
       "    </tr>\n",
       "    <tr>\n",
       "      <th>std</th>\n",
       "      <td>4.841797</td>\n",
       "      <td>1.450013</td>\n",
       "      <td>15.748346</td>\n",
       "      <td>0.051221</td>\n",
       "      <td>36.493964</td>\n",
       "      <td>NaN</td>\n",
       "      <td>0.502314</td>\n",
       "      <td>0.506197</td>\n",
       "      <td>5.730496</td>\n",
       "      <td>171.159924</td>\n",
       "    </tr>\n",
       "    <tr>\n",
       "      <th>min</th>\n",
       "      <td>58.000000</td>\n",
       "      <td>4.400000</td>\n",
       "      <td>44.810000</td>\n",
       "      <td>0.210000</td>\n",
       "      <td>4.000000</td>\n",
       "      <td>NaN</td>\n",
       "      <td>0.000000</td>\n",
       "      <td>0.000000</td>\n",
       "      <td>0.000000</td>\n",
       "      <td>0.000000</td>\n",
       "    </tr>\n",
       "    <tr>\n",
       "      <th>25%</th>\n",
       "      <td>66.000000</td>\n",
       "      <td>6.090000</td>\n",
       "      <td>72.510000</td>\n",
       "      <td>0.330000</td>\n",
       "      <td>31.000000</td>\n",
       "      <td>NaN</td>\n",
       "      <td>1.000000</td>\n",
       "      <td>0.500000</td>\n",
       "      <td>1.000000</td>\n",
       "      <td>0.000000</td>\n",
       "    </tr>\n",
       "    <tr>\n",
       "      <th>50%</th>\n",
       "      <td>69.000000</td>\n",
       "      <td>7.255000</td>\n",
       "      <td>86.710000</td>\n",
       "      <td>0.370000</td>\n",
       "      <td>51.000000</td>\n",
       "      <td>NaN</td>\n",
       "      <td>1.000000</td>\n",
       "      <td>1.000000</td>\n",
       "      <td>2.000000</td>\n",
       "      <td>11.000000</td>\n",
       "    </tr>\n",
       "    <tr>\n",
       "      <th>75%</th>\n",
       "      <td>72.500000</td>\n",
       "      <td>8.030000</td>\n",
       "      <td>95.160000</td>\n",
       "      <td>0.400000</td>\n",
       "      <td>76.500000</td>\n",
       "      <td>NaN</td>\n",
       "      <td>1.000000</td>\n",
       "      <td>1.000000</td>\n",
       "      <td>4.000000</td>\n",
       "      <td>48.000000</td>\n",
       "    </tr>\n",
       "    <tr>\n",
       "      <th>max</th>\n",
       "      <td>85.000000</td>\n",
       "      <td>11.100000</td>\n",
       "      <td>123.090000</td>\n",
       "      <td>0.520000</td>\n",
       "      <td>179.000000</td>\n",
       "      <td>NaN</td>\n",
       "      <td>3.000000</td>\n",
       "      <td>3.000000</td>\n",
       "      <td>35.000000</td>\n",
       "      <td>1512.000000</td>\n",
       "    </tr>\n",
       "  </tbody>\n",
       "</table>\n",
       "</div>"
      ],
      "text/plain": [
       "          height     weight         BMI        BSA  Время ПерАо, мин.  \\\n",
       "count  99.000000  99.000000   99.000000  99.000000          55.000000   \n",
       "mean   69.161616   7.208677   85.899394   0.372222          56.927273   \n",
       "std     4.841797   1.450013   15.748346   0.051221          36.493964   \n",
       "min    58.000000   4.400000   44.810000   0.210000           4.000000   \n",
       "25%    66.000000   6.090000   72.510000   0.330000          31.000000   \n",
       "50%    69.000000   7.255000   86.710000   0.370000          51.000000   \n",
       "75%    72.500000   8.030000   95.160000   0.400000          76.500000   \n",
       "max    85.000000  11.100000  123.090000   0.520000         179.000000   \n",
       "\n",
       "       Осложнения опер.  Количество пост. в ОРИТ  Количество выб. из ОРИТ  \\\n",
       "count               0.0                99.000000                99.000000   \n",
       "mean                NaN                 0.818182                 0.777778   \n",
       "std                 NaN                 0.502314                 0.506197   \n",
       "min                 NaN                 0.000000                 0.000000   \n",
       "25%                 NaN                 1.000000                 0.500000   \n",
       "50%                 NaN                 1.000000                 1.000000   \n",
       "75%                 NaN                 1.000000                 1.000000   \n",
       "max                 NaN                 3.000000                 3.000000   \n",
       "\n",
       "       К.дней в ОРИТ (всего)  ИВЛ, час. в ОРИТ (суммарно)  \n",
       "count              99.000000                    99.000000  \n",
       "mean                3.757576                    61.070707  \n",
       "std                 5.730496                   171.159924  \n",
       "min                 0.000000                     0.000000  \n",
       "25%                 1.000000                     0.000000  \n",
       "50%                 2.000000                    11.000000  \n",
       "75%                 4.000000                    48.000000  \n",
       "max                35.000000                  1512.000000  "
      ]
     },
     "execution_count": 12,
     "metadata": {},
     "output_type": "execute_result"
    }
   ],
   "source": [
    "patient_data.describe()"
   ]
  },
  {
   "cell_type": "markdown",
   "id": "3a65610c",
   "metadata": {},
   "source": [
    "Успешно создан датасет. Необходимо изменить тип данных некоторых признаков, убрать пропуски."
   ]
  },
  {
   "cell_type": "markdown",
   "id": "7f505295",
   "metadata": {},
   "source": [
    "## Предобработка"
   ]
  },
  {
   "cell_type": "code",
   "execution_count": 19,
   "id": "df16e587",
   "metadata": {},
   "outputs": [],
   "source": [
    "main_dataset = pd.DataFrame()"
   ]
  },
  {
   "cell_type": "code",
   "execution_count": 22,
   "id": "fe3f08ff",
   "metadata": {},
   "outputs": [],
   "source": [
    "train, test = train_test_split(patient_data, test_size=0.2)"
   ]
  },
  {
   "cell_type": "code",
   "execution_count": null,
   "id": "cae6b821",
   "metadata": {},
   "outputs": [],
   "source": [
    "main_dataset[['height', 'weight', 'BMI', 'BSA', '']]"
   ]
  },
  {
   "cell_type": "markdown",
   "id": "8d9ae503",
   "metadata": {},
   "source": [
    "### Изменение типа признаков"
   ]
  },
  {
   "cell_type": "code",
   "execution_count": 13,
   "id": "631d637f",
   "metadata": {},
   "outputs": [
    {
     "ename": "ParserError",
     "evalue": "String does not contain a date:  ",
     "output_type": "error",
     "traceback": [
      "\u001b[1;31m---------------------------------------------------------------------------\u001b[0m",
      "\u001b[1;31mTypeError\u001b[0m                                 Traceback (most recent call last)",
      "File \u001b[1;32mC:\\anaconda\\envs\\practicum\\lib\\site-packages\\pandas\\core\\arrays\\datetimes.py:2085\u001b[0m, in \u001b[0;36mobjects_to_datetime64ns\u001b[1;34m(data, dayfirst, yearfirst, utc, errors, require_iso8601, allow_object)\u001b[0m\n\u001b[0;32m   2084\u001b[0m \u001b[38;5;28;01mtry\u001b[39;00m:\n\u001b[1;32m-> 2085\u001b[0m     values, tz_parsed \u001b[38;5;241m=\u001b[39m \u001b[43mconversion\u001b[49m\u001b[38;5;241;43m.\u001b[39;49m\u001b[43mdatetime_to_datetime64\u001b[49m\u001b[43m(\u001b[49m\u001b[43mdata\u001b[49m\u001b[43m)\u001b[49m\n\u001b[0;32m   2086\u001b[0m     \u001b[38;5;66;03m# If tzaware, these values represent unix timestamps, so we\u001b[39;00m\n\u001b[0;32m   2087\u001b[0m     \u001b[38;5;66;03m#  return them as i8 to distinguish from wall times\u001b[39;00m\n",
      "File \u001b[1;32mpandas\\_libs\\tslibs\\conversion.pyx:350\u001b[0m, in \u001b[0;36mpandas._libs.tslibs.conversion.datetime_to_datetime64\u001b[1;34m()\u001b[0m\n",
      "\u001b[1;31mTypeError\u001b[0m: Unrecognized value type: <class 'str'>",
      "\nDuring handling of the above exception, another exception occurred:\n",
      "\u001b[1;31mParserError\u001b[0m                               Traceback (most recent call last)",
      "Cell \u001b[1;32mIn [13], line 3\u001b[0m\n\u001b[0;32m      1\u001b[0m patient_data[\u001b[38;5;124m'\u001b[39m\u001b[38;5;124mbirth\u001b[39m\u001b[38;5;124m'\u001b[39m] \u001b[38;5;241m=\u001b[39m pd\u001b[38;5;241m.\u001b[39mto_datetime(patient_data[\u001b[38;5;124m'\u001b[39m\u001b[38;5;124mbirth\u001b[39m\u001b[38;5;124m'\u001b[39m])\n\u001b[0;32m      2\u001b[0m patient_data[\u001b[38;5;124m'\u001b[39m\u001b[38;5;124mДата опер.\u001b[39m\u001b[38;5;124m'\u001b[39m] \u001b[38;5;241m=\u001b[39m pd\u001b[38;5;241m.\u001b[39mto_datetime(patient_data[\u001b[38;5;124m'\u001b[39m\u001b[38;5;124mДата опер.\u001b[39m\u001b[38;5;124m'\u001b[39m])\n\u001b[1;32m----> 3\u001b[0m patient_data[\u001b[38;5;124m'\u001b[39m\u001b[38;5;124mПоступил в ОРИТ\u001b[39m\u001b[38;5;124m'\u001b[39m] \u001b[38;5;241m=\u001b[39m \u001b[43mpd\u001b[49m\u001b[38;5;241;43m.\u001b[39;49m\u001b[43mto_datetime\u001b[49m\u001b[43m(\u001b[49m\u001b[43mpatient_data\u001b[49m\u001b[43m[\u001b[49m\u001b[38;5;124;43m'\u001b[39;49m\u001b[38;5;124;43mПоступил в ОРИТ\u001b[39;49m\u001b[38;5;124;43m'\u001b[39;49m\u001b[43m]\u001b[49m\u001b[43m)\u001b[49m\n\u001b[0;32m      4\u001b[0m patient_data[\u001b[38;5;124m'\u001b[39m\u001b[38;5;124mВыбыл из ОРИТ\u001b[39m\u001b[38;5;124m'\u001b[39m] \u001b[38;5;241m=\u001b[39m pd\u001b[38;5;241m.\u001b[39mto_datetime(parient_data[\u001b[38;5;124m'\u001b[39m\u001b[38;5;124mВыбыл из ОРИТ\u001b[39m\u001b[38;5;124m'\u001b[39m])\n",
      "File \u001b[1;32mC:\\anaconda\\envs\\practicum\\lib\\site-packages\\pandas\\core\\tools\\datetimes.py:805\u001b[0m, in \u001b[0;36mto_datetime\u001b[1;34m(arg, errors, dayfirst, yearfirst, utc, format, exact, unit, infer_datetime_format, origin, cache)\u001b[0m\n\u001b[0;32m    803\u001b[0m         result \u001b[38;5;241m=\u001b[39m arg\u001b[38;5;241m.\u001b[39mmap(cache_array)\n\u001b[0;32m    804\u001b[0m     \u001b[38;5;28;01melse\u001b[39;00m:\n\u001b[1;32m--> 805\u001b[0m         values \u001b[38;5;241m=\u001b[39m \u001b[43mconvert_listlike\u001b[49m\u001b[43m(\u001b[49m\u001b[43marg\u001b[49m\u001b[38;5;241;43m.\u001b[39;49m\u001b[43m_values\u001b[49m\u001b[43m,\u001b[49m\u001b[43m \u001b[49m\u001b[38;5;28;43mformat\u001b[39;49m\u001b[43m)\u001b[49m\n\u001b[0;32m    806\u001b[0m         result \u001b[38;5;241m=\u001b[39m arg\u001b[38;5;241m.\u001b[39m_constructor(values, index\u001b[38;5;241m=\u001b[39marg\u001b[38;5;241m.\u001b[39mindex, name\u001b[38;5;241m=\u001b[39marg\u001b[38;5;241m.\u001b[39mname)\n\u001b[0;32m    807\u001b[0m \u001b[38;5;28;01melif\u001b[39;00m \u001b[38;5;28misinstance\u001b[39m(arg, (ABCDataFrame, abc\u001b[38;5;241m.\u001b[39mMutableMapping)):\n",
      "File \u001b[1;32mC:\\anaconda\\envs\\practicum\\lib\\site-packages\\pandas\\core\\tools\\datetimes.py:465\u001b[0m, in \u001b[0;36m_convert_listlike_datetimes\u001b[1;34m(arg, format, name, tz, unit, errors, infer_datetime_format, dayfirst, yearfirst, exact)\u001b[0m\n\u001b[0;32m    463\u001b[0m     \u001b[38;5;28;01massert\u001b[39;00m \u001b[38;5;28mformat\u001b[39m \u001b[38;5;129;01mis\u001b[39;00m \u001b[38;5;28;01mNone\u001b[39;00m \u001b[38;5;129;01mor\u001b[39;00m infer_datetime_format\n\u001b[0;32m    464\u001b[0m     utc \u001b[38;5;241m=\u001b[39m tz \u001b[38;5;241m==\u001b[39m \u001b[38;5;124m\"\u001b[39m\u001b[38;5;124mutc\u001b[39m\u001b[38;5;124m\"\u001b[39m\n\u001b[1;32m--> 465\u001b[0m     result, tz_parsed \u001b[38;5;241m=\u001b[39m \u001b[43mobjects_to_datetime64ns\u001b[49m\u001b[43m(\u001b[49m\n\u001b[0;32m    466\u001b[0m \u001b[43m        \u001b[49m\u001b[43marg\u001b[49m\u001b[43m,\u001b[49m\n\u001b[0;32m    467\u001b[0m \u001b[43m        \u001b[49m\u001b[43mdayfirst\u001b[49m\u001b[38;5;241;43m=\u001b[39;49m\u001b[43mdayfirst\u001b[49m\u001b[43m,\u001b[49m\n\u001b[0;32m    468\u001b[0m \u001b[43m        \u001b[49m\u001b[43myearfirst\u001b[49m\u001b[38;5;241;43m=\u001b[39;49m\u001b[43myearfirst\u001b[49m\u001b[43m,\u001b[49m\n\u001b[0;32m    469\u001b[0m \u001b[43m        \u001b[49m\u001b[43mutc\u001b[49m\u001b[38;5;241;43m=\u001b[39;49m\u001b[43mutc\u001b[49m\u001b[43m,\u001b[49m\n\u001b[0;32m    470\u001b[0m \u001b[43m        \u001b[49m\u001b[43merrors\u001b[49m\u001b[38;5;241;43m=\u001b[39;49m\u001b[43merrors\u001b[49m\u001b[43m,\u001b[49m\n\u001b[0;32m    471\u001b[0m \u001b[43m        \u001b[49m\u001b[43mrequire_iso8601\u001b[49m\u001b[38;5;241;43m=\u001b[39;49m\u001b[43mrequire_iso8601\u001b[49m\u001b[43m,\u001b[49m\n\u001b[0;32m    472\u001b[0m \u001b[43m        \u001b[49m\u001b[43mallow_object\u001b[49m\u001b[38;5;241;43m=\u001b[39;49m\u001b[38;5;28;43;01mTrue\u001b[39;49;00m\u001b[43m,\u001b[49m\n\u001b[0;32m    473\u001b[0m \u001b[43m    \u001b[49m\u001b[43m)\u001b[49m\n\u001b[0;32m    475\u001b[0m \u001b[38;5;28;01mif\u001b[39;00m tz_parsed \u001b[38;5;129;01mis\u001b[39;00m \u001b[38;5;129;01mnot\u001b[39;00m \u001b[38;5;28;01mNone\u001b[39;00m:\n\u001b[0;32m    476\u001b[0m     \u001b[38;5;66;03m# We can take a shortcut since the datetime64 numpy array\u001b[39;00m\n\u001b[0;32m    477\u001b[0m     \u001b[38;5;66;03m# is in UTC\u001b[39;00m\n\u001b[0;32m    478\u001b[0m     dta \u001b[38;5;241m=\u001b[39m DatetimeArray(result, dtype\u001b[38;5;241m=\u001b[39mtz_to_dtype(tz_parsed))\n",
      "File \u001b[1;32mC:\\anaconda\\envs\\practicum\\lib\\site-packages\\pandas\\core\\arrays\\datetimes.py:2090\u001b[0m, in \u001b[0;36mobjects_to_datetime64ns\u001b[1;34m(data, dayfirst, yearfirst, utc, errors, require_iso8601, allow_object)\u001b[0m\n\u001b[0;32m   2088\u001b[0m         \u001b[38;5;28;01mreturn\u001b[39;00m values\u001b[38;5;241m.\u001b[39mview(\u001b[38;5;124m\"\u001b[39m\u001b[38;5;124mi8\u001b[39m\u001b[38;5;124m\"\u001b[39m), tz_parsed\n\u001b[0;32m   2089\u001b[0m     \u001b[38;5;28;01mexcept\u001b[39;00m (\u001b[38;5;167;01mValueError\u001b[39;00m, \u001b[38;5;167;01mTypeError\u001b[39;00m):\n\u001b[1;32m-> 2090\u001b[0m         \u001b[38;5;28;01mraise\u001b[39;00m e\n\u001b[0;32m   2092\u001b[0m \u001b[38;5;28;01mif\u001b[39;00m tz_parsed \u001b[38;5;129;01mis\u001b[39;00m \u001b[38;5;129;01mnot\u001b[39;00m \u001b[38;5;28;01mNone\u001b[39;00m:\n\u001b[0;32m   2093\u001b[0m     \u001b[38;5;66;03m# We can take a shortcut since the datetime64 numpy array\u001b[39;00m\n\u001b[0;32m   2094\u001b[0m     \u001b[38;5;66;03m#  is in UTC\u001b[39;00m\n\u001b[0;32m   2095\u001b[0m     \u001b[38;5;66;03m# Return i8 values to denote unix timestamps\u001b[39;00m\n\u001b[0;32m   2096\u001b[0m     \u001b[38;5;28;01mreturn\u001b[39;00m result\u001b[38;5;241m.\u001b[39mview(\u001b[38;5;124m\"\u001b[39m\u001b[38;5;124mi8\u001b[39m\u001b[38;5;124m\"\u001b[39m), tz_parsed\n",
      "File \u001b[1;32mC:\\anaconda\\envs\\practicum\\lib\\site-packages\\pandas\\core\\arrays\\datetimes.py:2075\u001b[0m, in \u001b[0;36mobjects_to_datetime64ns\u001b[1;34m(data, dayfirst, yearfirst, utc, errors, require_iso8601, allow_object)\u001b[0m\n\u001b[0;32m   2072\u001b[0m data \u001b[38;5;241m=\u001b[39m np\u001b[38;5;241m.\u001b[39marray(data, copy\u001b[38;5;241m=\u001b[39m\u001b[38;5;28;01mFalse\u001b[39;00m, dtype\u001b[38;5;241m=\u001b[39mnp\u001b[38;5;241m.\u001b[39mobject_)\n\u001b[0;32m   2074\u001b[0m \u001b[38;5;28;01mtry\u001b[39;00m:\n\u001b[1;32m-> 2075\u001b[0m     result, tz_parsed \u001b[38;5;241m=\u001b[39m \u001b[43mtslib\u001b[49m\u001b[38;5;241;43m.\u001b[39;49m\u001b[43marray_to_datetime\u001b[49m\u001b[43m(\u001b[49m\n\u001b[0;32m   2076\u001b[0m \u001b[43m        \u001b[49m\u001b[43mdata\u001b[49m\u001b[43m,\u001b[49m\n\u001b[0;32m   2077\u001b[0m \u001b[43m        \u001b[49m\u001b[43merrors\u001b[49m\u001b[38;5;241;43m=\u001b[39;49m\u001b[43merrors\u001b[49m\u001b[43m,\u001b[49m\n\u001b[0;32m   2078\u001b[0m \u001b[43m        \u001b[49m\u001b[43mutc\u001b[49m\u001b[38;5;241;43m=\u001b[39;49m\u001b[43mutc\u001b[49m\u001b[43m,\u001b[49m\n\u001b[0;32m   2079\u001b[0m \u001b[43m        \u001b[49m\u001b[43mdayfirst\u001b[49m\u001b[38;5;241;43m=\u001b[39;49m\u001b[43mdayfirst\u001b[49m\u001b[43m,\u001b[49m\n\u001b[0;32m   2080\u001b[0m \u001b[43m        \u001b[49m\u001b[43myearfirst\u001b[49m\u001b[38;5;241;43m=\u001b[39;49m\u001b[43myearfirst\u001b[49m\u001b[43m,\u001b[49m\n\u001b[0;32m   2081\u001b[0m \u001b[43m        \u001b[49m\u001b[43mrequire_iso8601\u001b[49m\u001b[38;5;241;43m=\u001b[39;49m\u001b[43mrequire_iso8601\u001b[49m\u001b[43m,\u001b[49m\n\u001b[0;32m   2082\u001b[0m \u001b[43m    \u001b[49m\u001b[43m)\u001b[49m\n\u001b[0;32m   2083\u001b[0m \u001b[38;5;28;01mexcept\u001b[39;00m \u001b[38;5;167;01mValueError\u001b[39;00m \u001b[38;5;28;01mas\u001b[39;00m e:\n\u001b[0;32m   2084\u001b[0m     \u001b[38;5;28;01mtry\u001b[39;00m:\n",
      "File \u001b[1;32mpandas\\_libs\\tslib.pyx:364\u001b[0m, in \u001b[0;36mpandas._libs.tslib.array_to_datetime\u001b[1;34m()\u001b[0m\n",
      "File \u001b[1;32mpandas\\_libs\\tslib.pyx:591\u001b[0m, in \u001b[0;36mpandas._libs.tslib.array_to_datetime\u001b[1;34m()\u001b[0m\n",
      "File \u001b[1;32mpandas\\_libs\\tslib.pyx:726\u001b[0m, in \u001b[0;36mpandas._libs.tslib.array_to_datetime_object\u001b[1;34m()\u001b[0m\n",
      "File \u001b[1;32mpandas\\_libs\\tslib.pyx:717\u001b[0m, in \u001b[0;36mpandas._libs.tslib.array_to_datetime_object\u001b[1;34m()\u001b[0m\n",
      "File \u001b[1;32mpandas\\_libs\\tslibs\\parsing.pyx:243\u001b[0m, in \u001b[0;36mpandas._libs.tslibs.parsing.parse_datetime_string\u001b[1;34m()\u001b[0m\n",
      "File \u001b[1;32mC:\\anaconda\\envs\\practicum\\lib\\site-packages\\dateutil\\parser\\_parser.py:1368\u001b[0m, in \u001b[0;36mparse\u001b[1;34m(timestr, parserinfo, **kwargs)\u001b[0m\n\u001b[0;32m   1366\u001b[0m     \u001b[38;5;28;01mreturn\u001b[39;00m parser(parserinfo)\u001b[38;5;241m.\u001b[39mparse(timestr, \u001b[38;5;241m*\u001b[39m\u001b[38;5;241m*\u001b[39mkwargs)\n\u001b[0;32m   1367\u001b[0m \u001b[38;5;28;01melse\u001b[39;00m:\n\u001b[1;32m-> 1368\u001b[0m     \u001b[38;5;28;01mreturn\u001b[39;00m DEFAULTPARSER\u001b[38;5;241m.\u001b[39mparse(timestr, \u001b[38;5;241m*\u001b[39m\u001b[38;5;241m*\u001b[39mkwargs)\n",
      "File \u001b[1;32mC:\\anaconda\\envs\\practicum\\lib\\site-packages\\dateutil\\parser\\_parser.py:646\u001b[0m, in \u001b[0;36mparser.parse\u001b[1;34m(self, timestr, default, ignoretz, tzinfos, **kwargs)\u001b[0m\n\u001b[0;32m    643\u001b[0m     \u001b[38;5;28;01mraise\u001b[39;00m ParserError(\u001b[38;5;124m\"\u001b[39m\u001b[38;5;124mUnknown string format: \u001b[39m\u001b[38;5;132;01m%s\u001b[39;00m\u001b[38;5;124m\"\u001b[39m, timestr)\n\u001b[0;32m    645\u001b[0m \u001b[38;5;28;01mif\u001b[39;00m \u001b[38;5;28mlen\u001b[39m(res) \u001b[38;5;241m==\u001b[39m \u001b[38;5;241m0\u001b[39m:\n\u001b[1;32m--> 646\u001b[0m     \u001b[38;5;28;01mraise\u001b[39;00m ParserError(\u001b[38;5;124m\"\u001b[39m\u001b[38;5;124mString does not contain a date: \u001b[39m\u001b[38;5;132;01m%s\u001b[39;00m\u001b[38;5;124m\"\u001b[39m, timestr)\n\u001b[0;32m    648\u001b[0m \u001b[38;5;28;01mtry\u001b[39;00m:\n\u001b[0;32m    649\u001b[0m     ret \u001b[38;5;241m=\u001b[39m \u001b[38;5;28mself\u001b[39m\u001b[38;5;241m.\u001b[39m_build_naive(res, default)\n",
      "\u001b[1;31mParserError\u001b[0m: String does not contain a date:  "
     ]
    }
   ],
   "source": [
    "patient_data['birth'] = pd.to_datetime(patient_data['birth'])\n",
    "patient_data['Дата опер.'] = pd.to_datetime(patient_data['Дата опер.'])\n",
    "patient_data['Поступил в ОРИТ'] = pd.to_datetime(patient_data['Поступил в ОРИТ'])\n",
    "patient_data['Выбыл из ОРИТ'] = pd.to_datetime(parient_data['Выбыл из ОРИТ'])"
   ]
  },
  {
   "cell_type": "markdown",
   "id": "d48d8e22",
   "metadata": {},
   "source": [
    "### OHE"
   ]
  },
  {
   "cell_type": "markdown",
   "id": "1c441368",
   "metadata": {},
   "source": [
    "#### sex"
   ]
  },
  {
   "cell_type": "code",
   "execution_count": 23,
   "id": "a5075833",
   "metadata": {},
   "outputs": [],
   "source": [
    "sex_OHE = OneHotEncoder(drop='first').fit(train['sex'].values.reshape(-1, 1))"
   ]
  },
  {
   "cell_type": "code",
   "execution_count": 25,
   "id": "559ba9a5",
   "metadata": {},
   "outputs": [
    {
     "ename": "TypeError",
     "evalue": "sparse matrix length is ambiguous; use getnnz() or shape[0]",
     "output_type": "error",
     "traceback": [
      "\u001b[1;31m---------------------------------------------------------------------------\u001b[0m",
      "\u001b[1;31mTypeError\u001b[0m                                 Traceback (most recent call last)",
      "Cell \u001b[1;32mIn [25], line 1\u001b[0m\n\u001b[1;32m----> 1\u001b[0m \u001b[43mmain_dataset\u001b[49m\u001b[43m[\u001b[49m\u001b[38;5;124;43m'\u001b[39;49m\u001b[38;5;124;43msex\u001b[39;49m\u001b[38;5;124;43m'\u001b[39;49m\u001b[43m]\u001b[49m \u001b[38;5;241m=\u001b[39m sex_OHE\u001b[38;5;241m.\u001b[39mtransform(train[\u001b[38;5;124m'\u001b[39m\u001b[38;5;124msex\u001b[39m\u001b[38;5;124m'\u001b[39m]\u001b[38;5;241m.\u001b[39mvalues\u001b[38;5;241m.\u001b[39mreshape(\u001b[38;5;241m-\u001b[39m\u001b[38;5;241m1\u001b[39m, \u001b[38;5;241m1\u001b[39m))\n",
      "File \u001b[1;32mC:\\anaconda\\envs\\practicum\\lib\\site-packages\\pandas\\core\\frame.py:3163\u001b[0m, in \u001b[0;36mDataFrame.__setitem__\u001b[1;34m(self, key, value)\u001b[0m\n\u001b[0;32m   3160\u001b[0m     \u001b[38;5;28mself\u001b[39m\u001b[38;5;241m.\u001b[39m_setitem_array(key, value)\n\u001b[0;32m   3161\u001b[0m \u001b[38;5;28;01melse\u001b[39;00m:\n\u001b[0;32m   3162\u001b[0m     \u001b[38;5;66;03m# set column\u001b[39;00m\n\u001b[1;32m-> 3163\u001b[0m     \u001b[38;5;28;43mself\u001b[39;49m\u001b[38;5;241;43m.\u001b[39;49m\u001b[43m_set_item\u001b[49m\u001b[43m(\u001b[49m\u001b[43mkey\u001b[49m\u001b[43m,\u001b[49m\u001b[43m \u001b[49m\u001b[43mvalue\u001b[49m\u001b[43m)\u001b[49m\n",
      "File \u001b[1;32mC:\\anaconda\\envs\\practicum\\lib\\site-packages\\pandas\\core\\frame.py:3241\u001b[0m, in \u001b[0;36mDataFrame._set_item\u001b[1;34m(self, key, value)\u001b[0m\n\u001b[0;32m   3231\u001b[0m \u001b[38;5;28;01mdef\u001b[39;00m \u001b[38;5;21m_set_item\u001b[39m(\u001b[38;5;28mself\u001b[39m, key, value):\n\u001b[0;32m   3232\u001b[0m     \u001b[38;5;124;03m\"\"\"\u001b[39;00m\n\u001b[0;32m   3233\u001b[0m \u001b[38;5;124;03m    Add series to DataFrame in specified column.\u001b[39;00m\n\u001b[0;32m   3234\u001b[0m \n\u001b[1;32m   (...)\u001b[0m\n\u001b[0;32m   3239\u001b[0m \u001b[38;5;124;03m    ensure homogeneity.\u001b[39;00m\n\u001b[0;32m   3240\u001b[0m \u001b[38;5;124;03m    \"\"\"\u001b[39;00m\n\u001b[1;32m-> 3241\u001b[0m     \u001b[38;5;28;43mself\u001b[39;49m\u001b[38;5;241;43m.\u001b[39;49m\u001b[43m_ensure_valid_index\u001b[49m\u001b[43m(\u001b[49m\u001b[43mvalue\u001b[49m\u001b[43m)\u001b[49m\n\u001b[0;32m   3242\u001b[0m     value \u001b[38;5;241m=\u001b[39m \u001b[38;5;28mself\u001b[39m\u001b[38;5;241m.\u001b[39m_sanitize_column(key, value)\n\u001b[0;32m   3243\u001b[0m     NDFrame\u001b[38;5;241m.\u001b[39m_set_item(\u001b[38;5;28mself\u001b[39m, key, value)\n",
      "File \u001b[1;32mC:\\anaconda\\envs\\practicum\\lib\\site-packages\\pandas\\core\\frame.py:3290\u001b[0m, in \u001b[0;36mDataFrame._ensure_valid_index\u001b[1;34m(self, value)\u001b[0m\n\u001b[0;32m   3285\u001b[0m \u001b[38;5;124;03m\"\"\"\u001b[39;00m\n\u001b[0;32m   3286\u001b[0m \u001b[38;5;124;03mEnsure that if we don't have an index, that we can create one from the\u001b[39;00m\n\u001b[0;32m   3287\u001b[0m \u001b[38;5;124;03mpassed value.\u001b[39;00m\n\u001b[0;32m   3288\u001b[0m \u001b[38;5;124;03m\"\"\"\u001b[39;00m\n\u001b[0;32m   3289\u001b[0m \u001b[38;5;66;03m# GH5632, make sure that we are a Series convertible\u001b[39;00m\n\u001b[1;32m-> 3290\u001b[0m \u001b[38;5;28;01mif\u001b[39;00m \u001b[38;5;129;01mnot\u001b[39;00m \u001b[38;5;28mlen\u001b[39m(\u001b[38;5;28mself\u001b[39m\u001b[38;5;241m.\u001b[39mindex) \u001b[38;5;129;01mand\u001b[39;00m is_list_like(value) \u001b[38;5;129;01mand\u001b[39;00m \u001b[38;5;28;43mlen\u001b[39;49m\u001b[43m(\u001b[49m\u001b[43mvalue\u001b[49m\u001b[43m)\u001b[49m:\n\u001b[0;32m   3291\u001b[0m     \u001b[38;5;28;01mtry\u001b[39;00m:\n\u001b[0;32m   3292\u001b[0m         value \u001b[38;5;241m=\u001b[39m Series(value)\n",
      "File \u001b[1;32mC:\\anaconda\\envs\\practicum\\lib\\site-packages\\scipy\\sparse\\_base.py:345\u001b[0m, in \u001b[0;36mspmatrix.__len__\u001b[1;34m(self)\u001b[0m\n\u001b[0;32m    344\u001b[0m \u001b[38;5;28;01mdef\u001b[39;00m \u001b[38;5;21m__len__\u001b[39m(\u001b[38;5;28mself\u001b[39m):\n\u001b[1;32m--> 345\u001b[0m     \u001b[38;5;28;01mraise\u001b[39;00m \u001b[38;5;167;01mTypeError\u001b[39;00m(\u001b[38;5;124m\"\u001b[39m\u001b[38;5;124msparse matrix length is ambiguous; use getnnz()\u001b[39m\u001b[38;5;124m\"\u001b[39m\n\u001b[0;32m    346\u001b[0m                     \u001b[38;5;124m\"\u001b[39m\u001b[38;5;124m or shape[0]\u001b[39m\u001b[38;5;124m\"\u001b[39m)\n",
      "\u001b[1;31mTypeError\u001b[0m: sparse matrix length is ambiguous; use getnnz() or shape[0]"
     ]
    }
   ],
   "source": [
    "main_dataset['sex'] = sex_OHE.transform(train['sex'].values.reshape(-1, 1)).toarray()"
   ]
  },
  {
   "cell_type": "markdown",
   "id": "be3d0256",
   "metadata": {},
   "source": [
    "#### department"
   ]
  },
  {
   "cell_type": "code",
   "execution_count": 46,
   "id": "0b01a159",
   "metadata": {},
   "outputs": [
    {
     "data": {
      "text/plain": [
       "array(['ehn', 'onik', 'rhn'], dtype=object)"
      ]
     },
     "execution_count": 46,
     "metadata": {},
     "output_type": "execute_result"
    }
   ],
   "source": [
    "department_ohe = OneHotEncoder().fit(patient_data['department'].values.reshape(-1, 1))\n",
    "department_ohe.categories_[0]"
   ]
  },
  {
   "cell_type": "code",
   "execution_count": 51,
   "id": "80b4eb0d",
   "metadata": {},
   "outputs": [],
   "source": [
    "patient_data[department_ohe.categories_[0]] = pd.DataFrame(department_ohe.transform(patient_data['department'].values.reshape(-1, 1)).toarray())"
   ]
  },
  {
   "cell_type": "code",
   "execution_count": 52,
   "id": "322cd104",
   "metadata": {},
   "outputs": [],
   "source": [
    "patient_data = patient_data.drop('department', axis=1)"
   ]
  },
  {
   "cell_type": "markdown",
   "id": "08f8969e",
   "metadata": {},
   "source": [
    "### Feature Engineering"
   ]
  },
  {
   "cell_type": "code",
   "execution_count": null,
   "id": "431d94ee",
   "metadata": {},
   "outputs": [],
   "source": [
    "patient_data['age'] = "
   ]
  },
  {
   "cell_type": "markdown",
   "id": "0ef0020e",
   "metadata": {},
   "source": [
    "### Обработка текста"
   ]
  },
  {
   "cell_type": "code",
   "execution_count": null,
   "id": "cd6db0db",
   "metadata": {},
   "outputs": [],
   "source": []
  },
  {
   "cell_type": "code",
   "execution_count": null,
   "id": "365be8f6",
   "metadata": {},
   "outputs": [],
   "source": []
  }
 ],
 "metadata": {
  "kernelspec": {
   "display_name": "Python 3 (ipykernel)",
   "language": "python",
   "name": "python3"
  },
  "language_info": {
   "codemirror_mode": {
    "name": "ipython",
    "version": 3
   },
   "file_extension": ".py",
   "mimetype": "text/x-python",
   "name": "python",
   "nbconvert_exporter": "python",
   "pygments_lexer": "ipython3",
   "version": "3.9.13"
  }
 },
 "nbformat": 4,
 "nbformat_minor": 5
}
