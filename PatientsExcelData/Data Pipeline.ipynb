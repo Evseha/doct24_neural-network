{
 "cells": [
  {
   "cell_type": "markdown",
   "id": "f86ba541",
   "metadata": {},
   "source": [
    "# Подготовка данных пациентов"
   ]
  },
  {
   "cell_type": "code",
   "execution_count": 29,
   "id": "a0a42e57",
   "metadata": {},
   "outputs": [],
   "source": [
    "import pandas as pd\n",
    "import numpy as np\n",
    "import os\n",
    "import re\n",
    "import seaborn as sbs\n",
    "import matplotlib.pyplot as plt\n",
    "\n",
    "from sklearn.preprocessing import OneHotEncoder\n",
    "import transformers\n",
    "from tqdm import notebook\n",
    "from sklearn.model_selection import train_test_split\n",
    "\n",
    "from sklearn.metrics import classification_report\n",
    "from sklearn.metrics import confusion_matrix\n",
    "from sklearn.metrics import roc_auc_score\n",
    "\n",
    "from catboost import CatBoostClassifier\n",
    "\n",
    "import imblearn\n",
    "from imblearn.over_sampling import SMOTE"
   ]
  },
  {
   "cell_type": "markdown",
   "id": "f0a7f922",
   "metadata": {},
   "source": [
    "## Загрузка данных"
   ]
  },
  {
   "cell_type": "code",
   "execution_count": 2,
   "id": "4bcf3dc0",
   "metadata": {},
   "outputs": [],
   "source": [
    "file_path = 'chd_addmit_300.xlsx'"
   ]
  },
  {
   "cell_type": "code",
   "execution_count": 3,
   "id": "308ce412",
   "metadata": {},
   "outputs": [],
   "source": [
    "patient_data = pd.read_excel(file_path)"
   ]
  },
  {
   "cell_type": "code",
   "execution_count": 4,
   "id": "bed50988",
   "metadata": {},
   "outputs": [
    {
     "data": {
      "text/html": [
       "<div>\n",
       "<style scoped>\n",
       "    .dataframe tbody tr th:only-of-type {\n",
       "        vertical-align: middle;\n",
       "    }\n",
       "\n",
       "    .dataframe tbody tr th {\n",
       "        vertical-align: top;\n",
       "    }\n",
       "\n",
       "    .dataframe thead th {\n",
       "        text-align: right;\n",
       "    }\n",
       "</style>\n",
       "<table border=\"1\" class=\"dataframe\">\n",
       "  <thead>\n",
       "    <tr style=\"text-align: right;\">\n",
       "      <th></th>\n",
       "      <th>admittion</th>\n",
       "      <th>discharge</th>\n",
       "      <th>sex</th>\n",
       "      <th>height</th>\n",
       "      <th>weight</th>\n",
       "      <th>BMI</th>\n",
       "      <th>BSA</th>\n",
       "      <th>birth</th>\n",
       "      <th>Операции (все в ИБ)</th>\n",
       "      <th>Перенесенные опер. (из Анамн.)</th>\n",
       "      <th>...</th>\n",
       "      <th>Unnamed: 32</th>\n",
       "      <th>Unnamed: 33</th>\n",
       "      <th>Unnamed: 34</th>\n",
       "      <th>Unnamed: 35</th>\n",
       "      <th>Unnamed: 36</th>\n",
       "      <th>Unnamed: 37</th>\n",
       "      <th>Unnamed: 38</th>\n",
       "      <th>Unnamed: 39</th>\n",
       "      <th>Unnamed: 40</th>\n",
       "      <th>Unnamed: 41</th>\n",
       "    </tr>\n",
       "  </thead>\n",
       "  <tbody>\n",
       "    <tr>\n",
       "      <th>0</th>\n",
       "      <td>2016-12-12</td>\n",
       "      <td>2017-01-10</td>\n",
       "      <td>m</td>\n",
       "      <td>76</td>\n",
       "      <td>9.70</td>\n",
       "      <td>111.27</td>\n",
       "      <td>0.46</td>\n",
       "      <td>02.01.2016</td>\n",
       "      <td>12.12.2016: (Откр./ИК) Перевязка ранее наложен...</td>\n",
       "      <td></td>\n",
       "      <td>...</td>\n",
       "      <td>NaN</td>\n",
       "      <td>NaN</td>\n",
       "      <td>NaN</td>\n",
       "      <td>NaN</td>\n",
       "      <td>NaN</td>\n",
       "      <td>NaN</td>\n",
       "      <td>NaN</td>\n",
       "      <td>NaN</td>\n",
       "      <td>NaN</td>\n",
       "      <td>NaN</td>\n",
       "    </tr>\n",
       "    <tr>\n",
       "      <th>1</th>\n",
       "      <td>2017-01-13</td>\n",
       "      <td>2017-02-01</td>\n",
       "      <td>f</td>\n",
       "      <td>67</td>\n",
       "      <td>7.34</td>\n",
       "      <td>89.67</td>\n",
       "      <td>0.37</td>\n",
       "      <td>02.02.2016</td>\n",
       "      <td>18.01.2017: (Откр./ИК) Радикальная коррекция д...</td>\n",
       "      <td>15.08.2016г.: Транслюминальная балонная вальву...</td>\n",
       "      <td>...</td>\n",
       "      <td>NaN</td>\n",
       "      <td>NaN</td>\n",
       "      <td>NaN</td>\n",
       "      <td>NaN</td>\n",
       "      <td>NaN</td>\n",
       "      <td>NaN</td>\n",
       "      <td>NaN</td>\n",
       "      <td>NaN</td>\n",
       "      <td>NaN</td>\n",
       "      <td>NaN</td>\n",
       "    </tr>\n",
       "    <tr>\n",
       "      <th>2</th>\n",
       "      <td>2017-01-17</td>\n",
       "      <td>2017-02-09</td>\n",
       "      <td>m</td>\n",
       "      <td>74</td>\n",
       "      <td>8.90</td>\n",
       "      <td>103.46</td>\n",
       "      <td>0.43</td>\n",
       "      <td>21.02.2016</td>\n",
       "      <td>19.01.2017: (Откр./ИК) Перевязка ранее наложен...</td>\n",
       "      <td>29.02.2016 - подключично-легочный анастомоз сп...</td>\n",
       "      <td>...</td>\n",
       "      <td>NaN</td>\n",
       "      <td>NaN</td>\n",
       "      <td>NaN</td>\n",
       "      <td>NaN</td>\n",
       "      <td>NaN</td>\n",
       "      <td>NaN</td>\n",
       "      <td>NaN</td>\n",
       "      <td>NaN</td>\n",
       "      <td>NaN</td>\n",
       "      <td>NaN</td>\n",
       "    </tr>\n",
       "    <tr>\n",
       "      <th>3</th>\n",
       "      <td>2017-01-20</td>\n",
       "      <td>2017-02-21</td>\n",
       "      <td>f</td>\n",
       "      <td>67</td>\n",
       "      <td>6.97</td>\n",
       "      <td>85.15</td>\n",
       "      <td>0.36</td>\n",
       "      <td>02.03.2016</td>\n",
       "      <td>23.01.2017: (Откр./ИК) Наложение двустороннего...</td>\n",
       "      <td></td>\n",
       "      <td>...</td>\n",
       "      <td>NaN</td>\n",
       "      <td>NaN</td>\n",
       "      <td>NaN</td>\n",
       "      <td>NaN</td>\n",
       "      <td>NaN</td>\n",
       "      <td>NaN</td>\n",
       "      <td>NaN</td>\n",
       "      <td>NaN</td>\n",
       "      <td>NaN</td>\n",
       "      <td>NaN</td>\n",
       "    </tr>\n",
       "    <tr>\n",
       "      <th>4</th>\n",
       "      <td>2017-02-13</td>\n",
       "      <td>2017-03-01</td>\n",
       "      <td>m</td>\n",
       "      <td>82</td>\n",
       "      <td>9.29</td>\n",
       "      <td>102.59</td>\n",
       "      <td>0.46</td>\n",
       "      <td>08.03.2016</td>\n",
       "      <td>15.02.2017: (Откр./ИК) Реконструкция путей отт...</td>\n",
       "      <td>13.04.2016. НАЗВАНИЕ ОПЕРАЦИИ: Транслюминальна...</td>\n",
       "      <td>...</td>\n",
       "      <td>NaN</td>\n",
       "      <td>NaN</td>\n",
       "      <td>NaN</td>\n",
       "      <td>NaN</td>\n",
       "      <td>NaN</td>\n",
       "      <td>NaN</td>\n",
       "      <td>NaN</td>\n",
       "      <td>NaN</td>\n",
       "      <td>NaN</td>\n",
       "      <td>NaN</td>\n",
       "    </tr>\n",
       "  </tbody>\n",
       "</table>\n",
       "<p>5 rows × 42 columns</p>\n",
       "</div>"
      ],
      "text/plain": [
       "   admittion  discharge sex  height  weight     BMI   BSA       birth  \\\n",
       "0 2016-12-12 2017-01-10   m      76    9.70  111.27  0.46  02.01.2016   \n",
       "1 2017-01-13 2017-02-01   f      67    7.34   89.67  0.37  02.02.2016   \n",
       "2 2017-01-17 2017-02-09   m      74    8.90  103.46  0.43  21.02.2016   \n",
       "3 2017-01-20 2017-02-21   f      67    6.97   85.15  0.36  02.03.2016   \n",
       "4 2017-02-13 2017-03-01   m      82    9.29  102.59  0.46  08.03.2016   \n",
       "\n",
       "                                 Операции (все в ИБ)  \\\n",
       "0  12.12.2016: (Откр./ИК) Перевязка ранее наложен...   \n",
       "1  18.01.2017: (Откр./ИК) Радикальная коррекция д...   \n",
       "2  19.01.2017: (Откр./ИК) Перевязка ранее наложен...   \n",
       "3  23.01.2017: (Откр./ИК) Наложение двустороннего...   \n",
       "4  15.02.2017: (Откр./ИК) Реконструкция путей отт...   \n",
       "\n",
       "                      Перенесенные опер. (из Анамн.)  ... Unnamed: 32  \\\n",
       "0                                                     ...         NaN   \n",
       "1  15.08.2016г.: Транслюминальная балонная вальву...  ...         NaN   \n",
       "2  29.02.2016 - подключично-легочный анастомоз сп...  ...         NaN   \n",
       "3                                                     ...         NaN   \n",
       "4  13.04.2016. НАЗВАНИЕ ОПЕРАЦИИ: Транслюминальна...  ...         NaN   \n",
       "\n",
       "  Unnamed: 33 Unnamed: 34 Unnamed: 35 Unnamed: 36 Unnamed: 37 Unnamed: 38  \\\n",
       "0         NaN         NaN         NaN         NaN         NaN         NaN   \n",
       "1         NaN         NaN         NaN         NaN         NaN         NaN   \n",
       "2         NaN         NaN         NaN         NaN         NaN         NaN   \n",
       "3         NaN         NaN         NaN         NaN         NaN         NaN   \n",
       "4         NaN         NaN         NaN         NaN         NaN         NaN   \n",
       "\n",
       "  Unnamed: 39 Unnamed: 40 Unnamed: 41  \n",
       "0         NaN         NaN         NaN  \n",
       "1         NaN         NaN         NaN  \n",
       "2         NaN         NaN         NaN  \n",
       "3         NaN         NaN         NaN  \n",
       "4         NaN         NaN         NaN  \n",
       "\n",
       "[5 rows x 42 columns]"
      ]
     },
     "execution_count": 4,
     "metadata": {},
     "output_type": "execute_result"
    }
   ],
   "source": [
    "patient_data.head()"
   ]
  },
  {
   "cell_type": "code",
   "execution_count": 5,
   "id": "2370e16a",
   "metadata": {},
   "outputs": [
    {
     "name": "stdout",
     "output_type": "stream",
     "text": [
      "<class 'pandas.core.frame.DataFrame'>\n",
      "RangeIndex: 300 entries, 0 to 299\n",
      "Data columns (total 42 columns):\n",
      " #   Column                                           Non-Null Count  Dtype         \n",
      "---  ------                                           --------------  -----         \n",
      " 0   admittion                                        300 non-null    datetime64[ns]\n",
      " 1   discharge                                        300 non-null    datetime64[ns]\n",
      " 2   sex                                              300 non-null    object        \n",
      " 3   height                                           300 non-null    int64         \n",
      " 4   weight                                           300 non-null    float64       \n",
      " 5   BMI                                              298 non-null    float64       \n",
      " 6   BSA                                              298 non-null    float64       \n",
      " 7   birth                                            300 non-null    object        \n",
      " 8   Операции (все в ИБ)                              300 non-null    object        \n",
      " 9   Перенесенные опер. (из Анамн.)                   300 non-null    object        \n",
      " 10  Диагноз                                          300 non-null    object        \n",
      " 11  МКБ                                              300 non-null    object        \n",
      " 12  Соп. забол. (из Анамн.)                          300 non-null    object        \n",
      " 13  Медикам. леч. по поводу осн. забол. (из Анамн.)  253 non-null    object        \n",
      " 14  Принимаемые препараты (из Анамн.)                180 non-null    object        \n",
      " 15  ЭхоКГ (Из Эпикр. до опер.)                       293 non-null    object        \n",
      " 16  ЭКГ (Из Эпикр. до опер.)                         280 non-null    object        \n",
      " 17  АКГ (Из Эпикр. до опер.)                         91 non-null     object        \n",
      " 18  КТ (Из Эпикр. до опер.)                          38 non-null     object        \n",
      " 19  Операция (основная / первая в ИБ)                300 non-null    object        \n",
      " 20  Дата опер.                                       300 non-null    object        \n",
      " 21  target                                           300 non-null    int64         \n",
      " 22  Unnamed: 22                                      0 non-null      float64       \n",
      " 23  Unnamed: 23                                      0 non-null      float64       \n",
      " 24  Unnamed: 24                                      0 non-null      float64       \n",
      " 25  Unnamed: 25                                      0 non-null      float64       \n",
      " 26  Unnamed: 26                                      0 non-null      float64       \n",
      " 27  Unnamed: 27                                      0 non-null      float64       \n",
      " 28  Unnamed: 28                                      0 non-null      float64       \n",
      " 29  Unnamed: 29                                      0 non-null      float64       \n",
      " 30  Unnamed: 30                                      0 non-null      float64       \n",
      " 31  Unnamed: 31                                      0 non-null      float64       \n",
      " 32  Unnamed: 32                                      0 non-null      float64       \n",
      " 33  Unnamed: 33                                      0 non-null      float64       \n",
      " 34  Unnamed: 34                                      0 non-null      float64       \n",
      " 35  Unnamed: 35                                      0 non-null      float64       \n",
      " 36  Unnamed: 36                                      0 non-null      float64       \n",
      " 37  Unnamed: 37                                      0 non-null      float64       \n",
      " 38  Unnamed: 38                                      0 non-null      float64       \n",
      " 39  Unnamed: 39                                      0 non-null      float64       \n",
      " 40  Unnamed: 40                                      0 non-null      float64       \n",
      " 41  Unnamed: 41                                      0 non-null      float64       \n",
      "dtypes: datetime64[ns](2), float64(23), int64(2), object(15)\n",
      "memory usage: 98.6+ KB\n"
     ]
    }
   ],
   "source": [
    "patient_data.info()"
   ]
  },
  {
   "cell_type": "code",
   "execution_count": 6,
   "id": "b8715db7",
   "metadata": {},
   "outputs": [
    {
     "data": {
      "text/html": [
       "<div>\n",
       "<style scoped>\n",
       "    .dataframe tbody tr th:only-of-type {\n",
       "        vertical-align: middle;\n",
       "    }\n",
       "\n",
       "    .dataframe tbody tr th {\n",
       "        vertical-align: top;\n",
       "    }\n",
       "\n",
       "    .dataframe thead th {\n",
       "        text-align: right;\n",
       "    }\n",
       "</style>\n",
       "<table border=\"1\" class=\"dataframe\">\n",
       "  <thead>\n",
       "    <tr style=\"text-align: right;\">\n",
       "      <th></th>\n",
       "      <th>height</th>\n",
       "      <th>weight</th>\n",
       "      <th>BMI</th>\n",
       "      <th>BSA</th>\n",
       "      <th>target</th>\n",
       "      <th>Unnamed: 22</th>\n",
       "      <th>Unnamed: 23</th>\n",
       "      <th>Unnamed: 24</th>\n",
       "      <th>Unnamed: 25</th>\n",
       "      <th>Unnamed: 26</th>\n",
       "      <th>...</th>\n",
       "      <th>Unnamed: 32</th>\n",
       "      <th>Unnamed: 33</th>\n",
       "      <th>Unnamed: 34</th>\n",
       "      <th>Unnamed: 35</th>\n",
       "      <th>Unnamed: 36</th>\n",
       "      <th>Unnamed: 37</th>\n",
       "      <th>Unnamed: 38</th>\n",
       "      <th>Unnamed: 39</th>\n",
       "      <th>Unnamed: 40</th>\n",
       "      <th>Unnamed: 41</th>\n",
       "    </tr>\n",
       "  </thead>\n",
       "  <tbody>\n",
       "    <tr>\n",
       "      <th>count</th>\n",
       "      <td>300.000000</td>\n",
       "      <td>300.000000</td>\n",
       "      <td>298.000000</td>\n",
       "      <td>298.000000</td>\n",
       "      <td>300.000000</td>\n",
       "      <td>0.0</td>\n",
       "      <td>0.0</td>\n",
       "      <td>0.0</td>\n",
       "      <td>0.0</td>\n",
       "      <td>0.0</td>\n",
       "      <td>...</td>\n",
       "      <td>0.0</td>\n",
       "      <td>0.0</td>\n",
       "      <td>0.0</td>\n",
       "      <td>0.0</td>\n",
       "      <td>0.0</td>\n",
       "      <td>0.0</td>\n",
       "      <td>0.0</td>\n",
       "      <td>0.0</td>\n",
       "      <td>0.0</td>\n",
       "      <td>0.0</td>\n",
       "    </tr>\n",
       "    <tr>\n",
       "      <th>mean</th>\n",
       "      <td>64.890000</td>\n",
       "      <td>6.293560</td>\n",
       "      <td>76.834430</td>\n",
       "      <td>0.336477</td>\n",
       "      <td>0.046667</td>\n",
       "      <td>NaN</td>\n",
       "      <td>NaN</td>\n",
       "      <td>NaN</td>\n",
       "      <td>NaN</td>\n",
       "      <td>NaN</td>\n",
       "      <td>...</td>\n",
       "      <td>NaN</td>\n",
       "      <td>NaN</td>\n",
       "      <td>NaN</td>\n",
       "      <td>NaN</td>\n",
       "      <td>NaN</td>\n",
       "      <td>NaN</td>\n",
       "      <td>NaN</td>\n",
       "      <td>NaN</td>\n",
       "      <td>NaN</td>\n",
       "      <td>NaN</td>\n",
       "    </tr>\n",
       "    <tr>\n",
       "      <th>std</th>\n",
       "      <td>8.076012</td>\n",
       "      <td>1.951695</td>\n",
       "      <td>20.640196</td>\n",
       "      <td>0.073846</td>\n",
       "      <td>0.211276</td>\n",
       "      <td>NaN</td>\n",
       "      <td>NaN</td>\n",
       "      <td>NaN</td>\n",
       "      <td>NaN</td>\n",
       "      <td>NaN</td>\n",
       "      <td>...</td>\n",
       "      <td>NaN</td>\n",
       "      <td>NaN</td>\n",
       "      <td>NaN</td>\n",
       "      <td>NaN</td>\n",
       "      <td>NaN</td>\n",
       "      <td>NaN</td>\n",
       "      <td>NaN</td>\n",
       "      <td>NaN</td>\n",
       "      <td>NaN</td>\n",
       "      <td>NaN</td>\n",
       "    </tr>\n",
       "    <tr>\n",
       "      <th>min</th>\n",
       "      <td>39.000000</td>\n",
       "      <td>1.270000</td>\n",
       "      <td>20.340000</td>\n",
       "      <td>0.120000</td>\n",
       "      <td>0.000000</td>\n",
       "      <td>NaN</td>\n",
       "      <td>NaN</td>\n",
       "      <td>NaN</td>\n",
       "      <td>NaN</td>\n",
       "      <td>NaN</td>\n",
       "      <td>...</td>\n",
       "      <td>NaN</td>\n",
       "      <td>NaN</td>\n",
       "      <td>NaN</td>\n",
       "      <td>NaN</td>\n",
       "      <td>NaN</td>\n",
       "      <td>NaN</td>\n",
       "      <td>NaN</td>\n",
       "      <td>NaN</td>\n",
       "      <td>NaN</td>\n",
       "      <td>NaN</td>\n",
       "    </tr>\n",
       "    <tr>\n",
       "      <th>25%</th>\n",
       "      <td>60.000000</td>\n",
       "      <td>4.868500</td>\n",
       "      <td>62.007500</td>\n",
       "      <td>0.280000</td>\n",
       "      <td>0.000000</td>\n",
       "      <td>NaN</td>\n",
       "      <td>NaN</td>\n",
       "      <td>NaN</td>\n",
       "      <td>NaN</td>\n",
       "      <td>NaN</td>\n",
       "      <td>...</td>\n",
       "      <td>NaN</td>\n",
       "      <td>NaN</td>\n",
       "      <td>NaN</td>\n",
       "      <td>NaN</td>\n",
       "      <td>NaN</td>\n",
       "      <td>NaN</td>\n",
       "      <td>NaN</td>\n",
       "      <td>NaN</td>\n",
       "      <td>NaN</td>\n",
       "      <td>NaN</td>\n",
       "    </tr>\n",
       "    <tr>\n",
       "      <th>50%</th>\n",
       "      <td>65.500000</td>\n",
       "      <td>6.442500</td>\n",
       "      <td>78.430000</td>\n",
       "      <td>0.350000</td>\n",
       "      <td>0.000000</td>\n",
       "      <td>NaN</td>\n",
       "      <td>NaN</td>\n",
       "      <td>NaN</td>\n",
       "      <td>NaN</td>\n",
       "      <td>NaN</td>\n",
       "      <td>...</td>\n",
       "      <td>NaN</td>\n",
       "      <td>NaN</td>\n",
       "      <td>NaN</td>\n",
       "      <td>NaN</td>\n",
       "      <td>NaN</td>\n",
       "      <td>NaN</td>\n",
       "      <td>NaN</td>\n",
       "      <td>NaN</td>\n",
       "      <td>NaN</td>\n",
       "      <td>NaN</td>\n",
       "    </tr>\n",
       "    <tr>\n",
       "      <th>75%</th>\n",
       "      <td>71.000000</td>\n",
       "      <td>7.651250</td>\n",
       "      <td>91.797500</td>\n",
       "      <td>0.390000</td>\n",
       "      <td>0.000000</td>\n",
       "      <td>NaN</td>\n",
       "      <td>NaN</td>\n",
       "      <td>NaN</td>\n",
       "      <td>NaN</td>\n",
       "      <td>NaN</td>\n",
       "      <td>...</td>\n",
       "      <td>NaN</td>\n",
       "      <td>NaN</td>\n",
       "      <td>NaN</td>\n",
       "      <td>NaN</td>\n",
       "      <td>NaN</td>\n",
       "      <td>NaN</td>\n",
       "      <td>NaN</td>\n",
       "      <td>NaN</td>\n",
       "      <td>NaN</td>\n",
       "      <td>NaN</td>\n",
       "    </tr>\n",
       "    <tr>\n",
       "      <th>max</th>\n",
       "      <td>85.000000</td>\n",
       "      <td>12.000000</td>\n",
       "      <td>137.650000</td>\n",
       "      <td>0.520000</td>\n",
       "      <td>1.000000</td>\n",
       "      <td>NaN</td>\n",
       "      <td>NaN</td>\n",
       "      <td>NaN</td>\n",
       "      <td>NaN</td>\n",
       "      <td>NaN</td>\n",
       "      <td>...</td>\n",
       "      <td>NaN</td>\n",
       "      <td>NaN</td>\n",
       "      <td>NaN</td>\n",
       "      <td>NaN</td>\n",
       "      <td>NaN</td>\n",
       "      <td>NaN</td>\n",
       "      <td>NaN</td>\n",
       "      <td>NaN</td>\n",
       "      <td>NaN</td>\n",
       "      <td>NaN</td>\n",
       "    </tr>\n",
       "  </tbody>\n",
       "</table>\n",
       "<p>8 rows × 25 columns</p>\n",
       "</div>"
      ],
      "text/plain": [
       "           height      weight         BMI         BSA      target  \\\n",
       "count  300.000000  300.000000  298.000000  298.000000  300.000000   \n",
       "mean    64.890000    6.293560   76.834430    0.336477    0.046667   \n",
       "std      8.076012    1.951695   20.640196    0.073846    0.211276   \n",
       "min     39.000000    1.270000   20.340000    0.120000    0.000000   \n",
       "25%     60.000000    4.868500   62.007500    0.280000    0.000000   \n",
       "50%     65.500000    6.442500   78.430000    0.350000    0.000000   \n",
       "75%     71.000000    7.651250   91.797500    0.390000    0.000000   \n",
       "max     85.000000   12.000000  137.650000    0.520000    1.000000   \n",
       "\n",
       "       Unnamed: 22  Unnamed: 23  Unnamed: 24  Unnamed: 25  Unnamed: 26  ...  \\\n",
       "count          0.0          0.0          0.0          0.0          0.0  ...   \n",
       "mean           NaN          NaN          NaN          NaN          NaN  ...   \n",
       "std            NaN          NaN          NaN          NaN          NaN  ...   \n",
       "min            NaN          NaN          NaN          NaN          NaN  ...   \n",
       "25%            NaN          NaN          NaN          NaN          NaN  ...   \n",
       "50%            NaN          NaN          NaN          NaN          NaN  ...   \n",
       "75%            NaN          NaN          NaN          NaN          NaN  ...   \n",
       "max            NaN          NaN          NaN          NaN          NaN  ...   \n",
       "\n",
       "       Unnamed: 32  Unnamed: 33  Unnamed: 34  Unnamed: 35  Unnamed: 36  \\\n",
       "count          0.0          0.0          0.0          0.0          0.0   \n",
       "mean           NaN          NaN          NaN          NaN          NaN   \n",
       "std            NaN          NaN          NaN          NaN          NaN   \n",
       "min            NaN          NaN          NaN          NaN          NaN   \n",
       "25%            NaN          NaN          NaN          NaN          NaN   \n",
       "50%            NaN          NaN          NaN          NaN          NaN   \n",
       "75%            NaN          NaN          NaN          NaN          NaN   \n",
       "max            NaN          NaN          NaN          NaN          NaN   \n",
       "\n",
       "       Unnamed: 37  Unnamed: 38  Unnamed: 39  Unnamed: 40  Unnamed: 41  \n",
       "count          0.0          0.0          0.0          0.0          0.0  \n",
       "mean           NaN          NaN          NaN          NaN          NaN  \n",
       "std            NaN          NaN          NaN          NaN          NaN  \n",
       "min            NaN          NaN          NaN          NaN          NaN  \n",
       "25%            NaN          NaN          NaN          NaN          NaN  \n",
       "50%            NaN          NaN          NaN          NaN          NaN  \n",
       "75%            NaN          NaN          NaN          NaN          NaN  \n",
       "max            NaN          NaN          NaN          NaN          NaN  \n",
       "\n",
       "[8 rows x 25 columns]"
      ]
     },
     "execution_count": 6,
     "metadata": {},
     "output_type": "execute_result"
    }
   ],
   "source": [
    "patient_data.describe()"
   ]
  },
  {
   "cell_type": "markdown",
   "id": "3a65610c",
   "metadata": {},
   "source": [
    "Успешно создан датасет. Необходимо изменить тип данных некоторых признаков, убрать пропуски."
   ]
  },
  {
   "cell_type": "markdown",
   "id": "7f505295",
   "metadata": {},
   "source": [
    "## Предобработка"
   ]
  },
  {
   "cell_type": "markdown",
   "id": "497f91fe",
   "metadata": {},
   "source": [
    "### Main dataset"
   ]
  },
  {
   "cell_type": "code",
   "execution_count": 7,
   "id": "df16e587",
   "metadata": {},
   "outputs": [],
   "source": [
    "main_dataset = pd.DataFrame()"
   ]
  },
  {
   "cell_type": "code",
   "execution_count": 8,
   "id": "cae6b821",
   "metadata": {},
   "outputs": [],
   "source": [
    "main_dataset[['sex','height','weight','BMI','BSA', 'target']] = patient_data[['sex','height','weight','BMI','BSA', 'target']]"
   ]
  },
  {
   "cell_type": "markdown",
   "id": "c181278f",
   "metadata": {},
   "source": [
    "### Разделение на тип операций"
   ]
  },
  {
   "cell_type": "code",
   "execution_count": 9,
   "id": "e7923c8b",
   "metadata": {},
   "outputs": [
    {
     "data": {
      "text/plain": [
       "'Откр./ИК'"
      ]
     },
     "execution_count": 9,
     "metadata": {},
     "output_type": "execute_result"
    }
   ],
   "source": [
    "operation_type_regular_expr = r'\\(([a-zA-Zа-яА-ЯёЁ0-9_.-/ ]+)\\)'\n",
    "\n",
    "def get_first_operation_type(text):\n",
    "    return re.search(operation_type_regular_expr, text).group(1)\n",
    "\n",
    "get_first_operation_type(patient_data['Операции (все в ИБ)'][0])"
   ]
  },
  {
   "cell_type": "code",
   "execution_count": 10,
   "id": "13f1c1d1",
   "metadata": {},
   "outputs": [],
   "source": [
    "main_dataset['operation_type'] = patient_data['Операции (все в ИБ)'].apply(get_first_operation_type)"
   ]
  },
  {
   "cell_type": "markdown",
   "id": "095c0eb8",
   "metadata": {},
   "source": [
    "### Уберем пропуски"
   ]
  },
  {
   "cell_type": "code",
   "execution_count": 11,
   "id": "cea058e7",
   "metadata": {},
   "outputs": [
    {
     "data": {
      "text/plain": [
       "sex               0\n",
       "height            0\n",
       "weight            0\n",
       "BMI               2\n",
       "BSA               2\n",
       "target            0\n",
       "operation_type    0\n",
       "dtype: int64"
      ]
     },
     "execution_count": 11,
     "metadata": {},
     "output_type": "execute_result"
    }
   ],
   "source": [
    "main_dataset.isnull().sum()"
   ]
  },
  {
   "cell_type": "code",
   "execution_count": 12,
   "id": "6945cb6e",
   "metadata": {},
   "outputs": [],
   "source": [
    "main_dataset = main_dataset.dropna()"
   ]
  },
  {
   "cell_type": "code",
   "execution_count": 13,
   "id": "41aa7737",
   "metadata": {},
   "outputs": [
    {
     "data": {
      "text/plain": [
       "sex               0\n",
       "height            0\n",
       "weight            0\n",
       "BMI               0\n",
       "BSA               0\n",
       "target            0\n",
       "operation_type    0\n",
       "dtype: int64"
      ]
     },
     "execution_count": 13,
     "metadata": {},
     "output_type": "execute_result"
    }
   ],
   "source": [
    "main_dataset.isnull().sum()"
   ]
  },
  {
   "cell_type": "markdown",
   "id": "fa2cddd1",
   "metadata": {},
   "source": [
    "## Обучение\n",
    "\n",
    "### Train test split"
   ]
  },
  {
   "cell_type": "code",
   "execution_count": 14,
   "id": "52ec0761",
   "metadata": {},
   "outputs": [],
   "source": [
    "X, y = main_dataset.drop('target', axis=1), main_dataset['target']"
   ]
  },
  {
   "cell_type": "code",
   "execution_count": 15,
   "id": "0e64d6d1",
   "metadata": {},
   "outputs": [],
   "source": [
    "X_train, X_test, y_train, y_test = train_test_split(X, y, test_size=0.35, stratify=y)"
   ]
  },
  {
   "cell_type": "code",
   "execution_count": 16,
   "id": "20b97ca5",
   "metadata": {},
   "outputs": [],
   "source": [
    "X_train, y_train = X_train.reset_index(drop=True), y_train.reset_index(drop=True)"
   ]
  },
  {
   "cell_type": "code",
   "execution_count": 17,
   "id": "b6b68dfe",
   "metadata": {},
   "outputs": [],
   "source": [
    "X_test, y_test = X_test.reset_index(drop=True), y_test.reset_index(drop=True), "
   ]
  },
  {
   "cell_type": "code",
   "execution_count": 18,
   "id": "2365b6aa",
   "metadata": {},
   "outputs": [
    {
     "data": {
      "text/plain": [
       "(193, 6)"
      ]
     },
     "execution_count": 18,
     "metadata": {},
     "output_type": "execute_result"
    }
   ],
   "source": [
    "X_train.shape"
   ]
  },
  {
   "cell_type": "code",
   "execution_count": 19,
   "id": "0a36f89b",
   "metadata": {},
   "outputs": [
    {
     "data": {
      "text/plain": [
       "(105, 6)"
      ]
     },
     "execution_count": 19,
     "metadata": {},
     "output_type": "execute_result"
    }
   ],
   "source": [
    "X_test.shape"
   ]
  },
  {
   "cell_type": "code",
   "execution_count": 20,
   "id": "6e17371d",
   "metadata": {},
   "outputs": [
    {
     "data": {
      "text/plain": [
       "0    100\n",
       "1      5\n",
       "Name: target, dtype: int64"
      ]
     },
     "execution_count": 20,
     "metadata": {},
     "output_type": "execute_result"
    }
   ],
   "source": [
    "y_test.value_counts()"
   ]
  },
  {
   "cell_type": "code",
   "execution_count": 21,
   "id": "ad2d3d9a",
   "metadata": {},
   "outputs": [
    {
     "data": {
      "text/plain": [
       "0    184\n",
       "1      9\n",
       "Name: target, dtype: int64"
      ]
     },
     "execution_count": 21,
     "metadata": {},
     "output_type": "execute_result"
    }
   ],
   "source": [
    "y_train.value_counts()"
   ]
  },
  {
   "cell_type": "markdown",
   "id": "b7041ed7",
   "metadata": {},
   "source": [
    "## OHE"
   ]
  },
  {
   "cell_type": "code",
   "execution_count": 22,
   "id": "365be8f6",
   "metadata": {},
   "outputs": [],
   "source": [
    "ohe = OneHotEncoder(drop='first').fit(X_train[['sex', 'operation_type']])"
   ]
  },
  {
   "cell_type": "code",
   "execution_count": 23,
   "id": "cd76f6f6",
   "metadata": {},
   "outputs": [
    {
     "data": {
      "text/html": [
       "<div>\n",
       "<style scoped>\n",
       "    .dataframe tbody tr th:only-of-type {\n",
       "        vertical-align: middle;\n",
       "    }\n",
       "\n",
       "    .dataframe tbody tr th {\n",
       "        vertical-align: top;\n",
       "    }\n",
       "\n",
       "    .dataframe thead th {\n",
       "        text-align: right;\n",
       "    }\n",
       "</style>\n",
       "<table border=\"1\" class=\"dataframe\">\n",
       "  <thead>\n",
       "    <tr style=\"text-align: right;\">\n",
       "      <th></th>\n",
       "      <th>0</th>\n",
       "      <th>1</th>\n",
       "      <th>2</th>\n",
       "    </tr>\n",
       "  </thead>\n",
       "  <tbody>\n",
       "    <tr>\n",
       "      <th>0</th>\n",
       "      <td>1.0</td>\n",
       "      <td>1.0</td>\n",
       "      <td>0.0</td>\n",
       "    </tr>\n",
       "    <tr>\n",
       "      <th>1</th>\n",
       "      <td>1.0</td>\n",
       "      <td>0.0</td>\n",
       "      <td>0.0</td>\n",
       "    </tr>\n",
       "    <tr>\n",
       "      <th>2</th>\n",
       "      <td>0.0</td>\n",
       "      <td>1.0</td>\n",
       "      <td>0.0</td>\n",
       "    </tr>\n",
       "    <tr>\n",
       "      <th>3</th>\n",
       "      <td>0.0</td>\n",
       "      <td>0.0</td>\n",
       "      <td>0.0</td>\n",
       "    </tr>\n",
       "    <tr>\n",
       "      <th>4</th>\n",
       "      <td>1.0</td>\n",
       "      <td>1.0</td>\n",
       "      <td>0.0</td>\n",
       "    </tr>\n",
       "    <tr>\n",
       "      <th>...</th>\n",
       "      <td>...</td>\n",
       "      <td>...</td>\n",
       "      <td>...</td>\n",
       "    </tr>\n",
       "    <tr>\n",
       "      <th>188</th>\n",
       "      <td>1.0</td>\n",
       "      <td>0.0</td>\n",
       "      <td>1.0</td>\n",
       "    </tr>\n",
       "    <tr>\n",
       "      <th>189</th>\n",
       "      <td>0.0</td>\n",
       "      <td>1.0</td>\n",
       "      <td>0.0</td>\n",
       "    </tr>\n",
       "    <tr>\n",
       "      <th>190</th>\n",
       "      <td>1.0</td>\n",
       "      <td>0.0</td>\n",
       "      <td>1.0</td>\n",
       "    </tr>\n",
       "    <tr>\n",
       "      <th>191</th>\n",
       "      <td>0.0</td>\n",
       "      <td>1.0</td>\n",
       "      <td>0.0</td>\n",
       "    </tr>\n",
       "    <tr>\n",
       "      <th>192</th>\n",
       "      <td>0.0</td>\n",
       "      <td>0.0</td>\n",
       "      <td>0.0</td>\n",
       "    </tr>\n",
       "  </tbody>\n",
       "</table>\n",
       "<p>193 rows × 3 columns</p>\n",
       "</div>"
      ],
      "text/plain": [
       "       0    1    2\n",
       "0    1.0  1.0  0.0\n",
       "1    1.0  0.0  0.0\n",
       "2    0.0  1.0  0.0\n",
       "3    0.0  0.0  0.0\n",
       "4    1.0  1.0  0.0\n",
       "..   ...  ...  ...\n",
       "188  1.0  0.0  1.0\n",
       "189  0.0  1.0  0.0\n",
       "190  1.0  0.0  1.0\n",
       "191  0.0  1.0  0.0\n",
       "192  0.0  0.0  0.0\n",
       "\n",
       "[193 rows x 3 columns]"
      ]
     },
     "execution_count": 23,
     "metadata": {},
     "output_type": "execute_result"
    }
   ],
   "source": [
    "pd.DataFrame(ohe.transform(X_train[['sex', 'operation_type']]).toarray())"
   ]
  },
  {
   "cell_type": "code",
   "execution_count": 24,
   "id": "e20235f8",
   "metadata": {},
   "outputs": [],
   "source": [
    "X_train[['sex', 'operation_type', 'operation_type_1']] = pd.DataFrame(ohe.transform(X_train[['sex', 'operation_type']]).toarray())"
   ]
  },
  {
   "cell_type": "code",
   "execution_count": 25,
   "id": "b46d702f",
   "metadata": {},
   "outputs": [
    {
     "data": {
      "text/html": [
       "<div>\n",
       "<style scoped>\n",
       "    .dataframe tbody tr th:only-of-type {\n",
       "        vertical-align: middle;\n",
       "    }\n",
       "\n",
       "    .dataframe tbody tr th {\n",
       "        vertical-align: top;\n",
       "    }\n",
       "\n",
       "    .dataframe thead th {\n",
       "        text-align: right;\n",
       "    }\n",
       "</style>\n",
       "<table border=\"1\" class=\"dataframe\">\n",
       "  <thead>\n",
       "    <tr style=\"text-align: right;\">\n",
       "      <th></th>\n",
       "      <th>sex</th>\n",
       "      <th>height</th>\n",
       "      <th>weight</th>\n",
       "      <th>BMI</th>\n",
       "      <th>BSA</th>\n",
       "      <th>operation_type</th>\n",
       "      <th>operation_type_1</th>\n",
       "    </tr>\n",
       "  </thead>\n",
       "  <tbody>\n",
       "    <tr>\n",
       "      <th>103</th>\n",
       "      <td>1.0</td>\n",
       "      <td>73</td>\n",
       "      <td>5.65</td>\n",
       "      <td>66.13</td>\n",
       "      <td>0.34</td>\n",
       "      <td>0.0</td>\n",
       "      <td>1.0</td>\n",
       "    </tr>\n",
       "    <tr>\n",
       "      <th>18</th>\n",
       "      <td>0.0</td>\n",
       "      <td>71</td>\n",
       "      <td>6.08</td>\n",
       "      <td>72.16</td>\n",
       "      <td>0.35</td>\n",
       "      <td>1.0</td>\n",
       "      <td>0.0</td>\n",
       "    </tr>\n",
       "    <tr>\n",
       "      <th>176</th>\n",
       "      <td>1.0</td>\n",
       "      <td>72</td>\n",
       "      <td>7.67</td>\n",
       "      <td>90.39</td>\n",
       "      <td>0.39</td>\n",
       "      <td>1.0</td>\n",
       "      <td>0.0</td>\n",
       "    </tr>\n",
       "    <tr>\n",
       "      <th>181</th>\n",
       "      <td>0.0</td>\n",
       "      <td>70</td>\n",
       "      <td>8.03</td>\n",
       "      <td>95.98</td>\n",
       "      <td>0.40</td>\n",
       "      <td>0.0</td>\n",
       "      <td>1.0</td>\n",
       "    </tr>\n",
       "    <tr>\n",
       "      <th>159</th>\n",
       "      <td>1.0</td>\n",
       "      <td>64</td>\n",
       "      <td>5.60</td>\n",
       "      <td>70.00</td>\n",
       "      <td>0.32</td>\n",
       "      <td>0.0</td>\n",
       "      <td>1.0</td>\n",
       "    </tr>\n",
       "  </tbody>\n",
       "</table>\n",
       "</div>"
      ],
      "text/plain": [
       "     sex  height  weight    BMI   BSA  operation_type  operation_type_1\n",
       "103  1.0      73    5.65  66.13  0.34             0.0               1.0\n",
       "18   0.0      71    6.08  72.16  0.35             1.0               0.0\n",
       "176  1.0      72    7.67  90.39  0.39             1.0               0.0\n",
       "181  0.0      70    8.03  95.98  0.40             0.0               1.0\n",
       "159  1.0      64    5.60  70.00  0.32             0.0               1.0"
      ]
     },
     "execution_count": 25,
     "metadata": {},
     "output_type": "execute_result"
    }
   ],
   "source": [
    "X_train.sample(5)"
   ]
  },
  {
   "cell_type": "code",
   "execution_count": 26,
   "id": "397689fc",
   "metadata": {},
   "outputs": [],
   "source": [
    "X_test[['sex', 'operation_type', 'operation_type_1']] = ohe.transform(X_test[['sex', 'operation_type']]).toarray()"
   ]
  },
  {
   "cell_type": "code",
   "execution_count": 27,
   "id": "04074426",
   "metadata": {
    "scrolled": true
   },
   "outputs": [
    {
     "data": {
      "text/html": [
       "<div>\n",
       "<style scoped>\n",
       "    .dataframe tbody tr th:only-of-type {\n",
       "        vertical-align: middle;\n",
       "    }\n",
       "\n",
       "    .dataframe tbody tr th {\n",
       "        vertical-align: top;\n",
       "    }\n",
       "\n",
       "    .dataframe thead th {\n",
       "        text-align: right;\n",
       "    }\n",
       "</style>\n",
       "<table border=\"1\" class=\"dataframe\">\n",
       "  <thead>\n",
       "    <tr style=\"text-align: right;\">\n",
       "      <th></th>\n",
       "      <th>sex</th>\n",
       "      <th>height</th>\n",
       "      <th>weight</th>\n",
       "      <th>BMI</th>\n",
       "      <th>BSA</th>\n",
       "      <th>operation_type</th>\n",
       "      <th>operation_type_1</th>\n",
       "    </tr>\n",
       "  </thead>\n",
       "  <tbody>\n",
       "    <tr>\n",
       "      <th>80</th>\n",
       "      <td>1.0</td>\n",
       "      <td>58</td>\n",
       "      <td>4.148</td>\n",
       "      <td>54.47</td>\n",
       "      <td>0.26</td>\n",
       "      <td>1.0</td>\n",
       "      <td>0.0</td>\n",
       "    </tr>\n",
       "    <tr>\n",
       "      <th>59</th>\n",
       "      <td>1.0</td>\n",
       "      <td>57</td>\n",
       "      <td>3.740</td>\n",
       "      <td>49.54</td>\n",
       "      <td>0.25</td>\n",
       "      <td>0.0</td>\n",
       "      <td>0.0</td>\n",
       "    </tr>\n",
       "    <tr>\n",
       "      <th>15</th>\n",
       "      <td>1.0</td>\n",
       "      <td>78</td>\n",
       "      <td>8.200</td>\n",
       "      <td>92.85</td>\n",
       "      <td>0.42</td>\n",
       "      <td>1.0</td>\n",
       "      <td>0.0</td>\n",
       "    </tr>\n",
       "    <tr>\n",
       "      <th>52</th>\n",
       "      <td>1.0</td>\n",
       "      <td>64</td>\n",
       "      <td>7.125</td>\n",
       "      <td>89.06</td>\n",
       "      <td>0.36</td>\n",
       "      <td>1.0</td>\n",
       "      <td>0.0</td>\n",
       "    </tr>\n",
       "    <tr>\n",
       "      <th>57</th>\n",
       "      <td>1.0</td>\n",
       "      <td>74</td>\n",
       "      <td>9.700</td>\n",
       "      <td>112.76</td>\n",
       "      <td>0.45</td>\n",
       "      <td>0.0</td>\n",
       "      <td>1.0</td>\n",
       "    </tr>\n",
       "  </tbody>\n",
       "</table>\n",
       "</div>"
      ],
      "text/plain": [
       "    sex  height  weight     BMI   BSA  operation_type  operation_type_1\n",
       "80  1.0      58   4.148   54.47  0.26             1.0               0.0\n",
       "59  1.0      57   3.740   49.54  0.25             0.0               0.0\n",
       "15  1.0      78   8.200   92.85  0.42             1.0               0.0\n",
       "52  1.0      64   7.125   89.06  0.36             1.0               0.0\n",
       "57  1.0      74   9.700  112.76  0.45             0.0               1.0"
      ]
     },
     "execution_count": 27,
     "metadata": {},
     "output_type": "execute_result"
    }
   ],
   "source": [
    "X_test.sample(5)"
   ]
  },
  {
   "cell_type": "code",
   "execution_count": 30,
   "id": "1cb9418a",
   "metadata": {},
   "outputs": [],
   "source": [
    "oversample = SMOTE()"
   ]
  },
  {
   "cell_type": "code",
   "execution_count": 31,
   "id": "71421f0e",
   "metadata": {},
   "outputs": [],
   "source": [
    "X_train, y_train = oversample.fit_resample(X_train, y_train)"
   ]
  },
  {
   "cell_type": "code",
   "execution_count": 32,
   "id": "d2e2894c",
   "metadata": {},
   "outputs": [
    {
     "data": {
      "text/plain": [
       "0    184\n",
       "1    184\n",
       "Name: target, dtype: int64"
      ]
     },
     "execution_count": 32,
     "metadata": {},
     "output_type": "execute_result"
    }
   ],
   "source": [
    "y_train.value_counts()"
   ]
  },
  {
   "cell_type": "markdown",
   "id": "4b703a54",
   "metadata": {},
   "source": [
    "### Catboost"
   ]
  },
  {
   "cell_type": "code",
   "execution_count": 33,
   "id": "2665bc1f",
   "metadata": {},
   "outputs": [],
   "source": [
    "model = CatBoostClassifier(verbose=100)"
   ]
  },
  {
   "cell_type": "code",
   "execution_count": 34,
   "id": "d726b7be",
   "metadata": {},
   "outputs": [
    {
     "name": "stdout",
     "output_type": "stream",
     "text": [
      "Learning rate set to 0.024756\n",
      "0:\tlearn: 0.6642483\ttest: 0.6702126\tbest: 0.6702126 (0)\ttotal: 150ms\tremaining: 2m 29s\n",
      "100:\tlearn: 0.1978269\ttest: 0.2850510\tbest: 0.2850510 (100)\ttotal: 245ms\tremaining: 2.18s\n",
      "200:\tlearn: 0.1326734\ttest: 0.2514035\tbest: 0.2514035 (200)\ttotal: 337ms\tremaining: 1.34s\n",
      "300:\tlearn: 0.0924504\ttest: 0.2460094\tbest: 0.2445682 (261)\ttotal: 427ms\tremaining: 991ms\n",
      "400:\tlearn: 0.0688498\ttest: 0.2457637\tbest: 0.2445682 (261)\ttotal: 524ms\tremaining: 782ms\n",
      "500:\tlearn: 0.0517683\ttest: 0.2443082\tbest: 0.2432736 (469)\ttotal: 624ms\tremaining: 621ms\n",
      "600:\tlearn: 0.0408233\ttest: 0.2516766\tbest: 0.2432736 (469)\ttotal: 717ms\tremaining: 476ms\n",
      "700:\tlearn: 0.0337464\ttest: 0.2581240\tbest: 0.2432736 (469)\ttotal: 807ms\tremaining: 344ms\n",
      "800:\tlearn: 0.0280664\ttest: 0.2675312\tbest: 0.2432736 (469)\ttotal: 895ms\tremaining: 222ms\n",
      "900:\tlearn: 0.0236486\ttest: 0.2742137\tbest: 0.2432736 (469)\ttotal: 989ms\tremaining: 109ms\n",
      "999:\tlearn: 0.0207094\ttest: 0.2792894\tbest: 0.2432736 (469)\ttotal: 1.09s\tremaining: 0us\n",
      "\n",
      "bestTest = 0.2432736123\n",
      "bestIteration = 469\n",
      "\n",
      "Shrink model to first 470 iterations.\n"
     ]
    },
    {
     "data": {
      "text/plain": [
       "<catboost.core.CatBoostClassifier at 0x1eaec31cd60>"
      ]
     },
     "execution_count": 34,
     "metadata": {},
     "output_type": "execute_result"
    }
   ],
   "source": [
    "model.fit(X_train, y_train, eval_set=(X_test, y_test))"
   ]
  },
  {
   "cell_type": "code",
   "execution_count": 52,
   "id": "82007fd8",
   "metadata": {},
   "outputs": [
    {
     "data": {
      "text/plain": [
       "<AxesSubplot:>"
      ]
     },
     "execution_count": 52,
     "metadata": {},
     "output_type": "execute_result"
    },
    {
     "data": {
      "image/png": "[encoded data removed]",
      "text/plain": [
       "<Figure size 640x480 with 1 Axes>"
      ]
     },
     "metadata": {},
     "output_type": "display_data"
    }
   ],
   "source": [
    "pd.DataFrame(data=model.feature_importances_, index=X_train.columns).sort_values(by=0).plot(kind='barh')"
   ]
  },
  {
   "cell_type": "code",
   "execution_count": 75,
   "id": "22baa1d1",
   "metadata": {},
   "outputs": [],
   "source": [
    "th = 0.4"
   ]
  },
  {
   "cell_type": "code",
   "execution_count": 76,
   "id": "02460d84",
   "metadata": {},
   "outputs": [],
   "source": [
    "predictions = model.predict_proba(X_test)[:,1] > th"
   ]
  },
  {
   "cell_type": "code",
   "execution_count": 77,
   "id": "b6e913e5",
   "metadata": {},
   "outputs": [
    {
     "name": "stdout",
     "output_type": "stream",
     "text": [
      "              precision    recall  f1-score   support\n",
      "\n",
      "           0       0.97      0.88      0.92       100\n",
      "           1       0.14      0.40      0.21         5\n",
      "\n",
      "    accuracy                           0.86       105\n",
      "   macro avg       0.55      0.64      0.57       105\n",
      "weighted avg       0.93      0.86      0.89       105\n",
      "\n"
     ]
    }
   ],
   "source": [
    "print(classification_report(y_test, predictions))"
   ]
  },
  {
   "cell_type": "code",
   "execution_count": 78,
   "id": "f098d691",
   "metadata": {},
   "outputs": [
    {
     "data": {
      "text/plain": [
       "array([[88, 12],\n",
       "       [ 3,  2]], dtype=int64)"
      ]
     },
     "execution_count": 78,
     "metadata": {},
     "output_type": "execute_result"
    }
   ],
   "source": [
    "confusion_matrix(y_test, predictions)"
   ]
  },
  {
   "cell_type": "code",
   "execution_count": null,
   "id": "f2793a6d",
   "metadata": {},
   "outputs": [],
   "source": []
  }
 ],
 "metadata": {
  "kernelspec": {
   "display_name": "Python 3 (ipykernel)",
   "language": "python",
   "name": "python3"
  },
  "language_info": {
   "codemirror_mode": {
    "name": "ipython",
    "version": 3
   },
   "file_extension": ".py",
   "mimetype": "text/x-python",
   "name": "python",
   "nbconvert_exporter": "python",
   "pygments_lexer": "ipython3",
   "version": "3.9.13"
  }
 },
 "nbformat": 4,
 "nbformat_minor": 5
}
