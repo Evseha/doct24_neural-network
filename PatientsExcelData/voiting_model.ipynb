{
 "cells": [
  {
   "cell_type": "markdown",
   "metadata": {
    "id": "WjIPSP1S8lNV"
   },
   "source": [
    "# Анализ"
   ]
  },
  {
   "cell_type": "code",
   "execution_count": 1,
   "metadata": {
    "id": "dglFzUcA5YWn"
   },
   "outputs": [],
   "source": [
    "import pandas as pd\n",
    "import matplotlib.pyplot as plt\n",
    "import seaborn as sns\n",
    "import numpy as np\n",
    "\n",
    "import re\n",
    "# Предобработка\n",
    "from sklearn.preprocessing import OneHotEncoder, LabelEncoder, StandardScaler \n",
    "# Обучение\n",
    "from sklearn.model_selection import train_test_split, cross_val_score, StratifiedKFold, GridSearchCV \n",
    "# Тест\n",
    "from sklearn.dummy import DummyClassifier\n",
    "from sklearn.metrics import confusion_matrix, mean_absolute_error, f1_score, roc_curve, roc_auc_score, auc\n",
    "# индикатор важности признаков\n",
    "from sklearn.ensemble import RandomForestClassifier\n",
    "# Machine learning models. Модели для объединения\n",
    "from sklearn.svm import SVC\n",
    "from catboost import CatBoostClassifier\n",
    "from xgboost import XGBClassifier\n",
    "# Model evaluation. Алгоритм объединения\n",
    "from sklearn.ensemble import VotingClassifier\n",
    "\n",
    "# Модели для сравнения\n",
    "from sklearn.linear_model import LogisticRegression, Perceptron, SGDClassifier\n",
    "from sklearn.svm import SVC, LinearSVC\n",
    "from sklearn.ensemble import RandomForestClassifier\n",
    "from sklearn.neighbors import KNeighborsClassifier\n",
    "from sklearn.naive_bayes import GaussianNB\n",
    "from sklearn.tree import DecisionTreeClassifier\n",
    "from lightgbm import LGBMClassifier\n",
    "\n",
    "# Remove warnings\n",
    "import warnings\n",
    "warnings.filterwarnings('ignore')\n"
   ]
  },
  {
   "cell_type": "code",
   "execution_count": 2,
   "metadata": {
    "colab": {
     "base_uri": "https://localhost:8080/",
     "height": 716
    },
    "id": "xAUljTGo5BCE",
    "outputId": "54aea759-5f52-4ed9-b7d7-99c8361e86ee"
   },
   "outputs": [
    {
     "data": {
      "text/html": [
       "<div>\n",
       "<style scoped>\n",
       "    .dataframe tbody tr th:only-of-type {\n",
       "        vertical-align: middle;\n",
       "    }\n",
       "\n",
       "    .dataframe tbody tr th {\n",
       "        vertical-align: top;\n",
       "    }\n",
       "\n",
       "    .dataframe thead th {\n",
       "        text-align: right;\n",
       "    }\n",
       "</style>\n",
       "<table border=\"1\" class=\"dataframe\">\n",
       "  <thead>\n",
       "    <tr style=\"text-align: right;\">\n",
       "      <th></th>\n",
       "      <th>admittion</th>\n",
       "      <th>discharge</th>\n",
       "      <th>sex</th>\n",
       "      <th>height</th>\n",
       "      <th>weight</th>\n",
       "      <th>BMI</th>\n",
       "      <th>BSA</th>\n",
       "      <th>birth</th>\n",
       "      <th>Операции (все в ИБ)</th>\n",
       "      <th>Перенесенные опер. (из Анамн.)</th>\n",
       "      <th>...</th>\n",
       "      <th>Unnamed: 32</th>\n",
       "      <th>Unnamed: 33</th>\n",
       "      <th>Unnamed: 34</th>\n",
       "      <th>Unnamed: 35</th>\n",
       "      <th>Unnamed: 36</th>\n",
       "      <th>Unnamed: 37</th>\n",
       "      <th>Unnamed: 38</th>\n",
       "      <th>Unnamed: 39</th>\n",
       "      <th>Unnamed: 40</th>\n",
       "      <th>Unnamed: 41</th>\n",
       "    </tr>\n",
       "  </thead>\n",
       "  <tbody>\n",
       "    <tr>\n",
       "      <th>0</th>\n",
       "      <td>2016-12-12</td>\n",
       "      <td>2017-01-10</td>\n",
       "      <td>m</td>\n",
       "      <td>76</td>\n",
       "      <td>9.70</td>\n",
       "      <td>111.27</td>\n",
       "      <td>0.46</td>\n",
       "      <td>02.01.2016</td>\n",
       "      <td>12.12.2016: (Откр./ИК) Перевязка ранее наложен...</td>\n",
       "      <td></td>\n",
       "      <td>...</td>\n",
       "      <td>NaN</td>\n",
       "      <td>NaN</td>\n",
       "      <td>NaN</td>\n",
       "      <td>NaN</td>\n",
       "      <td>NaN</td>\n",
       "      <td>NaN</td>\n",
       "      <td>NaN</td>\n",
       "      <td>NaN</td>\n",
       "      <td>NaN</td>\n",
       "      <td>NaN</td>\n",
       "    </tr>\n",
       "    <tr>\n",
       "      <th>1</th>\n",
       "      <td>2017-01-13</td>\n",
       "      <td>2017-02-01</td>\n",
       "      <td>f</td>\n",
       "      <td>67</td>\n",
       "      <td>7.34</td>\n",
       "      <td>89.67</td>\n",
       "      <td>0.37</td>\n",
       "      <td>02.02.2016</td>\n",
       "      <td>18.01.2017: (Откр./ИК) Радикальная коррекция д...</td>\n",
       "      <td>15.08.2016г.: Транслюминальная балонная вальву...</td>\n",
       "      <td>...</td>\n",
       "      <td>NaN</td>\n",
       "      <td>NaN</td>\n",
       "      <td>NaN</td>\n",
       "      <td>NaN</td>\n",
       "      <td>NaN</td>\n",
       "      <td>NaN</td>\n",
       "      <td>NaN</td>\n",
       "      <td>NaN</td>\n",
       "      <td>NaN</td>\n",
       "      <td>NaN</td>\n",
       "    </tr>\n",
       "    <tr>\n",
       "      <th>2</th>\n",
       "      <td>2017-01-17</td>\n",
       "      <td>2017-02-09</td>\n",
       "      <td>m</td>\n",
       "      <td>74</td>\n",
       "      <td>8.90</td>\n",
       "      <td>103.46</td>\n",
       "      <td>0.43</td>\n",
       "      <td>21.02.2016</td>\n",
       "      <td>19.01.2017: (Откр./ИК) Перевязка ранее наложен...</td>\n",
       "      <td>29.02.2016 - подключично-легочный анастомоз сп...</td>\n",
       "      <td>...</td>\n",
       "      <td>NaN</td>\n",
       "      <td>NaN</td>\n",
       "      <td>NaN</td>\n",
       "      <td>NaN</td>\n",
       "      <td>NaN</td>\n",
       "      <td>NaN</td>\n",
       "      <td>NaN</td>\n",
       "      <td>NaN</td>\n",
       "      <td>NaN</td>\n",
       "      <td>NaN</td>\n",
       "    </tr>\n",
       "    <tr>\n",
       "      <th>3</th>\n",
       "      <td>2017-01-20</td>\n",
       "      <td>2017-02-21</td>\n",
       "      <td>f</td>\n",
       "      <td>67</td>\n",
       "      <td>6.97</td>\n",
       "      <td>85.15</td>\n",
       "      <td>0.36</td>\n",
       "      <td>02.03.2016</td>\n",
       "      <td>23.01.2017: (Откр./ИК) Наложение двустороннего...</td>\n",
       "      <td></td>\n",
       "      <td>...</td>\n",
       "      <td>NaN</td>\n",
       "      <td>NaN</td>\n",
       "      <td>NaN</td>\n",
       "      <td>NaN</td>\n",
       "      <td>NaN</td>\n",
       "      <td>NaN</td>\n",
       "      <td>NaN</td>\n",
       "      <td>NaN</td>\n",
       "      <td>NaN</td>\n",
       "      <td>NaN</td>\n",
       "    </tr>\n",
       "    <tr>\n",
       "      <th>4</th>\n",
       "      <td>2017-02-13</td>\n",
       "      <td>2017-03-01</td>\n",
       "      <td>m</td>\n",
       "      <td>82</td>\n",
       "      <td>9.29</td>\n",
       "      <td>102.59</td>\n",
       "      <td>0.46</td>\n",
       "      <td>08.03.2016</td>\n",
       "      <td>15.02.2017: (Откр./ИК) Реконструкция путей отт...</td>\n",
       "      <td>13.04.2016. НАЗВАНИЕ ОПЕРАЦИИ: Транслюминальна...</td>\n",
       "      <td>...</td>\n",
       "      <td>NaN</td>\n",
       "      <td>NaN</td>\n",
       "      <td>NaN</td>\n",
       "      <td>NaN</td>\n",
       "      <td>NaN</td>\n",
       "      <td>NaN</td>\n",
       "      <td>NaN</td>\n",
       "      <td>NaN</td>\n",
       "      <td>NaN</td>\n",
       "      <td>NaN</td>\n",
       "    </tr>\n",
       "  </tbody>\n",
       "</table>\n",
       "<p>5 rows × 42 columns</p>\n",
       "</div>"
      ],
      "text/plain": [
       "   admittion  discharge sex  height  weight     BMI   BSA       birth  \\\n",
       "0 2016-12-12 2017-01-10   m      76    9.70  111.27  0.46  02.01.2016   \n",
       "1 2017-01-13 2017-02-01   f      67    7.34   89.67  0.37  02.02.2016   \n",
       "2 2017-01-17 2017-02-09   m      74    8.90  103.46  0.43  21.02.2016   \n",
       "3 2017-01-20 2017-02-21   f      67    6.97   85.15  0.36  02.03.2016   \n",
       "4 2017-02-13 2017-03-01   m      82    9.29  102.59  0.46  08.03.2016   \n",
       "\n",
       "                                 Операции (все в ИБ)  \\\n",
       "0  12.12.2016: (Откр./ИК) Перевязка ранее наложен...   \n",
       "1  18.01.2017: (Откр./ИК) Радикальная коррекция д...   \n",
       "2  19.01.2017: (Откр./ИК) Перевязка ранее наложен...   \n",
       "3  23.01.2017: (Откр./ИК) Наложение двустороннего...   \n",
       "4  15.02.2017: (Откр./ИК) Реконструкция путей отт...   \n",
       "\n",
       "                      Перенесенные опер. (из Анамн.)  ... Unnamed: 32  \\\n",
       "0                                                     ...         NaN   \n",
       "1  15.08.2016г.: Транслюминальная балонная вальву...  ...         NaN   \n",
       "2  29.02.2016 - подключично-легочный анастомоз сп...  ...         NaN   \n",
       "3                                                     ...         NaN   \n",
       "4  13.04.2016. НАЗВАНИЕ ОПЕРАЦИИ: Транслюминальна...  ...         NaN   \n",
       "\n",
       "  Unnamed: 33 Unnamed: 34 Unnamed: 35 Unnamed: 36 Unnamed: 37 Unnamed: 38  \\\n",
       "0         NaN         NaN         NaN         NaN         NaN         NaN   \n",
       "1         NaN         NaN         NaN         NaN         NaN         NaN   \n",
       "2         NaN         NaN         NaN         NaN         NaN         NaN   \n",
       "3         NaN         NaN         NaN         NaN         NaN         NaN   \n",
       "4         NaN         NaN         NaN         NaN         NaN         NaN   \n",
       "\n",
       "  Unnamed: 39 Unnamed: 40 Unnamed: 41  \n",
       "0         NaN         NaN         NaN  \n",
       "1         NaN         NaN         NaN  \n",
       "2         NaN         NaN         NaN  \n",
       "3         NaN         NaN         NaN  \n",
       "4         NaN         NaN         NaN  \n",
       "\n",
       "[5 rows x 42 columns]"
      ]
     },
     "execution_count": 2,
     "metadata": {},
     "output_type": "execute_result"
    }
   ],
   "source": [
    "file_path = 'chd_addmit_300.xlsx'\n",
    "data = pd.read_excel(file_path)\n",
    "data.head()"
   ]
  },
  {
   "cell_type": "code",
   "execution_count": 3,
   "metadata": {
    "colab": {
     "base_uri": "https://localhost:8080/",
     "height": 515
    },
    "id": "ffmNyVEz5eRe",
    "outputId": "a505bffc-63f7-494b-9889-9ac661f98e2c"
   },
   "outputs": [
    {
     "data": {
      "image/png": "[encoded data removed]",
      "text/plain": [
       "<Figure size 640x480 with 2 Axes>"
      ]
     },
     "metadata": {},
     "output_type": "display_data"
    }
   ],
   "source": [
    "sns.heatmap(data.drop('target',axis=1).isnull())\n",
    "plt.show()"
   ]
  },
  {
   "cell_type": "code",
   "execution_count": 4,
   "metadata": {
    "colab": {
     "base_uri": "https://localhost:8080/"
    },
    "id": "f-w6wAj7ZQLN",
    "outputId": "b8a1a432-8dd3-4440-a02e-355a03978734"
   },
   "outputs": [
    {
     "data": {
      "text/plain": [
       "admittion                                          datetime64[ns]\n",
       "discharge                                          datetime64[ns]\n",
       "sex                                                        object\n",
       "height                                                      int64\n",
       "weight                                                    float64\n",
       "BMI                                                       float64\n",
       "BSA                                                       float64\n",
       "birth                                                      object\n",
       "Операции (все в ИБ)                                        object\n",
       "Перенесенные опер. (из Анамн.)                             object\n",
       "Диагноз                                                    object\n",
       "МКБ                                                        object\n",
       "Соп. забол. (из Анамн.)                                    object\n",
       "Медикам. леч. по поводу осн. забол. (из Анамн.)            object\n",
       "Принимаемые препараты (из Анамн.)                          object\n",
       "ЭхоКГ (Из Эпикр. до опер.)                                 object\n",
       "ЭКГ (Из Эпикр. до опер.)                                   object\n",
       "АКГ (Из Эпикр. до опер.)                                   object\n",
       "КТ (Из Эпикр. до опер.)                                    object\n",
       "Операция (основная / первая в ИБ)                          object\n",
       "Дата опер.                                                 object\n",
       "target                                                      int64\n",
       "Unnamed: 22                                               float64\n",
       "Unnamed: 23                                               float64\n",
       "Unnamed: 24                                               float64\n",
       "Unnamed: 25                                               float64\n",
       "Unnamed: 26                                               float64\n",
       "Unnamed: 27                                               float64\n",
       "Unnamed: 28                                               float64\n",
       "Unnamed: 29                                               float64\n",
       "Unnamed: 30                                               float64\n",
       "Unnamed: 31                                               float64\n",
       "Unnamed: 32                                               float64\n",
       "Unnamed: 33                                               float64\n",
       "Unnamed: 34                                               float64\n",
       "Unnamed: 35                                               float64\n",
       "Unnamed: 36                                               float64\n",
       "Unnamed: 37                                               float64\n",
       "Unnamed: 38                                               float64\n",
       "Unnamed: 39                                               float64\n",
       "Unnamed: 40                                               float64\n",
       "Unnamed: 41                                               float64\n",
       "dtype: object"
      ]
     },
     "execution_count": 4,
     "metadata": {},
     "output_type": "execute_result"
    }
   ],
   "source": [
    "data.dtypes"
   ]
  },
  {
   "cell_type": "code",
   "execution_count": 5,
   "metadata": {
    "colab": {
     "base_uri": "https://localhost:8080/"
    },
    "id": "_oFnN2Gzjwvm",
    "outputId": "20373c55-f432-4430-9a61-25221d54daba"
   },
   "outputs": [
    {
     "data": {
      "text/plain": [
       "0    286\n",
       "1     14\n",
       "Name: target, dtype: int64"
      ]
     },
     "execution_count": 5,
     "metadata": {},
     "output_type": "execute_result"
    }
   ],
   "source": [
    "data.target.value_counts()"
   ]
  },
  {
   "cell_type": "markdown",
   "metadata": {
    "id": "33p5FtAp8qXD"
   },
   "source": [
    "# Предобработка."
   ]
  },
  {
   "cell_type": "code",
   "execution_count": 7,
   "metadata": {},
   "outputs": [
    {
     "data": {
      "text/plain": [
       "'Откр./ИК'"
      ]
     },
     "execution_count": 7,
     "metadata": {},
     "output_type": "execute_result"
    }
   ],
   "source": [
    "operation_type_regular_expr = r'\\(([a-zA-Zа-яА-ЯёЁ0-9_.-/ ]+)\\)'\n",
    "\n",
    "def get_first_operation_type(text):\n",
    "    return re.search(operation_type_regular_expr, text).group(1)\n",
    "\n",
    "get_first_operation_type(data['Операции (все в ИБ)'][0])"
   ]
  },
  {
   "cell_type": "code",
   "execution_count": 13,
   "metadata": {},
   "outputs": [
    {
     "data": {
      "text/plain": [
       "array(['Откр./ИК', 'Эндоваск.', 'Закрыт.'], dtype=object)"
      ]
     },
     "execution_count": 13,
     "metadata": {},
     "output_type": "execute_result"
    }
   ],
   "source": [
    "data['operation_type'] = data['Операции (все в ИБ)'].apply(get_first_operation_type)\n",
    "data['operation_type'].unique()"
   ]
  },
  {
   "cell_type": "code",
   "execution_count": 14,
   "metadata": {
    "id": "VLYV-TLu8tWV"
   },
   "outputs": [],
   "source": [
    "# Делаем заглушки\n",
    "for col in data.columns.tolist():\n",
    "  if data[col].dtypes in ['float64', 'int64']:\n",
    "    data[col] = data[col].fillna(data[col].median())\n",
    "\n",
    "col = 'sex'\n",
    "data[col] = data[col].fillna(data[col].value_counts().index[0])\n",
    "\n",
    "for col in data.columns.tolist():\n",
    "  if data[col].dtypes == 'object':\n",
    "    data[col] = data[col].fillna('Нет данных')"
   ]
  },
  {
   "cell_type": "code",
   "execution_count": 15,
   "metadata": {
    "id": "nAWjDiAbYwx-"
   },
   "outputs": [],
   "source": [
    "data = data.loc[:, ['sex','height','weight','BMI','BSA', 'target', 'operation_type']]"
   ]
  },
  {
   "cell_type": "code",
   "execution_count": 16,
   "metadata": {
    "colab": {
     "base_uri": "https://localhost:8080/",
     "height": 424
    },
    "id": "a5XD-Dv992TJ",
    "outputId": "42373caf-9223-4731-92ff-e59c39bc9a22"
   },
   "outputs": [
    {
     "data": {
      "text/html": [
       "<div>\n",
       "<style scoped>\n",
       "    .dataframe tbody tr th:only-of-type {\n",
       "        vertical-align: middle;\n",
       "    }\n",
       "\n",
       "    .dataframe tbody tr th {\n",
       "        vertical-align: top;\n",
       "    }\n",
       "\n",
       "    .dataframe thead th {\n",
       "        text-align: right;\n",
       "    }\n",
       "</style>\n",
       "<table border=\"1\" class=\"dataframe\">\n",
       "  <thead>\n",
       "    <tr style=\"text-align: right;\">\n",
       "      <th></th>\n",
       "      <th>sex</th>\n",
       "      <th>height</th>\n",
       "      <th>weight</th>\n",
       "      <th>BMI</th>\n",
       "      <th>BSA</th>\n",
       "      <th>operation_type</th>\n",
       "    </tr>\n",
       "  </thead>\n",
       "  <tbody>\n",
       "    <tr>\n",
       "      <th>99</th>\n",
       "      <td>0</td>\n",
       "      <td>73</td>\n",
       "      <td>7.000</td>\n",
       "      <td>81.93</td>\n",
       "      <td>0.38</td>\n",
       "      <td>1</td>\n",
       "    </tr>\n",
       "    <tr>\n",
       "      <th>119</th>\n",
       "      <td>1</td>\n",
       "      <td>54</td>\n",
       "      <td>4.408</td>\n",
       "      <td>59.99</td>\n",
       "      <td>0.26</td>\n",
       "      <td>1</td>\n",
       "    </tr>\n",
       "    <tr>\n",
       "      <th>221</th>\n",
       "      <td>0</td>\n",
       "      <td>61</td>\n",
       "      <td>4.322</td>\n",
       "      <td>55.34</td>\n",
       "      <td>0.27</td>\n",
       "      <td>1</td>\n",
       "    </tr>\n",
       "    <tr>\n",
       "      <th>37</th>\n",
       "      <td>0</td>\n",
       "      <td>69</td>\n",
       "      <td>7.595</td>\n",
       "      <td>91.43</td>\n",
       "      <td>0.38</td>\n",
       "      <td>1</td>\n",
       "    </tr>\n",
       "    <tr>\n",
       "      <th>232</th>\n",
       "      <td>0</td>\n",
       "      <td>44</td>\n",
       "      <td>2.971</td>\n",
       "      <td>43.81</td>\n",
       "      <td>0.20</td>\n",
       "      <td>2</td>\n",
       "    </tr>\n",
       "    <tr>\n",
       "      <th>...</th>\n",
       "      <td>...</td>\n",
       "      <td>...</td>\n",
       "      <td>...</td>\n",
       "      <td>...</td>\n",
       "      <td>...</td>\n",
       "      <td>...</td>\n",
       "    </tr>\n",
       "    <tr>\n",
       "      <th>8</th>\n",
       "      <td>1</td>\n",
       "      <td>79</td>\n",
       "      <td>9.200</td>\n",
       "      <td>103.51</td>\n",
       "      <td>0.45</td>\n",
       "      <td>2</td>\n",
       "    </tr>\n",
       "    <tr>\n",
       "      <th>73</th>\n",
       "      <td>0</td>\n",
       "      <td>70</td>\n",
       "      <td>7.740</td>\n",
       "      <td>92.51</td>\n",
       "      <td>0.39</td>\n",
       "      <td>0</td>\n",
       "    </tr>\n",
       "    <tr>\n",
       "      <th>118</th>\n",
       "      <td>1</td>\n",
       "      <td>58</td>\n",
       "      <td>3.240</td>\n",
       "      <td>42.54</td>\n",
       "      <td>0.23</td>\n",
       "      <td>2</td>\n",
       "    </tr>\n",
       "    <tr>\n",
       "      <th>189</th>\n",
       "      <td>0</td>\n",
       "      <td>55</td>\n",
       "      <td>5.740</td>\n",
       "      <td>77.40</td>\n",
       "      <td>0.30</td>\n",
       "      <td>2</td>\n",
       "    </tr>\n",
       "    <tr>\n",
       "      <th>206</th>\n",
       "      <td>1</td>\n",
       "      <td>52</td>\n",
       "      <td>3.400</td>\n",
       "      <td>47.15</td>\n",
       "      <td>0.22</td>\n",
       "      <td>0</td>\n",
       "    </tr>\n",
       "  </tbody>\n",
       "</table>\n",
       "<p>225 rows × 6 columns</p>\n",
       "</div>"
      ],
      "text/plain": [
       "     sex  height  weight     BMI   BSA  operation_type\n",
       "99     0      73   7.000   81.93  0.38               1\n",
       "119    1      54   4.408   59.99  0.26               1\n",
       "221    0      61   4.322   55.34  0.27               1\n",
       "37     0      69   7.595   91.43  0.38               1\n",
       "232    0      44   2.971   43.81  0.20               2\n",
       "..   ...     ...     ...     ...   ...             ...\n",
       "8      1      79   9.200  103.51  0.45               2\n",
       "73     0      70   7.740   92.51  0.39               0\n",
       "118    1      58   3.240   42.54  0.23               2\n",
       "189    0      55   5.740   77.40  0.30               2\n",
       "206    1      52   3.400   47.15  0.22               0\n",
       "\n",
       "[225 rows x 6 columns]"
      ]
     },
     "metadata": {},
     "output_type": "display_data"
    }
   ],
   "source": [
    "# Feature Transformation. Converting all features.\n",
    "# Reversing str to num dtype via LabelEncoder\n",
    "for col in data.drop('target', axis=1).dtypes[(data.dtypes == 'object') \n",
    "                                              | (data.dtypes == 'category')].index.tolist():\n",
    "    data[col] = LabelEncoder().fit_transform(data[col])\n",
    "\n",
    "# Разбьем данные на обучающую и валидационную выборки в соотношении 75:25\n",
    "y = data['target']\n",
    "X = data.drop('target',axis=1)\n",
    "X_train, X_test, y_train, y_test = train_test_split(X, y, test_size=0.25, random_state=5)\n",
    "\n",
    "# Cтандартизация данных\n",
    "scaler = StandardScaler()\n",
    "scaler.fit(X_train)\n",
    "X_train_scale = scaler.transform(X_train)\n",
    "X_test_scale = scaler.transform(X_test)\n",
    "display(X_train)"
   ]
  },
  {
   "cell_type": "markdown",
   "metadata": {
    "id": "DA26uA9I8uRX"
   },
   "source": [
    "# Модель"
   ]
  },
  {
   "cell_type": "markdown",
   "metadata": {
    "id": "TpqN-6-AgIK9"
   },
   "source": [
    "## Важность признаков"
   ]
  },
  {
   "cell_type": "code",
   "execution_count": 17,
   "metadata": {
    "colab": {
     "base_uri": "https://localhost:8080/",
     "height": 281
    },
    "id": "mCicPP87N0TX",
    "outputId": "a3e3473a-5ccc-4b81-9ae1-d6a2b3ac7577"
   },
   "outputs": [
    {
     "data": {
      "image/png": "[encoded data removed]",
      "text/plain": [
       "<Figure size 640x480 with 1 Axes>"
      ]
     },
     "metadata": {},
     "output_type": "display_data"
    }
   ],
   "source": [
    "# Важность признаков\n",
    "best_rf = RandomForestClassifier(random_state = 5).fit(X_train,y_train)\n",
    "feat_importances = pd.Series(best_rf.feature_importances_, index=X_train.columns)\n",
    "feat_importance_names = feat_importances[feat_importances>0].sort_values(ascending=False).index.tolist()\n",
    "feat_importances.nlargest().plot(kind='barh')\n",
    "plt.title('Важность признаков')\n",
    "plt.show()"
   ]
  },
  {
   "cell_type": "markdown",
   "metadata": {
    "id": "yRzkISe3gK-Z"
   },
   "source": [
    "## Обучение"
   ]
  },
  {
   "cell_type": "code",
   "execution_count": 18,
   "metadata": {
    "colab": {
     "base_uri": "https://localhost:8080/"
    },
    "id": "0dqtriixWrqB",
    "outputId": "cb2ff7d6-6706-4e8e-e1aa-3bb7dc613242"
   },
   "outputs": [
    {
     "name": "stdout",
     "output_type": "stream",
     "text": [
      "Fitting 5 folds for each of 55 candidates, totalling 275 fits\n",
      "CPU times: total: 219 ms\n",
      "Wall time: 33.4 s\n"
     ]
    },
    {
     "data": {
      "text/plain": [
       "{'C': 0.1, 'gamma': 0.1, 'kernel': 'rbf'}"
      ]
     },
     "execution_count": 18,
     "metadata": {},
     "output_type": "execute_result"
    }
   ],
   "source": [
    "%%time\n",
    "svc = SVC(probability = True)\n",
    "param_grid = tuned_parameters = [{'kernel': ['rbf'], 'gamma': [.1,.5,1,2,5,10],\n",
    "                                  'C': [.1, 1, 10, 100, 1000]},\n",
    "                                 {'kernel': ['linear'], 'C': [.1, 1, 10, 100, 1000]},\n",
    "                                 {'kernel': ['poly'], 'degree' : [2,3,4,5], 'C': [.1, 1, 10, 100, 1000]}]\n",
    "clf_svc = GridSearchCV(svc, param_grid = param_grid, cv = 5, verbose = True, n_jobs = 5)\n",
    "best_clf_svc = clf_svc.fit(X_train_scale,y_train)\n",
    "best_clf_svc.best_params_"
   ]
  },
  {
   "cell_type": "code",
   "execution_count": 19,
   "metadata": {
    "colab": {
     "base_uri": "https://localhost:8080/"
    },
    "id": "FBZ8dpJNcO2b",
    "outputId": "4825cf66-2fa4-41d5-cac3-bd5448225644"
   },
   "outputs": [
    {
     "name": "stdout",
     "output_type": "stream",
     "text": [
      "Fitting 5 folds for each of 5 candidates, totalling 25 fits\n",
      "CPU times: total: 3.86 s\n",
      "Wall time: 16.6 s\n"
     ]
    },
    {
     "data": {
      "text/plain": [
       "{'depth': 6}"
      ]
     },
     "execution_count": 19,
     "metadata": {},
     "output_type": "execute_result"
    }
   ],
   "source": [
    "%%time\n",
    "cb = CatBoostClassifier(silent=True)\n",
    "param_grid = {'depth': [6,7,8,9,10],\n",
    "#              'max_bin': [None,32,46,100,254],\n",
    "#              'l2_leaf_reg': [None,2,10,20,30],\n",
    "#              'bagging_temperature': [None,0,0.5,1],\n",
    "#              'random_strength': [None,1,5,10]\n",
    "              }\n",
    "clf_cb = GridSearchCV(cb, param_grid = param_grid, cv = 5, verbose = True, n_jobs = 5)\n",
    "best_clf_cb = clf_cb.fit(X_train_scale,y_train)\n",
    "best_clf_cb.best_params_"
   ]
  },
  {
   "cell_type": "code",
   "execution_count": 20,
   "metadata": {
    "colab": {
     "base_uri": "https://localhost:8080/"
    },
    "id": "AYZLN54PdV5l",
    "outputId": "e9c6dbbb-ec2e-4bb3-ec47-d94e0bb6d788"
   },
   "outputs": [
    {
     "name": "stdout",
     "output_type": "stream",
     "text": [
      "Fitting 5 folds for each of 3 candidates, totalling 15 fits\n",
      "[16:36:09] WARNING: C:/buildkite-agent/builds/buildkite-windows-cpu-autoscaling-group-i-0fc7796c793e6356f-1/xgboost/xgboost-ci-windows/src/learner.cc:767: \n",
      "Parameters: { \"probability\" } are not used.\n",
      "\n",
      "CPU times: total: 141 ms\n",
      "Wall time: 217 ms\n"
     ]
    },
    {
     "data": {
      "text/plain": [
       "{'max_depth': 3}"
      ]
     },
     "execution_count": 20,
     "metadata": {},
     "output_type": "execute_result"
    }
   ],
   "source": [
    "%%time\n",
    "xb = XGBClassifier(probability=True)\n",
    "param_grid = {'max_depth': [3, 4, 5],\n",
    "#              'learning_rate': [0.1, 0.2, 0.3],\n",
    "#              'n_estimators': [50, 100, 150],\n",
    "#              'gamma': [0, 0.1, 0.2],\n",
    "#              'min_child_weight': [0, 0.5, 1],\n",
    " #             'subsample': [0.7, 0.8, 0.9, 1],\n",
    "#              'colsample_bytree': [0.6, 0.8, 1],\n",
    "#              'reg_alpha': [0, 1e-2, 1, 1e1],\n",
    "#              'reg_lambda': [0, 1e-2, 1, 1e1]\n",
    "              }\n",
    "clf_xb = GridSearchCV(xb, param_grid = param_grid, cv = 5, verbose = True, n_jobs = 5)\n",
    "best_clf_xb = clf_xb.fit(X_train_scale,y_train)\n",
    "best_clf_xb.best_params_"
   ]
  },
  {
   "cell_type": "markdown",
   "metadata": {
    "id": "49_xYKDbgR32"
   },
   "source": [
    "## Голосование"
   ]
  },
  {
   "cell_type": "code",
   "execution_count": 21,
   "metadata": {
    "colab": {
     "base_uri": "https://localhost:8080/",
     "height": 719
    },
    "id": "vqdkcZtg21Bw",
    "outputId": "b38f7282-21e3-4d8f-9f54-854868a6efa7"
   },
   "outputs": [
    {
     "name": "stdout",
     "output_type": "stream",
     "text": [
      "[16:36:09] WARNING: C:/buildkite-agent/builds/buildkite-windows-cpu-autoscaling-group-i-0fc7796c793e6356f-1/xgboost/xgboost-ci-windows/src/learner.cc:767: \n",
      "Parameters: { \"probability\" } are not used.\n",
      "\n",
      "[16:36:10] WARNING: C:/buildkite-agent/builds/buildkite-windows-cpu-autoscaling-group-i-0fc7796c793e6356f-1/xgboost/xgboost-ci-windows/src/learner.cc:767: \n",
      "Parameters: { \"probability\" } are not used.\n",
      "\n",
      "[16:36:11] WARNING: C:/buildkite-agent/builds/buildkite-windows-cpu-autoscaling-group-i-0fc7796c793e6356f-1/xgboost/xgboost-ci-windows/src/learner.cc:767: \n",
      "Parameters: { \"probability\" } are not used.\n",
      "\n",
      "[16:36:12] WARNING: C:/buildkite-agent/builds/buildkite-windows-cpu-autoscaling-group-i-0fc7796c793e6356f-1/xgboost/xgboost-ci-windows/src/learner.cc:767: \n",
      "Parameters: { \"probability\" } are not used.\n",
      "\n",
      "[16:36:12] WARNING: C:/buildkite-agent/builds/buildkite-windows-cpu-autoscaling-group-i-0fc7796c793e6356f-1/xgboost/xgboost-ci-windows/src/learner.cc:767: \n",
      "Parameters: { \"probability\" } are not used.\n",
      "\n"
     ]
    },
    {
     "data": {
      "text/html": [
       "<div>\n",
       "<style scoped>\n",
       "    .dataframe tbody tr th:only-of-type {\n",
       "        vertical-align: middle;\n",
       "    }\n",
       "\n",
       "    .dataframe tbody tr th {\n",
       "        vertical-align: top;\n",
       "    }\n",
       "\n",
       "    .dataframe thead th {\n",
       "        text-align: right;\n",
       "    }\n",
       "</style>\n",
       "<table border=\"1\" class=\"dataframe\">\n",
       "  <thead>\n",
       "    <tr style=\"text-align: right;\">\n",
       "      <th></th>\n",
       "      <th>Fold_1_Prob_1</th>\n",
       "      <th>Fold_2_Prob_1</th>\n",
       "      <th>Fold_3_Prob_1</th>\n",
       "      <th>Fold_4_Prob_1</th>\n",
       "      <th>Fold_5_Prob_1</th>\n",
       "      <th>1</th>\n",
       "      <th>pred</th>\n",
       "    </tr>\n",
       "  </thead>\n",
       "  <tbody>\n",
       "    <tr>\n",
       "      <th>0</th>\n",
       "      <td>0.028290</td>\n",
       "      <td>0.026292</td>\n",
       "      <td>0.025696</td>\n",
       "      <td>0.022318</td>\n",
       "      <td>0.018266</td>\n",
       "      <td>0.024172</td>\n",
       "      <td>0</td>\n",
       "    </tr>\n",
       "    <tr>\n",
       "      <th>1</th>\n",
       "      <td>0.031477</td>\n",
       "      <td>0.029219</td>\n",
       "      <td>0.034355</td>\n",
       "      <td>0.022048</td>\n",
       "      <td>0.021693</td>\n",
       "      <td>0.027758</td>\n",
       "      <td>0</td>\n",
       "    </tr>\n",
       "    <tr>\n",
       "      <th>2</th>\n",
       "      <td>0.040416</td>\n",
       "      <td>0.048120</td>\n",
       "      <td>0.031300</td>\n",
       "      <td>0.030061</td>\n",
       "      <td>0.029675</td>\n",
       "      <td>0.035914</td>\n",
       "      <td>0</td>\n",
       "    </tr>\n",
       "    <tr>\n",
       "      <th>3</th>\n",
       "      <td>0.026930</td>\n",
       "      <td>0.024835</td>\n",
       "      <td>0.024717</td>\n",
       "      <td>0.020227</td>\n",
       "      <td>0.018528</td>\n",
       "      <td>0.023047</td>\n",
       "      <td>0</td>\n",
       "    </tr>\n",
       "    <tr>\n",
       "      <th>4</th>\n",
       "      <td>0.027775</td>\n",
       "      <td>0.090031</td>\n",
       "      <td>0.024941</td>\n",
       "      <td>0.035203</td>\n",
       "      <td>0.042211</td>\n",
       "      <td>0.044032</td>\n",
       "      <td>0</td>\n",
       "    </tr>\n",
       "    <tr>\n",
       "      <th>...</th>\n",
       "      <td>...</td>\n",
       "      <td>...</td>\n",
       "      <td>...</td>\n",
       "      <td>...</td>\n",
       "      <td>...</td>\n",
       "      <td>...</td>\n",
       "      <td>...</td>\n",
       "    </tr>\n",
       "    <tr>\n",
       "      <th>70</th>\n",
       "      <td>0.024992</td>\n",
       "      <td>0.023704</td>\n",
       "      <td>0.022905</td>\n",
       "      <td>0.019554</td>\n",
       "      <td>0.015789</td>\n",
       "      <td>0.021389</td>\n",
       "      <td>0</td>\n",
       "    </tr>\n",
       "    <tr>\n",
       "      <th>71</th>\n",
       "      <td>0.035367</td>\n",
       "      <td>0.028539</td>\n",
       "      <td>0.033192</td>\n",
       "      <td>0.026065</td>\n",
       "      <td>0.017887</td>\n",
       "      <td>0.028210</td>\n",
       "      <td>0</td>\n",
       "    </tr>\n",
       "    <tr>\n",
       "      <th>72</th>\n",
       "      <td>0.027498</td>\n",
       "      <td>0.026978</td>\n",
       "      <td>0.025113</td>\n",
       "      <td>0.022041</td>\n",
       "      <td>0.021832</td>\n",
       "      <td>0.024692</td>\n",
       "      <td>0</td>\n",
       "    </tr>\n",
       "    <tr>\n",
       "      <th>73</th>\n",
       "      <td>0.027517</td>\n",
       "      <td>0.026375</td>\n",
       "      <td>0.027577</td>\n",
       "      <td>0.019894</td>\n",
       "      <td>0.014409</td>\n",
       "      <td>0.023155</td>\n",
       "      <td>0</td>\n",
       "    </tr>\n",
       "    <tr>\n",
       "      <th>74</th>\n",
       "      <td>0.031620</td>\n",
       "      <td>0.029167</td>\n",
       "      <td>0.030403</td>\n",
       "      <td>0.024224</td>\n",
       "      <td>0.026621</td>\n",
       "      <td>0.028407</td>\n",
       "      <td>0</td>\n",
       "    </tr>\n",
       "  </tbody>\n",
       "</table>\n",
       "<p>75 rows × 7 columns</p>\n",
       "</div>"
      ],
      "text/plain": [
       "    Fold_1_Prob_1  Fold_2_Prob_1  Fold_3_Prob_1  Fold_4_Prob_1  Fold_5_Prob_1  \\\n",
       "0        0.028290       0.026292       0.025696       0.022318       0.018266   \n",
       "1        0.031477       0.029219       0.034355       0.022048       0.021693   \n",
       "2        0.040416       0.048120       0.031300       0.030061       0.029675   \n",
       "3        0.026930       0.024835       0.024717       0.020227       0.018528   \n",
       "4        0.027775       0.090031       0.024941       0.035203       0.042211   \n",
       "..            ...            ...            ...            ...            ...   \n",
       "70       0.024992       0.023704       0.022905       0.019554       0.015789   \n",
       "71       0.035367       0.028539       0.033192       0.026065       0.017887   \n",
       "72       0.027498       0.026978       0.025113       0.022041       0.021832   \n",
       "73       0.027517       0.026375       0.027577       0.019894       0.014409   \n",
       "74       0.031620       0.029167       0.030403       0.024224       0.026621   \n",
       "\n",
       "           1  pred  \n",
       "0   0.024172     0  \n",
       "1   0.027758     0  \n",
       "2   0.035914     0  \n",
       "3   0.023047     0  \n",
       "4   0.044032     0  \n",
       "..       ...   ...  \n",
       "70  0.021389     0  \n",
       "71  0.028210     0  \n",
       "72  0.024692     0  \n",
       "73  0.023155     0  \n",
       "74  0.028407     0  \n",
       "\n",
       "[75 rows x 7 columns]"
      ]
     },
     "metadata": {},
     "output_type": "display_data"
    },
    {
     "name": "stdout",
     "output_type": "stream",
     "text": [
      "CPU times: total: 18.4 s\n",
      "Wall time: 3.84 s\n"
     ]
    }
   ],
   "source": [
    "%%time\n",
    "\n",
    "N = 5\n",
    "cv = StratifiedKFold(n_splits=N, random_state=N, shuffle=True)\n",
    "\n",
    "# голосование моделей SVC, CatBoostClassifier, XGBClassifier\n",
    "classifiers = []\n",
    "classifiers.append(best_clf_svc.best_estimator_)\n",
    "classifiers.append(best_clf_cb.best_estimator_)\n",
    "classifiers.append(best_clf_xb.best_estimator_)\n",
    "\n",
    "estimators = []\n",
    "for classifier in classifiers:\n",
    "    estimators.append((str(classifier)[:-2], classifier))\n",
    "\n",
    "voting_clf_soft = VotingClassifier(estimators = estimators, voting = 'soft')\n",
    "\n",
    "y_train = y_train.reset_index(drop=True)\n",
    "# predict_proba\n",
    "probs = pd.DataFrame()\n",
    "for fold, (trn_idx, val_idx) in enumerate(cv.split(X_train_scale, y_train), 1):    \n",
    "    # учим единую модель\n",
    "    voting_clf_soft.fit(X_train_scale[trn_idx], y_train[trn_idx])\n",
    "    probs.loc[:, 'Fold_{}_Prob_1'.format(fold)] = voting_clf_soft.predict_proba(X_test_scale)[:, 1]\n",
    "    \n",
    "probs['1'] = probs.sum(axis=1) / N\n",
    "probs['pred'] = probs['1'].apply(lambda x: 1 if x>=0.5 else 0)\n",
    "\n",
    "display(probs)"
   ]
  },
  {
   "cell_type": "markdown",
   "metadata": {
    "id": "z1pW_yHx2y9E"
   },
   "source": [
    "## Модели"
   ]
  },
  {
   "cell_type": "code",
   "execution_count": 22,
   "metadata": {
    "colab": {
     "base_uri": "https://localhost:8080/",
     "height": 573
    },
    "id": "_NeK0Y9e8KIB",
    "outputId": "ade68439-e3f4-47e3-8a24-94e006672a21"
   },
   "outputs": [
    {
     "name": "stdout",
     "output_type": "stream",
     "text": [
      "[16:36:18] WARNING: C:/buildkite-agent/builds/buildkite-windows-cpu-autoscaling-group-i-0fc7796c793e6356f-1/xgboost/xgboost-ci-windows/src/learner.cc:767: \n",
      "Parameters: { \"probability\" } are not used.\n",
      "\n",
      "[16:36:19] WARNING: C:/buildkite-agent/builds/buildkite-windows-cpu-autoscaling-group-i-0fc7796c793e6356f-1/xgboost/xgboost-ci-windows/src/learner.cc:767: \n",
      "Parameters: { \"probability\" } are not used.\n",
      "\n",
      "[16:36:19] WARNING: C:/buildkite-agent/builds/buildkite-windows-cpu-autoscaling-group-i-0fc7796c793e6356f-1/xgboost/xgboost-ci-windows/src/learner.cc:767: \n",
      "Parameters: { \"probability\" } are not used.\n",
      "\n",
      "[16:36:20] WARNING: C:/buildkite-agent/builds/buildkite-windows-cpu-autoscaling-group-i-0fc7796c793e6356f-1/xgboost/xgboost-ci-windows/src/learner.cc:767: \n",
      "Parameters: { \"probability\" } are not used.\n",
      "\n",
      "[16:36:21] WARNING: C:/buildkite-agent/builds/buildkite-windows-cpu-autoscaling-group-i-0fc7796c793e6356f-1/xgboost/xgboost-ci-windows/src/learner.cc:767: \n",
      "Parameters: { \"probability\" } are not used.\n",
      "\n",
      "Algorithm: Perceptron, Score: 0.6870247323735696, Std: 0.15197214134418602\n"
     ]
    },
    {
     "data": {
      "image/png": "[encoded data removed]",
      "text/plain": [
       "<Figure size 640x480 with 1 Axes>"
      ]
     },
     "metadata": {},
     "output_type": "display_data"
    }
   ],
   "source": [
    "classifiers = []\n",
    "classifiers.append(LogisticRegression())\n",
    "classifiers.append(SVC())\n",
    "classifiers.append(KNeighborsClassifier(n_neighbors = 5))\n",
    "classifiers.append(GaussianNB())\n",
    "classifiers.append(Perceptron())\n",
    "classifiers.append(LinearSVC())\n",
    "classifiers.append(SGDClassifier())\n",
    "classifiers.append(DecisionTreeClassifier())\n",
    "classifiers.append(RandomForestClassifier())\n",
    "classifiers.append(CatBoostClassifier(silent=True))\n",
    "classifiers.append(LGBMClassifier())\n",
    "classifiers.append(XGBClassifier())\n",
    "classifiers.append(voting_clf_soft)\n",
    "\n",
    "\n",
    "cv_results = []\n",
    "for classifier in classifiers:\n",
    "    cv_results.append(cross_val_score(classifier, X_train, y_train, scoring = 'roc_auc', cv = 5))\n",
    "\n",
    "cv_mean = []\n",
    "cv_std = []\n",
    "for cv_result in cv_results:\n",
    "    cv_mean.append(cv_result.mean())\n",
    "    cv_std.append(cv_result.std())\n",
    "    \n",
    "cv_res = pd.DataFrame({'Cross Validation Mean': cv_mean, \n",
    "                       'Cross Validation Std': cv_std, \n",
    "                       'Algorithm': ['Logistic Regression', 'Support Vector Machines',\n",
    "                                     'KNN', 'Gausian Naive Bayes', \n",
    "                                     'Perceptron', 'Linear SVC', \n",
    "                                     'Stochastic Gradient Descent', 'Decision Tree', \n",
    "                                     'Random Forest', 'CatBoost', \n",
    "                                     'LightGBM', 'XGBoost',\n",
    "                                     'Voting_clf_soft']})\n",
    "cv_res.sort_values(by = 'Cross Validation Mean', ascending = False, ignore_index = True)\n",
    "\n",
    "sns.barplot(x='Cross Validation Mean', y='Algorithm', \n",
    "            data = cv_res, order = cv_res.sort_values(by = 'Cross Validation Mean', \n",
    "                                                      ascending = False)['Algorithm'], \n",
    "            palette = 'Set3', **{'xerr': cv_std})\n",
    "plt.ylabel('Algorithm')\n",
    "plt.title('Cross Validation Scores')\n",
    "\n",
    "result = cv_res.sort_values('Cross Validation Mean', ascending=False).reset_index()\n",
    "a, sc,st =  result['Algorithm'][0], result['Cross Validation Mean'][0], result['Cross Validation Std'][0]\n",
    "print(f'Algorithm: {a}, Score: {sc}, Std: {st}')"
   ]
  },
  {
   "cell_type": "markdown",
   "metadata": {
    "id": "A8CQVLufgc0O"
   },
   "source": [
    "## Тест"
   ]
  },
  {
   "cell_type": "code",
   "execution_count": 23,
   "metadata": {
    "colab": {
     "base_uri": "https://localhost:8080/"
    },
    "id": "_ivduBH8VIDR",
    "outputId": "b6130425-e3b5-4216-ef69-9fcc70629bf6"
   },
   "outputs": [
    {
     "name": "stdout",
     "output_type": "stream",
     "text": [
      "Матрица ошибок\n",
      "Размер: 225\n",
      "Соотношение\n",
      "0    213\n",
      "1     12\n",
      "Name: target, dtype: int64\n",
      "[[213   0]\n",
      " [ 12   0]]\n"
     ]
    }
   ],
   "source": [
    "model = voting_clf_soft #GaussianNB().fit(X_train_scale,y_train)\n",
    "\n",
    "predicted_train = model.predict(X_train)\n",
    "print(\"Матрица ошибок\")\n",
    "print(\"Размер:\",y_train.shape[0])\n",
    "print(\"Соотношение\")\n",
    "print(y_train.value_counts())\n",
    "print(confusion_matrix(y_train,predicted_train))"
   ]
  },
  {
   "cell_type": "code",
   "execution_count": 24,
   "metadata": {
    "colab": {
     "base_uri": "https://localhost:8080/",
     "height": 434
    },
    "id": "BpMWavZOQoO6",
    "outputId": "39414198-c08e-4e7f-99bd-b30d7e02deec"
   },
   "outputs": [
    {
     "name": "stdout",
     "output_type": "stream",
     "text": [
      "DummyClassifier: 0.97\n",
      "0    0.953333\n",
      "1    0.046667\n",
      "Name: target, dtype: float64\n",
      "\n",
      "AUC-ROC: 0.73\n"
     ]
    },
    {
     "data": {
      "image/png": "[encoded data removed]",
      "text/plain": [
       "<Figure size 640x480 with 1 Axes>"
      ]
     },
     "metadata": {},
     "output_type": "display_data"
    },
    {
     "name": "stdout",
     "output_type": "stream",
     "text": [
      "CPU times: total: 641 ms\n",
      "Wall time: 131 ms\n"
     ]
    }
   ],
   "source": [
    "%%time\n",
    "predictions_train = model.predict(X_train)\n",
    "predictions_test = model.predict(X_test)\n",
    "\n",
    "clf = DummyClassifier(strategy='most_frequent', random_state=5)\n",
    "clf.fit(X_train, y_train)\n",
    "print(\"DummyClassifier: %.2f\" % clf.score(X_test, y_test))\n",
    "print(data['target'].value_counts() / data.shape[0])\n",
    "print()\n",
    "\n",
    "probabilities_test = model.predict_proba(X_test)\n",
    "probabilities_one_test = probabilities_test[:, 1]\n",
    "auc_roc = roc_auc_score(y_test, probabilities_one_test)\n",
    "print(\"AUC-ROC: %.2f\" % auc_roc)\n",
    "\n",
    "fpr, tpr, thresholds = roc_curve(y_test, probabilities_one_test)\n",
    "plt.figure()\n",
    "plt.plot(fpr, tpr)\n",
    "plt.plot([0, 1], [0, 1], linestyle='--')\n",
    "plt.xlim([0.0, 1.0])\n",
    "plt.ylim([0.0, 1.0])\n",
    "plt.xlabel('False Positive Rate')\n",
    "plt.ylabel('True Positive Rate')\n",
    "plt.title('ROC-кривая')\n",
    "plt.show()"
   ]
  },
  {
   "cell_type": "code",
   "execution_count": null,
   "metadata": {},
   "outputs": [],
   "source": []
  }
 ],
 "metadata": {
  "colab": {
   "provenance": []
  },
  "kernelspec": {
   "display_name": "Python 3 (ipykernel)",
   "language": "python",
   "name": "python3"
  },
  "language_info": {
   "codemirror_mode": {
    "name": "ipython",
    "version": 3
   },
   "file_extension": ".py",
   "mimetype": "text/x-python",
   "name": "python",
   "nbconvert_exporter": "python",
   "pygments_lexer": "ipython3",
   "version": "3.9.13"
  }
 },
 "nbformat": 4,
 "nbformat_minor": 1
}
