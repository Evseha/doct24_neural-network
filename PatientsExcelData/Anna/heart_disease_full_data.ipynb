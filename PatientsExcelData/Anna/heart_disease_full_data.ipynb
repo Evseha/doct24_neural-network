{
 "cells": [
  {
   "cell_type": "code",
   "execution_count": 1,
   "id": "078c7278-51e1-4bdf-9067-3e415cf4f72a",
   "metadata": {
    "collapsed": true,
    "jupyter": {
     "outputs_hidden": true
    },
    "tags": []
   },
   "outputs": [
    {
     "name": "stderr",
     "output_type": "stream",
     "text": [
      "[nltk_data] Downloading package stopwords to\n",
      "[nltk_data]     /Users/anshilina/nltk_data...\n",
      "[nltk_data]   Package stopwords is already up-to-date!\n"
     ]
    }
   ],
   "source": [
    "import pandas as pd\n",
    "import numpy as np\n",
    "import time\n",
    "\n",
    "from pymystem3 import Mystem\n",
    "import re\n",
    "import nltk\n",
    "from nltk.corpus import stopwords\n",
    "nltk.download('stopwords')\n",
    "\n",
    "import torch\n",
    "import transformers \n",
    "from tqdm import notebook\n",
    "\n",
    "from sklearn.feature_extraction.text import TfidfVectorizer\n",
    "from sklearn.preprocessing import StandardScaler, OneHotEncoder\n",
    "from sklearn.compose import ColumnTransformer\n",
    "from sklearn.model_selection import train_test_split, StratifiedKFold, GridSearchCV, RandomizedSearchCV, cross_val_score\n",
    "from sklearn.tree import DecisionTreeClassifier\n",
    "from sklearn.linear_model import LogisticRegression\n",
    "from sklearn.ensemble import RandomForestClassifier\n",
    "from sklearn.inspection import permutation_importance\n",
    "from sklearn.utils.class_weight import compute_class_weight\n",
    "from sklearn.metrics import classification_report, confusion_matrix, ConfusionMatrixDisplay\n",
    "\n",
    "from imblearn.pipeline import Pipeline\n",
    "from imblearn.over_sampling import SMOTE, ADASYN, BorderlineSMOTE, KMeansSMOTE, SVMSMOTE\n",
    "from imblearn.combine import SMOTEENN\n",
    "from imblearn.metrics import classification_report_imbalanced\n",
    "from imblearn.ensemble import BalancedRandomForestClassifier\n",
    "\n",
    "from lightgbm import LGBMClassifier\n",
    "from catboost import Pool, CatBoostClassifier\n",
    "from xgboost import XGBClassifier\n",
    "\n",
    "import matplotlib.pyplot as plt\n",
    "import seaborn as sns"
   ]
  },
  {
   "cell_type": "markdown",
   "id": "d94ab1bb-421d-4f9b-841e-c5283d41a531",
   "metadata": {},
   "source": [
    "## Исследовательский анализ данных"
   ]
  },
  {
   "cell_type": "markdown",
   "id": "860cb57a-0fff-48a2-9157-e04c126c3c68",
   "metadata": {},
   "source": [
    "Предобработаем тестовый массив."
   ]
  },
  {
   "cell_type": "code",
   "execution_count": 2,
   "id": "50ba4c89-a303-4a32-a093-329e8e10c71e",
   "metadata": {},
   "outputs": [],
   "source": [
    "df2 = pd.read_excel('/Users/anshilina/work/doc24/впс/patients_data2.xlsx')"
   ]
  },
  {
   "cell_type": "code",
   "execution_count": 3,
   "id": "4a5c1f32-c522-4dec-8835-a0681636ff8b",
   "metadata": {},
   "outputs": [],
   "source": [
    "df2.columns = ['admittion', 'discharge', 'sex', 'height', 'weight', 'bmi', 'bsa', 'birth',\n",
    "               'total_operations', 'before_operations', 'diagnosis', 'mkb', 'accomp_ill',\n",
    "               'medication_main', 'medications_taken', 'eho', 'ekg', 'akg', 'kt', 'first_operation',\n",
    "               'operation_date', 'target']\n",
    "\n",
    "df2['id'] = df2.index"
   ]
  },
  {
   "cell_type": "markdown",
   "id": "ffd0ac15-533b-4e57-a73a-4b5ec550e364",
   "metadata": {},
   "source": [
    "Переведем дату к одному формату."
   ]
  },
  {
   "cell_type": "code",
   "execution_count": 72,
   "id": "cc335e87-e0cd-4684-8b0d-b946785df124",
   "metadata": {},
   "outputs": [],
   "source": [
    "def date_parser(series):\n",
    "    if '-' in str(series):\n",
    "        return pd.to_datetime(series, format='%Y-%m-%d')\n",
    "    else:\n",
    "        return pd.to_datetime(series, format='%d.%m.%Y')"
   ]
  },
  {
   "cell_type": "code",
   "execution_count": 6,
   "id": "313269bb-f5c9-40f0-9afa-15c1775992ee",
   "metadata": {},
   "outputs": [],
   "source": [
    "dates = ['admittion', 'discharge', 'birth', 'date_of_oper']\n",
    "\n",
    "for col in dates:\n",
    "    df[col] = df[col].apply(date_parser)"
   ]
  },
  {
   "cell_type": "code",
   "execution_count": 73,
   "id": "c85ff592-ddad-4edb-ae00-0a81ceed11d5",
   "metadata": {
    "tags": []
   },
   "outputs": [],
   "source": [
    "dates2 = ['admittion', 'discharge', 'birth']\n",
    "\n",
    "for col in dates2:\n",
    "    df2[col] = df2[col].apply(date_parser)"
   ]
  },
  {
   "cell_type": "code",
   "execution_count": 74,
   "id": "3df81d86-d914-4003-bf7c-6078b2989150",
   "metadata": {},
   "outputs": [],
   "source": [
    "def date_parser2(series):\n",
    "    return pd.to_datetime(series, format='%d.%m.%Y %H:%M:%S')"
   ]
  },
  {
   "cell_type": "code",
   "execution_count": 75,
   "id": "835025eb-797d-4b27-b5a8-930456023141",
   "metadata": {
    "tags": []
   },
   "outputs": [],
   "source": [
    "df2['operation_date'] = df2['operation_date'].apply(date_parser2)"
   ]
  },
  {
   "cell_type": "markdown",
   "id": "a0e0f51b-b6ba-4892-9b74-cb1aa2a64c19",
   "metadata": {},
   "source": [
    "Сгенерим переменные `age` и `days_in_hospital` (количество дней до выписки). Преобразуем переменные `sex` и `redo`."
   ]
  },
  {
   "cell_type": "code",
   "execution_count": 54,
   "id": "622a0b3f-c75f-4d5e-bbe9-768576acbdab",
   "metadata": {},
   "outputs": [],
   "source": [
    "df['age'] = (df['date_of_oper'] - df['birth']).dt.days / 30\n",
    "df['days_in_hospital'] = (df['discharge'] - df['admittion']).dt.days\n",
    "df['sex'] = df['sex'].apply(lambda row: 1 if row == 'm' else 0)\n",
    "df['redo'] = df['redo'].apply(lambda row: 0 if row == ' ' else 1)"
   ]
  },
  {
   "cell_type": "code",
   "execution_count": 76,
   "id": "e95c3715-fe6d-4cdb-a920-914bdaf915ae",
   "metadata": {},
   "outputs": [],
   "source": [
    "df2['age'] = (df2['operation_date'] - df2['birth']).dt.days / 30\n",
    "df2['days_in_hospital'] = (df2['discharge'] - df2['admittion']).dt.days\n",
    "df2['sex'] = df2['sex'].apply(lambda row: 1 if row == 'm' else 0)\n",
    "# df['redo'] = df['redo'].apply(lambda row: 0 if row == ' ' else 1)"
   ]
  },
  {
   "cell_type": "code",
   "execution_count": 58,
   "id": "94260837-96ed-4559-bbda-c4b002466008",
   "metadata": {},
   "outputs": [
    {
     "data": {
      "text/html": [
       "<div>\n",
       "<style scoped>\n",
       "    .dataframe tbody tr th:only-of-type {\n",
       "        vertical-align: middle;\n",
       "    }\n",
       "\n",
       "    .dataframe tbody tr th {\n",
       "        vertical-align: top;\n",
       "    }\n",
       "\n",
       "    .dataframe thead th {\n",
       "        text-align: right;\n",
       "    }\n",
       "</style>\n",
       "<table border=\"1\" class=\"dataframe\">\n",
       "  <thead>\n",
       "    <tr style=\"text-align: right;\">\n",
       "      <th></th>\n",
       "      <th>sex</th>\n",
       "      <th>height</th>\n",
       "      <th>weight</th>\n",
       "      <th>bmi</th>\n",
       "      <th>bsa</th>\n",
       "      <th>target</th>\n",
       "      <th>age</th>\n",
       "      <th>days_in_hospital</th>\n",
       "    </tr>\n",
       "  </thead>\n",
       "  <tbody>\n",
       "    <tr>\n",
       "      <th>count</th>\n",
       "      <td>1500.000000</td>\n",
       "      <td>1498.000000</td>\n",
       "      <td>1498.000000</td>\n",
       "      <td>1491.000000</td>\n",
       "      <td>1491.000000</td>\n",
       "      <td>1500.000000</td>\n",
       "      <td>1500.000000</td>\n",
       "      <td>1500.000000</td>\n",
       "    </tr>\n",
       "    <tr>\n",
       "      <th>mean</th>\n",
       "      <td>0.555333</td>\n",
       "      <td>60.839786</td>\n",
       "      <td>5.267491</td>\n",
       "      <td>66.494064</td>\n",
       "      <td>0.296425</td>\n",
       "      <td>0.058667</td>\n",
       "      <td>4.395578</td>\n",
       "      <td>12.833333</td>\n",
       "    </tr>\n",
       "    <tr>\n",
       "      <th>std</th>\n",
       "      <td>0.497095</td>\n",
       "      <td>21.008977</td>\n",
       "      <td>2.036213</td>\n",
       "      <td>21.730516</td>\n",
       "      <td>0.079757</td>\n",
       "      <td>0.235078</td>\n",
       "      <td>3.651786</td>\n",
       "      <td>7.937730</td>\n",
       "    </tr>\n",
       "    <tr>\n",
       "      <th>min</th>\n",
       "      <td>0.000000</td>\n",
       "      <td>31.000000</td>\n",
       "      <td>1.110000</td>\n",
       "      <td>12.820000</td>\n",
       "      <td>0.110000</td>\n",
       "      <td>0.000000</td>\n",
       "      <td>0.000000</td>\n",
       "      <td>0.000000</td>\n",
       "    </tr>\n",
       "    <tr>\n",
       "      <th>25%</th>\n",
       "      <td>0.000000</td>\n",
       "      <td>53.000000</td>\n",
       "      <td>3.500000</td>\n",
       "      <td>48.035000</td>\n",
       "      <td>0.230000</td>\n",
       "      <td>0.000000</td>\n",
       "      <td>0.733333</td>\n",
       "      <td>8.000000</td>\n",
       "    </tr>\n",
       "    <tr>\n",
       "      <th>50%</th>\n",
       "      <td>1.000000</td>\n",
       "      <td>60.000000</td>\n",
       "      <td>5.080000</td>\n",
       "      <td>64.750000</td>\n",
       "      <td>0.290000</td>\n",
       "      <td>0.000000</td>\n",
       "      <td>3.766667</td>\n",
       "      <td>12.000000</td>\n",
       "    </tr>\n",
       "    <tr>\n",
       "      <th>75%</th>\n",
       "      <td>1.000000</td>\n",
       "      <td>67.000000</td>\n",
       "      <td>6.795000</td>\n",
       "      <td>83.070000</td>\n",
       "      <td>0.360000</td>\n",
       "      <td>0.000000</td>\n",
       "      <td>7.266667</td>\n",
       "      <td>16.000000</td>\n",
       "    </tr>\n",
       "    <tr>\n",
       "      <th>max</th>\n",
       "      <td>1.000000</td>\n",
       "      <td>652.000000</td>\n",
       "      <td>12.500000</td>\n",
       "      <td>137.650000</td>\n",
       "      <td>0.780000</td>\n",
       "      <td>1.000000</td>\n",
       "      <td>12.200000</td>\n",
       "      <td>73.000000</td>\n",
       "    </tr>\n",
       "  </tbody>\n",
       "</table>\n",
       "</div>"
      ],
      "text/plain": [
       "               sex       height       weight          bmi          bsa  \\\n",
       "count  1500.000000  1498.000000  1498.000000  1491.000000  1491.000000   \n",
       "mean      0.555333    60.839786     5.267491    66.494064     0.296425   \n",
       "std       0.497095    21.008977     2.036213    21.730516     0.079757   \n",
       "min       0.000000    31.000000     1.110000    12.820000     0.110000   \n",
       "25%       0.000000    53.000000     3.500000    48.035000     0.230000   \n",
       "50%       1.000000    60.000000     5.080000    64.750000     0.290000   \n",
       "75%       1.000000    67.000000     6.795000    83.070000     0.360000   \n",
       "max       1.000000   652.000000    12.500000   137.650000     0.780000   \n",
       "\n",
       "            target          age  days_in_hospital  \n",
       "count  1500.000000  1500.000000       1500.000000  \n",
       "mean      0.058667     4.395578         12.833333  \n",
       "std       0.235078     3.651786          7.937730  \n",
       "min       0.000000     0.000000          0.000000  \n",
       "25%       0.000000     0.733333          8.000000  \n",
       "50%       0.000000     3.766667         12.000000  \n",
       "75%       0.000000     7.266667         16.000000  \n",
       "max       1.000000    12.200000         73.000000  "
      ]
     },
     "execution_count": 58,
     "metadata": {},
     "output_type": "execute_result"
    }
   ],
   "source": [
    "df2.describe()"
   ]
  },
  {
   "cell_type": "code",
   "execution_count": 55,
   "id": "5727db30-784b-449e-9b7a-fdf9da9976ef",
   "metadata": {},
   "outputs": [
    {
     "data": {
      "text/html": [
       "<div>\n",
       "<style scoped>\n",
       "    .dataframe tbody tr th:only-of-type {\n",
       "        vertical-align: middle;\n",
       "    }\n",
       "\n",
       "    .dataframe tbody tr th {\n",
       "        vertical-align: top;\n",
       "    }\n",
       "\n",
       "    .dataframe thead th {\n",
       "        text-align: right;\n",
       "    }\n",
       "</style>\n",
       "<table border=\"1\" class=\"dataframe\">\n",
       "  <thead>\n",
       "    <tr style=\"text-align: right;\">\n",
       "      <th></th>\n",
       "      <th>sex</th>\n",
       "      <th>height</th>\n",
       "      <th>weight</th>\n",
       "      <th>bmi</th>\n",
       "      <th>bsa</th>\n",
       "      <th>age</th>\n",
       "      <th>redo</th>\n",
       "      <th>target</th>\n",
       "      <th>id</th>\n",
       "      <th>days_in_hospital</th>\n",
       "    </tr>\n",
       "  </thead>\n",
       "  <tbody>\n",
       "    <tr>\n",
       "      <th>count</th>\n",
       "      <td>300.000000</td>\n",
       "      <td>300.000000</td>\n",
       "      <td>300.000000</td>\n",
       "      <td>298.000000</td>\n",
       "      <td>298.000000</td>\n",
       "      <td>300.000000</td>\n",
       "      <td>300.000000</td>\n",
       "      <td>300.000000</td>\n",
       "      <td>300.000000</td>\n",
       "      <td>300.000000</td>\n",
       "    </tr>\n",
       "    <tr>\n",
       "      <th>mean</th>\n",
       "      <td>0.546667</td>\n",
       "      <td>64.890000</td>\n",
       "      <td>6.293560</td>\n",
       "      <td>76.834430</td>\n",
       "      <td>0.336477</td>\n",
       "      <td>6.817556</td>\n",
       "      <td>0.263333</td>\n",
       "      <td>0.046667</td>\n",
       "      <td>149.500000</td>\n",
       "      <td>14.840000</td>\n",
       "    </tr>\n",
       "    <tr>\n",
       "      <th>std</th>\n",
       "      <td>0.498649</td>\n",
       "      <td>8.076012</td>\n",
       "      <td>1.951695</td>\n",
       "      <td>20.640196</td>\n",
       "      <td>0.073846</td>\n",
       "      <td>3.617584</td>\n",
       "      <td>0.441178</td>\n",
       "      <td>0.211276</td>\n",
       "      <td>86.746758</td>\n",
       "      <td>9.133774</td>\n",
       "    </tr>\n",
       "    <tr>\n",
       "      <th>min</th>\n",
       "      <td>0.000000</td>\n",
       "      <td>39.000000</td>\n",
       "      <td>1.270000</td>\n",
       "      <td>20.340000</td>\n",
       "      <td>0.120000</td>\n",
       "      <td>0.000000</td>\n",
       "      <td>0.000000</td>\n",
       "      <td>0.000000</td>\n",
       "      <td>0.000000</td>\n",
       "      <td>1.000000</td>\n",
       "    </tr>\n",
       "    <tr>\n",
       "      <th>25%</th>\n",
       "      <td>0.000000</td>\n",
       "      <td>60.000000</td>\n",
       "      <td>4.868500</td>\n",
       "      <td>62.007500</td>\n",
       "      <td>0.280000</td>\n",
       "      <td>4.033333</td>\n",
       "      <td>0.000000</td>\n",
       "      <td>0.000000</td>\n",
       "      <td>74.750000</td>\n",
       "      <td>9.000000</td>\n",
       "    </tr>\n",
       "    <tr>\n",
       "      <th>50%</th>\n",
       "      <td>1.000000</td>\n",
       "      <td>65.500000</td>\n",
       "      <td>6.442500</td>\n",
       "      <td>78.430000</td>\n",
       "      <td>0.350000</td>\n",
       "      <td>7.200000</td>\n",
       "      <td>0.000000</td>\n",
       "      <td>0.000000</td>\n",
       "      <td>149.500000</td>\n",
       "      <td>13.000000</td>\n",
       "    </tr>\n",
       "    <tr>\n",
       "      <th>75%</th>\n",
       "      <td>1.000000</td>\n",
       "      <td>71.000000</td>\n",
       "      <td>7.651250</td>\n",
       "      <td>91.797500</td>\n",
       "      <td>0.390000</td>\n",
       "      <td>10.008333</td>\n",
       "      <td>1.000000</td>\n",
       "      <td>0.000000</td>\n",
       "      <td>224.250000</td>\n",
       "      <td>18.000000</td>\n",
       "    </tr>\n",
       "    <tr>\n",
       "      <th>max</th>\n",
       "      <td>1.000000</td>\n",
       "      <td>85.000000</td>\n",
       "      <td>12.000000</td>\n",
       "      <td>137.650000</td>\n",
       "      <td>0.520000</td>\n",
       "      <td>12.200000</td>\n",
       "      <td>1.000000</td>\n",
       "      <td>1.000000</td>\n",
       "      <td>299.000000</td>\n",
       "      <td>60.000000</td>\n",
       "    </tr>\n",
       "  </tbody>\n",
       "</table>\n",
       "</div>"
      ],
      "text/plain": [
       "              sex      height      weight         bmi         bsa         age  \\\n",
       "count  300.000000  300.000000  300.000000  298.000000  298.000000  300.000000   \n",
       "mean     0.546667   64.890000    6.293560   76.834430    0.336477    6.817556   \n",
       "std      0.498649    8.076012    1.951695   20.640196    0.073846    3.617584   \n",
       "min      0.000000   39.000000    1.270000   20.340000    0.120000    0.000000   \n",
       "25%      0.000000   60.000000    4.868500   62.007500    0.280000    4.033333   \n",
       "50%      1.000000   65.500000    6.442500   78.430000    0.350000    7.200000   \n",
       "75%      1.000000   71.000000    7.651250   91.797500    0.390000   10.008333   \n",
       "max      1.000000   85.000000   12.000000  137.650000    0.520000   12.200000   \n",
       "\n",
       "             redo      target          id  days_in_hospital  \n",
       "count  300.000000  300.000000  300.000000        300.000000  \n",
       "mean     0.263333    0.046667  149.500000         14.840000  \n",
       "std      0.441178    0.211276   86.746758          9.133774  \n",
       "min      0.000000    0.000000    0.000000          1.000000  \n",
       "25%      0.000000    0.000000   74.750000          9.000000  \n",
       "50%      0.000000    0.000000  149.500000         13.000000  \n",
       "75%      1.000000    0.000000  224.250000         18.000000  \n",
       "max      1.000000    1.000000  299.000000         60.000000  "
      ]
     },
     "execution_count": 55,
     "metadata": {},
     "output_type": "execute_result"
    }
   ],
   "source": [
    "df.describe()"
   ]
  },
  {
   "cell_type": "code",
   "execution_count": 9,
   "id": "e541b742-2f97-4f14-bb4e-f57031aa9b80",
   "metadata": {},
   "outputs": [],
   "source": [
    "# fig, axs = plt.subplots(3, 2, figsize=(20,14))\n",
    "# axs = axs.ravel()\n",
    "# vals = ['height', 'weight', 'bmi', 'bsa', 'age', 'days_in_hospital']\n",
    "\n",
    "# for i in range(len(vals)):\n",
    "#     ax = axs[i]\n",
    "#     sns.histplot(ax=ax, data=df, x=df[vals[i]], bins=30)\n",
    "#     ax.set_title(vals[i])\n",
    "    \n",
    "# fig.tight_layout()"
   ]
  },
  {
   "cell_type": "code",
   "execution_count": 10,
   "id": "e56bb9ce-71cc-4bd1-a0f7-a4624332a72a",
   "metadata": {},
   "outputs": [],
   "source": [
    "# fig, axs = plt.subplots(1, 2, figsize=(10,5))\n",
    "# axs = axs.ravel()\n",
    "# vals = ['sex', 'redo']\n",
    "\n",
    "# for i in range(len(vals)):\n",
    "#     ax = axs[i]\n",
    "#     sns.barplot(ax=ax, data=df, \n",
    "#                 x=df[vals[i]].value_counts().index,\n",
    "#                 y=df[vals[i]].value_counts().values)\n",
    "#     ax.set_title(vals[i])\n",
    "    \n",
    "# fig.tight_layout()"
   ]
  },
  {
   "cell_type": "code",
   "execution_count": 11,
   "id": "acc0f8ff-fe6a-4a07-98e3-3eca0be4e440",
   "metadata": {},
   "outputs": [
    {
     "data": {
      "image/png": "[encoded data removed]",
      "text/plain": [
       "<Figure size 360x360 with 1 Axes>"
      ]
     },
     "metadata": {
      "needs_background": "light"
     },
     "output_type": "display_data"
    }
   ],
   "source": [
    "plt.figure(figsize=(5, 5))\n",
    "sns.barplot(x=df['target'].value_counts().index,\n",
    "            y=df['target'].value_counts())\n",
    "plt.title('Распределение зависимой переменной')\n",
    "plt.show()"
   ]
  },
  {
   "cell_type": "code",
   "execution_count": 12,
   "id": "f4224565-0016-4eeb-b0bf-98a4b9ac190f",
   "metadata": {},
   "outputs": [
    {
     "data": {
      "text/plain": [
       "admittion              0\n",
       "discharge              0\n",
       "sex                    0\n",
       "height                 0\n",
       "weight                 0\n",
       "bmi                    2\n",
       "bsa                    2\n",
       "birth                  0\n",
       "age                    0\n",
       "total_operations       0\n",
       "before_operations      0\n",
       "redo                   0\n",
       "diagnosis              0\n",
       "mkb                    0\n",
       "accomp_ill             0\n",
       "medication_main       47\n",
       "medications_taken    120\n",
       "eho                    7\n",
       "ekg                   20\n",
       "akg                  209\n",
       "kt                   262\n",
       "first_operation        0\n",
       "operation_date         0\n",
       "date_of_oper           0\n",
       "target                 0\n",
       "id                     0\n",
       "days_in_hospital       0\n",
       "dtype: int64"
      ]
     },
     "execution_count": 12,
     "metadata": {},
     "output_type": "execute_result"
    }
   ],
   "source": [
    "df.isna().sum()"
   ]
  },
  {
   "cell_type": "code",
   "execution_count": 59,
   "id": "fe340a98-2877-4377-9826-1bb62a6e7695",
   "metadata": {},
   "outputs": [
    {
     "data": {
      "text/plain": [
       "admittion               0\n",
       "discharge               0\n",
       "sex                     0\n",
       "height                  2\n",
       "weight                  2\n",
       "bmi                     9\n",
       "bsa                     9\n",
       "birth                   0\n",
       "total_operations        0\n",
       "before_operations       0\n",
       "diagnosis               0\n",
       "mkb                     1\n",
       "accomp_ill              0\n",
       "medication_main       283\n",
       "medications_taken     558\n",
       "eho                    54\n",
       "ekg                   210\n",
       "akg                  1250\n",
       "kt                   1281\n",
       "first_operation         0\n",
       "operation_date          0\n",
       "target                  0\n",
       "age                     0\n",
       "days_in_hospital        0\n",
       "dtype: int64"
      ]
     },
     "execution_count": 59,
     "metadata": {},
     "output_type": "execute_result"
    }
   ],
   "source": [
    "df2.isna().sum()"
   ]
  },
  {
   "cell_type": "markdown",
   "id": "553c6931-81f6-486b-af50-d0e8a58d66d6",
   "metadata": {},
   "source": [
    "Удалим наблюдения с пропусками в переменных `bsa` и `bmi`, т.к. для этих наблюдений отсуствует как значение `bsa`, так и значение `bmi`."
   ]
  },
  {
   "cell_type": "code",
   "execution_count": 77,
   "id": "a29fb024-a5e0-4c20-862f-7edb5cb6f1f6",
   "metadata": {},
   "outputs": [],
   "source": [
    "df2.dropna(subset=['bsa', 'bmi', 'height', 'weight', 'mkb'], inplace=True)"
   ]
  },
  {
   "cell_type": "markdown",
   "id": "d0b63e88-087d-4252-a075-69d8b2a4c28c",
   "metadata": {},
   "source": [
    "Обработаем текстовые переменные. Почистим текст, удалив всё кроме букв и цифр с помощью регулярных выражений."
   ]
  },
  {
   "cell_type": "code",
   "execution_count": 78,
   "id": "8cc5e79e-945c-4162-b7bd-4b14ccd8e7c1",
   "metadata": {},
   "outputs": [],
   "source": [
    "text_cols = df.select_dtypes('object').columns.values\n",
    "df2[text_cols] = df2[text_cols].values.astype('U')"
   ]
  },
  {
   "cell_type": "markdown",
   "id": "ad2c1821-58cc-4913-863d-954aa581f80d",
   "metadata": {},
   "source": [
    "## ЭХОКГ"
   ]
  },
  {
   "cell_type": "code",
   "execution_count": 79,
   "id": "bbd98a9a-376d-4422-b1c9-d75de20edf25",
   "metadata": {},
   "outputs": [],
   "source": [
    "eho = df2[['id', 'eho']].copy()"
   ]
  },
  {
   "cell_type": "code",
   "execution_count": 80,
   "id": "0d5170bc-8c2d-491b-bcb4-600feee6ffd3",
   "metadata": {},
   "outputs": [],
   "source": [
    "eho['eho'] = eho['eho'].str.lower().replace(r'[^а-яё0-9.]', ' ', regex=True)"
   ]
  },
  {
   "cell_type": "code",
   "execution_count": 81,
   "id": "c0bd5ce3-8586-4b1a-91cb-0648029e5138",
   "metadata": {},
   "outputs": [],
   "source": [
    "# Работаю с информацией до \"заключения\" врача\n",
    "eho['eho'] = eho['eho'].str.extract(r'(.+?)заключение').fillna('').astype('str')"
   ]
  },
  {
   "cell_type": "code",
   "execution_count": 82,
   "id": "db4c372f-7a70-4690-827a-1153fe4d526f",
   "metadata": {},
   "outputs": [
    {
     "data": {
      "text/plain": [
       "'эхокг впс  02.12.2016 14 37 22    г.  лж  лп  не увеличены  кдр 2 1 см. фв 70 .  мк  не изменен  фк   14 4 мм ак  отходит от пж  створки тонкие. раскрытие полное  фк   17 мм ао  б о кла  атрезирован ла  диам. ствола   8 мм  ветвей   8 мм тк  не изменен  фк   18 мм дмжп перимембранозный 11 мм  рестриктивный. умеренно коммитирован к ао.  ооо   4 мм  перекрестный сброс функционирующий анастомоз справа  приток пж   приток лж '"
      ]
     },
     "execution_count": 82,
     "metadata": {},
     "output_type": "execute_result"
    }
   ],
   "source": [
    "eho['eho'][0]"
   ]
  },
  {
   "cell_type": "code",
   "execution_count": 83,
   "id": "6fe622f6-e147-49e9-92ff-b3327bf46aad",
   "metadata": {},
   "outputs": [],
   "source": [
    "# Фракцией выброса (ФВ) именуется процент от объема крови\n",
    "eho['fv'] = eho['eho'].str.extract(r'фв *(\\d*)').fillna('-1').astype('str')\n",
    "eho.loc[eho['fv']=='', 'fv'] = -1\n",
    "eho['fv'] = eho['fv'].astype('int')"
   ]
  },
  {
   "cell_type": "code",
   "execution_count": 84,
   "id": "d82e167f-6f31-4745-a90f-7cad4a8a5885",
   "metadata": {},
   "outputs": [],
   "source": [
    "# Опечатка\n",
    "eho.loc[eho['fv'] == 790, 'fv'] = 79"
   ]
  },
  {
   "cell_type": "code",
   "execution_count": 85,
   "id": "e22a1dfe-6fb7-440d-8a66-795b211fcabe",
   "metadata": {
    "tags": []
   },
   "outputs": [],
   "source": [
    "# Конечный диастолический размер (КДР) левого желудочка\n",
    "res = eho['eho'].str.extract(r'((лж|левый желудочек).+?кдр *\\d(.| )\\d)').fillna('-1').astype('str')\n",
    "res2 = eho['eho'].str.extract(r'(кдр лж *\\d(.| )\\d)').fillna('-1').astype('str')[0]\n",
    "res[1] = res2\n",
    "res = res[0] + res[1]"
   ]
  },
  {
   "cell_type": "code",
   "execution_count": 86,
   "id": "e7871822-5d96-4132-956c-5a9e79426224",
   "metadata": {},
   "outputs": [],
   "source": [
    "eho['lg_kdr_size'] = (res.str.extract(r'((кдр |кдр лж) *(\\d( |.)\\d))')[2]\n",
    "                      .str.replace(' ', '.', regex=True)\n",
    "                      .fillna('-1').astype('float'))"
   ]
  },
  {
   "cell_type": "code",
   "execution_count": 87,
   "id": "5034e790-9c2d-4a48-81ea-19720cc0c802",
   "metadata": {},
   "outputs": [],
   "source": [
    "# Гипоплазия левого желудочка\n",
    "res = eho['eho'].str.extract('((лж|левый желудочек|левые отделы сердца) .+ гипоплазирован(|ы))')[0].fillna('').astype('str')\n",
    "eho['lg_hipoplaz'] = res.map(lambda x: 1 if 'гипоплаз' in x else 0)"
   ]
  },
  {
   "cell_type": "code",
   "execution_count": 88,
   "id": "d7c9a735-f399-4757-b119-362b593bda1a",
   "metadata": {},
   "outputs": [],
   "source": [
    "# Конечный диастолический размер (КДР) правого желудочка\n",
    "res = eho['eho'].str.extract(r'((пж|правые отделы сердца|правый желудочек).+?увел)').fillna('-1').astype('str')\n",
    "eho['pg_big'] = res[0].map(lambda x: -1 if x == '-1' else 0 if 'не увел' in x else 1)"
   ]
  },
  {
   "cell_type": "code",
   "execution_count": 89,
   "id": "de7ce22b-b96b-488f-9dec-f975b5317dbe",
   "metadata": {},
   "outputs": [],
   "source": [
    "# Гипертрофия правого желудочка\n",
    "res = eho['eho'].str.extract(r'((пж|правые отделы сердца|правый желудочек).+?гипертр)').fillna('-1').astype('str')\n",
    "eho['pg_hypertrop'] = res[0].map(lambda x: 1 if 'гиперт' in x else 0)"
   ]
  },
  {
   "cell_type": "code",
   "execution_count": 90,
   "id": "c6528d05-f9d3-46b8-a5f8-097b30977848",
   "metadata": {},
   "outputs": [
    {
     "data": {
      "text/plain": [
       "0    1291\n",
       "1     199\n",
       "Name: pg_hypertrop, dtype: int64"
      ]
     },
     "execution_count": 90,
     "metadata": {},
     "output_type": "execute_result"
    }
   ],
   "source": [
    "eho['pg_hypertrop'].value_counts()"
   ]
  },
  {
   "cell_type": "code",
   "execution_count": 91,
   "id": "aa26e03f-97b4-4e01-9914-c502d4956f85",
   "metadata": {},
   "outputs": [],
   "source": [
    "# Дефект межжелудочковой перегородки (ДМЖП)\n",
    "res = eho['eho'].str.extract(r'(дмжп.+? \\d+ мм)').fillna('').astype('str')\n",
    "eho['dmgp'] = res[0].str.extract(r'[а-я. ]*(\\d*)').replace('', 0, regex=True).astype('int')"
   ]
  },
  {
   "cell_type": "code",
   "execution_count": 94,
   "id": "10d2d38c-d75c-4c13-bc09-bb9c5f8bc991",
   "metadata": {},
   "outputs": [],
   "source": [
    "# Конечный диастолический объем (КДО)\n",
    "# res = eho['eho'].str.extract(r'(кдо.+?(\\d*) мл)').fillna('-1').astype('str')[1]\n",
    "# eho['kdo'] = res.astype('int')"
   ]
  },
  {
   "cell_type": "code",
   "execution_count": 95,
   "id": "71fe99c8-f75f-4521-965b-857101249029",
   "metadata": {},
   "outputs": [],
   "source": [
    "# Описание створок клапана\n",
    "eho['flap'] = eho['eho'].str.extract(r'(створки.+?)фк').fillna('').astype('str')"
   ]
  },
  {
   "cell_type": "code",
   "execution_count": 96,
   "id": "b7fd7c61-4c1d-4482-8d6f-21abd4a070cc",
   "metadata": {},
   "outputs": [],
   "source": [
    "eho = eho.fillna(0).drop('eho', axis=1)"
   ]
  },
  {
   "cell_type": "code",
   "execution_count": 97,
   "id": "ee136f56-9dd6-4734-948d-1010b61f98c4",
   "metadata": {},
   "outputs": [
    {
     "data": {
      "text/html": [
       "<div>\n",
       "<style scoped>\n",
       "    .dataframe tbody tr th:only-of-type {\n",
       "        vertical-align: middle;\n",
       "    }\n",
       "\n",
       "    .dataframe tbody tr th {\n",
       "        vertical-align: top;\n",
       "    }\n",
       "\n",
       "    .dataframe thead th {\n",
       "        text-align: right;\n",
       "    }\n",
       "</style>\n",
       "<table border=\"1\" class=\"dataframe\">\n",
       "  <thead>\n",
       "    <tr style=\"text-align: right;\">\n",
       "      <th></th>\n",
       "      <th>id</th>\n",
       "      <th>fv</th>\n",
       "      <th>lg_kdr_size</th>\n",
       "      <th>lg_hipoplaz</th>\n",
       "      <th>pg_big</th>\n",
       "      <th>pg_hypertrop</th>\n",
       "      <th>dmgp</th>\n",
       "      <th>flap</th>\n",
       "    </tr>\n",
       "  </thead>\n",
       "  <tbody>\n",
       "    <tr>\n",
       "      <th>0</th>\n",
       "      <td>0</td>\n",
       "      <td>70</td>\n",
       "      <td>2.1</td>\n",
       "      <td>0</td>\n",
       "      <td>-1</td>\n",
       "      <td>0</td>\n",
       "      <td>11</td>\n",
       "      <td>створки тонкие. раскрытие полное</td>\n",
       "    </tr>\n",
       "    <tr>\n",
       "      <th>1</th>\n",
       "      <td>1</td>\n",
       "      <td>68</td>\n",
       "      <td>2.0</td>\n",
       "      <td>0</td>\n",
       "      <td>1</td>\n",
       "      <td>0</td>\n",
       "      <td>11</td>\n",
       "      <td>створки тонкие</td>\n",
       "    </tr>\n",
       "    <tr>\n",
       "      <th>2</th>\n",
       "      <td>2</td>\n",
       "      <td>70</td>\n",
       "      <td>2.6</td>\n",
       "      <td>0</td>\n",
       "      <td>1</td>\n",
       "      <td>0</td>\n",
       "      <td>12</td>\n",
       "      <td>створки незначительно уплотнены  раскрытие пол...</td>\n",
       "    </tr>\n",
       "    <tr>\n",
       "      <th>3</th>\n",
       "      <td>3</td>\n",
       "      <td>68</td>\n",
       "      <td>1.1</td>\n",
       "      <td>1</td>\n",
       "      <td>1</td>\n",
       "      <td>0</td>\n",
       "      <td>6</td>\n",
       "      <td>створки подвижные. кровоток ограничен.</td>\n",
       "    </tr>\n",
       "    <tr>\n",
       "      <th>4</th>\n",
       "      <td>4</td>\n",
       "      <td>70</td>\n",
       "      <td>2.5</td>\n",
       "      <td>0</td>\n",
       "      <td>0</td>\n",
       "      <td>1</td>\n",
       "      <td>0</td>\n",
       "      <td>створки утолщены  удлинены  диаметр отверстия ...</td>\n",
       "    </tr>\n",
       "    <tr>\n",
       "      <th>...</th>\n",
       "      <td>...</td>\n",
       "      <td>...</td>\n",
       "      <td>...</td>\n",
       "      <td>...</td>\n",
       "      <td>...</td>\n",
       "      <td>...</td>\n",
       "      <td>...</td>\n",
       "      <td>...</td>\n",
       "    </tr>\n",
       "    <tr>\n",
       "      <th>1495</th>\n",
       "      <td>1495</td>\n",
       "      <td>65</td>\n",
       "      <td>2.5</td>\n",
       "      <td>0</td>\n",
       "      <td>0</td>\n",
       "      <td>0</td>\n",
       "      <td>0</td>\n",
       "      <td>створки тонкие.</td>\n",
       "    </tr>\n",
       "    <tr>\n",
       "      <th>1496</th>\n",
       "      <td>1496</td>\n",
       "      <td>-1</td>\n",
       "      <td>-1.0</td>\n",
       "      <td>0</td>\n",
       "      <td>-1</td>\n",
       "      <td>0</td>\n",
       "      <td>0</td>\n",
       "      <td></td>\n",
       "    </tr>\n",
       "    <tr>\n",
       "      <th>1497</th>\n",
       "      <td>1497</td>\n",
       "      <td>67</td>\n",
       "      <td>1.6</td>\n",
       "      <td>0</td>\n",
       "      <td>1</td>\n",
       "      <td>0</td>\n",
       "      <td>0</td>\n",
       "      <td>створки тонкие  1 группа папиллярных мышц  рас...</td>\n",
       "    </tr>\n",
       "    <tr>\n",
       "      <th>1498</th>\n",
       "      <td>1498</td>\n",
       "      <td>-1</td>\n",
       "      <td>-1.0</td>\n",
       "      <td>0</td>\n",
       "      <td>-1</td>\n",
       "      <td>0</td>\n",
       "      <td>0</td>\n",
       "      <td></td>\n",
       "    </tr>\n",
       "    <tr>\n",
       "      <th>1499</th>\n",
       "      <td>1499</td>\n",
       "      <td>-1</td>\n",
       "      <td>1.3</td>\n",
       "      <td>0</td>\n",
       "      <td>1</td>\n",
       "      <td>0</td>\n",
       "      <td>0</td>\n",
       "      <td>створки тонкие  подвижные</td>\n",
       "    </tr>\n",
       "  </tbody>\n",
       "</table>\n",
       "<p>1490 rows × 8 columns</p>\n",
       "</div>"
      ],
      "text/plain": [
       "        id  fv  lg_kdr_size  lg_hipoplaz  pg_big  pg_hypertrop  dmgp  \\\n",
       "0        0  70          2.1            0      -1             0    11   \n",
       "1        1  68          2.0            0       1             0    11   \n",
       "2        2  70          2.6            0       1             0    12   \n",
       "3        3  68          1.1            1       1             0     6   \n",
       "4        4  70          2.5            0       0             1     0   \n",
       "...    ...  ..          ...          ...     ...           ...   ...   \n",
       "1495  1495  65          2.5            0       0             0     0   \n",
       "1496  1496  -1         -1.0            0      -1             0     0   \n",
       "1497  1497  67          1.6            0       1             0     0   \n",
       "1498  1498  -1         -1.0            0      -1             0     0   \n",
       "1499  1499  -1          1.3            0       1             0     0   \n",
       "\n",
       "                                                   flap  \n",
       "0                    створки тонкие. раскрытие полное    \n",
       "1                                      створки тонкие    \n",
       "2     створки незначительно уплотнены  раскрытие пол...  \n",
       "3              створки подвижные. кровоток ограничен.    \n",
       "4     створки утолщены  удлинены  диаметр отверстия ...  \n",
       "...                                                 ...  \n",
       "1495                                   створки тонкие.   \n",
       "1496                                                     \n",
       "1497  створки тонкие  1 группа папиллярных мышц  рас...  \n",
       "1498                                                     \n",
       "1499                         створки тонкие  подвижные   \n",
       "\n",
       "[1490 rows x 8 columns]"
      ]
     },
     "execution_count": 97,
     "metadata": {},
     "output_type": "execute_result"
    }
   ],
   "source": [
    "eho"
   ]
  },
  {
   "cell_type": "markdown",
   "id": "843b43f8-ec80-4ed3-911b-eb6ec2ad8723",
   "metadata": {},
   "source": [
    "## ЭКГ"
   ]
  },
  {
   "cell_type": "markdown",
   "id": "ec47937e-f727-4c06-b9ca-cad43f2709db",
   "metadata": {},
   "source": [
    "Из тетрадки Татьяны."
   ]
  },
  {
   "cell_type": "code",
   "execution_count": 99,
   "id": "a486d066-daaa-4592-a1b8-1cf1e76772df",
   "metadata": {},
   "outputs": [],
   "source": [
    "ekg = df2[['id', 'ekg']].copy()"
   ]
  },
  {
   "cell_type": "code",
   "execution_count": 100,
   "id": "7a26c478-0495-449e-99ac-2451bf4763ad",
   "metadata": {},
   "outputs": [],
   "source": [
    "ekg['ekg'] = ekg['ekg'].str.lower()"
   ]
  },
  {
   "cell_type": "code",
   "execution_count": 101,
   "id": "9bccbbea-d118-40ad-af7d-1bb10a38b7cd",
   "metadata": {},
   "outputs": [],
   "source": [
    "ekg['ekg_date'] = ekg['ekg'].str.extract(r'(\\d+\\.\\d+\\.\\d{2,4})')"
   ]
  },
  {
   "cell_type": "code",
   "execution_count": 102,
   "id": "81f1f83a-1834-490e-bef3-ed62d10dba07",
   "metadata": {},
   "outputs": [],
   "source": [
    "ekg['ekg_sinus'] = ekg['ekg'].str.extract(r'( синус)').notna().astype('int')"
   ]
  },
  {
   "cell_type": "code",
   "execution_count": 103,
   "id": "af5da5fc-0c38-4eef-8b30-9f461e5a7dc1",
   "metadata": {},
   "outputs": [],
   "source": [
    "list_of_ss = '|'.join(['чсс', 'сердцебиений в минуту', 'сердечных сокращений'])\n",
    "res = ekg['ekg'].str.extract(f'({list_of_ss}) ?=?-? ?(\\d+)')[1]"
   ]
  },
  {
   "cell_type": "code",
   "execution_count": 104,
   "id": "95064de1-e88d-442d-92b7-48b0819a318c",
   "metadata": {},
   "outputs": [],
   "source": [
    "eos_dict = {'прав': 1,\n",
    "            'лев': 2,\n",
    "            'норм':3, \n",
    "            'гориз':4, \n",
    "            'верт':5}\n",
    "\n",
    "def ekg_replace(data):\n",
    "    res = [eos_dict.get(x) for x in eos_dict.keys() if x in data]\n",
    "    if res:\n",
    "        return res[0]\n",
    "    return 0"
   ]
  },
  {
   "cell_type": "code",
   "execution_count": 105,
   "id": "5e218753-6369-4b9d-acfa-5a7a6ab5cd56",
   "metadata": {},
   "outputs": [],
   "source": [
    "list_of_eos = '|'.join(['эос', 'электрической оси сердца:', 'ось сердца', 'ось'])\n",
    "res = ekg['ekg'].str.extract(f'(({list_of_eos}) (отклонена)? ?(\\w+))|((\\w+) (положение э))')\n",
    "res[3] = res[3].fillna(res[5])\n",
    "ekg['ekg_eos'] = res[3]\n",
    "ekg['ekg_eos'] = ekg['ekg_eos'].fillna(' ')\n",
    "ekg['ekg_eos'] = ekg['ekg_eos'].map(ekg_replace)"
   ]
  },
  {
   "cell_type": "code",
   "execution_count": 106,
   "id": "8b754076-80b4-4641-8f1a-d3f4295f9723",
   "metadata": {},
   "outputs": [],
   "source": [
    "ekg['ekg_qrs'] = ekg['ekg'].str.extract('(qrs) ?=?(\\d(,|\\.)\\d+)')[1].str.replace(',','.', regex=True).astype('float')\n",
    "ekg['ekg_qrst'] = ekg['ekg'].str.extract('(qrst) ?=? ?(\\d(,|\\.)\\d+)')[1].str.replace(',','.', regex=True).astype('float')\n",
    "ekg['ekg_pq'] = ekg['ekg'].str.extract('(pq) ?=? ?(\\d(,|\\.)\\d+)')[1].str.replace(',','.', regex=True).astype('float')"
   ]
  },
  {
   "cell_type": "code",
   "execution_count": 107,
   "id": "15544a4c-9c12-4397-8692-d41551dcc605",
   "metadata": {},
   "outputs": [],
   "source": [
    "ekg = ekg.fillna(0).drop('ekg', axis=1)"
   ]
  },
  {
   "cell_type": "code",
   "execution_count": 108,
   "id": "1d9a1b68-fe2a-42cb-b7c3-cfc784e97b1e",
   "metadata": {},
   "outputs": [
    {
     "data": {
      "text/html": [
       "<div>\n",
       "<style scoped>\n",
       "    .dataframe tbody tr th:only-of-type {\n",
       "        vertical-align: middle;\n",
       "    }\n",
       "\n",
       "    .dataframe tbody tr th {\n",
       "        vertical-align: top;\n",
       "    }\n",
       "\n",
       "    .dataframe thead th {\n",
       "        text-align: right;\n",
       "    }\n",
       "</style>\n",
       "<table border=\"1\" class=\"dataframe\">\n",
       "  <thead>\n",
       "    <tr style=\"text-align: right;\">\n",
       "      <th></th>\n",
       "      <th>id</th>\n",
       "      <th>ekg_date</th>\n",
       "      <th>ekg_sinus</th>\n",
       "      <th>ekg_eos</th>\n",
       "      <th>ekg_qrs</th>\n",
       "      <th>ekg_qrst</th>\n",
       "      <th>ekg_pq</th>\n",
       "    </tr>\n",
       "  </thead>\n",
       "  <tbody>\n",
       "    <tr>\n",
       "      <th>0</th>\n",
       "      <td>0</td>\n",
       "      <td>02.12.2016</td>\n",
       "      <td>1</td>\n",
       "      <td>1</td>\n",
       "      <td>0.07</td>\n",
       "      <td>0.26</td>\n",
       "      <td>0.12</td>\n",
       "    </tr>\n",
       "    <tr>\n",
       "      <th>1</th>\n",
       "      <td>1</td>\n",
       "      <td>13.01.2017</td>\n",
       "      <td>1</td>\n",
       "      <td>3</td>\n",
       "      <td>0.06</td>\n",
       "      <td>0.00</td>\n",
       "      <td>0.12</td>\n",
       "    </tr>\n",
       "    <tr>\n",
       "      <th>2</th>\n",
       "      <td>2</td>\n",
       "      <td>17.01.2017</td>\n",
       "      <td>1</td>\n",
       "      <td>1</td>\n",
       "      <td>0.00</td>\n",
       "      <td>0.00</td>\n",
       "      <td>0.00</td>\n",
       "    </tr>\n",
       "    <tr>\n",
       "      <th>3</th>\n",
       "      <td>3</td>\n",
       "      <td>0</td>\n",
       "      <td>1</td>\n",
       "      <td>2</td>\n",
       "      <td>0.00</td>\n",
       "      <td>0.00</td>\n",
       "      <td>0.00</td>\n",
       "    </tr>\n",
       "    <tr>\n",
       "      <th>4</th>\n",
       "      <td>4</td>\n",
       "      <td>14.02.17</td>\n",
       "      <td>1</td>\n",
       "      <td>1</td>\n",
       "      <td>0.00</td>\n",
       "      <td>0.00</td>\n",
       "      <td>0.00</td>\n",
       "    </tr>\n",
       "  </tbody>\n",
       "</table>\n",
       "</div>"
      ],
      "text/plain": [
       "   id    ekg_date  ekg_sinus  ekg_eos  ekg_qrs  ekg_qrst  ekg_pq\n",
       "0   0  02.12.2016          1        1     0.07      0.26    0.12\n",
       "1   1  13.01.2017          1        3     0.06      0.00    0.12\n",
       "2   2  17.01.2017          1        1     0.00      0.00    0.00\n",
       "3   3           0          1        2     0.00      0.00    0.00\n",
       "4   4    14.02.17          1        1     0.00      0.00    0.00"
      ]
     },
     "execution_count": 108,
     "metadata": {},
     "output_type": "execute_result"
    }
   ],
   "source": [
    "ekg.head()"
   ]
  },
  {
   "cell_type": "markdown",
   "id": "23170c72-e893-4730-8efc-723009a2bbca",
   "metadata": {},
   "source": [
    "## Количество исследований"
   ]
  },
  {
   "cell_type": "code",
   "execution_count": 109,
   "id": "f9c04c92-e640-4a5b-9875-702d75ecc008",
   "metadata": {},
   "outputs": [],
   "source": [
    "analysis_count = df2[['id', 'eho', 'ekg', 'akg', 'kt']].copy()"
   ]
  },
  {
   "cell_type": "code",
   "execution_count": 110,
   "id": "aff14a84-c3df-4180-aa6e-3af74427e7f3",
   "metadata": {},
   "outputs": [],
   "source": [
    "analysis_count['eho_count'] = (analysis_count['eho']\n",
    "                               .map(lambda x: 0 if x == 'nan' else 1))\n",
    "\n",
    "analysis_count['ekg_count'] = (analysis_count['ekg']\n",
    "                               .map(lambda x: 0 if x == 'nan' else 1))\n",
    "\n",
    "analysis_count['akg_count'] = (analysis_count['akg']\n",
    "                               .map(lambda x: 0 if x == 'nan' else 1))\n",
    "\n",
    "analysis_count['kt_count'] = (analysis_count['kt']\n",
    "                              .map(lambda x: 0 if x == 'nan' else 1))"
   ]
  },
  {
   "cell_type": "code",
   "execution_count": 111,
   "id": "42649a13-bd85-40ee-aabc-17b857238c06",
   "metadata": {},
   "outputs": [],
   "source": [
    "analysis_count['total'] = sum([analysis_count['kt_count'], analysis_count['akg_count'], \n",
    "                               analysis_count['ekg_count'], analysis_count['eho_count']]) "
   ]
  },
  {
   "cell_type": "code",
   "execution_count": 112,
   "id": "5e9c634c-6799-4c7f-b486-ff243abf968d",
   "metadata": {},
   "outputs": [
    {
     "data": {
      "text/plain": [
       "2    904\n",
       "3    385\n",
       "1    127\n",
       "0     50\n",
       "4     24\n",
       "Name: total, dtype: int64"
      ]
     },
     "execution_count": 112,
     "metadata": {},
     "output_type": "execute_result"
    }
   ],
   "source": [
    "analysis_count['total'].value_counts()"
   ]
  },
  {
   "cell_type": "markdown",
   "id": "c457a560-3ab7-436a-bac0-f8aa24c4ea2e",
   "metadata": {},
   "source": [
    "## Медикаменты, диагноз, мкб"
   ]
  },
  {
   "cell_type": "code",
   "execution_count": 115,
   "id": "ac65e6a7-cf66-44fc-9782-b3ca0b2a7895",
   "metadata": {
    "tags": []
   },
   "outputs": [],
   "source": [
    "df2['medication_main'] = df2['medication_main'].str.lower().replace(r'[^а-яА-Я0-9 ]', ' ', regex=True)\n",
    "df2['medications_taken'] = df2['medications_taken'].str.lower().replace(r'[^а-яА-Я0-9 ]', ' ', regex=True)\n",
    "df2['diagnosis'] = df2['diagnosis'].str.lower().replace(r'[^а-яА-Я0-9 ]', ' ', regex=True)\n",
    "df2['mkb'] = df2['mkb'].str.lower().replace(r'[^а-яА-Яa-zA-ZёЁ0-9. ]', ' ', regex=True)"
   ]
  },
  {
   "cell_type": "markdown",
   "id": "22a0b6c9-522b-420e-80f2-1b9ca6a6e56d",
   "metadata": {},
   "source": [
    "Лемматизируем токены в диагнозе."
   ]
  },
  {
   "cell_type": "code",
   "execution_count": 116,
   "id": "9ab564be-12b9-4a6a-94d0-ab6f82148d82",
   "metadata": {
    "tags": []
   },
   "outputs": [
    {
     "name": "stdout",
     "output_type": "stream",
     "text": [
      "CPU times: user 1.5 s, sys: 19.8 s, total: 21.3 s\n",
      "Wall time: 28min 13s\n"
     ]
    }
   ],
   "source": [
    "%%time\n",
    "df2['diagnosis'] = df2['diagnosis'].apply(lambda series: ''.join(Mystem().lemmatize(series)))"
   ]
  },
  {
   "cell_type": "code",
   "execution_count": 313,
   "id": "8ab901ab-29a8-4bf9-8ed0-cda58c9a43b3",
   "metadata": {},
   "outputs": [],
   "source": [
    "# %%time\n",
    "# df['first_operation'] = df['first_operation'].apply(lambda series: ''.join(Mystem().lemmatize(series)))\n",
    "\n",
    "# %%time\n",
    "# df['accomp_ill'] = df['accomp_ill'].apply(lambda series: ''.join(Mystem().lemmatize(series)))"
   ]
  },
  {
   "cell_type": "markdown",
   "id": "66cf427b-23ae-44b4-b109-acd0c377de9f",
   "metadata": {},
   "source": [
    "Оставим в выборке только 12 признаков. В будущем необходимо выбрать способ кодирования текстовых признаков. Можно попробовать найти дообученный на мед. текстах BERT."
   ]
  },
  {
   "cell_type": "code",
   "execution_count": 314,
   "id": "62235b22-95dd-474a-bddf-ac400231b105",
   "metadata": {
    "tags": []
   },
   "outputs": [],
   "source": [
    "# df.drop(['birth', 'дата опер.', 'date_of_oper', \n",
    "#          'admittion', 'discharge', 'диагноз', 'мкб',\n",
    "#          'медикам. леч. по поводу осн. забол. (из анамн.)',\n",
    "#          'принимаемые препараты (из анамн.)',\n",
    "#          'соп. забол. (из анамн.)',\n",
    "#          'операция (основная / первая в иб)',\n",
    "#          'операции (все в иб)',\n",
    "#          'перенесенные опер. (из анамн.)',\n",
    "#          'эхокг (из эпикр. до опер.)',\n",
    "#          'экг (из эпикр. до опер.)', \n",
    "#          'акг (из эпикр. до опер.)', \n",
    "#          'кт (из эпикр. до опер.)'], \n",
    "#         axis=1, inplace=True)"
   ]
  },
  {
   "cell_type": "markdown",
   "id": "4ee09ad7-c81d-4aa9-a032-1074156138ae",
   "metadata": {},
   "source": [
    "### BERT"
   ]
  },
  {
   "cell_type": "markdown",
   "id": "7f833019-c3d5-4e19-816e-368d8de648ef",
   "metadata": {},
   "source": [
    "Не дообученный берт не помог улучшить качество."
   ]
  },
  {
   "cell_type": "code",
   "execution_count": 316,
   "id": "f3ef6096-9cbe-46f5-b100-ddfce55aced7",
   "metadata": {},
   "outputs": [],
   "source": [
    "# import torch\n",
    "# import transformers \n",
    "# from tqdm import notebook\n",
    "# import numpy as np\n",
    "\n",
    "# df.reset_index(inplace=True, drop=True)\n",
    "\n",
    "# tokenizer = transformers.BertTokenizer(vocab_file='/Users/anshilina/practicum/rubert/vocab.txt')\n",
    "\n",
    "# tokenized = []\n",
    "# for i in notebook.tqdm(range(df['diagnosis'].shape[0])):\n",
    "#     tokenized.append(tokenizer.encode(df['diagnosis'][i], max_length=512, truncation=True, add_special_tokens=True))\n",
    "    \n",
    "# max_vector = max(len(token) for token in tokenized)\n",
    "# padded = np.array([i + [0]*(max_vector - len(i)) for i in tokenized])\n",
    "# attention_mask = np.where(padded != 0, 1, 0)\n",
    "\n",
    "# config = transformers.BertConfig.from_json_file('/Users/anshilina/practicum/rubert/config.json')\n",
    "# model = transformers.BertModel.from_pretrained('/Users/anshilina/practicum/rubert/pytorch_model.bin', config=config) \n",
    "\n",
    "# batch_size = 149\n",
    "# embeddings = []\n",
    "\n",
    "# for i in notebook.tqdm(range(padded.shape[0] // batch_size)):\n",
    "    \n",
    "#     batch = torch.LongTensor(padded[batch_size*i:batch_size*(i+1)])\n",
    "#     attention_mask_batch = torch.LongTensor(attention_mask[batch_size*i:batch_size*(i+1)]) \n",
    "    \n",
    "#     with torch.no_grad():\n",
    "#         batch_embeddings = model(batch, attention_mask=attention_mask_batch)\n",
    "#     embeddings.append(batch_embeddings[0][:,0,:].numpy()) \n",
    "    \n",
    "    \n",
    "# diagnosis = pd.DataFrame(np.concatenate(embeddings))\n",
    "# diagnosis.columns = [str(i) + 'emb' for i in diagnosis.columns]\n",
    "# df = df.join(diagnosis)\n",
    "# df.drop(['diagnosis', 'main_operation'], axis=1, inplace=True)"
   ]
  },
  {
   "cell_type": "markdown",
   "id": "57b0bf92-9ba5-47fe-a437-78b015880d2a",
   "metadata": {},
   "source": [
    "В будущем необходимо предобработать и добавить `akg` и `kt` в модель."
   ]
  },
  {
   "cell_type": "code",
   "execution_count": 119,
   "id": "e7f7d97b-db55-475b-82ef-7b8aecd0b1fe",
   "metadata": {
    "tags": []
   },
   "outputs": [],
   "source": [
    "df2 = df2[['id', 'sex', 'height', 'weight', 'bmi', 'bsa', \n",
    "         'age', 'diagnosis', 'mkb', 'medication_main', \n",
    "         'medications_taken',  'days_in_hospital', 'target']].copy()"
   ]
  },
  {
   "cell_type": "code",
   "execution_count": 120,
   "id": "b8b33e31-d6fe-46a0-a02e-7611f5167580",
   "metadata": {},
   "outputs": [],
   "source": [
    "median_fv = eho.loc[eho['fv'] != -1, 'fv'].describe()[5]\n",
    "eho['fv'] = eho['fv'].map(lambda x: median_fv if x == -1 else x)"
   ]
  },
  {
   "cell_type": "code",
   "execution_count": 121,
   "id": "1e187a1b-1aad-4fad-be09-a74ff2308752",
   "metadata": {},
   "outputs": [],
   "source": [
    "median_lg_kdr = eho.loc[eho['lg_kdr_size'] != -1, 'lg_kdr_size'].describe()[5]\n",
    "eho['fv'] = eho['fv'].map(lambda x: median_lg_kdr if x == -1 else x)"
   ]
  },
  {
   "cell_type": "code",
   "execution_count": 122,
   "id": "10a2650f-4a84-4d43-ac47-8e75af320d2d",
   "metadata": {},
   "outputs": [],
   "source": [
    "eho = eho[['id', 'fv', 'lg_kdr_size', 'lg_hipoplaz', \n",
    "           'pg_big', 'pg_hypertrop', 'dmgp']].copy()"
   ]
  },
  {
   "cell_type": "code",
   "execution_count": 123,
   "id": "e44a2843-b409-4ac5-871c-0991aae2d8f8",
   "metadata": {},
   "outputs": [],
   "source": [
    "ekg = ekg[['id', 'ekg_sinus', 'ekg_eos', 'ekg_qrs', 'ekg_qrst', 'ekg_pq']].copy()"
   ]
  },
  {
   "cell_type": "code",
   "execution_count": 124,
   "id": "6c3cbc02-024c-4f73-bcdd-21611ce0b7ee",
   "metadata": {},
   "outputs": [],
   "source": [
    "analysis_count = analysis_count[['id', 'total']].copy()"
   ]
  },
  {
   "cell_type": "code",
   "execution_count": 141,
   "id": "6d034399-d85e-4441-aeec-bc14f1c2af50",
   "metadata": {},
   "outputs": [],
   "source": [
    "df2 = df2.merge(eho, on='id', how='left')\n",
    "df2 = df2.merge(ekg, on='id', how='left')\n",
    "df2 = df2.merge(analysis_count, on='id', how='left')"
   ]
  },
  {
   "cell_type": "code",
   "execution_count": 142,
   "id": "48425140-d7dd-49f9-aad9-84a2c8cbce56",
   "metadata": {},
   "outputs": [],
   "source": [
    "df2.to_csv('new_df3.csv', index=False)"
   ]
  },
  {
   "cell_type": "code",
   "execution_count": 143,
   "id": "f3887438-7905-4336-bda8-5504c4d64e9b",
   "metadata": {},
   "outputs": [],
   "source": [
    "df2.drop('id', axis=1, inplace=True)"
   ]
  },
  {
   "cell_type": "code",
   "execution_count": 144,
   "id": "8ca18c94-487c-4b94-8a0b-75f918f86821",
   "metadata": {},
   "outputs": [
    {
     "name": "stdout",
     "output_type": "stream",
     "text": [
      "<class 'pandas.core.frame.DataFrame'>\n",
      "Int64Index: 1490 entries, 0 to 1489\n",
      "Data columns (total 24 columns):\n",
      " #   Column             Non-Null Count  Dtype  \n",
      "---  ------             --------------  -----  \n",
      " 0   sex                1490 non-null   int64  \n",
      " 1   height             1490 non-null   float64\n",
      " 2   weight             1490 non-null   float64\n",
      " 3   bmi                1490 non-null   float64\n",
      " 4   bsa                1490 non-null   float64\n",
      " 5   age                1490 non-null   float64\n",
      " 6   diagnosis          1490 non-null   object \n",
      " 7   mkb                1490 non-null   object \n",
      " 8   medication_main    1490 non-null   object \n",
      " 9   medications_taken  1490 non-null   object \n",
      " 10  days_in_hospital   1490 non-null   int64  \n",
      " 11  target             1490 non-null   int64  \n",
      " 12  fv                 1490 non-null   float64\n",
      " 13  lg_kdr_size        1490 non-null   float64\n",
      " 14  lg_hipoplaz        1490 non-null   int64  \n",
      " 15  pg_big             1490 non-null   int64  \n",
      " 16  pg_hypertrop       1490 non-null   int64  \n",
      " 17  dmgp               1490 non-null   int64  \n",
      " 18  ekg_sinus          1490 non-null   int64  \n",
      " 19  ekg_eos            1490 non-null   int64  \n",
      " 20  ekg_qrs            1490 non-null   float64\n",
      " 21  ekg_qrst           1490 non-null   float64\n",
      " 22  ekg_pq             1490 non-null   float64\n",
      " 23  total              1490 non-null   int64  \n",
      "dtypes: float64(10), int64(10), object(4)\n",
      "memory usage: 291.0+ KB\n"
     ]
    }
   ],
   "source": [
    "df2.info()"
   ]
  },
  {
   "cell_type": "code",
   "execution_count": 326,
   "id": "78c824f2-b5b5-4fba-99ad-86b16870c32b",
   "metadata": {},
   "outputs": [],
   "source": [
    "# df[['mkb', 'pg_big', 'ekg_eos']]"
   ]
  },
  {
   "cell_type": "code",
   "execution_count": 327,
   "id": "1e950e37-1d9e-4b0e-9fc3-e689386c9d6d",
   "metadata": {
    "tags": []
   },
   "outputs": [],
   "source": [
    "# df[['diagnosis', 'medication_main', 'medications_taken']]"
   ]
  },
  {
   "cell_type": "code",
   "execution_count": 328,
   "id": "b6510c41-09eb-4b25-9da0-164faaf17604",
   "metadata": {},
   "outputs": [],
   "source": [
    "# df[['sex', 'redo', 'lg_hipoplaz', 'pg_hypertrop', 'ekg_sinus']]"
   ]
  },
  {
   "cell_type": "code",
   "execution_count": 329,
   "id": "65ffedb0-9fd9-4de1-aac1-11b5e5710651",
   "metadata": {},
   "outputs": [],
   "source": [
    "# df[['height', 'weight', 'bmi', 'bsa', 'age', \n",
    "#     'days_in_hospital', 'fv', 'lg_kdr_size', \n",
    "#     'dmgp', 'ekg_qrs', 'ekg_qrst', 'ekg_pq']].columns.values"
   ]
  },
  {
   "cell_type": "code",
   "execution_count": 330,
   "id": "127e5de1-d04c-4828-b54f-cf18e9422c71",
   "metadata": {},
   "outputs": [],
   "source": [
    "df.drop('id', axis=1, inplace=True)"
   ]
  },
  {
   "cell_type": "markdown",
   "id": "d4d005e3-1833-44db-a227-4f288fb6f407",
   "metadata": {},
   "source": [
    "## Обучение моделей"
   ]
  },
  {
   "cell_type": "code",
   "execution_count": 2,
   "id": "7ca0d8ed-a753-4841-bed5-eff848e590e7",
   "metadata": {},
   "outputs": [],
   "source": [
    "# train = pd.read_csv('train.csv')\n",
    "# test = pd.read_csv('test.csv')"
   ]
  },
  {
   "cell_type": "code",
   "execution_count": 3,
   "id": "4a847b72-3d7c-4351-b413-15a76b88cace",
   "metadata": {},
   "outputs": [],
   "source": [
    "# train.drop(['id', 'redo', 'mkb'], axis=1, inplace=True)\n",
    "# test.drop(['id', 'mkb'], axis=1, inplace=True)"
   ]
  },
  {
   "cell_type": "code",
   "execution_count": 5,
   "id": "1f2e74db-ed6c-4738-8e35-415a57154009",
   "metadata": {},
   "outputs": [],
   "source": [
    "# features_train, target_train = train.drop('target', axis=1), train['target']\n",
    "# features_test, target_test = test.drop('target', axis=1), test['target']"
   ]
  },
  {
   "cell_type": "code",
   "execution_count": 4,
   "id": "c8a34145-e49e-4984-84e9-5288dad12f7a",
   "metadata": {},
   "outputs": [],
   "source": [
    "df = pd.read_csv('test.csv')\n",
    "df.drop(['id', 'mkb'], axis=1, inplace=True)"
   ]
  },
  {
   "cell_type": "code",
   "execution_count": 6,
   "id": "3a81ca1b-ca4a-4449-832b-9f3dc65897c5",
   "metadata": {},
   "outputs": [],
   "source": [
    "features, target = df.drop('target', axis=1), df['target']\n",
    "features_train, features_test, target_train, target_test = train_test_split(\n",
    "    features, target, stratify=target, test_size=0.25, random_state=42)"
   ]
  },
  {
   "cell_type": "markdown",
   "id": "cb9531a1-a52d-4232-b73c-67d1718a474f",
   "metadata": {},
   "source": [
    "Создадим пайплайны для предобаботки текстовых и числовых переменных. Для лиейных моделей будем скалировать числовые переменные, для деревянных – нет."
   ]
  },
  {
   "cell_type": "code",
   "execution_count": 7,
   "id": "9506ea50-db55-45c5-9f33-c853e56f6856",
   "metadata": {},
   "outputs": [],
   "source": [
    "numerical = ['height', 'weight', 'bmi', 'bsa', 'age', \n",
    "             'days_in_hospital', 'fv', 'lg_kdr_size', \n",
    "             'dmgp', 'ekg_qrs', 'ekg_qrst', 'ekg_pq', 'total']\n",
    "num_pipe = Pipeline([('scaler', StandardScaler())])\n",
    "\n",
    "categorical = ['pg_big', 'ekg_eos'] # 'mkb'\n",
    "cat_pipe = Pipeline([('ohe', OneHotEncoder())])\n",
    "\n",
    "stop_words = list(stopwords.words('russian')) \n",
    "text = ['diagnosis', 'medication_main', 'medications_taken']\n",
    "\n",
    "\n",
    "linear_preprocessor = ColumnTransformer(\n",
    "    transformers = [(x, TfidfVectorizer(stop_words=stop_words), x) for x in text] + \\\n",
    "                   [('num', num_pipe, numerical), ('cat', cat_pipe, categorical)], \n",
    "    remainder='passthrough')\n",
    "\n",
    "\n",
    "tree_preprocessor = ColumnTransformer(\n",
    "    transformers = [(x, TfidfVectorizer(stop_words=stop_words), x) for x in text] + \\\n",
    "                   [('cat', cat_pipe, categorical)],\n",
    "    remainder='passthrough')"
   ]
  },
  {
   "cell_type": "markdown",
   "id": "54f46c1c-da82-4926-9436-1ce1ac9834f5",
   "metadata": {},
   "source": [
    "Выборку разделим в соотношении 75:25. Используем стратификацию при разбиении. Также будем использовать `StratifiedKFold` при разбиении выборки на фолды на кросс-валидации."
   ]
  },
  {
   "cell_type": "code",
   "execution_count": 8,
   "id": "b147332c-bcb0-46fa-aefc-7d559c1f4801",
   "metadata": {},
   "outputs": [],
   "source": [
    "skf = StratifiedKFold(n_splits=5, shuffle=True, random_state=42)"
   ]
  },
  {
   "cell_type": "markdown",
   "id": "7d99e2b1-6a71-4dd2-9f7c-41070e277568",
   "metadata": {},
   "source": [
    "### Логистическая регрессия"
   ]
  },
  {
   "cell_type": "code",
   "execution_count": 9,
   "id": "d3a9dee8-4852-4e78-b497-167c05baa277",
   "metadata": {},
   "outputs": [],
   "source": [
    "model_lin = Pipeline([('preprocessor', linear_preprocessor),\n",
    "                      ('model', LogisticRegression(random_state=42, \n",
    "                                                   penalty='l2',\n",
    "                                                   solver='liblinear', \n",
    "                                                   max_iter=400,\n",
    "                                                   class_weight='balanced'))])"
   ]
  },
  {
   "cell_type": "code",
   "execution_count": 10,
   "id": "9f3132c7-e0cb-4988-85f1-9cfad5865a0e",
   "metadata": {
    "tags": []
   },
   "outputs": [
    {
     "data": {
      "text/plain": [
       "array([0.66666667, 0.44444444, 0.75      , 0.61538462, 0.52941176])"
      ]
     },
     "execution_count": 10,
     "metadata": {},
     "output_type": "execute_result"
    }
   ],
   "source": [
    "cross_val_score(model_lin, features_train, target_train, \n",
    "                cv=skf.split(features_train, target_train), \n",
    "                scoring='precision')"
   ]
  },
  {
   "cell_type": "markdown",
   "id": "325fefba-b11b-4a4d-a08f-925256e36afe",
   "metadata": {},
   "source": [
    "### Catboost"
   ]
  },
  {
   "cell_type": "code",
   "execution_count": 11,
   "id": "ad17332e-80f5-4221-91c5-bac836d498d4",
   "metadata": {},
   "outputs": [],
   "source": [
    "cat_clf = Pipeline([('preprocessor', tree_preprocessor),\n",
    "                    ('model', CatBoostClassifier(class_weights=dict(zip(np.unique(target_train), \n",
    "                                                                        compute_class_weight(class_weight='balanced', \n",
    "                                                                                             classes=np.unique(target_train), \n",
    "                                                                                             y=target_train))), silent=True, random_seed=42))])"
   ]
  },
  {
   "cell_type": "code",
   "execution_count": 12,
   "id": "f00186f7-861f-42db-8ed2-dc543236ca22",
   "metadata": {
    "tags": []
   },
   "outputs": [
    {
     "data": {
      "text/plain": [
       "array([0.98214286, 0.98660714, 0.98654709, 0.98206278, 0.98206278])"
      ]
     },
     "execution_count": 12,
     "metadata": {},
     "output_type": "execute_result"
    }
   ],
   "source": [
    "cross_val_score(cat_clf, features_train, target_train, cv=skf.split(features_train, target_train))"
   ]
  },
  {
   "cell_type": "markdown",
   "id": "f6d14d92-a725-43de-9d4d-6e5ee99f3f5f",
   "metadata": {},
   "source": [
    "Используем встроенные механихмы предобработки."
   ]
  },
  {
   "cell_type": "code",
   "execution_count": 13,
   "id": "c3652fd6-e352-4cc8-a482-b00e1c9a62fb",
   "metadata": {
    "collapsed": true,
    "jupyter": {
     "outputs_hidden": true
    },
    "tags": []
   },
   "outputs": [
    {
     "data": {
      "application/vnd.jupyter.widget-view+json": {
       "model_id": "71a8142a3edd47be9b3ae1561815aaf6",
       "version_major": 2,
       "version_minor": 0
      },
      "text/plain": [
       "MetricVisualizer(layout=Layout(align_self='stretch', height='500px'))"
      ]
     },
     "metadata": {},
     "output_type": "display_data"
    },
    {
     "name": "stdout",
     "output_type": "stream",
     "text": [
      "0:\tlearn: 0.3241929\ttest: 0.3304375\tbest: 0.3304375 (0)\ttotal: 73.9ms\tremaining: 36.9s\n",
      "250:\tlearn: 0.0022305\ttest: 0.4093579\tbest: 0.2326073 (13)\ttotal: 18.7s\tremaining: 18.6s\n",
      "499:\tlearn: 0.0022193\ttest: 0.4054478\tbest: 0.2326073 (13)\ttotal: 38s\tremaining: 0us\n",
      "\n",
      "bestTest = 0.2326073301\n",
      "bestIteration = 13\n",
      "\n",
      "Shrink model to first 14 iterations.\n"
     ]
    },
    {
     "data": {
      "text/plain": [
       "<catboost.core.CatBoostClassifier at 0x7f83892f7ac0>"
      ]
     },
     "execution_count": 13,
     "metadata": {},
     "output_type": "execute_result"
    }
   ],
   "source": [
    "train_pool = Pool(features_train, \n",
    "                  target_train,\n",
    "                  cat_features=categorical,\n",
    "                  text_features=text)\n",
    "\n",
    "valid_pool = Pool(features_test, \n",
    "                  target_test,\n",
    "                  cat_features=categorical,\n",
    "                  text_features=text)\n",
    "\n",
    "model = CatBoostClassifier(random_seed=42, verbose=250, eta=0.5, iterations=500,\n",
    "                           auto_class_weights='Balanced')\n",
    "\n",
    "model.fit(train_pool, eval_set=valid_pool, plot=True)"
   ]
  },
  {
   "cell_type": "markdown",
   "id": "b74eeb21-ea77-4bd7-9a2f-3aeac582e23e",
   "metadata": {},
   "source": [
    "#### Tree-based (or Gini) importance"
   ]
  },
  {
   "cell_type": "code",
   "execution_count": 14,
   "id": "d64823c4-efde-421f-a0be-de55cc5b078d",
   "metadata": {},
   "outputs": [
    {
     "data": {
      "image/png": "[encoded data removed]",
      "text/plain": [
       "<Figure size 864x432 with 1 Axes>"
      ]
     },
     "metadata": {
      "needs_background": "light"
     },
     "output_type": "display_data"
    }
   ],
   "source": [
    "feature_importance = model.feature_importances_\n",
    "sorted_idx = np.argsort(feature_importance)\n",
    "fig = plt.figure(figsize=(12, 6))\n",
    "plt.barh(range(len(sorted_idx)), feature_importance[sorted_idx], align='center')\n",
    "plt.yticks(range(len(sorted_idx)), np.array(features_train.columns)[sorted_idx])\n",
    "plt.title('Feature Importance');"
   ]
  },
  {
   "cell_type": "markdown",
   "id": "a65125f3-bd0a-4986-8b32-87e372f01b81",
   "metadata": {
    "tags": []
   },
   "source": [
    "#### Permutation importance"
   ]
  },
  {
   "cell_type": "code",
   "execution_count": 15,
   "id": "d75aaba0-1ee9-4889-99e2-03e256bc088a",
   "metadata": {},
   "outputs": [
    {
     "data": {
      "image/png": "[encoded data removed]",
      "text/plain": [
       "<Figure size 864x432 with 1 Axes>"
      ]
     },
     "metadata": {
      "needs_background": "light"
     },
     "output_type": "display_data"
    }
   ],
   "source": [
    "perm_importance = permutation_importance(model, features_train, target_train, n_repeats=10, random_state=42)\n",
    "sorted_idx = perm_importance.importances_mean.argsort()\n",
    "fig = plt.figure(figsize=(12, 6))\n",
    "plt.barh(range(len(sorted_idx)), perm_importance.importances_mean[sorted_idx], align='center')\n",
    "plt.yticks(range(len(sorted_idx)), np.array(features_train.columns)[sorted_idx])\n",
    "plt.title('Permutation Importance');"
   ]
  },
  {
   "cell_type": "markdown",
   "id": "2069ae44-5629-4644-a671-b0a5964685c0",
   "metadata": {},
   "source": [
    "### Decision tree"
   ]
  },
  {
   "cell_type": "code",
   "execution_count": 49,
   "id": "549cd74d-56af-40c5-a618-a038f524db91",
   "metadata": {},
   "outputs": [],
   "source": [
    "baseline_clf = Pipeline([('preprocessor', tree_preprocessor),\n",
    "                         # ('smote', SMOTE(random_state=42)),\n",
    "                         # ('border_smote', BorderlineSMOTE(random_state=42, n_jobs=-1)),\n",
    "                         # ('smote', SMOTEENN(smote=SMOTE(random_state=42, k_neighbors=3), random_state=42)),\n",
    "                         # ('adasyn', ADASYN(random_state=42, n_neighbors=3)),\n",
    "                         ('svm', SVMSMOTE(random_state=42)),\n",
    "                         ('model', DecisionTreeClassifier(class_weight='balanced',\n",
    "                                                          random_state=42))])\n",
    "\n",
    "baseline_grid = {'model__max_depth':[5,8,11]}\n",
    "\n",
    "baseline_gs = GridSearchCV(baseline_clf, baseline_grid, \n",
    "                           scoring='f1', n_jobs=-1, \n",
    "                           cv=skf.split(features_train, target_train))"
   ]
  },
  {
   "cell_type": "code",
   "execution_count": 50,
   "id": "0b4f44c8-2745-4623-8840-f9bff89a8ea5",
   "metadata": {},
   "outputs": [],
   "source": [
    "start = time.time()\n",
    "baseline_gs.fit(features_train, target_train)\n",
    "baseline_gs_time = time.time() - start"
   ]
  },
  {
   "cell_type": "code",
   "execution_count": 51,
   "id": "0b432fbc-4a8f-4183-91ca-7eebecec9ad3",
   "metadata": {},
   "outputs": [
    {
     "name": "stdout",
     "output_type": "stream",
     "text": [
      "Результаты подбора параметров.\n",
      "\n",
      "Время подбора параметров: 4.66 сек\n",
      "Время обучения модели: 0.21009 сек\n",
      "Время предсказания модели: 0.02352 сек\n",
      "Качество модели по кросс-валидации: 0.27142857142857146\n",
      "Лучшие значения параметров: {'model__max_depth': 8}\n"
     ]
    }
   ],
   "source": [
    "print('Результаты подбора параметров.\\n')\n",
    "print(f'Время подбора параметров: {round(baseline_gs_time, 2)} сек')\n",
    "print(f'Время обучения модели: {round(baseline_gs.cv_results_[\"mean_fit_time\"][baseline_gs.best_index_], 5)} сек')\n",
    "print(f'Время предсказания модели: {round(baseline_gs.cv_results_[\"mean_score_time\"][baseline_gs.best_index_], 5)} сек')\n",
    "print(f'Качество модели по кросс-валидации: {baseline_gs.best_score_}')\n",
    "print(f'Лучшие значения параметров: {baseline_gs.best_params_}')"
   ]
  },
  {
   "cell_type": "markdown",
   "id": "264f74ed-7580-4c39-a033-abed9385af7f",
   "metadata": {},
   "source": [
    "### Logistic regression"
   ]
  },
  {
   "cell_type": "code",
   "execution_count": 52,
   "id": "30cf037c-3e5e-43a2-baf8-7b44d74f957b",
   "metadata": {},
   "outputs": [],
   "source": [
    "lin_clf = Pipeline([('preprocessor', linear_preprocessor),\n",
    "                    # ('smote', SMOTE(random_state=42)),\n",
    "                    # ('border_smote', BorderlineSMOTE(random_state=42, n_jobs=-1)),\n",
    "                    # ('smoteen', SMOTEENN(smote=SMOTE(random_state=42, k_neighbors=3), random_state=42)),\n",
    "                    # ('adasyn', ADASYN(random_state=42, n_neighbors=3)),\n",
    "                    ('svm', SVMSMOTE(random_state=42)),\n",
    "                    ('model', LogisticRegression(class_weight='balanced',\n",
    "                                                 solver='liblinear'))])"
   ]
  },
  {
   "cell_type": "code",
   "execution_count": 53,
   "id": "34c7238d-aa65-4603-929a-430cab4cb610",
   "metadata": {},
   "outputs": [],
   "source": [
    "lin_grid = {'model__penalty': ['l1', 'l2'],\n",
    "            'model__C' : range(1, 8)}\n",
    "\n",
    "lin_gs = GridSearchCV(lin_clf, lin_grid, \n",
    "                      scoring='f1', n_jobs=-1, \n",
    "                      cv=skf.split(features_train, target_train))"
   ]
  },
  {
   "cell_type": "code",
   "execution_count": 54,
   "id": "5c4f5e95-89b9-4b87-83b0-34239fc3ce9f",
   "metadata": {
    "tags": []
   },
   "outputs": [],
   "source": [
    "start = time.time()\n",
    "lin_gs.fit(features_train, target_train)\n",
    "lin_gs_time = time.time() - start"
   ]
  },
  {
   "cell_type": "code",
   "execution_count": 55,
   "id": "ded97adf-4a65-4fbf-aeb7-b000068ad1ba",
   "metadata": {},
   "outputs": [
    {
     "name": "stdout",
     "output_type": "stream",
     "text": [
      "Результаты подбора параметров.\n",
      "\n",
      "Время подбора параметров: 2.03 сек\n",
      "Время обучения модели: 0.18239 сек\n",
      "Время предсказания модели: 0.02708 сек\n",
      "Качество модели по кросс-валидации: 0.45999999999999996\n",
      "Лучшие значения параметров: {'model__C': 5, 'model__penalty': 'l2'}\n"
     ]
    }
   ],
   "source": [
    "print('Результаты подбора параметров.\\n')\n",
    "print(f'Время подбора параметров: {round(lin_gs_time, 2)} сек')\n",
    "print(f'Время обучения модели: {round(lin_gs.cv_results_[\"mean_fit_time\"][lin_gs.best_index_], 5)} сек')\n",
    "print(f'Время предсказания модели: {round(lin_gs.cv_results_[\"mean_score_time\"][lin_gs.best_index_], 5)} сек')\n",
    "print(f'Качество модели по кросс-валидации: {lin_gs.best_score_}')\n",
    "print(f'Лучшие значения параметров: {lin_gs.best_params_}')"
   ]
  },
  {
   "cell_type": "markdown",
   "id": "d39ba64e-4d7f-4873-8a68-d0b2b4ded56f",
   "metadata": {},
   "source": [
    "### Random forest"
   ]
  },
  {
   "cell_type": "code",
   "execution_count": 56,
   "id": "68d5ad39-cca6-427d-b313-c636bccf17b5",
   "metadata": {},
   "outputs": [],
   "source": [
    "forest_clf = Pipeline([('preprocessor', tree_preprocessor),\n",
    "                       # ('smote', SMOTE(random_state=42)),\n",
    "                       # ('border_smote', BorderlineSMOTE(random_state=42, n_jobs=-1)),\n",
    "                       # ('smote', SMOTEENN(smote=SMOTE(random_state=42, k_neighbors=3), random_state=42)),\n",
    "                       # ('adasyn', ADASYN(random_state=42, n_neighbors=3)),\n",
    "                       ('svm', SVMSMOTE(random_state=42)),\n",
    "                       ('model', RandomForestClassifier(class_weight='balanced',\n",
    "                                                        random_state=42))])"
   ]
  },
  {
   "cell_type": "code",
   "execution_count": 57,
   "id": "08aa21be-2d61-4e16-8cff-da8015c7a13e",
   "metadata": {},
   "outputs": [],
   "source": [
    "forest_grid = {'model__max_depth':[4,5,8,10],\n",
    "               'model__n_estimators': range(10, 50, 5)}\n",
    "\n",
    "forest_gs = GridSearchCV(forest_clf, forest_grid, \n",
    "                         scoring='f1', n_jobs=-1, \n",
    "                         cv=skf.split(features_train, target_train))"
   ]
  },
  {
   "cell_type": "code",
   "execution_count": 58,
   "id": "6e2f2318-4508-43b3-9036-e13c3e17c044",
   "metadata": {},
   "outputs": [],
   "source": [
    "start = time.time()\n",
    "forest_gs.fit(features_train, target_train)\n",
    "forest_gs_time = time.time() - start"
   ]
  },
  {
   "cell_type": "code",
   "execution_count": 59,
   "id": "20a32c52-c694-4b48-8ced-b42ea499432a",
   "metadata": {},
   "outputs": [
    {
     "name": "stdout",
     "output_type": "stream",
     "text": [
      "Результаты подбора параметров.\n",
      "\n",
      "Время подбора параметров: 5.94 сек\n",
      "Время обучения модели: 0.24985 сек\n",
      "Время предсказания модели: 0.03006 сек\n",
      "Качество модели по кросс-валидации: 0.3333333333333333\n",
      "Лучшие значения параметров: {'model__max_depth': 4, 'model__n_estimators': 35}\n"
     ]
    }
   ],
   "source": [
    "print('Результаты подбора параметров.\\n')\n",
    "print(f'Время подбора параметров: {round(forest_gs_time, 2)} сек')\n",
    "print(f'Время обучения модели: {round(forest_gs.cv_results_[\"mean_fit_time\"][forest_gs.best_index_], 5)} сек')\n",
    "print(f'Время предсказания модели: {round(forest_gs.cv_results_[\"mean_score_time\"][forest_gs.best_index_], 5)} сек')\n",
    "print(f'Качество модели по кросс-валидации: {forest_gs.best_score_}')\n",
    "print(f'Лучшие значения параметров: {forest_gs.best_params_}')"
   ]
  },
  {
   "cell_type": "markdown",
   "id": "5f7ba8a2-1649-49cc-a5b2-bdacf8b6b72a",
   "metadata": {},
   "source": [
    "### Balanced forest"
   ]
  },
  {
   "cell_type": "code",
   "execution_count": 60,
   "id": "89a7eaeb-1aa3-4427-9c3c-9192ecd6511c",
   "metadata": {},
   "outputs": [],
   "source": [
    "balanced_forest_clf = Pipeline([('preprocessor', tree_preprocessor),\n",
    "                                # ('smote', SMOTE(random_state=42)),\n",
    "                                # ('border_smote', BorderlineSMOTE(random_state=42, n_jobs=-1)),\n",
    "                                # ('smote', SMOTEENN(smote=SMOTE(random_state=42, k_neighbors=3), random_state=42)),\n",
    "                                # ('adasyn', ADASYN(random_state=42, n_neighbors=3)),\n",
    "                                ('svm', SVMSMOTE(random_state=42)),\n",
    "                                ('model', BalancedRandomForestClassifier(random_state=42, \n",
    "                                                                         class_weight='balanced',\n",
    "                                                                         n_jobs=-1))])"
   ]
  },
  {
   "cell_type": "code",
   "execution_count": 61,
   "id": "8751d1c4-8e1a-4b4f-8a4f-ee310c197722",
   "metadata": {},
   "outputs": [],
   "source": [
    "# balanced_forest_grid = {'model__max_depth':[4,5,8,10],\n",
    "#                         'model__n_estimators': range(10, 50, 5)}\n",
    "\n",
    "# balanced_forest_grid = GridSearchCV(balanced_forest_clf, balanced_forest_grid, \n",
    "#                                     scoring='f1', n_jobs=-1, \n",
    "#                                     cv=skf.split(features_train, target_train))"
   ]
  },
  {
   "cell_type": "code",
   "execution_count": 63,
   "id": "f197951e-cc4a-4018-bc9c-2ae28b82fb77",
   "metadata": {},
   "outputs": [],
   "source": [
    "# start = time.time()\n",
    "# balanced_forest_grid.fit(features_train, target_train)\n",
    "# balanced_forest_time = time.time() - start"
   ]
  },
  {
   "cell_type": "code",
   "execution_count": 64,
   "id": "96475ff0-753d-4360-84cb-38d6c3a8ef9d",
   "metadata": {},
   "outputs": [],
   "source": [
    "# print('Результаты подбора параметров.\\n')\n",
    "# print(f'Время подбора параметров: {round(balanced_forest_time, 2)} сек')\n",
    "# print(f'Время обучения модели: {round(balanced_forest_grid.cv_results_[\"mean_fit_time\"][balanced_forest_grid.best_index_], 5)} сек')\n",
    "# print(f'Время предсказания модели: {round(balanced_forest_grid.cv_results_[\"mean_score_time\"][balanced_forest_grid.best_index_], 5)} сек')\n",
    "# print(f'Качество модели по кросс-валидации: {balanced_forest_grid.best_score_}')\n",
    "# print(f'Лучшие значения параметров: {balanced_forest_grid.best_params_}')"
   ]
  },
  {
   "cell_type": "markdown",
   "id": "41c37862-826e-4282-a04e-bdc5dd300808",
   "metadata": {},
   "source": [
    "### Catboost"
   ]
  },
  {
   "cell_type": "code",
   "execution_count": 16,
   "id": "2dbb1ecb-9f4b-4e86-9465-4836b549d864",
   "metadata": {},
   "outputs": [],
   "source": [
    "cat_clf = Pipeline([('preprocessor', tree_preprocessor),\n",
    "                    # ('smote', SMOTE(random_state=42)),\n",
    "                    # ('border_smote', BorderlineSMOTE(random_state=42, n_jobs=-1)),\n",
    "                    # ('smote', SMOTEENN(smote=SMOTE(random_state=42, k_neighbors=3), random_state=42)),   \n",
    "                    # ('adasyn', ADASYN(random_state=42, n_neighbors=3)),\n",
    "                    ('svm', SVMSMOTE(random_state=42)),\n",
    "                    ('model', CatBoostClassifier(class_weights=dict(zip(np.unique(target_train), \n",
    "                                                                        compute_class_weight(class_weight='balanced', \n",
    "                                                                                             classes=np.unique(target_train), \n",
    "                                                                                             y=target_train))), \n",
    "                                                 silent=True, random_seed=42))])"
   ]
  },
  {
   "cell_type": "code",
   "execution_count": 17,
   "id": "aaa16524-0cf4-4aed-97d5-de69618bc499",
   "metadata": {},
   "outputs": [],
   "source": [
    "cat_grid = {'model__depth':[5,8,10],\n",
    "            'model__iterations': [100, 150, 200]} \n",
    "\n",
    "cat_gs = GridSearchCV(cat_clf, cat_grid, \n",
    "                      scoring='f1', n_jobs=-1, \n",
    "                      cv=skf.split(features_train, target_train))"
   ]
  },
  {
   "cell_type": "code",
   "execution_count": 18,
   "id": "40255c72-d42a-422e-a4f9-96782b1783fb",
   "metadata": {},
   "outputs": [],
   "source": [
    "start = time.time()\n",
    "cat_gs.fit(features_train, target_train)\n",
    "cat_gs_time = time.time() - start"
   ]
  },
  {
   "cell_type": "code",
   "execution_count": 68,
   "id": "63453116-1d9c-49b2-9ac0-db5400a1b7eb",
   "metadata": {},
   "outputs": [
    {
     "name": "stdout",
     "output_type": "stream",
     "text": [
      "Результаты подбора параметров.\n",
      "\n",
      "Время подбора параметров: 4.0 мин\n",
      "Время обучения модели: 89.99023 сек\n",
      "Время предсказания модели: 0.06881 сек\n",
      "Качество модели по кросс-валидации: 0.38\n",
      "Лучшие значения параметров: {'model__depth': 10, 'model__iterations': 200}\n"
     ]
    }
   ],
   "source": [
    "print('Результаты подбора параметров.\\n')\n",
    "print(f'Время подбора параметров: {round(cat_gs_time // 60, 2)} мин')\n",
    "print(f'Время обучения модели: {round(cat_gs.cv_results_[\"mean_fit_time\"][cat_gs.best_index_], 5)} сек')\n",
    "print(f'Время предсказания модели: {round(cat_gs.cv_results_[\"mean_score_time\"][cat_gs.best_index_], 5)} сек')\n",
    "print(f'Качество модели по кросс-валидации: {cat_gs.best_score_}')\n",
    "print(f'Лучшие значения параметров: {cat_gs.best_params_}')"
   ]
  },
  {
   "cell_type": "code",
   "execution_count": 19,
   "id": "4d287b8b-a38d-49a2-a06a-5d4fe234f3a1",
   "metadata": {},
   "outputs": [
    {
     "data": {
      "image/png": "[encoded data removed]",
      "text/plain": [
       "<Figure size 432x288 with 2 Axes>"
      ]
     },
     "metadata": {
      "needs_background": "light"
     },
     "output_type": "display_data"
    }
   ],
   "source": [
    "ConfusionMatrixDisplay(confusion_matrix(target_test,  cat_gs.best_estimator_.predict(features_test))).plot();"
   ]
  },
  {
   "cell_type": "code",
   "execution_count": 23,
   "id": "a8bca50c-3564-4f55-994b-58e66059ecad",
   "metadata": {},
   "outputs": [
    {
     "name": "stdout",
     "output_type": "stream",
     "text": [
      "              precision    recall  f1-score   support\n",
      "\n",
      "           0       0.99      0.98      0.98       351\n",
      "           1       0.69      0.82      0.75        22\n",
      "\n",
      "    accuracy                           0.97       373\n",
      "   macro avg       0.84      0.90      0.87       373\n",
      "weighted avg       0.97      0.97      0.97       373\n",
      "\n"
     ]
    }
   ],
   "source": [
    "print(classification_report(target_test, cat_gs.best_estimator_.predict(features_test)))"
   ]
  }
 ],
 "metadata": {
  "kernelspec": {
   "display_name": "Python 3 (ipykernel)",
   "language": "python",
   "name": "python3"
  },
  "language_info": {
   "codemirror_mode": {
    "name": "ipython",
    "version": 3
   },
   "file_extension": ".py",
   "mimetype": "text/x-python",
   "name": "python",
   "nbconvert_exporter": "python",
   "pygments_lexer": "ipython3",
   "version": "3.9.12"
  }
 },
 "nbformat": 4,
 "nbformat_minor": 5
}
