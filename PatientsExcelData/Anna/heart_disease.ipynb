{
 "cells": [
  {
   "cell_type": "code",
   "execution_count": 1,
   "id": "078c7278-51e1-4bdf-9067-3e415cf4f72a",
   "metadata": {
    "tags": []
   },
   "outputs": [
    {
     "name": "stderr",
     "output_type": "stream",
     "text": [
      "[nltk_data] Downloading package stopwords to\n",
      "[nltk_data]     /Users/anshilina/nltk_data...\n",
      "[nltk_data]   Package stopwords is already up-to-date!\n"
     ]
    }
   ],
   "source": [
    "import pandas as pd\n",
    "import numpy as np\n",
    "import time\n",
    "\n",
    "from pymystem3 import Mystem\n",
    "import re\n",
    "import nltk\n",
    "from nltk.corpus import stopwords\n",
    "nltk.download('stopwords')\n",
    "\n",
    "import torch\n",
    "import transformers \n",
    "from tqdm import notebook\n",
    "\n",
    "from sklearn.feature_extraction.text import TfidfVectorizer\n",
    "from sklearn.preprocessing import StandardScaler\n",
    "from sklearn.compose import ColumnTransformer\n",
    "from sklearn.model_selection import train_test_split, StratifiedKFold, GridSearchCV, RandomizedSearchCV, cross_val_score\n",
    "from sklearn.tree import DecisionTreeClassifier\n",
    "from sklearn.linear_model import LogisticRegression\n",
    "from sklearn.ensemble import RandomForestClassifier\n",
    "from sklearn.utils.class_weight import compute_class_weight\n",
    "from sklearn.metrics import classification_report, confusion_matrix, ConfusionMatrixDisplay\n",
    "\n",
    "from imblearn.pipeline import Pipeline\n",
    "from imblearn.over_sampling import SMOTE, ADASYN, BorderlineSMOTE, KMeansSMOTE, SVMSMOTE\n",
    "from imblearn.combine import SMOTEENN\n",
    "from imblearn.metrics import classification_report_imbalanced\n",
    "from imblearn.ensemble import BalancedRandomForestClassifier\n",
    "\n",
    "from lightgbm import LGBMClassifier\n",
    "from catboost import CatBoostClassifier\n",
    "from xgboost import XGBClassifier\n",
    "\n",
    "import matplotlib.pyplot as plt\n",
    "import seaborn as sns"
   ]
  },
  {
   "cell_type": "markdown",
   "id": "d94ab1bb-421d-4f9b-841e-c5283d41a531",
   "metadata": {},
   "source": [
    "## Исследовательский анализ данных"
   ]
  },
  {
   "cell_type": "markdown",
   "id": "381910a7-ad62-4773-8c05-5de2531489ad",
   "metadata": {},
   "source": [
    "Чтобы не тратить время на прогон кода, можно загрузить сразу предобработанный файл `df_new.csv`. В начале обучения моделей."
   ]
  },
  {
   "cell_type": "code",
   "execution_count": 2,
   "id": "59b4ae29-3aa1-4767-a018-545b296ae2cf",
   "metadata": {},
   "outputs": [],
   "source": [
    "df = pd.read_excel('/Users/anshilina/Downloads/patients_data.xlsx')"
   ]
  },
  {
   "cell_type": "code",
   "execution_count": 3,
   "id": "6350cf14-d5d9-474c-9660-5da5f795fc38",
   "metadata": {},
   "outputs": [],
   "source": [
    "df.columns = ['admittion', 'discharge', 'sex', 'height', 'weight', 'bmi', 'bsa', 'birth',\n",
    "              'age', 'total_operations', 'before_operations', 'redo', 'diagnosis', 'mkb', 'accomp_ill',\n",
    "              'medication_main', 'medications_taken', 'eho', 'ekg', 'akg', 'kt', 'first_operation',\n",
    "              'operation_date', 'date_of_oper', 'target']\n",
    "\n",
    "df['id'] = df.index"
   ]
  },
  {
   "cell_type": "markdown",
   "id": "ffd0ac15-533b-4e57-a73a-4b5ec550e364",
   "metadata": {},
   "source": [
    "Переведем дату к одному формату."
   ]
  },
  {
   "cell_type": "code",
   "execution_count": 4,
   "id": "cc335e87-e0cd-4684-8b0d-b946785df124",
   "metadata": {},
   "outputs": [],
   "source": [
    "def date_parser(series):\n",
    "    if '-' in str(series):\n",
    "        return pd.to_datetime(series, format='%Y-%m-%d')\n",
    "    else:\n",
    "        return pd.to_datetime(series, format='%d.%m.%Y')"
   ]
  },
  {
   "cell_type": "code",
   "execution_count": 5,
   "id": "313269bb-f5c9-40f0-9afa-15c1775992ee",
   "metadata": {},
   "outputs": [],
   "source": [
    "dates = ['admittion', 'discharge', 'birth', 'date_of_oper']\n",
    "\n",
    "for col in dates:\n",
    "    df[col] = df[col].apply(date_parser)"
   ]
  },
  {
   "cell_type": "markdown",
   "id": "a0e0f51b-b6ba-4892-9b74-cb1aa2a64c19",
   "metadata": {},
   "source": [
    "Сгенерим переменные `age` и `days_in_hospital` (количество дней до выписки). Преобразуем переменные `sex` и `redo`."
   ]
  },
  {
   "cell_type": "code",
   "execution_count": 6,
   "id": "622a0b3f-c75f-4d5e-bbe9-768576acbdab",
   "metadata": {},
   "outputs": [],
   "source": [
    "df['age'] = (df['date_of_oper'] - df['birth']).dt.days / 30\n",
    "df['days_in_hospital'] = (df['discharge'] - df['admittion']).dt.days\n",
    "df['sex'] = df['sex'].apply(lambda row: 1 if row == 'm' else 0)\n",
    "df['redo'] = df['redo'].apply(lambda row: 0 if row == ' ' else 1)"
   ]
  },
  {
   "cell_type": "code",
   "execution_count": 7,
   "id": "5727db30-784b-449e-9b7a-fdf9da9976ef",
   "metadata": {},
   "outputs": [
    {
     "data": {
      "text/html": [
       "<div>\n",
       "<style scoped>\n",
       "    .dataframe tbody tr th:only-of-type {\n",
       "        vertical-align: middle;\n",
       "    }\n",
       "\n",
       "    .dataframe tbody tr th {\n",
       "        vertical-align: top;\n",
       "    }\n",
       "\n",
       "    .dataframe thead th {\n",
       "        text-align: right;\n",
       "    }\n",
       "</style>\n",
       "<table border=\"1\" class=\"dataframe\">\n",
       "  <thead>\n",
       "    <tr style=\"text-align: right;\">\n",
       "      <th></th>\n",
       "      <th>sex</th>\n",
       "      <th>height</th>\n",
       "      <th>weight</th>\n",
       "      <th>bmi</th>\n",
       "      <th>bsa</th>\n",
       "      <th>age</th>\n",
       "      <th>redo</th>\n",
       "      <th>target</th>\n",
       "      <th>id</th>\n",
       "      <th>days_in_hospital</th>\n",
       "    </tr>\n",
       "  </thead>\n",
       "  <tbody>\n",
       "    <tr>\n",
       "      <th>count</th>\n",
       "      <td>300.000000</td>\n",
       "      <td>300.000000</td>\n",
       "      <td>300.000000</td>\n",
       "      <td>298.000000</td>\n",
       "      <td>298.000000</td>\n",
       "      <td>300.000000</td>\n",
       "      <td>300.000000</td>\n",
       "      <td>300.000000</td>\n",
       "      <td>300.000000</td>\n",
       "      <td>300.000000</td>\n",
       "    </tr>\n",
       "    <tr>\n",
       "      <th>mean</th>\n",
       "      <td>0.546667</td>\n",
       "      <td>64.890000</td>\n",
       "      <td>6.293560</td>\n",
       "      <td>76.834430</td>\n",
       "      <td>0.336477</td>\n",
       "      <td>6.817556</td>\n",
       "      <td>0.263333</td>\n",
       "      <td>0.046667</td>\n",
       "      <td>149.500000</td>\n",
       "      <td>14.840000</td>\n",
       "    </tr>\n",
       "    <tr>\n",
       "      <th>std</th>\n",
       "      <td>0.498649</td>\n",
       "      <td>8.076012</td>\n",
       "      <td>1.951695</td>\n",
       "      <td>20.640196</td>\n",
       "      <td>0.073846</td>\n",
       "      <td>3.617584</td>\n",
       "      <td>0.441178</td>\n",
       "      <td>0.211276</td>\n",
       "      <td>86.746758</td>\n",
       "      <td>9.133774</td>\n",
       "    </tr>\n",
       "    <tr>\n",
       "      <th>min</th>\n",
       "      <td>0.000000</td>\n",
       "      <td>39.000000</td>\n",
       "      <td>1.270000</td>\n",
       "      <td>20.340000</td>\n",
       "      <td>0.120000</td>\n",
       "      <td>0.000000</td>\n",
       "      <td>0.000000</td>\n",
       "      <td>0.000000</td>\n",
       "      <td>0.000000</td>\n",
       "      <td>1.000000</td>\n",
       "    </tr>\n",
       "    <tr>\n",
       "      <th>25%</th>\n",
       "      <td>0.000000</td>\n",
       "      <td>60.000000</td>\n",
       "      <td>4.868500</td>\n",
       "      <td>62.007500</td>\n",
       "      <td>0.280000</td>\n",
       "      <td>4.033333</td>\n",
       "      <td>0.000000</td>\n",
       "      <td>0.000000</td>\n",
       "      <td>74.750000</td>\n",
       "      <td>9.000000</td>\n",
       "    </tr>\n",
       "    <tr>\n",
       "      <th>50%</th>\n",
       "      <td>1.000000</td>\n",
       "      <td>65.500000</td>\n",
       "      <td>6.442500</td>\n",
       "      <td>78.430000</td>\n",
       "      <td>0.350000</td>\n",
       "      <td>7.200000</td>\n",
       "      <td>0.000000</td>\n",
       "      <td>0.000000</td>\n",
       "      <td>149.500000</td>\n",
       "      <td>13.000000</td>\n",
       "    </tr>\n",
       "    <tr>\n",
       "      <th>75%</th>\n",
       "      <td>1.000000</td>\n",
       "      <td>71.000000</td>\n",
       "      <td>7.651250</td>\n",
       "      <td>91.797500</td>\n",
       "      <td>0.390000</td>\n",
       "      <td>10.008333</td>\n",
       "      <td>1.000000</td>\n",
       "      <td>0.000000</td>\n",
       "      <td>224.250000</td>\n",
       "      <td>18.000000</td>\n",
       "    </tr>\n",
       "    <tr>\n",
       "      <th>max</th>\n",
       "      <td>1.000000</td>\n",
       "      <td>85.000000</td>\n",
       "      <td>12.000000</td>\n",
       "      <td>137.650000</td>\n",
       "      <td>0.520000</td>\n",
       "      <td>12.200000</td>\n",
       "      <td>1.000000</td>\n",
       "      <td>1.000000</td>\n",
       "      <td>299.000000</td>\n",
       "      <td>60.000000</td>\n",
       "    </tr>\n",
       "  </tbody>\n",
       "</table>\n",
       "</div>"
      ],
      "text/plain": [
       "              sex      height      weight         bmi         bsa         age  \\\n",
       "count  300.000000  300.000000  300.000000  298.000000  298.000000  300.000000   \n",
       "mean     0.546667   64.890000    6.293560   76.834430    0.336477    6.817556   \n",
       "std      0.498649    8.076012    1.951695   20.640196    0.073846    3.617584   \n",
       "min      0.000000   39.000000    1.270000   20.340000    0.120000    0.000000   \n",
       "25%      0.000000   60.000000    4.868500   62.007500    0.280000    4.033333   \n",
       "50%      1.000000   65.500000    6.442500   78.430000    0.350000    7.200000   \n",
       "75%      1.000000   71.000000    7.651250   91.797500    0.390000   10.008333   \n",
       "max      1.000000   85.000000   12.000000  137.650000    0.520000   12.200000   \n",
       "\n",
       "             redo      target          id  days_in_hospital  \n",
       "count  300.000000  300.000000  300.000000        300.000000  \n",
       "mean     0.263333    0.046667  149.500000         14.840000  \n",
       "std      0.441178    0.211276   86.746758          9.133774  \n",
       "min      0.000000    0.000000    0.000000          1.000000  \n",
       "25%      0.000000    0.000000   74.750000          9.000000  \n",
       "50%      0.000000    0.000000  149.500000         13.000000  \n",
       "75%      1.000000    0.000000  224.250000         18.000000  \n",
       "max      1.000000    1.000000  299.000000         60.000000  "
      ]
     },
     "execution_count": 7,
     "metadata": {},
     "output_type": "execute_result"
    }
   ],
   "source": [
    "df.describe()"
   ]
  },
  {
   "cell_type": "code",
   "execution_count": 460,
   "id": "e541b742-2f97-4f14-bb4e-f57031aa9b80",
   "metadata": {},
   "outputs": [],
   "source": [
    "# fig, axs = plt.subplots(3, 2, figsize=(20,14))\n",
    "# axs = axs.ravel()\n",
    "# vals = ['height', 'weight', 'bmi', 'bsa', 'age', 'days_in_hospital']\n",
    "\n",
    "# for i in range(len(vals)):\n",
    "#     ax = axs[i]\n",
    "#     sns.histplot(ax=ax, data=df, x=df[vals[i]], bins=30)\n",
    "#     ax.set_title(vals[i])\n",
    "    \n",
    "# fig.tight_layout()"
   ]
  },
  {
   "cell_type": "code",
   "execution_count": 461,
   "id": "e56bb9ce-71cc-4bd1-a0f7-a4624332a72a",
   "metadata": {},
   "outputs": [],
   "source": [
    "# fig, axs = plt.subplots(1, 2, figsize=(10,5))\n",
    "# axs = axs.ravel()\n",
    "# vals = ['sex', 'redo']\n",
    "\n",
    "# for i in range(len(vals)):\n",
    "#     ax = axs[i]\n",
    "#     sns.barplot(ax=ax, data=df, \n",
    "#                 x=df[vals[i]].value_counts().index,\n",
    "#                 y=df[vals[i]].value_counts().values)\n",
    "#     ax.set_title(vals[i])\n",
    "    \n",
    "# fig.tight_layout()"
   ]
  },
  {
   "cell_type": "code",
   "execution_count": 8,
   "id": "acc0f8ff-fe6a-4a07-98e3-3eca0be4e440",
   "metadata": {},
   "outputs": [
    {
     "data": {
      "image/png": "[encoded data removed]",
      "text/plain": [
       "<Figure size 360x360 with 1 Axes>"
      ]
     },
     "metadata": {
      "needs_background": "light"
     },
     "output_type": "display_data"
    }
   ],
   "source": [
    "plt.figure(figsize=(5, 5))\n",
    "sns.barplot(x=df['target'].value_counts().index,\n",
    "            y=df['target'].value_counts())\n",
    "plt.title('Распределение зависимой переменной')\n",
    "plt.show()"
   ]
  },
  {
   "cell_type": "code",
   "execution_count": 9,
   "id": "f4224565-0016-4eeb-b0bf-98a4b9ac190f",
   "metadata": {},
   "outputs": [
    {
     "data": {
      "text/plain": [
       "admittion              0\n",
       "discharge              0\n",
       "sex                    0\n",
       "height                 0\n",
       "weight                 0\n",
       "bmi                    2\n",
       "bsa                    2\n",
       "birth                  0\n",
       "age                    0\n",
       "total_operations       0\n",
       "before_operations      0\n",
       "redo                   0\n",
       "diagnosis              0\n",
       "mkb                    0\n",
       "accomp_ill             0\n",
       "medication_main       47\n",
       "medications_taken    120\n",
       "eho                    7\n",
       "ekg                   20\n",
       "akg                  209\n",
       "kt                   262\n",
       "first_operation        0\n",
       "operation_date         0\n",
       "date_of_oper           0\n",
       "target                 0\n",
       "id                     0\n",
       "days_in_hospital       0\n",
       "dtype: int64"
      ]
     },
     "execution_count": 9,
     "metadata": {},
     "output_type": "execute_result"
    }
   ],
   "source": [
    "df.isna().sum()"
   ]
  },
  {
   "cell_type": "markdown",
   "id": "553c6931-81f6-486b-af50-d0e8a58d66d6",
   "metadata": {},
   "source": [
    "Удалим наблюдения с пропусками в переменных `bsa` и `bmi`, т.к. для этих наблюдений отсуствует как значение `bsa`, так и значение `bmi`."
   ]
  },
  {
   "cell_type": "code",
   "execution_count": 10,
   "id": "a29fb024-a5e0-4c20-862f-7edb5cb6f1f6",
   "metadata": {},
   "outputs": [],
   "source": [
    "# df.loc[df['bsa'].isna()]\n",
    "# df.loc[df['bmi'].isna()]\n",
    "# df.fillna('отсутсвует', inplace=True)\n",
    "\n",
    "df.dropna(subset=['bsa', 'bmi'], inplace=True)"
   ]
  },
  {
   "cell_type": "markdown",
   "id": "d0b63e88-087d-4252-a075-69d8b2a4c28c",
   "metadata": {},
   "source": [
    "Обработаем текстовые переменные. Почистим текст, удалив всё кроме букв и цифр с помощью регулярных выражений."
   ]
  },
  {
   "cell_type": "code",
   "execution_count": 11,
   "id": "8cc5e79e-945c-4162-b7bd-4b14ccd8e7c1",
   "metadata": {},
   "outputs": [],
   "source": [
    "text_cols = df.select_dtypes('object').columns.values\n",
    "df[text_cols] = df[text_cols].values.astype('U')"
   ]
  },
  {
   "cell_type": "markdown",
   "id": "ad2c1821-58cc-4913-863d-954aa581f80d",
   "metadata": {},
   "source": [
    "## ЭХОКГ"
   ]
  },
  {
   "cell_type": "code",
   "execution_count": 12,
   "id": "bbd98a9a-376d-4422-b1c9-d75de20edf25",
   "metadata": {},
   "outputs": [],
   "source": [
    "eho = df[['id', 'eho']].copy()"
   ]
  },
  {
   "cell_type": "code",
   "execution_count": 13,
   "id": "0d5170bc-8c2d-491b-bcb4-600feee6ffd3",
   "metadata": {},
   "outputs": [],
   "source": [
    "eho['eho'] = eho['eho'].str.lower().replace(r'[^а-яё0-9.]', ' ', regex=True)"
   ]
  },
  {
   "cell_type": "code",
   "execution_count": 14,
   "id": "c0bd5ce3-8586-4b1a-91cb-0648029e5138",
   "metadata": {},
   "outputs": [],
   "source": [
    "# Работаю с информацией до \"заключения\" врача\n",
    "eho['eho'] = eho['eho'].str.extract(r'(.+?)заключение').fillna('').astype('str')"
   ]
  },
  {
   "cell_type": "code",
   "execution_count": 15,
   "id": "6fe622f6-e147-49e9-92ff-b3327bf46aad",
   "metadata": {},
   "outputs": [],
   "source": [
    "# Фракцией выброса (ФВ) именуется процент от объема крови\n",
    "eho['fv'] = eho['eho'].str.extract(r'фв *(\\d*)').fillna('-1').astype('str')\n",
    "eho.loc[eho['fv']=='', 'fv'] = -1\n",
    "eho['fv'] = eho['fv'].astype('int')"
   ]
  },
  {
   "cell_type": "code",
   "execution_count": 16,
   "id": "d82e167f-6f31-4745-a90f-7cad4a8a5885",
   "metadata": {},
   "outputs": [],
   "source": [
    "# Опечатка\n",
    "eho.loc[eho['fv'] == 790, 'fv'] = 79"
   ]
  },
  {
   "cell_type": "code",
   "execution_count": 17,
   "id": "e22a1dfe-6fb7-440d-8a66-795b211fcabe",
   "metadata": {
    "tags": []
   },
   "outputs": [],
   "source": [
    "# Конечный диастолический размер (КДР) левого желудочка\n",
    "res = eho['eho'].str.extract(r'((лж|левый желудочек).+?кдр *\\d(.| )\\d)').fillna('-1').astype('str')\n",
    "res2 = eho['eho'].str.extract(r'(кдр лж *\\d(.| )\\d)').fillna('-1').astype('str')[0]\n",
    "res[1] = res2\n",
    "res = res[0] + res[1]"
   ]
  },
  {
   "cell_type": "code",
   "execution_count": 18,
   "id": "e7871822-5d96-4132-956c-5a9e79426224",
   "metadata": {},
   "outputs": [],
   "source": [
    "eho['lg_kdr_size'] = (res.str.extract(r'((кдр |кдр лж) *(\\d( |.)\\d))')[2]\n",
    "                      .str.replace(' ', '.', regex=True)\n",
    "                      .fillna('-1').astype('float'))"
   ]
  },
  {
   "cell_type": "code",
   "execution_count": 19,
   "id": "5034e790-9c2d-4a48-81ea-19720cc0c802",
   "metadata": {},
   "outputs": [],
   "source": [
    "# Гипоплазия левого желудочка\n",
    "res = eho['eho'].str.extract('((лж|левый желудочек|левые отделы сердца) .+ гипоплазирован(|ы))')[0].fillna('').astype('str')\n",
    "eho['lg_hipoplaz'] = res.map(lambda x: 1 if 'гипоплаз' in x else 0)"
   ]
  },
  {
   "cell_type": "code",
   "execution_count": 107,
   "id": "d7c9a735-f399-4757-b119-362b593bda1a",
   "metadata": {},
   "outputs": [],
   "source": [
    "# Конечный диастолический размер (КДР) правого желудочка\n",
    "res = eho['eho'].str.extract(r'((пж|правые отделы сердца|правый желудочек).+?увел)').fillna('-1').astype('str')\n",
    "eho['pg_big'] = res[0].map(lambda x: -1 if x == '-1' else 0 if 'не увел' in x else 1)"
   ]
  },
  {
   "cell_type": "code",
   "execution_count": 108,
   "id": "de7ce22b-b96b-488f-9dec-f975b5317dbe",
   "metadata": {},
   "outputs": [],
   "source": [
    "# Гипертрофия правого желудочка\n",
    "res = eho['eho'].str.extract(r'((пж|правые отделы сердца|правый желудочек).+?гипертр)').fillna('-1').astype('str')\n",
    "eho['pg_hypertrop'] = res[0].map(lambda x: 1 if 'гиперт' in x else 0)"
   ]
  },
  {
   "cell_type": "code",
   "execution_count": 170,
   "id": "aa26e03f-97b4-4e01-9914-c502d4956f85",
   "metadata": {},
   "outputs": [],
   "source": [
    "# Дефект межжелудочковой перегородки (ДМЖП)\n",
    "res = eho['eho'].str.extract(r'(дмжп.+? \\d+ мм)').fillna('').astype('str')\n",
    "eho['dmgp'] = res[0].str.extract(r'[а-я. ]*(\\d*)').replace('', 0, regex=True).astype('int')"
   ]
  },
  {
   "cell_type": "code",
   "execution_count": 182,
   "id": "10d2d38c-d75c-4c13-bc09-bb9c5f8bc991",
   "metadata": {},
   "outputs": [],
   "source": [
    "# Конечный диастолический объем (КДО)\n",
    "res = eho['eho'].str.extract(r'(кдо.+?(\\d*) мл)').fillna('-1').astype('str')[1]\n",
    "eho['kdo'] = res.astype('int')"
   ]
  },
  {
   "cell_type": "code",
   "execution_count": 185,
   "id": "71fe99c8-f75f-4521-965b-857101249029",
   "metadata": {},
   "outputs": [],
   "source": [
    "# Описание створок клапана\n",
    "eho['flap'] = eho['eho'].str.extract(r'(створки.+?)фк').fillna('').astype('str')"
   ]
  },
  {
   "cell_type": "code",
   "execution_count": 186,
   "id": "b7fd7c61-4c1d-4482-8d6f-21abd4a070cc",
   "metadata": {},
   "outputs": [],
   "source": [
    "eho = eho.fillna(0).drop('eho', axis=1)"
   ]
  },
  {
   "cell_type": "code",
   "execution_count": 187,
   "id": "ee136f56-9dd6-4734-948d-1010b61f98c4",
   "metadata": {},
   "outputs": [
    {
     "data": {
      "text/html": [
       "<div>\n",
       "<style scoped>\n",
       "    .dataframe tbody tr th:only-of-type {\n",
       "        vertical-align: middle;\n",
       "    }\n",
       "\n",
       "    .dataframe tbody tr th {\n",
       "        vertical-align: top;\n",
       "    }\n",
       "\n",
       "    .dataframe thead th {\n",
       "        text-align: right;\n",
       "    }\n",
       "</style>\n",
       "<table border=\"1\" class=\"dataframe\">\n",
       "  <thead>\n",
       "    <tr style=\"text-align: right;\">\n",
       "      <th></th>\n",
       "      <th>id</th>\n",
       "      <th>fv</th>\n",
       "      <th>lg_kdr_size</th>\n",
       "      <th>lg_hipoplaz</th>\n",
       "      <th>pg_big</th>\n",
       "      <th>pg_hypertrop</th>\n",
       "      <th>dmgp</th>\n",
       "      <th>kdo</th>\n",
       "      <th>flap</th>\n",
       "    </tr>\n",
       "  </thead>\n",
       "  <tbody>\n",
       "    <tr>\n",
       "      <th>0</th>\n",
       "      <td>0</td>\n",
       "      <td>70</td>\n",
       "      <td>2.1</td>\n",
       "      <td>0</td>\n",
       "      <td>-1</td>\n",
       "      <td>0</td>\n",
       "      <td>11</td>\n",
       "      <td>-1</td>\n",
       "      <td>створки тонкие. раскрытие полное</td>\n",
       "    </tr>\n",
       "    <tr>\n",
       "      <th>1</th>\n",
       "      <td>1</td>\n",
       "      <td>68</td>\n",
       "      <td>2.0</td>\n",
       "      <td>0</td>\n",
       "      <td>1</td>\n",
       "      <td>0</td>\n",
       "      <td>11</td>\n",
       "      <td>42</td>\n",
       "      <td>створки тонкие</td>\n",
       "    </tr>\n",
       "    <tr>\n",
       "      <th>2</th>\n",
       "      <td>2</td>\n",
       "      <td>70</td>\n",
       "      <td>2.6</td>\n",
       "      <td>0</td>\n",
       "      <td>1</td>\n",
       "      <td>0</td>\n",
       "      <td>12</td>\n",
       "      <td>-1</td>\n",
       "      <td>створки незначительно уплотнены  раскрытие пол...</td>\n",
       "    </tr>\n",
       "    <tr>\n",
       "      <th>3</th>\n",
       "      <td>3</td>\n",
       "      <td>68</td>\n",
       "      <td>1.1</td>\n",
       "      <td>1</td>\n",
       "      <td>1</td>\n",
       "      <td>0</td>\n",
       "      <td>6</td>\n",
       "      <td>-1</td>\n",
       "      <td>створки подвижные. кровоток ограничен.</td>\n",
       "    </tr>\n",
       "    <tr>\n",
       "      <th>4</th>\n",
       "      <td>4</td>\n",
       "      <td>70</td>\n",
       "      <td>2.5</td>\n",
       "      <td>0</td>\n",
       "      <td>0</td>\n",
       "      <td>1</td>\n",
       "      <td>0</td>\n",
       "      <td>-1</td>\n",
       "      <td>створки утолщены  удлинены  диаметр отверстия ...</td>\n",
       "    </tr>\n",
       "    <tr>\n",
       "      <th>...</th>\n",
       "      <td>...</td>\n",
       "      <td>...</td>\n",
       "      <td>...</td>\n",
       "      <td>...</td>\n",
       "      <td>...</td>\n",
       "      <td>...</td>\n",
       "      <td>...</td>\n",
       "      <td>...</td>\n",
       "      <td>...</td>\n",
       "    </tr>\n",
       "    <tr>\n",
       "      <th>295</th>\n",
       "      <td>295</td>\n",
       "      <td>68</td>\n",
       "      <td>2.1</td>\n",
       "      <td>0</td>\n",
       "      <td>1</td>\n",
       "      <td>0</td>\n",
       "      <td>0</td>\n",
       "      <td>-1</td>\n",
       "      <td>створки подвижны. крпеление хорд через волж.</td>\n",
       "    </tr>\n",
       "    <tr>\n",
       "      <th>296</th>\n",
       "      <td>296</td>\n",
       "      <td>70</td>\n",
       "      <td>1.7</td>\n",
       "      <td>0</td>\n",
       "      <td>1</td>\n",
       "      <td>0</td>\n",
       "      <td>9</td>\n",
       "      <td>-1</td>\n",
       "      <td></td>\n",
       "    </tr>\n",
       "    <tr>\n",
       "      <th>297</th>\n",
       "      <td>297</td>\n",
       "      <td>-1</td>\n",
       "      <td>-1.0</td>\n",
       "      <td>1</td>\n",
       "      <td>1</td>\n",
       "      <td>0</td>\n",
       "      <td>1</td>\n",
       "      <td>30</td>\n",
       "      <td></td>\n",
       "    </tr>\n",
       "    <tr>\n",
       "      <th>298</th>\n",
       "      <td>298</td>\n",
       "      <td>70</td>\n",
       "      <td>2.0</td>\n",
       "      <td>0</td>\n",
       "      <td>1</td>\n",
       "      <td>0</td>\n",
       "      <td>10</td>\n",
       "      <td>-1</td>\n",
       "      <td>створки уплотнены  сращены</td>\n",
       "    </tr>\n",
       "    <tr>\n",
       "      <th>299</th>\n",
       "      <td>299</td>\n",
       "      <td>67</td>\n",
       "      <td>2.4</td>\n",
       "      <td>0</td>\n",
       "      <td>1</td>\n",
       "      <td>0</td>\n",
       "      <td>0</td>\n",
       "      <td>-1</td>\n",
       "      <td>створки тонкие.</td>\n",
       "    </tr>\n",
       "  </tbody>\n",
       "</table>\n",
       "<p>298 rows × 9 columns</p>\n",
       "</div>"
      ],
      "text/plain": [
       "      id  fv  lg_kdr_size  lg_hipoplaz  pg_big  pg_hypertrop  dmgp  kdo  \\\n",
       "0      0  70          2.1            0      -1             0    11   -1   \n",
       "1      1  68          2.0            0       1             0    11   42   \n",
       "2      2  70          2.6            0       1             0    12   -1   \n",
       "3      3  68          1.1            1       1             0     6   -1   \n",
       "4      4  70          2.5            0       0             1     0   -1   \n",
       "..   ...  ..          ...          ...     ...           ...   ...  ...   \n",
       "295  295  68          2.1            0       1             0     0   -1   \n",
       "296  296  70          1.7            0       1             0     9   -1   \n",
       "297  297  -1         -1.0            1       1             0     1   30   \n",
       "298  298  70          2.0            0       1             0    10   -1   \n",
       "299  299  67          2.4            0       1             0     0   -1   \n",
       "\n",
       "                                                  flap  \n",
       "0                   створки тонкие. раскрытие полное    \n",
       "1                                     створки тонкие    \n",
       "2    створки незначительно уплотнены  раскрытие пол...  \n",
       "3             створки подвижные. кровоток ограничен.    \n",
       "4    створки утолщены  удлинены  диаметр отверстия ...  \n",
       "..                                                 ...  \n",
       "295      створки подвижны. крпеление хорд через волж.   \n",
       "296                                                     \n",
       "297                                                     \n",
       "298                       створки уплотнены  сращены    \n",
       "299                                   створки тонкие.   \n",
       "\n",
       "[298 rows x 9 columns]"
      ]
     },
     "execution_count": 187,
     "metadata": {},
     "output_type": "execute_result"
    }
   ],
   "source": [
    "eho"
   ]
  },
  {
   "cell_type": "markdown",
   "id": "843b43f8-ec80-4ed3-911b-eb6ec2ad8723",
   "metadata": {},
   "source": [
    "## ЭКГ"
   ]
  },
  {
   "cell_type": "markdown",
   "id": "ec47937e-f727-4c06-b9ca-cad43f2709db",
   "metadata": {},
   "source": [
    "Из тетрадки Татьяны."
   ]
  },
  {
   "cell_type": "code",
   "execution_count": 68,
   "id": "a486d066-daaa-4592-a1b8-1cf1e76772df",
   "metadata": {},
   "outputs": [],
   "source": [
    "ekg = df[['id', 'ekg']].copy()"
   ]
  },
  {
   "cell_type": "code",
   "execution_count": 69,
   "id": "7a26c478-0495-449e-99ac-2451bf4763ad",
   "metadata": {},
   "outputs": [],
   "source": [
    "ekg['ekg'] = ekg['ekg'].str.lower()"
   ]
  },
  {
   "cell_type": "code",
   "execution_count": 71,
   "id": "9bccbbea-d118-40ad-af7d-1bb10a38b7cd",
   "metadata": {},
   "outputs": [],
   "source": [
    "ekg['ekg_date'] = ekg['ekg'].str.extract(r'(\\d+\\.\\d+\\.\\d{2,4})')"
   ]
  },
  {
   "cell_type": "code",
   "execution_count": 72,
   "id": "81f1f83a-1834-490e-bef3-ed62d10dba07",
   "metadata": {},
   "outputs": [],
   "source": [
    "ekg['ekg_sinus'] = ekg['ekg'].str.extract(r'( синус)').notna().astype('int')"
   ]
  },
  {
   "cell_type": "code",
   "execution_count": 73,
   "id": "af5da5fc-0c38-4eef-8b30-9f461e5a7dc1",
   "metadata": {},
   "outputs": [],
   "source": [
    "list_of_ss = '|'.join(['чсс', 'сердцебиений в минуту', 'сердечных сокращений'])\n",
    "res = ekg['ekg'].str.extract(f'({list_of_ss}) ?=?-? ?(\\d+)')[1]"
   ]
  },
  {
   "cell_type": "code",
   "execution_count": 85,
   "id": "95064de1-e88d-442d-92b7-48b0819a318c",
   "metadata": {},
   "outputs": [],
   "source": [
    "eos_dict = {'прав': 1,\n",
    "            'лев': 2,\n",
    "            'норм':3, \n",
    "            'гориз':4, \n",
    "            'верт':5}\n",
    "\n",
    "def ekg_replace(data):\n",
    "    res = [eos_dict.get(x) for x in eos_dict.keys() if x in data]\n",
    "    if res:\n",
    "        return res[0]\n",
    "    return 0"
   ]
  },
  {
   "cell_type": "code",
   "execution_count": 88,
   "id": "5e218753-6369-4b9d-acfa-5a7a6ab5cd56",
   "metadata": {},
   "outputs": [],
   "source": [
    "list_of_eos = '|'.join(['эос', 'электрической оси сердца:', 'ось сердца', 'ось'])\n",
    "res = ekg['ekg'].str.extract(f'(({list_of_eos}) (отклонена)? ?(\\w+))|((\\w+) (положение э))')\n",
    "res[3] = res[3].fillna(res[5])\n",
    "ekg['ekg_eos'] = res[3]\n",
    "ekg['ekg_eos'] = ekg['ekg_eos'].fillna(' ')\n",
    "ekg['ekg_eos'] = ekg['ekg_eos'].map(ekg_replace)"
   ]
  },
  {
   "cell_type": "code",
   "execution_count": 115,
   "id": "8b754076-80b4-4641-8f1a-d3f4295f9723",
   "metadata": {},
   "outputs": [],
   "source": [
    "ekg['ekg_qrs'] = ekg['ekg'].str.extract('(qrs) ?=?(\\d(,|\\.)\\d+)')[1].str.replace(',','.', regex=True).astype('float')\n",
    "ekg['ekg_qrst'] = ekg['ekg'].str.extract('(qrst) ?=? ?(\\d(,|\\.)\\d+)')[1].str.replace(',','.', regex=True).astype('float')\n",
    "ekg['ekg_pq'] = ekg['ekg'].str.extract('(pq) ?=? ?(\\d(,|\\.)\\d+)')[1].str.replace(',','.', regex=True).astype('float')"
   ]
  },
  {
   "cell_type": "code",
   "execution_count": 116,
   "id": "15544a4c-9c12-4397-8692-d41551dcc605",
   "metadata": {},
   "outputs": [],
   "source": [
    "ekg = ekg.fillna(0).drop('ekg', axis=1)"
   ]
  },
  {
   "cell_type": "code",
   "execution_count": 117,
   "id": "1d9a1b68-fe2a-42cb-b7c3-cfc784e97b1e",
   "metadata": {},
   "outputs": [
    {
     "data": {
      "text/html": [
       "<div>\n",
       "<style scoped>\n",
       "    .dataframe tbody tr th:only-of-type {\n",
       "        vertical-align: middle;\n",
       "    }\n",
       "\n",
       "    .dataframe tbody tr th {\n",
       "        vertical-align: top;\n",
       "    }\n",
       "\n",
       "    .dataframe thead th {\n",
       "        text-align: right;\n",
       "    }\n",
       "</style>\n",
       "<table border=\"1\" class=\"dataframe\">\n",
       "  <thead>\n",
       "    <tr style=\"text-align: right;\">\n",
       "      <th></th>\n",
       "      <th>id</th>\n",
       "      <th>ekg_date</th>\n",
       "      <th>ekg_sinus</th>\n",
       "      <th>ekg_eos</th>\n",
       "      <th>ekg_qrs</th>\n",
       "      <th>ekg_qrst</th>\n",
       "      <th>ekg_pq</th>\n",
       "    </tr>\n",
       "  </thead>\n",
       "  <tbody>\n",
       "    <tr>\n",
       "      <th>0</th>\n",
       "      <td>0</td>\n",
       "      <td>02.12.2016</td>\n",
       "      <td>1</td>\n",
       "      <td>1</td>\n",
       "      <td>0.07</td>\n",
       "      <td>0.26</td>\n",
       "      <td>0.12</td>\n",
       "    </tr>\n",
       "    <tr>\n",
       "      <th>1</th>\n",
       "      <td>1</td>\n",
       "      <td>13.01.2017</td>\n",
       "      <td>1</td>\n",
       "      <td>3</td>\n",
       "      <td>0.06</td>\n",
       "      <td>0.00</td>\n",
       "      <td>0.12</td>\n",
       "    </tr>\n",
       "    <tr>\n",
       "      <th>2</th>\n",
       "      <td>2</td>\n",
       "      <td>17.01.2017</td>\n",
       "      <td>1</td>\n",
       "      <td>1</td>\n",
       "      <td>0.00</td>\n",
       "      <td>0.00</td>\n",
       "      <td>0.00</td>\n",
       "    </tr>\n",
       "    <tr>\n",
       "      <th>3</th>\n",
       "      <td>3</td>\n",
       "      <td>0</td>\n",
       "      <td>1</td>\n",
       "      <td>2</td>\n",
       "      <td>0.00</td>\n",
       "      <td>0.00</td>\n",
       "      <td>0.00</td>\n",
       "    </tr>\n",
       "    <tr>\n",
       "      <th>4</th>\n",
       "      <td>4</td>\n",
       "      <td>14.02.17</td>\n",
       "      <td>1</td>\n",
       "      <td>1</td>\n",
       "      <td>0.00</td>\n",
       "      <td>0.00</td>\n",
       "      <td>0.00</td>\n",
       "    </tr>\n",
       "  </tbody>\n",
       "</table>\n",
       "</div>"
      ],
      "text/plain": [
       "   id    ekg_date  ekg_sinus  ekg_eos  ekg_qrs  ekg_qrst  ekg_pq\n",
       "0   0  02.12.2016          1        1     0.07      0.26    0.12\n",
       "1   1  13.01.2017          1        3     0.06      0.00    0.12\n",
       "2   2  17.01.2017          1        1     0.00      0.00    0.00\n",
       "3   3           0          1        2     0.00      0.00    0.00\n",
       "4   4    14.02.17          1        1     0.00      0.00    0.00"
      ]
     },
     "execution_count": 117,
     "metadata": {},
     "output_type": "execute_result"
    }
   ],
   "source": [
    "ekg.head()"
   ]
  },
  {
   "cell_type": "markdown",
   "id": "23170c72-e893-4730-8efc-723009a2bbca",
   "metadata": {},
   "source": [
    "## Количество исследований"
   ]
  },
  {
   "cell_type": "code",
   "execution_count": 618,
   "id": "f9c04c92-e640-4a5b-9875-702d75ecc008",
   "metadata": {},
   "outputs": [],
   "source": [
    "analysis_count = df[['eho', 'ekg', 'akg', 'kt']].copy()"
   ]
  },
  {
   "cell_type": "code",
   "execution_count": 645,
   "id": "aff14a84-c3df-4180-aa6e-3af74427e7f3",
   "metadata": {},
   "outputs": [],
   "source": [
    "analysis_count['eho_count'] = (analysis_count['eho']\n",
    "                               .fillna(0)\n",
    "                               .map(lambda x: 0 if not x else 1))\n",
    "\n",
    "analysis_count['ekg_count'] = (analysis_count['ekg']\n",
    "                               .fillna(0)\n",
    "                               .map(lambda x: 0 if not x else 1))\n",
    "\n",
    "analysis_count['akg_count'] = (analysis_count['akg']\n",
    "                               .fillna(0)\n",
    "                               .map(lambda x: 0 if not x else 1))\n",
    "\n",
    "analysis_count['kt_count'] = (analysis_count['kt']\n",
    "                              .fillna(0)\n",
    "                              .map(lambda x: 0 if not x else 1))"
   ]
  },
  {
   "cell_type": "code",
   "execution_count": 651,
   "id": "42649a13-bd85-40ee-aabc-17b857238c06",
   "metadata": {},
   "outputs": [],
   "source": [
    "analysis_count['total'] = sum([analysis_count['kt_count'], analysis_count['akg_count'], \n",
    "                               analysis_count['ekg_count'], analysis_count['eho_count']]) "
   ]
  },
  {
   "cell_type": "code",
   "execution_count": 653,
   "id": "5e9c634c-6799-4c7f-b486-ff243abf968d",
   "metadata": {},
   "outputs": [
    {
     "data": {
      "text/plain": [
       "2    171\n",
       "3    106\n",
       "1     10\n",
       "4      8\n",
       "0      5\n",
       "Name: total, dtype: int64"
      ]
     },
     "execution_count": 653,
     "metadata": {},
     "output_type": "execute_result"
    }
   ],
   "source": [
    "analysis_count['total'].value_counts()"
   ]
  },
  {
   "cell_type": "markdown",
   "id": "c457a560-3ab7-436a-bac0-f8aa24c4ea2e",
   "metadata": {},
   "source": [
    "## Медикаменты, диагноз, мкб"
   ]
  },
  {
   "cell_type": "markdown",
   "id": "37fe1feb-edaf-4a7b-8e02-b6e87c475995",
   "metadata": {},
   "source": [
    "Предстоит переделать."
   ]
  },
  {
   "cell_type": "code",
   "execution_count": 589,
   "id": "1df1eb07-2e9d-4fd2-b60c-509b1967d3ee",
   "metadata": {},
   "outputs": [],
   "source": [
    "def re_preprocessing_rus(series):\n",
    "    clean_data = ' '.join(re.sub(r'[^а-яА-Я0-9 ]', ' ', series.lower()).split())\n",
    "    return clean_data"
   ]
  },
  {
   "cell_type": "code",
   "execution_count": 590,
   "id": "05caf710-f689-4fb2-bf16-8e1986564c5d",
   "metadata": {},
   "outputs": [],
   "source": [
    "def re_preprocessing_eng(series):\n",
    "    cleaned_data = re.sub(r'[^а-яА-Яa-zA-ZёЁ0-9. ]', ' ', series.lower())\n",
    "    cleaned_data = cleaned_data.split()\n",
    "    return ' '.join(cleaned_data)"
   ]
  },
  {
   "cell_type": "code",
   "execution_count": 38,
   "id": "ac65e6a7-cf66-44fc-9782-b3ca0b2a7895",
   "metadata": {
    "tags": []
   },
   "outputs": [],
   "source": [
    "df['medication'] = df['medication'].apply(re_preprocessing_rus)\n",
    "df['medications_taken'] = df['medications_taken'].apply(re_preprocessing_rus)\n",
    "df['diagnosis'] = df['diagnosis'].apply(re_preprocessing_rus)\n",
    "df['mkb'] = df['mkb'].apply(re_preprocessing_eng)\n",
    "\n",
    "\n",
    "# df['first_operation'] = df['first_operation'].apply(re_preprocessing_rus)\n",
    "# df['accomp_ill'] = df['accomp_ill'].apply(re_preprocessing_rus)\n",
    "# df['accomp_ill'] = df['accomp_ill'].apply(lambda series: 'отсутсвует' if series == '' else series)"
   ]
  },
  {
   "cell_type": "markdown",
   "id": "22a0b6c9-522b-420e-80f2-1b9ca6a6e56d",
   "metadata": {},
   "source": [
    "Лемматизируем токены в диагнозе."
   ]
  },
  {
   "cell_type": "code",
   "execution_count": 40,
   "id": "9ab564be-12b9-4a6a-94d0-ab6f82148d82",
   "metadata": {
    "tags": []
   },
   "outputs": [
    {
     "name": "stdout",
     "output_type": "stream",
     "text": [
      "CPU times: user 332 ms, sys: 3.99 s, total: 4.32 s\n",
      "Wall time: 5min 31s\n"
     ]
    }
   ],
   "source": [
    "%%time\n",
    "df['diagnosis'] = df['diagnosis'].apply(lambda series: ''.join(Mystem().lemmatize(series)))"
   ]
  },
  {
   "cell_type": "code",
   "execution_count": 39,
   "id": "8ab901ab-29a8-4bf9-8ed0-cda58c9a43b3",
   "metadata": {},
   "outputs": [],
   "source": [
    "# %%time\n",
    "# df['first_operation'] = df['first_operation'].apply(lambda series: ''.join(Mystem().lemmatize(series)))\n",
    "\n",
    "# %%time\n",
    "# df['accomp_ill'] = df['accomp_ill'].apply(lambda series: ''.join(Mystem().lemmatize(series)))"
   ]
  },
  {
   "cell_type": "markdown",
   "id": "66cf427b-23ae-44b4-b109-acd0c377de9f",
   "metadata": {},
   "source": [
    "Оставим в выборке только 12 признаков. В будущем необходимо выбрать способ кодирования текстовых признаков. Можно попробовать найти дообученный на мед. текстах BERT."
   ]
  },
  {
   "cell_type": "code",
   "execution_count": 41,
   "id": "62235b22-95dd-474a-bddf-ac400231b105",
   "metadata": {
    "tags": []
   },
   "outputs": [],
   "source": [
    "# df.drop(['birth', 'дата опер.', 'date_of_oper', \n",
    "#          'admittion', 'discharge', 'диагноз', 'мкб',\n",
    "#          'медикам. леч. по поводу осн. забол. (из анамн.)',\n",
    "#          'принимаемые препараты (из анамн.)',\n",
    "#          'соп. забол. (из анамн.)',\n",
    "#          'операция (основная / первая в иб)',\n",
    "#          'операции (все в иб)',\n",
    "#          'перенесенные опер. (из анамн.)',\n",
    "#          'эхокг (из эпикр. до опер.)',\n",
    "#          'экг (из эпикр. до опер.)', \n",
    "#          'акг (из эпикр. до опер.)', \n",
    "#          'кт (из эпикр. до опер.)'], \n",
    "#         axis=1, inplace=True)"
   ]
  },
  {
   "cell_type": "code",
   "execution_count": 43,
   "id": "65bb39ea-c85b-4c60-b75c-e578452698e5",
   "metadata": {},
   "outputs": [],
   "source": [
    "# df.to_csv('new_df.csv', index=False)"
   ]
  },
  {
   "cell_type": "markdown",
   "id": "4ee09ad7-c81d-4aa9-a032-1074156138ae",
   "metadata": {},
   "source": [
    "### BERT"
   ]
  },
  {
   "cell_type": "markdown",
   "id": "7f833019-c3d5-4e19-816e-368d8de648ef",
   "metadata": {},
   "source": [
    "Не дообученный берт не помог улучшить качество."
   ]
  },
  {
   "cell_type": "code",
   "execution_count": 106,
   "id": "f3ef6096-9cbe-46f5-b100-ddfce55aced7",
   "metadata": {},
   "outputs": [],
   "source": [
    "# import torch\n",
    "# import transformers \n",
    "# from tqdm import notebook\n",
    "# import numpy as np\n",
    "\n",
    "# df.reset_index(inplace=True, drop=True)\n",
    "\n",
    "# tokenizer = transformers.BertTokenizer(vocab_file='/Users/anshilina/practicum/rubert/vocab.txt')\n",
    "\n",
    "# tokenized = []\n",
    "# for i in notebook.tqdm(range(df['diagnosis'].shape[0])):\n",
    "#     tokenized.append(tokenizer.encode(df['diagnosis'][i], max_length=512, truncation=True, add_special_tokens=True))\n",
    "    \n",
    "# max_vector = max(len(token) for token in tokenized)\n",
    "# padded = np.array([i + [0]*(max_vector - len(i)) for i in tokenized])\n",
    "# attention_mask = np.where(padded != 0, 1, 0)\n",
    "\n",
    "# config = transformers.BertConfig.from_json_file('/Users/anshilina/practicum/rubert/config.json')\n",
    "# model = transformers.BertModel.from_pretrained('/Users/anshilina/practicum/rubert/pytorch_model.bin', config=config) \n",
    "\n",
    "# batch_size = 149\n",
    "# embeddings = []\n",
    "\n",
    "# for i in notebook.tqdm(range(padded.shape[0] // batch_size)):\n",
    "    \n",
    "#     batch = torch.LongTensor(padded[batch_size*i:batch_size*(i+1)])\n",
    "#     attention_mask_batch = torch.LongTensor(attention_mask[batch_size*i:batch_size*(i+1)]) \n",
    "    \n",
    "#     with torch.no_grad():\n",
    "#         batch_embeddings = model(batch, attention_mask=attention_mask_batch)\n",
    "#     embeddings.append(batch_embeddings[0][:,0,:].numpy()) \n",
    "    \n",
    "    \n",
    "# diagnosis = pd.DataFrame(np.concatenate(embeddings))\n",
    "# diagnosis.columns = [str(i) + 'emb' for i in diagnosis.columns]\n",
    "# df = df.join(diagnosis)\n",
    "# df.drop(['diagnosis', 'main_operation'], axis=1, inplace=True)"
   ]
  },
  {
   "cell_type": "markdown",
   "id": "d4d005e3-1833-44db-a227-4f288fb6f407",
   "metadata": {},
   "source": [
    "## Обучение моделей"
   ]
  },
  {
   "cell_type": "code",
   "execution_count": 193,
   "id": "48425140-d7dd-49f9-aad9-84a2c8cbce56",
   "metadata": {},
   "outputs": [],
   "source": [
    "# df = pd.read_csv('new_df.csv')"
   ]
  },
  {
   "cell_type": "code",
   "execution_count": 44,
   "id": "8ca18c94-487c-4b94-8a0b-75f918f86821",
   "metadata": {},
   "outputs": [
    {
     "name": "stdout",
     "output_type": "stream",
     "text": [
      "<class 'pandas.core.frame.DataFrame'>\n",
      "Int64Index: 298 entries, 0 to 299\n",
      "Data columns (total 13 columns):\n",
      " #   Column             Non-Null Count  Dtype  \n",
      "---  ------             --------------  -----  \n",
      " 0   sex                298 non-null    int64  \n",
      " 1   height             298 non-null    int64  \n",
      " 2   weight             298 non-null    float64\n",
      " 3   bmi                298 non-null    float64\n",
      " 4   bsa                298 non-null    float64\n",
      " 5   age                298 non-null    float64\n",
      " 6   redo               298 non-null    int64  \n",
      " 7   target             298 non-null    int64  \n",
      " 8   days_in_hospital   298 non-null    int64  \n",
      " 9   medication         298 non-null    object \n",
      " 10  medications_taken  298 non-null    object \n",
      " 11  diagnosis          298 non-null    object \n",
      " 12  icd                298 non-null    object \n",
      "dtypes: float64(4), int64(5), object(4)\n",
      "memory usage: 32.6+ KB\n"
     ]
    }
   ],
   "source": [
    "df.info()"
   ]
  },
  {
   "cell_type": "markdown",
   "id": "cb9531a1-a52d-4232-b73c-67d1718a474f",
   "metadata": {},
   "source": [
    "Создадим пайплайны для предобаботки текстовых и числовых переменных. Для лиейных моделей будем скалировать числовые переменные, для деревянных – нет."
   ]
  },
  {
   "cell_type": "code",
   "execution_count": 45,
   "id": "9506ea50-db55-45c5-9f33-c853e56f6856",
   "metadata": {},
   "outputs": [],
   "source": [
    "numerical = (df\n",
    "             .drop('target', axis=1)\n",
    "             .select_dtypes(include=['int', 'float'])\n",
    "             .columns.values\n",
    ")\n",
    "num_pipe = Pipeline([('scaler', StandardScaler())])\n",
    "\n",
    "stop_words = set(stopwords.words('russian')) \n",
    "categorical = (df\n",
    "               .select_dtypes(include='object')\n",
    "               .columns.values)\n",
    "\n",
    "\n",
    "linear_preprocessor = ColumnTransformer(\n",
    "    transformers = [(x, TfidfVectorizer(stop_words=stop_words), x) for x in categorical] + \\\n",
    "                   [('num', num_pipe, numerical)], \n",
    "    remainder='passthrough')\n",
    "\n",
    "\n",
    "tree_preprocessor = ColumnTransformer(\n",
    "    transformers = [(x, TfidfVectorizer(stop_words=stop_words), x) for x in categorical],\n",
    "    remainder='passthrough')"
   ]
  },
  {
   "cell_type": "markdown",
   "id": "54f46c1c-da82-4926-9436-1ce1ac9834f5",
   "metadata": {},
   "source": [
    "Выборку разделим в соотношении 75:25. Используем стратификацию при разбиении. Также будем использовать `StratifiedKFold` при разбиении выборки на фолды на кросс-валидации."
   ]
  },
  {
   "cell_type": "code",
   "execution_count": 46,
   "id": "3a81ca1b-ca4a-4449-832b-9f3dc65897c5",
   "metadata": {},
   "outputs": [],
   "source": [
    "features, target = df.drop('target', axis=1), df['target']\n",
    "features_train, features_test, target_train, target_test = train_test_split(\n",
    "    features, target, stratify=target, test_size=0.25, random_state=42)"
   ]
  },
  {
   "cell_type": "code",
   "execution_count": 47,
   "id": "b147332c-bcb0-46fa-aefc-7d559c1f4801",
   "metadata": {},
   "outputs": [],
   "source": [
    "skf = StratifiedKFold(n_splits=5, shuffle=True, random_state=42)"
   ]
  },
  {
   "cell_type": "markdown",
   "id": "2069ae44-5629-4644-a671-b0a5964685c0",
   "metadata": {},
   "source": [
    "### Decision tree"
   ]
  },
  {
   "cell_type": "code",
   "execution_count": 83,
   "id": "549cd74d-56af-40c5-a618-a038f524db91",
   "metadata": {},
   "outputs": [],
   "source": [
    "baseline_clf = Pipeline([('preprocessor', tree_preprocessor),\n",
    "                         # ('smote', SMOTE(random_state=42)),\n",
    "                         # ('border_smote', BorderlineSMOTE(random_state=42, n_jobs=-1)),\n",
    "                         # ('smote', SMOTEENN(smote=SMOTE(random_state=42, k_neighbors=3), random_state=42)),\n",
    "                         # ('adasyn', ADASYN(random_state=42, n_neighbors=3)),\n",
    "                         ('svm', SVMSMOTE(random_state=42)),\n",
    "                         ('model', DecisionTreeClassifier(class_weight='balanced',\n",
    "                                                          random_state=42))])\n",
    "\n",
    "baseline_grid = {'model__max_depth':[5,8,11]}\n",
    "\n",
    "baseline_gs = GridSearchCV(baseline_clf, baseline_grid, \n",
    "                           scoring='f1', n_jobs=-1, \n",
    "                           cv=skf.split(features_train, target_train))"
   ]
  },
  {
   "cell_type": "code",
   "execution_count": 84,
   "id": "0b4f44c8-2745-4623-8840-f9bff89a8ea5",
   "metadata": {},
   "outputs": [],
   "source": [
    "start = time.time()\n",
    "baseline_gs.fit(features_train, target_train)\n",
    "baseline_gs_time = time.time() - start"
   ]
  },
  {
   "cell_type": "code",
   "execution_count": 85,
   "id": "0b432fbc-4a8f-4183-91ca-7eebecec9ad3",
   "metadata": {},
   "outputs": [
    {
     "name": "stdout",
     "output_type": "stream",
     "text": [
      "Результаты подбора параметров.\n",
      "\n",
      "Время подбора параметров: 0.3 сек\n",
      "Время обучения модели: 0.05616 сек\n",
      "Время предсказания модели: 0.0139 сек\n",
      "Качество модели по кросс-валидации: 0.13333333333333333\n",
      "Лучшие значения параметров: {'model__max_depth': 5}\n"
     ]
    }
   ],
   "source": [
    "print('Результаты подбора параметров.\\n')\n",
    "print(f'Время подбора параметров: {round(baseline_gs_time, 2)} сек')\n",
    "print(f'Время обучения модели: {round(baseline_gs.cv_results_[\"mean_fit_time\"][baseline_gs.best_index_], 5)} сек')\n",
    "print(f'Время предсказания модели: {round(baseline_gs.cv_results_[\"mean_score_time\"][baseline_gs.best_index_], 5)} сек')\n",
    "print(f'Качество модели по кросс-валидации: {baseline_gs.best_score_}')\n",
    "print(f'Лучшие значения параметров: {baseline_gs.best_params_}')"
   ]
  },
  {
   "cell_type": "markdown",
   "id": "264f74ed-7580-4c39-a033-abed9385af7f",
   "metadata": {},
   "source": [
    "### Logistic regression"
   ]
  },
  {
   "cell_type": "code",
   "execution_count": 86,
   "id": "30cf037c-3e5e-43a2-baf8-7b44d74f957b",
   "metadata": {},
   "outputs": [],
   "source": [
    "lin_clf = Pipeline([('preprocessor', linear_preprocessor),\n",
    "                    # ('smote', SMOTE(random_state=42)),\n",
    "                    # ('border_smote', BorderlineSMOTE(random_state=42, n_jobs=-1)),\n",
    "                    # ('smoteen', SMOTEENN(smote=SMOTE(random_state=42, k_neighbors=3), random_state=42)),\n",
    "                    # ('adasyn', ADASYN(random_state=42, n_neighbors=3)),\n",
    "                    ('svm', SVMSMOTE(random_state=42)),\n",
    "                    ('model', LogisticRegression(class_weight='balanced',\n",
    "                                                 solver='liblinear'))])"
   ]
  },
  {
   "cell_type": "code",
   "execution_count": 87,
   "id": "34c7238d-aa65-4603-929a-430cab4cb610",
   "metadata": {},
   "outputs": [],
   "source": [
    "lin_grid = {'model__penalty': ['l1', 'l2'],\n",
    "            'model__C' : range(1, 8)}\n",
    "\n",
    "lin_gs = GridSearchCV(lin_clf, lin_grid, \n",
    "                      scoring='f1', n_jobs=-1, \n",
    "                      cv=skf.split(features_train, target_train))"
   ]
  },
  {
   "cell_type": "code",
   "execution_count": 88,
   "id": "5c4f5e95-89b9-4b87-83b0-34239fc3ce9f",
   "metadata": {
    "tags": []
   },
   "outputs": [],
   "source": [
    "start = time.time()\n",
    "lin_gs.fit(features_train, target_train)\n",
    "lin_gs_time = time.time() - start"
   ]
  },
  {
   "cell_type": "code",
   "execution_count": 89,
   "id": "ded97adf-4a65-4fbf-aeb7-b000068ad1ba",
   "metadata": {},
   "outputs": [
    {
     "name": "stdout",
     "output_type": "stream",
     "text": [
      "Результаты подбора параметров.\n",
      "\n",
      "Время подбора параметров: 1.22 сек\n",
      "Время обучения модели: 0.0718 сек\n",
      "Время предсказания модели: 0.01553 сек\n",
      "Качество модели по кросс-валидации: 0.41666666666666663\n",
      "Лучшие значения параметров: {'model__C': 1, 'model__penalty': 'l2'}\n"
     ]
    }
   ],
   "source": [
    "print('Результаты подбора параметров.\\n')\n",
    "print(f'Время подбора параметров: {round(lin_gs_time, 2)} сек')\n",
    "print(f'Время обучения модели: {round(lin_gs.cv_results_[\"mean_fit_time\"][lin_gs.best_index_], 5)} сек')\n",
    "print(f'Время предсказания модели: {round(lin_gs.cv_results_[\"mean_score_time\"][lin_gs.best_index_], 5)} сек')\n",
    "print(f'Качество модели по кросс-валидации: {lin_gs.best_score_}')\n",
    "print(f'Лучшие значения параметров: {lin_gs.best_params_}')"
   ]
  },
  {
   "cell_type": "markdown",
   "id": "d39ba64e-4d7f-4873-8a68-d0b2b4ded56f",
   "metadata": {},
   "source": [
    "### Random forest"
   ]
  },
  {
   "cell_type": "code",
   "execution_count": 90,
   "id": "68d5ad39-cca6-427d-b313-c636bccf17b5",
   "metadata": {},
   "outputs": [],
   "source": [
    "forest_clf = Pipeline([('preprocessor', tree_preprocessor),\n",
    "                       # ('smote', SMOTE(random_state=42)),\n",
    "                       # ('border_smote', BorderlineSMOTE(random_state=42, n_jobs=-1)),\n",
    "                       # ('smote', SMOTEENN(smote=SMOTE(random_state=42, k_neighbors=3), random_state=42)),\n",
    "                       # ('adasyn', ADASYN(random_state=42, n_neighbors=3)),\n",
    "                       ('svm', SVMSMOTE(random_state=42)),\n",
    "                       ('model', RandomForestClassifier(class_weight='balanced',\n",
    "                                                        random_state=42))])"
   ]
  },
  {
   "cell_type": "code",
   "execution_count": 91,
   "id": "08aa21be-2d61-4e16-8cff-da8015c7a13e",
   "metadata": {},
   "outputs": [],
   "source": [
    "forest_grid = {'model__max_depth':[4,5,8,10],\n",
    "               'model__n_estimators': range(10, 50, 5)}\n",
    "\n",
    "forest_gs = GridSearchCV(forest_clf, forest_grid, \n",
    "                         scoring='f1', n_jobs=-1, \n",
    "                         cv=skf.split(features_train, target_train))"
   ]
  },
  {
   "cell_type": "code",
   "execution_count": 92,
   "id": "6e2f2318-4508-43b3-9036-e13c3e17c044",
   "metadata": {},
   "outputs": [],
   "source": [
    "start = time.time()\n",
    "forest_gs.fit(features_train, target_train)\n",
    "forest_gs_time = time.time() - start"
   ]
  },
  {
   "cell_type": "code",
   "execution_count": 93,
   "id": "20a32c52-c694-4b48-8ced-b42ea499432a",
   "metadata": {},
   "outputs": [
    {
     "name": "stdout",
     "output_type": "stream",
     "text": [
      "Результаты подбора параметров.\n",
      "\n",
      "Время подбора параметров: 3.77 сек\n",
      "Время обучения модели: 0.07709 сек\n",
      "Время предсказания модели: 0.01677 сек\n",
      "Качество модели по кросс-валидации: 0.26666666666666666\n",
      "Лучшие значения параметров: {'model__max_depth': 4, 'model__n_estimators': 15}\n"
     ]
    }
   ],
   "source": [
    "print('Результаты подбора параметров.\\n')\n",
    "print(f'Время подбора параметров: {round(forest_gs_time, 2)} сек')\n",
    "print(f'Время обучения модели: {round(forest_gs.cv_results_[\"mean_fit_time\"][forest_gs.best_index_], 5)} сек')\n",
    "print(f'Время предсказания модели: {round(forest_gs.cv_results_[\"mean_score_time\"][forest_gs.best_index_], 5)} сек')\n",
    "print(f'Качество модели по кросс-валидации: {forest_gs.best_score_}')\n",
    "print(f'Лучшие значения параметров: {forest_gs.best_params_}')"
   ]
  },
  {
   "cell_type": "markdown",
   "id": "5f7ba8a2-1649-49cc-a5b2-bdacf8b6b72a",
   "metadata": {},
   "source": [
    "### Balanced forest"
   ]
  },
  {
   "cell_type": "code",
   "execution_count": 94,
   "id": "89a7eaeb-1aa3-4427-9c3c-9192ecd6511c",
   "metadata": {},
   "outputs": [],
   "source": [
    "balanced_forest_clf = Pipeline([('preprocessor', tree_preprocessor),\n",
    "                                # ('smote', SMOTE(random_state=42)),\n",
    "                                # ('border_smote', BorderlineSMOTE(random_state=42, n_jobs=-1)),\n",
    "                                # ('smote', SMOTEENN(smote=SMOTE(random_state=42, k_neighbors=3), random_state=42)),\n",
    "                                # ('adasyn', ADASYN(random_state=42, n_neighbors=3)),\n",
    "                                ('svm', SVMSMOTE(random_state=42)),\n",
    "                                ('model', BalancedRandomForestClassifier(random_state=42, \n",
    "                                                                         class_weight='balanced',\n",
    "                                                                         n_jobs=-1))])"
   ]
  },
  {
   "cell_type": "code",
   "execution_count": 95,
   "id": "8751d1c4-8e1a-4b4f-8a4f-ee310c197722",
   "metadata": {},
   "outputs": [],
   "source": [
    "balanced_forest_grid = {'model__max_depth':[4,5,8,10],\n",
    "                        'model__n_estimators': range(10, 50, 5)}\n",
    "\n",
    "balanced_forest_grid = GridSearchCV(balanced_forest_clf, balanced_forest_grid, \n",
    "                                    scoring='f1', n_jobs=-1, \n",
    "                                    cv=skf.split(features_train, target_train))"
   ]
  },
  {
   "cell_type": "code",
   "execution_count": 96,
   "id": "f197951e-cc4a-4018-bc9c-2ae28b82fb77",
   "metadata": {},
   "outputs": [],
   "source": [
    "start = time.time()\n",
    "balanced_forest_grid.fit(features_train, target_train)\n",
    "balanced_forest_time = time.time() - start"
   ]
  },
  {
   "cell_type": "code",
   "execution_count": 97,
   "id": "96475ff0-753d-4360-84cb-38d6c3a8ef9d",
   "metadata": {},
   "outputs": [
    {
     "name": "stdout",
     "output_type": "stream",
     "text": [
      "Результаты подбора параметров.\n",
      "\n",
      "Время подбора параметров: 7.08 сек\n",
      "Время обучения модели: 0.09741 сек\n",
      "Время предсказания модели: 0.02562 сек\n",
      "Качество модели по кросс-валидации: 0.26666666666666666\n",
      "Лучшие значения параметров: {'model__max_depth': 4, 'model__n_estimators': 10}\n"
     ]
    }
   ],
   "source": [
    "print('Результаты подбора параметров.\\n')\n",
    "print(f'Время подбора параметров: {round(balanced_forest_time, 2)} сек')\n",
    "print(f'Время обучения модели: {round(balanced_forest_grid.cv_results_[\"mean_fit_time\"][balanced_forest_grid.best_index_], 5)} сек')\n",
    "print(f'Время предсказания модели: {round(balanced_forest_grid.cv_results_[\"mean_score_time\"][balanced_forest_grid.best_index_], 5)} сек')\n",
    "print(f'Качество модели по кросс-валидации: {balanced_forest_grid.best_score_}')\n",
    "print(f'Лучшие значения параметров: {balanced_forest_grid.best_params_}')"
   ]
  },
  {
   "cell_type": "markdown",
   "id": "41c37862-826e-4282-a04e-bdc5dd300808",
   "metadata": {},
   "source": [
    "### Catboost"
   ]
  },
  {
   "cell_type": "code",
   "execution_count": 98,
   "id": "2dbb1ecb-9f4b-4e86-9465-4836b549d864",
   "metadata": {},
   "outputs": [],
   "source": [
    "cat_clf = Pipeline([('preprocessor', tree_preprocessor),\n",
    "                    # ('smote', SMOTE(random_state=42)),\n",
    "                    # ('border_smote', BorderlineSMOTE(random_state=42, n_jobs=-1)),\n",
    "                    # ('smote', SMOTEENN(smote=SMOTE(random_state=42, k_neighbors=3), random_state=42)),   \n",
    "                    # ('adasyn', ADASYN(random_state=42, n_neighbors=3)),\n",
    "                    ('svm', SVMSMOTE(random_state=42)),\n",
    "                    ('model', CatBoostClassifier(class_weights=dict(zip(np.unique(target_train), \n",
    "                                                                        compute_class_weight(class_weight='balanced', \n",
    "                                                                                             classes=np.unique(target_train), \n",
    "                                                                                             y=target_train))), \n",
    "                                                 silent=True, random_seed=42))])"
   ]
  },
  {
   "cell_type": "code",
   "execution_count": 100,
   "id": "aaa16524-0cf4-4aed-97d5-de69618bc499",
   "metadata": {},
   "outputs": [],
   "source": [
    "cat_grid = {'model__depth':[5,8,10],\n",
    "            'model__iterations': [100, 150, 200]} \n",
    "\n",
    "cat_gs = GridSearchCV(cat_clf, cat_grid, \n",
    "                      scoring='f1', n_jobs=-1, \n",
    "                      cv=skf.split(features_train, target_train))"
   ]
  },
  {
   "cell_type": "code",
   "execution_count": 101,
   "id": "40255c72-d42a-422e-a4f9-96782b1783fb",
   "metadata": {},
   "outputs": [],
   "source": [
    "start = time.time()\n",
    "cat_gs.fit(features_train, target_train)\n",
    "cat_gs_time = time.time() - start"
   ]
  },
  {
   "cell_type": "code",
   "execution_count": 102,
   "id": "63453116-1d9c-49b2-9ac0-db5400a1b7eb",
   "metadata": {},
   "outputs": [
    {
     "name": "stdout",
     "output_type": "stream",
     "text": [
      "Результаты подбора параметров.\n",
      "\n",
      "Время подбора параметров: 3.0 мин\n",
      "Время обучения модели: 42.5123 сек\n",
      "Время предсказания модели: 0.24694 сек\n",
      "Качество модели по кросс-валидации: 0.3333333333333333\n",
      "Лучшие значения параметров: {'model__depth': 8, 'model__iterations': 200}\n"
     ]
    }
   ],
   "source": [
    "print('Результаты подбора параметров.\\n')\n",
    "print(f'Время подбора параметров: {round(cat_gs_time // 60, 2)} мин')\n",
    "print(f'Время обучения модели: {round(cat_gs.cv_results_[\"mean_fit_time\"][cat_gs.best_index_], 5)} сек')\n",
    "print(f'Время предсказания модели: {round(cat_gs.cv_results_[\"mean_score_time\"][cat_gs.best_index_], 5)} сек')\n",
    "print(f'Качество модели по кросс-валидации: {cat_gs.best_score_}')\n",
    "print(f'Лучшие значения параметров: {cat_gs.best_params_}')"
   ]
  },
  {
   "cell_type": "markdown",
   "id": "290f86da-8b34-4949-a2b2-b24b78b12a7f",
   "metadata": {},
   "source": [
    "## Вывод "
   ]
  },
  {
   "cell_type": "markdown",
   "id": "94ad4c03-d0d5-4224-bf20-f952002fce8f",
   "metadata": {},
   "source": [
    "Используем модель СatBoost. Стратегия `SMOTE` позволяет лучше определять 1 класс, а стратегия `SVMSMOTE` показывает лучшее качество, но относительно 1 класса ошибается в половине случаев."
   ]
  },
  {
   "cell_type": "markdown",
   "id": "1a22b534-3098-43de-9bb0-fd6565a4b86b",
   "metadata": {},
   "source": [
    "## Качество на тесте"
   ]
  },
  {
   "cell_type": "code",
   "execution_count": 109,
   "id": "82a38d7f-e962-449d-b95b-182917b496a3",
   "metadata": {},
   "outputs": [
    {
     "name": "stdout",
     "output_type": "stream",
     "text": [
      "              precision    recall  f1-score   support\n",
      "\n",
      "           0       0.97      0.99      0.98        71\n",
      "           1       0.67      0.50      0.57         4\n",
      "\n",
      "    accuracy                           0.96        75\n",
      "   macro avg       0.82      0.74      0.78        75\n",
      "weighted avg       0.96      0.96      0.96        75\n",
      "\n"
     ]
    }
   ],
   "source": [
    "print(classification_report(target_test, cat_gs.predict(features_test)))"
   ]
  },
  {
   "cell_type": "code",
   "execution_count": 104,
   "id": "f1c26396-409e-4452-9e4e-0aaa4c4698b7",
   "metadata": {},
   "outputs": [
    {
     "name": "stdout",
     "output_type": "stream",
     "text": [
      "                   pre       rec       spe        f1       geo       iba       sup\n",
      "\n",
      "          0       0.97      0.99      0.50      0.98      0.70      0.52        71\n",
      "          1       0.67      0.50      0.99      0.57      0.70      0.47         4\n",
      "\n",
      "avg / total       0.96      0.96      0.53      0.96      0.70      0.51        75\n",
      "\n"
     ]
    }
   ],
   "source": [
    "print(classification_report_imbalanced(target_test, cat_gs.predict(features_test)))"
   ]
  },
  {
   "cell_type": "code",
   "execution_count": 107,
   "id": "e6774dd5-dcf0-491e-ada8-e20bc6894202",
   "metadata": {},
   "outputs": [
    {
     "data": {
      "image/png": "[encoded data removed]",
      "text/plain": [
       "<Figure size 432x288 with 2 Axes>"
      ]
     },
     "metadata": {
      "needs_background": "light"
     },
     "output_type": "display_data"
    }
   ],
   "source": [
    "ConfusionMatrixDisplay(confusion_matrix(target_test,  cat_gs.predict(features_test))).plot();"
   ]
  },
  {
   "cell_type": "markdown",
   "id": "53ab7e23-700a-440d-9e41-86773306d915",
   "metadata": {},
   "source": [
    "## Задачи\n",
    "\n",
    "* Найти решение для предобработки текстовых данных. Рассмотреть возможность дообучить BERT\n",
    "* Провести корреляционный анализ\n",
    "* Продолжить поиск решений для работы с несбалансированной выборкой\n",
    "* Рассмотреть другие варианты моделей"
   ]
  }
 ],
 "metadata": {
  "kernelspec": {
   "display_name": "Python 3 (ipykernel)",
   "language": "python",
   "name": "python3"
  },
  "language_info": {
   "codemirror_mode": {
    "name": "ipython",
    "version": 3
   },
   "file_extension": ".py",
   "mimetype": "text/x-python",
   "name": "python",
   "nbconvert_exporter": "python",
   "pygments_lexer": "ipython3",
   "version": "3.9.12"
  }
 },
 "nbformat": 4,
 "nbformat_minor": 5
}
