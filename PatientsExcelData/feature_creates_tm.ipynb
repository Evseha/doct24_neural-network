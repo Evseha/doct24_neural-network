{
 "cells": [
  {
   "cell_type": "code",
   "execution_count": 1,
   "id": "ff58266e",
   "metadata": {},
   "outputs": [],
   "source": [
    "import pandas as pd\n",
    "#from catboost import Pool, CatBoostClassifier\n",
    "import shap\n",
    "\n",
    "import sklearn.metrics as m\n",
    "from sklearn.model_selection import train_test_split, cross_val_score\n",
    "from sklearn.preprocessing import OneHotEncoder, OrdinalEncoder\n",
    "from sklearn.linear_model import LogisticRegression\n",
    "from sklearn.compose import make_column_transformer\n",
    "from sklearn.feature_extraction.text import TfidfVectorizer\n",
    "\n",
    "from imblearn.over_sampling import SMOTE\n",
    "from imblearn.pipeline import make_pipeline\n",
    "\n",
    "import spacy\n",
    "import ru_core_news_sm\n",
    "nlp = spacy.load('ru_core_news_sm')"
   ]
  },
  {
   "cell_type": "code",
   "execution_count": 2,
   "id": "ee0d7500",
   "metadata": {},
   "outputs": [],
   "source": [
    "df = pd.read_csv('cld.csv')"
   ]
  },
  {
   "cell_type": "code",
   "execution_count": 4,
   "id": "f89e1cbc",
   "metadata": {},
   "outputs": [
    {
     "data": {
      "text/plain": [
       "Index(['admittion', 'discharge', 'sex', 'height', 'weight', 'BMI', 'BSA',\n",
       "       'birth', 'Age', 'Операции (все в ИБ)', 'Перенесенные опер. (из Анамн.)',\n",
       "       'redo', 'Диагноз', 'МКБ', 'Соп. забол. (из Анамн.)',\n",
       "       'Медикам. леч. по поводу осн. забол. (из Анамн.)',\n",
       "       'Принимаемые препараты (из Анамн.)', 'ЭхоКГ (Из Эпикр. до опер.)',\n",
       "       'ЭКГ (Из Эпикр. до опер.)', 'АКГ (Из Эпикр. до опер.)',\n",
       "       'КТ (Из Эпикр. до опер.)', 'Операция (основная / первая в ИБ)',\n",
       "       'Дата опер.', 'DateOfOper', 'target'],\n",
       "      dtype='object')"
      ]
     },
     "execution_count": 4,
     "metadata": {},
     "output_type": "execute_result"
    }
   ],
   "source": [
    "df.columns\n"
   ]
  },
  {
   "cell_type": "code",
   "execution_count": 6,
   "id": "868faec2",
   "metadata": {},
   "outputs": [
    {
     "data": {
      "text/html": [
       "<div>\n",
       "<style scoped>\n",
       "    .dataframe tbody tr th:only-of-type {\n",
       "        vertical-align: middle;\n",
       "    }\n",
       "\n",
       "    .dataframe tbody tr th {\n",
       "        vertical-align: top;\n",
       "    }\n",
       "\n",
       "    .dataframe thead th {\n",
       "        text-align: right;\n",
       "    }\n",
       "</style>\n",
       "<table border=\"1\" class=\"dataframe\">\n",
       "  <thead>\n",
       "    <tr style=\"text-align: right;\">\n",
       "      <th></th>\n",
       "      <th>Операция (основная / первая в ИБ)</th>\n",
       "      <th>Операции (все в ИБ)</th>\n",
       "    </tr>\n",
       "  </thead>\n",
       "  <tbody>\n",
       "    <tr>\n",
       "      <th>0</th>\n",
       "      <td>Перевязка ранее наложенного анастомоза по Blal...</td>\n",
       "      <td>12.12.2016: (Откр./ИК) Перевязка ранее наложен...</td>\n",
       "    </tr>\n",
       "    <tr>\n",
       "      <th>1</th>\n",
       "      <td>Радикальная коррекция двойного отхождения маги...</td>\n",
       "      <td>18.01.2017: (Откр./ИК) Радикальная коррекция д...</td>\n",
       "    </tr>\n",
       "    <tr>\n",
       "      <th>2</th>\n",
       "      <td>Перевязка ранее наложенного анастомоза по Blal...</td>\n",
       "      <td>19.01.2017: (Откр./ИК) Перевязка ранее наложен...</td>\n",
       "    </tr>\n",
       "    <tr>\n",
       "      <th>3</th>\n",
       "      <td>Наложение двустороннего кавапульмонального ана...</td>\n",
       "      <td>23.01.2017: (Откр./ИК) Наложение двустороннего...</td>\n",
       "    </tr>\n",
       "    <tr>\n",
       "      <th>4</th>\n",
       "      <td>Реконструкция путей оттока из правого желудочк...</td>\n",
       "      <td>15.02.2017: (Откр./ИК) Реконструкция путей отт...</td>\n",
       "    </tr>\n",
       "    <tr>\n",
       "      <th>...</th>\n",
       "      <td>...</td>\n",
       "      <td>...</td>\n",
       "    </tr>\n",
       "    <tr>\n",
       "      <th>295</th>\n",
       "      <td>Радикальная коррекция частично открытого атрио...</td>\n",
       "      <td>27.09.2017: (Откр./ИК) Радикальная коррекция ч...</td>\n",
       "    </tr>\n",
       "    <tr>\n",
       "      <th>296</th>\n",
       "      <td>Операция Muller, суживание легочной артерии</td>\n",
       "      <td>02.02.2017: (Закрыт.) Операция Muller, суживан...</td>\n",
       "    </tr>\n",
       "    <tr>\n",
       "      <th>297</th>\n",
       "      <td>Наложение модифицированного подключично-легочн...</td>\n",
       "      <td>27.01.2017: (Закрыт.) Наложение модифицированн...</td>\n",
       "    </tr>\n",
       "    <tr>\n",
       "      <th>298</th>\n",
       "      <td>Перевязка ранее наложенного анастомоза по Blal...</td>\n",
       "      <td>02.08.2017: (Откр./ИК) Перевязка ранее наложен...</td>\n",
       "    </tr>\n",
       "    <tr>\n",
       "      <th>299</th>\n",
       "      <td>Пластика дефекта межжелудочковой перегородки к...</td>\n",
       "      <td>15.05.2017: (Откр./ИК) Пластика дефекта межжел...</td>\n",
       "    </tr>\n",
       "  </tbody>\n",
       "</table>\n",
       "<p>300 rows × 2 columns</p>\n",
       "</div>"
      ],
      "text/plain": [
       "                     Операция (основная / первая в ИБ)  \\\n",
       "0    Перевязка ранее наложенного анастомоза по Blal...   \n",
       "1    Радикальная коррекция двойного отхождения маги...   \n",
       "2    Перевязка ранее наложенного анастомоза по Blal...   \n",
       "3    Наложение двустороннего кавапульмонального ана...   \n",
       "4    Реконструкция путей оттока из правого желудочк...   \n",
       "..                                                 ...   \n",
       "295  Радикальная коррекция частично открытого атрио...   \n",
       "296        Операция Muller, суживание легочной артерии   \n",
       "297  Наложение модифицированного подключично-легочн...   \n",
       "298  Перевязка ранее наложенного анастомоза по Blal...   \n",
       "299  Пластика дефекта межжелудочковой перегородки к...   \n",
       "\n",
       "                                   Операции (все в ИБ)  \n",
       "0    12.12.2016: (Откр./ИК) Перевязка ранее наложен...  \n",
       "1    18.01.2017: (Откр./ИК) Радикальная коррекция д...  \n",
       "2    19.01.2017: (Откр./ИК) Перевязка ранее наложен...  \n",
       "3    23.01.2017: (Откр./ИК) Наложение двустороннего...  \n",
       "4    15.02.2017: (Откр./ИК) Реконструкция путей отт...  \n",
       "..                                                 ...  \n",
       "295  27.09.2017: (Откр./ИК) Радикальная коррекция ч...  \n",
       "296  02.02.2017: (Закрыт.) Операция Muller, суживан...  \n",
       "297  27.01.2017: (Закрыт.) Наложение модифицированн...  \n",
       "298  02.08.2017: (Откр./ИК) Перевязка ранее наложен...  \n",
       "299  15.05.2017: (Откр./ИК) Пластика дефекта межжел...  \n",
       "\n",
       "[300 rows x 2 columns]"
      ]
     },
     "execution_count": 6,
     "metadata": {},
     "output_type": "execute_result"
    }
   ],
   "source": [
    "df[['Операция (основная / первая в ИБ)', 'Операции (все в ИБ)']]"
   ]
  },
  {
   "cell_type": "code",
   "execution_count": 9,
   "id": "e5b53da4",
   "metadata": {},
   "outputs": [],
   "source": [
    "df[1] = df['Операция (основная / первая в ИБ)'].str.len()\n",
    "df[2] = df['Операции (все в ИБ)'].str.len()"
   ]
  },
  {
   "cell_type": "code",
   "execution_count": 13,
   "id": "03f72ff1",
   "metadata": {},
   "outputs": [
    {
     "data": {
      "text/plain": [
       "23     174\n",
       "22      55\n",
       "24      47\n",
       "128      2\n",
       "149      2\n",
       "71       2\n",
       "120      1\n",
       "190      1\n",
       "114      1\n",
       "156      1\n",
       "147      1\n",
       "133      1\n",
       "276      1\n",
       "157      1\n",
       "258      1\n",
       "113      1\n",
       "115      1\n",
       "312      1\n",
       "21       1\n",
       "82       1\n",
       "79       1\n",
       "72       1\n",
       "214      1\n",
       "65       1\n",
       "Name: dif, dtype: int64"
      ]
     },
     "execution_count": 13,
     "metadata": {},
     "output_type": "execute_result"
    }
   ],
   "source": [
    "df['dif'] = df[2] - df[1]\n",
    "df['dif'].value_counts()"
   ]
  },
  {
   "cell_type": "code",
   "execution_count": 3,
   "id": "69008e3d",
   "metadata": {},
   "outputs": [],
   "source": [
    "df.columns = ['admittion', 'discharge', 'sex', 'height', 'weight', 'BMI', 'BSA', 'birth',\n",
    "              'age', 'opertatzii', 'before_op', 'redo', 'diag', 'mkb', 'soput',\n",
    "              'medic_osn', 'medic', 'eho', 'ekg', 'akg', 'kt', 'first_op',\n",
    "              'op_date', 'DateOfOper', 'target']\n",
    "df['id'] = df.index\n",
    "\n",
    "df['redo'] = df['redo'].fillna(0)\n",
    "#df = df.fillna('')"
   ]
  },
  {
   "cell_type": "code",
   "execution_count": 4,
   "id": "8e41efa2",
   "metadata": {},
   "outputs": [
    {
     "data": {
      "text/html": [
       "<div>\n",
       "<style scoped>\n",
       "    .dataframe tbody tr th:only-of-type {\n",
       "        vertical-align: middle;\n",
       "    }\n",
       "\n",
       "    .dataframe tbody tr th {\n",
       "        vertical-align: top;\n",
       "    }\n",
       "\n",
       "    .dataframe thead th {\n",
       "        text-align: right;\n",
       "    }\n",
       "</style>\n",
       "<table border=\"1\" class=\"dataframe\">\n",
       "  <thead>\n",
       "    <tr style=\"text-align: right;\">\n",
       "      <th></th>\n",
       "      <th>admittion</th>\n",
       "      <th>discharge</th>\n",
       "      <th>sex</th>\n",
       "      <th>height</th>\n",
       "      <th>weight</th>\n",
       "      <th>BMI</th>\n",
       "      <th>BSA</th>\n",
       "      <th>birth</th>\n",
       "      <th>age</th>\n",
       "      <th>opertatzii</th>\n",
       "      <th>...</th>\n",
       "      <th>medic</th>\n",
       "      <th>eho</th>\n",
       "      <th>ekg</th>\n",
       "      <th>akg</th>\n",
       "      <th>kt</th>\n",
       "      <th>first_op</th>\n",
       "      <th>op_date</th>\n",
       "      <th>DateOfOper</th>\n",
       "      <th>target</th>\n",
       "      <th>id</th>\n",
       "    </tr>\n",
       "  </thead>\n",
       "  <tbody>\n",
       "    <tr>\n",
       "      <th>298</th>\n",
       "      <td>2017-07-27</td>\n",
       "      <td>2017-08-11</td>\n",
       "      <td>m</td>\n",
       "      <td>65</td>\n",
       "      <td>6.80</td>\n",
       "      <td>84.34</td>\n",
       "      <td>0.35</td>\n",
       "      <td>12.01.2017</td>\n",
       "      <td>202</td>\n",
       "      <td>02.08.2017: (Откр./ИК) Перевязка ранее наложен...</td>\n",
       "      <td>...</td>\n",
       "      <td>аспирин-кардио, дигоксин, панангин, элькар, ви...</td>\n",
       "      <td>ЭхоКГ ВПС (27.07.2017 13:46:33,   Г.)\\nЛЖ, ЛП:...</td>\n",
       "      <td>ЭКГ (27.07.2017 15:58:11)\\nРитм сердца синусов...</td>\n",
       "      <td>АКГ ВПС (28.07.2017 13:35:25): Заключение: Дво...</td>\n",
       "      <td>NaN</td>\n",
       "      <td>Перевязка ранее наложенного анастомоза по Blal...</td>\n",
       "      <td>02.08.2017 9:50:30</td>\n",
       "      <td>2017-08-02</td>\n",
       "      <td>0</td>\n",
       "      <td>298</td>\n",
       "    </tr>\n",
       "    <tr>\n",
       "      <th>299</th>\n",
       "      <td>2017-05-11</td>\n",
       "      <td>2017-05-22</td>\n",
       "      <td>f</td>\n",
       "      <td>64</td>\n",
       "      <td>5.42</td>\n",
       "      <td>67.75</td>\n",
       "      <td>0.31</td>\n",
       "      <td>06.12.2016</td>\n",
       "      <td>160</td>\n",
       "      <td>15.05.2017: (Откр./ИК) Пластика дефекта межжел...</td>\n",
       "      <td>...</td>\n",
       "      <td>аспаркам, верошпирон, дигоксин</td>\n",
       "      <td>от 27.04.2017 Левое предсердие, левый желудоче...</td>\n",
       "      <td>от 11.05.2017 Ритм правильный, синусовый, ЭОс ...</td>\n",
       "      <td>NaN</td>\n",
       "      <td>NaN</td>\n",
       "      <td>Пластика дефекта межжелудочковой перегородки к...</td>\n",
       "      <td>15.05.2017 8:40:00</td>\n",
       "      <td>2017-05-15</td>\n",
       "      <td>0</td>\n",
       "      <td>299</td>\n",
       "    </tr>\n",
       "  </tbody>\n",
       "</table>\n",
       "<p>2 rows × 26 columns</p>\n",
       "</div>"
      ],
      "text/plain": [
       "      admittion   discharge sex  height  weight    BMI   BSA       birth  age  \\\n",
       "298  2017-07-27  2017-08-11   m      65    6.80  84.34  0.35  12.01.2017  202   \n",
       "299  2017-05-11  2017-05-22   f      64    5.42  67.75  0.31  06.12.2016  160   \n",
       "\n",
       "                                            opertatzii  ...  \\\n",
       "298  02.08.2017: (Откр./ИК) Перевязка ранее наложен...  ...   \n",
       "299  15.05.2017: (Откр./ИК) Пластика дефекта межжел...  ...   \n",
       "\n",
       "                                                 medic  \\\n",
       "298  аспирин-кардио, дигоксин, панангин, элькар, ви...   \n",
       "299                     аспаркам, верошпирон, дигоксин   \n",
       "\n",
       "                                                   eho  \\\n",
       "298  ЭхоКГ ВПС (27.07.2017 13:46:33,   Г.)\\nЛЖ, ЛП:...   \n",
       "299  от 27.04.2017 Левое предсердие, левый желудоче...   \n",
       "\n",
       "                                                   ekg  \\\n",
       "298  ЭКГ (27.07.2017 15:58:11)\\nРитм сердца синусов...   \n",
       "299  от 11.05.2017 Ритм правильный, синусовый, ЭОс ...   \n",
       "\n",
       "                                                   akg   kt  \\\n",
       "298  АКГ ВПС (28.07.2017 13:35:25): Заключение: Дво...  NaN   \n",
       "299                                                NaN  NaN   \n",
       "\n",
       "                                              first_op             op_date  \\\n",
       "298  Перевязка ранее наложенного анастомоза по Blal...  02.08.2017 9:50:30   \n",
       "299  Пластика дефекта межжелудочковой перегородки к...  15.05.2017 8:40:00   \n",
       "\n",
       "     DateOfOper target   id  \n",
       "298  2017-08-02      0  298  \n",
       "299  2017-05-15      0  299  \n",
       "\n",
       "[2 rows x 26 columns]"
      ]
     },
     "execution_count": 4,
     "metadata": {},
     "output_type": "execute_result"
    }
   ],
   "source": [
    "df.tail(2)"
   ]
  },
  {
   "cell_type": "markdown",
   "id": "2b08c8a6",
   "metadata": {},
   "source": [
    "_______________________"
   ]
  },
  {
   "cell_type": "markdown",
   "id": "7018be97",
   "metadata": {},
   "source": [
    "____________\n",
    "# EHO part"
   ]
  },
  {
   "cell_type": "code",
   "execution_count": 5,
   "id": "c55c5a1b",
   "metadata": {},
   "outputs": [],
   "source": [
    "eho = df[['id', 'eho']].copy()"
   ]
  },
  {
   "cell_type": "code",
   "execution_count": 6,
   "id": "1dce31b2",
   "metadata": {},
   "outputs": [],
   "source": [
    "eho['eho'] = eho['eho'].str.lower()"
   ]
  },
  {
   "cell_type": "code",
   "execution_count": 7,
   "id": "833fa69d",
   "metadata": {},
   "outputs": [],
   "source": [
    "eho['eho_'] = eho['eho'].str.extract(r'заключение:? ?(.*?)$').fillna(' ').astype('str')"
   ]
  },
  {
   "cell_type": "code",
   "execution_count": 8,
   "id": "2fa6c5de",
   "metadata": {},
   "outputs": [
    {
     "data": {
      "text/plain": [
       "                   86\n",
       "увеличение         62\n",
       "стеноз             57\n",
       "отделов            51\n",
       "дмжп,              46\n",
       "гипоплазия         44\n",
       "с                  39\n",
       "правых             36\n",
       "в                  35\n",
       "ла,                33\n",
       "мм                 31\n",
       "мпс,               30\n",
       "ла                 28\n",
       "на                 28\n",
       "оап,               28\n",
       "ооо,               27\n",
       "клапанный          25\n",
       "левых              25\n",
       "п/о                25\n",
       "и                  24\n",
       "легочной           23\n",
       "аорты,             22\n",
       "функционирующий    22\n",
       "dtype: int64"
      ]
     },
     "execution_count": 8,
     "metadata": {},
     "output_type": "execute_result"
    }
   ],
   "source": [
    "res = pd.Series(eho['eho_'].sum().split(' ')).value_counts() \n",
    "res[res > 20]"
   ]
  },
  {
   "cell_type": "code",
   "execution_count": 9,
   "id": "94b58fde",
   "metadata": {},
   "outputs": [],
   "source": [
    "eho_list = ['стеноз', 'гипоплазия', 'мпс', 'ооо', 'оап', 'дмжп', 'анастомоз']"
   ]
  },
  {
   "cell_type": "code",
   "execution_count": 10,
   "id": "74d729b0",
   "metadata": {},
   "outputs": [],
   "source": [
    "for col in eho_list:\n",
    "    eho[col] = eho['eho'].str.contains(col, na=False).astype('int')"
   ]
  },
  {
   "cell_type": "code",
   "execution_count": 11,
   "id": "a03c2950",
   "metadata": {},
   "outputs": [],
   "source": [
    "eho = eho[['id', *eho_list]].fillna(0)"
   ]
  },
  {
   "cell_type": "markdown",
   "id": "14bb79c2",
   "metadata": {},
   "source": [
    "________________________________\n",
    "## MKB part"
   ]
  },
  {
   "cell_type": "code",
   "execution_count": 12,
   "id": "003c1bb8",
   "metadata": {},
   "outputs": [],
   "source": [
    "mkb = df[['id', 'mkb']]"
   ]
  },
  {
   "cell_type": "code",
   "execution_count": 13,
   "id": "92c2095d",
   "metadata": {},
   "outputs": [
    {
     "name": "stderr",
     "output_type": "stream",
     "text": [
      "\n",
      "A value is trying to be set on a copy of a slice from a DataFrame.\n",
      "Try using .loc[row_indexer,col_indexer] = value instead\n",
      "\n",
      "See the caveats in the documentation: https://pandas.pydata.org/pandas-docs/stable/user_guide/indexing.html#returning-a-view-versus-a-copy\n"
     ]
    }
   ],
   "source": [
    "mkb['mkb'] = mkb['mkb'].str.split(',')\n",
    "mkb = mkb.explode('mkb')"
   ]
  },
  {
   "cell_type": "code",
   "execution_count": 14,
   "id": "6ad95ed1",
   "metadata": {},
   "outputs": [],
   "source": [
    "mkb['mkb'] = mkb['mkb'].str.replace('Q','',regex=True).str.strip().astype('str')"
   ]
  },
  {
   "cell_type": "code",
   "execution_count": 15,
   "id": "64adc335",
   "metadata": {},
   "outputs": [],
   "source": [
    "mkb_list = mkb['mkb'].value_counts()\n",
    "mkb_list = mkb_list[mkb_list > 2].index.to_list()"
   ]
  },
  {
   "cell_type": "code",
   "execution_count": 16,
   "id": "b0d14899",
   "metadata": {},
   "outputs": [],
   "source": [
    "mkb.loc[~mkb['mkb'].isin(mkb_list),'mkb'] = 'Oth'"
   ]
  },
  {
   "cell_type": "code",
   "execution_count": 17,
   "id": "48f0adac",
   "metadata": {},
   "outputs": [],
   "source": [
    "mkb['val'] = 1"
   ]
  },
  {
   "cell_type": "code",
   "execution_count": 18,
   "id": "8d0dfac4",
   "metadata": {},
   "outputs": [],
   "source": [
    "mkb = mkb.pivot_table(columns='mkb', index='id', values='val').reset_index().fillna(0).astype('int')"
   ]
  },
  {
   "cell_type": "markdown",
   "id": "1cb8bbd4",
   "metadata": {},
   "source": [
    "__________________________\n",
    "## Drugs part"
   ]
  },
  {
   "cell_type": "code",
   "execution_count": 19,
   "id": "dcc22971",
   "metadata": {},
   "outputs": [],
   "source": [
    "medic = df[['id', 'medic_osn','medic']]"
   ]
  },
  {
   "cell_type": "code",
   "execution_count": 20,
   "id": "cf57d202",
   "metadata": {},
   "outputs": [],
   "source": [
    "medic = medic.fillna('')"
   ]
  },
  {
   "cell_type": "code",
   "execution_count": 21,
   "id": "575a6354",
   "metadata": {},
   "outputs": [],
   "source": [
    "medic['medic_osn'] += ' ' + medic['medic']"
   ]
  },
  {
   "cell_type": "code",
   "execution_count": 22,
   "id": "7720e604",
   "metadata": {},
   "outputs": [],
   "source": [
    "medic['medic_osn'] = medic['medic_osn'].str.replace(r'[^а-яА-Я -]', ' ', regex=True) \\\n",
    "                                       .str.replace(' +', ' ', regex=True).str.lower().str.strip()"
   ]
  },
  {
   "cell_type": "code",
   "execution_count": 23,
   "id": "32fc85d7",
   "metadata": {},
   "outputs": [],
   "source": [
    "# drugs = medic['medic_osn'].map(lambda x: set(x.split(' '))).explode().value_counts()"
   ]
  },
  {
   "cell_type": "code",
   "execution_count": 24,
   "id": "2616a209",
   "metadata": {},
   "outputs": [],
   "source": [
    "drugs = set(['верошпирон', 'дигоксин', 'фуросемид', 'аспаркам', 'капотен', 'элькар',\n",
    "         'панангин', 'аспирин', 'вазапростан', 'анаприлин', 'допамин', 'адреналин',\n",
    "         'аспирин-кардио','мочегонные', 'алпростан', 'гепарин',\n",
    "         'ампициллин', 'нанипрус', 'траклир', 'гентамицин'])"
   ]
  },
  {
   "cell_type": "code",
   "execution_count": 25,
   "id": "23aa7c2b",
   "metadata": {},
   "outputs": [],
   "source": [
    "medic['medic_osn'] = medic['medic_osn'].map(lambda x: set(x.split(' ')) & drugs)"
   ]
  },
  {
   "cell_type": "code",
   "execution_count": 26,
   "id": "b7098166",
   "metadata": {},
   "outputs": [],
   "source": [
    "medic = medic.explode('medic_osn')"
   ]
  },
  {
   "cell_type": "code",
   "execution_count": 27,
   "id": "a0169f80",
   "metadata": {},
   "outputs": [],
   "source": [
    "medic_table = medic.pivot_table(index='id', columns='medic_osn', aggfunc='count', values='medic_osn').reset_index().fillna(0)"
   ]
  },
  {
   "cell_type": "code",
   "execution_count": 28,
   "id": "43e1e45a",
   "metadata": {},
   "outputs": [],
   "source": [
    "medic_table.columns = ['id', *(f'drug_{i}' for i, _ in enumerate(medic_table.columns[1:]))]"
   ]
  },
  {
   "cell_type": "markdown",
   "id": "80bf9c74",
   "metadata": {},
   "source": [
    "__________________________\n",
    "## EKG part"
   ]
  },
  {
   "cell_type": "code",
   "execution_count": 29,
   "id": "2e6cfa54",
   "metadata": {},
   "outputs": [],
   "source": [
    "ekg = df[['ekg','id']].copy()\n",
    "ekg = ekg.dropna()\n",
    "ekg['ekg'] = ekg['ekg'].str.lower()"
   ]
  },
  {
   "cell_type": "code",
   "execution_count": 30,
   "id": "89e35a3b",
   "metadata": {},
   "outputs": [],
   "source": [
    "# дата, синусовый\n",
    "ekg['ekg_date'] = ekg['ekg'].str.extract(r'(\\d+\\.\\d+\\.\\d{2,4})')\n",
    "ekg['ekg_sinus'] = ekg['ekg'].str.extract(r'( синус)').notna().astype('int')"
   ]
  },
  {
   "cell_type": "code",
   "execution_count": 31,
   "id": "3acf2b36",
   "metadata": {},
   "outputs": [],
   "source": [
    "# ЧСС \n",
    "list_of_ss = '|'.join(['чсс', 'сердцебиений в минуту', 'сердечных сокращений'])\n",
    "res = ekg['ekg'].str.extract(f'({list_of_ss}) ?=?-? ?(\\d+)')\n",
    "ekg['ekg_ss'] = res[1]"
   ]
  },
  {
   "cell_type": "code",
   "execution_count": 32,
   "id": "4b105e4a",
   "metadata": {},
   "outputs": [],
   "source": [
    "# эос\n",
    "eos_dict = {'прав': 1,\n",
    "            'лев': 2,\n",
    "            'норм':3, \n",
    "            'гориз':4, \n",
    "            'верт':5}\n",
    "\n",
    "def ekg_replace(data):\n",
    "    res = [eos_dict.get(x) for x in eos_dict.keys() if x in data]\n",
    "    if res:\n",
    "        return res[0]\n",
    "    return 0\n",
    "\n",
    "list_of_eos = '|'.join(['эос', 'электрической оси сердца:', 'ось сердца', 'ось'])\n",
    "res = ekg['ekg'].str.extract(f'(({list_of_eos}) (отклонена)? ?(\\w+))|((\\w+) (положение э))')\n",
    "res[3] = res[3].fillna(res[5])\n",
    "ekg['ekg_eos'] = res[3]\n",
    "ekg['ekg_eos'] = ekg['ekg_eos'].fillna(' ')\n",
    "ekg['ekg_eos'] = ekg['ekg_eos'].map(ekg_replace)"
   ]
  },
  {
   "cell_type": "code",
   "execution_count": 33,
   "id": "b8938fbd",
   "metadata": {},
   "outputs": [],
   "source": [
    "ekg['ekg_qrs'] = ekg['ekg'].str.extract('(qrs) ?=? ?(\\d(,|\\.)\\d+)')[1].str.replace(',','.', regex=True).astype('float')\n",
    "ekg['ekg_qrst'] = ekg['ekg'].str.extract('(qrst) ?=? ?(\\d(,|\\.)\\d+)')[1].str.replace(',','.', regex=True).astype('float')\n",
    "ekg['ekg_pq'] = ekg['ekg'].str.extract('(pq) ?=? ?(\\d(,|\\.)\\d+)')[1].str.replace(',','.', regex=True).astype('float')"
   ]
  },
  {
   "cell_type": "code",
   "execution_count": 34,
   "id": "c15bc701",
   "metadata": {},
   "outputs": [],
   "source": [
    "#ekg['ekg_clr'] = ekg['ekg'].str.lower().str.replace(r'[^а-я ]', ' ', regex=True)\n",
    "#ekg['ekg_clr'] = ekg['ekg_clr'].str.replace(r'\\b\\w{,3}\\b',' ',regex=True).str.replace(r' +',' ', regex=True).str.strip()"
   ]
  },
  {
   "cell_type": "code",
   "execution_count": 35,
   "id": "944fd5fe",
   "metadata": {},
   "outputs": [
    {
     "data": {
      "text/html": [
       "<div>\n",
       "<style scoped>\n",
       "    .dataframe tbody tr th:only-of-type {\n",
       "        vertical-align: middle;\n",
       "    }\n",
       "\n",
       "    .dataframe tbody tr th {\n",
       "        vertical-align: top;\n",
       "    }\n",
       "\n",
       "    .dataframe thead th {\n",
       "        text-align: right;\n",
       "    }\n",
       "</style>\n",
       "<table border=\"1\" class=\"dataframe\">\n",
       "  <thead>\n",
       "    <tr style=\"text-align: right;\">\n",
       "      <th></th>\n",
       "      <th>id</th>\n",
       "      <th>ekg_date</th>\n",
       "      <th>ekg_sinus</th>\n",
       "      <th>ekg_ss</th>\n",
       "      <th>ekg_eos</th>\n",
       "      <th>ekg_qrs</th>\n",
       "      <th>ekg_qrst</th>\n",
       "      <th>ekg_pq</th>\n",
       "    </tr>\n",
       "  </thead>\n",
       "  <tbody>\n",
       "    <tr>\n",
       "      <th>0</th>\n",
       "      <td>0</td>\n",
       "      <td>02.12.2016</td>\n",
       "      <td>1</td>\n",
       "      <td>120</td>\n",
       "      <td>1</td>\n",
       "      <td>0.07</td>\n",
       "      <td>0.26</td>\n",
       "      <td>0.12</td>\n",
       "    </tr>\n",
       "    <tr>\n",
       "      <th>1</th>\n",
       "      <td>1</td>\n",
       "      <td>13.01.2017</td>\n",
       "      <td>1</td>\n",
       "      <td>122</td>\n",
       "      <td>3</td>\n",
       "      <td>0.06</td>\n",
       "      <td>0.00</td>\n",
       "      <td>0.12</td>\n",
       "    </tr>\n",
       "  </tbody>\n",
       "</table>\n",
       "</div>"
      ],
      "text/plain": [
       "   id    ekg_date  ekg_sinus ekg_ss  ekg_eos  ekg_qrs  ekg_qrst  ekg_pq\n",
       "0   0  02.12.2016          1    120        1     0.07      0.26    0.12\n",
       "1   1  13.01.2017          1    122        3     0.06      0.00    0.12"
      ]
     },
     "execution_count": 35,
     "metadata": {},
     "output_type": "execute_result"
    }
   ],
   "source": [
    "ekg = ekg.fillna(0).drop('ekg', axis=1)\n",
    "ekg.head(2)"
   ]
  },
  {
   "cell_type": "code",
   "execution_count": 36,
   "id": "9577f957",
   "metadata": {},
   "outputs": [],
   "source": [
    "# qq = ekg[['ekg_date','id']].copy()\n",
    "# qq['new_date'] = pd.to_datetime(ekg['ekg_date'])\n",
    "# qq['op_d'] = pd.to_datetime(df['DateOfOper'])\n",
    "# qq['new_date'] = qq['new_date'].fillna(qq['op_d'])\n",
    "# qq['diff'] = (qq['op_d'] - qq['new_date']).dt.days\n",
    "# qq['diff'].value_counts()"
   ]
  },
  {
   "cell_type": "markdown",
   "id": "477c0517",
   "metadata": {},
   "source": [
    "________________________________\n",
    "## Opertatzii"
   ]
  },
  {
   "cell_type": "code",
   "execution_count": 37,
   "id": "b766fcb3",
   "metadata": {},
   "outputs": [],
   "source": [
    "opr = df[['id', 'first_op','target']].copy()\n",
    "opr = opr.dropna()\n",
    "opr['first_op'] = opr['first_op'].str.lower() \\\n",
    "                                 .str.replace('\\.',' ', regex=True)\\\n",
    "                                 .str.replace('[^a-zа-я ]','',regex=True)"
   ]
  },
  {
   "cell_type": "code",
   "execution_count": 38,
   "id": "53b8ea42",
   "metadata": {},
   "outputs": [],
   "source": [
    "opr['first_op'] = opr['first_op'].apply(lambda x: ' '.join([w.lemma_ for w in nlp(x) if not w.is_stop]))"
   ]
  },
  {
   "cell_type": "code",
   "execution_count": 39,
   "id": "18491055",
   "metadata": {},
   "outputs": [],
   "source": [
    "opr_t = opr[opr['target'] == 1]\n",
    "opr_t = set(' '.join(opr_t['first_op'].values).split(' '))"
   ]
  },
  {
   "cell_type": "code",
   "execution_count": 40,
   "id": "30c10c84",
   "metadata": {},
   "outputs": [],
   "source": [
    "opr_r = opr[opr['target'] != 1]\n",
    "opr_r = set(' '.join(opr_r['first_op'].values).split(' '))"
   ]
  },
  {
   "cell_type": "code",
   "execution_count": 41,
   "id": "ab145857",
   "metadata": {},
   "outputs": [],
   "source": [
    "oper_set = opr_t & opr_r"
   ]
  },
  {
   "cell_type": "code",
   "execution_count": 42,
   "id": "aa2d1d1c",
   "metadata": {},
   "outputs": [],
   "source": [
    "# sum(opr_r['opertatzii'].str.contains('эмболиз'))\n",
    "# opr_t['opertatzii'].str.contains('эмболиз') \n",
    "# opr_r & opr_t\n",
    "# opr_t - opr_r\n",
    "# opr_r - opr_t\n",
    "# qq = opr['opertatzii'].str.replace(r'\\(.*\\)','', regex=True).str.lower().str.replace(r'[^а-я; ]','',regex=True) \\\n",
    "#.str.replace(' +',' ',regex=True).str.replace('; ',';', regex=True).str.strip().str.split(';')\n",
    "# qq.explode().value_counts().head(30)"
   ]
  },
  {
   "cell_type": "code",
   "execution_count": 43,
   "id": "60972832",
   "metadata": {},
   "outputs": [],
   "source": [
    "opr['first_op'] = opr['first_op'].map(lambda x: ' '.join(set(x.split(' ')) & oper_set))"
   ]
  },
  {
   "cell_type": "code",
   "execution_count": 44,
   "id": "9c8604e8",
   "metadata": {},
   "outputs": [],
   "source": [
    "opr = opr[['first_op', 'id']]\n",
    "opr.columns = ['opr', 'id']"
   ]
  },
  {
   "cell_type": "markdown",
   "id": "80cd2b75",
   "metadata": {},
   "source": [
    "_____________________________________\n",
    "## Merge"
   ]
  },
  {
   "cell_type": "code",
   "execution_count": 46,
   "id": "94cf8218",
   "metadata": {},
   "outputs": [],
   "source": [
    "df = df.merge(medic_table, on='id', how='left')\n",
    "df = df.merge(ekg, on='id', how='left')\n",
    "df = df.merge(mkb, on='id', how='left')\n",
    "df = df.merge(opr, on='id', how='left')\n",
    "df = df.merge(eho, on='id', how='left')"
   ]
  },
  {
   "cell_type": "code",
   "execution_count": 47,
   "id": "83e6d599",
   "metadata": {},
   "outputs": [],
   "source": [
    "#df['ekg_eos'] = df['ekg_eos'].fillna(' ')\n",
    "#df['ekg_clr'] = df['ekg_clr'].fillna(' ').astype('str')\n",
    "#df['first_op'] = df['first_op'].fillna(' ').astype('str')\n",
    "df['opr'] = df['opr'].fillna(' ').astype('str')"
   ]
  },
  {
   "cell_type": "code",
   "execution_count": 48,
   "id": "684a78e5",
   "metadata": {},
   "outputs": [],
   "source": [
    "df = df.fillna(0)"
   ]
  },
  {
   "cell_type": "code",
   "execution_count": 62,
   "id": "185c229e",
   "metadata": {},
   "outputs": [],
   "source": [
    "cols = ['drug_0', 'drug_1', 'drug_2', 'drug_3', 'drug_4', 'drug_5', 'drug_6', 'drug_7', 'drug_8', 'drug_9',\n",
    " 'drug_10', 'drug_11', 'drug_12', 'drug_13', 'drug_14', 'drug_15', 'drug_16', 'drug_17', 'drug_18', 'drug_19']\n",
    "\n",
    "text_features = ['opr']\n",
    "cat_features = ['redo', 'sex', 'ekg_eos', 'ekg_sinus']"
   ]
  },
  {
   "cell_type": "code",
   "execution_count": 50,
   "id": "fe0a7b73",
   "metadata": {},
   "outputs": [],
   "source": [
    "#df[cols] = df[cols].fillna(0).astype('int')\n",
    "#df[cat_features] = df[cat_features].astype('str')"
   ]
  },
  {
   "cell_type": "code",
   "execution_count": 251,
   "id": "cce625c7",
   "metadata": {},
   "outputs": [],
   "source": [
    "test_df = df[['sex','height','weight','BMI','BSA','age','target', 'redo', 'ekg_ss', 'ekg_sinus',\n",
    "              'ekg_eos','ekg_qrs','ekg_qrst','ekg_pq', *mkb_list,  *cols]]"
   ]
  },
  {
   "cell_type": "code",
   "execution_count": 52,
   "id": "48d1a651",
   "metadata": {},
   "outputs": [],
   "source": [
    "# train, test = train_test_split(test_df, test_size=0.4, random_state=2, stratify=test_df['target'])\n",
    "\n",
    "# train_pool = Pool(train.drop('target', axis=1), \n",
    "#                  train['target'],\n",
    "#                  cat_features=cat_features,\n",
    "#                  text_features=text_features)\n",
    "\n",
    "# valid_pool = Pool(test.drop('target', axis=1), \n",
    "#                  test['target'],\n",
    "#                  cat_features=cat_features,\n",
    "#                  text_features=text_features)\n",
    "# model = CatBoostClassifier(random_seed=42, verbose=250, eval_metric='Recall', eta=0.5, iterations=500,\n",
    "#                           auto_class_weights='Balanced'\n",
    "#                           )\n",
    "# model.fit(train_pool, eval_set=valid_pool, plot=True)"
   ]
  },
  {
   "cell_type": "code",
   "execution_count": 252,
   "id": "156e11c8",
   "metadata": {},
   "outputs": [],
   "source": [
    "X = test_df.drop(['target'], axis=1)\n",
    "y = test_df['target']"
   ]
  },
  {
   "cell_type": "code",
   "execution_count": 253,
   "id": "181160c8",
   "metadata": {},
   "outputs": [],
   "source": [
    "X.loc[X['redo'] == ' ', 'redo'] = 0"
   ]
  },
  {
   "cell_type": "code",
   "execution_count": 254,
   "id": "2536e023",
   "metadata": {},
   "outputs": [],
   "source": [
    "X['redo'] = X['redo'].astype('int')"
   ]
  },
  {
   "cell_type": "code",
   "execution_count": 277,
   "id": "fb5cf596",
   "metadata": {},
   "outputs": [],
   "source": [
    "X_train, X_ts, y_train, y_ts = train_test_split(X,y, test_size=0.3, random_state=1242, stratify=y)"
   ]
  },
  {
   "cell_type": "code",
   "execution_count": 270,
   "id": "b1790fbc",
   "metadata": {},
   "outputs": [],
   "source": [
    "ohe = make_column_transformer((OneHotEncoder(drop='first', handle_unknown='ignore'), cat_features),\n",
    "                             # (TfidfVectorizer(), 'opr'),\n",
    "                              remainder='passthrough')\n",
    "\n",
    "ords = make_column_transformer((OrdinalEncoder(handle_unknown='use_encoded_value', unknown_value=-1),cat_features),\n",
    "                              (TfidfVectorizer(), 'first_op'),\n",
    "                              remainder='passthrough')"
   ]
  },
  {
   "cell_type": "code",
   "execution_count": 271,
   "id": "1d81c625",
   "metadata": {},
   "outputs": [],
   "source": [
    "model = make_pipeline(ohe, \n",
    "                     # SMOTE(random_state=42), \n",
    "                      LogisticRegression(random_state=42, \n",
    "                                         penalty='l2',\n",
    "                                         solver='liblinear', \n",
    "                                         max_iter=400,\n",
    "                                         class_weight='balanced'\n",
    "                                        ))"
   ]
  },
  {
   "cell_type": "code",
   "execution_count": 272,
   "id": "45a01cd9",
   "metadata": {},
   "outputs": [
    {
     "data": {
      "text/plain": [
       "array([0.11111111, 0.33333333, 0.33333333, 0.28571429])"
      ]
     },
     "execution_count": 272,
     "metadata": {},
     "output_type": "execute_result"
    }
   ],
   "source": [
    "cross_val_score(model, X, y, cv=4, scoring='precision')"
   ]
  },
  {
   "cell_type": "markdown",
   "id": "3a47af2f",
   "metadata": {},
   "source": [
    "TEXT - array([0.14285714, 0.33333333, 0.5       , 0.2       ])  \n",
    "NOTEXT - array([0.11111111, 0.33333333, 0.33333333, 0.28571429])"
   ]
  },
  {
   "cell_type": "code",
   "execution_count": 286,
   "id": "8e61c098",
   "metadata": {},
   "outputs": [
    {
     "data": {
      "text/plain": [
       "array([[28,  1],\n",
       "       [ 0,  1]])"
      ]
     },
     "execution_count": 286,
     "metadata": {},
     "output_type": "execute_result"
    }
   ],
   "source": [
    "X_train, X_ts, y_train, y_ts = train_test_split(X,y, test_size=0.1, stratify=y)\n",
    "model.fit(X_train, y_train)\n",
    "m.confusion_matrix(y_ts, model.predict(X_ts))"
   ]
  },
  {
   "cell_type": "raw",
   "id": "8caefb48",
   "metadata": {},
   "source": [
    "x_Train = model[0].fit_transform(X_ts)\n",
    "explainer = shap.KernelExplainer(model[1].predict, x_Train)\n",
    "shap_values = explainer.shap_values(x_Train)\n",
    "shap.summary_plot(shap_values, x_Train)"
   ]
  }
 ],
 "metadata": {
  "kernelspec": {
   "display_name": "Python 3 (ipykernel)",
   "language": "python",
   "name": "python3"
  },
  "language_info": {
   "codemirror_mode": {
    "name": "ipython",
    "version": 3
   },
   "file_extension": ".py",
   "mimetype": "text/x-python",
   "name": "python",
   "nbconvert_exporter": "python",
   "pygments_lexer": "ipython3",
   "version": "3.10.9"
  }
 },
 "nbformat": 4,
 "nbformat_minor": 5
}
