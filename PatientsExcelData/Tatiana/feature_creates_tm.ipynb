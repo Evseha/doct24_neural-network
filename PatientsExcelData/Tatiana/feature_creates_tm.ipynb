{
 "cells": [
  {
   "cell_type": "code",
   "execution_count": 67,
   "id": "ff58266e",
   "metadata": {},
   "outputs": [
    {
     "name": "stderr",
     "output_type": "stream",
     "text": [
      "`import pandas_profiling` is going to be deprecated by April 1st. Please use `import ydata_profiling` instead.\n"
     ]
    }
   ],
   "source": [
    "import pandas as pd\n",
    "from catboost import Pool, CatBoostClassifier\n",
    "import shap\n",
    "\n",
    "import sklearn.metrics as m\n",
    "from sklearn.model_selection import train_test_split, cross_val_score\n",
    "from sklearn.preprocessing import OneHotEncoder, OrdinalEncoder\n",
    "from sklearn.linear_model import LogisticRegression\n",
    "from sklearn.compose import make_column_transformer\n",
    "from sklearn.feature_extraction.text import TfidfVectorizer\n",
    "\n",
    "from imblearn.over_sampling import SMOTE\n",
    "from imblearn.pipeline import make_pipeline\n",
    "\n",
    "# import pandas_profiling\n",
    "import spacy\n",
    "import ru_core_news_sm\n",
    "nlp = spacy.load('ru_core_news_sm')"
   ]
  },
  {
   "cell_type": "code",
   "execution_count": 2,
   "id": "ee0d7500",
   "metadata": {},
   "outputs": [],
   "source": [
    "try:\n",
    "    df = pd.read_excel('/Users/anshilina/Downloads/patients_data.xlsx')\n",
    "except:\n",
    "    df = pd.read_csv('cld.csv')"
   ]
  },
  {
   "cell_type": "code",
   "execution_count": 70,
   "id": "6d345a3e",
   "metadata": {},
   "outputs": [],
   "source": [
    "# pandas_profiling.ProfileReport(df)"
   ]
  },
  {
   "cell_type": "code",
   "execution_count": 4,
   "id": "69008e3d",
   "metadata": {},
   "outputs": [],
   "source": [
    "df.columns = ['admittion', 'discharge', 'sex', 'height', 'weight', 'BMI', 'BSA', 'birth',\n",
    "              'age', 'opertatzii', 'before_op', 'redo', 'diag', 'mkb', 'soput',\n",
    "              'medic_osn', 'medic', 'eho', 'ekg', 'akg', 'kt', 'first_op',\n",
    "              'op_date', 'DateOfOper', 'target']\n",
    "df['id'] = df.index\n",
    "\n",
    "df['redo'] = df['redo'].fillna(0)\n",
    "#df = df.fillna('')"
   ]
  },
  {
   "cell_type": "code",
   "execution_count": 5,
   "id": "8e41efa2",
   "metadata": {},
   "outputs": [
    {
     "data": {
      "text/html": [
       "<div>\n",
       "<style scoped>\n",
       "    .dataframe tbody tr th:only-of-type {\n",
       "        vertical-align: middle;\n",
       "    }\n",
       "\n",
       "    .dataframe tbody tr th {\n",
       "        vertical-align: top;\n",
       "    }\n",
       "\n",
       "    .dataframe thead th {\n",
       "        text-align: right;\n",
       "    }\n",
       "</style>\n",
       "<table border=\"1\" class=\"dataframe\">\n",
       "  <thead>\n",
       "    <tr style=\"text-align: right;\">\n",
       "      <th></th>\n",
       "      <th>admittion</th>\n",
       "      <th>discharge</th>\n",
       "      <th>sex</th>\n",
       "      <th>height</th>\n",
       "      <th>weight</th>\n",
       "      <th>BMI</th>\n",
       "      <th>BSA</th>\n",
       "      <th>birth</th>\n",
       "      <th>age</th>\n",
       "      <th>opertatzii</th>\n",
       "      <th>...</th>\n",
       "      <th>medic</th>\n",
       "      <th>eho</th>\n",
       "      <th>ekg</th>\n",
       "      <th>akg</th>\n",
       "      <th>kt</th>\n",
       "      <th>first_op</th>\n",
       "      <th>op_date</th>\n",
       "      <th>DateOfOper</th>\n",
       "      <th>target</th>\n",
       "      <th>id</th>\n",
       "    </tr>\n",
       "  </thead>\n",
       "  <tbody>\n",
       "    <tr>\n",
       "      <th>298</th>\n",
       "      <td>2017-07-27</td>\n",
       "      <td>2017-08-11</td>\n",
       "      <td>m</td>\n",
       "      <td>65</td>\n",
       "      <td>6.80</td>\n",
       "      <td>84.34</td>\n",
       "      <td>0.35</td>\n",
       "      <td>12.01.2017</td>\n",
       "      <td>202</td>\n",
       "      <td>02.08.2017: (Откр./ИК) Перевязка ранее наложен...</td>\n",
       "      <td>...</td>\n",
       "      <td>аспирин-кардио, дигоксин, панангин, элькар, ви...</td>\n",
       "      <td>ЭхоКГ ВПС (27.07.2017 13:46:33,   Г.)\\nЛЖ, ЛП:...</td>\n",
       "      <td>ЭКГ (27.07.2017 15:58:11)\\nРитм сердца синусов...</td>\n",
       "      <td>АКГ ВПС (28.07.2017 13:35:25): Заключение: Дво...</td>\n",
       "      <td>NaN</td>\n",
       "      <td>Перевязка ранее наложенного анастомоза по Blal...</td>\n",
       "      <td>02.08.2017 9:50:30</td>\n",
       "      <td>2017-08-02</td>\n",
       "      <td>0</td>\n",
       "      <td>298</td>\n",
       "    </tr>\n",
       "    <tr>\n",
       "      <th>299</th>\n",
       "      <td>2017-05-11</td>\n",
       "      <td>2017-05-22</td>\n",
       "      <td>f</td>\n",
       "      <td>64</td>\n",
       "      <td>5.42</td>\n",
       "      <td>67.75</td>\n",
       "      <td>0.31</td>\n",
       "      <td>06.12.2016</td>\n",
       "      <td>160</td>\n",
       "      <td>15.05.2017: (Откр./ИК) Пластика дефекта межжел...</td>\n",
       "      <td>...</td>\n",
       "      <td>аспаркам, верошпирон, дигоксин</td>\n",
       "      <td>от 27.04.2017 Левое предсердие, левый желудоче...</td>\n",
       "      <td>от 11.05.2017 Ритм правильный, синусовый, ЭОс ...</td>\n",
       "      <td>NaN</td>\n",
       "      <td>NaN</td>\n",
       "      <td>Пластика дефекта межжелудочковой перегородки к...</td>\n",
       "      <td>15.05.2017 8:40:00</td>\n",
       "      <td>2017-05-15</td>\n",
       "      <td>0</td>\n",
       "      <td>299</td>\n",
       "    </tr>\n",
       "  </tbody>\n",
       "</table>\n",
       "<p>2 rows × 26 columns</p>\n",
       "</div>"
      ],
      "text/plain": [
       "      admittion   discharge sex  height  weight    BMI   BSA       birth  age  \\\n",
       "298  2017-07-27  2017-08-11   m      65    6.80  84.34  0.35  12.01.2017  202   \n",
       "299  2017-05-11  2017-05-22   f      64    5.42  67.75  0.31  06.12.2016  160   \n",
       "\n",
       "                                            opertatzii  ...  \\\n",
       "298  02.08.2017: (Откр./ИК) Перевязка ранее наложен...  ...   \n",
       "299  15.05.2017: (Откр./ИК) Пластика дефекта межжел...  ...   \n",
       "\n",
       "                                                 medic  \\\n",
       "298  аспирин-кардио, дигоксин, панангин, элькар, ви...   \n",
       "299                     аспаркам, верошпирон, дигоксин   \n",
       "\n",
       "                                                   eho  \\\n",
       "298  ЭхоКГ ВПС (27.07.2017 13:46:33,   Г.)\\nЛЖ, ЛП:...   \n",
       "299  от 27.04.2017 Левое предсердие, левый желудоче...   \n",
       "\n",
       "                                                   ekg  \\\n",
       "298  ЭКГ (27.07.2017 15:58:11)\\nРитм сердца синусов...   \n",
       "299  от 11.05.2017 Ритм правильный, синусовый, ЭОс ...   \n",
       "\n",
       "                                                   akg   kt  \\\n",
       "298  АКГ ВПС (28.07.2017 13:35:25): Заключение: Дво...  NaN   \n",
       "299                                                NaN  NaN   \n",
       "\n",
       "                                              first_op             op_date  \\\n",
       "298  Перевязка ранее наложенного анастомоза по Blal...  02.08.2017 9:50:30   \n",
       "299  Пластика дефекта межжелудочковой перегородки к...  15.05.2017 8:40:00   \n",
       "\n",
       "     DateOfOper target   id  \n",
       "298  2017-08-02      0  298  \n",
       "299  2017-05-15      0  299  \n",
       "\n",
       "[2 rows x 26 columns]"
      ]
     },
     "execution_count": 5,
     "metadata": {},
     "output_type": "execute_result"
    }
   ],
   "source": [
    "df.tail(2)"
   ]
  },
  {
   "cell_type": "markdown",
   "id": "2b08c8a6",
   "metadata": {},
   "source": [
    "_______________________"
   ]
  },
  {
   "cell_type": "markdown",
   "id": "7018be97",
   "metadata": {},
   "source": [
    "____________\n",
    "# EHO part"
   ]
  },
  {
   "cell_type": "code",
   "execution_count": 6,
   "id": "c55c5a1b",
   "metadata": {},
   "outputs": [],
   "source": [
    "eho = df[['id', 'eho']].copy()"
   ]
  },
  {
   "cell_type": "code",
   "execution_count": 7,
   "id": "1dce31b2",
   "metadata": {},
   "outputs": [],
   "source": [
    "eho['eho'] = eho['eho'].str.lower()"
   ]
  },
  {
   "cell_type": "code",
   "execution_count": 8,
   "id": "833fa69d",
   "metadata": {},
   "outputs": [],
   "source": [
    "eho['eho_'] = eho['eho'].str.extract(r'заключение:? ?(.*?)$').fillna(' ').astype('str')"
   ]
  },
  {
   "cell_type": "code",
   "execution_count": 9,
   "id": "2fa6c5de",
   "metadata": {},
   "outputs": [
    {
     "data": {
      "text/plain": [
       "                   86\n",
       "увеличение         62\n",
       "стеноз             57\n",
       "отделов            51\n",
       "дмжп,              46\n",
       "гипоплазия         44\n",
       "с                  39\n",
       "правых             36\n",
       "в                  35\n",
       "ла,                33\n",
       "мм                 31\n",
       "мпс,               30\n",
       "ла                 28\n",
       "на                 28\n",
       "оап,               28\n",
       "ооо,               27\n",
       "клапанный          25\n",
       "левых              25\n",
       "п/о                25\n",
       "и                  24\n",
       "легочной           23\n",
       "аорты,             22\n",
       "функционирующий    22\n",
       "dtype: int64"
      ]
     },
     "execution_count": 9,
     "metadata": {},
     "output_type": "execute_result"
    }
   ],
   "source": [
    "res = pd.Series(eho['eho_'].sum().split(' ')).value_counts() \n",
    "res[res > 20]"
   ]
  },
  {
   "cell_type": "code",
   "execution_count": 10,
   "id": "94b58fde",
   "metadata": {},
   "outputs": [],
   "source": [
    "eho_list = ['стеноз', 'гипопла', 'мпс', 'ооо', 'оап', 'дмжп', 'анастомоз']"
   ]
  },
  {
   "cell_type": "markdown",
   "id": "6423bdd0-458c-4850-b3f3-92b64df8e338",
   "metadata": {},
   "source": [
    "<div class=\"alert\" style=\"background-color:#ead7f7;color:#8737bf\">\n",
    "    <font size=\"3\"><b>Комментарий</b></font>\n",
    "   \n",
    "Чтобы не писать от руки можно получить самые популярные слова через `res[res > 20].index.values`.\n",
    "\n",
    "</div>"
   ]
  },
  {
   "cell_type": "markdown",
   "id": "22a0af59",
   "metadata": {},
   "source": [
    "<div class=\"alert alert-info\">\n",
    "Это ж не оно. \"Интеллектуально\" ручками выбрано подходящее на мой взгляд. Не топ 20 :)\n",
    "</div>"
   ]
  },
  {
   "cell_type": "code",
   "execution_count": 11,
   "id": "74d729b0",
   "metadata": {},
   "outputs": [],
   "source": [
    "for col in eho_list:\n",
    "    eho[col] = eho['eho'].str.contains(col, na=False).astype('int')"
   ]
  },
  {
   "cell_type": "code",
   "execution_count": 12,
   "id": "a03c2950",
   "metadata": {},
   "outputs": [],
   "source": [
    "eho = eho[['id', *eho_list]].fillna(0)"
   ]
  },
  {
   "cell_type": "code",
   "execution_count": 13,
   "id": "0b7e0ee6",
   "metadata": {},
   "outputs": [
    {
     "data": {
      "text/html": [
       "<div>\n",
       "<style scoped>\n",
       "    .dataframe tbody tr th:only-of-type {\n",
       "        vertical-align: middle;\n",
       "    }\n",
       "\n",
       "    .dataframe tbody tr th {\n",
       "        vertical-align: top;\n",
       "    }\n",
       "\n",
       "    .dataframe thead th {\n",
       "        text-align: right;\n",
       "    }\n",
       "</style>\n",
       "<table border=\"1\" class=\"dataframe\">\n",
       "  <thead>\n",
       "    <tr style=\"text-align: right;\">\n",
       "      <th></th>\n",
       "      <th>id</th>\n",
       "      <th>стеноз</th>\n",
       "      <th>гипопла</th>\n",
       "      <th>мпс</th>\n",
       "      <th>ооо</th>\n",
       "      <th>оап</th>\n",
       "      <th>дмжп</th>\n",
       "      <th>анастомоз</th>\n",
       "    </tr>\n",
       "  </thead>\n",
       "  <tbody>\n",
       "    <tr>\n",
       "      <th>0</th>\n",
       "      <td>0</td>\n",
       "      <td>0</td>\n",
       "      <td>0</td>\n",
       "      <td>0</td>\n",
       "      <td>1</td>\n",
       "      <td>0</td>\n",
       "      <td>1</td>\n",
       "      <td>1</td>\n",
       "    </tr>\n",
       "    <tr>\n",
       "      <th>1</th>\n",
       "      <td>1</td>\n",
       "      <td>1</td>\n",
       "      <td>1</td>\n",
       "      <td>1</td>\n",
       "      <td>1</td>\n",
       "      <td>1</td>\n",
       "      <td>1</td>\n",
       "      <td>0</td>\n",
       "    </tr>\n",
       "    <tr>\n",
       "      <th>2</th>\n",
       "      <td>2</td>\n",
       "      <td>0</td>\n",
       "      <td>0</td>\n",
       "      <td>0</td>\n",
       "      <td>0</td>\n",
       "      <td>1</td>\n",
       "      <td>1</td>\n",
       "      <td>1</td>\n",
       "    </tr>\n",
       "    <tr>\n",
       "      <th>3</th>\n",
       "      <td>3</td>\n",
       "      <td>1</td>\n",
       "      <td>1</td>\n",
       "      <td>1</td>\n",
       "      <td>1</td>\n",
       "      <td>0</td>\n",
       "      <td>1</td>\n",
       "      <td>1</td>\n",
       "    </tr>\n",
       "    <tr>\n",
       "      <th>4</th>\n",
       "      <td>4</td>\n",
       "      <td>1</td>\n",
       "      <td>1</td>\n",
       "      <td>0</td>\n",
       "      <td>1</td>\n",
       "      <td>0</td>\n",
       "      <td>0</td>\n",
       "      <td>0</td>\n",
       "    </tr>\n",
       "    <tr>\n",
       "      <th>...</th>\n",
       "      <td>...</td>\n",
       "      <td>...</td>\n",
       "      <td>...</td>\n",
       "      <td>...</td>\n",
       "      <td>...</td>\n",
       "      <td>...</td>\n",
       "      <td>...</td>\n",
       "      <td>...</td>\n",
       "    </tr>\n",
       "    <tr>\n",
       "      <th>295</th>\n",
       "      <td>295</td>\n",
       "      <td>0</td>\n",
       "      <td>0</td>\n",
       "      <td>0</td>\n",
       "      <td>1</td>\n",
       "      <td>1</td>\n",
       "      <td>0</td>\n",
       "      <td>0</td>\n",
       "    </tr>\n",
       "    <tr>\n",
       "      <th>296</th>\n",
       "      <td>296</td>\n",
       "      <td>0</td>\n",
       "      <td>0</td>\n",
       "      <td>1</td>\n",
       "      <td>0</td>\n",
       "      <td>0</td>\n",
       "      <td>1</td>\n",
       "      <td>0</td>\n",
       "    </tr>\n",
       "    <tr>\n",
       "      <th>297</th>\n",
       "      <td>297</td>\n",
       "      <td>1</td>\n",
       "      <td>1</td>\n",
       "      <td>0</td>\n",
       "      <td>0</td>\n",
       "      <td>1</td>\n",
       "      <td>1</td>\n",
       "      <td>0</td>\n",
       "    </tr>\n",
       "    <tr>\n",
       "      <th>298</th>\n",
       "      <td>298</td>\n",
       "      <td>1</td>\n",
       "      <td>1</td>\n",
       "      <td>0</td>\n",
       "      <td>0</td>\n",
       "      <td>0</td>\n",
       "      <td>1</td>\n",
       "      <td>1</td>\n",
       "    </tr>\n",
       "    <tr>\n",
       "      <th>299</th>\n",
       "      <td>299</td>\n",
       "      <td>0</td>\n",
       "      <td>0</td>\n",
       "      <td>1</td>\n",
       "      <td>0</td>\n",
       "      <td>0</td>\n",
       "      <td>1</td>\n",
       "      <td>0</td>\n",
       "    </tr>\n",
       "  </tbody>\n",
       "</table>\n",
       "<p>300 rows × 8 columns</p>\n",
       "</div>"
      ],
      "text/plain": [
       "      id  стеноз  гипопла  мпс  ооо  оап  дмжп  анастомоз\n",
       "0      0       0        0    0    1    0     1          1\n",
       "1      1       1        1    1    1    1     1          0\n",
       "2      2       0        0    0    0    1     1          1\n",
       "3      3       1        1    1    1    0     1          1\n",
       "4      4       1        1    0    1    0     0          0\n",
       "..   ...     ...      ...  ...  ...  ...   ...        ...\n",
       "295  295       0        0    0    1    1     0          0\n",
       "296  296       0        0    1    0    0     1          0\n",
       "297  297       1        1    0    0    1     1          0\n",
       "298  298       1        1    0    0    0     1          1\n",
       "299  299       0        0    1    0    0     1          0\n",
       "\n",
       "[300 rows x 8 columns]"
      ]
     },
     "execution_count": 13,
     "metadata": {},
     "output_type": "execute_result"
    }
   ],
   "source": [
    "eho"
   ]
  },
  {
   "cell_type": "markdown",
   "id": "ba791bf3-55fe-4f04-85b1-d6367f435650",
   "metadata": {},
   "source": [
    "<div class=\"alert\" style=\"background-color:#ead7f7;color:#8737bf\">\n",
    "    <font size=\"3\"><b>Комментарий</b></font>\n",
    "   \n",
    "Хороший подход к тому, чтобы вытащить самые популярные заключения по эхо и закодировать их! Возможно стоим почистить предложения перет тем, как смотреть частоту встречаемости слов: убрать \",\" через re, лемматизировать слова (см. Mystem()), а также можно исключить стоп-слова (предлоги). Тогда это сработает еще лучше.\n",
    "\n",
    "</div>"
   ]
  },
  {
   "cell_type": "markdown",
   "id": "c431ebc0",
   "metadata": {},
   "source": [
    "<div class=\"alert alert-info\">\n",
    "Можно, конечно, но зачем? Я ж сама выбираю нужное, просто на основе топа. Запятым пофиг, оно все пропадет само. \n",
    "</div>"
   ]
  },
  {
   "cell_type": "markdown",
   "id": "14bb79c2",
   "metadata": {},
   "source": [
    "________________________________\n",
    "## MKB part"
   ]
  },
  {
   "cell_type": "code",
   "execution_count": 14,
   "id": "003c1bb8",
   "metadata": {},
   "outputs": [],
   "source": [
    "mkb = df[['id', 'mkb']]"
   ]
  },
  {
   "cell_type": "code",
   "execution_count": 15,
   "id": "92c2095d",
   "metadata": {},
   "outputs": [
    {
     "name": "stderr",
     "output_type": "stream",
     "text": [
      "\n",
      "A value is trying to be set on a copy of a slice from a DataFrame.\n",
      "Try using .loc[row_indexer,col_indexer] = value instead\n",
      "\n",
      "See the caveats in the documentation: https://pandas.pydata.org/pandas-docs/stable/user_guide/indexing.html#returning-a-view-versus-a-copy\n"
     ]
    }
   ],
   "source": [
    "mkb['mkb'] = mkb['mkb'].str.split(',')\n",
    "mkb = mkb.explode('mkb')"
   ]
  },
  {
   "cell_type": "markdown",
   "id": "00f2bdb5-96e0-43b7-83a5-377f1813dba4",
   "metadata": {},
   "source": [
    "<div class=\"alert\" style=\"background-color:#ead7f7;color:#8737bf\">\n",
    "    <font size=\"3\"><b>Комментарий</b></font>\n",
    "\n",
    "За `explode` спасибо! Не знала, что можно вот так вот схлопнуть строку)\n",
    "\n",
    "</div>"
   ]
  },
  {
   "cell_type": "code",
   "execution_count": 16,
   "id": "6ad95ed1",
   "metadata": {},
   "outputs": [],
   "source": [
    "mkb['mkb'] = mkb['mkb'].str.replace('Q','',regex=True).str.strip().astype('str')"
   ]
  },
  {
   "cell_type": "code",
   "execution_count": 17,
   "id": "64adc335",
   "metadata": {},
   "outputs": [],
   "source": [
    "mkb_list = mkb['mkb'].value_counts()\n",
    "mkb_list = mkb_list[mkb_list > 2].index.to_list()"
   ]
  },
  {
   "cell_type": "code",
   "execution_count": 18,
   "id": "b0d14899",
   "metadata": {},
   "outputs": [],
   "source": [
    "mkb.loc[~mkb['mkb'].isin(mkb_list),'mkb'] = 'Oth'"
   ]
  },
  {
   "cell_type": "code",
   "execution_count": 19,
   "id": "48f0adac",
   "metadata": {},
   "outputs": [],
   "source": [
    "mkb['val'] = 1"
   ]
  },
  {
   "cell_type": "code",
   "execution_count": 20,
   "id": "8d0dfac4",
   "metadata": {},
   "outputs": [],
   "source": [
    "mkb = mkb.pivot_table(columns='mkb', index='id', values='val').reset_index().fillna(0).astype('int')"
   ]
  },
  {
   "cell_type": "markdown",
   "id": "1cb8bbd4",
   "metadata": {},
   "source": [
    "__________________________\n",
    "## Drugs part"
   ]
  },
  {
   "cell_type": "code",
   "execution_count": 21,
   "id": "dcc22971",
   "metadata": {},
   "outputs": [],
   "source": [
    "medic = df[['id', 'medic_osn','medic']]"
   ]
  },
  {
   "cell_type": "code",
   "execution_count": 22,
   "id": "cf57d202",
   "metadata": {},
   "outputs": [],
   "source": [
    "medic = medic.fillna('')"
   ]
  },
  {
   "cell_type": "code",
   "execution_count": 23,
   "id": "575a6354",
   "metadata": {},
   "outputs": [],
   "source": [
    "medic['medic_osn'] += ' ' + medic['medic']"
   ]
  },
  {
   "cell_type": "markdown",
   "id": "85476040-9501-46e2-bf8f-c1eb698c3fc9",
   "metadata": {},
   "source": [
    "<div class=\"alert\" style=\"background-color:#ead7f7;color:#8737bf\">\n",
    "    <font size=\"3\"><b>Комментарий</b></font>\n",
    "\n",
    "В некоторых случаях дополнитеных таблеток не прописывают (там пропуск). Объединяя эти столбцы, мы не упускаем этот кусок информации?\n",
    "\n",
    "</div>"
   ]
  },
  {
   "cell_type": "markdown",
   "id": "d559af92",
   "metadata": {},
   "source": [
    "<div class=\"alert alert-info\">\n",
    "Был стоблец разницы, не влиял. Самоубился.\n",
    "\n",
    "</div>"
   ]
  },
  {
   "cell_type": "code",
   "execution_count": 24,
   "id": "7720e604",
   "metadata": {},
   "outputs": [],
   "source": [
    "medic['medic_osn'] = medic['medic_osn'].str.replace(r'[^а-яА-Я -]', ' ', regex=True) \\\n",
    "                                       .str.replace(' +', ' ', regex=True).str.lower().str.strip()"
   ]
  },
  {
   "cell_type": "code",
   "execution_count": 25,
   "id": "32fc85d7",
   "metadata": {},
   "outputs": [],
   "source": [
    "# drugs = medic['medic_osn'].map(lambda x: set(x.split(' '))).explode().value_counts()"
   ]
  },
  {
   "cell_type": "code",
   "execution_count": 26,
   "id": "2616a209",
   "metadata": {},
   "outputs": [],
   "source": [
    "drugs = set(['верошпирон', 'дигоксин', 'фуросемид', 'аспаркам', 'капотен', 'элькар',\n",
    "         'панангин', 'аспирин', 'вазапростан', 'анаприлин', 'допамин', 'адреналин',\n",
    "         'аспирин-кардио','мочегонные', 'алпростан', 'гепарин',\n",
    "         'ампициллин', 'нанипрус', 'траклир', 'гентамицин'])"
   ]
  },
  {
   "cell_type": "code",
   "execution_count": 27,
   "id": "23aa7c2b",
   "metadata": {},
   "outputs": [],
   "source": [
    "medic['medic_osn'] = medic['medic_osn'].map(lambda x: set(x.split(' ')) & drugs)"
   ]
  },
  {
   "cell_type": "code",
   "execution_count": 28,
   "id": "b7098166",
   "metadata": {},
   "outputs": [],
   "source": [
    "medic = medic.explode('medic_osn')"
   ]
  },
  {
   "cell_type": "code",
   "execution_count": 29,
   "id": "a0169f80",
   "metadata": {},
   "outputs": [],
   "source": [
    "medic_table = medic.pivot_table(index='id', columns='medic_osn', aggfunc='count', values='medic_osn').reset_index().fillna(0)"
   ]
  },
  {
   "cell_type": "code",
   "execution_count": 30,
   "id": "43e1e45a",
   "metadata": {},
   "outputs": [],
   "source": [
    "medic_table.columns = ['id', *(f'drug_{i}' for i, _ in enumerate(medic_table.columns[1:]))]"
   ]
  },
  {
   "cell_type": "markdown",
   "id": "80bf9c74",
   "metadata": {},
   "source": [
    "__________________________\n",
    "## EKG part"
   ]
  },
  {
   "cell_type": "code",
   "execution_count": 31,
   "id": "2e6cfa54",
   "metadata": {},
   "outputs": [],
   "source": [
    "ekg = df[['ekg','id']].copy()\n",
    "ekg = ekg.dropna()\n",
    "ekg['ekg'] = ekg['ekg'].str.lower()"
   ]
  },
  {
   "cell_type": "code",
   "execution_count": 32,
   "id": "89e35a3b",
   "metadata": {},
   "outputs": [],
   "source": [
    "# дата, синусовый\n",
    "ekg['ekg_date'] = ekg['ekg'].str.extract(r'(\\d+\\.\\d+\\.\\d{2,4})')\n",
    "ekg['ekg_sinus'] = ekg['ekg'].str.extract(r'( синус)').notna().astype('int')"
   ]
  },
  {
   "cell_type": "code",
   "execution_count": 33,
   "id": "3acf2b36",
   "metadata": {},
   "outputs": [],
   "source": [
    "# ЧСС \n",
    "list_of_ss = '|'.join(['чсс', 'сердцебиений в минуту', 'сердечных сокращений'])\n",
    "res = ekg['ekg'].str.extract(f'({list_of_ss}) ?=?-? ?(\\d+)')\n",
    "ekg['ekg_ss'] = res[1]"
   ]
  },
  {
   "cell_type": "code",
   "execution_count": 34,
   "id": "4b105e4a",
   "metadata": {},
   "outputs": [],
   "source": [
    "# эос\n",
    "eos_dict = {'прав': 1,\n",
    "            'лев': 2,\n",
    "            'норм':3, \n",
    "            'гориз':4, \n",
    "            'верт':5}\n",
    "\n",
    "def ekg_replace(data):\n",
    "    res = [eos_dict.get(x) for x in eos_dict.keys() if x in data]\n",
    "    if res:\n",
    "        return res[0]\n",
    "    return 0\n",
    "\n",
    "list_of_eos = '|'.join(['эос', 'электрической оси сердца:', 'ось сердца', 'ось'])\n",
    "res = ekg['ekg'].str.extract(f'(({list_of_eos}) (отклонена)? ?(\\w+))|((\\w+) (положение э))')\n",
    "res[3] = res[3].fillna(res[5])\n",
    "ekg['ekg_eos'] = res[3]\n",
    "ekg['ekg_eos'] = ekg['ekg_eos'].fillna(' ')\n",
    "ekg['ekg_eos'] = ekg['ekg_eos'].map(ekg_replace)"
   ]
  },
  {
   "cell_type": "code",
   "execution_count": 35,
   "id": "b8938fbd",
   "metadata": {},
   "outputs": [],
   "source": [
    "ekg['ekg_qrs'] = ekg['ekg'].str.extract('(qrs) ?=? ?(\\d(,|\\.)\\d+)')[1].str.replace(',','.', regex=True).astype('float')\n",
    "ekg['ekg_qrst'] = ekg['ekg'].str.extract('(qrst) ?=? ?(\\d(,|\\.)\\d+)')[1].str.replace(',','.', regex=True).astype('float')\n",
    "ekg['ekg_pq'] = ekg['ekg'].str.extract('(pq) ?=? ?(\\d(,|\\.)\\d+)')[1].str.replace(',','.', regex=True).astype('float')"
   ]
  },
  {
   "cell_type": "code",
   "execution_count": 36,
   "id": "c15bc701",
   "metadata": {},
   "outputs": [],
   "source": [
    "#ekg['ekg_clr'] = ekg['ekg'].str.lower().str.replace(r'[^а-я ]', ' ', regex=True)\n",
    "#ekg['ekg_clr'] = ekg['ekg_clr'].str.replace(r'\\b\\w{,3}\\b',' ',regex=True).str.replace(r' +',' ', regex=True).str.strip()"
   ]
  },
  {
   "cell_type": "code",
   "execution_count": 37,
   "id": "944fd5fe",
   "metadata": {},
   "outputs": [
    {
     "data": {
      "text/html": [
       "<div>\n",
       "<style scoped>\n",
       "    .dataframe tbody tr th:only-of-type {\n",
       "        vertical-align: middle;\n",
       "    }\n",
       "\n",
       "    .dataframe tbody tr th {\n",
       "        vertical-align: top;\n",
       "    }\n",
       "\n",
       "    .dataframe thead th {\n",
       "        text-align: right;\n",
       "    }\n",
       "</style>\n",
       "<table border=\"1\" class=\"dataframe\">\n",
       "  <thead>\n",
       "    <tr style=\"text-align: right;\">\n",
       "      <th></th>\n",
       "      <th>id</th>\n",
       "      <th>ekg_date</th>\n",
       "      <th>ekg_sinus</th>\n",
       "      <th>ekg_ss</th>\n",
       "      <th>ekg_eos</th>\n",
       "      <th>ekg_qrs</th>\n",
       "      <th>ekg_qrst</th>\n",
       "      <th>ekg_pq</th>\n",
       "    </tr>\n",
       "  </thead>\n",
       "  <tbody>\n",
       "    <tr>\n",
       "      <th>0</th>\n",
       "      <td>0</td>\n",
       "      <td>02.12.2016</td>\n",
       "      <td>1</td>\n",
       "      <td>120</td>\n",
       "      <td>1</td>\n",
       "      <td>0.07</td>\n",
       "      <td>0.26</td>\n",
       "      <td>0.12</td>\n",
       "    </tr>\n",
       "    <tr>\n",
       "      <th>1</th>\n",
       "      <td>1</td>\n",
       "      <td>13.01.2017</td>\n",
       "      <td>1</td>\n",
       "      <td>122</td>\n",
       "      <td>3</td>\n",
       "      <td>0.06</td>\n",
       "      <td>0.00</td>\n",
       "      <td>0.12</td>\n",
       "    </tr>\n",
       "  </tbody>\n",
       "</table>\n",
       "</div>"
      ],
      "text/plain": [
       "   id    ekg_date  ekg_sinus ekg_ss  ekg_eos  ekg_qrs  ekg_qrst  ekg_pq\n",
       "0   0  02.12.2016          1    120        1     0.07      0.26    0.12\n",
       "1   1  13.01.2017          1    122        3     0.06      0.00    0.12"
      ]
     },
     "execution_count": 37,
     "metadata": {},
     "output_type": "execute_result"
    }
   ],
   "source": [
    "ekg = ekg.fillna(0).drop('ekg', axis=1)\n",
    "ekg.head(2)"
   ]
  },
  {
   "cell_type": "code",
   "execution_count": 38,
   "id": "61e0fbe2-d4c9-45ce-b9eb-7fb005dfe43b",
   "metadata": {},
   "outputs": [],
   "source": [
    "# ekg['ekg_pq'].value_counts()\n",
    "# ekg['ekg_qrst'].value_counts()\n",
    "# ekg['ekg_qrs'].value_counts()"
   ]
  },
  {
   "cell_type": "markdown",
   "id": "d55987e5-99ba-4eca-998b-89fd0351b018",
   "metadata": {},
   "source": [
    "<div class=\"alert\" style=\"background-color:#ead7f7;color:#8737bf\">\n",
    "    <font size=\"3\"><b>Комментарий</b></font>\n",
    "\n",
    "Круто, что получилось достать информацию из текста. Почему то в некоторых диагнозах не было показателей `ekg_pq`, `ekg_qrst`, `ekg_qrs`, много нулей.\n",
    "\n",
    "</div>"
   ]
  },
  {
   "cell_type": "code",
   "execution_count": 39,
   "id": "9577f957",
   "metadata": {},
   "outputs": [],
   "source": [
    "# qq = ekg[['ekg_date','id']].copy()\n",
    "# qq['new_date'] = pd.to_datetime(ekg['ekg_date'])\n",
    "# qq['op_d'] = pd.to_datetime(df['DateOfOper'])\n",
    "# qq['new_date'] = qq['new_date'].fillna(qq['op_d'])\n",
    "# qq['diff'] = (qq['op_d'] - qq['new_date']).dt.days\n",
    "# qq['diff'].value_counts()"
   ]
  },
  {
   "cell_type": "markdown",
   "id": "477c0517",
   "metadata": {},
   "source": [
    "________________________________\n",
    "## Opertatzii"
   ]
  },
  {
   "cell_type": "code",
   "execution_count": 40,
   "id": "b766fcb3",
   "metadata": {},
   "outputs": [],
   "source": [
    "opr = df[['id', 'first_op','target']].copy()\n",
    "opr = opr.dropna()\n",
    "opr['first_op'] = opr['first_op'].str.lower() \\\n",
    "                                 .str.replace('\\.',' ', regex=True)\\\n",
    "                                 .str.replace('[^a-zа-я ]','',regex=True)"
   ]
  },
  {
   "cell_type": "markdown",
   "id": "b8ba51c9-9956-4e9f-a2be-5ba77f88b0af",
   "metadata": {},
   "source": [
    "<div class=\"alert\" style=\"background-color:#ead7f7;color:#8737bf\">\n",
    "    <font size=\"3\"><b>Комментарий</b></font>\n",
    "\n",
    "Не работает.\n",
    "\n",
    "</div>"
   ]
  },
  {
   "cell_type": "markdown",
   "id": "5bdec885",
   "metadata": {},
   "source": [
    "<div class=\"alert alert-info\">\n",
    "А это из-за того, что регламента нет, как и файлика реквайрментов.  <br>\n",
    "Если оно не установлено или разные версии, то и работать не будет. Логично, чо.  <br>\n",
    "Тут спайси живет. Субъективно оно лучше мистема.    \n",
    "</div>"
   ]
  },
  {
   "cell_type": "code",
   "execution_count": 41,
   "id": "53b8ea42",
   "metadata": {
    "jupyter": {
     "outputs_hidden": true
    },
    "tags": []
   },
   "outputs": [],
   "source": [
    "opr['first_op'] = opr['first_op'].apply(lambda x: ' '.join([w.lemma_ for w in nlp(x) if not w.is_stop]))"
   ]
  },
  {
   "cell_type": "code",
   "execution_count": 42,
   "id": "020d4343",
   "metadata": {},
   "outputs": [
    {
     "data": {
      "text/plain": [
       "0      перевязка наложенного анастомоз blalock справа...\n",
       "1      радикальный коррекция двойной отхождение магис...\n",
       "2      перевязка наложенного анастомоз blalock c синт...\n",
       "3      наложение двусторонний кавапульмонального анас...\n",
       "4      реконструкция путь отток правый желудочек ауто...\n",
       "                             ...                        \n",
       "295    радикальный коррекция частично открыть атриове...\n",
       "296           операция muller суживание лёгочный артерия\n",
       "297    наложение модифицированный подключичнолегочног...\n",
       "298    перевязка наложенного анастомоз blalock c синт...\n",
       "299    пластик дефект межжелудочковый перегородка ксе...\n",
       "Name: first_op, Length: 300, dtype: object"
      ]
     },
     "execution_count": 42,
     "metadata": {},
     "output_type": "execute_result"
    }
   ],
   "source": [
    "opr['first_op'] "
   ]
  },
  {
   "cell_type": "code",
   "execution_count": 43,
   "id": "18491055",
   "metadata": {},
   "outputs": [],
   "source": [
    "opr_t = opr[opr['target'] == 1]\n",
    "opr_t = set(' '.join(opr_t['first_op'].values).split(' '))"
   ]
  },
  {
   "cell_type": "code",
   "execution_count": 44,
   "id": "30c10c84",
   "metadata": {},
   "outputs": [],
   "source": [
    "opr_r = opr[opr['target'] != 1]\n",
    "opr_r = set(' '.join(opr_r['first_op'].values).split(' '))"
   ]
  },
  {
   "cell_type": "code",
   "execution_count": 45,
   "id": "ab145857",
   "metadata": {},
   "outputs": [],
   "source": [
    "oper_set = opr_t & opr_r"
   ]
  },
  {
   "cell_type": "code",
   "execution_count": 46,
   "id": "aa2d1d1c",
   "metadata": {},
   "outputs": [],
   "source": [
    "# sum(opr_r['opertatzii'].str.contains('эмболиз'))\n",
    "# opr_t['opertatzii'].str.contains('эмболиз') \n",
    "# opr_r & opr_t\n",
    "# opr_t - opr_r\n",
    "# opr_r - opr_t\n",
    "# qq = opr['opertatzii'].str.replace(r'\\(.*\\)','', regex=True).str.lower().str.replace(r'[^а-я; ]','',regex=True) \\\n",
    "#.str.replace(' +',' ',regex=True).str.replace('; ',';', regex=True).str.strip().str.split(';')\n",
    "# qq.explode().value_counts().head(30)"
   ]
  },
  {
   "cell_type": "code",
   "execution_count": 47,
   "id": "60972832",
   "metadata": {},
   "outputs": [],
   "source": [
    "opr['first_op'] = opr['first_op'].map(lambda x: ' '.join(set(x.split(' ')) & oper_set))"
   ]
  },
  {
   "cell_type": "code",
   "execution_count": 48,
   "id": "9c8604e8",
   "metadata": {},
   "outputs": [],
   "source": [
    "opr = opr[['first_op', 'id']]\n",
    "opr.columns = ['opr', 'id']"
   ]
  },
  {
   "cell_type": "markdown",
   "id": "80cd2b75",
   "metadata": {},
   "source": [
    "_____________________________________\n",
    "## Merge"
   ]
  },
  {
   "cell_type": "code",
   "execution_count": 49,
   "id": "94cf8218",
   "metadata": {},
   "outputs": [],
   "source": [
    "df = df.merge(medic_table, on='id', how='left')\n",
    "df = df.merge(ekg, on='id', how='left')\n",
    "df = df.merge(mkb, on='id', how='left')\n",
    "df = df.merge(opr, on='id', how='left')\n",
    "df = df.merge(eho, on='id', how='left')"
   ]
  },
  {
   "cell_type": "code",
   "execution_count": 50,
   "id": "83e6d599",
   "metadata": {},
   "outputs": [],
   "source": [
    "#df['ekg_eos'] = df['ekg_eos'].fillna(' ')\n",
    "#df['ekg_clr'] = df['ekg_clr'].fillna(' ').astype('str')\n",
    "#df['first_op'] = df['first_op'].fillna(' ').astype('str')\n",
    "df['opr'] = df['opr'].fillna(' ').astype('str')"
   ]
  },
  {
   "cell_type": "code",
   "execution_count": 51,
   "id": "684a78e5",
   "metadata": {},
   "outputs": [],
   "source": [
    "df = df.fillna(0)"
   ]
  },
  {
   "cell_type": "code",
   "execution_count": 52,
   "id": "185c229e",
   "metadata": {},
   "outputs": [],
   "source": [
    "cols = ['drug_0', 'drug_1', 'drug_2', 'drug_3', 'drug_4', 'drug_5', 'drug_6', 'drug_7', 'drug_8', 'drug_9',\n",
    " 'drug_10', 'drug_11', 'drug_12', 'drug_13', 'drug_14', 'drug_15', 'drug_16', 'drug_17', 'drug_18', 'drug_19']\n",
    "\n",
    "text_features = []#['opr']\n",
    "cat_features = ['redo', 'sex', 'ekg_eos', 'ekg_sinus']"
   ]
  },
  {
   "cell_type": "code",
   "execution_count": 53,
   "id": "fe0a7b73",
   "metadata": {},
   "outputs": [],
   "source": [
    "df[cols] = df[cols].fillna(0).astype('int')\n",
    "df[cat_features] = df[cat_features].astype('str')"
   ]
  },
  {
   "cell_type": "code",
   "execution_count": 54,
   "id": "cce625c7",
   "metadata": {},
   "outputs": [],
   "source": [
    "test_df = df[['sex','height','weight','BMI','BSA','age','target', 'redo', 'ekg_ss', 'ekg_sinus',\n",
    "              'ekg_eos','ekg_qrs','ekg_qrst','ekg_pq', *mkb_list,  *cols]]"
   ]
  },
  {
   "cell_type": "markdown",
   "id": "9ef1aad6-3b78-4819-addd-48862d774516",
   "metadata": {},
   "source": [
    "<div class=\"alert\" style=\"background-color:#ead7f7;color:#8737bf\">\n",
    "    <font size=\"3\"><b>Комментарий</b></font>\n",
    "\n",
    "Нужен корелляционный анализ: 'ekg_ss', 'ekg_sinus', 'ekg_eos','ekg_qrs','ekg_qrst','ekg_pq' должны быть по идее скореллированы. Может, поэтому линейный классификатор не справляется.\n",
    "</div>"
   ]
  },
  {
   "cell_type": "markdown",
   "id": "0f1debd6",
   "metadata": {},
   "source": [
    "<div class=\"alert alert-info\">\n",
    "Если линейный не справляется, то он про это пишет :) Он добрый.  По факту корреляция влияет только на интерпретацию, в остальном пофиг, не критично. Полный анализ висит в самом начале, # pandas_profiling.ProfileReport(df) вот эта вот строка. В комментариях дабы не мешалось просто так, у него слишком объемный вывод.\n",
    "</div>"
   ]
  },
  {
   "cell_type": "code",
   "execution_count": 55,
   "id": "faef5eb1",
   "metadata": {},
   "outputs": [
    {
     "data": {
      "text/plain": [
       "567567"
      ]
     },
     "execution_count": 55,
     "metadata": {},
     "output_type": "execute_result"
    }
   ],
   "source": [
    "567567"
   ]
  },
  {
   "cell_type": "code",
   "execution_count": 56,
   "id": "48d1a651",
   "metadata": {},
   "outputs": [
    {
     "data": {
      "application/vnd.jupyter.widget-view+json": {
       "model_id": "0fae17bf0d7b48f59807b37026f17913",
       "version_major": 2,
       "version_minor": 0
      },
      "text/plain": [
       "MetricVisualizer(layout=Layout(align_self='stretch', height='500px'))"
      ]
     },
     "metadata": {},
     "output_type": "display_data"
    },
    {
     "name": "stdout",
     "output_type": "stream",
     "text": [
      "0:\tlearn: 1.0000000\ttest: 0.1666667\tbest: 0.1666667 (0)\ttotal: 98.6ms\tremaining: 49.2s\n",
      "250:\tlearn: 1.0000000\ttest: 0.0000000\tbest: 0.1666667 (0)\ttotal: 1.68s\tremaining: 1.67s\n",
      "499:\tlearn: 1.0000000\ttest: 0.0000000\tbest: 0.1666667 (0)\ttotal: 2.79s\tremaining: 0us\n",
      "\n",
      "bestTest = 0.1666666667\n",
      "bestIteration = 0\n",
      "\n",
      "Shrink model to first 1 iterations.\n"
     ]
    },
    {
     "data": {
      "text/plain": [
       "<catboost.core.CatBoostClassifier at 0x7f95f14793f0>"
      ]
     },
     "execution_count": 56,
     "metadata": {},
     "output_type": "execute_result"
    }
   ],
   "source": [
    "train, test = train_test_split(test_df, test_size=0.4, random_state=2, stratify=test_df['target'])\n",
    "\n",
    "\n",
    "\n",
    "train_pool = Pool(train.drop('target', axis=1), \n",
    "                 train['target'],\n",
    "                 cat_features=cat_features,\n",
    "                 text_features=text_features)\n",
    "\n",
    "valid_pool = Pool(test.drop('target', axis=1), \n",
    "                 test['target'],\n",
    "                 cat_features=cat_features,\n",
    "                 text_features=text_features)\n",
    "model = CatBoostClassifier(random_seed=42, verbose=250, eval_metric='Recall', eta=0.5, iterations=500,\n",
    "                          auto_class_weights='Balanced'\n",
    "                          )\n",
    "model.fit(train_pool, eval_set=valid_pool, plot=True)"
   ]
  },
  {
   "cell_type": "markdown",
   "id": "fa3b5e5d-740f-4551-8958-fbd19ecf8b73",
   "metadata": {},
   "source": [
    "<div class=\"alert\" style=\"background-color:#ead7f7;color:#8737bf\">\n",
    "    <font size=\"3\"><b>Комментарий</b></font>\n",
    "    \n",
    "Подбор параметров?\n",
    "\n",
    "</div>"
   ]
  },
  {
   "cell_type": "markdown",
   "id": "52fae2e8",
   "metadata": {},
   "source": [
    "<div class=\"alert alert-info\">\n",
    "Нафига козе баян? Гиперпараметры - последний шаг, когда все более-менее устойчиво. Тем более у меня висит готовая оптуна для этих целей. <br>\n",
    "Нам стабилизации хоть какой-то добиться сначала надо, метрика летает просто фантастически в зависимости от разбиения. И фичи еще можно вытянуть. Зачем на каждый шаг параметры подбирать, показать, что умеешь?)) Это ж не учебный проект. <br>\n",
    "  Могу отдельно оптуну закинуть. Куда более адекватный и интеллектуальный подбор параметров, чем стандартные гридсерчи.\n",
    "</div>"
   ]
  },
  {
   "cell_type": "code",
   "execution_count": 57,
   "id": "156e11c8",
   "metadata": {},
   "outputs": [],
   "source": [
    "X = test_df.drop(['target'], axis=1)\n",
    "y = test_df['target']"
   ]
  },
  {
   "cell_type": "code",
   "execution_count": 58,
   "id": "181160c8",
   "metadata": {},
   "outputs": [],
   "source": [
    "X.loc[X['redo'] == ' ', 'redo'] = 0"
   ]
  },
  {
   "cell_type": "code",
   "execution_count": 59,
   "id": "2536e023",
   "metadata": {},
   "outputs": [],
   "source": [
    "X['redo'] = X['redo'].astype('int')"
   ]
  },
  {
   "cell_type": "code",
   "execution_count": 60,
   "id": "fb5cf596",
   "metadata": {},
   "outputs": [],
   "source": [
    "X_train, X_ts, y_train, y_ts = train_test_split(X,y, test_size=0.3, random_state=1242, stratify=y)"
   ]
  },
  {
   "cell_type": "code",
   "execution_count": 61,
   "id": "b1790fbc",
   "metadata": {},
   "outputs": [],
   "source": [
    "ohe = make_column_transformer((OneHotEncoder(drop='first', handle_unknown='ignore'), cat_features),\n",
    "                             # (TfidfVectorizer(), 'opr'),\n",
    "                              remainder='passthrough')\n",
    "\n",
    "ords = make_column_transformer((OrdinalEncoder(handle_unknown='use_encoded_value', unknown_value=-1),cat_features),\n",
    "                              (TfidfVectorizer(), 'first_op'),\n",
    "                              remainder='passthrough')"
   ]
  },
  {
   "cell_type": "code",
   "execution_count": 62,
   "id": "1d81c625",
   "metadata": {},
   "outputs": [],
   "source": [
    "model = make_pipeline(ohe, \n",
    "                     # SMOTE(random_state=42), \n",
    "                      LogisticRegression(random_state=42, \n",
    "                                         penalty='l2',\n",
    "                                         solver='liblinear', \n",
    "                                         max_iter=400,\n",
    "                                         class_weight='balanced'\n",
    "                                        ))"
   ]
  },
  {
   "cell_type": "code",
   "execution_count": 63,
   "id": "45a01cd9",
   "metadata": {},
   "outputs": [
    {
     "data": {
      "text/plain": [
       "array([0.11111111, 0.33333333, 0.33333333, 0.28571429])"
      ]
     },
     "execution_count": 63,
     "metadata": {},
     "output_type": "execute_result"
    }
   ],
   "source": [
    "cross_val_score(model, X, y, cv=4, scoring='precision')"
   ]
  },
  {
   "cell_type": "markdown",
   "id": "3a47af2f",
   "metadata": {},
   "source": [
    "TEXT - array([0.14285714, 0.33333333, 0.5       , 0.2       ])  \n",
    "NOTEXT - array([0.11111111, 0.33333333, 0.33333333, 0.28571429])"
   ]
  },
  {
   "cell_type": "code",
   "execution_count": 64,
   "id": "8e61c098",
   "metadata": {},
   "outputs": [
    {
     "data": {
      "text/plain": [
       "array([[28,  1],\n",
       "       [ 1,  0]])"
      ]
     },
     "execution_count": 64,
     "metadata": {},
     "output_type": "execute_result"
    }
   ],
   "source": [
    "X_train, X_ts, y_train, y_ts = train_test_split(X,y, test_size=0.1, stratify=y)\n",
    "model.fit(X_train, y_train)\n",
    "m.confusion_matrix(y_ts, model.predict(X_ts))"
   ]
  },
  {
   "cell_type": "markdown",
   "id": "1cbb9b79-0183-4136-b15f-627d81aec135",
   "metadata": {},
   "source": [
    "<div class=\"alert\" style=\"background-color:#ead7f7;color:#8737bf\">\n",
    "    <font size=\"3\"><b>Комментарий</b></font>\n",
    "    \n",
    "Почему ты два раза разбиваешь выборку на трейн и тест: отдельно для логистической регрессии, отдельно для катбуста?\n",
    "\n",
    "</div>"
   ]
  },
  {
   "cell_type": "markdown",
   "id": "f59dca0d",
   "metadata": {},
   "source": [
    "<div class=\"alert alert-info\">\n",
    "Тут в разбиении рандом стейта нет. Специально. Просто посмотреть конфуз_матрицу на разных разбиениях, что не ездить туда-сюда по ноутбуку. \n",
    "</div>"
   ]
  },
  {
   "cell_type": "code",
   "execution_count": 65,
   "id": "26cde150",
   "metadata": {},
   "outputs": [
    {
     "data": {
      "application/vnd.jupyter.widget-view+json": {
       "model_id": "3196e1bd32bc43cb90deb7a1ac7f75a2",
       "version_major": 2,
       "version_minor": 0
      },
      "text/plain": [
       "  0%|          | 0/30 [00:00<?, ?it/s]"
      ]
     },
     "metadata": {},
     "output_type": "display_data"
    },
    {
     "name": "stderr",
     "output_type": "stream",
     "text": [
      "No data for colormapping provided via 'c'. Parameters 'vmin', 'vmax' will be ignored\n"
     ]
    },
    {
     "data": {
      "image/png": "[encoded data removed]",
      "text/plain": [
       "<Figure size 800x950 with 2 Axes>"
      ]
     },
     "metadata": {},
     "output_type": "display_data"
    }
   ],
   "source": [
    "# время\n",
    "x_Train = model[0].fit_transform(X_ts)\n",
    "explainer = shap.KernelExplainer(model[1].predict, x_Train)\n",
    "shap_values = explainer.shap_values(x_Train)\n",
    "shap.summary_plot(shap_values, x_Train)"
   ]
  }
 ],
 "metadata": {
  "kernelspec": {
   "display_name": "Python 3 (ipykernel)",
   "language": "python",
   "name": "python3"
  },
  "language_info": {
   "codemirror_mode": {
    "name": "ipython",
    "version": 3
   },
   "file_extension": ".py",
   "mimetype": "text/x-python",
   "name": "python",
   "nbconvert_exporter": "python",
   "pygments_lexer": "ipython3",
   "version": "3.10.10"
  }
 },
 "nbformat": 4,
 "nbformat_minor": 5
}
