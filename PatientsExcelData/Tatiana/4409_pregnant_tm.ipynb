{
 "cells": [
  {
   "cell_type": "code",
   "execution_count": 1,
   "id": "7eadd310",
   "metadata": {},
   "outputs": [],
   "source": [
    "import pandas as pd\n",
    "import ydata_profiling\n",
    "\n",
    "import shap\n",
    "from catboost import Pool, CatBoostClassifier, cv\n",
    "\n",
    "from sklearn.model_selection import train_test_split\n",
    "import sklearn.metrics as m\n",
    "from sklearn.ensemble import RandomForestClassifier\n",
    "from sklearn.linear_model import LogisticRegression\n",
    "from sklearn.model_selection import cross_val_score, StratifiedKFold\n",
    "from sklearn.preprocessing import StandardScaler, OneHotEncoder, OrdinalEncoder\n",
    "from sklearn.pipeline import make_pipeline\n",
    "from sklearn.compose import make_column_transformer\n",
    "import optuna"
   ]
  },
  {
   "cell_type": "code",
   "execution_count": 2,
   "id": "f404e7d4",
   "metadata": {},
   "outputs": [],
   "source": [
    "from warnings import simplefilter\n",
    "from sklearn.exceptions import ConvergenceWarning\n",
    "simplefilter(\"ignore\", category=ConvergenceWarning)"
   ]
  },
  {
   "cell_type": "code",
   "execution_count": 3,
   "id": "b2837001",
   "metadata": {},
   "outputs": [],
   "source": [
    "df = pd.read_csv('data.csv')"
   ]
  },
  {
   "cell_type": "code",
   "execution_count": 4,
   "id": "5951c20b",
   "metadata": {},
   "outputs": [
    {
     "data": {
      "text/html": [
       "<div>\n",
       "<style scoped>\n",
       "    .dataframe tbody tr th:only-of-type {\n",
       "        vertical-align: middle;\n",
       "    }\n",
       "\n",
       "    .dataframe tbody tr th {\n",
       "        vertical-align: top;\n",
       "    }\n",
       "\n",
       "    .dataframe thead th {\n",
       "        text-align: right;\n",
       "    }\n",
       "</style>\n",
       "<table border=\"1\" class=\"dataframe\">\n",
       "  <thead>\n",
       "    <tr style=\"text-align: right;\">\n",
       "      <th></th>\n",
       "      <th>Age</th>\n",
       "      <th>SystolicBP</th>\n",
       "      <th>DiastolicBP</th>\n",
       "      <th>BS</th>\n",
       "      <th>BodyTemp</th>\n",
       "      <th>HeartRate</th>\n",
       "      <th>RiskLevel</th>\n",
       "    </tr>\n",
       "  </thead>\n",
       "  <tbody>\n",
       "    <tr>\n",
       "      <th>0</th>\n",
       "      <td>25</td>\n",
       "      <td>130</td>\n",
       "      <td>80</td>\n",
       "      <td>15.0</td>\n",
       "      <td>98.0</td>\n",
       "      <td>86</td>\n",
       "      <td>high risk</td>\n",
       "    </tr>\n",
       "    <tr>\n",
       "      <th>1</th>\n",
       "      <td>35</td>\n",
       "      <td>140</td>\n",
       "      <td>90</td>\n",
       "      <td>13.0</td>\n",
       "      <td>98.0</td>\n",
       "      <td>70</td>\n",
       "      <td>high risk</td>\n",
       "    </tr>\n",
       "  </tbody>\n",
       "</table>\n",
       "</div>"
      ],
      "text/plain": [
       "   Age  SystolicBP  DiastolicBP    BS  BodyTemp  HeartRate  RiskLevel\n",
       "0   25         130           80  15.0      98.0         86  high risk\n",
       "1   35         140           90  13.0      98.0         70  high risk"
      ]
     },
     "execution_count": 4,
     "metadata": {},
     "output_type": "execute_result"
    }
   ],
   "source": [
    "df.head(2)"
   ]
  },
  {
   "cell_type": "code",
   "execution_count": 5,
   "id": "30a336c1",
   "metadata": {},
   "outputs": [
    {
     "data": {
      "text/html": [
       "<div>\n",
       "<style scoped>\n",
       "    .dataframe tbody tr th:only-of-type {\n",
       "        vertical-align: middle;\n",
       "    }\n",
       "\n",
       "    .dataframe tbody tr th {\n",
       "        vertical-align: top;\n",
       "    }\n",
       "\n",
       "    .dataframe thead th {\n",
       "        text-align: right;\n",
       "    }\n",
       "</style>\n",
       "<table border=\"1\" class=\"dataframe\">\n",
       "  <thead>\n",
       "    <tr style=\"text-align: right;\">\n",
       "      <th></th>\n",
       "      <th>age</th>\n",
       "      <th>systolic_bp</th>\n",
       "      <th>diastolic_bp</th>\n",
       "      <th>bs</th>\n",
       "      <th>body_temp</th>\n",
       "      <th>heart_rate</th>\n",
       "      <th>risk_level</th>\n",
       "    </tr>\n",
       "  </thead>\n",
       "  <tbody>\n",
       "    <tr>\n",
       "      <th>0</th>\n",
       "      <td>25</td>\n",
       "      <td>130</td>\n",
       "      <td>80</td>\n",
       "      <td>15.0</td>\n",
       "      <td>98.0</td>\n",
       "      <td>86</td>\n",
       "      <td>high risk</td>\n",
       "    </tr>\n",
       "    <tr>\n",
       "      <th>1</th>\n",
       "      <td>35</td>\n",
       "      <td>140</td>\n",
       "      <td>90</td>\n",
       "      <td>13.0</td>\n",
       "      <td>98.0</td>\n",
       "      <td>70</td>\n",
       "      <td>high risk</td>\n",
       "    </tr>\n",
       "  </tbody>\n",
       "</table>\n",
       "</div>"
      ],
      "text/plain": [
       "   age  systolic_bp  diastolic_bp    bs  body_temp  heart_rate risk_level\n",
       "0   25          130            80  15.0       98.0          86  high risk\n",
       "1   35          140            90  13.0       98.0          70  high risk"
      ]
     },
     "execution_count": 5,
     "metadata": {},
     "output_type": "execute_result"
    }
   ],
   "source": [
    "df.columns = df.columns.str.replace('(.)([A-Z].)', r'\\1_\\2', regex=True).str.lower()\n",
    "df.head(2)"
   ]
  },
  {
   "cell_type": "code",
   "execution_count": 6,
   "id": "3a12d874",
   "metadata": {},
   "outputs": [],
   "source": [
    "# мб пригодится именно так..)\n",
    "label_dict = {'low risk': '0',\n",
    "              'mid risk': '1',\n",
    "              'high risk':'2'}\n",
    "\n",
    "df['risk_level'] = df['risk_level'].map(lambda x: label_dict.get(x))"
   ]
  },
  {
   "cell_type": "markdown",
   "id": "f2e3ee17",
   "metadata": {},
   "source": [
    "## EDA"
   ]
  },
  {
   "cell_type": "code",
   "execution_count": 7,
   "id": "c5e39aea",
   "metadata": {},
   "outputs": [],
   "source": [
    "# закомментировано для гита, очень много места ест.\n",
    "# ydata_profiling.ProfileReport(df)"
   ]
  },
  {
   "cell_type": "markdown",
   "id": "2e81fab4",
   "metadata": {},
   "source": [
    "HeartRate явно выделяется аномалия.   \n",
    "Много дублей  \n",
    "Остальное все ок, в целом"
   ]
  },
  {
   "cell_type": "markdown",
   "id": "a3a4445a",
   "metadata": {},
   "source": [
    "Для heart_rate можно удалить, но у нас и так не сильно много получается, после удаления дублей. Допустим, что опечатка и забыли дописать ноль."
   ]
  },
  {
   "cell_type": "code",
   "execution_count": 8,
   "id": "51123046",
   "metadata": {},
   "outputs": [],
   "source": [
    "df.loc[df['heart_rate'] == 7, 'heart_rate'] = 70"
   ]
  },
  {
   "cell_type": "code",
   "execution_count": 9,
   "id": "0867b796",
   "metadata": {},
   "outputs": [],
   "source": [
    "df = df.drop_duplicates()"
   ]
  },
  {
   "cell_type": "markdown",
   "id": "e442efd2",
   "metadata": {},
   "source": [
    "## Предварительная оценка и подбор фичей на коте."
   ]
  },
  {
   "cell_type": "code",
   "execution_count": 10,
   "id": "9063640e",
   "metadata": {},
   "outputs": [],
   "source": [
    "def fast_cat(data: pd.DataFrame, sh: bool = True, param: dict = {}) -> None:\n",
    "    \n",
    "    train, valid = train_test_split(data, test_size=0.2, random_state=42, stratify=data['risk_level'])\n",
    "\n",
    "    train_pool = Pool(train.drop('risk_level', axis=1), \n",
    "                     train['risk_level'],\n",
    "                     cat_features=cat_features)\n",
    "\n",
    "    valid_pool = Pool(valid.drop('risk_level', axis=1), \n",
    "                     valid['risk_level'],\n",
    "                     cat_features=cat_features)\n",
    "\n",
    "    if param:\n",
    "        model = CatBoostClassifier(**param)\n",
    "    else:\n",
    "        model = CatBoostClassifier(random_state=42, \n",
    "                                   ignored_features=['age'],\n",
    "                                   verbose=1000, \n",
    "                                   eval_metric='Accuracy', \n",
    "                                   l2_leaf_reg=10, \n",
    "                                   eta=0.02, \n",
    "                                   iterations=2000)\n",
    "    \n",
    "    model.fit(train_pool, eval_set=valid_pool, plot=True)\n",
    "    \n",
    "    print(m.classification_report(valid['risk_level'], model.predict(valid_pool)))\n",
    "    display(model.get_feature_importance(prettified=True))\n",
    "    \n",
    "    if sh:\n",
    "        shap_test = shap.TreeExplainer(model).shap_values(valid_pool)\n",
    "        shap.summary_plot(shap_test, valid_pool, feature_names=valid_pool.get_feature_names())    "
   ]
  },
  {
   "cell_type": "code",
   "execution_count": 11,
   "id": "85dbf30e",
   "metadata": {},
   "outputs": [],
   "source": [
    "cat_features = ['heart_rate', 'age_qcut']"
   ]
  },
  {
   "cell_type": "code",
   "execution_count": 12,
   "id": "1e4dbad4",
   "metadata": {},
   "outputs": [],
   "source": [
    "df['age_qcut'] = pd.qcut(df['age'], 4, labels=False)"
   ]
  },
  {
   "cell_type": "code",
   "execution_count": 13,
   "id": "5bce98d2",
   "metadata": {},
   "outputs": [],
   "source": [
    "#df['bp_qcut'] = pd.qcut(df['systolic_bp'], 3, labels=False) "
   ]
  },
  {
   "cell_type": "code",
   "execution_count": 14,
   "id": "b37a580a",
   "metadata": {},
   "outputs": [
    {
     "data": {
      "application/vnd.jupyter.widget-view+json": {
       "model_id": "b4c2cb229d8a4163af2732415b68d31f",
       "version_major": 2,
       "version_minor": 0
      },
      "text/plain": [
       "MetricVisualizer(layout=Layout(align_self='stretch', height='500px'))"
      ]
     },
     "metadata": {},
     "output_type": "display_data"
    },
    {
     "name": "stdout",
     "output_type": "stream",
     "text": [
      "0:\tlearn: 0.7506925\ttest: 0.7142857\tbest: 0.7142857 (0)\ttotal: 54.6ms\tremaining: 1m 49s\n",
      "1000:\tlearn: 0.8337950\ttest: 0.7252747\tbest: 0.7472527 (359)\ttotal: 2.1s\tremaining: 2.09s\n",
      "1999:\tlearn: 0.9390582\ttest: 0.7142857\tbest: 0.7472527 (359)\ttotal: 4.37s\tremaining: 0us\n",
      "\n",
      "bestTest = 0.7472527473\n",
      "bestIteration = 359\n",
      "\n",
      "Shrink model to first 360 iterations.\n",
      "              precision    recall  f1-score   support\n",
      "\n",
      "           0       0.72      1.00      0.84        47\n",
      "           1       0.75      0.14      0.24        21\n",
      "           2       0.82      0.78      0.80        23\n",
      "\n",
      "    accuracy                           0.75        91\n",
      "   macro avg       0.76      0.64      0.63        91\n",
      "weighted avg       0.75      0.75      0.69        91\n",
      "\n"
     ]
    },
    {
     "data": {
      "text/html": [
       "<div>\n",
       "<style scoped>\n",
       "    .dataframe tbody tr th:only-of-type {\n",
       "        vertical-align: middle;\n",
       "    }\n",
       "\n",
       "    .dataframe tbody tr th {\n",
       "        vertical-align: top;\n",
       "    }\n",
       "\n",
       "    .dataframe thead th {\n",
       "        text-align: right;\n",
       "    }\n",
       "</style>\n",
       "<table border=\"1\" class=\"dataframe\">\n",
       "  <thead>\n",
       "    <tr style=\"text-align: right;\">\n",
       "      <th></th>\n",
       "      <th>Feature Id</th>\n",
       "      <th>Importances</th>\n",
       "    </tr>\n",
       "  </thead>\n",
       "  <tbody>\n",
       "    <tr>\n",
       "      <th>0</th>\n",
       "      <td>bs</td>\n",
       "      <td>39.822017</td>\n",
       "    </tr>\n",
       "    <tr>\n",
       "      <th>1</th>\n",
       "      <td>systolic_bp</td>\n",
       "      <td>19.256396</td>\n",
       "    </tr>\n",
       "    <tr>\n",
       "      <th>2</th>\n",
       "      <td>body_temp</td>\n",
       "      <td>14.567247</td>\n",
       "    </tr>\n",
       "    <tr>\n",
       "      <th>3</th>\n",
       "      <td>heart_rate</td>\n",
       "      <td>11.507390</td>\n",
       "    </tr>\n",
       "    <tr>\n",
       "      <th>4</th>\n",
       "      <td>age_qcut</td>\n",
       "      <td>11.286337</td>\n",
       "    </tr>\n",
       "    <tr>\n",
       "      <th>5</th>\n",
       "      <td>diastolic_bp</td>\n",
       "      <td>3.560613</td>\n",
       "    </tr>\n",
       "    <tr>\n",
       "      <th>6</th>\n",
       "      <td>age</td>\n",
       "      <td>0.000000</td>\n",
       "    </tr>\n",
       "  </tbody>\n",
       "</table>\n",
       "</div>"
      ],
      "text/plain": [
       "     Feature Id  Importances\n",
       "0            bs    39.822017\n",
       "1   systolic_bp    19.256396\n",
       "2     body_temp    14.567247\n",
       "3    heart_rate    11.507390\n",
       "4      age_qcut    11.286337\n",
       "5  diastolic_bp     3.560613\n",
       "6           age     0.000000"
      ]
     },
     "metadata": {},
     "output_type": "display_data"
    },
    {
     "data": {
      "image/png": "[encoded data removed]",
      "text/plain": [
       "<Figure size 800x430 with 1 Axes>"
      ]
     },
     "metadata": {},
     "output_type": "display_data"
    }
   ],
   "source": [
    "fast_cat(df)"
   ]
  },
  {
   "cell_type": "markdown",
   "id": "731750e4",
   "metadata": {},
   "source": [
    "Добавление возраста в виде бинов отрабатывает чуть лучше. Экспериментально выбрано 4 бина.\n",
    "\n",
    "heart_rate чуть лучше отрабатывает, как категория\n",
    "\n",
    "В теории, давление можно так же ставить \"норма/высокое/низкое\". На текущих данных качество будет немного хуже,  но не критично. Но в реальной модели человеку может быть проще указывать именно так."
   ]
  },
  {
   "cell_type": "markdown",
   "id": "5f9a77ea",
   "metadata": {},
   "source": [
    "Даже базовая модель достаточно неплохо работает с высоким риском, нормальные показатели prec/rec. С малым риском тоже.  \n",
    "Возможно, для продакшн модели будет иметь смысл вообще убрать \"средний\" риск и делать бинарную, средний раскидать по соседним на основе модели. Врачу достаточно predict_proba"
   ]
  },
  {
   "cell_type": "code",
   "execution_count": 34,
   "id": "ce28e400",
   "metadata": {},
   "outputs": [
    {
     "data": {
      "application/vnd.jupyter.widget-view+json": {
       "model_id": "15588051bffa4237af3f1723215f9fec",
       "version_major": 2,
       "version_minor": 0
      },
      "text/plain": [
       "MetricVisualizer(layout=Layout(align_self='stretch', height='500px'))"
      ]
     },
     "metadata": {},
     "output_type": "display_data"
    },
    {
     "name": "stdout",
     "output_type": "stream",
     "text": [
      "0:\tlearn: 0.9275362\ttest: 0.9142857\tbest: 0.9142857 (0)\ttotal: 5.85ms\tremaining: 11.7s\n",
      "1000:\tlearn: 0.9927536\ttest: 0.9142857\tbest: 0.9428571 (317)\ttotal: 1.85s\tremaining: 1.85s\n",
      "1999:\tlearn: 1.0000000\ttest: 0.9142857\tbest: 0.9428571 (317)\ttotal: 3.94s\tremaining: 0us\n",
      "\n",
      "bestTest = 0.9428571429\n",
      "bestIteration = 317\n",
      "\n",
      "Shrink model to first 318 iterations.\n",
      "              precision    recall  f1-score   support\n",
      "\n",
      "           0       0.92      1.00      0.96        47\n",
      "           2       1.00      0.83      0.90        23\n",
      "\n",
      "    accuracy                           0.94        70\n",
      "   macro avg       0.96      0.91      0.93        70\n",
      "weighted avg       0.95      0.94      0.94        70\n",
      "\n"
     ]
    },
    {
     "data": {
      "text/html": [
       "<div>\n",
       "<style scoped>\n",
       "    .dataframe tbody tr th:only-of-type {\n",
       "        vertical-align: middle;\n",
       "    }\n",
       "\n",
       "    .dataframe tbody tr th {\n",
       "        vertical-align: top;\n",
       "    }\n",
       "\n",
       "    .dataframe thead th {\n",
       "        text-align: right;\n",
       "    }\n",
       "</style>\n",
       "<table border=\"1\" class=\"dataframe\">\n",
       "  <thead>\n",
       "    <tr style=\"text-align: right;\">\n",
       "      <th></th>\n",
       "      <th>Feature Id</th>\n",
       "      <th>Importances</th>\n",
       "    </tr>\n",
       "  </thead>\n",
       "  <tbody>\n",
       "    <tr>\n",
       "      <th>0</th>\n",
       "      <td>bs</td>\n",
       "      <td>35.823382</td>\n",
       "    </tr>\n",
       "    <tr>\n",
       "      <th>1</th>\n",
       "      <td>systolic_bp</td>\n",
       "      <td>23.801142</td>\n",
       "    </tr>\n",
       "    <tr>\n",
       "      <th>2</th>\n",
       "      <td>body_temp</td>\n",
       "      <td>15.990191</td>\n",
       "    </tr>\n",
       "    <tr>\n",
       "      <th>3</th>\n",
       "      <td>heart_rate</td>\n",
       "      <td>10.192731</td>\n",
       "    </tr>\n",
       "    <tr>\n",
       "      <th>4</th>\n",
       "      <td>age_qcut</td>\n",
       "      <td>9.224982</td>\n",
       "    </tr>\n",
       "    <tr>\n",
       "      <th>5</th>\n",
       "      <td>diastolic_bp</td>\n",
       "      <td>4.967571</td>\n",
       "    </tr>\n",
       "    <tr>\n",
       "      <th>6</th>\n",
       "      <td>age</td>\n",
       "      <td>0.000000</td>\n",
       "    </tr>\n",
       "  </tbody>\n",
       "</table>\n",
       "</div>"
      ],
      "text/plain": [
       "     Feature Id  Importances\n",
       "0            bs    35.823382\n",
       "1   systolic_bp    23.801142\n",
       "2     body_temp    15.990191\n",
       "3    heart_rate    10.192731\n",
       "4      age_qcut     9.224982\n",
       "5  diastolic_bp     4.967571\n",
       "6           age     0.000000"
      ]
     },
     "metadata": {},
     "output_type": "display_data"
    }
   ],
   "source": [
    "fast_cat(df[df['risk_level'] != '1'], sh=False)"
   ]
  },
  {
   "cell_type": "markdown",
   "id": "69f73e93",
   "metadata": {},
   "source": [
    "Бинарная показывает вполне неплохо. "
   ]
  },
  {
   "cell_type": "markdown",
   "id": "a48ae8dc",
   "metadata": {},
   "source": [
    "## Несколько моделей"
   ]
  },
  {
   "cell_type": "code",
   "execution_count": 16,
   "id": "3a42b2e0",
   "metadata": {},
   "outputs": [],
   "source": [
    "num_features = ['systolic_bp', 'diastolic_bp', 'bs', 'body_temp']"
   ]
  },
  {
   "cell_type": "code",
   "execution_count": 17,
   "id": "b1e7ecfb",
   "metadata": {},
   "outputs": [],
   "source": [
    "ohe = make_column_transformer((OneHotEncoder(drop='first', handle_unknown='ignore'), ['age_qcut']),\n",
    "                              (StandardScaler(), num_features))\n",
    "                              \n",
    "ode = make_column_transformer((OrdinalEncoder(handle_unknown='use_encoded_value', unknown_value=-1), ['age_qcut']),\n",
    "                              (StandardScaler(), num_features))"
   ]
  },
  {
   "cell_type": "markdown",
   "id": "82c7b039",
   "metadata": {},
   "source": [
    "**CatBoost** Оптуна отдельно. "
   ]
  },
  {
   "cell_type": "code",
   "execution_count": 18,
   "id": "d1c51136",
   "metadata": {},
   "outputs": [],
   "source": [
    "X = df.drop(['risk_level','age'], axis=1)\n",
    "y = df['risk_level']"
   ]
  },
  {
   "cell_type": "code",
   "execution_count": 35,
   "id": "0b85ebcc",
   "metadata": {},
   "outputs": [],
   "source": [
    "cat_param = {'learning_rate': 0.061313287195057235,\n",
    "             'l2_leaf_reg': 2.0,\n",
    "             'min_data_in_leaf': 264,\n",
    "             'depth': 10,\n",
    "             'grow_policy': 'Depthwise',\n",
    "             'bootstrap_type': 'Bernoulli',\n",
    "             'subsample': 0.9541959638914235,\n",
    "             'leaf_estimation_method':'Newton',\n",
    "             'iterations':1000,\n",
    "             'random_state':1114,\n",
    "             'eval_metric':'Accuracy',\n",
    "             'early_stopping_rounds':500,\n",
    "             'verbose':1000,\n",
    "             'loss_function':'MultiClass'   \n",
    "            }"
   ]
  },
  {
   "cell_type": "code",
   "execution_count": 20,
   "id": "ee3c62aa",
   "metadata": {},
   "outputs": [],
   "source": [
    "df_pool = Pool(X, y, cat_features=cat_features)"
   ]
  },
  {
   "cell_type": "code",
   "execution_count": 36,
   "id": "cd6a3c65",
   "metadata": {},
   "outputs": [
    {
     "data": {
      "application/vnd.jupyter.widget-view+json": {
       "model_id": "269f9170731c4fb6893e5cc8aeddd465",
       "version_major": 2,
       "version_minor": 0
      },
      "text/plain": [
       "MetricVisualizer(layout=Layout(align_self='stretch', height='500px'))"
      ]
     },
     "metadata": {},
     "output_type": "display_data"
    },
    {
     "name": "stdout",
     "output_type": "stream",
     "text": [
      "Training on fold [0/6]\n",
      "\n",
      "bestTest = 0.7368421053\n",
      "bestIteration = 33\n",
      "\n",
      "Training on fold [1/6]\n",
      "\n",
      "bestTest = 0.7763157895\n",
      "bestIteration = 81\n",
      "\n",
      "Training on fold [2/6]\n",
      "\n",
      "bestTest = 0.7631578947\n",
      "bestIteration = 42\n",
      "\n",
      "Training on fold [3/6]\n",
      "\n",
      "bestTest = 0.7105263158\n",
      "bestIteration = 129\n",
      "\n",
      "Training on fold [4/6]\n",
      "\n",
      "bestTest = 0.7162162162\n",
      "bestIteration = 490\n",
      "\n",
      "Training on fold [5/6]\n",
      "\n",
      "bestTest = 0.8243243243\n",
      "bestIteration = 101\n",
      "\n"
     ]
    }
   ],
   "source": [
    "cv_data = cv(\n",
    "    params = cat_param,\n",
    "    pool = df_pool,\n",
    "    fold_count = 6,\n",
    "    shuffle = True,\n",
    "    partition_random_seed = 42,\n",
    "    plot=True,\n",
    "    stratified=True,\n",
    "    verbose=False\n",
    ")"
   ]
  },
  {
   "cell_type": "code",
   "execution_count": 37,
   "id": "e8e1ef6c",
   "metadata": {},
   "outputs": [
    {
     "name": "stdout",
     "output_type": "stream",
     "text": [
      "0.746 +/- 0.047\n"
     ]
    }
   ],
   "source": [
    "print(f\"{cv_data['test-Accuracy-mean'].max():.3f} +/- {cv_data['test-Accuracy-std'][cv_data['test-Accuracy-mean'].values.argmax()]:.3f}\"    )"
   ]
  },
  {
   "cell_type": "markdown",
   "id": "f3410939",
   "metadata": {},
   "source": [
    "**LR**"
   ]
  },
  {
   "cell_type": "code",
   "execution_count": 23,
   "id": "845784cc",
   "metadata": {},
   "outputs": [],
   "source": [
    "def objective_lr(trial):\n",
    "   \n",
    "    param = {\n",
    "        'C': trial.suggest_float('C', 0.1, 10), \n",
    "        'class_weight': trial.suggest_categorical('class_weight', [None, 'balanced']),\n",
    "        'solver': trial.suggest_categorical('solver', ['saga', 'lbfgs', 'liblinear', 'newton-cg']),\n",
    "        'max_iter': trial.suggest_int('max_iter', 300, 1000, step=100)\n",
    "    }\n",
    "    \n",
    "    if param['solver'] != 'liblinear':\n",
    "        param['multi_class'] = trial.suggest_categorical('multi_class', ['ovr', 'multinomial'])\n",
    "    \n",
    "    clf = make_pipeline(ohe, LogisticRegression(**param, random_state=42))\n",
    "    score = cross_val_score(clf, X, y, cv=StratifiedKFold(n_splits=6), scoring=\"accuracy\")\n",
    "   # print(score)\n",
    "    return score.mean()"
   ]
  },
  {
   "cell_type": "code",
   "execution_count": 24,
   "id": "65414313",
   "metadata": {},
   "outputs": [
    {
     "name": "stderr",
     "output_type": "stream",
     "text": [
      "\u001b[32m[I 2023-04-16 16:38:56,555]\u001b[0m A new study created in memory with name: no-name-a3e4a440-8c0d-4d75-9311-4fc4f9831540\u001b[0m\n",
      "\u001b[32m[I 2023-04-16 16:38:56,748]\u001b[0m Trial 0 finished with value: 0.6724853801169591 and parameters: {'C': 9.227391682145102, 'class_weight': None, 'solver': 'lbfgs', 'max_iter': 600, 'multi_class': 'ovr'}. Best is trial 0 with value: 0.6724853801169591.\u001b[0m\n",
      "\u001b[32m[I 2023-04-16 16:38:56,899]\u001b[0m Trial 1 finished with value: 0.6391228070175439 and parameters: {'C': 7.622447531991128, 'class_weight': 'balanced', 'solver': 'lbfgs', 'max_iter': 500, 'multi_class': 'ovr'}. Best is trial 0 with value: 0.6724853801169591.\u001b[0m\n",
      "\u001b[32m[I 2023-04-16 16:38:57,082]\u001b[0m Trial 2 finished with value: 0.6524853801169591 and parameters: {'C': 5.7372997958647876, 'class_weight': None, 'solver': 'newton-cg', 'max_iter': 300, 'multi_class': 'multinomial'}. Best is trial 0 with value: 0.6724853801169591.\u001b[0m\n",
      "\u001b[32m[I 2023-04-16 16:38:57,238]\u001b[0m Trial 3 finished with value: 0.6724853801169591 and parameters: {'C': 6.011914356141562, 'class_weight': None, 'solver': 'lbfgs', 'max_iter': 700, 'multi_class': 'ovr'}. Best is trial 0 with value: 0.6724853801169591.\u001b[0m\n",
      "\u001b[32m[I 2023-04-16 16:38:57,384]\u001b[0m Trial 4 finished with value: 0.6724853801169591 and parameters: {'C': 8.661862793141738, 'class_weight': None, 'solver': 'saga', 'max_iter': 600, 'multi_class': 'ovr'}. Best is trial 0 with value: 0.6724853801169591.\u001b[0m\n",
      "\u001b[32m[I 2023-04-16 16:38:57,542]\u001b[0m Trial 5 finished with value: 0.6057017543859649 and parameters: {'C': 1.5556344342511368, 'class_weight': 'balanced', 'solver': 'newton-cg', 'max_iter': 700, 'multi_class': 'multinomial'}. Best is trial 0 with value: 0.6724853801169591.\u001b[0m\n",
      "\u001b[32m[I 2023-04-16 16:38:57,708]\u001b[0m Trial 6 finished with value: 0.6391228070175439 and parameters: {'C': 7.071811279501973, 'class_weight': 'balanced', 'solver': 'lbfgs', 'max_iter': 400, 'multi_class': 'ovr'}. Best is trial 0 with value: 0.6724853801169591.\u001b[0m\n",
      "\u001b[32m[I 2023-04-16 16:38:57,871]\u001b[0m Trial 7 finished with value: 0.6747076023391814 and parameters: {'C': 3.0351259884083412, 'class_weight': None, 'solver': 'lbfgs', 'max_iter': 500, 'multi_class': 'ovr'}. Best is trial 7 with value: 0.6747076023391814.\u001b[0m\n",
      "\u001b[32m[I 2023-04-16 16:38:58,032]\u001b[0m Trial 8 finished with value: 0.6391228070175439 and parameters: {'C': 6.927044007407642, 'class_weight': 'balanced', 'solver': 'lbfgs', 'max_iter': 500, 'multi_class': 'ovr'}. Best is trial 7 with value: 0.6747076023391814.\u001b[0m\n",
      "\u001b[32m[I 2023-04-16 16:38:58,150]\u001b[0m Trial 9 finished with value: 0.6012573099415205 and parameters: {'C': 8.42491495720418, 'class_weight': 'balanced', 'solver': 'saga', 'max_iter': 500, 'multi_class': 'multinomial'}. Best is trial 7 with value: 0.6747076023391814.\u001b[0m\n",
      "\u001b[32m[I 2023-04-16 16:38:58,251]\u001b[0m Trial 10 finished with value: 0.6747076023391814 and parameters: {'C': 3.5454546240595857, 'class_weight': None, 'solver': 'liblinear', 'max_iter': 1000}. Best is trial 7 with value: 0.6747076023391814.\u001b[0m\n",
      "\u001b[32m[I 2023-04-16 16:38:58,352]\u001b[0m Trial 11 finished with value: 0.6747076023391814 and parameters: {'C': 3.460556803270541, 'class_weight': None, 'solver': 'liblinear', 'max_iter': 1000}. Best is trial 7 with value: 0.6747076023391814.\u001b[0m\n",
      "\u001b[32m[I 2023-04-16 16:38:58,463]\u001b[0m Trial 12 finished with value: 0.6747076023391814 and parameters: {'C': 3.8000876665496444, 'class_weight': None, 'solver': 'liblinear', 'max_iter': 1000}. Best is trial 7 with value: 0.6747076023391814.\u001b[0m\n",
      "\u001b[32m[I 2023-04-16 16:38:58,565]\u001b[0m Trial 13 finished with value: 0.6703216374269005 and parameters: {'C': 0.1251163604122052, 'class_weight': None, 'solver': 'liblinear', 'max_iter': 800}. Best is trial 7 with value: 0.6747076023391814.\u001b[0m\n",
      "\u001b[32m[I 2023-04-16 16:38:58,665]\u001b[0m Trial 14 finished with value: 0.6724853801169591 and parameters: {'C': 4.202592427228334, 'class_weight': None, 'solver': 'liblinear', 'max_iter': 900}. Best is trial 7 with value: 0.6747076023391814.\u001b[0m\n",
      "\u001b[32m[I 2023-04-16 16:38:58,765]\u001b[0m Trial 15 finished with value: 0.6747076023391814 and parameters: {'C': 2.4660856121245955, 'class_weight': None, 'solver': 'liblinear', 'max_iter': 800}. Best is trial 7 with value: 0.6747076023391814.\u001b[0m\n",
      "\u001b[32m[I 2023-04-16 16:38:58,960]\u001b[0m Trial 16 finished with value: 0.6724853801169591 and parameters: {'C': 4.854195091808286, 'class_weight': None, 'solver': 'newton-cg', 'max_iter': 300, 'multi_class': 'ovr'}. Best is trial 7 with value: 0.6747076023391814.\u001b[0m\n",
      "\u001b[32m[I 2023-04-16 16:38:59,093]\u001b[0m Trial 17 finished with value: 0.6569005847953217 and parameters: {'C': 2.739091878809925, 'class_weight': None, 'solver': 'saga', 'max_iter': 900, 'multi_class': 'multinomial'}. Best is trial 7 with value: 0.6747076023391814.\u001b[0m\n",
      "\u001b[32m[I 2023-04-16 16:38:59,250]\u001b[0m Trial 18 finished with value: 0.6724853801169591 and parameters: {'C': 4.87479879309174, 'class_weight': None, 'solver': 'lbfgs', 'max_iter': 400, 'multi_class': 'ovr'}. Best is trial 7 with value: 0.6747076023391814.\u001b[0m\n",
      "\u001b[32m[I 2023-04-16 16:38:59,354]\u001b[0m Trial 19 finished with value: 0.6724853801169591 and parameters: {'C': 1.7294901385998425, 'class_weight': None, 'solver': 'liblinear', 'max_iter': 800}. Best is trial 7 with value: 0.6747076023391814.\u001b[0m\n",
      "\u001b[32m[I 2023-04-16 16:38:59,489]\u001b[0m Trial 20 finished with value: 0.6569005847953217 and parameters: {'C': 3.423441920345658, 'class_weight': None, 'solver': 'lbfgs', 'max_iter': 400, 'multi_class': 'multinomial'}. Best is trial 7 with value: 0.6747076023391814.\u001b[0m\n",
      "\u001b[32m[I 2023-04-16 16:38:59,590]\u001b[0m Trial 21 finished with value: 0.6747076023391814 and parameters: {'C': 3.488700250076387, 'class_weight': None, 'solver': 'liblinear', 'max_iter': 1000}. Best is trial 7 with value: 0.6747076023391814.\u001b[0m\n",
      "\u001b[32m[I 2023-04-16 16:38:59,690]\u001b[0m Trial 22 finished with value: 0.6724853801169591 and parameters: {'C': 4.327415127356311, 'class_weight': None, 'solver': 'liblinear', 'max_iter': 1000}. Best is trial 7 with value: 0.6747076023391814.\u001b[0m\n",
      "\u001b[32m[I 2023-04-16 16:38:59,794]\u001b[0m Trial 23 finished with value: 0.6747076023391814 and parameters: {'C': 3.1308152791819643, 'class_weight': None, 'solver': 'liblinear', 'max_iter': 900}. Best is trial 7 with value: 0.6747076023391814.\u001b[0m\n",
      "\u001b[32m[I 2023-04-16 16:38:59,897]\u001b[0m Trial 24 finished with value: 0.6747076023391814 and parameters: {'C': 2.3982957195098633, 'class_weight': None, 'solver': 'liblinear', 'max_iter': 900}. Best is trial 7 with value: 0.6747076023391814.\u001b[0m\n",
      "\u001b[32m[I 2023-04-16 16:39:00,010]\u001b[0m Trial 25 finished with value: 0.6724853801169591 and parameters: {'C': 4.0810679284961875, 'class_weight': None, 'solver': 'liblinear', 'max_iter': 1000}. Best is trial 7 with value: 0.6747076023391814.\u001b[0m\n",
      "\u001b[32m[I 2023-04-16 16:39:00,229]\u001b[0m Trial 26 finished with value: 0.6724853801169591 and parameters: {'C': 5.724156407774041, 'class_weight': None, 'solver': 'newton-cg', 'max_iter': 600, 'multi_class': 'ovr'}. Best is trial 7 with value: 0.6747076023391814.\u001b[0m\n",
      "\u001b[32m[I 2023-04-16 16:39:00,400]\u001b[0m Trial 27 finished with value: 0.6391228070175439 and parameters: {'C': 4.713143084154543, 'class_weight': 'balanced', 'solver': 'saga', 'max_iter': 800, 'multi_class': 'ovr'}. Best is trial 7 with value: 0.6747076023391814.\u001b[0m\n",
      "\u001b[32m[I 2023-04-16 16:39:00,505]\u001b[0m Trial 28 finished with value: 0.6747076023391814 and parameters: {'C': 3.0707280601949205, 'class_weight': None, 'solver': 'liblinear', 'max_iter': 700}. Best is trial 7 with value: 0.6747076023391814.\u001b[0m\n",
      "\u001b[32m[I 2023-04-16 16:39:00,646]\u001b[0m Trial 29 finished with value: 0.6569005847953217 and parameters: {'C': 3.7874787655366933, 'class_weight': None, 'solver': 'lbfgs', 'max_iter': 600, 'multi_class': 'multinomial'}. Best is trial 7 with value: 0.6747076023391814.\u001b[0m\n"
     ]
    }
   ],
   "source": [
    "study_lr = optuna.create_study(direction='maximize')\n",
    "study_lr.optimize(objective_lr, n_trials=30)"
   ]
  },
  {
   "cell_type": "code",
   "execution_count": 25,
   "id": "2ec606d7",
   "metadata": {},
   "outputs": [
    {
     "name": "stdout",
     "output_type": "stream",
     "text": [
      "0.6747076023391814\n",
      "{'C': 3.0351259884083412, 'class_weight': None, 'solver': 'lbfgs', 'max_iter': 500, 'multi_class': 'ovr'}\n"
     ]
    }
   ],
   "source": [
    "print(study_lr.best_trial.value)\n",
    "print(study_lr.best_trial.params)"
   ]
  },
  {
   "cell_type": "markdown",
   "id": "93385835",
   "metadata": {},
   "source": [
    "**RFC**"
   ]
  },
  {
   "cell_type": "code",
   "execution_count": 26,
   "id": "57a21afd",
   "metadata": {},
   "outputs": [],
   "source": [
    "def objective_rfc(trial):\n",
    "   \n",
    "    param = {\n",
    "        'max_depth':trial.suggest_int('max_depth', 3, 11),\n",
    "        'n_estimators': trial.suggest_int('n_estimators', 30, 500, step=10), \n",
    "        'class_weight': trial.suggest_categorical('class_weight', [None, 'balanced']),\n",
    "\n",
    "    }\n",
    "    \n",
    "    clf = make_pipeline(ode, RandomForestClassifier(**param, random_state=42))\n",
    "    score = cross_val_score(clf, X, y, cv=StratifiedKFold(n_splits=5), scoring=\"accuracy\")\n",
    "   # print(score)\n",
    "    return score.mean()\n"
   ]
  },
  {
   "cell_type": "code",
   "execution_count": 27,
   "id": "4439584d",
   "metadata": {},
   "outputs": [
    {
     "name": "stderr",
     "output_type": "stream",
     "text": [
      "\u001b[32m[I 2023-04-16 16:39:00,678]\u001b[0m A new study created in memory with name: no-name-1876c9c6-562e-4d98-a97b-1ae35c13d109\u001b[0m\n",
      "\u001b[32m[I 2023-04-16 16:39:04,291]\u001b[0m Trial 0 finished with value: 0.6764835164835163 and parameters: {'max_depth': 3, 'n_estimators': 410, 'class_weight': 'balanced'}. Best is trial 0 with value: 0.6764835164835163.\u001b[0m\n",
      "\u001b[32m[I 2023-04-16 16:39:06,510]\u001b[0m Trial 1 finished with value: 0.6767032967032968 and parameters: {'max_depth': 3, 'n_estimators': 250, 'class_weight': None}. Best is trial 1 with value: 0.6767032967032968.\u001b[0m\n",
      "\u001b[32m[I 2023-04-16 16:39:07,373]\u001b[0m Trial 2 finished with value: 0.6147252747252747 and parameters: {'max_depth': 7, 'n_estimators': 90, 'class_weight': 'balanced'}. Best is trial 1 with value: 0.6767032967032968.\u001b[0m\n",
      "\u001b[32m[I 2023-04-16 16:39:08,912]\u001b[0m Trial 3 finished with value: 0.5859829059829059 and parameters: {'max_depth': 11, 'n_estimators': 150, 'class_weight': 'balanced'}. Best is trial 1 with value: 0.6767032967032968.\u001b[0m\n",
      "\u001b[32m[I 2023-04-16 16:39:11,090]\u001b[0m Trial 4 finished with value: 0.6103540903540903 and parameters: {'max_depth': 8, 'n_estimators': 220, 'class_weight': 'balanced'}. Best is trial 1 with value: 0.6767032967032968.\u001b[0m\n",
      "\u001b[32m[I 2023-04-16 16:39:11,672]\u001b[0m Trial 5 finished with value: 0.6698412698412698 and parameters: {'max_depth': 3, 'n_estimators': 60, 'class_weight': 'balanced'}. Best is trial 1 with value: 0.6767032967032968.\u001b[0m\n",
      "\u001b[32m[I 2023-04-16 16:39:14,762]\u001b[0m Trial 6 finished with value: 0.608058608058608 and parameters: {'max_depth': 7, 'n_estimators': 330, 'class_weight': 'balanced'}. Best is trial 1 with value: 0.6767032967032968.\u001b[0m\n",
      "\u001b[32m[I 2023-04-16 16:39:17,505]\u001b[0m Trial 7 finished with value: 0.678925518925519 and parameters: {'max_depth': 3, 'n_estimators': 300, 'class_weight': None}. Best is trial 7 with value: 0.678925518925519.\u001b[0m\n",
      "\u001b[32m[I 2023-04-16 16:39:18,768]\u001b[0m Trial 8 finished with value: 0.6346520146520145 and parameters: {'max_depth': 5, 'n_estimators': 130, 'class_weight': 'balanced'}. Best is trial 7 with value: 0.678925518925519.\u001b[0m\n",
      "\u001b[32m[I 2023-04-16 16:39:22,279]\u001b[0m Trial 9 finished with value: 0.6766788766788767 and parameters: {'max_depth': 6, 'n_estimators': 370, 'class_weight': None}. Best is trial 7 with value: 0.678925518925519.\u001b[0m\n",
      "\u001b[32m[I 2023-04-16 16:39:26,797]\u001b[0m Trial 10 finished with value: 0.6279609279609278 and parameters: {'max_depth': 10, 'n_estimators': 460, 'class_weight': None}. Best is trial 7 with value: 0.678925518925519.\u001b[0m\n",
      "\u001b[32m[I 2023-04-16 16:39:29,140]\u001b[0m Trial 11 finished with value: 0.6943833943833944 and parameters: {'max_depth': 4, 'n_estimators': 250, 'class_weight': None}. Best is trial 11 with value: 0.6943833943833944.\u001b[0m\n",
      "\u001b[32m[I 2023-04-16 16:39:31,931]\u001b[0m Trial 12 finished with value: 0.6944566544566545 and parameters: {'max_depth': 5, 'n_estimators': 300, 'class_weight': None}. Best is trial 12 with value: 0.6944566544566545.\u001b[0m\n",
      "\u001b[32m[I 2023-04-16 16:39:34,033]\u001b[0m Trial 13 finished with value: 0.69001221001221 and parameters: {'max_depth': 5, 'n_estimators': 210, 'class_weight': None}. Best is trial 12 with value: 0.6944566544566545.\u001b[0m\n",
      "\u001b[32m[I 2023-04-16 16:39:36,914]\u001b[0m Trial 14 finished with value: 0.69001221001221 and parameters: {'max_depth': 5, 'n_estimators': 290, 'class_weight': None}. Best is trial 12 with value: 0.6944566544566545.\u001b[0m\n",
      "\u001b[32m[I 2023-04-16 16:39:38,717]\u001b[0m Trial 15 finished with value: 0.6966056166056166 and parameters: {'max_depth': 4, 'n_estimators': 180, 'class_weight': None}. Best is trial 15 with value: 0.6966056166056166.\u001b[0m\n",
      "\u001b[32m[I 2023-04-16 16:39:40,562]\u001b[0m Trial 16 finished with value: 0.6390720390720389 and parameters: {'max_depth': 9, 'n_estimators': 180, 'class_weight': None}. Best is trial 15 with value: 0.6966056166056166.\u001b[0m\n",
      "\u001b[32m[I 2023-04-16 16:39:40,925]\u001b[0m Trial 17 finished with value: 0.6767032967032968 and parameters: {'max_depth': 6, 'n_estimators': 30, 'class_weight': None}. Best is trial 15 with value: 0.6966056166056166.\u001b[0m\n",
      "\u001b[32m[I 2023-04-16 16:39:45,316]\u001b[0m Trial 18 finished with value: 0.6943833943833944 and parameters: {'max_depth': 4, 'n_estimators': 480, 'class_weight': None}. Best is trial 15 with value: 0.6966056166056166.\u001b[0m\n",
      "\u001b[32m[I 2023-04-16 16:39:48,693]\u001b[0m Trial 19 finished with value: 0.678901098901099 and parameters: {'max_depth': 6, 'n_estimators': 350, 'class_weight': None}. Best is trial 15 with value: 0.6966056166056166.\u001b[0m\n",
      "\u001b[32m[I 2023-04-16 16:39:52,540]\u001b[0m Trial 20 finished with value: 0.6921611721611722 and parameters: {'max_depth': 4, 'n_estimators': 410, 'class_weight': None}. Best is trial 15 with value: 0.6966056166056166.\u001b[0m\n",
      "\u001b[32m[I 2023-04-16 16:39:54,921]\u001b[0m Trial 21 finished with value: 0.6943833943833944 and parameters: {'max_depth': 4, 'n_estimators': 250, 'class_weight': None}. Best is trial 15 with value: 0.6966056166056166.\u001b[0m\n",
      "\u001b[32m[I 2023-04-16 16:39:56,613]\u001b[0m Trial 22 finished with value: 0.6966056166056166 and parameters: {'max_depth': 4, 'n_estimators': 180, 'class_weight': None}. Best is trial 15 with value: 0.6966056166056166.\u001b[0m\n",
      "\u001b[32m[I 2023-04-16 16:39:57,847]\u001b[0m Trial 23 finished with value: 0.6877899877899878 and parameters: {'max_depth': 5, 'n_estimators': 130, 'class_weight': None}. Best is trial 15 with value: 0.6966056166056166.\u001b[0m\n",
      "\u001b[32m[I 2023-04-16 16:39:59,568]\u001b[0m Trial 24 finished with value: 0.6966056166056166 and parameters: {'max_depth': 4, 'n_estimators': 180, 'class_weight': None}. Best is trial 15 with value: 0.6966056166056166.\u001b[0m\n",
      "\u001b[32m[I 2023-04-16 16:40:01,418]\u001b[0m Trial 25 finished with value: 0.6966056166056166 and parameters: {'max_depth': 4, 'n_estimators': 180, 'class_weight': None}. Best is trial 15 with value: 0.6966056166056166.\u001b[0m\n",
      "\u001b[32m[I 2023-04-16 16:40:02,741]\u001b[0m Trial 26 finished with value: 0.6435409035409034 and parameters: {'max_depth': 8, 'n_estimators': 100, 'class_weight': None}. Best is trial 15 with value: 0.6966056166056166.\u001b[0m\n",
      "\u001b[32m[I 2023-04-16 16:40:04,654]\u001b[0m Trial 27 finished with value: 0.678901098901099 and parameters: {'max_depth': 6, 'n_estimators': 190, 'class_weight': None}. Best is trial 15 with value: 0.6966056166056166.\u001b[0m\n",
      "\u001b[32m[I 2023-04-16 16:40:06,291]\u001b[0m Trial 28 finished with value: 0.6745054945054946 and parameters: {'max_depth': 3, 'n_estimators': 150, 'class_weight': None}. Best is trial 15 with value: 0.6966056166056166.\u001b[0m\n",
      "\u001b[32m[I 2023-04-16 16:40:08,471]\u001b[0m Trial 29 finished with value: 0.6767032967032968 and parameters: {'max_depth': 3, 'n_estimators': 220, 'class_weight': None}. Best is trial 15 with value: 0.6966056166056166.\u001b[0m\n"
     ]
    }
   ],
   "source": [
    "study_rfc = optuna.create_study(direction='maximize')\n",
    "study_rfc.optimize(objective_rfc, n_trials=30)"
   ]
  },
  {
   "cell_type": "code",
   "execution_count": 28,
   "id": "0f9f971e",
   "metadata": {},
   "outputs": [
    {
     "name": "stdout",
     "output_type": "stream",
     "text": [
      "0.6966056166056166\n",
      "{'max_depth': 4, 'n_estimators': 180, 'class_weight': None}\n"
     ]
    }
   ],
   "source": [
    "print(study_rfc.best_trial.value)\n",
    "print(study_rfc.best_trial.params)"
   ]
  },
  {
   "cell_type": "markdown",
   "id": "ae447bd3",
   "metadata": {},
   "source": [
    "**KNN**"
   ]
  },
  {
   "cell_type": "code",
   "execution_count": 29,
   "id": "7ffad39e",
   "metadata": {},
   "outputs": [],
   "source": [
    "from sklearn.neighbors import KNeighborsClassifier"
   ]
  },
  {
   "cell_type": "code",
   "execution_count": 30,
   "id": "8e9ac228",
   "metadata": {},
   "outputs": [],
   "source": [
    "def objective_knn(trial):\n",
    "   \n",
    "    param = {\n",
    "        'n_neighbors':trial.suggest_int('n_neighbors', 3, 20),\n",
    "        'leaf_size': trial.suggest_int('leaf_size', 20, 100, step=10), \n",
    "        'weights': trial.suggest_categorical('weights', ['uniform', 'distance']),\n",
    "\n",
    "    }\n",
    "    \n",
    "    clf = make_pipeline(ohe, KNeighborsClassifier(**param))\n",
    "    score = cross_val_score(clf, X, y, cv=StratifiedKFold(n_splits=6), scoring=\"accuracy\")\n",
    "   # print(score)\n",
    "    return score.mean()"
   ]
  },
  {
   "cell_type": "code",
   "execution_count": 31,
   "id": "9d3bf66a",
   "metadata": {},
   "outputs": [
    {
     "name": "stderr",
     "output_type": "stream",
     "text": [
      "\u001b[32m[I 2023-04-16 16:40:08,519]\u001b[0m A new study created in memory with name: no-name-bfd36b37-17ae-4f47-8e92-8204d31249ed\u001b[0m\n",
      "\u001b[32m[I 2023-04-16 16:40:08,607]\u001b[0m Trial 0 finished with value: 0.6457309941520468 and parameters: {'n_neighbors': 9, 'leaf_size': 50, 'weights': 'distance'}. Best is trial 0 with value: 0.6457309941520468.\u001b[0m\n",
      "\u001b[32m[I 2023-04-16 16:40:08,712]\u001b[0m Trial 1 finished with value: 0.6546783625730994 and parameters: {'n_neighbors': 15, 'leaf_size': 70, 'weights': 'uniform'}. Best is trial 1 with value: 0.6546783625730994.\u001b[0m\n",
      "\u001b[32m[I 2023-04-16 16:40:08,806]\u001b[0m Trial 2 finished with value: 0.6435380116959065 and parameters: {'n_neighbors': 19, 'leaf_size': 50, 'weights': 'distance'}. Best is trial 1 with value: 0.6546783625730994.\u001b[0m\n",
      "\u001b[32m[I 2023-04-16 16:40:08,893]\u001b[0m Trial 3 finished with value: 0.6413157894736844 and parameters: {'n_neighbors': 20, 'leaf_size': 60, 'weights': 'distance'}. Best is trial 1 with value: 0.6546783625730994.\u001b[0m\n",
      "\u001b[32m[I 2023-04-16 16:40:08,979]\u001b[0m Trial 4 finished with value: 0.645701754385965 and parameters: {'n_neighbors': 7, 'leaf_size': 30, 'weights': 'distance'}. Best is trial 1 with value: 0.6546783625730994.\u001b[0m\n",
      "\u001b[32m[I 2023-04-16 16:40:09,064]\u001b[0m Trial 5 finished with value: 0.6390935672514622 and parameters: {'n_neighbors': 4, 'leaf_size': 30, 'weights': 'distance'}. Best is trial 1 with value: 0.6546783625730994.\u001b[0m\n",
      "\u001b[32m[I 2023-04-16 16:40:09,177]\u001b[0m Trial 6 finished with value: 0.6458479532163742 and parameters: {'n_neighbors': 16, 'leaf_size': 40, 'weights': 'uniform'}. Best is trial 1 with value: 0.6546783625730994.\u001b[0m\n",
      "\u001b[32m[I 2023-04-16 16:40:09,261]\u001b[0m Trial 7 finished with value: 0.6413157894736843 and parameters: {'n_neighbors': 14, 'leaf_size': 80, 'weights': 'distance'}. Best is trial 1 with value: 0.6546783625730994.\u001b[0m\n",
      "\u001b[32m[I 2023-04-16 16:40:09,347]\u001b[0m Trial 8 finished with value: 0.6391228070175439 and parameters: {'n_neighbors': 17, 'leaf_size': 90, 'weights': 'distance'}. Best is trial 1 with value: 0.6546783625730994.\u001b[0m\n",
      "\u001b[32m[I 2023-04-16 16:40:09,443]\u001b[0m Trial 9 finished with value: 0.6413157894736843 and parameters: {'n_neighbors': 18, 'leaf_size': 50, 'weights': 'distance'}. Best is trial 1 with value: 0.6546783625730994.\u001b[0m\n",
      "\u001b[32m[I 2023-04-16 16:40:09,577]\u001b[0m Trial 10 finished with value: 0.6613157894736843 and parameters: {'n_neighbors': 12, 'leaf_size': 100, 'weights': 'uniform'}. Best is trial 10 with value: 0.6613157894736843.\u001b[0m\n",
      "\u001b[32m[I 2023-04-16 16:40:09,701]\u001b[0m Trial 11 finished with value: 0.6613157894736843 and parameters: {'n_neighbors': 12, 'leaf_size': 100, 'weights': 'uniform'}. Best is trial 10 with value: 0.6613157894736843.\u001b[0m\n",
      "\u001b[32m[I 2023-04-16 16:40:09,826]\u001b[0m Trial 12 finished with value: 0.6568421052631579 and parameters: {'n_neighbors': 11, 'leaf_size': 100, 'weights': 'uniform'}. Best is trial 10 with value: 0.6613157894736843.\u001b[0m\n",
      "\u001b[32m[I 2023-04-16 16:40:09,942]\u001b[0m Trial 13 finished with value: 0.6613157894736843 and parameters: {'n_neighbors': 12, 'leaf_size': 100, 'weights': 'uniform'}. Best is trial 10 with value: 0.6613157894736843.\u001b[0m\n",
      "\u001b[32m[I 2023-04-16 16:40:10,062]\u001b[0m Trial 14 finished with value: 0.6590935672514621 and parameters: {'n_neighbors': 12, 'leaf_size': 80, 'weights': 'uniform'}. Best is trial 10 with value: 0.6613157894736843.\u001b[0m\n",
      "\u001b[32m[I 2023-04-16 16:40:10,178]\u001b[0m Trial 15 finished with value: 0.6724269005847954 and parameters: {'n_neighbors': 8, 'leaf_size': 90, 'weights': 'uniform'}. Best is trial 15 with value: 0.6724269005847954.\u001b[0m\n",
      "\u001b[32m[I 2023-04-16 16:40:10,296]\u001b[0m Trial 16 finished with value: 0.6589766081871345 and parameters: {'n_neighbors': 6, 'leaf_size': 80, 'weights': 'uniform'}. Best is trial 15 with value: 0.6724269005847954.\u001b[0m\n",
      "\u001b[32m[I 2023-04-16 16:40:10,412]\u001b[0m Trial 17 finished with value: 0.6745614035087719 and parameters: {'n_neighbors': 9, 'leaf_size': 90, 'weights': 'uniform'}. Best is trial 17 with value: 0.6745614035087719.\u001b[0m\n",
      "\u001b[32m[I 2023-04-16 16:40:10,525]\u001b[0m Trial 18 finished with value: 0.6523099415204677 and parameters: {'n_neighbors': 3, 'leaf_size': 70, 'weights': 'uniform'}. Best is trial 17 with value: 0.6745614035087719.\u001b[0m\n",
      "\u001b[32m[I 2023-04-16 16:40:10,648]\u001b[0m Trial 19 finished with value: 0.6745614035087719 and parameters: {'n_neighbors': 9, 'leaf_size': 90, 'weights': 'uniform'}. Best is trial 17 with value: 0.6745614035087719.\u001b[0m\n",
      "\u001b[32m[I 2023-04-16 16:40:10,767]\u001b[0m Trial 20 finished with value: 0.667953216374269 and parameters: {'n_neighbors': 10, 'leaf_size': 90, 'weights': 'uniform'}. Best is trial 17 with value: 0.6745614035087719.\u001b[0m\n",
      "\u001b[32m[I 2023-04-16 16:40:10,881]\u001b[0m Trial 21 finished with value: 0.6724269005847954 and parameters: {'n_neighbors': 8, 'leaf_size': 90, 'weights': 'uniform'}. Best is trial 17 with value: 0.6745614035087719.\u001b[0m\n",
      "\u001b[32m[I 2023-04-16 16:40:10,995]\u001b[0m Trial 22 finished with value: 0.6589766081871345 and parameters: {'n_neighbors': 6, 'leaf_size': 70, 'weights': 'uniform'}. Best is trial 17 with value: 0.6745614035087719.\u001b[0m\n",
      "\u001b[32m[I 2023-04-16 16:40:11,110]\u001b[0m Trial 23 finished with value: 0.6745614035087719 and parameters: {'n_neighbors': 9, 'leaf_size': 90, 'weights': 'uniform'}. Best is trial 17 with value: 0.6745614035087719.\u001b[0m\n",
      "\u001b[32m[I 2023-04-16 16:40:11,224]\u001b[0m Trial 24 finished with value: 0.667953216374269 and parameters: {'n_neighbors': 10, 'leaf_size': 80, 'weights': 'uniform'}. Best is trial 17 with value: 0.6745614035087719.\u001b[0m\n",
      "\u001b[32m[I 2023-04-16 16:40:11,338]\u001b[0m Trial 25 finished with value: 0.661140350877193 and parameters: {'n_neighbors': 5, 'leaf_size': 20, 'weights': 'uniform'}. Best is trial 17 with value: 0.6745614035087719.\u001b[0m\n",
      "\u001b[32m[I 2023-04-16 16:40:11,453]\u001b[0m Trial 26 finished with value: 0.6457894736842106 and parameters: {'n_neighbors': 14, 'leaf_size': 90, 'weights': 'uniform'}. Best is trial 17 with value: 0.6745614035087719.\u001b[0m\n",
      "\u001b[32m[I 2023-04-16 16:40:11,568]\u001b[0m Trial 27 finished with value: 0.6724269005847954 and parameters: {'n_neighbors': 8, 'leaf_size': 60, 'weights': 'uniform'}. Best is trial 17 with value: 0.6745614035087719.\u001b[0m\n",
      "\u001b[32m[I 2023-04-16 16:40:11,682]\u001b[0m Trial 28 finished with value: 0.667953216374269 and parameters: {'n_neighbors': 10, 'leaf_size': 80, 'weights': 'uniform'}. Best is trial 17 with value: 0.6745614035087719.\u001b[0m\n",
      "\u001b[32m[I 2023-04-16 16:40:11,799]\u001b[0m Trial 29 finished with value: 0.6657309941520467 and parameters: {'n_neighbors': 7, 'leaf_size': 60, 'weights': 'uniform'}. Best is trial 17 with value: 0.6745614035087719.\u001b[0m\n"
     ]
    }
   ],
   "source": [
    "study_knn = optuna.create_study(direction='maximize')\n",
    "study_knn.optimize(objective_knn, n_trials=30)"
   ]
  },
  {
   "cell_type": "code",
   "execution_count": 32,
   "id": "dab697f1",
   "metadata": {},
   "outputs": [
    {
     "name": "stdout",
     "output_type": "stream",
     "text": [
      "0.6745614035087719\n",
      "{'n_neighbors': 9, 'leaf_size': 90, 'weights': 'uniform'}\n"
     ]
    }
   ],
   "source": [
    "print(study_knn.best_trial.value)\n",
    "print(study_knn.best_trial.params)"
   ]
  },
  {
   "cell_type": "markdown",
   "id": "28a64756",
   "metadata": {},
   "source": [
    "## Итог"
   ]
  },
  {
   "cell_type": "markdown",
   "id": "6dd2a76a",
   "metadata": {},
   "source": [
    "Кот показал себя лучше всего, 0.746 на кроссвалидации."
   ]
  },
  {
   "cell_type": "code",
   "execution_count": 38,
   "id": "e701248e",
   "metadata": {},
   "outputs": [
    {
     "data": {
      "application/vnd.jupyter.widget-view+json": {
       "model_id": "6307dcb4d06e4d4fae6812d43ab66ca4",
       "version_major": 2,
       "version_minor": 0
      },
      "text/plain": [
       "MetricVisualizer(layout=Layout(align_self='stretch', height='500px'))"
      ]
     },
     "metadata": {},
     "output_type": "display_data"
    },
    {
     "name": "stdout",
     "output_type": "stream",
     "text": [
      "0:\tlearn: 0.6260388\ttest: 0.6043956\tbest: 0.6043956 (0)\ttotal: 1.83ms\tremaining: 1.82s\n",
      "Stopped by overfitting detector  (500 iterations wait)\n",
      "\n",
      "bestTest = 0.7472527473\n",
      "bestIteration = 172\n",
      "\n",
      "Shrink model to first 173 iterations.\n",
      "              precision    recall  f1-score   support\n",
      "\n",
      "           0       0.74      0.98      0.84        47\n",
      "           1       0.57      0.19      0.29        21\n",
      "           2       0.82      0.78      0.80        23\n",
      "\n",
      "    accuracy                           0.75        91\n",
      "   macro avg       0.71      0.65      0.64        91\n",
      "weighted avg       0.72      0.75      0.70        91\n",
      "\n"
     ]
    },
    {
     "data": {
      "text/html": [
       "<div>\n",
       "<style scoped>\n",
       "    .dataframe tbody tr th:only-of-type {\n",
       "        vertical-align: middle;\n",
       "    }\n",
       "\n",
       "    .dataframe tbody tr th {\n",
       "        vertical-align: top;\n",
       "    }\n",
       "\n",
       "    .dataframe thead th {\n",
       "        text-align: right;\n",
       "    }\n",
       "</style>\n",
       "<table border=\"1\" class=\"dataframe\">\n",
       "  <thead>\n",
       "    <tr style=\"text-align: right;\">\n",
       "      <th></th>\n",
       "      <th>Feature Id</th>\n",
       "      <th>Importances</th>\n",
       "    </tr>\n",
       "  </thead>\n",
       "  <tbody>\n",
       "    <tr>\n",
       "      <th>0</th>\n",
       "      <td>bs</td>\n",
       "      <td>46.651652</td>\n",
       "    </tr>\n",
       "    <tr>\n",
       "      <th>1</th>\n",
       "      <td>systolic_bp</td>\n",
       "      <td>27.732148</td>\n",
       "    </tr>\n",
       "    <tr>\n",
       "      <th>2</th>\n",
       "      <td>body_temp</td>\n",
       "      <td>11.691338</td>\n",
       "    </tr>\n",
       "    <tr>\n",
       "      <th>3</th>\n",
       "      <td>age_qcut</td>\n",
       "      <td>6.158585</td>\n",
       "    </tr>\n",
       "    <tr>\n",
       "      <th>4</th>\n",
       "      <td>heart_rate</td>\n",
       "      <td>4.186619</td>\n",
       "    </tr>\n",
       "    <tr>\n",
       "      <th>5</th>\n",
       "      <td>diastolic_bp</td>\n",
       "      <td>3.579658</td>\n",
       "    </tr>\n",
       "  </tbody>\n",
       "</table>\n",
       "</div>"
      ],
      "text/plain": [
       "     Feature Id  Importances\n",
       "0            bs    46.651652\n",
       "1   systolic_bp    27.732148\n",
       "2     body_temp    11.691338\n",
       "3      age_qcut     6.158585\n",
       "4    heart_rate     4.186619\n",
       "5  diastolic_bp     3.579658"
      ]
     },
     "metadata": {},
     "output_type": "display_data"
    },
    {
     "data": {
      "image/png": "[encoded data removed]",
      "text/plain": [
       "<Figure size 800x390 with 1 Axes>"
      ]
     },
     "metadata": {},
     "output_type": "display_data"
    }
   ],
   "source": [
    "fast_cat(df.drop('age', axis=1), param=cat_param)"
   ]
  },
  {
   "cell_type": "markdown",
   "id": "8584b62f",
   "metadata": {},
   "source": [
    "Практически все параметры с нормальной значимостью, кроме второй части давления. Но оно немного добавляет точности, можно оставить.\n",
    "\n",
    "Топ3 важности меняется в зависимости от типа оценки."
   ]
  }
 ],
 "metadata": {
  "kernelspec": {
   "display_name": "Python 3 (ipykernel)",
   "language": "python",
   "name": "python3"
  },
  "language_info": {
   "codemirror_mode": {
    "name": "ipython",
    "version": 3
   },
   "file_extension": ".py",
   "mimetype": "text/x-python",
   "name": "python",
   "nbconvert_exporter": "python",
   "pygments_lexer": "ipython3",
   "version": "3.10.10"
  }
 },
 "nbformat": 4,
 "nbformat_minor": 5
}
