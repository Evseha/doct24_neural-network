{
 "cells": [
  {
   "cell_type": "markdown",
   "metadata": {
    "id": "WjIPSP1S8lNV"
   },
   "source": [
    "# Анализ"
   ]
  },
  {
   "cell_type": "code",
   "execution_count": 69,
   "metadata": {
    "id": "dglFzUcA5YWn"
   },
   "outputs": [],
   "source": [
    "import pandas as pd\n",
    "import matplotlib.pyplot as plt\n",
    "import seaborn as sns\n",
    "import numpy as np\n",
    "import re\n",
    "import nltk\n",
    "import imblearn\n",
    "import transformers as ppb\n",
    "import torch\n",
    "\n",
    "# Предобработка\n",
    "from pymystem3 import Mystem\n",
    "from nltk.corpus import stopwords as nltk_stopwords\n",
    "from sklearn.feature_extraction.text import TfidfVectorizer\n",
    "from transformers import AutoTokenizer, AutoModel\n",
    "from tqdm import notebook\n",
    "import torch\n",
    "# Обучение\n",
    "from sklearn.model_selection import train_test_split, cross_val_score\n",
    "from xgboost import XGBClassifier\n",
    "# Тест\n",
    "from sklearn.dummy import DummyClassifier\n",
    "from sklearn.metrics import confusion_matrix, f1_score, roc_curve, roc_auc_score, precision_score, accuracy_score, recall_score\n",
    "\n",
    "\n",
    "# Remove warnings\n",
    "import warnings\n",
    "warnings.filterwarnings('ignore')\n"
   ]
  },
  {
   "cell_type": "code",
   "execution_count": 70,
   "metadata": {
    "id": "xAUljTGo5BCE"
   },
   "outputs": [],
   "source": [
    "file_path = 'chd_addmit_300.xlsx'\n",
    "data = pd.read_excel(file_path)\n",
    "\n",
    "# отбор признаков\n",
    "data = data[['target', 'Операция (основная / первая в ИБ)']]"
   ]
  },
  {
   "cell_type": "markdown",
   "metadata": {
    "id": "33p5FtAp8qXD"
   },
   "source": [
    "# Предобработка."
   ]
  },
  {
   "cell_type": "code",
   "execution_count": 71,
   "metadata": {
    "id": "VLYV-TLu8tWV"
   },
   "outputs": [],
   "source": [
    "# Делаем заглушки\n",
    "for col in data.columns.tolist():\n",
    "  if data[col].dtypes == 'object':\n",
    "    data[col] = data[col].fillna('Нет данных')"
   ]
  },
  {
   "cell_type": "code",
   "execution_count": 72,
   "metadata": {
    "id": "HzhP_yJsxPrb"
   },
   "outputs": [],
   "source": [
    "# Функция для очистки текста от лишних символов\n",
    "def clean_text(text):\n",
    "    # приводим текст к нижнему регистру\n",
    "    text = text.lower()\n",
    "    # создаем регулярное выражение для удаления лишних символов\n",
    "    regular = r'[\\*+\\#+\\№\\\"\\-+\\+\\=+\\?+\\&\\^\\.+\\;\\,+\\>+\\(\\)\\/+\\:\\\\+]'\n",
    "    # регулярное выражение для замены ссылки на \"URL\"\n",
    "    regular_url = r'(http\\S+)|(www\\S+)|([\\w\\d]+www\\S+)|([\\w\\d]+http\\S+)'\n",
    "    # удаляем лишние символы\n",
    "    text = re.sub(regular, '', text)\n",
    "    # заменяем ссылки на \"URL\"\n",
    "    text = re.sub(regular_url, r'URL', text)\n",
    "    # заменяем числа и цифры на ' NUM '\n",
    "    text = re.sub(r'(\\d+\\s\\d+)|(\\d+)',' NUM ', text)\n",
    "    # удаляем лишние пробелы\n",
    "    text = re.sub(r'\\s+', ' ', text)\n",
    "    # возвращаем очищенные данные\n",
    "    return text"
   ]
  },
  {
   "cell_type": "code",
   "execution_count": 73,
   "metadata": {
    "colab": {
     "base_uri": "https://localhost:8080/"
    },
    "id": "5M03Im1s7uWD",
    "outputId": "67b549f9-cf75-477d-80d3-93d38acda7c5"
   },
   "outputs": [
    {
     "name": "stderr",
     "output_type": "stream",
     "text": [
      "Some weights of the model checkpoint at bert-base-uncased were not used when initializing BertModel: ['cls.predictions.transform.dense.weight', 'cls.predictions.bias', 'cls.predictions.transform.LayerNorm.weight', 'cls.predictions.decoder.weight', 'cls.seq_relationship.weight', 'cls.predictions.transform.dense.bias', 'cls.predictions.transform.LayerNorm.bias', 'cls.seq_relationship.bias']\n",
      "- This IS expected if you are initializing BertModel from the checkpoint of a model trained on another task or with another architecture (e.g. initializing a BertForSequenceClassification model from a BertForPreTraining model).\n",
      "- This IS NOT expected if you are initializing BertModel from the checkpoint of a model that you expect to be exactly identical (initializing a BertForSequenceClassification model from a BertForSequenceClassification model).\n"
     ]
    }
   ],
   "source": [
    "# инициализируем токенизатор\n",
    "model_class, tokenizer_class, pretrained_weights = (ppb.BertModel, ppb.BertTokenizer, 'bert-base-uncased')\n",
    "tokenizer = tokenizer_class.from_pretrained(pretrained_weights)\n",
    "# экземпляр модели\n",
    "model = model_class.from_pretrained(pretrained_weights)"
   ]
  },
  {
   "cell_type": "code",
   "execution_count": 74,
   "metadata": {
    "colab": {
     "base_uri": "https://localhost:8080/",
     "height": 118,
     "referenced_widgets": [
      "e3a7c97ed0c449cfbd80fe776df15bd0",
      "20de526669f4402091c64714b0fd9b7d",
      "8a616c5f631e44f19f16f404d91f233e",
      "0283d67c637342b4b080720df8b3d26c",
      "fdebbacbbba547f7a7de6cbb0475bb1c",
      "1f1ab5b5cd8e46e8884799708ecc7ba8",
      "785eb6fb0690486795ed5ffed7c40660",
      "0563a519ebad4c1dbdf8f12f91ed3bf6",
      "cd21bfc1120547179e4dfb5c74857904",
      "efc5ff524b22421eb9ff3033bea5eee1",
      "8b6163382bd44598a79a725d4967efb0"
     ]
    },
    "id": "0o9yS7Lt40BQ",
    "outputId": "5b3c2e12-a97d-4f2a-c55a-5c2af97e85f6"
   },
   "outputs": [
    {
     "name": "stdout",
     "output_type": "stream",
     "text": [
      "attention_mask: (300, 402)\n"
     ]
    },
    {
     "data": {
      "application/vnd.jupyter.widget-view+json": {
       "model_id": "e3a5486305bf4d0d8e305295ea64f55a",
       "version_major": 2,
       "version_minor": 0
      },
      "text/plain": [
       "  0%|          | 0/30 [00:00<?, ?it/s]"
      ]
     },
     "metadata": {},
     "output_type": "display_data"
    },
    {
     "name": "stdout",
     "output_type": "stream",
     "text": [
      "embeddings_list: 1\n",
      "Wall time: 2min 12s\n"
     ]
    }
   ],
   "source": [
    "%%time\n",
    "# список эмбедингов разных признаков\n",
    "embeddings_list = []\n",
    "\n",
    "for col in ['Операция (основная / первая в ИБ)']:\n",
    "  # создаем список для хранения очищенных данных\n",
    "  cleaned_text = []\n",
    "  # для каждого сообщения text из столбца data[col]\n",
    "  for text in data[col]:\n",
    "      # очищаем данные  \n",
    "      text = clean_text(text)\n",
    "      # добавляем очищенные данные в список cleaned_text\n",
    "      cleaned_text.append(text)\n",
    "  # записываем очищенные данные в новую колонку\n",
    "  data[col] = cleaned_text\n",
    "  # токенизируем текст\n",
    "  data[col] = data[col].apply(lambda x: tokenizer.encode(x,\n",
    "                                                         add_special_tokens=True,\n",
    "                                                         truncation=True,\n",
    "                                                         max_length=512))  \n",
    "  # токенизированный текст\n",
    "  tokenized = data[col]\n",
    "\n",
    "  # применим padding к векторам\n",
    "  max_len = 0\n",
    "  for i in tokenized.values:\n",
    "      if len(i) > max_len:\n",
    "          max_len = len(i)\n",
    "  # англ. вектор с отступами\n",
    "  padded = np.array([i + [0]*(max_len - len(i)) for i in tokenized.values])\n",
    "\n",
    "  # создадим маску для важных токенов\n",
    "  attention_mask = np.where(padded != 0, 1, 0)\n",
    "  print('attention_mask:',attention_mask.shape)\n",
    "\n",
    "  batch_size = 10\n",
    "\n",
    "  # создаем эмбеддинги\n",
    "  embeddings = []\n",
    "  for i in notebook.tqdm(range(padded.shape[0] // batch_size)):\n",
    "          batch = torch.LongTensor(padded[batch_size*i:batch_size*(i+1)]) \n",
    "          attention_mask_batch = torch.LongTensor(attention_mask[batch_size*i:batch_size*(i+1)])\n",
    "          \n",
    "          with torch.no_grad():\n",
    "              batch_embeddings = model(batch, attention_mask=attention_mask_batch)\n",
    "          \n",
    "          embeddings.append(batch_embeddings[0][:,0,:].numpy())\n",
    "  # добавляем эмбединги признака в список\n",
    "  embeddings_list.append(embeddings)\n",
    "\n",
    "print('embeddings_list:',len(embeddings_list))"
   ]
  },
  {
   "cell_type": "code",
   "execution_count": 75,
   "metadata": {
    "colab": {
     "base_uri": "https://localhost:8080/",
     "height": 524
    },
    "id": "wm5Eic6A6DXv",
    "outputId": "bad1ff6c-8bd4-40b0-a80b-a1ac30ad5229"
   },
   "outputs": [
    {
     "name": "stdout",
     "output_type": "stream",
     "text": [
      "Algorithm: XGBoost, Score: 0.8904946474713917, Std: 0.0718776534662266\n"
     ]
    },
    {
     "data": {
      "image/png": "[encoded data removed]",
      "text/plain": [
       "<Figure size 432x288 with 1 Axes>"
      ]
     },
     "metadata": {},
     "output_type": "display_data"
    },
    {
     "name": "stdout",
     "output_type": "stream",
     "text": [
      "Wall time: 2.4 s\n"
     ]
    }
   ],
   "source": [
    "%%time\n",
    "# проверим модель на эффективность\n",
    "for i in range(len(embeddings_list)):\n",
    "  features = np.concatenate(embeddings_list[i])\n",
    "  X_train, X_test, y_train, y_test = train_test_split(features, data['target'], test_size=0.25, random_state=5)\n",
    "\n",
    "  classifiers = []\n",
    "  classifiers.append(XGBClassifier(gamma=0, max_depth=3, min_child_weight=1, n_estimators=50))\n",
    "\n",
    "\n",
    "  cv_results = []\n",
    "  for classifier in classifiers:\n",
    "      cv_results.append(cross_val_score(classifier, X_train, y_train, scoring = 'roc_auc', cv = 5))\n",
    "\n",
    "  cv_mean = []\n",
    "  cv_std = []\n",
    "  for cv_result in cv_results:\n",
    "      cv_mean.append(cv_result.mean())\n",
    "      cv_std.append(cv_result.std())\n",
    "      \n",
    "  cv_res = pd.DataFrame({'Cross Validation Mean': cv_mean, \n",
    "                        'Cross Validation Std': cv_std, \n",
    "                        'Algorithm': ['XGBoost']})\n",
    "  cv_res.sort_values(by = 'Cross Validation Mean', ascending = False, ignore_index = True)\n",
    "\n",
    "  sns.barplot(x='Cross Validation Mean', y='Algorithm', \n",
    "              data = cv_res, order = cv_res.sort_values(by = 'Cross Validation Mean', \n",
    "                                                        ascending = False)['Algorithm'], \n",
    "              palette = 'Set3', **{'xerr': cv_std})\n",
    "  plt.ylabel('Algorithm')\n",
    "  plt.title(f'Cross Validation Scores.')\n",
    "\n",
    "  result = cv_res.sort_values('Cross Validation Mean', ascending=False).reset_index()\n",
    "  a, sc,st =  result['Algorithm'][0], result['Cross Validation Mean'][0], result['Cross Validation Std'][0]\n",
    "  print(f'Algorithm: {a}, Score: {sc}, Std: {st}')\n",
    "  plt.show()"
   ]
  },
  {
   "cell_type": "markdown",
   "metadata": {
    "id": "DA26uA9I8uRX"
   },
   "source": [
    "# Модель"
   ]
  },
  {
   "cell_type": "code",
   "execution_count": 76,
   "metadata": {
    "colab": {
     "base_uri": "https://localhost:8080/",
     "height": 235
    },
    "id": "_ivduBH8VIDR",
    "outputId": "2d0b88cb-759e-428d-8660-5424ef58e91d"
   },
   "outputs": [
    {
     "data": {
      "image/png": "[encoded data removed]",
      "text/plain": [
       "<Figure size 800x600 with 2 Axes>"
      ]
     },
     "metadata": {},
     "output_type": "display_data"
    }
   ],
   "source": [
    "model = XGBClassifier(gamma=0, max_depth=3, min_child_weight=1, n_estimators=50).fit(X_train,y_train)\n",
    "\n",
    "plt.figure(figsize=(8,6), dpi=100)\n",
    "sns.set(font_scale = 1.1)\n",
    "ax = sns.heatmap(confusion_matrix(y_train, model.predict(X_train)), annot=True, fmt='d', )\n",
    "ax.set_xlabel(\"Predicted Diagnosis\", fontsize=14, labelpad=20)\n",
    "ax.xaxis.set_ticklabels(['Negative', 'Positive'])\n",
    "ax.set_ylabel(\"Actual Diagnosis\", fontsize=14, labelpad=20)\n",
    "ax.yaxis.set_ticklabels(['Negative', 'Positive'])\n",
    "ax.set_title(\"Confusion Matrix\", fontsize=14, pad=20)\n",
    "plt.show()"
   ]
  },
  {
   "cell_type": "markdown",
   "metadata": {},
   "source": [
    "Модель ошиблась только 1 раз с одной единицей."
   ]
  },
  {
   "cell_type": "markdown",
   "metadata": {},
   "source": [
    "# Тест"
   ]
  },
  {
   "cell_type": "code",
   "execution_count": 80,
   "metadata": {
    "id": "BpMWavZOQoO6"
   },
   "outputs": [
    {
     "name": "stdout",
     "output_type": "stream",
     "text": [
      "DummyClassifier: 0.97\n",
      "accuracy_score: 0.96\n",
      "AUC-ROC: 0.84\n"
     ]
    },
    {
     "data": {
      "image/png": "[encoded data removed]",
      "text/plain": [
       "<Figure size 432x288 with 1 Axes>"
      ]
     },
     "metadata": {},
     "output_type": "display_data"
    }
   ],
   "source": [
    "clf = DummyClassifier(strategy='most_frequent', random_state=5)\n",
    "clf.fit(X_train, y_train)\n",
    "print(\"DummyClassifier: %.2f\" % clf.score(X_test, y_test))\n",
    "print('accuracy_score:', accuracy_score(y_test ,[round(value) for value in model.predict(X_test)]))\n",
    "print(\"AUC-ROC: %.2f\" % roc_auc_score(y_test, model.predict_proba(X_test)[:, 1]))\n",
    "\n",
    "fpr, tpr, thresholds = roc_curve(y_test, probabilities_one_test)\n",
    "plt.figure()\n",
    "plt.plot(fpr, tpr)\n",
    "plt.plot([0, 1], [0, 1], linestyle='--')\n",
    "plt.xlim([0.0, 1.0])\n",
    "plt.ylim([0.0, 1.0])\n",
    "plt.xlabel('False Positive Rate')\n",
    "plt.ylabel('True Positive Rate')\n",
    "plt.title('ROC-кривая')\n",
    "plt.show()"
   ]
  }
 ],
 "metadata": {
  "colab": {
   "provenance": []
  },
  "kernelspec": {
   "display_name": "Python 3 (ipykernel)",
   "language": "python",
   "name": "python3"
  },
  "language_info": {
   "codemirror_mode": {
    "name": "ipython",
    "version": 3
   },
   "file_extension": ".py",
   "mimetype": "text/x-python",
   "name": "python",
   "nbconvert_exporter": "python",
   "pygments_lexer": "ipython3",
   "version": "3.9.7"
  },
  "widgets": {
   "application/vnd.jupyter.widget-state+json": {
    "0283d67c637342b4b080720df8b3d26c": {
     "model_module": "@jupyter-widgets/controls",
     "model_module_version": "1.5.0",
     "model_name": "HTMLModel",
     "state": {
      "_dom_classes": [],
      "_model_module": "@jupyter-widgets/controls",
      "_model_module_version": "1.5.0",
      "_model_name": "HTMLModel",
      "_view_count": null,
      "_view_module": "@jupyter-widgets/controls",
      "_view_module_version": "1.5.0",
      "_view_name": "HTMLView",
      "description": "",
      "description_tooltip": null,
      "layout": "IPY_MODEL_efc5ff524b22421eb9ff3033bea5eee1",
      "placeholder": "​",
      "style": "IPY_MODEL_8b6163382bd44598a79a725d4967efb0",
      "value": " 60/60 [07:45&lt;00:00,  7.31s/it]"
     }
    },
    "0563a519ebad4c1dbdf8f12f91ed3bf6": {
     "model_module": "@jupyter-widgets/base",
     "model_module_version": "1.2.0",
     "model_name": "LayoutModel",
     "state": {
      "_model_module": "@jupyter-widgets/base",
      "_model_module_version": "1.2.0",
      "_model_name": "LayoutModel",
      "_view_count": null,
      "_view_module": "@jupyter-widgets/base",
      "_view_module_version": "1.2.0",
      "_view_name": "LayoutView",
      "align_content": null,
      "align_items": null,
      "align_self": null,
      "border": null,
      "bottom": null,
      "display": null,
      "flex": null,
      "flex_flow": null,
      "grid_area": null,
      "grid_auto_columns": null,
      "grid_auto_flow": null,
      "grid_auto_rows": null,
      "grid_column": null,
      "grid_gap": null,
      "grid_row": null,
      "grid_template_areas": null,
      "grid_template_columns": null,
      "grid_template_rows": null,
      "height": null,
      "justify_content": null,
      "justify_items": null,
      "left": null,
      "margin": null,
      "max_height": null,
      "max_width": null,
      "min_height": null,
      "min_width": null,
      "object_fit": null,
      "object_position": null,
      "order": null,
      "overflow": null,
      "overflow_x": null,
      "overflow_y": null,
      "padding": null,
      "right": null,
      "top": null,
      "visibility": null,
      "width": null
     }
    },
    "1f1ab5b5cd8e46e8884799708ecc7ba8": {
     "model_module": "@jupyter-widgets/base",
     "model_module_version": "1.2.0",
     "model_name": "LayoutModel",
     "state": {
      "_model_module": "@jupyter-widgets/base",
      "_model_module_version": "1.2.0",
      "_model_name": "LayoutModel",
      "_view_count": null,
      "_view_module": "@jupyter-widgets/base",
      "_view_module_version": "1.2.0",
      "_view_name": "LayoutView",
      "align_content": null,
      "align_items": null,
      "align_self": null,
      "border": null,
      "bottom": null,
      "display": null,
      "flex": null,
      "flex_flow": null,
      "grid_area": null,
      "grid_auto_columns": null,
      "grid_auto_flow": null,
      "grid_auto_rows": null,
      "grid_column": null,
      "grid_gap": null,
      "grid_row": null,
      "grid_template_areas": null,
      "grid_template_columns": null,
      "grid_template_rows": null,
      "height": null,
      "justify_content": null,
      "justify_items": null,
      "left": null,
      "margin": null,
      "max_height": null,
      "max_width": null,
      "min_height": null,
      "min_width": null,
      "object_fit": null,
      "object_position": null,
      "order": null,
      "overflow": null,
      "overflow_x": null,
      "overflow_y": null,
      "padding": null,
      "right": null,
      "top": null,
      "visibility": null,
      "width": null
     }
    },
    "20de526669f4402091c64714b0fd9b7d": {
     "model_module": "@jupyter-widgets/controls",
     "model_module_version": "1.5.0",
     "model_name": "HTMLModel",
     "state": {
      "_dom_classes": [],
      "_model_module": "@jupyter-widgets/controls",
      "_model_module_version": "1.5.0",
      "_model_name": "HTMLModel",
      "_view_count": null,
      "_view_module": "@jupyter-widgets/controls",
      "_view_module_version": "1.5.0",
      "_view_name": "HTMLView",
      "description": "",
      "description_tooltip": null,
      "layout": "IPY_MODEL_1f1ab5b5cd8e46e8884799708ecc7ba8",
      "placeholder": "​",
      "style": "IPY_MODEL_785eb6fb0690486795ed5ffed7c40660",
      "value": "100%"
     }
    },
    "785eb6fb0690486795ed5ffed7c40660": {
     "model_module": "@jupyter-widgets/controls",
     "model_module_version": "1.5.0",
     "model_name": "DescriptionStyleModel",
     "state": {
      "_model_module": "@jupyter-widgets/controls",
      "_model_module_version": "1.5.0",
      "_model_name": "DescriptionStyleModel",
      "_view_count": null,
      "_view_module": "@jupyter-widgets/base",
      "_view_module_version": "1.2.0",
      "_view_name": "StyleView",
      "description_width": ""
     }
    },
    "8a616c5f631e44f19f16f404d91f233e": {
     "model_module": "@jupyter-widgets/controls",
     "model_module_version": "1.5.0",
     "model_name": "FloatProgressModel",
     "state": {
      "_dom_classes": [],
      "_model_module": "@jupyter-widgets/controls",
      "_model_module_version": "1.5.0",
      "_model_name": "FloatProgressModel",
      "_view_count": null,
      "_view_module": "@jupyter-widgets/controls",
      "_view_module_version": "1.5.0",
      "_view_name": "ProgressView",
      "bar_style": "success",
      "description": "",
      "description_tooltip": null,
      "layout": "IPY_MODEL_0563a519ebad4c1dbdf8f12f91ed3bf6",
      "max": 60,
      "min": 0,
      "orientation": "horizontal",
      "style": "IPY_MODEL_cd21bfc1120547179e4dfb5c74857904",
      "value": 60
     }
    },
    "8b6163382bd44598a79a725d4967efb0": {
     "model_module": "@jupyter-widgets/controls",
     "model_module_version": "1.5.0",
     "model_name": "DescriptionStyleModel",
     "state": {
      "_model_module": "@jupyter-widgets/controls",
      "_model_module_version": "1.5.0",
      "_model_name": "DescriptionStyleModel",
      "_view_count": null,
      "_view_module": "@jupyter-widgets/base",
      "_view_module_version": "1.2.0",
      "_view_name": "StyleView",
      "description_width": ""
     }
    },
    "cd21bfc1120547179e4dfb5c74857904": {
     "model_module": "@jupyter-widgets/controls",
     "model_module_version": "1.5.0",
     "model_name": "ProgressStyleModel",
     "state": {
      "_model_module": "@jupyter-widgets/controls",
      "_model_module_version": "1.5.0",
      "_model_name": "ProgressStyleModel",
      "_view_count": null,
      "_view_module": "@jupyter-widgets/base",
      "_view_module_version": "1.2.0",
      "_view_name": "StyleView",
      "bar_color": null,
      "description_width": ""
     }
    },
    "e3a7c97ed0c449cfbd80fe776df15bd0": {
     "model_module": "@jupyter-widgets/controls",
     "model_module_version": "1.5.0",
     "model_name": "HBoxModel",
     "state": {
      "_dom_classes": [],
      "_model_module": "@jupyter-widgets/controls",
      "_model_module_version": "1.5.0",
      "_model_name": "HBoxModel",
      "_view_count": null,
      "_view_module": "@jupyter-widgets/controls",
      "_view_module_version": "1.5.0",
      "_view_name": "HBoxView",
      "box_style": "",
      "children": [
       "IPY_MODEL_20de526669f4402091c64714b0fd9b7d",
       "IPY_MODEL_8a616c5f631e44f19f16f404d91f233e",
       "IPY_MODEL_0283d67c637342b4b080720df8b3d26c"
      ],
      "layout": "IPY_MODEL_fdebbacbbba547f7a7de6cbb0475bb1c"
     }
    },
    "efc5ff524b22421eb9ff3033bea5eee1": {
     "model_module": "@jupyter-widgets/base",
     "model_module_version": "1.2.0",
     "model_name": "LayoutModel",
     "state": {
      "_model_module": "@jupyter-widgets/base",
      "_model_module_version": "1.2.0",
      "_model_name": "LayoutModel",
      "_view_count": null,
      "_view_module": "@jupyter-widgets/base",
      "_view_module_version": "1.2.0",
      "_view_name": "LayoutView",
      "align_content": null,
      "align_items": null,
      "align_self": null,
      "border": null,
      "bottom": null,
      "display": null,
      "flex": null,
      "flex_flow": null,
      "grid_area": null,
      "grid_auto_columns": null,
      "grid_auto_flow": null,
      "grid_auto_rows": null,
      "grid_column": null,
      "grid_gap": null,
      "grid_row": null,
      "grid_template_areas": null,
      "grid_template_columns": null,
      "grid_template_rows": null,
      "height": null,
      "justify_content": null,
      "justify_items": null,
      "left": null,
      "margin": null,
      "max_height": null,
      "max_width": null,
      "min_height": null,
      "min_width": null,
      "object_fit": null,
      "object_position": null,
      "order": null,
      "overflow": null,
      "overflow_x": null,
      "overflow_y": null,
      "padding": null,
      "right": null,
      "top": null,
      "visibility": null,
      "width": null
     }
    },
    "fdebbacbbba547f7a7de6cbb0475bb1c": {
     "model_module": "@jupyter-widgets/base",
     "model_module_version": "1.2.0",
     "model_name": "LayoutModel",
     "state": {
      "_model_module": "@jupyter-widgets/base",
      "_model_module_version": "1.2.0",
      "_model_name": "LayoutModel",
      "_view_count": null,
      "_view_module": "@jupyter-widgets/base",
      "_view_module_version": "1.2.0",
      "_view_name": "LayoutView",
      "align_content": null,
      "align_items": null,
      "align_self": null,
      "border": null,
      "bottom": null,
      "display": null,
      "flex": null,
      "flex_flow": null,
      "grid_area": null,
      "grid_auto_columns": null,
      "grid_auto_flow": null,
      "grid_auto_rows": null,
      "grid_column": null,
      "grid_gap": null,
      "grid_row": null,
      "grid_template_areas": null,
      "grid_template_columns": null,
      "grid_template_rows": null,
      "height": null,
      "justify_content": null,
      "justify_items": null,
      "left": null,
      "margin": null,
      "max_height": null,
      "max_width": null,
      "min_height": null,
      "min_width": null,
      "object_fit": null,
      "object_position": null,
      "order": null,
      "overflow": null,
      "overflow_x": null,
      "overflow_y": null,
      "padding": null,
      "right": null,
      "top": null,
      "visibility": null,
      "width": null
     }
    }
   }
  }
 },
 "nbformat": 4,
 "nbformat_minor": 4
}
