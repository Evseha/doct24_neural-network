{
 "cells": [
  {
   "cell_type": "markdown",
   "metadata": {
    "id": "nuCGPSsJtC4L"
   },
   "source": [
    "# Загрузка данных и библиотек"
   ]
  },
  {
   "cell_type": "code",
   "execution_count": 1,
   "metadata": {
    "colab": {
     "base_uri": "https://localhost:8080/"
    },
    "id": "Hvwimq27qrt3",
    "outputId": "5fc160d3-6016-49f4-8b13-4ab23f6d808a"
   },
   "outputs": [],
   "source": [
    "#pip install sklearn"
   ]
  },
  {
   "cell_type": "code",
   "execution_count": 2,
   "metadata": {
    "colab": {
     "base_uri": "https://localhost:8080/"
    },
    "id": "HZo12p0LEZyc",
    "outputId": "ebce2382-8276-4eab-d18f-28a8eb1418ae"
   },
   "outputs": [],
   "source": [
    "#pip install transformers"
   ]
  },
  {
   "cell_type": "code",
   "execution_count": 3,
   "metadata": {
    "colab": {
     "base_uri": "https://localhost:8080/"
    },
    "id": "TTz4fJG-EbOq",
    "outputId": "f4f82599-fe4f-47a5-fa3e-7fcfb6da3c5e"
   },
   "outputs": [],
   "source": [
    "#pip install tensorflow"
   ]
  },
  {
   "cell_type": "code",
   "execution_count": 4,
   "metadata": {},
   "outputs": [],
   "source": [
    "#conda activate tf"
   ]
  },
  {
   "cell_type": "code",
   "execution_count": 5,
   "metadata": {},
   "outputs": [],
   "source": [
    "#pip install tensorflow"
   ]
  },
  {
   "cell_type": "code",
   "execution_count": 6,
   "metadata": {
    "id": "PS4jstTvhnAB"
   },
   "outputs": [],
   "source": [
    "import matplotlib as mpl\n",
    "import matplotlib.pyplot as plt\n",
    "import numpy as np\n",
    "import os\n",
    "import pandas as pd\n",
    "import seaborn as sns\n",
    "import sklearn\n",
    "import tensorflow as tf\n",
    "import tempfile\n",
    "\n",
    "from sklearn.dummy import DummyClassifier\n",
    "from sklearn.metrics import confusion_matrix, roc_curve, roc_auc_score, precision_score, recall_score\n",
    "from sklearn.model_selection import train_test_split\n",
    "from sklearn.preprocessing import StandardScaler\n",
    "from sklearn.utils import shuffle\n",
    "from imblearn.over_sampling import RandomOverSampler\n",
    "from imblearn.over_sampling import SVMSMOTE\n",
    "\n",
    "from tensorflow import keras, feature_column\n",
    "from tensorflow.keras import layers\n",
    "from tensorflow.keras.models import model_from_json\n",
    "from tensorflow.keras.callbacks import ModelCheckpoint\n",
    "# Последовательная модель НС\n",
    "from tensorflow.keras.models import Sequential  \n",
    "# Основные слои\n",
    "from tensorflow.keras.layers import Dense, Activation, Dropout, BatchNormalization \n",
    "# Утилиты для to_categorical()\n",
    "from tensorflow.keras import utils   \n",
    "# Алгоритмы оптимизации для обучения модели\n",
    "from tensorflow.keras.optimizers import Adam, Adadelta   \n",
    "# Связь с google-диском\n",
    "#from google.colab import files   \n",
    "# Предварительная обработка данных\n",
    "from sklearn.preprocessing import LabelEncoder   \n",
    "\n",
    "# Отрисовывать изображения в ноутбуке, а не в консоль или файл\n",
    "%matplotlib inline\n",
    "\n",
    "# Remove warnings\n",
    "import warnings\n",
    "warnings.filterwarnings('ignore')\n",
    "\n",
    "mpl.rcParams['figure.figsize'] = (12, 10)\n",
    "colors = plt.rcParams['axes.prop_cycle'].by_key()['color']   \n",
    "\n",
    "file_path = 'chd_addmit_1500.xlsx'\n",
    "# удаляем даты\n",
    "dataframe = pd.read_excel(file_path).drop(['birth','admittion','discharge', 'Дата опер.'], axis=1)\n",
    "\n",
    "dataframe = dataframe[['Диагноз','Принимаемые препараты (из Анамн.)', 'target']]\n"
   ]
  },
  {
   "cell_type": "raw",
   "metadata": {
    "scrolled": true
   },
   "source": [
    "dataframe = dataframe.rename(columns={\n",
    "                                      'Операции (все в ИБ)':'operations_all',\n",
    "                                      'Перенесенные опер. (из Анамн.)':'transferred_operas',\n",
    "                                      'Диагноз':'Diagnosis',\n",
    "                                      'МКБ':'mkg',\n",
    "                                      'Соп. забол. (из Анамн.)':'sop_disease',\n",
    "                                      'Медикам. леч. по поводу осн. забол. (из Анамн.)':'about_the_main_disease', \n",
    "                                      'Принимаемые препараты (из Анамн.)':'drugs',\n",
    "                                      'ЭхоКГ (Из Эпикр. до опер.)':'eho',\n",
    "                                      'ЭКГ (Из Эпикр. до опер.)':'ekg',\n",
    "                                      'АКГ (Из Эпикр. до опер.)':'akg',\n",
    "                                      'КТ (Из Эпикр. до опер.)':'kt',\n",
    "                                      'Операция (основная / первая в ИБ)':'first_ib'\n",
    "                                     })\n"
   ]
  },
  {
   "cell_type": "code",
   "execution_count": 7,
   "metadata": {
    "id": "mG8fDXmASC0M"
   },
   "outputs": [],
   "source": [
    "# англофикация названий признаков. Необходимо для сохранения модели\n",
    "count = 0\n",
    "data = dataframe.copy()\n",
    "for col in data.drop('target', axis=1).columns:\n",
    "    data = data.rename(columns={col: f\"col_{count}\"})\n",
    "    count += 1\n",
    "    \n",
    "dataframe = data\n"
   ]
  },
  {
   "cell_type": "markdown",
   "metadata": {
    "id": "LwDgqjNns-pB"
   },
   "source": [
    "# Входной пайплайн df_to_dataset. Подготовка датасета. Предобработка. Сплит на выборки"
   ]
  },
  {
   "cell_type": "markdown",
   "metadata": {
    "id": "U43PN9p1TAig"
   },
   "source": [
    "Первый шаг заключается в преобразовании датафреймов Pandas в наборы данных TensorFlow:"
   ]
  },
  {
   "cell_type": "code",
   "execution_count": 8,
   "metadata": {},
   "outputs": [],
   "source": [
    "import transformers as ppb\n",
    "import re"
   ]
  },
  {
   "cell_type": "code",
   "execution_count": 9,
   "metadata": {},
   "outputs": [
    {
     "name": "stdout",
     "output_type": "stream",
     "text": [
      "CPU times: total: 0 ns\n",
      "Wall time: 2 ms\n"
     ]
    }
   ],
   "source": [
    "%%time\n",
    "# Вспомогательный метод для создания tf.data dataset из датафрейма Pandas\n",
    "def df_to_dataset(dataframe, shuffle=True, batch_size=256):\n",
    "  df = dataframe.copy() \n",
    "  df = {key: value[:,tf.newaxis] for key, value in dataframe.items()}\n",
    "  if 'target' in dataframe.columns:\n",
    "    ds = tf.data.Dataset.from_tensor_slices((dict(df), df.pop('target')))\n",
    "  else:\n",
    "    ds = tf.data.Dataset.from_tensor_slices(dict(df))\n",
    "  if shuffle:\n",
    "    ds = ds.shuffle(buffer_size=len(dataframe))\n",
    "  ds = ds.batch(batch_size)\n",
    "  ds = ds.prefetch(batch_size)\n",
    "  return ds\n",
    "\n",
    "# Делаем заглушки\n",
    "for col in dataframe.columns.tolist():\n",
    "  if dataframe[col].dtypes in ['float64', 'int64']:\n",
    "    dataframe[col] = dataframe[col].fillna(dataframe[col].median())\n",
    "\n",
    "for col in dataframe.columns.tolist():\n",
    "  if dataframe[col].dtypes == 'object':\n",
    "    dataframe[col] = dataframe[col].fillna('Нет данных')\n",
    "    "
   ]
  },
  {
   "cell_type": "raw",
   "metadata": {
    "colab": {
     "base_uri": "https://localhost:8080/"
    },
    "id": "olv2uZk7RoHA",
    "outputId": "e06e2e84-d765-4e3a-8f64-903e5c71d8d4"
   },
   "source": [
    "# Функция для очистки текста от лишних символов\n",
    "def clean_text(text):\n",
    "    # приводим текст к нижнему регистру\n",
    "    text = text.lower()\n",
    "    # создаем регулярное выражение для удаления лишних символов\n",
    "    regular = r'[\\*+\\#+\\№\\\"\\-+\\+\\=+\\?+\\&\\^\\.+\\;\\,+\\>+\\(\\)\\/+\\:\\\\+]'\n",
    "    # регулярное выражение для замены ссылки на \"URL\"\n",
    "    regular_url = r'(http\\S+)|(www\\S+)|([\\w\\d]+www\\S+)|([\\w\\d]+http\\S+)'\n",
    "    # удаляем лишние символы\n",
    "    text = re.sub(regular, '', text)\n",
    "    # заменяем ссылки на \"URL\"\n",
    "    text = re.sub(regular_url, r'URL', text)\n",
    "    # заменяем числа и цифры на ' NUM '\n",
    "    text = re.sub(r'(\\d+\\s\\d+)|(\\d+)',' NUM ', text)\n",
    "    # удаляем лишние пробелы\n",
    "    text = re.sub(r'\\s+', ' ', text)\n",
    "    # возвращаем очищенные данные\n",
    "    return text\n",
    "\n",
    "# инициализируем токенизатор\n",
    "model_class, tokenizer_class, pretrained_weights = (ppb.BertModel, ppb.BertTokenizer, 'bert-base-uncased')\n",
    "tokenizer = tokenizer_class.from_pretrained(pretrained_weights)\n",
    "# экземпляр модели\n",
    "model = model_class.from_pretrained(pretrained_weights)\n",
    "\n",
    "max_l = 15\n",
    "for col in dataframe.loc[:,dataframe.dtypes == 'object'].columns.tolist():\n",
    "    # вычисляем эмбеддинг\n",
    "    if len(dataframe[col].unique()) > max_l:\n",
    "        # создаем список для хранения очищенных данных\n",
    "        cleaned_text = []\n",
    "        # для каждого сообщения text из столбца data[col]\n",
    "        for text in dataframe[col]:\n",
    "            # очищаем данные  \n",
    "            text = clean_text(text)\n",
    "            # добавляем очищенные данные в список cleaned_text\n",
    "            cleaned_text.append(text)\n",
    "        # записываем очищенные данные в новую колонку\n",
    "        dataframe[col] = cleaned_text\n",
    "        # токенизируем текст\n",
    "        dataframe[col] = dataframe[col].apply(lambda x: tokenizer.encode(x,\n",
    "                                                                 add_special_tokens=True,\n",
    "                                                                 truncation=True,\n",
    "                                                                 max_length=max_l))\n",
    "        \n",
    "        # выравниваем число важных токенов каждой строки под общее число\n",
    "        for i in range(dataframe.shape[0]):\n",
    "            dataframe[col][i] = dataframe[col][i]+[0]*[max_l-len(x) for x in dataframe[col]][i]\n",
    "        dataframe[col]\n",
    "        # разбиваем эмбеддинг на число max_length новых признаков\n",
    "        for n in range(max_l):\n",
    "            S = pd.Series([x[n] for x in dataframe[col]])\n",
    "            if len(S.unique()) > 2:\n",
    "                dataframe[f'{col}_{n}'] = S\n",
    "                categorical_cols.append(f'{col}_{n}')\n",
    "        dataframe = dataframe.drop(columns=col)\n",
    "    \n",
    "    elif len(dataframe[col].unique()) < max_l:\n",
    "        dataframe[col] = LabelEncoder().fit_transform(dataframe[col])\n",
    "        new_columns = pd.get_dummies(dataframe[col], prefix=dataframe[col].name, drop_first=True)\n",
    "        for x in new_columns.columns.tolist():\n",
    "            categorical_cols.append(x)\n",
    "        dataframe = pd.concat([dataframe, new_columns],axis=1)\n",
    "        dataframe = dataframe.drop(columns=col)\n"
   ]
  },
  {
   "cell_type": "code",
   "execution_count": 10,
   "metadata": {},
   "outputs": [],
   "source": [
    "# Разделяем на выборки\n",
    "X_train, X_test, y_train, y_test = train_test_split(dataframe, dataframe['target'], \n",
    "                                                      test_size=0.3, \n",
    "                                                      random_state=5,\n",
    "                                                      stratify=dataframe['target'])\n",
    "\n",
    "# RandomOverSampler. Балансируем классы!\n",
    "X_train, y_train = RandomOverSampler(sampling_strategy='minority').fit_resample(X_train, y_train)\n",
    "X_train, y_train = shuffle(X_train, y_train)\n",
    "X_train, y_train = X_train.reset_index(drop=True), y_train.reset_index(drop=True)\n",
    "\n",
    "# SVMSMOTE. Балансируем классы!\n",
    "#svmsmote = SVMSMOTE(random_state = 5)\n",
    "#X_train, y_train = svmsmote.fit_resample(X_train, y_train)\n",
    "#X_train, y_train = shuffle(X_train, y_train)\n",
    "#X_train, y_train = X_train.reset_index(drop=True), y_train.reset_index(drop=True)\n",
    "#could not convert string to float: 'f'\n",
    "\n",
    "# Преобразуем датафрейм Pandas в наборы данных TensorFlow\n",
    "batch_size = 256\n",
    "train_ds = df_to_dataset(X_train, batch_size=batch_size)\n",
    "test_ds = df_to_dataset(X_test.drop('target',axis=1), shuffle=False, batch_size=batch_size)\n"
   ]
  },
  {
   "cell_type": "markdown",
   "metadata": {
    "id": "rcK-k1ohTGUU"
   },
   "source": [
    "Здесь стоит обратить внимание на то, что наборы данных TensorFlow и результаты дальнейших преобразований данных не хранятся в памяти так же, как хранятся датафреймы Pandas. Они, по сути, представляют собой конвейер. Через него, пакет за пакетом, походят данные, что позволяет модели эффективно обучаться на наборах данных, которые слишком велики для размещения их в памяти. Именно поэтому мы преобразуем в наборы данных словари датафреймов, а не реальные данные. Обратите внимание на то, что мы, кроме прочего, задаём сейчас, а не во время обучения модели, размер пакета данных, поступая не так, как обычно поступают при использовании API Keras."
   ]
  },
  {
   "cell_type": "markdown",
   "metadata": {
    "id": "nCzFbY_UQZsb"
   },
   "source": [
    "## Нормализация входных/выходных данных"
   ]
  },
  {
   "cell_type": "code",
   "execution_count": 11,
   "metadata": {
    "colab": {
     "base_uri": "https://localhost:8080/"
    },
    "id": "0TW7ODsmPrkq",
    "outputId": "6080b284-1621-4f80-8a78-7040060dcafa",
    "scrolled": true
   },
   "outputs": [
    {
     "name": "stdout",
     "output_type": "stream",
     "text": [
      "WARNING:tensorflow:AutoGraph could not transform <function get_category_encoding_layer.<locals>.<lambda> at 0x000002420D837E20> and will run it as-is.\n",
      "Cause: could not parse the source code of <function get_category_encoding_layer.<locals>.<lambda> at 0x000002420D837E20>: no matching AST found among candidates:\n",
      "\n",
      "To silence this warning, decorate the function with @tf.autograph.experimental.do_not_convert\n",
      "WARNING: AutoGraph could not transform <function get_category_encoding_layer.<locals>.<lambda> at 0x000002420D837E20> and will run it as-is.\n",
      "Cause: could not parse the source code of <function get_category_encoding_layer.<locals>.<lambda> at 0x000002420D837E20>: no matching AST found among candidates:\n",
      "\n",
      "To silence this warning, decorate the function with @tf.autograph.experimental.do_not_convert\n",
      "WARNING:tensorflow:AutoGraph could not transform <function get_category_encoding_layer.<locals>.<lambda> at 0x000002420D837E20> and will run it as-is.\n",
      "Cause: could not parse the source code of <function get_category_encoding_layer.<locals>.<lambda> at 0x000002420D837E20>: no matching AST found among candidates:\n",
      "\n",
      "To silence this warning, decorate the function with @tf.autograph.experimental.do_not_convert\n",
      "WARNING: AutoGraph could not transform <function get_category_encoding_layer.<locals>.<lambda> at 0x000002420D837E20> and will run it as-is.\n",
      "Cause: could not parse the source code of <function get_category_encoding_layer.<locals>.<lambda> at 0x000002420D837E20>: no matching AST found among candidates:\n",
      "\n",
      "To silence this warning, decorate the function with @tf.autograph.experimental.do_not_convert\n",
      "CPU times: total: 219 ms\n",
      "Wall time: 183 ms\n"
     ]
    }
   ],
   "source": [
    "%%time\n",
    "# предобработка слоя с числовыми призанками\n",
    "def get_normalization_layer(name, dataset):\n",
    "  # Создаем слой нормализации для объекта.\n",
    "  normalizer = layers.Normalization(axis=None)\n",
    "  # Подготовка набора данных, который дает только этот признак.\n",
    "  feature_ds = dataset.map(lambda x, y: x[name])\n",
    "  # Обучить статистику данных.\n",
    "  normalizer.adapt(feature_ds)\n",
    "  return normalizer\n",
    "\n",
    "# предобработка слоя с категориальными призанками\n",
    "def get_category_encoding_layer(name, dataset, dtype, max_tokens=None):\n",
    "  # Создается слой, который превращает строки в целые индексы.\n",
    "  if dtype == 'string':\n",
    "    index = layers.StringLookup(max_tokens=max_tokens)\n",
    "  # В противном случае создается слой, который превращает целые значения в целые индексы.\n",
    "  else:\n",
    "    index = layers.IntegerLookup(max_tokens=max_tokens)\n",
    "  # Подготовка `tf.data.Dataset`, который дает только этот признак.\n",
    "  feature_ds = dataset.map(lambda x, y: x[name])\n",
    "  # Изучить набор возможных значений и присвоить им фиксированный целочисленный индекс.\n",
    "  index.adapt(feature_ds)\n",
    "  # Кодировать целочисленные индексы.\n",
    "  encoder = layers.CategoryEncoding(num_tokens=index.vocabulary_size())\n",
    "  # Применить многократное горячее кодирование к индексам. Лямбда-функция захватывает слои,\n",
    "  # чтобы вы могли использовать их или позже включить в функциональную модель Keras.\n",
    "  return lambda feature: encoder(index(feature))\n",
    "\n",
    "all_inputs = []\n",
    "encoded_features = []\n",
    "\n",
    "# Numerical features.\n",
    "for header in dataframe.drop('target',axis=1).columns.tolist():\n",
    "  if dataframe[header].dtypes in ['float64', 'int64']:\n",
    "    # inputs\n",
    "    numeric_col = tf.keras.Input(shape=(1,), name=header)\n",
    "    # output\n",
    "    normalization_layer = get_normalization_layer(header, train_ds)\n",
    "    encoded_numeric_col = normalization_layer(numeric_col)\n",
    "    # append\n",
    "    all_inputs.append(numeric_col)\n",
    "    encoded_features.append(encoded_numeric_col)\n",
    "\n",
    "# Сategorical features.\n",
    "categorical_cols = dataframe.loc[:,dataframe.dtypes == 'object'].columns.tolist()\n",
    "for header in categorical_cols:\n",
    "    # inputs\n",
    "    categorical_col = tf.keras.Input(shape=(1,), name=header, dtype='string')\n",
    "    # output\n",
    "    encoding_layer = get_category_encoding_layer(name=header,\n",
    "                                                dataset=train_ds,\n",
    "                                                dtype='string',\n",
    "                                                max_tokens=25)\n",
    "    encoded_categorical_col = encoding_layer(categorical_col)\n",
    "    # append\n",
    "    all_inputs.append(categorical_col)\n",
    "    encoded_features.append(encoded_categorical_col)\n"
   ]
  },
  {
   "cell_type": "code",
   "execution_count": 12,
   "metadata": {
    "colab": {
     "base_uri": "https://localhost:8080/",
     "height": 329
    },
    "id": "4GDHV40LrVOu",
    "outputId": "787b6c85-fdbf-46d1-cd6d-a103de87804f"
   },
   "outputs": [
    {
     "data": {
      "text/plain": [
       "[<KerasTensor: shape=(None, 1) dtype=string (created by layer 'col_0')>,\n",
       " <KerasTensor: shape=(None, 1) dtype=string (created by layer 'col_1')>]"
      ]
     },
     "metadata": {},
     "output_type": "display_data"
    }
   ],
   "source": [
    "# inputs\n",
    "display(all_inputs)\n"
   ]
  },
  {
   "cell_type": "code",
   "execution_count": 13,
   "metadata": {
    "colab": {
     "base_uri": "https://localhost:8080/",
     "height": 329
    },
    "id": "gNx7-fBqrcuz",
    "outputId": "14d92415-8745-4c07-e5ad-181fb787c838"
   },
   "outputs": [
    {
     "data": {
      "text/plain": [
       "[<KerasTensor: shape=(None, 25) dtype=float32 (created by layer 'category_encoding')>,\n",
       " <KerasTensor: shape=(None, 25) dtype=float32 (created by layer 'category_encoding_1')>]"
      ]
     },
     "metadata": {},
     "output_type": "display_data"
    }
   ],
   "source": [
    "# output\n",
    "display(encoded_features)\n"
   ]
  },
  {
   "cell_type": "markdown",
   "metadata": {
    "id": "Z-u3yS7CyH-8"
   },
   "source": [
    "```python\n",
    "%%time\n",
    "\n",
    "\n",
    "\n",
    "# модуль обучения\n",
    "METRICS = [\n",
    "      keras.metrics.TruePositives(name='tp'),\n",
    "      keras.metrics.FalsePositives(name='fp'),\n",
    "      keras.metrics.TrueNegatives(name='tn'),\n",
    "      keras.metrics.FalseNegatives(name='fn'),\n",
    "      keras.metrics.Precision(name='precision'),\n",
    "      keras.metrics.Recall(name='recall'),\n",
    "      keras.metrics.AUC(name='prc', curve='PR'), # precision-recall curve\n",
    "]\n",
    "\n",
    "data = pd.DataFrame()\n",
    "Activation = []\n",
    "dropout = []\n",
    "\n",
    "for a in ['relu', 'linear']:\n",
    "    for d in [0.1, 0.2]:\n",
    "            output_bias = None\n",
    "            if output_bias is not None:\n",
    "                output_bias = tf.keras.initializers.Constant(output_bias)\n",
    "\n",
    "            all_features = tf.keras.layers.concatenate(encoded_features)        # входной. слой признаков\n",
    "\n",
    "            x = tf.keras.layers.Dense(512, activation=a)(all_features)  \n",
    "            x = tf.keras.layers.Dropout(d)(x)                                 \n",
    "            x = tf.keras.layers.BatchNormalization()(x) \n",
    "            x = tf.keras.layers.Dense(256, activation=a)(x)  \n",
    "            x = tf.keras.layers.Dropout(d)(x)                                 \n",
    "            x = tf.keras.layers.BatchNormalization()(x) \n",
    "            x = tf.keras.layers.Dense(128, activation=a)(x)  \n",
    "            x = tf.keras.layers.Dropout(d)(x)                                 \n",
    "            x = tf.keras.layers.BatchNormalization()(x)           \n",
    "            x = tf.keras.layers.Dense(64, activation=a)(x)\n",
    "            x = tf.keras.layers.Dropout(d)(x)                                 \n",
    "            x = tf.keras.layers.BatchNormalization()(x) \n",
    "            x = tf.keras.layers.Dense(32, activation=a)(x)                      \n",
    "\n",
    "            output = tf.keras.layers.Dense(1, activation='sigmoid')(x)          # выходной слой\n",
    "\n",
    "            model = tf.keras.Model(all_inputs, output)\n",
    "\n",
    "            model.compile(optimizer=keras.optimizers.Adam(learning_rate=0.001),\n",
    "                          loss=keras.losses.BinaryCrossentropy(),\n",
    "                          metrics=METRICS)\n",
    "\n",
    "            history = model.fit(train_ds, batch_size=8, epochs=2500, verbose=0)\n",
    "            data = data.append(pd.DataFrame(history.history)[-1:])\n",
    "            Activation.append(a)\n",
    "            dropout.append(d)\n",
    "\n",
    "data['Activation'] = Activation\n",
    "data['dropout'] = dropout\n",
    "(data.sort_values('prc', ascending=False).sort_values('loss', ascending=True)\n",
    "                  .sort_values(['tp', 'tn'], ascending=False).sort_values(['fp', 'fn'], ascending=True)\n",
    "                  .sort_values(['precision', 'recall'], ascending=False))[:3]\n",
    "```"
   ]
  },
  {
   "cell_type": "raw",
   "metadata": {},
   "source": [
    "CPU times: total: 4h 3min 24s\n",
    "Wall time: 26min 58s\n",
    "\n",
    "loss\t    tp\t    fp\t    tn\t    fn\t        precision\trecall\t    prc\t        Activation\tActivation1\tBatch_size\n",
    "0.155034\t959.0\t84.0\t904.0\t29.0\t    0.919463\t0.970648\t0.978938\trelu\t    linear\t    8\n",
    "0.178073\t934.0\t84.0\t904.0\t54.0\t    0.917485\t0.945344\t0.968091\trelu\t    linear\t    32\n",
    "0.160746\t945.0\t92.0\t896.0\t43.0\t    0.911283\t0.956478\t0.979362\trelu\t    relu\t    8\n"
   ]
  },
  {
   "cell_type": "raw",
   "metadata": {},
   "source": [
    "CPU times: total: 40min 13s\n",
    "Wall time: 10min 39s\n",
    "\n",
    "loss\t    tp\t    fp\t    tn\t    fn\t    precision\trecall\t    prc\t        Activation\tdropout\n",
    "0.417789\t670.0\t71.0\t917.0\t318.0\t0.904184\t0.678138\t0.890558\tlinear\t    0.1\n",
    "0.418077\t670.0\t71.0\t917.0\t318.0\t0.904184\t0.678138\t0.890184\tlinear\t    0.2\n",
    "0.417945\t670.0\t73.0\t915.0\t318.0\t0.901750\t0.678138\t0.888304\trelu\t    0.2"
   ]
  },
  {
   "cell_type": "markdown",
   "metadata": {
    "id": "X-gxAZJfSC0Q"
   },
   "source": [
    "# Итоговая модель"
   ]
  },
  {
   "cell_type": "code",
   "execution_count": 14,
   "metadata": {
    "colab": {
     "base_uri": "https://localhost:8080/"
    },
    "id": "PvxT4yY6Ubl-",
    "outputId": "743e5c15-b5e3-4406-88b1-ad9bc345d2ea"
   },
   "outputs": [
    {
     "name": "stdout",
     "output_type": "stream",
     "text": [
      "Готово!\n",
      "CPU times: total: 9min 49s\n",
      "Wall time: 2min 37s\n"
     ]
    }
   ],
   "source": [
    " %%time\n",
    "\n",
    "a, Batch_size, d = 'linear', 8, 0.1\n",
    "    \n",
    "METRICS = [\n",
    "      keras.metrics.TruePositives(name='tp'),\n",
    "      keras.metrics.FalsePositives(name='fp'),\n",
    "      keras.metrics.TrueNegatives(name='tn'),\n",
    "      keras.metrics.FalseNegatives(name='fn'), \n",
    "      keras.metrics.Precision(name='precision'),\n",
    "      keras.metrics.Recall(name='recall'),\n",
    "      keras.metrics.AUC(name='prc', curve='PR'), # precision-recall curve\n",
    "]\n",
    "\n",
    "def make_model(metrics=METRICS, output_bias=None):\n",
    "  if output_bias is not None:\n",
    "    output_bias = tf.keras.initializers.Constant(output_bias)\n",
    "  \n",
    "  all_features = tf.keras.layers.concatenate(encoded_features)        # входной. слой признаков\n",
    " \n",
    "  x = tf.keras.layers.Dense(512, activation=a)(all_features)  \n",
    "  x = tf.keras.layers.Dropout(d)(x)                                 \n",
    "  x = tf.keras.layers.BatchNormalization()(x) \n",
    "  x = tf.keras.layers.Dense(256, activation=a)(x)  \n",
    "  x = tf.keras.layers.Dropout(d)(x)                                 \n",
    "  x = tf.keras.layers.BatchNormalization()(x) \n",
    "  x = tf.keras.layers.Dense(128, activation=a)(x)  \n",
    "  x = tf.keras.layers.Dropout(d)(x)                                 \n",
    "  x = tf.keras.layers.BatchNormalization()(x)           \n",
    "  x = tf.keras.layers.Dense(64, activation=a)(x)\n",
    "  x = tf.keras.layers.Dropout(d)(x)                                 \n",
    "  x = tf.keras.layers.BatchNormalization()(x) \n",
    "  x = tf.keras.layers.Dense(32, activation=a)(x)                        \n",
    "\n",
    "  output = tf.keras.layers.Dense(1, activation='sigmoid')(x)          # выходной слой\n",
    "\n",
    "  model = tf.keras.Model(all_inputs, output)\n",
    "\n",
    "  model.compile(\n",
    "      optimizer=keras.optimizers.Adam(learning_rate=0.001), #\n",
    "      loss=keras.losses.BinaryCrossentropy(),\n",
    "      metrics=metrics)\n",
    "\n",
    "  return model\n",
    "\n",
    "model = make_model()\n",
    "\n",
    "model.fit(train_ds,\n",
    "          batch_size=Batch_size, \n",
    "          epochs=2500,\n",
    "          verbose=0)\n",
    "\n",
    "print('Готово!')\n"
   ]
  },
  {
   "cell_type": "markdown",
   "metadata": {
    "id": "GNjigEiP3W9z"
   },
   "source": [
    "# Исправляем дисбаланс"
   ]
  },
  {
   "cell_type": "code",
   "execution_count": 15,
   "metadata": {
    "colab": {
     "base_uri": "https://localhost:8080/"
    },
    "id": "67NN6XvsyH-9",
    "outputId": "979a232d-c68d-456b-f186-5153230903a8"
   },
   "outputs": [
    {
     "name": "stdout",
     "output_type": "stream",
     "text": [
      "base_weights Loss: 0.412\n",
      "initial_weights Loss: 0.412\n",
      "\n",
      "Weight for class 0: 1.00\n",
      "Weight for class 1: 1.00\n",
      "class_weight Loss: 0.412\n",
      "CPU times: total: 19min 52s\n",
      "Wall time: 5min 26s\n"
     ]
    }
   ],
   "source": [
    "%%time\n",
    "w = 'base_weights'\n",
    "# базовые весы\n",
    "model.save_weights(f'{w}/{w}', save_format='tf')\n",
    "b_results = round(model.evaluate(train_ds, verbose=0)[0],3)\n",
    "print(f\"{w} Loss: {b_results}\")\n",
    "\n",
    "w = 'initial_weights'\n",
    "# Изучим дисбаланс ярлыков классов\n",
    "neg, pos = np.bincount(y_train)\n",
    "total = neg + pos\n",
    "# Необязательно: правильное начальное смещение initial_weights\n",
    "initial_bias = np.log([pos/neg])\n",
    "iw_model = make_model(output_bias=initial_bias)\n",
    "iw_model.layers[-1].bias.assign([0.0])\n",
    "iw_model.fit(\n",
    "    train_ds,\n",
    "    batch_size=Batch_size,\n",
    "    epochs=2500,\n",
    "    verbose=0)\n",
    "# initial_weights\n",
    "iw_model.save_weights(f'{w}/{w}', save_format='tf')\n",
    "iw_results = round(iw_model.evaluate(train_ds, verbose=0)[0],3)\n",
    "print(f\"{w} Loss: {iw_results}\")\n",
    "\n",
    "## Исправление дисбаланса\n",
    "# Контрольные точки начальных весов\n",
    "# Чтобы сделать различные тренировочные прогоны более сопоставимыми, \n",
    "# сохраним веса исходной модели в файле контрольных точек и загрузим их в каждую модель перед тренировкой.\n",
    "\n",
    "w = 'class_weight'\n",
    "# Рассчитать веса классов\n",
    "weight_for_0 = (1 / neg) * (total / 2.0)\n",
    "weight_for_1 = (1 / pos) * (total / 2.0)\n",
    "class_weight = {0: weight_for_0, 1: weight_for_1}\n",
    "# модель\n",
    "weighted_model = make_model()\n",
    "if iw_results < b_results:\n",
    "    weighted_model.load_weights('initial_weights/initial_weights') # если initial лучше base weights\n",
    "weighted_model.fit(\n",
    "    train_ds,\n",
    "    batch_size=Batch_size,\n",
    "    epochs=2500,\n",
    "    # The class weights go here\n",
    "    class_weight=class_weight, \n",
    "    verbose=0)\n",
    "w_results = round(weighted_model.evaluate(train_ds, verbose=0)[0],3)\n",
    "weighted_model.save_weights(f'{w}/{w}', save_format='tf')\n",
    "print('\\nWeight for class 0: {:.2f}'.format(weight_for_0))\n",
    "print('Weight for class 1: {:.2f}'.format(weight_for_1))\n",
    "print(f\"{w} Loss: {w_results}\")\n",
    "\n",
    "if w_results < iw_results and w_results < b_results:\n",
    "    model.load_weights('class_weight/class_weight')\n",
    "elif iw_results < w_results and iw_results < b_results:\n",
    "    model.load_weights('initial_weights/initial_weights')\n",
    "elif b_results < iw_results and b_results < w_results:\n",
    "    model.load_weights('base_weights/base_weights')\n",
    "\n",
    "# Примечание.Использование `class_weights` изменяет диапазон потерь. \n",
    "# Это может повлиять на стабильность обучения в зависимости от оптимизатора. \n",
    "# Оптимизаторы, размер шага которых зависит от величины градиента, например `tf.keras.optimizers.SGD` , \n",
    "# могут дать сбой. Используемый здесь оптимизатор, `tf.keras.optimizers.Adam` , \n",
    "# не зависит от изменения масштаба. Также обратите внимание, \n",
    "# что из-за взвешивания общие потери между двумя моделями несопоставимы.\n"
   ]
  },
  {
   "cell_type": "markdown",
   "metadata": {
    "id": "VE37mWnBOym_"
   },
   "source": [
    "# Тест"
   ]
  },
  {
   "cell_type": "raw",
   "metadata": {
    "colab": {
     "base_uri": "https://localhost:8080/",
     "height": 597
    },
    "id": "JMmG2ww7yH--",
    "outputId": "bd4b1c4e-cae0-4aa7-ac0a-464d28c4d44b"
   },
   "source": [
    "# Схема архитектуры. Пока не работает как нужно. Разбираюсь с этим\n",
    "# Use `rankdir='LR'` to make the graph horizontal.\n",
    "tf.keras.utils.plot_model(model, show_shapes=True, rankdir=\"LR\")\n"
   ]
  },
  {
   "cell_type": "code",
   "execution_count": 16,
   "metadata": {
    "colab": {
     "base_uri": "https://localhost:8080/"
    },
    "id": "GjoQRKplyH--",
    "outputId": "01c41187-106b-459a-f77f-43c59ea4450a"
   },
   "outputs": [
    {
     "name": "stdout",
     "output_type": "stream",
     "text": [
      "Model: \"model\"\n",
      "__________________________________________________________________________________________________\n",
      " Layer (type)                   Output Shape         Param #     Connected to                     \n",
      "==================================================================================================\n",
      " col_0 (InputLayer)             [(None, 1)]          0           []                               \n",
      "                                                                                                  \n",
      " col_1 (InputLayer)             [(None, 1)]          0           []                               \n",
      "                                                                                                  \n",
      " string_lookup (StringLookup)   (None, 1)            0           ['col_0[0][0]']                  \n",
      "                                                                                                  \n",
      " string_lookup_1 (StringLookup)  (None, 1)           0           ['col_1[0][0]']                  \n",
      "                                                                                                  \n",
      " category_encoding (CategoryEnc  (None, 25)          0           ['string_lookup[0][0]']          \n",
      " oding)                                                                                           \n",
      "                                                                                                  \n",
      " category_encoding_1 (CategoryE  (None, 25)          0           ['string_lookup_1[0][0]']        \n",
      " ncoding)                                                                                         \n",
      "                                                                                                  \n",
      " concatenate (Concatenate)      (None, 50)           0           ['category_encoding[0][0]',      \n",
      "                                                                  'category_encoding_1[0][0]']    \n",
      "                                                                                                  \n",
      " dense (Dense)                  (None, 512)          26112       ['concatenate[0][0]']            \n",
      "                                                                                                  \n",
      " dropout (Dropout)              (None, 512)          0           ['dense[0][0]']                  \n",
      "                                                                                                  \n",
      " batch_normalization (BatchNorm  (None, 512)         2048        ['dropout[0][0]']                \n",
      " alization)                                                                                       \n",
      "                                                                                                  \n",
      " dense_1 (Dense)                (None, 256)          131328      ['batch_normalization[0][0]']    \n",
      "                                                                                                  \n",
      " dropout_1 (Dropout)            (None, 256)          0           ['dense_1[0][0]']                \n",
      "                                                                                                  \n",
      " batch_normalization_1 (BatchNo  (None, 256)         1024        ['dropout_1[0][0]']              \n",
      " rmalization)                                                                                     \n",
      "                                                                                                  \n",
      " dense_2 (Dense)                (None, 128)          32896       ['batch_normalization_1[0][0]']  \n",
      "                                                                                                  \n",
      " dropout_2 (Dropout)            (None, 128)          0           ['dense_2[0][0]']                \n",
      "                                                                                                  \n",
      " batch_normalization_2 (BatchNo  (None, 128)         512         ['dropout_2[0][0]']              \n",
      " rmalization)                                                                                     \n",
      "                                                                                                  \n",
      " dense_3 (Dense)                (None, 64)           8256        ['batch_normalization_2[0][0]']  \n",
      "                                                                                                  \n",
      " dropout_3 (Dropout)            (None, 64)           0           ['dense_3[0][0]']                \n",
      "                                                                                                  \n",
      " batch_normalization_3 (BatchNo  (None, 64)          256         ['dropout_3[0][0]']              \n",
      " rmalization)                                                                                     \n",
      "                                                                                                  \n",
      " dense_4 (Dense)                (None, 32)           2080        ['batch_normalization_3[0][0]']  \n",
      "                                                                                                  \n",
      " dense_5 (Dense)                (None, 1)            33          ['dense_4[0][0]']                \n",
      "                                                                                                  \n",
      "==================================================================================================\n",
      "Total params: 204,545\n",
      "Trainable params: 202,625\n",
      "Non-trainable params: 1,920\n",
      "__________________________________________________________________________________________________\n"
     ]
    }
   ],
   "source": [
    "model.summary()\n"
   ]
  },
  {
   "cell_type": "code",
   "execution_count": 17,
   "metadata": {
    "colab": {
     "base_uri": "https://localhost:8080/",
     "height": 706
    },
    "id": "ZcEC3vpFJb4p",
    "outputId": "36a64f39-052a-4917-efca-554b80108291",
    "scrolled": false
   },
   "outputs": [
    {
     "name": "stdout",
     "output_type": "stream",
     "text": [
      "2/2 [==============================] - 0s 2ms/step\n",
      "2/2 [==============================] - 0s 2ms/step\n"
     ]
    },
    {
     "data": {
      "image/png": "[encoded data removed]",
      "text/plain": [
       "<Figure size 800x600 with 2 Axes>"
      ]
     },
     "metadata": {},
     "output_type": "display_data"
    }
   ],
   "source": [
    "# предобработка результата\n",
    "predict_proba_one = np.array(pd.Series([x[0] for x in model.predict(test_ds)]), 'float32')\n",
    "y_pred = np.array(pd.Series([1 if x[0]>0.5 else 0 for x in model.predict(test_ds)]), 'int64')\n",
    "y_test.reset_index(drop=True)\n",
    "\n",
    "# проверим модель на эффективность. Выводим матрицу ошибок\n",
    "recall = (\"recall: %.2f\" % recall_score(y_test, y_pred))\n",
    "precision = (\"precision: %.2f\" % precision_score(y_test, y_pred))\n",
    "\n",
    "plt.figure(figsize=(8,6), dpi=100)\n",
    "sns.set(font_scale = 1.1)\n",
    "ax = sns.heatmap(confusion_matrix(y_test, y_pred), annot=True, fmt='d', )\n",
    "ax.set_xlabel(\"Predicted Diagnosis\", fontsize=14, labelpad=20)\n",
    "ax.xaxis.set_ticklabels(['Negative', 'Positive'])\n",
    "ax.set_ylabel(\"Actual Diagnosis\", fontsize=14, labelpad=20)\n",
    "ax.yaxis.set_ticklabels(['Negative', 'Positive'])\n",
    "ax.set_title(f\"Диагноз. Препараты. {recall}, {precision}\", fontsize=14, pad=20)\n",
    "plt.show()\n"
   ]
  },
  {
   "cell_type": "code",
   "execution_count": 18,
   "metadata": {},
   "outputs": [
    {
     "name": "stderr",
     "output_type": "stream",
     "text": [
      "WARNING:absl:Found untraced functions such as _update_step_xla while saving (showing 1 of 1). These functions will not be directly callable after loading.\n"
     ]
    },
    {
     "name": "stdout",
     "output_type": "stream",
     "text": [
      "INFO:tensorflow:Assets written to: VPS_by_kids_NLP_model\\assets\n"
     ]
    },
    {
     "name": "stderr",
     "output_type": "stream",
     "text": [
      "INFO:tensorflow:Assets written to: VPS_by_kids_NLP_model\\assets\n"
     ]
    }
   ],
   "source": [
    "# сохраниение. создать папку с моделью\n",
    "#model.save('VPS_by_kids_NLP_model', save_format='tf')\n",
    "\n",
    "# загрузить модель из папки\n",
    "# from keras.models import load_model\n",
    "# model = load_model('VPS_by_kids_NLP_model')"
   ]
  }
 ],
 "metadata": {
  "accelerator": "GPU",
  "colab": {
   "provenance": []
  },
  "gpuClass": "standard",
  "kernelspec": {
   "display_name": "Python 3 (ipykernel)",
   "language": "python",
   "name": "python3"
  },
  "language_info": {
   "codemirror_mode": {
    "name": "ipython",
    "version": 3
   },
   "file_extension": ".py",
   "mimetype": "text/x-python",
   "name": "python",
   "nbconvert_exporter": "python",
   "pygments_lexer": "ipython3",
   "version": "3.10.9"
  }
 },
 "nbformat": 4,
 "nbformat_minor": 1
}
