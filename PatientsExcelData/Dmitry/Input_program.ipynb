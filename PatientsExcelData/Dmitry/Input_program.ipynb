{
 "cells": [
  {
   "cell_type": "markdown",
   "id": "9ab27afb",
   "metadata": {},
   "source": [
    "# Программa с возможностью ввода параметров"
   ]
  },
  {
   "cell_type": "code",
   "execution_count": null,
   "id": "309edf8a",
   "metadata": {},
   "outputs": [],
   "source": [
    "# Программа. Алгоритм предобработки и прогноза\n",
    "text = '''\n",
    "# загрузить модель из папки\n",
    "from keras.models import load_model\n",
    "model = load_model('VPS_by_kids_NLP_model')\n",
    "\n",
    "import numpy as np\n",
    "import pandas as pd\n",
    "import tensorflow as tf\n",
    "\n",
    "def result(diagnosis='',drugs=''):\n",
    "    dataframe = pd.concat([pd.Series(diagnosis,name='col_0'), pd.Series(drugs,name='col_1')], axis=1)\n",
    "\n",
    "    # англофикация названий признаков. Необходимо для сохранения модели\n",
    "    count = 0\n",
    "    data = dataframe.copy()\n",
    "    for col in data.columns:\n",
    "        data = data.rename(columns={col: f\"col_{count}\"})\n",
    "        count += 1\n",
    "\n",
    "    dataframe = data\n",
    "\n",
    "    # Вспомогательный метод для создания tf.data dataset из датафрейма Pandas\n",
    "    def df_to_dataset(dataframe, shuffle=True, batch_size=256):\n",
    "      df = dataframe.copy() \n",
    "      df = {key: value[:,tf.newaxis] for key, value in dataframe.items()}\n",
    "      ds = tf.data.Dataset.from_tensor_slices(dict(df))\n",
    "      if shuffle:\n",
    "        ds = ds.shuffle(buffer_size=len(dataframe))\n",
    "      ds = ds.batch(batch_size)\n",
    "      ds = ds.prefetch(batch_size)\n",
    "      return ds\n",
    "    \n",
    "    test_ds = df_to_dataset(dataframe, shuffle=False, batch_size=256)\n",
    "    \n",
    "    return round(model.predict(test_ds)[0][0]*100,2)\n",
    "\n",
    "'''\n",
    "# сохраненить программу как VPS_predict.py\n",
    "with open('VPS_predict.py', 'w') as f:  \n",
    "    f.write(text.strip())   \n"
   ]
  },
  {
   "cell_type": "markdown",
   "id": "66519e5a",
   "metadata": {},
   "source": [
    "# Ручной ввод"
   ]
  },
  {
   "cell_type": "markdown",
   "id": "3c379ae3",
   "metadata": {},
   "source": [
    "Например.\n",
    "\n",
    "**Диагноз:** Синдром гипоплазии левых отделов сердца: стеноз митрального клапана; стеноз аортального клапана; гипоплазия полости левого желудочка; Состояние после операции 15.04.2016 стентирование открытого артериального протока, раздельного суживания легочных артерий. Рестриктивное межпредсердное сообщение. ; Операция от 31.05.2016: транслюминальная баллонная атриосептостомия. Артериальная гипоксемия. Операция 06.10.2016: операция Norwood I с наложением правостороннего подключично-легочного анастомоза по Blalock c синтетическим протезом из PTFE; Операция 15.03.2017: Перевязка ранее наложенного анастомоза по Blalock c синтетическим протезом справа; наложение правостороннего двунаправленного кавапульмонального анастомоза, в условиях ИК и гипотермии; синдром верхней полой вены.Недостаточность кровообращения 2 а ст.\n",
    "\n",
    "**Препараты:** аспирин-кардио, верошпирон, панангин\n"
   ]
  },
  {
   "cell_type": "code",
   "execution_count": 2,
   "id": "ed943061",
   "metadata": {},
   "outputs": [
    {
     "name": "stdout",
     "output_type": "stream",
     "text": [
      "Диагноз: Синдром гипоплазии левых отделов сердца: стеноз митрального клапана; стеноз аортального клапана; гипоплазия полости левого желудочка; Состояние после операции 15.04.2016 стентирование открытого артериального протока, раздельного суживания легочных артерий. Рестриктивное межпредсердное сообщение. ; Операция от 31.05.2016: транслюминальная баллонная атриосептостомия. Артериальная гипоксемия. Операция 06.10.2016: операция Norwood I с наложением правостороннего подключично-легочного анастомоза по Blalock c синтетическим протезом из PTFE; Операция 15.03.2017: Перевязка ранее наложенного анастомоза по Blalock c синтетическим протезом справа; наложение правостороннего двунаправленного кавапульмонального анастомоза, в условиях ИК и гипотермии; синдром верхней полой вены.Недостаточность кровообращения 2 а ст.\n",
      "\n",
      "Препараты: аспирин-кардио, верошпирон, панангин\n",
      "\n"
     ]
    },
    {
     "name": "stderr",
     "output_type": "stream",
     "text": [
      "C:\\Users\\dtata\\Downloads\\VPS_predict.py:24: FutureWarning: Support for multi-dimensional indexing (e.g. `obj[:, None]`) is deprecated and will be removed in a future version.  Convert to a numpy array before indexing instead.\n"
     ]
    },
    {
     "name": "stdout",
     "output_type": "stream",
     "text": [
      "1/1 [==============================] - 0s 236ms/step\n",
      "Вероятность врожденного порога сердца у ребенка: 32.18%\n"
     ]
    }
   ],
   "source": [
    "# Папка с моделью, этот ноутбук и VPS_predict.py должны быть в одном месте.\n",
    "\n",
    "# программа прогноза\n",
    "from VPS_predict import result\n",
    "\n",
    "diagnosis = input('Диагноз: ')\n",
    "print()\n",
    "drugs = input('Препараты: ')\n",
    "print()\n",
    "\n",
    "r = result(diagnosis,drugs)\n",
    "print(f'Вероятность врожденного порога сердца у ребенка: {r}%')\n"
   ]
  },
  {
   "cell_type": "markdown",
   "id": "52f16fed",
   "metadata": {},
   "source": [
    "### или так. Ввод копипастой"
   ]
  },
  {
   "cell_type": "code",
   "execution_count": 4,
   "id": "7a143d55",
   "metadata": {},
   "outputs": [
    {
     "name": "stdout",
     "output_type": "stream",
     "text": [
      "Диагноз: Множественные дефекты межжелудочковой перегородки. Дефект межпредсердной перегородки. НК 2 А ст. Синдром Дауна. Последствия перинатального поражения ЦНС, синдром мышечной дистонии, гидроцефальный синдром. ; Операция 20.01.2017г.: Пластика дефекта межжелудочковой перегородки ксеноперикардиальной заплатой; пластика дефекта межпредсердной перегородки ксеноперикардиальной заплатой, в условиях ИК, гипотермии и ФХКП. НК 2 А ст. \n",
      "\n",
      "Препараты: Нет данных \n",
      "\n",
      "1/1 [==============================] - 0s 11ms/step\n",
      "Вероятность врожденного порога сердца у ребенка: 15.22%\n"
     ]
    },
    {
     "name": "stderr",
     "output_type": "stream",
     "text": [
      "C:\\Users\\dtata\\Downloads\\VPS_predict.py:24: FutureWarning: Support for multi-dimensional indexing (e.g. `obj[:, None]`) is deprecated and will be removed in a future version.  Convert to a numpy array before indexing instead.\n"
     ]
    }
   ],
   "source": [
    "# Папка с моделью, этот ноутбук и VPS_predict.py должны быть в одном месте.\n",
    "\n",
    "# программа прогноза\n",
    "from VPS_predict import result\n",
    "\n",
    "diagnosis = 'Множественные дефекты межжелудочковой перегородки. Дефект межпредсердной перегородки. НК 2 А ст. Синдром Дауна. Последствия перинатального поражения ЦНС, синдром мышечной дистонии, гидроцефальный синдром. ; Операция 20.01.2017г.: Пластика дефекта межжелудочковой перегородки ксеноперикардиальной заплатой; пластика дефекта межпредсердной перегородки ксеноперикардиальной заплатой, в условиях ИК, гипотермии и ФХКП. НК 2 А ст.'\n",
    "\n",
    "drugs = 'Нет данных'\n",
    "\n",
    "print('Диагноз:', diagnosis, '\\n')\n",
    "print('Препараты:', drugs, '\\n')\n",
    "\n",
    "r = result(diagnosis,drugs)\n",
    "print(f'Вероятность врожденного порога сердца у ребенка: {r}%')\n"
   ]
  }
 ],
 "metadata": {
  "kernelspec": {
   "display_name": "Python 3 (ipykernel)",
   "language": "python",
   "name": "python3"
  },
  "language_info": {
   "codemirror_mode": {
    "name": "ipython",
    "version": 3
   },
   "file_extension": ".py",
   "mimetype": "text/x-python",
   "name": "python",
   "nbconvert_exporter": "python",
   "pygments_lexer": "ipython3",
   "version": "3.10.9"
  }
 },
 "nbformat": 4,
 "nbformat_minor": 5
}
