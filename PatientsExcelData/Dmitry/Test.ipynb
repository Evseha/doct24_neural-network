{
 "cells": [
  {
   "cell_type": "code",
   "execution_count": 1,
   "id": "8894dd5a",
   "metadata": {},
   "outputs": [],
   "source": [
    "import matplotlib.pyplot as plt\n",
    "import numpy as np\n",
    "import pandas as pd\n",
    "import seaborn as sns\n",
    "import tensorflow as tf\n",
    "from sklearn.metrics import confusion_matrix, precision_score, recall_score\n",
    "\n",
    "file_path = 'chd_addmit_1500.xlsx'\n",
    "\n",
    "columns_list = ['sex',\n",
    "                 'height',\n",
    "                 'weight',\n",
    "                 'BMI',\n",
    "                 'BSA',\n",
    "                 'Операции (все в ИБ)',\n",
    "                 'Перенесенные опер. (из Анамн.)',\n",
    "                 'Диагноз',\n",
    "                 'МКБ',\n",
    "                 'Соп. забол. (из Анамн.)',\n",
    "                 'Медикам. леч. по поводу осн. забол. (из Анамн.)',\n",
    "                 'Принимаемые препараты (из Анамн.)',\n",
    "                 'ЭхоКГ (Из Эпикр. до опер.)',\n",
    "                 'ЭКГ (Из Эпикр. до опер.)',\n",
    "                 'АКГ (Из Эпикр. до опер.)',\n",
    "                 'КТ (Из Эпикр. до опер.)',\n",
    "                 'Операция (основная / первая в ИБ)',\n",
    "                 'target']\n",
    "\n",
    "dataframe = pd.read_excel(file_path)[columns_list]\n"
   ]
  },
  {
   "cell_type": "markdown",
   "id": "23a99c47",
   "metadata": {},
   "source": [
    "# Предобработка"
   ]
  },
  {
   "cell_type": "code",
   "execution_count": 2,
   "id": "82a1e955",
   "metadata": {},
   "outputs": [
    {
     "name": "stderr",
     "output_type": "stream",
     "text": [
      "C:\\Users\\dtata\\AppData\\Local\\Temp/ipykernel_1184/3002088742.py:14: FutureWarning: Support for multi-dimensional indexing (e.g. `obj[:, None]`) is deprecated and will be removed in a future version.  Convert to a numpy array before indexing instead.\n",
      "  df = {key: value[:,tf.newaxis] for key, value in dataframe.items()}\n"
     ]
    }
   ],
   "source": [
    "# англофикация названий признаков. Необходимо для сохранения модели\n",
    "count = 0\n",
    "data = dataframe.copy()\n",
    "for col in data.drop('target', axis=1).columns:\n",
    "    data = data.rename(columns={col: f\"col_{count}\"})\n",
    "    count += 1\n",
    "    \n",
    "dataframe = data\n",
    "\n",
    "# Вспомогательный метод для создания tf.data dataset из датафрейма Pandas\n",
    "def df_to_dataset(dataframe, shuffle=True, batch_size=32):\n",
    "  df = dataframe.copy()\n",
    "  labels = df.pop('target')\n",
    "  df = {key: value[:,tf.newaxis] for key, value in dataframe.items()}\n",
    "  ds = tf.data.Dataset.from_tensor_slices((dict(df), labels))\n",
    "  if shuffle:\n",
    "    ds = ds.shuffle(buffer_size=len(dataframe))\n",
    "  ds = ds.batch(batch_size)\n",
    "  ds = ds.prefetch(batch_size)\n",
    "  return ds\n",
    "\n",
    "# Делаем заглушки\n",
    "for col in dataframe.columns.tolist():\n",
    "  if dataframe[col].dtypes in ['float64', 'int64']:\n",
    "    dataframe[col] = dataframe[col].fillna(dataframe[col].median())\n",
    "\n",
    "for col in dataframe.columns.tolist():\n",
    "  if dataframe[col].dtypes == 'object':\n",
    "    dataframe[col] = dataframe[col].fillna('Нет данных')\n",
    "    \n",
    "test_ds = df_to_dataset(dataframe, shuffle=False, batch_size=256)\n",
    "y_test = dataframe['target']\n"
   ]
  },
  {
   "cell_type": "markdown",
   "id": "6fb7871b",
   "metadata": {},
   "source": [
    "В тесте используем всю таблицу без разделения. Т.к. модель готовая и в обучении не нуждается."
   ]
  },
  {
   "cell_type": "markdown",
   "id": "5f82eed4",
   "metadata": {},
   "source": [
    "# Тест на всей таблице"
   ]
  },
  {
   "cell_type": "code",
   "execution_count": 3,
   "id": "79af797a",
   "metadata": {},
   "outputs": [],
   "source": [
    "# загрузить модель из папки\n",
    "from keras.models import load_model\n",
    "model = load_model('VPS_by_kids_NLP_model')\n"
   ]
  },
  {
   "cell_type": "code",
   "execution_count": 4,
   "id": "bc99c25b",
   "metadata": {},
   "outputs": [
    {
     "name": "stdout",
     "output_type": "stream",
     "text": [
      "6/6 [==============================] - 1s 9ms/step\n",
      "6/6 [==============================] - 0s 8ms/step\n"
     ]
    },
    {
     "data": {
      "image/png": "[encoded data removed]",
      "text/plain": [
       "<Figure size 800x600 with 2 Axes>"
      ]
     },
     "metadata": {
      "needs_background": "light"
     },
     "output_type": "display_data"
    },
    {
     "name": "stdout",
     "output_type": "stream",
     "text": [
      "recall_score: 0.98\n",
      "precision_score: 0.98\n"
     ]
    }
   ],
   "source": [
    "# предобработка результата\n",
    "predict_proba_one = np.array(pd.Series([x[0] for x in model.predict(test_ds)]), 'float32')\n",
    "y_pred = np.array(pd.Series([1 if x[0]>0.5 else 0 for x in model.predict(test_ds)]), 'int64')\n",
    "y_test.reset_index(drop=True)\n",
    "\n",
    "# проверим модель на эффективность. Выводим матрицу ошибок\n",
    "plt.figure(figsize=(8,6), dpi=100)\n",
    "sns.set(font_scale = 1.1)\n",
    "ax = sns.heatmap(confusion_matrix(y_test, y_pred), annot=True, fmt='d', )\n",
    "ax.set_xlabel(\"Predicted Diagnosis\", fontsize=14, labelpad=20)\n",
    "ax.xaxis.set_ticklabels(['Negative', 'Positive'])\n",
    "ax.set_ylabel(\"Actual Diagnosis\", fontsize=14, labelpad=20)\n",
    "ax.yaxis.set_ticklabels(['Negative', 'Positive'])\n",
    "ax.set_title(\"Confusion Matrix Test\", fontsize=14, pad=20)\n",
    "plt.show()\n",
    "\n",
    "print(\"recall_score: %.2f\" % recall_score(y_test, y_pred))\n",
    "print(\"precision_score: %.2f\" % precision_score(y_test, y_pred))\n"
   ]
  }
 ],
 "metadata": {
  "kernelspec": {
   "display_name": "Python 3 (ipykernel)",
   "language": "python",
   "name": "python3"
  },
  "language_info": {
   "codemirror_mode": {
    "name": "ipython",
    "version": 3
   },
   "file_extension": ".py",
   "mimetype": "text/x-python",
   "name": "python",
   "nbconvert_exporter": "python",
   "pygments_lexer": "ipython3",
   "version": "3.9.7"
  }
 },
 "nbformat": 4,
 "nbformat_minor": 5
}
