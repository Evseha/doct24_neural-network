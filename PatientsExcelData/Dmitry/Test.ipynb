{
 "cells": [
  {
   "cell_type": "code",
   "execution_count": 1,
   "id": "af6cefc9",
   "metadata": {},
   "outputs": [],
   "source": [
    "#pip install sklearn"
   ]
  },
  {
   "cell_type": "code",
   "execution_count": 2,
   "id": "2e1bf303",
   "metadata": {},
   "outputs": [],
   "source": [
    "#pip install transformers"
   ]
  },
  {
   "cell_type": "code",
   "execution_count": 3,
   "id": "8a48dd07",
   "metadata": {},
   "outputs": [],
   "source": [
    "#pip install tensorflow"
   ]
  },
  {
   "cell_type": "code",
   "execution_count": 4,
   "id": "8894dd5a",
   "metadata": {},
   "outputs": [],
   "source": [
    "import matplotlib as mpl\n",
    "import matplotlib.pyplot as plt\n",
    "import numpy as np\n",
    "import os\n",
    "import pandas as pd\n",
    "import seaborn as sns\n",
    "import sklearn\n",
    "import tensorflow as tf\n",
    "import tempfile\n",
    "\n",
    "from sklearn.dummy import DummyClassifier\n",
    "from sklearn.metrics import confusion_matrix, f1_score, roc_curve, roc_auc_score, precision_score, accuracy_score, recall_score\n",
    "from sklearn.model_selection import train_test_split\n",
    "from sklearn.preprocessing import StandardScaler\n",
    "from sklearn.utils import shuffle\n",
    "from imblearn.over_sampling import RandomOverSampler\n",
    "\n",
    "from tensorflow import keras, feature_column\n",
    "from tensorflow.keras import layers\n",
    "from tensorflow.keras.models import model_from_json\n",
    "from tensorflow.keras.callbacks import ModelCheckpoint\n",
    "# Последовательная модель НС\n",
    "from tensorflow.keras.models import Sequential  \n",
    "# Основные слои\n",
    "from tensorflow.keras.layers import Dense, Activation, Dropout, BatchNormalization \n",
    "# Утилиты для to_categorical()\n",
    "from tensorflow.keras import utils   \n",
    "# Алгоритмы оптимизации для обучения модели\n",
    "from tensorflow.keras.optimizers import Adam, Adadelta   \n",
    "# Связь с google-диском\n",
    "#from google.colab import files   \n",
    "# Предварительная обработка данных\n",
    "from sklearn import preprocessing                 \n",
    "\n",
    "# Отрисовывать изображения в ноутбуке, а не в консоль или файл\n",
    "%matplotlib inline\n",
    "\n",
    "file_path = 'chd_addmit_300.xlsx'\n",
    "# удаляем даты\n",
    "dataframe = pd.read_excel(file_path).drop(['birth','admittion',\t'discharge', 'Дата опер.'], axis=1)\n"
   ]
  },
  {
   "cell_type": "markdown",
   "id": "23a99c47",
   "metadata": {},
   "source": [
    "# Предобработка"
   ]
  },
  {
   "cell_type": "code",
   "execution_count": 5,
   "id": "82a1e955",
   "metadata": {},
   "outputs": [],
   "source": [
    "# англофикация названий признаков. Необходимо для сохранения модели\n",
    "count = 0\n",
    "data = dataframe.copy()\n",
    "for col in data.drop('target', axis=1).columns:\n",
    "    data = data.rename(columns={col: f\"col_{count}\"})\n",
    "    count += 1\n",
    "    \n",
    "dataframe = data\n",
    "\n",
    "# Вспомогательный метод для создания tf.data dataset из датафрейма Pandas\n",
    "def df_to_dataset(dataframe, shuffle=True, batch_size=32):\n",
    "  df = dataframe.copy()\n",
    "  labels = df.pop('target')\n",
    "  df = {key: value[:,tf.newaxis] for key, value in dataframe.items()}\n",
    "  ds = tf.data.Dataset.from_tensor_slices((dict(df), labels))\n",
    "  if shuffle:\n",
    "    ds = ds.shuffle(buffer_size=len(dataframe))\n",
    "  ds = ds.batch(batch_size)\n",
    "  ds = ds.prefetch(batch_size)\n",
    "  return ds\n",
    "\n",
    "# Делаем заглушки\n",
    "for col in dataframe.columns.tolist():\n",
    "  if dataframe[col].dtypes in ['float64', 'int64']:\n",
    "    dataframe[col] = dataframe[col].fillna(dataframe[col].median())\n",
    "\n",
    "for col in dataframe.columns.tolist():\n",
    "  if dataframe[col].dtypes == 'object':\n",
    "    dataframe[col] = dataframe[col].fillna('Нет данных')\n",
    "    "
   ]
  },
  {
   "cell_type": "markdown",
   "id": "6fb7871b",
   "metadata": {},
   "source": [
    "В тесте используем всю таблицу без разделения. Т.к. модель готовая и в обучении не нуждается."
   ]
  },
  {
   "cell_type": "code",
   "execution_count": 14,
   "id": "836a6334",
   "metadata": {},
   "outputs": [
    {
     "name": "stderr",
     "output_type": "stream",
     "text": [
      "C:\\Users\\dtata\\AppData\\Local\\Temp/ipykernel_11448/2258536181.py:14: FutureWarning: Support for multi-dimensional indexing (e.g. `obj[:, None]`) is deprecated and will be removed in a future version.  Convert to a numpy array before indexing instead.\n",
      "  df = {key: value[:,tf.newaxis] for key, value in dataframe.items()}\n"
     ]
    }
   ],
   "source": [
    "batch_size = 256\n",
    "ds = df_to_dataset(dataframe, shuffle=False, batch_size=batch_size)\n",
    "y_test = dataframe['target']"
   ]
  },
  {
   "cell_type": "code",
   "execution_count": 10,
   "id": "ba20cd54",
   "metadata": {},
   "outputs": [
    {
     "name": "stdout",
     "output_type": "stream",
     "text": [
      "WARNING:tensorflow:5 out of the last 9 calls to <function PreprocessingLayer.make_adapt_function.<locals>.adapt_step at 0x0000022450DE79D0> triggered tf.function retracing. Tracing is expensive and the excessive number of tracings could be due to (1) creating @tf.function repeatedly in a loop, (2) passing tensors with different shapes, (3) passing Python objects instead of tensors. For (1), please define your @tf.function outside of the loop. For (2), @tf.function has reduce_retracing=True option that can avoid unnecessary retracing. For (3), please refer to https://www.tensorflow.org/guide/function#controlling_retracing and https://www.tensorflow.org/api_docs/python/tf/function for  more details.\n",
      "WARNING:tensorflow:6 out of the last 11 calls to <function PreprocessingLayer.make_adapt_function.<locals>.adapt_step at 0x000002244929C820> triggered tf.function retracing. Tracing is expensive and the excessive number of tracings could be due to (1) creating @tf.function repeatedly in a loop, (2) passing tensors with different shapes, (3) passing Python objects instead of tensors. For (1), please define your @tf.function outside of the loop. For (2), @tf.function has reduce_retracing=True option that can avoid unnecessary retracing. For (3), please refer to https://www.tensorflow.org/guide/function#controlling_retracing and https://www.tensorflow.org/api_docs/python/tf/function for  more details.\n"
     ]
    }
   ],
   "source": [
    "# предобработка слоя с числовыми призанками\n",
    "def get_normalization_layer(name, dataset):\n",
    "  # Создаем слой нормализации для объекта.\n",
    "  normalizer = layers.Normalization(axis=None)\n",
    "  # Подготовка набора данных, который дает только этот признак.\n",
    "  feature_ds = dataset.map(lambda x, y: x[name])\n",
    "  # Обучить статистику данных.\n",
    "  normalizer.adapt(feature_ds)\n",
    "  return normalizer\n",
    "\n",
    "# предобработка слоя с категориальными призанками\n",
    "def get_category_encoding_layer(name, dataset, dtype, max_tokens=None):\n",
    "  # Создайтся слой, который превращает строки в целые индексы.\n",
    "  if dtype == 'string':\n",
    "    index = layers.StringLookup(max_tokens=max_tokens)\n",
    "  # В противном случае создайтся слой, который превращает целые значения в целые индексы.\n",
    "  else:\n",
    "    index = layers.IntegerLookup(max_tokens=max_tokens)\n",
    "  # Подготовка `tf.data.Dataset`, который дает только этот признак.\n",
    "  feature_ds = dataset.map(lambda x, y: x[name])\n",
    "  # Изучить набор возможных значений и присвоить им фиксированный целочисленный индекс.\n",
    "  index.adapt(feature_ds)\n",
    "  # Кодировать целочисленные индексы.\n",
    "  encoder = layers.CategoryEncoding(num_tokens=index.vocabulary_size())\n",
    "  # Применить многократное горячее кодирование к индексам. Лямбда-функция захватывает слои,\n",
    "  # чтобы вы могли использовать их или позже включить в функциональную модель Keras.\n",
    "  return lambda feature: encoder(index(feature))\n",
    "\n",
    "all_inputs = [] # inputs\n",
    "encoded_features = [] # output\n",
    "\n",
    "# Numerical features.\n",
    "for header in dataframe.columns.tolist():\n",
    "  if dataframe[header].dtypes in ['float64', 'int64']:\n",
    "    # inputs\n",
    "    numeric_col = tf.keras.Input(shape=(1,), name=header)\n",
    "    # output\n",
    "    normalization_layer = get_normalization_layer(header, ds)\n",
    "    encoded_numeric_col = normalization_layer(numeric_col)\n",
    "    # append\n",
    "    all_inputs.append(numeric_col)\n",
    "    encoded_features.append(encoded_numeric_col)\n",
    "\n",
    "# Сategorical features.\n",
    "categorical_cols = dataframe.loc[:,dataframe.dtypes == 'object'].columns.tolist()\n",
    "for header in categorical_cols:\n",
    "    # inputs\n",
    "    categorical_col = tf.keras.Input(shape=(1,), name=header, dtype='string')\n",
    "    # output\n",
    "    encoding_layer = get_category_encoding_layer(name=header,\n",
    "                                                dataset=ds,\n",
    "                                                dtype='string',\n",
    "                                                max_tokens=5)\n",
    "    encoded_categorical_col = encoding_layer(categorical_col)\n",
    "    # append\n",
    "    all_inputs.append(categorical_col)\n",
    "    encoded_features.append(encoded_categorical_col)\n"
   ]
  },
  {
   "cell_type": "markdown",
   "id": "5f82eed4",
   "metadata": {},
   "source": [
    "# Тест на всей таблице"
   ]
  },
  {
   "cell_type": "code",
   "execution_count": 12,
   "id": "79af797a",
   "metadata": {},
   "outputs": [],
   "source": [
    "# загрузить модель из папки\n",
    "from keras.models import load_model\n",
    "model = load_model('VPS_by_kids_NLP_model')\n"
   ]
  },
  {
   "cell_type": "code",
   "execution_count": 16,
   "id": "bc99c25b",
   "metadata": {},
   "outputs": [
    {
     "name": "stdout",
     "output_type": "stream",
     "text": [
      "2/2 [==============================] - 0s 4ms/step\n",
      "2/2 [==============================] - 0s 5ms/step\n"
     ]
    },
    {
     "data": {
      "image/png": "[encoded data removed]",
      "text/plain": [
       "<Figure size 800x600 with 2 Axes>"
      ]
     },
     "metadata": {},
     "output_type": "display_data"
    },
    {
     "name": "stdout",
     "output_type": "stream",
     "text": [
      "recall_score: 1.00\n",
      "precision_score: 1.00\n"
     ]
    }
   ],
   "source": [
    "# предобработка результата\n",
    "predict_proba_one = np.array(pd.Series([x[0] for x in model.predict(test_ds)]), 'float32')\n",
    "y_pred = np.array(pd.Series([1 if x[0]>0.5 else 0 for x in model.predict(test_ds)]), 'int64')\n",
    "y_test.reset_index(drop=True)\n",
    "\n",
    "# проверим модель на эффективность. Выводим матрицу ошибок\n",
    "plt.figure(figsize=(8,6), dpi=100)\n",
    "sns.set(font_scale = 1.1)\n",
    "ax = sns.heatmap(confusion_matrix(y_test, y_pred), annot=True, fmt='d', )\n",
    "ax.set_xlabel(\"Predicted Diagnosis\", fontsize=14, labelpad=20)\n",
    "ax.xaxis.set_ticklabels(['Negative', 'Positive'])\n",
    "ax.set_ylabel(\"Actual Diagnosis\", fontsize=14, labelpad=20)\n",
    "ax.yaxis.set_ticklabels(['Negative', 'Positive'])\n",
    "ax.set_title(\"Confusion Matrix Test\", fontsize=14, pad=20)\n",
    "plt.show()\n",
    "\n",
    "print(\"recall_score: %.2f\" % recall_score(y_test, y_pred))\n",
    "print(\"precision_score: %.2f\" % precision_score(y_test, y_pred))\n"
   ]
  }
 ],
 "metadata": {
  "kernelspec": {
   "display_name": "Python 3 (ipykernel)",
   "language": "python",
   "name": "python3"
  },
  "language_info": {
   "codemirror_mode": {
    "name": "ipython",
    "version": 3
   },
   "file_extension": ".py",
   "mimetype": "text/x-python",
   "name": "python",
   "nbconvert_exporter": "python",
   "pygments_lexer": "ipython3",
   "version": "3.9.7"
  }
 },
 "nbformat": 4,
 "nbformat_minor": 5
}
