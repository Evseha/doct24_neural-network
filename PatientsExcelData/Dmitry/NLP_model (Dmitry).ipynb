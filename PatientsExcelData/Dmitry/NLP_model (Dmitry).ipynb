{
  "nbformat": 4,
  "nbformat_minor": 0,
  "metadata": {
    "colab": {
      "provenance": []
    },
    "kernelspec": {
      "name": "python3",
      "display_name": "Python 3"
    },
    "language_info": {
      "name": "python"
    }
  },
  "cells": [
    {
      "cell_type": "markdown",
      "source": [
        "# Загрузка данных и библиотек"
      ],
      "metadata": {
        "id": "nuCGPSsJtC4L"
      }
    },
    {
      "cell_type": "code",
      "source": [
        "#pip install transformers\n",
        "#pip install sklearn\n",
        "#pip install tensorflow"
      ],
      "metadata": {
        "id": "Hvwimq27qrt3"
      },
      "execution_count": 157,
      "outputs": []
    },
    {
      "cell_type": "code",
      "source": [
        "import tensorflow as tf\n",
        "from tensorflow import keras, feature_column\n",
        "\n",
        "import os\n",
        "import tempfile\n",
        "\n",
        "import matplotlib as mpl\n",
        "import matplotlib.pyplot as plt\n",
        "import numpy as np\n",
        "import pandas as pd\n",
        "import seaborn as sns\n",
        "from tensorflow.keras import layers\n",
        "\n",
        "import sklearn\n",
        "from sklearn.metrics import confusion_matrix\n",
        "from sklearn.model_selection import train_test_split\n",
        "from sklearn.preprocessing import StandardScaler\n",
        "\n",
        "# Последовательная модель НС\n",
        "from tensorflow.keras.models import Sequential  \n",
        "# Основные слои\n",
        "from tensorflow.keras.layers import Dense, Activation, Dropout, BatchNormalization \n",
        "# Утилиты для to_categorical()\n",
        "from tensorflow.keras import utils   \n",
        "# Алгоритмы оптимизации для обучения модели\n",
        "from tensorflow.keras.optimizers import Adam, Adadelta   \n",
        "# Связь с google-диском\n",
        "from google.colab import files   \n",
        "# Предварительная обработка данных\n",
        "from sklearn import preprocessing         \n",
        "# Для загрузки датасета\n",
        "from keras.datasets import fashion_mnist                   \n",
        "\n",
        "# Отрисовывать изображения в ноутбуке, а не в консоль или файл\n",
        "%matplotlib inline\n",
        "\n",
        "\n",
        "mpl.rcParams['figure.figsize'] = (12, 10)\n",
        "colors = plt.rcParams['axes.prop_cycle'].by_key()['color']\n",
        "\n",
        "file_path = 'chd_addmit_300.xlsx'\n",
        "dataframe = pd.read_excel(file_path).drop(['birth','admittion',\t'discharge', 'Дата опер.'], axis=1)\n",
        "\n",
        "# этот признак работает криво. исправлю здесь\n",
        "dataframe['sex'] = dataframe['sex'].apply(lambda x: 1 if x=='f' else 0)"
      ],
      "metadata": {
        "id": "PS4jstTvhnAB"
      },
      "execution_count": 158,
      "outputs": []
    },
    {
      "cell_type": "markdown",
      "source": [
        "# Входной пайплайн df_to_dataset. Подготовка датасета. Предобработка. Сплит на выборки"
      ],
      "metadata": {
        "id": "LwDgqjNns-pB"
      }
    },
    {
      "cell_type": "markdown",
      "source": [
        "Первый шаг заключается в преобразовании датафреймов Pandas в наборы данных TensorFlow:"
      ],
      "metadata": {
        "id": "U43PN9p1TAig"
      }
    },
    {
      "cell_type": "code",
      "source": [
        "# Вспомогательный метод для создания tf.data dataset из датафрейма Pandas\n",
        "def df_to_dataset(dataframe, shuffle=True, batch_size=32):\n",
        "  df = dataframe.copy()\n",
        "  labels = df.pop('target')\n",
        "  df = {key: value[:,tf.newaxis] for key, value in dataframe.items()}\n",
        "  ds = tf.data.Dataset.from_tensor_slices((dict(df), labels))\n",
        "  if shuffle:\n",
        "    ds = ds.shuffle(buffer_size=len(dataframe))\n",
        "  ds = ds.batch(batch_size)\n",
        "  ds = ds.prefetch(batch_size)\n",
        "  return ds\n",
        "\n",
        "# Делаем заглушки\n",
        "for col in dataframe.columns.tolist():\n",
        "  if dataframe[col].dtypes in ['float64', 'int64']:\n",
        "    dataframe[col] = dataframe[col].fillna(dataframe[col].median())\n",
        "\n",
        "for col in dataframe.columns.tolist():\n",
        "  if dataframe[col].dtypes == 'object':\n",
        "    dataframe[col] = dataframe[col].fillna('Нет данных')\n",
        "\n",
        "# Разделяем на выборки\n",
        "\n",
        "# вариант разделения по туториалам. пусть будет пока\n",
        "#train, val, test = np.split(dataframe.sample(frac=1), [int(0.8*len(dataframe)), int(0.9*len(dataframe))])\n",
        "\n",
        "X_train, X_test, y_train, y_test = train_test_split(dataframe, dataframe['target'], \n",
        "                                                      test_size=0.2, \n",
        "                                                      random_state=5,\n",
        "                                                      stratify=dataframe['target'])\n",
        "\n",
        "X_train, X_val, y_train, y_val = train_test_split(X_train, y_train, \n",
        "                                                      test_size=0.2, \n",
        "                                                      random_state=5,\n",
        "                                                      stratify=y_train)\n",
        "\n",
        "# Преобразуем датафрейм Pandas в наборы данных TensorFlow\n",
        "batch_size = 256\n",
        "train_ds = df_to_dataset(X_train, batch_size=batch_size)\n",
        "val_ds = df_to_dataset(X_val, shuffle=False, batch_size=batch_size)\n",
        "test_ds = df_to_dataset(X_test, shuffle=False, batch_size=batch_size)"
      ],
      "metadata": {
        "colab": {
          "base_uri": "https://localhost:8080/"
        },
        "id": "olv2uZk7RoHA",
        "outputId": "43ec1d52-1594-4ea6-d6ee-87cab3839aa5"
      },
      "execution_count": 159,
      "outputs": [
        {
          "output_type": "stream",
          "name": "stderr",
          "text": [
            "<ipython-input-159-6a0b75ab49dc>:5: FutureWarning: Support for multi-dimensional indexing (e.g. `obj[:, None]`) is deprecated and will be removed in a future version.  Convert to a numpy array before indexing instead.\n",
            "  df = {key: value[:,tf.newaxis] for key, value in dataframe.items()}\n",
            "<ipython-input-159-6a0b75ab49dc>:5: FutureWarning: Support for multi-dimensional indexing (e.g. `obj[:, None]`) is deprecated and will be removed in a future version.  Convert to a numpy array before indexing instead.\n",
            "  df = {key: value[:,tf.newaxis] for key, value in dataframe.items()}\n"
          ]
        }
      ]
    },
    {
      "cell_type": "markdown",
      "source": [
        "Здесь стоит обратить внимание на то, что наборы данных TensorFlow и результаты дальнейших преобразований данных не хранятся в памяти так же, как хранятся датафреймы Pandas. Они, по сути, представляют собой конвейер. Через него, пакет за пакетом, походят данные, что позволяет модели эффективно обучаться на наборах данных, которые слишком велики для размещения их в памяти. Именно поэтому мы преобразуем в наборы данных словари датафреймов, а не реальные данные. Обратите внимание на то, что мы, кроме прочего, задаём сейчас, а не во время обучения модели, размер пакета данных, поступая не так, как обычно поступают при использовании API Keras."
      ],
      "metadata": {
        "id": "rcK-k1ohTGUU"
      }
    },
    {
      "cell_type": "markdown",
      "source": [
        "## Пример работы пайплайна"
      ],
      "metadata": {
        "id": "o0OPF0mvQrDo"
      }
    },
    {
      "cell_type": "code",
      "source": [
        "for feature_batch, label_batch in train_ds.take(1):\n",
        "  print('Все признаки:', list(feature_batch.keys()))\n",
        "  print('Батч height:', feature_batch['height'][:5]) # 18 значений из 35 уникальных. сократил до 5, для удобства\n",
        "  print('Батч targets:', label_batch )"
      ],
      "metadata": {
        "colab": {
          "base_uri": "https://localhost:8080/"
        },
        "id": "VAFT8sYxQsCA",
        "outputId": "ac49f581-b1ca-48b3-87bd-8b5f54bfb399"
      },
      "execution_count": 169,
      "outputs": [
        {
          "output_type": "stream",
          "name": "stdout",
          "text": [
            "Все признаки: ['sex', 'height', 'weight', 'BMI', 'BSA', 'Операции (все в ИБ)', 'Перенесенные опер. (из Анамн.)', 'Диагноз', 'МКБ', 'Соп. забол. (из Анамн.)', 'Медикам. леч. по поводу осн. забол. (из Анамн.)', 'Принимаемые препараты (из Анамн.)', 'ЭхоКГ (Из Эпикр. до опер.)', 'ЭКГ (Из Эпикр. до опер.)', 'АКГ (Из Эпикр. до опер.)', 'КТ (Из Эпикр. до опер.)', 'Операция (основная / первая в ИБ)', 'target']\n",
            "Батч height: tf.Tensor(\n",
            "[[67]\n",
            " [74]\n",
            " [64]\n",
            " [59]\n",
            " [58]], shape=(5, 1), dtype=int64)\n",
            "Батч targets: tf.Tensor(\n",
            "[0 0 0 0 0 0 0 0 0 0 0 0 0 0 0 0 0 0 0 0 0 0 0 0 0 0 0 0 1 0 0 0 0 1 0 0 0\n",
            " 0 0 0 0 0 0 0 0 0 0 0 0 0 0 0 0 0 0 0 0 0 0 0 0 0 0 0 0 1 0 0 0 0 0 0 0 0\n",
            " 0 0 0 0 0 0 0 0 1 0 0 0 0 0 0 0 0 1 1 1 0 0 0 0 0 0 0 0 0 0 0 0 0 0 0 0 0\n",
            " 1 0 0 0 0 0 0 0 0 0 0 0 0 0 0 0 0 0 0 0 0 0 0 0 0 0 0 0 0 0 1 0 0 0 0 0 0\n",
            " 0 0 0 0 0 0 0 0 0 0 0 0 0 0 0 0 0 0 0 0 0 0 0 0 0 0 0 0 0 0 0 0 0 0 0 0 0\n",
            " 0 0 0 0 0 0 0], shape=(192,), dtype=int64)\n"
          ]
        }
      ]
    },
    {
      "cell_type": "markdown",
      "source": [
        "## Нормализация входных/выходных данных. (Пока не используется!)"
      ],
      "metadata": {
        "id": "nCzFbY_UQZsb"
      }
    },
    {
      "cell_type": "code",
      "source": [
        "# предобработка слоя с числовыми призанками\n",
        "def get_normalization_layer(name, dataset):\n",
        "  # Create a Normalization layer for the feature.\n",
        "  normalizer = layers.Normalization(axis=None)\n",
        "\n",
        "  # Prepare a Dataset that only yields the feature.\n",
        "  feature_ds = dataset.map(lambda x, y: x[name])\n",
        "\n",
        "  # Learn the statistics of the data.\n",
        "  normalizer.adapt(feature_ds)\n",
        "\n",
        "  return normalizer\n",
        "\n",
        "# предобработка слоя с категориальными призанками\n",
        "def get_category_encoding_layer(name, dataset, dtype, max_tokens=None):\n",
        "  # Create a layer that turns strings into integer indices.\n",
        "  if dtype == 'string':\n",
        "    index = layers.StringLookup(max_tokens=max_tokens)\n",
        "  # Otherwise, create a layer that turns integer values into integer indices.\n",
        "  else:\n",
        "    index = layers.IntegerLookup(max_tokens=max_tokens)\n",
        "\n",
        "  # Prepare a `tf.data.Dataset` that only yields the feature.\n",
        "  feature_ds = dataset.map(lambda x, y: x[name])\n",
        "\n",
        "  # Learn the set of possible values and assign them a fixed integer index.\n",
        "  index.adapt(feature_ds)\n",
        "\n",
        "  # Encode the integer indices.\n",
        "  encoder = layers.CategoryEncoding(num_tokens=index.vocabulary_size())\n",
        "\n",
        "  # Apply multi-hot encoding to the indices. The lambda function captures the\n",
        "  # layer, so you can use them, or include them in the Keras Functional model later.\n",
        "  return lambda feature: encoder(index(feature))\n",
        "\n",
        "all_inputs = []\n",
        "encoded_features = []\n",
        "\n",
        "# Numerical features.\n",
        "for header in dataframe.columns.tolist():\n",
        "  if dataframe[header].dtypes in ['float64', 'int64']:\n",
        "    numeric_col = tf.keras.Input(shape=(1,), name=header)\n",
        "    normalization_layer = get_normalization_layer(header, train_ds)\n",
        "    encoded_numeric_col = normalization_layer(numeric_col)\n",
        "    all_inputs.append(numeric_col)\n",
        "    encoded_features.append(encoded_numeric_col)\n",
        "\n",
        "# Сategorical features.\n",
        "categorical_cols = dataframe.columns.tolist()\n",
        "for header in categorical_cols:\n",
        "  if dataframe[col].dtypes == 'object':\n",
        "    categorical_col = tf.keras.Input(shape=(1,), name=header, dtype='string')\n",
        "    encoding_layer = get_category_encoding_layer(name=header,\n",
        "                                                dataset=train_ds,\n",
        "                                                dtype='string',\n",
        "                                                max_tokens=5)\n",
        "    encoded_categorical_col = encoding_layer(categorical_col)\n",
        "    all_inputs.append(categorical_col)\n",
        "    encoded_features.append(encoded_categorical_col)\n",
        "\n",
        "#all_features = tf.keras.layers.concatenate(encoded_features)\n",
        "#x = tf.keras.layers.Dense(32, activation=\"relu\")(all_features)\n",
        "#x = tf.keras.layers.Dropout(0.5)(x)\n",
        "#output = tf.keras.layers.Dense(1)(x)\n",
        "\n",
        "#model = tf.keras.Model(all_inputs, output)"
      ],
      "metadata": {
        "id": "0TW7ODsmPrkq"
      },
      "execution_count": null,
      "outputs": []
    },
    {
      "cell_type": "markdown",
      "source": [
        "# Слой feature_columns с размеченными призаками."
      ],
      "metadata": {
        "id": "fwtTK_F7Of7x"
      }
    },
    {
      "cell_type": "markdown",
      "source": [
        "Теперь создадим список уникальных значений. Эти материалы мы используем позже, создавая и извлекая эмбеддинги."
      ],
      "metadata": {
        "id": "suZTESffTY0K"
      }
    },
    {
      "cell_type": "code",
      "source": [
        "feature_columns = []\n",
        "# передаём модели числовые признаки:\n",
        "for col in dataframe.drop('target', axis=1).columns.tolist():\n",
        "  if dataframe[col].dtypes in ['float64', 'int64']:\n",
        "    feature_columns.append(tf.feature_column.numeric_column(col))\n",
        "\n",
        "# передаём модели категориальные признаки:\n",
        "for col in dataframe.loc[:,dataframe.dtypes == 'object'].columns.tolist():\n",
        "  # группировка. создаём список уникальных значений признака\n",
        "  unique_list = X_train[col].unique()\n",
        "  # создаём категориальный столбец с использованием ранее созданного списка:\n",
        "  cat_col = tf.feature_column.categorical_column_with_vocabulary_list(\n",
        "    col, unique_list)\n",
        "  # Далее работаем с будущими эмбеддингами. Cтолбцы векторных представлений\n",
        "  if len(dataframe[col].unique()) > 5:\n",
        "    # dimension - количество признаков из эмбеддинга. Обычно это 4 степень корня от числа уникальных призаков\n",
        "    dimension = round(len(dataframe[col].unique())**0.25)\n",
        "    # создаём эмбеддинг из категориального столбца:\n",
        "    cat_emb = tf.feature_column.embedding_column(cat_col,dimension=dimension)\n",
        "    # добавляем эмбеддинг в список столбцов признаков:\n",
        "    feature_columns.append(cat_emb)\n",
        "  else:\n",
        "    # представление строк в виде one-hot для простого категориального признака\n",
        "    cat_col = feature_column.indicator_column(cat_col)\n",
        "    # добавляем категориальный признак в список столбцов признаков:\n",
        "    feature_columns.append(cat_col)\n"
      ],
      "metadata": {
        "id": "e7wMnhcDUoWb"
      },
      "execution_count": 162,
      "outputs": []
    },
    {
      "cell_type": "markdown",
      "source": [
        "**Числовой столбец (numeric column)** простейший вид столбца. Он используется для представления числовых признаков. При использовании этого столбца модель получает столбец значений из датафрейма без изменений.\n",
        "\n",
        "**Категориальные столбцы (categorical columns)**\n",
        "Мы не можем передать строки напрямую в модель. Вместо этого мы должны сперва поставить им в соответствие численные значения. Словарь категориальных столбцов (categorical vocabulary columns) обеспечивает способ представления строк в виде one-hot векторов. Справочник может быть передан как список с использованием categorical_column_with_vocabulary_list, или загружен из файла с использованием categorical_column_with_vocabulary_file.\n",
        "\n",
        "**Столбцы векторных представлений (embedding column)**\n",
        "Предположим, что вместо нескольких возможных строковых значений мы имеем тысячи и более значений для категорий. По ряду причин когда число категорий сильно вырастает, становится невозможным обучение нейронной сети с использованием one-hot кодирования. Мы можем использовать столбец векторных представлений для преодоления этого ограничения. Вместо представления данных в виде многомерных one-hot векторов столбец векторных представлений представляет эти данные в виде плотных векторов меньшей размерности, в которых в каждой ячейке может содержаться любое число, а не только О или 1.\n",
        "\n",
        "Ключевой момент: использование столбца векторных представлений лучше всего, когда у категориального столбца много возможных значений. Здесь мы используем его только для демонстрационных целей, чтобы у вас был полный пример, который можно использовать в будущем для другого набора данных."
      ],
      "metadata": {
        "id": "-N0FZI_B0RFN"
      }
    },
    {
      "cell_type": "markdown",
      "source": [
        "## Создаем новые комбинированные признаки"
      ],
      "metadata": {
        "id": "TkB960xW-Z08"
      }
    },
    {
      "cell_type": "code",
      "source": [
        "# Новый признак. столбeц пересечения свойств.\n",
        "def new_feature(data_columns_list = dataframe.columns.tolist()):\n",
        "  с_columns = []\n",
        "  for col in dataframe.columns.tolist():\n",
        "    # num c\n",
        "    if dataframe[col].dtypes in ['float64', 'int64']:\n",
        "      num_cal = feature_column.bucketized_column(feature_column.numeric_column(col), \n",
        "                                                        boundaries=dataframe[col].sort_values().unique().tolist())\n",
        "      с_columns.append(num_cal)\n",
        "    # cat c\n",
        "    if dataframe[col].dtypes in ['object'] and len(dataframe[col].unique()) < 5:\n",
        "      cat_col = feature_column.categorical_column_with_vocabulary_list(\n",
        "            col, dataframe[col].unique().tolist())\n",
        "      с_columns.append(cat_col)\n",
        "\n",
        "  crossed_feature = feature_column.crossed_column(с_columns, hash_bucket_size=1000)\n",
        "  crossed_feature = feature_column.indicator_column(crossed_feature)\n",
        "  return crossed_feature\n",
        "\n",
        "#new_c_f = new_feature(dataframe.columns.tolist())\n",
        "#feature_columns.append(new_c_f)"
      ],
      "metadata": {
        "id": "9Q9S2eu12Ky3"
      },
      "execution_count": 163,
      "outputs": []
    },
    {
      "cell_type": "markdown",
      "source": [
        "**Пересеченные столбцы признаков (crossed feature columns)**\n",
        "Комбинирование признаков в один больше известное как пересечение признаков, позволяет модели изучать отдельные веча для каждой комбинации свойств. crossed_column не строит полную таблицу комбинаций значений признаков (которая может быть очень большой). Вместо этого он поддерживает hashed_column так что можно самому выбирать размер таблицы."
      ],
      "metadata": {
        "id": "T2R-CqDL8jHv"
      }
    },
    {
      "cell_type": "markdown",
      "source": [
        "# Обучение"
      ],
      "metadata": {
        "id": "bqoAiYVrOqO0"
      }
    },
    {
      "cell_type": "markdown",
      "source": [
        "Здесь главное правильно указать первый слой (наши признаки) и последний (количество классов в таргете). Но тк их всего два то можно указать единицу, что я и сделал. Все остальное завист от уровня знаний и предпочтений. Нужно экспериментировать"
      ],
      "metadata": {
        "id": "h1gqUMVfDJAv"
      }
    },
    {
      "cell_type": "code",
      "source": [
        "%%time\n",
        "model = Sequential() # создаем модель\n",
        "\n",
        "model.add(tf.keras.layers.DenseFeatures(feature_columns)) # входной. слой признаков\n",
        "model.add(Dense(128, activation='relu'))\n",
        "model.add(Dropout(0.4))                   # боремся с переобучением\n",
        "model.add(Dense(64, activation='relu'))\n",
        "model.add(BatchNormalization())           # боремся с переобучением\n",
        "model.add(Dense(32, activation='relu'))\n",
        "model.add(Dense(1, activation='sigmoid')) # выходной слой\n",
        "\n",
        "model.compile(optimizer='adam',\n",
        "              loss=tf.keras.losses.BinaryCrossentropy(from_logits=True),\n",
        "              metrics=['accuracy'])\n",
        "\n",
        "history = model.fit(train_ds,\n",
        "                        validation_data=val_ds,\n",
        "                        batch_size=50, \n",
        "                        epochs=10,\n",
        "                        validation_split=0.2,\n",
        "                        verbose=1)\n",
        "\n",
        "scores = model.evaluate(test_ds, verbose=1)\n"
      ],
      "metadata": {
        "id": "RFB8iK8EOuGk"
      },
      "execution_count": null,
      "outputs": []
    },
    {
      "cell_type": "markdown",
      "source": [
        "Обычно в нейронке бинарная задача решается с метрикой `accuracy`. Но как мы знаем, она плохо работает с несбаланированными классами. Буду думать, на что поменять"
      ],
      "metadata": {
        "id": "8b3h7AAsEJo-"
      }
    },
    {
      "cell_type": "code",
      "source": [
        "# Схема архитектуры. Пока не работает как нужно. Разбираюсь с этим\n",
        "# Use `rankdir='LR'` to make the graph horizontal.\n",
        "# tf.keras.utils.plot_model(model, show_shapes=True, rankdir=\"LR\")"
      ],
      "metadata": {
        "id": "e4gKWQQ0PoG5"
      },
      "execution_count": 165,
      "outputs": []
    },
    {
      "cell_type": "markdown",
      "source": [
        "# Тест"
      ],
      "metadata": {
        "id": "VE37mWnBOym_"
      }
    },
    {
      "cell_type": "code",
      "source": [
        "# Краткая сводка архитектуры модели\n",
        "display(model.summary())\n",
        "\n",
        "plt.figure(figsize=(10,3)) \n",
        "plt.plot(history.history['accuracy'], \n",
        "            label='Доля верных ответов на обучающем наборе')\n",
        "plt.plot(history.history['val_accuracy'], \n",
        "            label='Доля верных ответов на проверочном наборе')\n",
        "plt.xlabel('Эпоха обучения')\n",
        "plt.ylabel('Доля верных ответов')\n",
        "plt.legend()\n",
        "plt.show()\n",
        "\n",
        "plt.figure(figsize=(10,3)) \n",
        "plt.plot(history.history['loss'], \n",
        "            label='Ошибка на обучающем наборе')\n",
        "plt.plot(history.history['val_loss'], \n",
        "            label='Ошибка на проверочном наборе')\n",
        "plt.xlabel('Эпоха обучения')\n",
        "plt.ylabel('Ошибка')\n",
        "plt.legend()\n",
        "plt.show()\n",
        "\n",
        "# Вычисление результата (предсказания) сети на тестовом наборе\n",
        "print(f'Доля верных ответов на тестовых данных, в процентах: {round(scores[1],2)}')\n"
      ],
      "metadata": {
        "colab": {
          "base_uri": "https://localhost:8080/",
          "height": 1000
        },
        "id": "GV8JQ_AdnMF3",
        "outputId": "c1dfd543-1ce8-4883-c2fe-37bc09f245b2"
      },
      "execution_count": 171,
      "outputs": [
        {
          "output_type": "stream",
          "name": "stdout",
          "text": [
            "Model: \"sequential_12\"\n",
            "_________________________________________________________________\n",
            " Layer (type)                Output Shape              Param #   \n",
            "=================================================================\n",
            " dense_features_14 (DenseFea  multiple                 5412      \n",
            " tures)                                                          \n",
            "                                                                 \n",
            " dense_40 (Dense)            multiple                  6144      \n",
            "                                                                 \n",
            " dropout_10 (Dropout)        multiple                  0         \n",
            "                                                                 \n",
            " dense_41 (Dense)            multiple                  8256      \n",
            "                                                                 \n",
            " batch_normalization_10 (Bat  multiple                 256       \n",
            " chNormalization)                                                \n",
            "                                                                 \n",
            " dense_42 (Dense)            multiple                  2080      \n",
            "                                                                 \n",
            " dense_43 (Dense)            multiple                  33        \n",
            "                                                                 \n",
            "=================================================================\n",
            "Total params: 22,181\n",
            "Trainable params: 22,053\n",
            "Non-trainable params: 128\n",
            "_________________________________________________________________\n"
          ]
        },
        {
          "output_type": "display_data",
          "data": {
            "text/plain": [
              "None"
            ]
          },
          "metadata": {}
        },
        {
          "output_type": "display_data",
          "data": {
            "text/plain": [
              "<Figure size 1000x300 with 1 Axes>"
            ],
            "image/png": "[encoded data removed]"
          },
          "metadata": {}
        },
        {
          "output_type": "display_data",
          "data": {
            "text/plain": [
              "<Figure size 1000x300 with 1 Axes>"
            ],
            "image/png": "[encoded data removed]"
          },
          "metadata": {}
        },
        {
          "output_type": "stream",
          "name": "stdout",
          "text": [
            "Доля верных ответов на тестовых данных, в процентах: 0.95\n"
          ]
        }
      ]
    }
  ]
}
