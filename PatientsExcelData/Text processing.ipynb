{
 "cells": [
  {
   "cell_type": "markdown",
   "id": "fb68b97d",
   "metadata": {},
   "source": [
    "# Text Processing"
   ]
  },
  {
   "cell_type": "code",
   "execution_count": 2,
   "id": "c7d6e64e",
   "metadata": {},
   "outputs": [],
   "source": [
    "import numpy as np\n",
    "import pandas as pd\n",
    "from pymystem3 import Mystem\n",
    "import re\n",
    "import transformers\n",
    "import nltk\n",
    "from tqdm import notebook\n",
    "import torch\n",
    "from nltk.corpus import stopwords as nltk_stopwords\n",
    "from sklearn.feature_extraction.text import TfidfVectorizer\n",
    "from dateutil.parser import parse\n",
    "from catboost import CatBoostClassifier, Pool, cv\n",
    "from sklearn.metrics import f1_score\n",
    "from sklearn.model_selection import train_test_split\n",
    "from sklearn.model_selection import cross_val_score\n",
    "from sklearn.preprocessing import OneHotEncoder\n",
    "from sklearn.ensemble import RandomForestClassifier\n",
    "from sklearn.dummy import DummyClassifier\n",
    "from sklearn.tree import DecisionTreeClassifier\n",
    "from sklearn.metrics import classification_report\n",
    "from transformers import AutoTokenizer, AutoModelForMaskedLM"
   ]
  },
  {
   "cell_type": "markdown",
   "id": "05f4383d",
   "metadata": {},
   "source": [
    "## Данные"
   ]
  },
  {
   "cell_type": "code",
   "execution_count": 2,
   "id": "ab46461a",
   "metadata": {},
   "outputs": [],
   "source": [
    "file_path = 'chd — 100.xlsx'"
   ]
  },
  {
   "cell_type": "code",
   "execution_count": 3,
   "id": "7f40fba1",
   "metadata": {},
   "outputs": [
    {
     "data": {
      "text/html": [
       "<div>\n",
       "<style scoped>\n",
       "    .dataframe tbody tr th:only-of-type {\n",
       "        vertical-align: middle;\n",
       "    }\n",
       "\n",
       "    .dataframe tbody tr th {\n",
       "        vertical-align: top;\n",
       "    }\n",
       "\n",
       "    .dataframe thead th {\n",
       "        text-align: right;\n",
       "    }\n",
       "</style>\n",
       "<table border=\"1\" class=\"dataframe\">\n",
       "  <thead>\n",
       "    <tr style=\"text-align: right;\">\n",
       "      <th></th>\n",
       "      <th>admittion</th>\n",
       "      <th>department</th>\n",
       "      <th>discharge</th>\n",
       "      <th>sex</th>\n",
       "      <th>height</th>\n",
       "      <th>weight</th>\n",
       "      <th>BMI</th>\n",
       "      <th>BSA</th>\n",
       "      <th>birth</th>\n",
       "      <th>Операции (все в ИБ)</th>\n",
       "      <th>...</th>\n",
       "      <th>Количество выб. из ОРИТ</th>\n",
       "      <th>К.дней в ОРИТ (всего)</th>\n",
       "      <th>ИВЛ, час. в ОРИТ (суммарно)</th>\n",
       "      <th>Инф. осложнения в ОРИТ</th>\n",
       "      <th>Назн. преп. в ОРИТ</th>\n",
       "      <th>target</th>\n",
       "      <th>Непосред. причина смерти</th>\n",
       "      <th>ЭхоКГ (Из Эпикр. вып.)</th>\n",
       "      <th>ЭКГ (Из Эпикр. вып.)</th>\n",
       "      <th>Назначения при выписке</th>\n",
       "    </tr>\n",
       "  </thead>\n",
       "  <tbody>\n",
       "    <tr>\n",
       "      <th>0</th>\n",
       "      <td>2016-12-12</td>\n",
       "      <td>ehn</td>\n",
       "      <td>2017-01-10</td>\n",
       "      <td>m</td>\n",
       "      <td>76</td>\n",
       "      <td>9.7</td>\n",
       "      <td>111.27</td>\n",
       "      <td>0.46</td>\n",
       "      <td>02.01.2016</td>\n",
       "      <td>12.12.2016: (Откр./ИК) Перевязка ранее наложен...</td>\n",
       "      <td>...</td>\n",
       "      <td>2</td>\n",
       "      <td>20</td>\n",
       "      <td>252</td>\n",
       "      <td>01.01.2017: пневмония</td>\n",
       "      <td>Адреналина г\\хл 0,1% 1мл №5; Аксетин 750мг №10...</td>\n",
       "      <td>recovery</td>\n",
       "      <td>NaN</td>\n",
       "      <td>ЭхоКГ ВПС (02.12.2016 14:37:22, врач Неталиева...</td>\n",
       "      <td>ЭКГ (02.12.2016 16:43:25)\\nРитм сердца синусов...</td>\n",
       "      <td></td>\n",
       "    </tr>\n",
       "  </tbody>\n",
       "</table>\n",
       "<p>1 rows × 43 columns</p>\n",
       "</div>"
      ],
      "text/plain": [
       "   admittion department  discharge sex  height  weight     BMI   BSA  \\\n",
       "0 2016-12-12        ehn 2017-01-10   m      76     9.7  111.27  0.46   \n",
       "\n",
       "        birth                                Операции (все в ИБ)  ...  \\\n",
       "0  02.01.2016  12.12.2016: (Откр./ИК) Перевязка ранее наложен...  ...   \n",
       "\n",
       "  Количество выб. из ОРИТ К.дней в ОРИТ (всего) ИВЛ, час. в ОРИТ (суммарно)  \\\n",
       "0                       2                    20                         252   \n",
       "\n",
       "  Инф. осложнения в ОРИТ                                 Назн. преп. в ОРИТ  \\\n",
       "0  01.01.2017: пневмония  Адреналина г\\хл 0,1% 1мл №5; Аксетин 750мг №10...   \n",
       "\n",
       "     target Непосред. причина смерти   \\\n",
       "0  recovery                       NaN   \n",
       "\n",
       "                              ЭхоКГ (Из Эпикр. вып.)  \\\n",
       "0  ЭхоКГ ВПС (02.12.2016 14:37:22, врач Неталиева...   \n",
       "\n",
       "                                ЭКГ (Из Эпикр. вып.) Назначения при выписке  \n",
       "0  ЭКГ (02.12.2016 16:43:25)\\nРитм сердца синусов...                         \n",
       "\n",
       "[1 rows x 43 columns]"
      ]
     },
     "execution_count": 3,
     "metadata": {},
     "output_type": "execute_result"
    }
   ],
   "source": [
    "data = pd.read_excel(file_path)\n",
    "data.head(1)"
   ]
  },
  {
   "cell_type": "code",
   "execution_count": 4,
   "id": "368b2aae",
   "metadata": {
    "scrolled": false
   },
   "outputs": [
    {
     "name": "stdout",
     "output_type": "stream",
     "text": [
      "<class 'pandas.core.frame.DataFrame'>\n",
      "RangeIndex: 99 entries, 0 to 98\n",
      "Data columns (total 43 columns):\n",
      " #   Column                                           Non-Null Count  Dtype         \n",
      "---  ------                                           --------------  -----         \n",
      " 0   admittion                                        99 non-null     datetime64[ns]\n",
      " 1   department                                       99 non-null     object        \n",
      " 2   discharge                                        99 non-null     datetime64[ns]\n",
      " 3   sex                                              99 non-null     object        \n",
      " 4   height                                           99 non-null     int64         \n",
      " 5   weight                                           99 non-null     float64       \n",
      " 6   BMI                                              99 non-null     float64       \n",
      " 7   BSA                                              99 non-null     float64       \n",
      " 8   birth                                            99 non-null     object        \n",
      " 9   Операции (все в ИБ)                              99 non-null     object        \n",
      " 10  Перенесенные опер. (из Анамн.)                   99 non-null     object        \n",
      " 11  Диагноз                                          99 non-null     object        \n",
      " 12  МКБ                                              99 non-null     object        \n",
      " 13  Соп. забол. (из Анамн.)                          99 non-null     object        \n",
      " 14  Медикам. леч. по поводу осн. забол. (из Анамн.)  87 non-null     object        \n",
      " 15  Принимаемые препараты (из Анамн.)                66 non-null     object        \n",
      " 16  ЭхоКГ (Из Эпикр. до опер.)                       96 non-null     object        \n",
      " 17  ЭКГ (Из Эпикр. до опер.)                         93 non-null     object        \n",
      " 18  АКГ (Из Эпикр. до опер.)                         51 non-null     object        \n",
      " 19  КТ (Из Эпикр. до опер.)                          14 non-null     object        \n",
      " 20  Операция (основная / первая в ИБ)                99 non-null     object        \n",
      " 21  Дата опер.                                       99 non-null     object        \n",
      " 22  Тип опер.                                        99 non-null     object        \n",
      " 23  Протокол                                         98 non-null     object        \n",
      " 24  Время ИК, мин.                                   99 non-null     object        \n",
      " 25  Время ПерАо, мин.                                55 non-null     float64       \n",
      " 26  Осложнения опер.                                 0 non-null      float64       \n",
      " 27  Смерть на опер. столе                            1 non-null      object        \n",
      " 28  Хирургические ман.                               22 non-null     object        \n",
      " 29  Поступил в ОРИТ                                  99 non-null     object        \n",
      " 30  Выбыл из ОРИТ                                    99 non-null     object        \n",
      " 31  Умер в ОРИТ                                      99 non-null     object        \n",
      " 32  Количество пост. в ОРИТ                          99 non-null     int64         \n",
      " 33  Количество выб. из ОРИТ                          99 non-null     int64         \n",
      " 34  К.дней в ОРИТ (всего)                            99 non-null     int64         \n",
      " 35  ИВЛ, час. в ОРИТ (суммарно)                      99 non-null     int64         \n",
      " 36  Инф. осложнения в ОРИТ                           70 non-null     object        \n",
      " 37  Назн. преп. в ОРИТ                               83 non-null     object        \n",
      " 38  target                                           99 non-null     object        \n",
      " 39  Непосред. причина смерти                         5 non-null      object        \n",
      " 40  ЭхоКГ (Из Эпикр. вып.)                           97 non-null     object        \n",
      " 41  ЭКГ (Из Эпикр. вып.)                             91 non-null     object        \n",
      " 42  Назначения при выписке                           99 non-null     object        \n",
      "dtypes: datetime64[ns](2), float64(5), int64(5), object(31)\n",
      "memory usage: 33.4+ KB\n"
     ]
    }
   ],
   "source": [
    "data.info()"
   ]
  },
  {
   "cell_type": "code",
   "execution_count": 5,
   "id": "6a867e50",
   "metadata": {},
   "outputs": [
    {
     "data": {
      "text/plain": [
       "target\n",
       "death         5\n",
       "no change     2\n",
       "recovery     91\n",
       "unrnown       1\n",
       "Name: target, dtype: int64"
      ]
     },
     "execution_count": 5,
     "metadata": {},
     "output_type": "execute_result"
    }
   ],
   "source": [
    "data.groupby('target')['target'].count()"
   ]
  },
  {
   "cell_type": "markdown",
   "id": "783affa6",
   "metadata": {},
   "source": [
    "Выкинем unkown, т.к. он всего один и для теста не нужен"
   ]
  },
  {
   "cell_type": "code",
   "execution_count": 6,
   "id": "bc044fe8",
   "metadata": {},
   "outputs": [],
   "source": [
    "data = data[data['target'] != 'unrnown']"
   ]
  },
  {
   "cell_type": "markdown",
   "id": "9d4e23d4",
   "metadata": {},
   "source": [
    "Избавимся от дисбаланса классов оверсэмплингом и андерсэмплингом. Сразу выделим тестовую выборку"
   ]
  },
  {
   "cell_type": "code",
   "execution_count": 92,
   "id": "5a37306c",
   "metadata": {},
   "outputs": [
    {
     "data": {
      "text/plain": [
       "array(['death', 'no change', 'recovery'], dtype=object)"
      ]
     },
     "execution_count": 92,
     "metadata": {},
     "output_type": "execute_result"
    }
   ],
   "source": [
    "test_data = data[data['target'] == 'death'].head(2)\n",
    "test_data = pd.concat([test_data, data[data['target'] == 'no change'].head(1)])\n",
    "test_data = pd.concat([test_data, data[data['target'] == 'recovery'].head(10)])\n",
    "test_data['target'].unique()"
   ]
  },
  {
   "cell_type": "code",
   "execution_count": 93,
   "id": "803a51fa",
   "metadata": {},
   "outputs": [
    {
     "data": {
      "text/plain": [
       "array(['death', 'no change', 'recovery'], dtype=object)"
      ]
     },
     "execution_count": 93,
     "metadata": {},
     "output_type": "execute_result"
    }
   ],
   "source": [
    "train_data = data[data['target'] == 'death'].tail(3)\n",
    "train_data = pd.concat([train_data, data[data['target'] == 'no change'].tail(1)])\n",
    "train_data = pd.concat([train_data, data[data['target'] == 'recovery'].tail(81)])\n",
    "train_data['target'].unique()"
   ]
  },
  {
   "cell_type": "code",
   "execution_count": 94,
   "id": "a47e7c6e",
   "metadata": {},
   "outputs": [
    {
     "data": {
      "text/plain": [
       "recovery     50\n",
       "no change    25\n",
       "death        25\n",
       "Name: target, dtype: int64"
      ]
     },
     "execution_count": 94,
     "metadata": {},
     "output_type": "execute_result"
    }
   ],
   "source": [
    "c1 = train_data[train_data['target'] == 'death']\n",
    "c2 = train_data[train_data['target'] == 'no change']\n",
    "c3 = train_data[train_data['target'] == 'recovery']\n",
    "\n",
    "train_data = pd.concat([c3.sample(50), c2.sample(25, replace=True), c1.sample(25, replace=True)]).reset_index()\n",
    "train_data['target'].value_counts()"
   ]
  },
  {
   "cell_type": "markdown",
   "id": "89ef7eef",
   "metadata": {},
   "source": [
    "Для теста возьмем только один столбец - диагноз"
   ]
  },
  {
   "cell_type": "code",
   "execution_count": 95,
   "id": "b955f94c",
   "metadata": {},
   "outputs": [],
   "source": [
    "diagnosis = train_data['Диагноз']"
   ]
  },
  {
   "cell_type": "code",
   "execution_count": 96,
   "id": "f6a62188",
   "metadata": {},
   "outputs": [
    {
     "data": {
      "text/plain": [
       "'Тетрада Фалло; Комбинированый стеноз легочной артерии; Открытое овальное окно; Операция 16.09.2016 наложение модифицированного подключично-легочного анастомоза по Blalock слева c синтетическим протезом из PTFE; Операция 13.04.2017 перевязка ранее наложенного анастомоза по Blalock c синтетическим протезом слева; радикальная коррекция тетрады Фалло с пластикой выводного отдела правого желудочка и ствола легочной артерии ксеноперикардиальной заплатой'"
      ]
     },
     "execution_count": 96,
     "metadata": {},
     "output_type": "execute_result"
    }
   ],
   "source": [
    "diagnosis[1]"
   ]
  },
  {
   "cell_type": "markdown",
   "id": "130c87a3",
   "metadata": {},
   "source": [
    "## Пример применения TF-IDF на столбце \"Диагноз\""
   ]
  },
  {
   "cell_type": "markdown",
   "id": "7efa21ae",
   "metadata": {},
   "source": [
    "### Гипотетический способ отчистки конкретных элементов текста (например даты)"
   ]
  },
  {
   "cell_type": "code",
   "execution_count": 63,
   "id": "6f424acc",
   "metadata": {},
   "outputs": [],
   "source": [
    "nDAY = r'(?:[0-3]?\\d)'\n",
    "nMNTH = r'(?:11|12|10|0?[1-9])' \n",
    "nYR = r'(?:(?:19|20)\\d\\d)'\n",
    "nDELIM = r'(?:[\\/\\-\\._])?'"
   ]
  },
  {
   "cell_type": "code",
   "execution_count": 64,
   "id": "29ba7e2e",
   "metadata": {},
   "outputs": [
    {
     "data": {
      "text/plain": [
       "'Атрезия легочной артерии 1 тип ; Перимембранозный приточный дефект межжелудочковой перегороки (некоммитированный); Открытое овальное окно. Стеноз устья левой легочной артерии, умеренная гипоплазия левой легочной артерии; Дискордантное отхождение аорты от правого желудочка; Состояние после операции ( ) наложение модифицированного подключично-легочного анастомоза по Blalock справа; Большая аорто-легочная коллатеральная артерия к правому легкому; Операция ( ) перевязка ранее наложенного анастомоза по Blalock справа; реконструкция путей оттока из правого желудочка кондуитом из яремной вены быка, в условиях ИК и гипотермии; Недостаточность кровообращения 2-б степени'"
      ]
     },
     "execution_count": 64,
     "metadata": {},
     "output_type": "execute_result"
    }
   ],
   "source": [
    "re.sub(f'(?:{nDAY}{nDELIM}{nMNTH}{nDELIM}{nYR})', ' ', diagnosis[1])"
   ]
  },
  {
   "cell_type": "markdown",
   "id": "64ba3560",
   "metadata": {},
   "source": [
    "### Лемментизация"
   ]
  },
  {
   "cell_type": "code",
   "execution_count": 16,
   "id": "9d674877",
   "metadata": {},
   "outputs": [],
   "source": [
    "m = Mystem()\n",
    "\n",
    "# Леммантизирует текст\n",
    "def lemmatize(text):\n",
    "    return \"\".join(m.lemmatize(text))"
   ]
  },
  {
   "cell_type": "code",
   "execution_count": 17,
   "id": "24df0709",
   "metadata": {},
   "outputs": [
    {
     "data": {
      "text/plain": [
       "'общий открытый атриовентрикулярный канал тип а по растелль. дефект межпредсердный перегородка вторичный. недостаточность митральный компонент 2 степень. недостаточность трикуспидальный компонент 2-3 степень; аномальный мышца в полость правый желудочек. состояние после операция от от 06.10.2016. манжет на легочный артерия. НК 2А-1 степень; операция 19.05.2017 г. атриовентрикулярный блокада 1 степень. миграция водитель ритм по предсердие. НК 1 степень\\n'"
      ]
     },
     "execution_count": 17,
     "metadata": {},
     "output_type": "execute_result"
    }
   ],
   "source": [
    "lemmatize(diagnosis[1])"
   ]
  },
  {
   "cell_type": "markdown",
   "id": "f9c84bf8",
   "metadata": {},
   "source": [
    "### Отчистка текста"
   ]
  },
  {
   "cell_type": "code",
   "execution_count": 18,
   "id": "ff999cfa",
   "metadata": {},
   "outputs": [],
   "source": [
    "# Чистит текст от всего, кроме русских и английских букв\n",
    "def clear_text(text):\n",
    "    cleaned = re.sub(r'[^а-яА-Яa-zA-ZёЁ ]', ' ', text)\n",
    "    cleaned = cleaned.split()\n",
    "    return ' '.join(cleaned)"
   ]
  },
  {
   "cell_type": "code",
   "execution_count": 19,
   "id": "c06ce7d6",
   "metadata": {},
   "outputs": [
    {
     "data": {
      "text/plain": [
       "'общий открытый атриовентрикулярный канал тип а по растелль дефект межпредсердный перегородка вторичный недостаточность митральный компонент степень недостаточность трикуспидальный компонент степень аномальный мышца в полость правый желудочек состояние после операция от от манжет на легочный артерия НК А степень операция г атриовентрикулярный блокада степень миграция водитель ритм по предсердие НК степень'"
      ]
     },
     "execution_count": 19,
     "metadata": {},
     "output_type": "execute_result"
    }
   ],
   "source": [
    "clear_text(lemmatize(diagnosis[1]))"
   ]
  },
  {
   "cell_type": "markdown",
   "id": "7913144b",
   "metadata": {},
   "source": [
    "### TF-IDF"
   ]
  },
  {
   "cell_type": "code",
   "execution_count": 20,
   "id": "13f5a9d5",
   "metadata": {
    "scrolled": true
   },
   "outputs": [
    {
     "name": "stderr",
     "output_type": "stream",
     "text": [
      "[nltk_data] Downloading package stopwords to\n",
      "[nltk_data]     C:\\Users\\Стивен\\AppData\\Roaming\\nltk_data...\n",
      "[nltk_data]   Package stopwords is already up-to-date!\n"
     ]
    },
    {
     "data": {
      "text/plain": [
       "True"
      ]
     },
     "execution_count": 20,
     "metadata": {},
     "output_type": "execute_result"
    }
   ],
   "source": [
    "nltk.download('stopwords')"
   ]
  },
  {
   "cell_type": "code",
   "execution_count": 97,
   "id": "21b48a6c",
   "metadata": {},
   "outputs": [],
   "source": [
    "stopwords = set(nltk_stopwords.words('russian'))"
   ]
  },
  {
   "cell_type": "code",
   "execution_count": 98,
   "id": "2d019d7f",
   "metadata": {},
   "outputs": [
    {
     "name": "stdout",
     "output_type": "stream",
     "text": [
      "CPU times: total: 188 ms\n",
      "Wall time: 1min 17s\n"
     ]
    }
   ],
   "source": [
    "%%time\n",
    "\n",
    "corpus = diagnosis.apply(lambda x: clear_text(lemmatize(x)))"
   ]
  },
  {
   "cell_type": "code",
   "execution_count": 99,
   "id": "f9813137",
   "metadata": {},
   "outputs": [
    {
     "name": "stdout",
     "output_type": "stream",
     "text": [
      "CPU times: total: 0 ns\n",
      "Wall time: 10.2 s\n"
     ]
    }
   ],
   "source": [
    "%%time\n",
    "\n",
    "corpus_test = test_data['Диагноз'].apply(lambda x: clear_text(lemmatize(x)))"
   ]
  },
  {
   "cell_type": "code",
   "execution_count": 110,
   "id": "84065fd0",
   "metadata": {},
   "outputs": [],
   "source": [
    "tf_idf = TfidfVectorizer(stop_words=stopwords).fit(corpus)"
   ]
  },
  {
   "cell_type": "code",
   "execution_count": 111,
   "id": "d4b51be2",
   "metadata": {},
   "outputs": [],
   "source": [
    "tf_idf_train = tf_idf.transform(corpus)\n",
    "tf_idf_test = tf_idf.transform(corpus_test)"
   ]
  },
  {
   "cell_type": "code",
   "execution_count": 113,
   "id": "c7379ba8",
   "metadata": {},
   "outputs": [
    {
     "data": {
      "text/plain": [
       "(100, 364)"
      ]
     },
     "execution_count": 113,
     "metadata": {},
     "output_type": "execute_result"
    }
   ],
   "source": [
    "tf_idf_train.toarray().shape"
   ]
  },
  {
   "cell_type": "code",
   "execution_count": 114,
   "id": "68a645d7",
   "metadata": {},
   "outputs": [
    {
     "data": {
      "text/plain": [
       "(13, 364)"
      ]
     },
     "execution_count": 114,
     "metadata": {},
     "output_type": "execute_result"
    }
   ],
   "source": [
    "tf_idf_test.toarray().shape"
   ]
  },
  {
   "cell_type": "markdown",
   "id": "6811e832",
   "metadata": {},
   "source": [
    "## RuBert"
   ]
  },
  {
   "cell_type": "code",
   "execution_count": 125,
   "id": "ea9c0ce5",
   "metadata": {},
   "outputs": [
    {
     "data": {
      "application/vnd.jupyter.widget-view+json": {
       "model_id": "8c507d3dba2344bdae623dc70d035fe6",
       "version_major": 2,
       "version_minor": 0
      },
      "text/plain": [
       "Downloading:   0%|          | 0.00/683M [00:00<?, ?B/s]"
      ]
     },
     "metadata": {},
     "output_type": "display_data"
    },
    {
     "name": "stderr",
     "output_type": "stream",
     "text": [
      "Some weights of the model checkpoint at sberbank-ai/ruBert-base were not used when initializing BertForMaskedLM: ['cls.seq_relationship.bias', 'cls.seq_relationship.weight']\n",
      "- This IS expected if you are initializing BertForMaskedLM from the checkpoint of a model trained on another task or with another architecture (e.g. initializing a BertForSequenceClassification model from a BertForPreTraining model).\n",
      "- This IS NOT expected if you are initializing BertForMaskedLM from the checkpoint of a model that you expect to be exactly identical (initializing a BertForSequenceClassification model from a BertForSequenceClassification model).\n"
     ]
    }
   ],
   "source": [
    "tokenizer = AutoTokenizer.from_pretrained(\"sberbank-ai/ruBert-base\")\n",
    "\n",
    "model = AutoModelForMaskedLM.from_pretrained(\"sberbank-ai/ruBert-base\")"
   ]
  },
  {
   "cell_type": "code",
   "execution_count": 126,
   "id": "e75be1a7",
   "metadata": {},
   "outputs": [],
   "source": [
    "tokenized = corpus.apply(lambda x: tokenizer.encode(x, add_special_tokens=True))"
   ]
  },
  {
   "cell_type": "code",
   "execution_count": 135,
   "id": "7dfb35ce",
   "metadata": {},
   "outputs": [
    {
     "data": {
      "text/plain": [
       "194"
      ]
     },
     "execution_count": 135,
     "metadata": {},
     "output_type": "execute_result"
    }
   ],
   "source": [
    "max_len = 0\n",
    "for i in tokenized.values:\n",
    "    if len(i) > max_len:\n",
    "        max_len = len(i)\n",
    "max_len"
   ]
  },
  {
   "cell_type": "code",
   "execution_count": 138,
   "id": "e5b0763f",
   "metadata": {},
   "outputs": [
    {
     "data": {
      "text/plain": [
       "array([   101,    116,   2991,  74639, 113404,    666,    107,  30545,\n",
       "        12866,    378,  31338,    390,   1996,  89679,  20900,    378,\n",
       "        71738,   5635,  62761,    701,  10429,    391,    378,  39381,\n",
       "          657,   3526,  91552,    378,  73147,    667,    378,  36986,\n",
       "          396,  30545,  12866,    378,  31338,    390,  61896,  52065,\n",
       "         6056,  91706,  20900,    378,  73147,  11894, 113404,  91645,\n",
       "         1277,  12866,    378,  22389,   2154,  20900,    378,  31338,\n",
       "          390,    700,  80548,    755,    378, 113404,    666,    114,\n",
       "         4984,   2160,  12020,   5762,    934,  11803,  45165,   9309,\n",
       "        41156,    667,    378,  30545,  12866,    378,   3904,   2968,\n",
       "         4211,  13474,    108,    385,    106,  11894,  99540,    667,\n",
       "          378,  31338,    922,    667,    378,  31053,  69367,   5917,\n",
       "        11803,  71738,   5635,   8838,   3624,  33988,    378,  39381,\n",
       "          657,  83047,    660,  30545,  12866,    378,  31338,    390,\n",
       "          108,    385,    106,  11894,  31338,    922,    667,    378,\n",
       "        31053,  69367,   5917,    102,      0,      0,      0,      0,\n",
       "            0,      0,      0,      0,      0,      0,      0,      0,\n",
       "            0,      0,      0,      0,      0,      0,      0,      0,\n",
       "            0,      0,      0,      0,      0,      0,      0,      0,\n",
       "            0,      0,      0,      0,      0,      0,      0,      0,\n",
       "            0,      0,      0,      0,      0,      0,      0,      0,\n",
       "            0,      0,      0,      0,      0,      0,      0,      0,\n",
       "            0,      0,      0,      0,      0,      0,      0,      0,\n",
       "            0,      0,      0,      0,      0,      0,      0,      0,\n",
       "            0,      0])"
      ]
     },
     "execution_count": 138,
     "metadata": {},
     "output_type": "execute_result"
    }
   ],
   "source": [
    "padded = np.array([i + [0] * (max_len - len(i)) for i in tokenized.values])\n",
    "\n",
    "attention_mask = np.where(padded != 0, 1, 0)\n",
    "padded[0]"
   ]
  },
  {
   "cell_type": "code",
   "execution_count": 149,
   "id": "e4249dd8",
   "metadata": {},
   "outputs": [
    {
     "data": {
      "application/vnd.jupyter.widget-view+json": {
       "model_id": "ef4426063f324cd19c7e69baf9d1507c",
       "version_major": 2,
       "version_minor": 0
      },
      "text/plain": [
       "  0%|          | 0/10 [00:00<?, ?it/s]"
      ]
     },
     "metadata": {},
     "output_type": "display_data"
    },
    {
     "name": "stdout",
     "output_type": "stream",
     "text": [
      "Stage 0\n",
      "Stage 1\n",
      "Stage 2\n",
      "Stage 3\n",
      "Stage 4\n",
      "Stage 5\n",
      "Stage 6\n",
      "Stage 7\n",
      "Stage 8\n",
      "Stage 9\n"
     ]
    }
   ],
   "source": [
    "batch_size = 10\n",
    "embeddings = []\n",
    "for i in notebook.tqdm(range(padded.shape[0] // batch_size)):\n",
    "    batch = torch.LongTensor(padded[batch_size*i:batch_size*(i+1)])\n",
    "    attention_mask_batch = torch.LongTensor(attention_mask[batch_size*i:batch_size*(i+1)])\n",
    "    \n",
    "    print(f'Stage {i}')\n",
    "    with torch.no_grad():\n",
    "        batch_embeddings = model(batch, attention_mask=attention_mask_batch)\n",
    "    \n",
    "    embeddings.append(batch_embeddings[0][:,0,:].numpy())"
   ]
  },
  {
   "cell_type": "code",
   "execution_count": 151,
   "id": "4a4c910f",
   "metadata": {},
   "outputs": [],
   "source": [
    "features = np.concatenate(embeddings)"
   ]
  },
  {
   "cell_type": "code",
   "execution_count": 154,
   "id": "5afb983e",
   "metadata": {},
   "outputs": [
    {
     "data": {
      "text/plain": [
       "(100, 120138)"
      ]
     },
     "execution_count": 154,
     "metadata": {},
     "output_type": "execute_result"
    }
   ],
   "source": [
    "features.shape"
   ]
  },
  {
   "cell_type": "markdown",
   "id": "ea3684a9",
   "metadata": {},
   "source": [
    "Получилось 120000 признаков. **Надо использовать маленькую библиотеку слов, желательно из медицинских терминов.**"
   ]
  },
  {
   "cell_type": "markdown",
   "id": "e99d00ec",
   "metadata": {},
   "source": [
    "## Тест модели"
   ]
  },
  {
   "cell_type": "code",
   "execution_count": 155,
   "id": "124629a0",
   "metadata": {},
   "outputs": [],
   "source": [
    "X, y = features, data['target']"
   ]
  },
  {
   "cell_type": "code",
   "execution_count": 1,
   "id": "09e7ee1e",
   "metadata": {},
   "outputs": [
    {
     "ename": "NameError",
     "evalue": "name 'pd' is not defined",
     "output_type": "error",
     "traceback": [
      "\u001b[1;31m---------------------------------------------------------------------------\u001b[0m",
      "\u001b[1;31mNameError\u001b[0m                                 Traceback (most recent call last)",
      "Cell \u001b[1;32mIn [1], line 1\u001b[0m\n\u001b[1;32m----> 1\u001b[0m X_train, X_test, y_train, y_test \u001b[38;5;241m=\u001b[39m (\u001b[43mpd\u001b[49m\u001b[38;5;241m.\u001b[39mDataFrame(tf_idf_train\u001b[38;5;241m.\u001b[39mtoarray()),\n\u001b[0;32m      2\u001b[0m                                     pd\u001b[38;5;241m.\u001b[39mDataFrame(tf_idf_test\u001b[38;5;241m.\u001b[39mtoarray()),\n\u001b[0;32m      3\u001b[0m                                     train_data[\u001b[38;5;124m'\u001b[39m\u001b[38;5;124mtarget\u001b[39m\u001b[38;5;124m'\u001b[39m],\n\u001b[0;32m      4\u001b[0m                                     test_data[\u001b[38;5;124m'\u001b[39m\u001b[38;5;124mtarget\u001b[39m\u001b[38;5;124m'\u001b[39m]\n\u001b[0;32m      5\u001b[0m                                    )\n",
      "\u001b[1;31mNameError\u001b[0m: name 'pd' is not defined"
     ]
    }
   ],
   "source": [
    "X_train, X_test, y_train, y_test = (pd.DataFrame(tf_idf_train.toarray()),\n",
    "                                    pd.DataFrame(tf_idf_test.toarray()),\n",
    "                                    train_data['target'],\n",
    "                                    test_data['target']\n",
    "                                   )"
   ]
  },
  {
   "cell_type": "code",
   "execution_count": 156,
   "id": "859f4264",
   "metadata": {},
   "outputs": [
    {
     "name": "stdout",
     "output_type": "stream",
     "text": [
      "Learning rate set to 0.103116\n",
      "0:\tlearn: 0.9795262\ttest: 1.0289566\tbest: 1.0289566 (0)\ttotal: 3.57ms\tremaining: 3.57s\n",
      "100:\tlearn: 0.0218449\ttest: 0.9338064\tbest: 0.7276733 (21)\ttotal: 299ms\tremaining: 2.66s\n",
      "200:\tlearn: 0.0098701\ttest: 1.0450191\tbest: 0.7276733 (21)\ttotal: 613ms\tremaining: 2.44s\n",
      "300:\tlearn: 0.0065405\ttest: 1.1114453\tbest: 0.7276733 (21)\ttotal: 917ms\tremaining: 2.13s\n",
      "400:\tlearn: 0.0048288\ttest: 1.1654236\tbest: 0.7276733 (21)\ttotal: 1.24s\tremaining: 1.85s\n",
      "500:\tlearn: 0.0038256\ttest: 1.2095427\tbest: 0.7276733 (21)\ttotal: 1.54s\tremaining: 1.54s\n",
      "600:\tlearn: 0.0031713\ttest: 1.2453865\tbest: 0.7276733 (21)\ttotal: 1.85s\tremaining: 1.23s\n",
      "700:\tlearn: 0.0027177\ttest: 1.2757372\tbest: 0.7276733 (21)\ttotal: 2.16s\tremaining: 920ms\n",
      "800:\tlearn: 0.0023712\ttest: 1.3023782\tbest: 0.7276733 (21)\ttotal: 2.47s\tremaining: 613ms\n",
      "900:\tlearn: 0.0021059\ttest: 1.3262626\tbest: 0.7276733 (21)\ttotal: 2.77s\tremaining: 305ms\n",
      "999:\tlearn: 0.0018935\ttest: 1.3474340\tbest: 0.7276733 (21)\ttotal: 3.08s\tremaining: 0us\n",
      "\n",
      "bestTest = 0.7276733484\n",
      "bestIteration = 21\n",
      "\n",
      "Shrink model to first 22 iterations.\n"
     ]
    }
   ],
   "source": [
    "model = CatBoostClassifier(loss_function='MultiClass', verbose=100)\n",
    "model = model.fit(X_train, y_train, eval_set=(X_test, y_test))"
   ]
  },
  {
   "cell_type": "code",
   "execution_count": 117,
   "id": "fb013900",
   "metadata": {},
   "outputs": [
    {
     "name": "stdout",
     "output_type": "stream",
     "text": [
      "              precision    recall  f1-score   support\n",
      "\n",
      "       death       0.00      0.00      0.00         2\n",
      "   no change       0.00      0.00      0.00         1\n",
      "    recovery       0.77      1.00      0.87        10\n",
      "\n",
      "    accuracy                           0.77        13\n",
      "   macro avg       0.26      0.33      0.29        13\n",
      "weighted avg       0.59      0.77      0.67        13\n",
      "\n"
     ]
    },
    {
     "name": "stderr",
     "output_type": "stream",
     "text": [
      "C:\\anaconda\\envs\\practicum\\lib\\site-packages\\sklearn\\metrics\\_classification.py:1245: UndefinedMetricWarning: Precision and F-score are ill-defined and being set to 0.0 in labels with no predicted samples. Use `zero_division` parameter to control this behavior.\n",
      "  _warn_prf(average, modifier, msg_start, len(result))\n",
      "C:\\anaconda\\envs\\practicum\\lib\\site-packages\\sklearn\\metrics\\_classification.py:1245: UndefinedMetricWarning: Precision and F-score are ill-defined and being set to 0.0 in labels with no predicted samples. Use `zero_division` parameter to control this behavior.\n",
      "  _warn_prf(average, modifier, msg_start, len(result))\n",
      "C:\\anaconda\\envs\\practicum\\lib\\site-packages\\sklearn\\metrics\\_classification.py:1245: UndefinedMetricWarning: Precision and F-score are ill-defined and being set to 0.0 in labels with no predicted samples. Use `zero_division` parameter to control this behavior.\n",
      "  _warn_prf(average, modifier, msg_start, len(result))\n"
     ]
    }
   ],
   "source": [
    "print(classification_report(y_test, model.predict(X_test)))"
   ]
  },
  {
   "cell_type": "code",
   "execution_count": 121,
   "id": "5881d9d0",
   "metadata": {},
   "outputs": [
    {
     "name": "stdout",
     "output_type": "stream",
     "text": [
      "              precision    recall  f1-score   support\n",
      "\n",
      "       death       0.00      0.00      0.00         2\n",
      "   no change       0.00      0.00      0.00         1\n",
      "    recovery       0.77      1.00      0.87        10\n",
      "\n",
      "    accuracy                           0.77        13\n",
      "   macro avg       0.26      0.33      0.29        13\n",
      "weighted avg       0.59      0.77      0.67        13\n",
      "\n"
     ]
    },
    {
     "name": "stderr",
     "output_type": "stream",
     "text": [
      "C:\\anaconda\\envs\\practicum\\lib\\site-packages\\sklearn\\metrics\\_classification.py:1245: UndefinedMetricWarning: Precision and F-score are ill-defined and being set to 0.0 in labels with no predicted samples. Use `zero_division` parameter to control this behavior.\n",
      "  _warn_prf(average, modifier, msg_start, len(result))\n",
      "C:\\anaconda\\envs\\practicum\\lib\\site-packages\\sklearn\\metrics\\_classification.py:1245: UndefinedMetricWarning: Precision and F-score are ill-defined and being set to 0.0 in labels with no predicted samples. Use `zero_division` parameter to control this behavior.\n",
      "  _warn_prf(average, modifier, msg_start, len(result))\n",
      "C:\\anaconda\\envs\\practicum\\lib\\site-packages\\sklearn\\metrics\\_classification.py:1245: UndefinedMetricWarning: Precision and F-score are ill-defined and being set to 0.0 in labels with no predicted samples. Use `zero_division` parameter to control this behavior.\n",
      "  _warn_prf(average, modifier, msg_start, len(result))\n"
     ]
    }
   ],
   "source": [
    "dummy_model = DummyClassifier().fit(X_train, y_train)\n",
    "print(classification_report(y_test, dummy_model.predict(X_test)))"
   ]
  },
  {
   "cell_type": "code",
   "execution_count": 122,
   "id": "ffd5cdb6",
   "metadata": {},
   "outputs": [
    {
     "name": "stdout",
     "output_type": "stream",
     "text": [
      "              precision    recall  f1-score   support\n",
      "\n",
      "       death       1.00      0.50      0.67         2\n",
      "   no change       0.00      0.00      0.00         1\n",
      "    recovery       0.83      1.00      0.91        10\n",
      "\n",
      "    accuracy                           0.85        13\n",
      "   macro avg       0.61      0.50      0.53        13\n",
      "weighted avg       0.79      0.85      0.80        13\n",
      "\n"
     ]
    },
    {
     "name": "stderr",
     "output_type": "stream",
     "text": [
      "C:\\anaconda\\envs\\practicum\\lib\\site-packages\\sklearn\\metrics\\_classification.py:1245: UndefinedMetricWarning: Precision and F-score are ill-defined and being set to 0.0 in labels with no predicted samples. Use `zero_division` parameter to control this behavior.\n",
      "  _warn_prf(average, modifier, msg_start, len(result))\n",
      "C:\\anaconda\\envs\\practicum\\lib\\site-packages\\sklearn\\metrics\\_classification.py:1245: UndefinedMetricWarning: Precision and F-score are ill-defined and being set to 0.0 in labels with no predicted samples. Use `zero_division` parameter to control this behavior.\n",
      "  _warn_prf(average, modifier, msg_start, len(result))\n",
      "C:\\anaconda\\envs\\practicum\\lib\\site-packages\\sklearn\\metrics\\_classification.py:1245: UndefinedMetricWarning: Precision and F-score are ill-defined and being set to 0.0 in labels with no predicted samples. Use `zero_division` parameter to control this behavior.\n",
      "  _warn_prf(average, modifier, msg_start, len(result))\n"
     ]
    }
   ],
   "source": [
    "tree_model = DecisionTreeClassifier().fit(X_train, y_train)\n",
    "print(classification_report(y_test, tree_model.predict(X_test)))"
   ]
  },
  {
   "cell_type": "code",
   "execution_count": null,
   "id": "40d311d1",
   "metadata": {},
   "outputs": [],
   "source": []
  }
 ],
 "metadata": {
  "kernelspec": {
   "display_name": "Python 3 (ipykernel)",
   "language": "python",
   "name": "python3"
  },
  "language_info": {
   "codemirror_mode": {
    "name": "ipython",
    "version": 3
   },
   "file_extension": ".py",
   "mimetype": "text/x-python",
   "name": "python",
   "nbconvert_exporter": "python",
   "pygments_lexer": "ipython3",
   "version": "3.9.13"
  }
 },
 "nbformat": 4,
 "nbformat_minor": 5
}
