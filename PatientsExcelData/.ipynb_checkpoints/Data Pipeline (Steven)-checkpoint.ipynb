{
 "cells": [
  {
   "cell_type": "markdown",
   "id": "f86ba541",
   "metadata": {},
   "source": [
    "# Подготовка данных пациентов"
   ]
  },
  {
   "cell_type": "code",
   "execution_count": 463,
   "id": "a0a42e57",
   "metadata": {},
   "outputs": [],
   "source": [
    "# standard\n",
    "import pandas as pd\n",
    "import numpy as np\n",
    "import re\n",
    "import seaborn as sbs\n",
    "import matplotlib.pyplot as plt\n",
    "from tqdm import notebook\n",
    "sbs.set_style(\"darkgrid\")\n",
    "\n",
    "# text processing\n",
    "import nltk\n",
    "from nltk.corpus import stopwords as nltk_stopwords\n",
    "from pymystem3 import Mystem\n",
    "\n",
    "# preprocessing/processing\n",
    "from sklearn.preprocessing import OneHotEncoder, StandardScaler\n",
    "from sklearn.feature_extraction.text import TfidfVectorizer\n",
    "\n",
    "# model selection\n",
    "from sklearn.model_selection import train_test_split, RandomizedSearchCV, cross_val_score, cross_validate,  StratifiedKFold\n",
    "import imblearn\n",
    "from imblearn.pipeline import Pipeline as imbpipeline\n",
    "from imblearn.over_sampling import SMOTE\n",
    "\n",
    "# metrics\n",
    "from sklearn.metrics import classification_report, confusion_matrix, make_scorer\n",
    "from sklearn.metrics import recall_score, precision_score, f1_score, accuracy_score, roc_auc_score\n",
    "\n",
    "# base models\n",
    "from catboost import CatBoostClassifier\n",
    "\n",
    "# model building\n",
    "from sklearn.compose import ColumnTransformer\n",
    "from sklearn.pipeline import Pipeline\n"
   ]
  },
  {
   "cell_type": "markdown",
   "id": "f0a7f922",
   "metadata": {},
   "source": [
    "## Загрузка данных"
   ]
  },
  {
   "cell_type": "code",
   "execution_count": 464,
   "id": "4bcf3dc0",
   "metadata": {},
   "outputs": [],
   "source": [
    "file_path = 'chd_addmit_300.xlsx'"
   ]
  },
  {
   "cell_type": "code",
   "execution_count": 465,
   "id": "308ce412",
   "metadata": {},
   "outputs": [
    {
     "ename": "FileNotFoundError",
     "evalue": "[Errno 2] No such file or directory: 'chd_addmit_300.xlsx'",
     "output_type": "error",
     "traceback": [
      "\u001b[1;31m---------------------------------------------------------------------------\u001b[0m",
      "\u001b[1;31mFileNotFoundError\u001b[0m                         Traceback (most recent call last)",
      "Cell \u001b[1;32mIn [465], line 1\u001b[0m\n\u001b[1;32m----> 1\u001b[0m patient_data \u001b[38;5;241m=\u001b[39m \u001b[43mpd\u001b[49m\u001b[38;5;241;43m.\u001b[39;49m\u001b[43mread_excel\u001b[49m\u001b[43m(\u001b[49m\u001b[43mfile_path\u001b[49m\u001b[43m)\u001b[49m\n",
      "File \u001b[1;32mC:\\anaconda\\envs\\practicum\\lib\\site-packages\\pandas\\util\\_decorators.py:299\u001b[0m, in \u001b[0;36mdeprecate_nonkeyword_arguments.<locals>.decorate.<locals>.wrapper\u001b[1;34m(*args, **kwargs)\u001b[0m\n\u001b[0;32m    294\u001b[0m     msg \u001b[38;5;241m=\u001b[39m (\n\u001b[0;32m    295\u001b[0m         \u001b[38;5;124mf\u001b[39m\u001b[38;5;124m\"\u001b[39m\u001b[38;5;124mStarting with Pandas version \u001b[39m\u001b[38;5;132;01m{\u001b[39;00mversion\u001b[38;5;132;01m}\u001b[39;00m\u001b[38;5;124m all arguments of \u001b[39m\u001b[38;5;124m\"\u001b[39m\n\u001b[0;32m    296\u001b[0m         \u001b[38;5;124mf\u001b[39m\u001b[38;5;124m\"\u001b[39m\u001b[38;5;132;01m{\u001b[39;00mfunc\u001b[38;5;241m.\u001b[39m\u001b[38;5;18m__name__\u001b[39m\u001b[38;5;132;01m}\u001b[39;00m\u001b[38;5;132;01m{\u001b[39;00marguments\u001b[38;5;132;01m}\u001b[39;00m\u001b[38;5;124m will be keyword-only\u001b[39m\u001b[38;5;124m\"\u001b[39m\n\u001b[0;32m    297\u001b[0m     )\n\u001b[0;32m    298\u001b[0m     warnings\u001b[38;5;241m.\u001b[39mwarn(msg, \u001b[38;5;167;01mFutureWarning\u001b[39;00m, stacklevel\u001b[38;5;241m=\u001b[39mstacklevel)\n\u001b[1;32m--> 299\u001b[0m \u001b[38;5;28;01mreturn\u001b[39;00m func(\u001b[38;5;241m*\u001b[39margs, \u001b[38;5;241m*\u001b[39m\u001b[38;5;241m*\u001b[39mkwargs)\n",
      "File \u001b[1;32mC:\\anaconda\\envs\\practicum\\lib\\site-packages\\pandas\\io\\excel\\_base.py:336\u001b[0m, in \u001b[0;36mread_excel\u001b[1;34m(io, sheet_name, header, names, index_col, usecols, squeeze, dtype, engine, converters, true_values, false_values, skiprows, nrows, na_values, keep_default_na, na_filter, verbose, parse_dates, date_parser, thousands, comment, skipfooter, convert_float, mangle_dupe_cols, storage_options)\u001b[0m\n\u001b[0;32m    334\u001b[0m \u001b[38;5;28;01mif\u001b[39;00m \u001b[38;5;129;01mnot\u001b[39;00m \u001b[38;5;28misinstance\u001b[39m(io, ExcelFile):\n\u001b[0;32m    335\u001b[0m     should_close \u001b[38;5;241m=\u001b[39m \u001b[38;5;28;01mTrue\u001b[39;00m\n\u001b[1;32m--> 336\u001b[0m     io \u001b[38;5;241m=\u001b[39m \u001b[43mExcelFile\u001b[49m\u001b[43m(\u001b[49m\u001b[43mio\u001b[49m\u001b[43m,\u001b[49m\u001b[43m \u001b[49m\u001b[43mstorage_options\u001b[49m\u001b[38;5;241;43m=\u001b[39;49m\u001b[43mstorage_options\u001b[49m\u001b[43m,\u001b[49m\u001b[43m \u001b[49m\u001b[43mengine\u001b[49m\u001b[38;5;241;43m=\u001b[39;49m\u001b[43mengine\u001b[49m\u001b[43m)\u001b[49m\n\u001b[0;32m    337\u001b[0m \u001b[38;5;28;01melif\u001b[39;00m engine \u001b[38;5;129;01mand\u001b[39;00m engine \u001b[38;5;241m!=\u001b[39m io\u001b[38;5;241m.\u001b[39mengine:\n\u001b[0;32m    338\u001b[0m     \u001b[38;5;28;01mraise\u001b[39;00m \u001b[38;5;167;01mValueError\u001b[39;00m(\n\u001b[0;32m    339\u001b[0m         \u001b[38;5;124m\"\u001b[39m\u001b[38;5;124mEngine should not be specified when passing \u001b[39m\u001b[38;5;124m\"\u001b[39m\n\u001b[0;32m    340\u001b[0m         \u001b[38;5;124m\"\u001b[39m\u001b[38;5;124man ExcelFile - ExcelFile already has the engine set\u001b[39m\u001b[38;5;124m\"\u001b[39m\n\u001b[0;32m    341\u001b[0m     )\n",
      "File \u001b[1;32mC:\\anaconda\\envs\\practicum\\lib\\site-packages\\pandas\\io\\excel\\_base.py:1071\u001b[0m, in \u001b[0;36mExcelFile.__init__\u001b[1;34m(self, path_or_buffer, engine, storage_options)\u001b[0m\n\u001b[0;32m   1069\u001b[0m     ext \u001b[38;5;241m=\u001b[39m \u001b[38;5;124m\"\u001b[39m\u001b[38;5;124mxls\u001b[39m\u001b[38;5;124m\"\u001b[39m\n\u001b[0;32m   1070\u001b[0m \u001b[38;5;28;01melse\u001b[39;00m:\n\u001b[1;32m-> 1071\u001b[0m     ext \u001b[38;5;241m=\u001b[39m \u001b[43minspect_excel_format\u001b[49m\u001b[43m(\u001b[49m\n\u001b[0;32m   1072\u001b[0m \u001b[43m        \u001b[49m\u001b[43mcontent\u001b[49m\u001b[38;5;241;43m=\u001b[39;49m\u001b[43mpath_or_buffer\u001b[49m\u001b[43m,\u001b[49m\u001b[43m \u001b[49m\u001b[43mstorage_options\u001b[49m\u001b[38;5;241;43m=\u001b[39;49m\u001b[43mstorage_options\u001b[49m\n\u001b[0;32m   1073\u001b[0m \u001b[43m    \u001b[49m\u001b[43m)\u001b[49m\n\u001b[0;32m   1075\u001b[0m \u001b[38;5;28;01mif\u001b[39;00m ext \u001b[38;5;241m==\u001b[39m \u001b[38;5;124m\"\u001b[39m\u001b[38;5;124mods\u001b[39m\u001b[38;5;124m\"\u001b[39m:\n\u001b[0;32m   1076\u001b[0m     engine \u001b[38;5;241m=\u001b[39m \u001b[38;5;124m\"\u001b[39m\u001b[38;5;124modf\u001b[39m\u001b[38;5;124m\"\u001b[39m\n",
      "File \u001b[1;32mC:\\anaconda\\envs\\practicum\\lib\\site-packages\\pandas\\io\\excel\\_base.py:949\u001b[0m, in \u001b[0;36minspect_excel_format\u001b[1;34m(path, content, storage_options)\u001b[0m\n\u001b[0;32m    946\u001b[0m     content_or_path \u001b[38;5;241m=\u001b[39m content \u001b[38;5;129;01mor\u001b[39;00m path\n\u001b[0;32m    947\u001b[0m \u001b[38;5;28;01massert\u001b[39;00m content_or_path \u001b[38;5;129;01mis\u001b[39;00m \u001b[38;5;129;01mnot\u001b[39;00m \u001b[38;5;28;01mNone\u001b[39;00m\n\u001b[1;32m--> 949\u001b[0m \u001b[38;5;28;01mwith\u001b[39;00m \u001b[43mget_handle\u001b[49m\u001b[43m(\u001b[49m\n\u001b[0;32m    950\u001b[0m \u001b[43m    \u001b[49m\u001b[43mcontent_or_path\u001b[49m\u001b[43m,\u001b[49m\u001b[43m \u001b[49m\u001b[38;5;124;43m\"\u001b[39;49m\u001b[38;5;124;43mrb\u001b[39;49m\u001b[38;5;124;43m\"\u001b[39;49m\u001b[43m,\u001b[49m\u001b[43m \u001b[49m\u001b[43mstorage_options\u001b[49m\u001b[38;5;241;43m=\u001b[39;49m\u001b[43mstorage_options\u001b[49m\u001b[43m,\u001b[49m\u001b[43m \u001b[49m\u001b[43mis_text\u001b[49m\u001b[38;5;241;43m=\u001b[39;49m\u001b[38;5;28;43;01mFalse\u001b[39;49;00m\n\u001b[0;32m    951\u001b[0m \u001b[43m\u001b[49m\u001b[43m)\u001b[49m \u001b[38;5;28;01mas\u001b[39;00m handle:\n\u001b[0;32m    952\u001b[0m     stream \u001b[38;5;241m=\u001b[39m handle\u001b[38;5;241m.\u001b[39mhandle\n\u001b[0;32m    953\u001b[0m     stream\u001b[38;5;241m.\u001b[39mseek(\u001b[38;5;241m0\u001b[39m)\n",
      "File \u001b[1;32mC:\\anaconda\\envs\\practicum\\lib\\site-packages\\pandas\\io\\common.py:651\u001b[0m, in \u001b[0;36mget_handle\u001b[1;34m(path_or_buf, mode, encoding, compression, memory_map, is_text, errors, storage_options)\u001b[0m\n\u001b[0;32m    642\u001b[0m         handle \u001b[38;5;241m=\u001b[39m \u001b[38;5;28mopen\u001b[39m(\n\u001b[0;32m    643\u001b[0m             handle,\n\u001b[0;32m    644\u001b[0m             ioargs\u001b[38;5;241m.\u001b[39mmode,\n\u001b[1;32m   (...)\u001b[0m\n\u001b[0;32m    647\u001b[0m             newline\u001b[38;5;241m=\u001b[39m\u001b[38;5;124m\"\u001b[39m\u001b[38;5;124m\"\u001b[39m,\n\u001b[0;32m    648\u001b[0m         )\n\u001b[0;32m    649\u001b[0m     \u001b[38;5;28;01melse\u001b[39;00m:\n\u001b[0;32m    650\u001b[0m         \u001b[38;5;66;03m# Binary mode\u001b[39;00m\n\u001b[1;32m--> 651\u001b[0m         handle \u001b[38;5;241m=\u001b[39m \u001b[38;5;28;43mopen\u001b[39;49m\u001b[43m(\u001b[49m\u001b[43mhandle\u001b[49m\u001b[43m,\u001b[49m\u001b[43m \u001b[49m\u001b[43mioargs\u001b[49m\u001b[38;5;241;43m.\u001b[39;49m\u001b[43mmode\u001b[49m\u001b[43m)\u001b[49m\n\u001b[0;32m    652\u001b[0m     handles\u001b[38;5;241m.\u001b[39mappend(handle)\n\u001b[0;32m    654\u001b[0m \u001b[38;5;66;03m# Convert BytesIO or file objects passed with an encoding\u001b[39;00m\n",
      "\u001b[1;31mFileNotFoundError\u001b[0m: [Errno 2] No such file or directory: 'chd_addmit_300.xlsx'"
     ]
    }
   ],
   "source": [
    "patient_data = pd.read_excel(file_path)"
   ]
  },
  {
   "cell_type": "code",
   "execution_count": null,
   "id": "bed50988",
   "metadata": {},
   "outputs": [],
   "source": [
    "patient_data.head()"
   ]
  },
  {
   "cell_type": "code",
   "execution_count": null,
   "id": "2370e16a",
   "metadata": {},
   "outputs": [],
   "source": [
    "patient_data.info()"
   ]
  },
  {
   "cell_type": "code",
   "execution_count": 466,
   "id": "b8715db7",
   "metadata": {},
   "outputs": [
    {
     "data": {
      "text/html": [
       "<div>\n",
       "<style scoped>\n",
       "    .dataframe tbody tr th:only-of-type {\n",
       "        vertical-align: middle;\n",
       "    }\n",
       "\n",
       "    .dataframe tbody tr th {\n",
       "        vertical-align: top;\n",
       "    }\n",
       "\n",
       "    .dataframe thead th {\n",
       "        text-align: right;\n",
       "    }\n",
       "</style>\n",
       "<table border=\"1\" class=\"dataframe\">\n",
       "  <thead>\n",
       "    <tr style=\"text-align: right;\">\n",
       "      <th></th>\n",
       "      <th>height</th>\n",
       "      <th>weight</th>\n",
       "      <th>BMI</th>\n",
       "      <th>BSA</th>\n",
       "      <th>target</th>\n",
       "      <th>Unnamed: 22</th>\n",
       "      <th>Unnamed: 23</th>\n",
       "      <th>Unnamed: 24</th>\n",
       "      <th>Unnamed: 25</th>\n",
       "      <th>Unnamed: 26</th>\n",
       "      <th>...</th>\n",
       "      <th>Unnamed: 32</th>\n",
       "      <th>Unnamed: 33</th>\n",
       "      <th>Unnamed: 34</th>\n",
       "      <th>Unnamed: 35</th>\n",
       "      <th>Unnamed: 36</th>\n",
       "      <th>Unnamed: 37</th>\n",
       "      <th>Unnamed: 38</th>\n",
       "      <th>Unnamed: 39</th>\n",
       "      <th>Unnamed: 40</th>\n",
       "      <th>Unnamed: 41</th>\n",
       "    </tr>\n",
       "  </thead>\n",
       "  <tbody>\n",
       "    <tr>\n",
       "      <th>count</th>\n",
       "      <td>300.000000</td>\n",
       "      <td>300.000000</td>\n",
       "      <td>298.000000</td>\n",
       "      <td>298.000000</td>\n",
       "      <td>300.000000</td>\n",
       "      <td>0.0</td>\n",
       "      <td>0.0</td>\n",
       "      <td>0.0</td>\n",
       "      <td>0.0</td>\n",
       "      <td>0.0</td>\n",
       "      <td>...</td>\n",
       "      <td>0.0</td>\n",
       "      <td>0.0</td>\n",
       "      <td>0.0</td>\n",
       "      <td>0.0</td>\n",
       "      <td>0.0</td>\n",
       "      <td>0.0</td>\n",
       "      <td>0.0</td>\n",
       "      <td>0.0</td>\n",
       "      <td>0.0</td>\n",
       "      <td>0.0</td>\n",
       "    </tr>\n",
       "    <tr>\n",
       "      <th>mean</th>\n",
       "      <td>64.890000</td>\n",
       "      <td>6.293560</td>\n",
       "      <td>76.834430</td>\n",
       "      <td>0.336477</td>\n",
       "      <td>0.046667</td>\n",
       "      <td>NaN</td>\n",
       "      <td>NaN</td>\n",
       "      <td>NaN</td>\n",
       "      <td>NaN</td>\n",
       "      <td>NaN</td>\n",
       "      <td>...</td>\n",
       "      <td>NaN</td>\n",
       "      <td>NaN</td>\n",
       "      <td>NaN</td>\n",
       "      <td>NaN</td>\n",
       "      <td>NaN</td>\n",
       "      <td>NaN</td>\n",
       "      <td>NaN</td>\n",
       "      <td>NaN</td>\n",
       "      <td>NaN</td>\n",
       "      <td>NaN</td>\n",
       "    </tr>\n",
       "    <tr>\n",
       "      <th>std</th>\n",
       "      <td>8.076012</td>\n",
       "      <td>1.951695</td>\n",
       "      <td>20.640196</td>\n",
       "      <td>0.073846</td>\n",
       "      <td>0.211276</td>\n",
       "      <td>NaN</td>\n",
       "      <td>NaN</td>\n",
       "      <td>NaN</td>\n",
       "      <td>NaN</td>\n",
       "      <td>NaN</td>\n",
       "      <td>...</td>\n",
       "      <td>NaN</td>\n",
       "      <td>NaN</td>\n",
       "      <td>NaN</td>\n",
       "      <td>NaN</td>\n",
       "      <td>NaN</td>\n",
       "      <td>NaN</td>\n",
       "      <td>NaN</td>\n",
       "      <td>NaN</td>\n",
       "      <td>NaN</td>\n",
       "      <td>NaN</td>\n",
       "    </tr>\n",
       "    <tr>\n",
       "      <th>min</th>\n",
       "      <td>39.000000</td>\n",
       "      <td>1.270000</td>\n",
       "      <td>20.340000</td>\n",
       "      <td>0.120000</td>\n",
       "      <td>0.000000</td>\n",
       "      <td>NaN</td>\n",
       "      <td>NaN</td>\n",
       "      <td>NaN</td>\n",
       "      <td>NaN</td>\n",
       "      <td>NaN</td>\n",
       "      <td>...</td>\n",
       "      <td>NaN</td>\n",
       "      <td>NaN</td>\n",
       "      <td>NaN</td>\n",
       "      <td>NaN</td>\n",
       "      <td>NaN</td>\n",
       "      <td>NaN</td>\n",
       "      <td>NaN</td>\n",
       "      <td>NaN</td>\n",
       "      <td>NaN</td>\n",
       "      <td>NaN</td>\n",
       "    </tr>\n",
       "    <tr>\n",
       "      <th>25%</th>\n",
       "      <td>60.000000</td>\n",
       "      <td>4.868500</td>\n",
       "      <td>62.007500</td>\n",
       "      <td>0.280000</td>\n",
       "      <td>0.000000</td>\n",
       "      <td>NaN</td>\n",
       "      <td>NaN</td>\n",
       "      <td>NaN</td>\n",
       "      <td>NaN</td>\n",
       "      <td>NaN</td>\n",
       "      <td>...</td>\n",
       "      <td>NaN</td>\n",
       "      <td>NaN</td>\n",
       "      <td>NaN</td>\n",
       "      <td>NaN</td>\n",
       "      <td>NaN</td>\n",
       "      <td>NaN</td>\n",
       "      <td>NaN</td>\n",
       "      <td>NaN</td>\n",
       "      <td>NaN</td>\n",
       "      <td>NaN</td>\n",
       "    </tr>\n",
       "    <tr>\n",
       "      <th>50%</th>\n",
       "      <td>65.500000</td>\n",
       "      <td>6.442500</td>\n",
       "      <td>78.430000</td>\n",
       "      <td>0.350000</td>\n",
       "      <td>0.000000</td>\n",
       "      <td>NaN</td>\n",
       "      <td>NaN</td>\n",
       "      <td>NaN</td>\n",
       "      <td>NaN</td>\n",
       "      <td>NaN</td>\n",
       "      <td>...</td>\n",
       "      <td>NaN</td>\n",
       "      <td>NaN</td>\n",
       "      <td>NaN</td>\n",
       "      <td>NaN</td>\n",
       "      <td>NaN</td>\n",
       "      <td>NaN</td>\n",
       "      <td>NaN</td>\n",
       "      <td>NaN</td>\n",
       "      <td>NaN</td>\n",
       "      <td>NaN</td>\n",
       "    </tr>\n",
       "    <tr>\n",
       "      <th>75%</th>\n",
       "      <td>71.000000</td>\n",
       "      <td>7.651250</td>\n",
       "      <td>91.797500</td>\n",
       "      <td>0.390000</td>\n",
       "      <td>0.000000</td>\n",
       "      <td>NaN</td>\n",
       "      <td>NaN</td>\n",
       "      <td>NaN</td>\n",
       "      <td>NaN</td>\n",
       "      <td>NaN</td>\n",
       "      <td>...</td>\n",
       "      <td>NaN</td>\n",
       "      <td>NaN</td>\n",
       "      <td>NaN</td>\n",
       "      <td>NaN</td>\n",
       "      <td>NaN</td>\n",
       "      <td>NaN</td>\n",
       "      <td>NaN</td>\n",
       "      <td>NaN</td>\n",
       "      <td>NaN</td>\n",
       "      <td>NaN</td>\n",
       "    </tr>\n",
       "    <tr>\n",
       "      <th>max</th>\n",
       "      <td>85.000000</td>\n",
       "      <td>12.000000</td>\n",
       "      <td>137.650000</td>\n",
       "      <td>0.520000</td>\n",
       "      <td>1.000000</td>\n",
       "      <td>NaN</td>\n",
       "      <td>NaN</td>\n",
       "      <td>NaN</td>\n",
       "      <td>NaN</td>\n",
       "      <td>NaN</td>\n",
       "      <td>...</td>\n",
       "      <td>NaN</td>\n",
       "      <td>NaN</td>\n",
       "      <td>NaN</td>\n",
       "      <td>NaN</td>\n",
       "      <td>NaN</td>\n",
       "      <td>NaN</td>\n",
       "      <td>NaN</td>\n",
       "      <td>NaN</td>\n",
       "      <td>NaN</td>\n",
       "      <td>NaN</td>\n",
       "    </tr>\n",
       "  </tbody>\n",
       "</table>\n",
       "<p>8 rows × 25 columns</p>\n",
       "</div>"
      ],
      "text/plain": [
       "           height      weight         BMI         BSA      target  \\\n",
       "count  300.000000  300.000000  298.000000  298.000000  300.000000   \n",
       "mean    64.890000    6.293560   76.834430    0.336477    0.046667   \n",
       "std      8.076012    1.951695   20.640196    0.073846    0.211276   \n",
       "min     39.000000    1.270000   20.340000    0.120000    0.000000   \n",
       "25%     60.000000    4.868500   62.007500    0.280000    0.000000   \n",
       "50%     65.500000    6.442500   78.430000    0.350000    0.000000   \n",
       "75%     71.000000    7.651250   91.797500    0.390000    0.000000   \n",
       "max     85.000000   12.000000  137.650000    0.520000    1.000000   \n",
       "\n",
       "       Unnamed: 22  Unnamed: 23  Unnamed: 24  Unnamed: 25  Unnamed: 26  ...  \\\n",
       "count          0.0          0.0          0.0          0.0          0.0  ...   \n",
       "mean           NaN          NaN          NaN          NaN          NaN  ...   \n",
       "std            NaN          NaN          NaN          NaN          NaN  ...   \n",
       "min            NaN          NaN          NaN          NaN          NaN  ...   \n",
       "25%            NaN          NaN          NaN          NaN          NaN  ...   \n",
       "50%            NaN          NaN          NaN          NaN          NaN  ...   \n",
       "75%            NaN          NaN          NaN          NaN          NaN  ...   \n",
       "max            NaN          NaN          NaN          NaN          NaN  ...   \n",
       "\n",
       "       Unnamed: 32  Unnamed: 33  Unnamed: 34  Unnamed: 35  Unnamed: 36  \\\n",
       "count          0.0          0.0          0.0          0.0          0.0   \n",
       "mean           NaN          NaN          NaN          NaN          NaN   \n",
       "std            NaN          NaN          NaN          NaN          NaN   \n",
       "min            NaN          NaN          NaN          NaN          NaN   \n",
       "25%            NaN          NaN          NaN          NaN          NaN   \n",
       "50%            NaN          NaN          NaN          NaN          NaN   \n",
       "75%            NaN          NaN          NaN          NaN          NaN   \n",
       "max            NaN          NaN          NaN          NaN          NaN   \n",
       "\n",
       "       Unnamed: 37  Unnamed: 38  Unnamed: 39  Unnamed: 40  Unnamed: 41  \n",
       "count          0.0          0.0          0.0          0.0          0.0  \n",
       "mean           NaN          NaN          NaN          NaN          NaN  \n",
       "std            NaN          NaN          NaN          NaN          NaN  \n",
       "min            NaN          NaN          NaN          NaN          NaN  \n",
       "25%            NaN          NaN          NaN          NaN          NaN  \n",
       "50%            NaN          NaN          NaN          NaN          NaN  \n",
       "75%            NaN          NaN          NaN          NaN          NaN  \n",
       "max            NaN          NaN          NaN          NaN          NaN  \n",
       "\n",
       "[8 rows x 25 columns]"
      ]
     },
     "execution_count": 466,
     "metadata": {},
     "output_type": "execute_result"
    }
   ],
   "source": [
    "patient_data.describe()"
   ]
  },
  {
   "cell_type": "markdown",
   "id": "3a65610c",
   "metadata": {},
   "source": [
    "Успешно создан датасет. Необходимо изменить тип данных некоторых признаков, убрать пропуски."
   ]
  },
  {
   "cell_type": "markdown",
   "id": "7f505295",
   "metadata": {},
   "source": [
    "## Предобработка"
   ]
  },
  {
   "cell_type": "markdown",
   "id": "497f91fe",
   "metadata": {},
   "source": [
    "### Main dataset"
   ]
  },
  {
   "cell_type": "code",
   "execution_count": 467,
   "id": "df16e587",
   "metadata": {},
   "outputs": [],
   "source": [
    "main_dataset = pd.DataFrame()"
   ]
  },
  {
   "cell_type": "code",
   "execution_count": 468,
   "id": "cae6b821",
   "metadata": {},
   "outputs": [],
   "source": [
    "main_dataset[['sex',\n",
    "              'height',\n",
    "              'weight',\n",
    "              'BMI','BSA',\n",
    "              'operations',\n",
    "              'target']] = patient_data[['sex',\n",
    "                                         'height',\n",
    "                                         'weight',\n",
    "                                         'BMI',\n",
    "                                         'BSA',\n",
    "                                         'Операции (все в ИБ)',\n",
    "                                         'target']]"
   ]
  },
  {
   "cell_type": "markdown",
   "id": "095c0eb8",
   "metadata": {},
   "source": [
    "### Уберем пропуски"
   ]
  },
  {
   "cell_type": "code",
   "execution_count": 469,
   "id": "cea058e7",
   "metadata": {},
   "outputs": [
    {
     "data": {
      "text/plain": [
       "sex           0\n",
       "height        0\n",
       "weight        0\n",
       "BMI           2\n",
       "BSA           2\n",
       "operations    0\n",
       "target        0\n",
       "dtype: int64"
      ]
     },
     "execution_count": 469,
     "metadata": {},
     "output_type": "execute_result"
    }
   ],
   "source": [
    "main_dataset.isnull().sum()"
   ]
  },
  {
   "cell_type": "code",
   "execution_count": 470,
   "id": "6945cb6e",
   "metadata": {},
   "outputs": [],
   "source": [
    "main_dataset = main_dataset.dropna()"
   ]
  },
  {
   "cell_type": "code",
   "execution_count": 471,
   "id": "41aa7737",
   "metadata": {},
   "outputs": [
    {
     "data": {
      "text/plain": [
       "sex           0\n",
       "height        0\n",
       "weight        0\n",
       "BMI           0\n",
       "BSA           0\n",
       "operations    0\n",
       "target        0\n",
       "dtype: int64"
      ]
     },
     "execution_count": 471,
     "metadata": {},
     "output_type": "execute_result"
    }
   ],
   "source": [
    "main_dataset.isnull().sum()"
   ]
  },
  {
   "cell_type": "markdown",
   "id": "9a601180",
   "metadata": {},
   "source": [
    "### Обработка текста"
   ]
  },
  {
   "cell_type": "code",
   "execution_count": 472,
   "id": "8265253b",
   "metadata": {},
   "outputs": [],
   "source": [
    "m = Mystem()\n",
    "\n",
    "# Леммантизирует текст\n",
    "def lemmatize(text):\n",
    "    return \"\".join(m.lemmatize(text))\n",
    "\n",
    "def clear_text(text):\n",
    "    cleaned = re.sub(r'[^а-яА-Яa-zA-ZёЁ ]', ' ', text)\n",
    "    cleaned = cleaned.split()\n",
    "    return ' '.join(cleaned)"
   ]
  },
  {
   "cell_type": "code",
   "execution_count": 473,
   "id": "6a75efab",
   "metadata": {},
   "outputs": [
    {
     "ename": "KeyboardInterrupt",
     "evalue": "",
     "output_type": "error",
     "traceback": [
      "\u001b[1;31m---------------------------------------------------------------------------\u001b[0m",
      "\u001b[1;31mKeyboardInterrupt\u001b[0m                         Traceback (most recent call last)",
      "File \u001b[1;32m<timed exec>:1\u001b[0m\n",
      "File \u001b[1;32mC:\\anaconda\\envs\\practicum\\lib\\site-packages\\pandas\\core\\series.py:4138\u001b[0m, in \u001b[0;36mSeries.apply\u001b[1;34m(self, func, convert_dtype, args, **kwds)\u001b[0m\n\u001b[0;32m   4136\u001b[0m     \u001b[38;5;28;01melse\u001b[39;00m:\n\u001b[0;32m   4137\u001b[0m         values \u001b[38;5;241m=\u001b[39m \u001b[38;5;28mself\u001b[39m\u001b[38;5;241m.\u001b[39mastype(\u001b[38;5;28mobject\u001b[39m)\u001b[38;5;241m.\u001b[39m_values\n\u001b[1;32m-> 4138\u001b[0m         mapped \u001b[38;5;241m=\u001b[39m \u001b[43mlib\u001b[49m\u001b[38;5;241;43m.\u001b[39;49m\u001b[43mmap_infer\u001b[49m\u001b[43m(\u001b[49m\u001b[43mvalues\u001b[49m\u001b[43m,\u001b[49m\u001b[43m \u001b[49m\u001b[43mf\u001b[49m\u001b[43m,\u001b[49m\u001b[43m \u001b[49m\u001b[43mconvert\u001b[49m\u001b[38;5;241;43m=\u001b[39;49m\u001b[43mconvert_dtype\u001b[49m\u001b[43m)\u001b[49m\n\u001b[0;32m   4140\u001b[0m \u001b[38;5;28;01mif\u001b[39;00m \u001b[38;5;28mlen\u001b[39m(mapped) \u001b[38;5;129;01mand\u001b[39;00m \u001b[38;5;28misinstance\u001b[39m(mapped[\u001b[38;5;241m0\u001b[39m], Series):\n\u001b[0;32m   4141\u001b[0m     \u001b[38;5;66;03m# GH 25959 use pd.array instead of tolist\u001b[39;00m\n\u001b[0;32m   4142\u001b[0m     \u001b[38;5;66;03m# so extension arrays can be used\u001b[39;00m\n\u001b[0;32m   4143\u001b[0m     \u001b[38;5;28;01mreturn\u001b[39;00m \u001b[38;5;28mself\u001b[39m\u001b[38;5;241m.\u001b[39m_constructor_expanddim(pd_array(mapped), index\u001b[38;5;241m=\u001b[39m\u001b[38;5;28mself\u001b[39m\u001b[38;5;241m.\u001b[39mindex)\n",
      "File \u001b[1;32mpandas\\_libs\\lib.pyx:2467\u001b[0m, in \u001b[0;36mpandas._libs.lib.map_infer\u001b[1;34m()\u001b[0m\n",
      "File \u001b[1;32m<timed exec>:1\u001b[0m, in \u001b[0;36m<lambda>\u001b[1;34m(x)\u001b[0m\n",
      "Cell \u001b[1;32mIn [472], line 5\u001b[0m, in \u001b[0;36mlemmatize\u001b[1;34m(text)\u001b[0m\n\u001b[0;32m      4\u001b[0m \u001b[38;5;28;01mdef\u001b[39;00m \u001b[38;5;21mlemmatize\u001b[39m(text):\n\u001b[1;32m----> 5\u001b[0m     \u001b[38;5;28;01mreturn\u001b[39;00m \u001b[38;5;124m\"\u001b[39m\u001b[38;5;124m\"\u001b[39m\u001b[38;5;241m.\u001b[39mjoin(\u001b[43mm\u001b[49m\u001b[38;5;241;43m.\u001b[39;49m\u001b[43mlemmatize\u001b[49m\u001b[43m(\u001b[49m\u001b[43mtext\u001b[49m\u001b[43m)\u001b[49m)\n",
      "File \u001b[1;32mC:\\anaconda\\envs\\practicum\\lib\\site-packages\\pymystem3\\mystem.py:265\u001b[0m, in \u001b[0;36mMystem.lemmatize\u001b[1;34m(self, text)\u001b[0m\n\u001b[0;32m    254\u001b[0m \u001b[38;5;124;03m\"\"\"\u001b[39;00m\n\u001b[0;32m    255\u001b[0m \u001b[38;5;124;03mMake morphology analysis for a text and return list of lemmas.\u001b[39;00m\n\u001b[0;32m    256\u001b[0m \n\u001b[1;32m   (...)\u001b[0m\n\u001b[0;32m    260\u001b[0m \u001b[38;5;124;03m:rtype:         list\u001b[39;00m\n\u001b[0;32m    261\u001b[0m \u001b[38;5;124;03m\"\"\"\u001b[39;00m\n\u001b[0;32m    263\u001b[0m need_encode \u001b[38;5;241m=\u001b[39m (sys\u001b[38;5;241m.\u001b[39mversion_info[\u001b[38;5;241m0\u001b[39m] \u001b[38;5;241m<\u001b[39m \u001b[38;5;241m3\u001b[39m \u001b[38;5;129;01mand\u001b[39;00m \u001b[38;5;28misinstance\u001b[39m(text, \u001b[38;5;28mstr\u001b[39m))\n\u001b[1;32m--> 265\u001b[0m infos \u001b[38;5;241m=\u001b[39m \u001b[38;5;28;43mself\u001b[39;49m\u001b[38;5;241;43m.\u001b[39;49m\u001b[43manalyze\u001b[49m\u001b[43m(\u001b[49m\u001b[43mtext\u001b[49m\u001b[43m)\u001b[49m\n\u001b[0;32m    266\u001b[0m lemmas \u001b[38;5;241m=\u001b[39m \u001b[38;5;28mlist\u001b[39m(\u001b[38;5;28mfilter\u001b[39m(\u001b[38;5;28;01mNone\u001b[39;00m, \u001b[38;5;28mmap\u001b[39m(\u001b[38;5;28mself\u001b[39m\u001b[38;5;241m.\u001b[39m_get_lemma, infos)))\n\u001b[0;32m    268\u001b[0m \u001b[38;5;28;01mif\u001b[39;00m need_encode \u001b[38;5;129;01mis\u001b[39;00m \u001b[38;5;28;01mTrue\u001b[39;00m:\n",
      "File \u001b[1;32mC:\\anaconda\\envs\\practicum\\lib\\site-packages\\pymystem3\\mystem.py:250\u001b[0m, in \u001b[0;36mMystem.analyze\u001b[1;34m(self, text)\u001b[0m\n\u001b[0;32m    248\u001b[0m result \u001b[38;5;241m=\u001b[39m []\n\u001b[0;32m    249\u001b[0m \u001b[38;5;28;01mfor\u001b[39;00m line \u001b[38;5;129;01min\u001b[39;00m text\u001b[38;5;241m.\u001b[39msplitlines():\n\u001b[1;32m--> 250\u001b[0m     result\u001b[38;5;241m.\u001b[39mextend(\u001b[38;5;28;43mself\u001b[39;49m\u001b[38;5;241;43m.\u001b[39;49m\u001b[43m_analyze_impl\u001b[49m\u001b[43m(\u001b[49m\u001b[43mline\u001b[49m\u001b[43m)\u001b[49m)\n\u001b[0;32m    251\u001b[0m \u001b[38;5;28;01mreturn\u001b[39;00m result\n",
      "File \u001b[1;32mC:\\anaconda\\envs\\practicum\\lib\\site-packages\\pymystem3\\mystem.py:313\u001b[0m, in \u001b[0;36mMystem._analyze_impl\u001b[1;34m(self, text)\u001b[0m\n\u001b[0;32m    310\u001b[0m \u001b[38;5;28mself\u001b[39m\u001b[38;5;241m.\u001b[39m_procin\u001b[38;5;241m.\u001b[39mwrite(text)\n\u001b[0;32m    311\u001b[0m \u001b[38;5;28mself\u001b[39m\u001b[38;5;241m.\u001b[39m_procin\u001b[38;5;241m.\u001b[39mwrite(_NL)\n\u001b[1;32m--> 313\u001b[0m out, _ \u001b[38;5;241m=\u001b[39m \u001b[38;5;28;43mself\u001b[39;49m\u001b[38;5;241;43m.\u001b[39;49m\u001b[43m_proc\u001b[49m\u001b[38;5;241;43m.\u001b[39;49m\u001b[43mcommunicate\u001b[49m\u001b[43m(\u001b[49m\u001b[43m)\u001b[49m\n\u001b[0;32m    314\u001b[0m \u001b[38;5;28mself\u001b[39m\u001b[38;5;241m.\u001b[39m_proc \u001b[38;5;241m=\u001b[39m \u001b[38;5;28;01mNone\u001b[39;00m\n\u001b[0;32m    315\u001b[0m \u001b[38;5;28;01mtry\u001b[39;00m:\n\u001b[0;32m    316\u001b[0m     \u001b[38;5;66;03m#obj = json.loads(out)\u001b[39;00m\n",
      "File \u001b[1;32mC:\\anaconda\\envs\\practicum\\lib\\subprocess.py:1134\u001b[0m, in \u001b[0;36mPopen.communicate\u001b[1;34m(self, input, timeout)\u001b[0m\n\u001b[0;32m   1131\u001b[0m     endtime \u001b[38;5;241m=\u001b[39m \u001b[38;5;28;01mNone\u001b[39;00m\n\u001b[0;32m   1133\u001b[0m \u001b[38;5;28;01mtry\u001b[39;00m:\n\u001b[1;32m-> 1134\u001b[0m     stdout, stderr \u001b[38;5;241m=\u001b[39m \u001b[38;5;28;43mself\u001b[39;49m\u001b[38;5;241;43m.\u001b[39;49m\u001b[43m_communicate\u001b[49m\u001b[43m(\u001b[49m\u001b[38;5;28;43minput\u001b[39;49m\u001b[43m,\u001b[49m\u001b[43m \u001b[49m\u001b[43mendtime\u001b[49m\u001b[43m,\u001b[49m\u001b[43m \u001b[49m\u001b[43mtimeout\u001b[49m\u001b[43m)\u001b[49m\n\u001b[0;32m   1135\u001b[0m \u001b[38;5;28;01mexcept\u001b[39;00m \u001b[38;5;167;01mKeyboardInterrupt\u001b[39;00m:\n\u001b[0;32m   1136\u001b[0m     \u001b[38;5;66;03m# https://bugs.python.org/issue25942\u001b[39;00m\n\u001b[0;32m   1137\u001b[0m     \u001b[38;5;66;03m# See the detailed comment in .wait().\u001b[39;00m\n\u001b[0;32m   1138\u001b[0m     \u001b[38;5;28;01mif\u001b[39;00m timeout \u001b[38;5;129;01mis\u001b[39;00m \u001b[38;5;129;01mnot\u001b[39;00m \u001b[38;5;28;01mNone\u001b[39;00m:\n",
      "File \u001b[1;32mC:\\anaconda\\envs\\practicum\\lib\\subprocess.py:1508\u001b[0m, in \u001b[0;36mPopen._communicate\u001b[1;34m(self, input, endtime, orig_timeout)\u001b[0m\n\u001b[0;32m   1504\u001b[0m \u001b[38;5;66;03m# Wait for the reader threads, or time out.  If we time out, the\u001b[39;00m\n\u001b[0;32m   1505\u001b[0m \u001b[38;5;66;03m# threads remain reading and the fds left open in case the user\u001b[39;00m\n\u001b[0;32m   1506\u001b[0m \u001b[38;5;66;03m# calls communicate again.\u001b[39;00m\n\u001b[0;32m   1507\u001b[0m \u001b[38;5;28;01mif\u001b[39;00m \u001b[38;5;28mself\u001b[39m\u001b[38;5;241m.\u001b[39mstdout \u001b[38;5;129;01mis\u001b[39;00m \u001b[38;5;129;01mnot\u001b[39;00m \u001b[38;5;28;01mNone\u001b[39;00m:\n\u001b[1;32m-> 1508\u001b[0m     \u001b[38;5;28;43mself\u001b[39;49m\u001b[38;5;241;43m.\u001b[39;49m\u001b[43mstdout_thread\u001b[49m\u001b[38;5;241;43m.\u001b[39;49m\u001b[43mjoin\u001b[49m\u001b[43m(\u001b[49m\u001b[38;5;28;43mself\u001b[39;49m\u001b[38;5;241;43m.\u001b[39;49m\u001b[43m_remaining_time\u001b[49m\u001b[43m(\u001b[49m\u001b[43mendtime\u001b[49m\u001b[43m)\u001b[49m\u001b[43m)\u001b[49m\n\u001b[0;32m   1509\u001b[0m     \u001b[38;5;28;01mif\u001b[39;00m \u001b[38;5;28mself\u001b[39m\u001b[38;5;241m.\u001b[39mstdout_thread\u001b[38;5;241m.\u001b[39mis_alive():\n\u001b[0;32m   1510\u001b[0m         \u001b[38;5;28;01mraise\u001b[39;00m TimeoutExpired(\u001b[38;5;28mself\u001b[39m\u001b[38;5;241m.\u001b[39margs, orig_timeout)\n",
      "File \u001b[1;32mC:\\anaconda\\envs\\practicum\\lib\\threading.py:1060\u001b[0m, in \u001b[0;36mThread.join\u001b[1;34m(self, timeout)\u001b[0m\n\u001b[0;32m   1057\u001b[0m     \u001b[38;5;28;01mraise\u001b[39;00m \u001b[38;5;167;01mRuntimeError\u001b[39;00m(\u001b[38;5;124m\"\u001b[39m\u001b[38;5;124mcannot join current thread\u001b[39m\u001b[38;5;124m\"\u001b[39m)\n\u001b[0;32m   1059\u001b[0m \u001b[38;5;28;01mif\u001b[39;00m timeout \u001b[38;5;129;01mis\u001b[39;00m \u001b[38;5;28;01mNone\u001b[39;00m:\n\u001b[1;32m-> 1060\u001b[0m     \u001b[38;5;28;43mself\u001b[39;49m\u001b[38;5;241;43m.\u001b[39;49m\u001b[43m_wait_for_tstate_lock\u001b[49m\u001b[43m(\u001b[49m\u001b[43m)\u001b[49m\n\u001b[0;32m   1061\u001b[0m \u001b[38;5;28;01melse\u001b[39;00m:\n\u001b[0;32m   1062\u001b[0m     \u001b[38;5;66;03m# the behavior of a negative timeout isn't documented, but\u001b[39;00m\n\u001b[0;32m   1063\u001b[0m     \u001b[38;5;66;03m# historically .join(timeout=x) for x<0 has acted as if timeout=0\u001b[39;00m\n\u001b[0;32m   1064\u001b[0m     \u001b[38;5;28mself\u001b[39m\u001b[38;5;241m.\u001b[39m_wait_for_tstate_lock(timeout\u001b[38;5;241m=\u001b[39m\u001b[38;5;28mmax\u001b[39m(timeout, \u001b[38;5;241m0\u001b[39m))\n",
      "File \u001b[1;32mC:\\anaconda\\envs\\practicum\\lib\\threading.py:1080\u001b[0m, in \u001b[0;36mThread._wait_for_tstate_lock\u001b[1;34m(self, block, timeout)\u001b[0m\n\u001b[0;32m   1077\u001b[0m     \u001b[38;5;28;01mreturn\u001b[39;00m\n\u001b[0;32m   1079\u001b[0m \u001b[38;5;28;01mtry\u001b[39;00m:\n\u001b[1;32m-> 1080\u001b[0m     \u001b[38;5;28;01mif\u001b[39;00m \u001b[43mlock\u001b[49m\u001b[38;5;241;43m.\u001b[39;49m\u001b[43macquire\u001b[49m\u001b[43m(\u001b[49m\u001b[43mblock\u001b[49m\u001b[43m,\u001b[49m\u001b[43m \u001b[49m\u001b[43mtimeout\u001b[49m\u001b[43m)\u001b[49m:\n\u001b[0;32m   1081\u001b[0m         lock\u001b[38;5;241m.\u001b[39mrelease()\n\u001b[0;32m   1082\u001b[0m         \u001b[38;5;28mself\u001b[39m\u001b[38;5;241m.\u001b[39m_stop()\n",
      "\u001b[1;31mKeyboardInterrupt\u001b[0m: "
     ]
    }
   ],
   "source": [
    "%%time\n",
    "\n",
    "corpus = main_dataset['operations'].apply(lambda x: clear_text(lemmatize(x)))"
   ]
  },
  {
   "cell_type": "code",
   "execution_count": 475,
   "id": "8ecfdaf0",
   "metadata": {},
   "outputs": [],
   "source": [
    "main_dataset['operations'] = corpus"
   ]
  },
  {
   "cell_type": "code",
   "execution_count": 476,
   "id": "dea3747a",
   "metadata": {},
   "outputs": [
    {
     "data": {
      "text/html": [
       "<div>\n",
       "<style scoped>\n",
       "    .dataframe tbody tr th:only-of-type {\n",
       "        vertical-align: middle;\n",
       "    }\n",
       "\n",
       "    .dataframe tbody tr th {\n",
       "        vertical-align: top;\n",
       "    }\n",
       "\n",
       "    .dataframe thead th {\n",
       "        text-align: right;\n",
       "    }\n",
       "</style>\n",
       "<table border=\"1\" class=\"dataframe\">\n",
       "  <thead>\n",
       "    <tr style=\"text-align: right;\">\n",
       "      <th></th>\n",
       "      <th>sex</th>\n",
       "      <th>height</th>\n",
       "      <th>weight</th>\n",
       "      <th>BMI</th>\n",
       "      <th>BSA</th>\n",
       "      <th>operations</th>\n",
       "      <th>target</th>\n",
       "    </tr>\n",
       "  </thead>\n",
       "  <tbody>\n",
       "    <tr>\n",
       "      <th>246</th>\n",
       "      <td>m</td>\n",
       "      <td>55</td>\n",
       "      <td>3.660</td>\n",
       "      <td>49.35</td>\n",
       "      <td>0.24</td>\n",
       "      <td>закрывать клипирование открывать артериальный ...</td>\n",
       "      <td>0</td>\n",
       "    </tr>\n",
       "    <tr>\n",
       "      <th>38</th>\n",
       "      <td>m</td>\n",
       "      <td>70</td>\n",
       "      <td>6.750</td>\n",
       "      <td>80.68</td>\n",
       "      <td>0.37</td>\n",
       "      <td>откр ик перевязка ранее налагать анастомоз по ...</td>\n",
       "      <td>0</td>\n",
       "    </tr>\n",
       "    <tr>\n",
       "      <th>10</th>\n",
       "      <td>m</td>\n",
       "      <td>85</td>\n",
       "      <td>11.100</td>\n",
       "      <td>120.40</td>\n",
       "      <td>0.52</td>\n",
       "      <td>эндоваск транслюминальный балонный ангиопласти...</td>\n",
       "      <td>0</td>\n",
       "    </tr>\n",
       "    <tr>\n",
       "      <th>104</th>\n",
       "      <td>m</td>\n",
       "      <td>62</td>\n",
       "      <td>4.715</td>\n",
       "      <td>59.88</td>\n",
       "      <td>0.29</td>\n",
       "      <td>откр ик радикальный коррекция тетрада фалло с ...</td>\n",
       "      <td>0</td>\n",
       "    </tr>\n",
       "    <tr>\n",
       "      <th>64</th>\n",
       "      <td>f</td>\n",
       "      <td>65</td>\n",
       "      <td>5.500</td>\n",
       "      <td>68.22</td>\n",
       "      <td>0.32</td>\n",
       "      <td>откр ик пластика дефект межжелудочковый перего...</td>\n",
       "      <td>0</td>\n",
       "    </tr>\n",
       "  </tbody>\n",
       "</table>\n",
       "</div>"
      ],
      "text/plain": [
       "    sex  height  weight     BMI   BSA  \\\n",
       "246   m      55   3.660   49.35  0.24   \n",
       "38    m      70   6.750   80.68  0.37   \n",
       "10    m      85  11.100  120.40  0.52   \n",
       "104   m      62   4.715   59.88  0.29   \n",
       "64    f      65   5.500   68.22  0.32   \n",
       "\n",
       "                                            operations  target  \n",
       "246  закрывать клипирование открывать артериальный ...       0  \n",
       "38   откр ик перевязка ранее налагать анастомоз по ...       0  \n",
       "10   эндоваск транслюминальный балонный ангиопласти...       0  \n",
       "104  откр ик радикальный коррекция тетрада фалло с ...       0  \n",
       "64   откр ик пластика дефект межжелудочковый перего...       0  "
      ]
     },
     "execution_count": 476,
     "metadata": {},
     "output_type": "execute_result"
    }
   ],
   "source": [
    "main_dataset.sample(5)"
   ]
  },
  {
   "cell_type": "markdown",
   "id": "48609b86",
   "metadata": {},
   "source": [
    "### Категории"
   ]
  },
  {
   "cell_type": "code",
   "execution_count": 477,
   "id": "a8a31cbd",
   "metadata": {},
   "outputs": [],
   "source": [
    "main_dataset['sex'] = pd.get_dummies(main_dataset['sex'], drop_first=True)"
   ]
  },
  {
   "cell_type": "code",
   "execution_count": 478,
   "id": "a8466d26",
   "metadata": {},
   "outputs": [
    {
     "data": {
      "text/html": [
       "<div>\n",
       "<style scoped>\n",
       "    .dataframe tbody tr th:only-of-type {\n",
       "        vertical-align: middle;\n",
       "    }\n",
       "\n",
       "    .dataframe tbody tr th {\n",
       "        vertical-align: top;\n",
       "    }\n",
       "\n",
       "    .dataframe thead th {\n",
       "        text-align: right;\n",
       "    }\n",
       "</style>\n",
       "<table border=\"1\" class=\"dataframe\">\n",
       "  <thead>\n",
       "    <tr style=\"text-align: right;\">\n",
       "      <th></th>\n",
       "      <th>sex</th>\n",
       "      <th>height</th>\n",
       "      <th>weight</th>\n",
       "      <th>BMI</th>\n",
       "      <th>BSA</th>\n",
       "      <th>operations</th>\n",
       "      <th>target</th>\n",
       "    </tr>\n",
       "  </thead>\n",
       "  <tbody>\n",
       "    <tr>\n",
       "      <th>184</th>\n",
       "      <td>1</td>\n",
       "      <td>64</td>\n",
       "      <td>6.754</td>\n",
       "      <td>84.42</td>\n",
       "      <td>0.35</td>\n",
       "      <td>закрывать наложение модифицированный подключич...</td>\n",
       "      <td>0</td>\n",
       "    </tr>\n",
       "    <tr>\n",
       "      <th>132</th>\n",
       "      <td>1</td>\n",
       "      <td>68</td>\n",
       "      <td>6.740</td>\n",
       "      <td>81.73</td>\n",
       "      <td>0.36</td>\n",
       "      <td>откр ик перевязка ранее налагать анастомоз по ...</td>\n",
       "      <td>0</td>\n",
       "    </tr>\n",
       "    <tr>\n",
       "      <th>65</th>\n",
       "      <td>1</td>\n",
       "      <td>70</td>\n",
       "      <td>8.000</td>\n",
       "      <td>95.62</td>\n",
       "      <td>0.40</td>\n",
       "      <td>откр ик радикальный коррекция тетрада фалло с ...</td>\n",
       "      <td>0</td>\n",
       "    </tr>\n",
       "    <tr>\n",
       "      <th>230</th>\n",
       "      <td>1</td>\n",
       "      <td>45</td>\n",
       "      <td>2.300</td>\n",
       "      <td>34.29</td>\n",
       "      <td>0.17</td>\n",
       "      <td>откр ик пластика легочный артерия дилятация кл...</td>\n",
       "      <td>1</td>\n",
       "    </tr>\n",
       "    <tr>\n",
       "      <th>2</th>\n",
       "      <td>1</td>\n",
       "      <td>74</td>\n",
       "      <td>8.900</td>\n",
       "      <td>103.46</td>\n",
       "      <td>0.43</td>\n",
       "      <td>откр ик перевязка ранее налагать анастомоз по ...</td>\n",
       "      <td>0</td>\n",
       "    </tr>\n",
       "  </tbody>\n",
       "</table>\n",
       "</div>"
      ],
      "text/plain": [
       "     sex  height  weight     BMI   BSA  \\\n",
       "184    1      64   6.754   84.42  0.35   \n",
       "132    1      68   6.740   81.73  0.36   \n",
       "65     1      70   8.000   95.62  0.40   \n",
       "230    1      45   2.300   34.29  0.17   \n",
       "2      1      74   8.900  103.46  0.43   \n",
       "\n",
       "                                            operations  target  \n",
       "184  закрывать наложение модифицированный подключич...       0  \n",
       "132  откр ик перевязка ранее налагать анастомоз по ...       0  \n",
       "65   откр ик радикальный коррекция тетрада фалло с ...       0  \n",
       "230  откр ик пластика легочный артерия дилятация кл...       1  \n",
       "2    откр ик перевязка ранее налагать анастомоз по ...       0  "
      ]
     },
     "execution_count": 478,
     "metadata": {},
     "output_type": "execute_result"
    }
   ],
   "source": [
    "main_dataset.sample(5)"
   ]
  },
  {
   "cell_type": "markdown",
   "id": "fa2cddd1",
   "metadata": {},
   "source": [
    "## Обучение\n",
    "\n",
    "### Pipeline\n",
    "\n",
    "#### Text Features Pipeline"
   ]
  },
  {
   "cell_type": "code",
   "execution_count": 479,
   "id": "47417d47",
   "metadata": {},
   "outputs": [
    {
     "name": "stderr",
     "output_type": "stream",
     "text": [
      "[nltk_data] Downloading package stopwords to\n",
      "[nltk_data]     C:\\Users\\Стивен\\AppData\\Roaming\\nltk_data...\n",
      "[nltk_data]   Package stopwords is already up-to-date!\n"
     ]
    },
    {
     "data": {
      "text/plain": [
       "True"
      ]
     },
     "execution_count": 479,
     "metadata": {},
     "output_type": "execute_result"
    }
   ],
   "source": [
    "nltk.download('stopwords')"
   ]
  },
  {
   "cell_type": "code",
   "execution_count": 480,
   "id": "63e6f2c9",
   "metadata": {},
   "outputs": [],
   "source": [
    "stopwords = nltk_stopwords.words('russian')"
   ]
  },
  {
   "cell_type": "code",
   "execution_count": 481,
   "id": "a97b06ef",
   "metadata": {},
   "outputs": [],
   "source": [
    "operations_transformer = TfidfVectorizer(stop_words=stopwords)"
   ]
  },
  {
   "cell_type": "markdown",
   "id": "7dd105f7",
   "metadata": {},
   "source": [
    "***\n",
    "\n",
    "### Column Transformer"
   ]
  },
  {
   "cell_type": "code",
   "execution_count": 482,
   "id": "9c5bd091",
   "metadata": {},
   "outputs": [],
   "source": [
    "preprocessor = ColumnTransformer(\n",
    "    transformers=[\n",
    "        ('text', operations_transformer, 'operations')\n",
    "    ],\n",
    "    remainder='passthrough'\n",
    ")"
   ]
  },
  {
   "cell_type": "code",
   "execution_count": 483,
   "id": "10cc353c",
   "metadata": {},
   "outputs": [
    {
     "data": {
      "text/plain": [
       "(298, 266)"
      ]
     },
     "execution_count": 483,
     "metadata": {},
     "output_type": "execute_result"
    }
   ],
   "source": [
    "preprocessor.fit_transform(main_dataset).shape"
   ]
  },
  {
   "cell_type": "code",
   "execution_count": 484,
   "id": "24fcc22d",
   "metadata": {},
   "outputs": [],
   "source": [
    "X, y = main_dataset.drop('target', axis=1), main_dataset['target']"
   ]
  },
  {
   "cell_type": "code",
   "execution_count": 485,
   "id": "f898c8c7",
   "metadata": {},
   "outputs": [],
   "source": [
    "X_train, X_test, y_train, y_test = train_test_split(X, y, test_size=0.3, stratify=y)"
   ]
  },
  {
   "cell_type": "code",
   "execution_count": 486,
   "id": "2f660fb7",
   "metadata": {},
   "outputs": [
    {
     "data": {
      "text/plain": [
       "(208, 6)"
      ]
     },
     "execution_count": 486,
     "metadata": {},
     "output_type": "execute_result"
    }
   ],
   "source": [
    "X_train.shape"
   ]
  },
  {
   "cell_type": "code",
   "execution_count": 487,
   "id": "74662a0c",
   "metadata": {},
   "outputs": [
    {
     "data": {
      "text/plain": [
       "(90, 6)"
      ]
     },
     "execution_count": 487,
     "metadata": {},
     "output_type": "execute_result"
    }
   ],
   "source": [
    "X_test.shape"
   ]
  },
  {
   "cell_type": "code",
   "execution_count": 488,
   "id": "527fed2e",
   "metadata": {},
   "outputs": [
    {
     "data": {
      "text/plain": [
       "0    198\n",
       "1     10\n",
       "Name: target, dtype: int64"
      ]
     },
     "execution_count": 488,
     "metadata": {},
     "output_type": "execute_result"
    }
   ],
   "source": [
    "y_train.value_counts()"
   ]
  },
  {
   "cell_type": "code",
   "execution_count": 489,
   "id": "d1d10845",
   "metadata": {},
   "outputs": [
    {
     "data": {
      "text/plain": [
       "0    86\n",
       "1     4\n",
       "Name: target, dtype: int64"
      ]
     },
     "execution_count": 489,
     "metadata": {},
     "output_type": "execute_result"
    }
   ],
   "source": [
    "y_test.value_counts()"
   ]
  },
  {
   "cell_type": "markdown",
   "id": "4b703a54",
   "metadata": {},
   "source": [
    "### Выбор модели\n",
    "\n",
    "Сделаем пайплайн на примере кэтбуст. Проверим на кросс валидации"
   ]
  },
  {
   "cell_type": "markdown",
   "id": "4313f719",
   "metadata": {},
   "source": [
    "### Pipeline + RandomSearch"
   ]
  },
  {
   "cell_type": "code",
   "execution_count": 490,
   "id": "f2793a6d",
   "metadata": {},
   "outputs": [],
   "source": [
    "def create_pipeline(clf):\n",
    "    pipeline = imbpipeline(\n",
    "        steps=[\n",
    "            ('preprocess', preprocessor),\n",
    "            ('smote', SMOTE()),\n",
    "            ('clf', clf)\n",
    "        ]\n",
    "    )\n",
    "    return pipeline"
   ]
  },
  {
   "cell_type": "code",
   "execution_count": 491,
   "id": "c165fc35",
   "metadata": {},
   "outputs": [],
   "source": [
    "def random_search(clf, params, scorer, n_iter=10):\n",
    "    clf = create_pipeline(clf)\n",
    "    return RandomSearchCV(clf, params=params, scoring=scorer, n_iter=n_iter, cv=StratifiedKFold(n_splits=3, shuffle=True))"
   ]
  },
  {
   "cell_type": "code",
   "execution_count": 492,
   "id": "950d4d54",
   "metadata": {},
   "outputs": [],
   "source": [
    "def to_labels(pos_probs, threshold):\n",
    "    return (pos_probs >= threshold).astype('int')\n",
    "\n",
    "def thresholds_argmax(model, x, y):\n",
    "    thresholds = np.arange(0, 0.9, 0.001)\n",
    "    probs = model.predict_proba(x)[:, 1]\n",
    "    scores = [roc_auc_score(y, to_labels(probs, t)) for t in thresholds]\n",
    "    ix = np.argmax(scores)\n",
    "    threshold = thresholds[ix]\n",
    "    return (threshold)"
   ]
  },
  {
   "cell_type": "code",
   "execution_count": 493,
   "id": "a45a3b24",
   "metadata": {},
   "outputs": [],
   "source": [
    "def fit_data(model):\n",
    "    clf_name = model.estimator['clf'].__class__.__name__\n",
    "    print(f'Classifier name: {clf_name}')\n",
    "    \n",
    "    model = model.fit(X_train, y_train)\n",
    "    print(f'Training finished!', '-'*100, sep='\\n')\n",
    "    print(f'Best score: roc_auc_score = {model.best_score_}')\n",
    "    print(f'Best parameters {model.best_params_}')\n",
    "    \n",
    "    feature_importance = model.best_estimator_['clf'].get_feature_importance()\n",
    "    main_features = pd.DataFrame(data = feature_importance[-5:], index=X.columns[:5]).sort_values(by=0)\n",
    "    \n",
    "    plt.figure(figsize=(10, 5))\n",
    "    plt.subplot(1, 2, 1)\n",
    "    main_features.plot(kind='barh', ax=plt.gca())\n",
    "    plt.title('Feature Importance without operations')\n",
    "    plt.xlabel('Importance, %')\n",
    "\n",
    "    main_features = main_features.append(pd.DataFrame([feature_importance[:-5].sum()], index=['operations']))\n",
    "    \n",
    "    plt.subplot(1, 2, 2)\n",
    "    main_features.plot(kind='barh', ax=plt.gca())\n",
    "    plt.title('Feature Importance with operations')\n",
    "    plt.xlabel('Importance, %')\n",
    "    plt.show()\n",
    "    \n",
    "    word_dict = model.best_estimator_['preprocess'].transformers_[0][1].vocabulary_\n",
    "    words = pd.DataFrame(data=word_dict.keys(), index=word_dict.values())\n",
    "    words.columns = ['word']\n",
    "    words['importance'] = feature_importance[5:]\n",
    "    words = words.sort_values(by='importance', ascending=False).head(25).set_index('word')\n",
    "    plt.figure(figsize=(7, 10))\n",
    "    words.sort_values(by='importance').plot(kind='barh', ax=plt.gca())\n",
    "    plt.title('Word importance')\n",
    "    plt.xlabel('Importance, %')\n",
    "    plt.show()\n",
    "    \n",
    "    best_model = model.best_estimator_.fit(X_train, y_train)\n",
    "    th = thresholds_argmax(best_model, X_test, y_test)\n",
    "    print(f'Threshold: {th}')\n",
    "    predictions = best_model.predict_proba(X_test)[:,1] > th\n",
    "    print(f'Confusion Matrix:\\n {confusion_matrix(y_test, predictions)}')\n",
    "    print(classification_report(y_test, predictions))\n",
    "    \n",
    "    return best_model"
   ]
  },
  {
   "cell_type": "code",
   "execution_count": 494,
   "id": "047b2cad",
   "metadata": {
    "scrolled": false
   },
   "outputs": [
    {
     "name": "stdout",
     "output_type": "stream",
     "text": [
      "Classifier name: CatBoostClassifier\n",
      "Fitting 3 folds for each of 3 candidates, totalling 9 fits\n",
      "[CV 1/3] END ...............clf__iterations=115;, score=0.617 total time=   0.4s\n",
      "[CV 2/3] END ...............clf__iterations=115;, score=0.500 total time=   0.3s\n",
      "[CV 3/3] END ...............clf__iterations=115;, score=0.485 total time=   0.3s\n",
      "[CV 1/3] END ...............clf__iterations=187;, score=0.492 total time=   0.6s\n",
      "[CV 2/3] END ...............clf__iterations=187;, score=0.500 total time=   0.5s\n",
      "[CV 3/3] END ...............clf__iterations=187;, score=0.485 total time=   0.5s\n",
      "[CV 1/3] END ...............clf__iterations=951;, score=0.617 total time=   2.9s\n",
      "[CV 2/3] END ...............clf__iterations=951;, score=0.500 total time=   2.7s\n",
      "[CV 3/3] END ...............clf__iterations=951;, score=0.485 total time=   2.9s\n",
      "Training finished!\n",
      "----------------------------------------------------------------------------------------------------\n",
      "Best score: roc_auc_score = 0.5340909090909091\n",
      "Best parameters {'clf__iterations': 115}\n"
     ]
    },
    {
     "data": {
      "image/png": "[encoded data removed]",
      "text/plain": [
       "<Figure size 1000x500 with 2 Axes>"
      ]
     },
     "metadata": {},
     "output_type": "display_data"
    },
    {
     "data": {
      "image/png": "[encoded data removed]",
      "text/plain": [
       "<Figure size 700x1000 with 1 Axes>"
      ]
     },
     "metadata": {},
     "output_type": "display_data"
    },
    {
     "name": "stdout",
     "output_type": "stream",
     "text": [
      "Threshold: 0.05\n",
      "Confusion Matrix:\n",
      " [[70 16]\n",
      " [ 0  4]]\n",
      "              precision    recall  f1-score   support\n",
      "\n",
      "           0       1.00      0.81      0.90        86\n",
      "           1       0.20      1.00      0.33         4\n",
      "\n",
      "    accuracy                           0.82        90\n",
      "   macro avg       0.60      0.91      0.62        90\n",
      "weighted avg       0.96      0.82      0.87        90\n",
      "\n"
     ]
    }
   ],
   "source": [
    "parameters = {\n",
    "    'clf__iterations': range(100, 1000)\n",
    "}\n",
    "\n",
    "test = create_random_search(CatBoostClassifier(silent=True), parameters, make_scorer(roc_auc_score, labels=[1]), 3)\n",
    "best_model = fit_data(test)"
   ]
  },
  {
   "cell_type": "code",
   "execution_count": null,
   "id": "3f3e1432",
   "metadata": {},
   "outputs": [],
   "source": []
  },
  {
   "cell_type": "code",
   "execution_count": null,
   "id": "23446a5f",
   "metadata": {},
   "outputs": [],
   "source": []
  }
 ],
 "metadata": {
  "kernelspec": {
   "display_name": "Python 3 (ipykernel)",
   "language": "python",
   "name": "python3"
  },
  "language_info": {
   "codemirror_mode": {
    "name": "ipython",
    "version": 3
   },
   "file_extension": ".py",
   "mimetype": "text/x-python",
   "name": "python",
   "nbconvert_exporter": "python",
   "pygments_lexer": "ipython3",
   "version": "3.9.13"
  }
 },
 "nbformat": 4,
 "nbformat_minor": 5
}
