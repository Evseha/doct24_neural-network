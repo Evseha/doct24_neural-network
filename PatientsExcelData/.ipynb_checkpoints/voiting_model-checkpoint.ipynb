{
 "cells": [
  {
   "cell_type": "markdown",
   "metadata": {
    "id": "WjIPSP1S8lNV"
   },
   "source": [
    "# Анализ"
   ]
  },
  {
   "cell_type": "code",
   "execution_count": null,
   "metadata": {
    "id": "dglFzUcA5YWn"
   },
   "outputs": [],
   "source": [
    "import pandas as pd\n",
    "import matplotlib.pyplot as plt\n",
    "import seaborn as sns\n",
    "import numpy as np\n",
    "\n",
    "# Предобработка\n",
    "from sklearn.preprocessing import OneHotEncoder, LabelEncoder, StandardScaler \n",
    "# Обучение\n",
    "from sklearn.model_selection import train_test_split, cross_val_score, StratifiedKFold, GridSearchCV \n",
    "# Тест\n",
    "from sklearn.dummy import DummyClassifier\n",
    "from sklearn.metrics import confusion_matrix, mean_absolute_error, f1_score, roc_curve, roc_auc_score, auc\n",
    "# индикатор важности признаков\n",
    "from sklearn.ensemble import RandomForestClassifier\n",
    "# Machine learning models. Модели для объединения\n",
    "from sklearn.svm import SVC\n",
    "from catboost import CatBoostClassifier\n",
    "from xgboost import XGBClassifier\n",
    "# Model evaluation. Алгоритм объединения\n",
    "from sklearn.ensemble import VotingClassifier\n",
    "\n",
    "# Модели для сравнения\n",
    "from sklearn.linear_model import LogisticRegression, Perceptron, SGDClassifier\n",
    "from sklearn.svm import SVC, LinearSVC\n",
    "from sklearn.ensemble import RandomForestClassifier\n",
    "from sklearn.neighbors import KNeighborsClassifier\n",
    "from sklearn.naive_bayes import GaussianNB\n",
    "from sklearn.tree import DecisionTreeClassifier\n",
    "from lightgbm import LGBMClassifier\n",
    "\n",
    "# Remove warnings\n",
    "import warnings\n",
    "warnings.filterwarnings('ignore')\n"
   ]
  },
  {
   "cell_type": "code",
   "execution_count": null,
   "metadata": {
    "colab": {
     "base_uri": "https://localhost:8080/",
     "height": 716
    },
    "id": "xAUljTGo5BCE",
    "outputId": "54aea759-5f52-4ed9-b7d7-99c8361e86ee"
   },
   "outputs": [
    {
     "data": {
      "text/html": [
       "\n",
       "  <div id=\"df-183ec2fb-0038-4729-928a-e364047eb5c0\">\n",
       "    <div class=\"colab-df-container\">\n",
       "      <div>\n",
       "<style scoped>\n",
       "    .dataframe tbody tr th:only-of-type {\n",
       "        vertical-align: middle;\n",
       "    }\n",
       "\n",
       "    .dataframe tbody tr th {\n",
       "        vertical-align: top;\n",
       "    }\n",
       "\n",
       "    .dataframe thead th {\n",
       "        text-align: right;\n",
       "    }\n",
       "</style>\n",
       "<table border=\"1\" class=\"dataframe\">\n",
       "  <thead>\n",
       "    <tr style=\"text-align: right;\">\n",
       "      <th></th>\n",
       "      <th>admittion</th>\n",
       "      <th>discharge</th>\n",
       "      <th>sex</th>\n",
       "      <th>height</th>\n",
       "      <th>weight</th>\n",
       "      <th>BMI</th>\n",
       "      <th>BSA</th>\n",
       "      <th>birth</th>\n",
       "      <th>Операции (все в ИБ)</th>\n",
       "      <th>Перенесенные опер. (из Анамн.)</th>\n",
       "      <th>...</th>\n",
       "      <th>Соп. забол. (из Анамн.)</th>\n",
       "      <th>Медикам. леч. по поводу осн. забол. (из Анамн.)</th>\n",
       "      <th>Принимаемые препараты (из Анамн.)</th>\n",
       "      <th>ЭхоКГ (Из Эпикр. до опер.)</th>\n",
       "      <th>ЭКГ (Из Эпикр. до опер.)</th>\n",
       "      <th>АКГ (Из Эпикр. до опер.)</th>\n",
       "      <th>КТ (Из Эпикр. до опер.)</th>\n",
       "      <th>Операция (основная / первая в ИБ)</th>\n",
       "      <th>Дата опер.</th>\n",
       "      <th>target</th>\n",
       "    </tr>\n",
       "  </thead>\n",
       "  <tbody>\n",
       "    <tr>\n",
       "      <th>0</th>\n",
       "      <td>2016-12-12</td>\n",
       "      <td>2017-01-10</td>\n",
       "      <td>m</td>\n",
       "      <td>76</td>\n",
       "      <td>9.70</td>\n",
       "      <td>111.27</td>\n",
       "      <td>0.46</td>\n",
       "      <td>02.01.2016</td>\n",
       "      <td>12.12.2016: (Откр./ИК) Перевязка ранее наложен...</td>\n",
       "      <td></td>\n",
       "      <td>...</td>\n",
       "      <td>Гипоксическое поражение ЦНС, синдром вегето-ви...</td>\n",
       "      <td>дигоксин, панангин, аспирин-кардио, верошпирон...</td>\n",
       "      <td>NaN</td>\n",
       "      <td>ЭхоКГ ВПС (02.12.2016 14:37:22,   Г.)\\nЛЖ, ЛП:...</td>\n",
       "      <td>ЭКГ (02.12.2016 16:43:25)\\nРитм сердца синусов...</td>\n",
       "      <td>АКГ ВПС (05.12.2016 15:23:19): Заключение: Атр...</td>\n",
       "      <td>Комп.томография (08.12.2016 11:29:05)\\nКТ карт...</td>\n",
       "      <td>Перевязка ранее наложенного анастомоза по Blal...</td>\n",
       "      <td>12.12.2016 12:25:00</td>\n",
       "      <td>0</td>\n",
       "    </tr>\n",
       "    <tr>\n",
       "      <th>1</th>\n",
       "      <td>2017-01-13</td>\n",
       "      <td>2017-02-01</td>\n",
       "      <td>f</td>\n",
       "      <td>67</td>\n",
       "      <td>7.34</td>\n",
       "      <td>89.67</td>\n",
       "      <td>0.37</td>\n",
       "      <td>02.02.2016</td>\n",
       "      <td>18.01.2017: (Откр./ИК) Радикальная коррекция д...</td>\n",
       "      <td>15.08.2016г.: Транслюминальная балонная вальву...</td>\n",
       "      <td>...</td>\n",
       "      <td>с-м Дауна, задержка темпов психо-моторного ра...</td>\n",
       "      <td>дигоксин, верошпирон коротким курсом в периоде...</td>\n",
       "      <td>NaN</td>\n",
       "      <td>ЭхоКГ ВПС (13.01.2017 14:05:57,  )\\nот 08.08.2...</td>\n",
       "      <td>ЭКГ (13.01.2017 14:05:49)\\nРитм сердца синусов...</td>\n",
       "      <td>АКГ ВПС (16.01.2017 10:51:48): Заключение: Дво...</td>\n",
       "      <td>NaN</td>\n",
       "      <td>Радикальная коррекция двойного отхождения маги...</td>\n",
       "      <td>18.01.2017 9:00:02</td>\n",
       "      <td>0</td>\n",
       "    </tr>\n",
       "    <tr>\n",
       "      <th>2</th>\n",
       "      <td>2017-01-17</td>\n",
       "      <td>2017-02-09</td>\n",
       "      <td>m</td>\n",
       "      <td>74</td>\n",
       "      <td>8.90</td>\n",
       "      <td>103.46</td>\n",
       "      <td>0.43</td>\n",
       "      <td>21.02.2016</td>\n",
       "      <td>19.01.2017: (Откр./ИК) Перевязка ранее наложен...</td>\n",
       "      <td>29.02.2016 - подключично-легочный анастомоз сп...</td>\n",
       "      <td>...</td>\n",
       "      <td>Каликоэктазия слева;</td>\n",
       "      <td>дигоксин, панангин, аспирин</td>\n",
       "      <td>дигоксин, панангин, аспирин</td>\n",
       "      <td>ЭхоКГ ВПС (17.01.2017 16:41:49,   Г.)\\nЛЖ КДР ...</td>\n",
       "      <td>ЭКГ (17.01.2017 17:30:48)\\nритм синусовый, отк...</td>\n",
       "      <td>NaN</td>\n",
       "      <td>Грудна яклетка не деформирована. Мягкие ткани ...</td>\n",
       "      <td>Перевязка ранее наложенного анастомоза по Blal...</td>\n",
       "      <td>19.01.2017 7:00:52</td>\n",
       "      <td>0</td>\n",
       "    </tr>\n",
       "    <tr>\n",
       "      <th>3</th>\n",
       "      <td>2017-01-20</td>\n",
       "      <td>2017-02-21</td>\n",
       "      <td>f</td>\n",
       "      <td>67</td>\n",
       "      <td>6.97</td>\n",
       "      <td>85.15</td>\n",
       "      <td>0.36</td>\n",
       "      <td>02.03.2016</td>\n",
       "      <td>23.01.2017: (Откр./ИК) Наложение двустороннего...</td>\n",
       "      <td></td>\n",
       "      <td>...</td>\n",
       "      <td></td>\n",
       "      <td>бисептол, бифидум, гепарин, глюкоза, кальция г...</td>\n",
       "      <td>дигоксин</td>\n",
       "      <td>21.12.2016\\nЛЖ - гипоплазирован, КДР-1.1-1.2. ...</td>\n",
       "      <td>Ритм синусовый, ЭОС отклонена влево</td>\n",
       "      <td>АКГ ВПС (30.11.2016 18:31:38): Заключение: Дво...</td>\n",
       "      <td>NaN</td>\n",
       "      <td>Наложение двустороннего кавапульмонального ана...</td>\n",
       "      <td>23.01.2017 8:45:00</td>\n",
       "      <td>0</td>\n",
       "    </tr>\n",
       "    <tr>\n",
       "      <th>4</th>\n",
       "      <td>2017-02-13</td>\n",
       "      <td>2017-03-01</td>\n",
       "      <td>m</td>\n",
       "      <td>82</td>\n",
       "      <td>9.29</td>\n",
       "      <td>102.59</td>\n",
       "      <td>0.46</td>\n",
       "      <td>08.03.2016</td>\n",
       "      <td>15.02.2017: (Откр./ИК) Реконструкция путей отт...</td>\n",
       "      <td>13.04.2016. НАЗВАНИЕ ОПЕРАЦИИ: Транслюминальна...</td>\n",
       "      <td>...</td>\n",
       "      <td>Последствия перинатального гипоксического пора...</td>\n",
       "      <td>верошпирон, беталок</td>\n",
       "      <td>NaN</td>\n",
       "      <td>08.02.17 () ЛП, ЛЖ - не увеличены, КДР 2,5см. ...</td>\n",
       "      <td>14.02.17 Ритм синусовый. ЧСС 120/мин. ЭОС откл...</td>\n",
       "      <td>АКГ ВПС (14.02.2017 16:19:17): Заключение: Ком...</td>\n",
       "      <td>NaN</td>\n",
       "      <td>Реконструкция путей оттока из правого желудочк...</td>\n",
       "      <td>15.02.2017 8:30:00</td>\n",
       "      <td>0</td>\n",
       "    </tr>\n",
       "  </tbody>\n",
       "</table>\n",
       "<p>5 rows × 22 columns</p>\n",
       "</div>\n",
       "      <button class=\"colab-df-convert\" onclick=\"convertToInteractive('df-183ec2fb-0038-4729-928a-e364047eb5c0')\"\n",
       "              title=\"Convert this dataframe to an interactive table.\"\n",
       "              style=\"display:none;\">\n",
       "        \n",
       "  <svg xmlns=\"http://www.w3.org/2000/svg\" height=\"24px\"viewBox=\"0 0 24 24\"\n",
       "       width=\"24px\">\n",
       "    <path d=\"M0 0h24v24H0V0z\" fill=\"none\"/>\n",
       "    <path d=\"M18.56 5.44l.94 2.06.94-2.06 2.06-.94-2.06-.94-.94-2.06-.94 2.06-2.06.94zm-11 1L8.5 8.5l.94-2.06 2.06-.94-2.06-.94L8.5 2.5l-.94 2.06-2.06.94zm10 10l.94 2.06.94-2.06 2.06-.94-2.06-.94-.94-2.06-.94 2.06-2.06.94z\"/><path d=\"M17.41 7.96l-1.37-1.37c-.4-.4-.92-.59-1.43-.59-.52 0-1.04.2-1.43.59L10.3 9.45l-7.72 7.72c-.78.78-.78 2.05 0 2.83L4 21.41c.39.39.9.59 1.41.59.51 0 1.02-.2 1.41-.59l7.78-7.78 2.81-2.81c.8-.78.8-2.07 0-2.86zM5.41 20L4 18.59l7.72-7.72 1.47 1.35L5.41 20z\"/>\n",
       "  </svg>\n",
       "      </button>\n",
       "      \n",
       "  <style>\n",
       "    .colab-df-container {\n",
       "      display:flex;\n",
       "      flex-wrap:wrap;\n",
       "      gap: 12px;\n",
       "    }\n",
       "\n",
       "    .colab-df-convert {\n",
       "      background-color: #E8F0FE;\n",
       "      border: none;\n",
       "      border-radius: 50%;\n",
       "      cursor: pointer;\n",
       "      display: none;\n",
       "      fill: #1967D2;\n",
       "      height: 32px;\n",
       "      padding: 0 0 0 0;\n",
       "      width: 32px;\n",
       "    }\n",
       "\n",
       "    .colab-df-convert:hover {\n",
       "      background-color: #E2EBFA;\n",
       "      box-shadow: 0px 1px 2px rgba(60, 64, 67, 0.3), 0px 1px 3px 1px rgba(60, 64, 67, 0.15);\n",
       "      fill: #174EA6;\n",
       "    }\n",
       "\n",
       "    [theme=dark] .colab-df-convert {\n",
       "      background-color: #3B4455;\n",
       "      fill: #D2E3FC;\n",
       "    }\n",
       "\n",
       "    [theme=dark] .colab-df-convert:hover {\n",
       "      background-color: #434B5C;\n",
       "      box-shadow: 0px 1px 3px 1px rgba(0, 0, 0, 0.15);\n",
       "      filter: drop-shadow(0px 1px 2px rgba(0, 0, 0, 0.3));\n",
       "      fill: #FFFFFF;\n",
       "    }\n",
       "  </style>\n",
       "\n",
       "      <script>\n",
       "        const buttonEl =\n",
       "          document.querySelector('#df-183ec2fb-0038-4729-928a-e364047eb5c0 button.colab-df-convert');\n",
       "        buttonEl.style.display =\n",
       "          google.colab.kernel.accessAllowed ? 'block' : 'none';\n",
       "\n",
       "        async function convertToInteractive(key) {\n",
       "          const element = document.querySelector('#df-183ec2fb-0038-4729-928a-e364047eb5c0');\n",
       "          const dataTable =\n",
       "            await google.colab.kernel.invokeFunction('convertToInteractive',\n",
       "                                                     [key], {});\n",
       "          if (!dataTable) return;\n",
       "\n",
       "          const docLinkHtml = 'Like what you see? Visit the ' +\n",
       "            '<a target=\"_blank\" href=https://colab.research.google.com/notebooks/data_table.ipynb>data table notebook</a>'\n",
       "            + ' to learn more about interactive tables.';\n",
       "          element.innerHTML = '';\n",
       "          dataTable['output_type'] = 'display_data';\n",
       "          await google.colab.output.renderOutput(dataTable, element);\n",
       "          const docLink = document.createElement('div');\n",
       "          docLink.innerHTML = docLinkHtml;\n",
       "          element.appendChild(docLink);\n",
       "        }\n",
       "      </script>\n",
       "    </div>\n",
       "  </div>\n",
       "  "
      ],
      "text/plain": [
       "   admittion  discharge sex  height  weight     BMI   BSA       birth  \\\n",
       "0 2016-12-12 2017-01-10   m      76    9.70  111.27  0.46  02.01.2016   \n",
       "1 2017-01-13 2017-02-01   f      67    7.34   89.67  0.37  02.02.2016   \n",
       "2 2017-01-17 2017-02-09   m      74    8.90  103.46  0.43  21.02.2016   \n",
       "3 2017-01-20 2017-02-21   f      67    6.97   85.15  0.36  02.03.2016   \n",
       "4 2017-02-13 2017-03-01   m      82    9.29  102.59  0.46  08.03.2016   \n",
       "\n",
       "                                 Операции (все в ИБ)  \\\n",
       "0  12.12.2016: (Откр./ИК) Перевязка ранее наложен...   \n",
       "1  18.01.2017: (Откр./ИК) Радикальная коррекция д...   \n",
       "2  19.01.2017: (Откр./ИК) Перевязка ранее наложен...   \n",
       "3  23.01.2017: (Откр./ИК) Наложение двустороннего...   \n",
       "4  15.02.2017: (Откр./ИК) Реконструкция путей отт...   \n",
       "\n",
       "                      Перенесенные опер. (из Анамн.)  ...  \\\n",
       "0                                                     ...   \n",
       "1  15.08.2016г.: Транслюминальная балонная вальву...  ...   \n",
       "2  29.02.2016 - подключично-легочный анастомоз сп...  ...   \n",
       "3                                                     ...   \n",
       "4  13.04.2016. НАЗВАНИЕ ОПЕРАЦИИ: Транслюминальна...  ...   \n",
       "\n",
       "                             Соп. забол. (из Анамн.)  \\\n",
       "0  Гипоксическое поражение ЦНС, синдром вегето-ви...   \n",
       "1   с-м Дауна, задержка темпов психо-моторного ра...   \n",
       "2                              Каликоэктазия слева;    \n",
       "3                                                      \n",
       "4  Последствия перинатального гипоксического пора...   \n",
       "\n",
       "     Медикам. леч. по поводу осн. забол. (из Анамн.)  \\\n",
       "0  дигоксин, панангин, аспирин-кардио, верошпирон...   \n",
       "1  дигоксин, верошпирон коротким курсом в периоде...   \n",
       "2                        дигоксин, панангин, аспирин   \n",
       "3  бисептол, бифидум, гепарин, глюкоза, кальция г...   \n",
       "4                                верошпирон, беталок   \n",
       "\n",
       "  Принимаемые препараты (из Анамн.)  \\\n",
       "0                               NaN   \n",
       "1                               NaN   \n",
       "2       дигоксин, панангин, аспирин   \n",
       "3                          дигоксин   \n",
       "4                               NaN   \n",
       "\n",
       "                          ЭхоКГ (Из Эпикр. до опер.)  \\\n",
       "0  ЭхоКГ ВПС (02.12.2016 14:37:22,   Г.)\\nЛЖ, ЛП:...   \n",
       "1  ЭхоКГ ВПС (13.01.2017 14:05:57,  )\\nот 08.08.2...   \n",
       "2  ЭхоКГ ВПС (17.01.2017 16:41:49,   Г.)\\nЛЖ КДР ...   \n",
       "3  21.12.2016\\nЛЖ - гипоплазирован, КДР-1.1-1.2. ...   \n",
       "4  08.02.17 () ЛП, ЛЖ - не увеличены, КДР 2,5см. ...   \n",
       "\n",
       "                            ЭКГ (Из Эпикр. до опер.)  \\\n",
       "0  ЭКГ (02.12.2016 16:43:25)\\nРитм сердца синусов...   \n",
       "1  ЭКГ (13.01.2017 14:05:49)\\nРитм сердца синусов...   \n",
       "2  ЭКГ (17.01.2017 17:30:48)\\nритм синусовый, отк...   \n",
       "3                Ритм синусовый, ЭОС отклонена влево   \n",
       "4  14.02.17 Ритм синусовый. ЧСС 120/мин. ЭОС откл...   \n",
       "\n",
       "                            АКГ (Из Эпикр. до опер.)  \\\n",
       "0  АКГ ВПС (05.12.2016 15:23:19): Заключение: Атр...   \n",
       "1  АКГ ВПС (16.01.2017 10:51:48): Заключение: Дво...   \n",
       "2                                                NaN   \n",
       "3  АКГ ВПС (30.11.2016 18:31:38): Заключение: Дво...   \n",
       "4  АКГ ВПС (14.02.2017 16:19:17): Заключение: Ком...   \n",
       "\n",
       "                             КТ (Из Эпикр. до опер.)  \\\n",
       "0  Комп.томография (08.12.2016 11:29:05)\\nКТ карт...   \n",
       "1                                                NaN   \n",
       "2  Грудна яклетка не деформирована. Мягкие ткани ...   \n",
       "3                                                NaN   \n",
       "4                                                NaN   \n",
       "\n",
       "                   Операция (основная / первая в ИБ)           Дата опер.  \\\n",
       "0  Перевязка ранее наложенного анастомоза по Blal...  12.12.2016 12:25:00   \n",
       "1  Радикальная коррекция двойного отхождения маги...   18.01.2017 9:00:02   \n",
       "2  Перевязка ранее наложенного анастомоза по Blal...   19.01.2017 7:00:52   \n",
       "3  Наложение двустороннего кавапульмонального ана...   23.01.2017 8:45:00   \n",
       "4  Реконструкция путей оттока из правого желудочк...   15.02.2017 8:30:00   \n",
       "\n",
       "  target  \n",
       "0      0  \n",
       "1      0  \n",
       "2      0  \n",
       "3      0  \n",
       "4      0  \n",
       "\n",
       "[5 rows x 22 columns]"
      ]
     },
     "execution_count": 26,
     "metadata": {},
     "output_type": "execute_result"
    }
   ],
   "source": [
    "file_path = 'chd_addmit_300.xlsx'\n",
    "data = pd.read_excel(file_path)\n",
    "data.head()"
   ]
  },
  {
   "cell_type": "code",
   "execution_count": null,
   "metadata": {
    "colab": {
     "base_uri": "https://localhost:8080/",
     "height": 515
    },
    "id": "ffmNyVEz5eRe",
    "outputId": "a505bffc-63f7-494b-9889-9ac661f98e2c"
   },
   "outputs": [
    {
     "data": {
      "image/png": "[encoded data removed]",
      "text/plain": [
       "<Figure size 432x288 with 2 Axes>"
      ]
     },
     "metadata": {
      "needs_background": "light"
     },
     "output_type": "display_data"
    }
   ],
   "source": [
    "sns.heatmap(data.drop('target',axis=1).isnull())\n",
    "plt.show()"
   ]
  },
  {
   "cell_type": "code",
   "execution_count": null,
   "metadata": {
    "colab": {
     "base_uri": "https://localhost:8080/"
    },
    "id": "f-w6wAj7ZQLN",
    "outputId": "b8a1a432-8dd3-4440-a02e-355a03978734"
   },
   "outputs": [
    {
     "data": {
      "text/plain": [
       "admittion                                          datetime64[ns]\n",
       "discharge                                          datetime64[ns]\n",
       "sex                                                        object\n",
       "height                                                      int64\n",
       "weight                                                    float64\n",
       "BMI                                                       float64\n",
       "BSA                                                       float64\n",
       "birth                                                      object\n",
       "Операции (все в ИБ)                                        object\n",
       "Перенесенные опер. (из Анамн.)                             object\n",
       "Диагноз                                                    object\n",
       "МКБ                                                        object\n",
       "Соп. забол. (из Анамн.)                                    object\n",
       "Медикам. леч. по поводу осн. забол. (из Анамн.)            object\n",
       "Принимаемые препараты (из Анамн.)                          object\n",
       "ЭхоКГ (Из Эпикр. до опер.)                                 object\n",
       "ЭКГ (Из Эпикр. до опер.)                                   object\n",
       "АКГ (Из Эпикр. до опер.)                                   object\n",
       "КТ (Из Эпикр. до опер.)                                    object\n",
       "Операция (основная / первая в ИБ)                          object\n",
       "Дата опер.                                                 object\n",
       "target                                                      int64\n",
       "dtype: object"
      ]
     },
     "execution_count": 28,
     "metadata": {},
     "output_type": "execute_result"
    }
   ],
   "source": [
    "data.dtypes"
   ]
  },
  {
   "cell_type": "code",
   "execution_count": null,
   "metadata": {
    "colab": {
     "base_uri": "https://localhost:8080/"
    },
    "id": "_oFnN2Gzjwvm",
    "outputId": "20373c55-f432-4430-9a61-25221d54daba"
   },
   "outputs": [
    {
     "data": {
      "text/plain": [
       "0    286\n",
       "1     14\n",
       "Name: target, dtype: int64"
      ]
     },
     "execution_count": 29,
     "metadata": {},
     "output_type": "execute_result"
    }
   ],
   "source": [
    "data.target.value_counts()"
   ]
  },
  {
   "cell_type": "markdown",
   "metadata": {
    "id": "33p5FtAp8qXD"
   },
   "source": [
    "# Предобработка."
   ]
  },
  {
   "cell_type": "code",
   "execution_count": null,
   "metadata": {
    "id": "VLYV-TLu8tWV"
   },
   "outputs": [],
   "source": [
    "# Делаем заглушки\n",
    "for col in data.columns.tolist():\n",
    "  if data[col].dtypes in ['float64', 'int64']:\n",
    "    data[col] = data[col].fillna(data[col].median())\n",
    "\n",
    "col = 'sex'\n",
    "data[col] = data[col].fillna(data[col].value_counts().index[0])\n",
    "\n",
    "for col in data.columns.tolist():\n",
    "  if data[col].dtypes == 'object':\n",
    "    data[col] = data[col].fillna('Нет данных')"
   ]
  },
  {
   "cell_type": "code",
   "execution_count": null,
   "metadata": {
    "id": "nAWjDiAbYwx-"
   },
   "outputs": [],
   "source": [
    "data = data.loc[:, ['sex','height','weight','BMI','BSA', 'target']]"
   ]
  },
  {
   "cell_type": "code",
   "execution_count": null,
   "metadata": {
    "colab": {
     "base_uri": "https://localhost:8080/",
     "height": 424
    },
    "id": "a5XD-Dv992TJ",
    "outputId": "42373caf-9223-4731-92ff-e59c39bc9a22"
   },
   "outputs": [
    {
     "data": {
      "text/html": [
       "\n",
       "  <div id=\"df-9d4b2a78-d4fe-4891-9a4e-82894848cac1\">\n",
       "    <div class=\"colab-df-container\">\n",
       "      <div>\n",
       "<style scoped>\n",
       "    .dataframe tbody tr th:only-of-type {\n",
       "        vertical-align: middle;\n",
       "    }\n",
       "\n",
       "    .dataframe tbody tr th {\n",
       "        vertical-align: top;\n",
       "    }\n",
       "\n",
       "    .dataframe thead th {\n",
       "        text-align: right;\n",
       "    }\n",
       "</style>\n",
       "<table border=\"1\" class=\"dataframe\">\n",
       "  <thead>\n",
       "    <tr style=\"text-align: right;\">\n",
       "      <th></th>\n",
       "      <th>sex</th>\n",
       "      <th>height</th>\n",
       "      <th>weight</th>\n",
       "      <th>BMI</th>\n",
       "      <th>BSA</th>\n",
       "    </tr>\n",
       "  </thead>\n",
       "  <tbody>\n",
       "    <tr>\n",
       "      <th>99</th>\n",
       "      <td>0</td>\n",
       "      <td>73</td>\n",
       "      <td>7.000</td>\n",
       "      <td>81.93</td>\n",
       "      <td>0.38</td>\n",
       "    </tr>\n",
       "    <tr>\n",
       "      <th>119</th>\n",
       "      <td>1</td>\n",
       "      <td>54</td>\n",
       "      <td>4.408</td>\n",
       "      <td>59.99</td>\n",
       "      <td>0.26</td>\n",
       "    </tr>\n",
       "    <tr>\n",
       "      <th>221</th>\n",
       "      <td>0</td>\n",
       "      <td>61</td>\n",
       "      <td>4.322</td>\n",
       "      <td>55.34</td>\n",
       "      <td>0.27</td>\n",
       "    </tr>\n",
       "    <tr>\n",
       "      <th>37</th>\n",
       "      <td>0</td>\n",
       "      <td>69</td>\n",
       "      <td>7.595</td>\n",
       "      <td>91.43</td>\n",
       "      <td>0.38</td>\n",
       "    </tr>\n",
       "    <tr>\n",
       "      <th>232</th>\n",
       "      <td>0</td>\n",
       "      <td>44</td>\n",
       "      <td>2.971</td>\n",
       "      <td>43.81</td>\n",
       "      <td>0.20</td>\n",
       "    </tr>\n",
       "    <tr>\n",
       "      <th>...</th>\n",
       "      <td>...</td>\n",
       "      <td>...</td>\n",
       "      <td>...</td>\n",
       "      <td>...</td>\n",
       "      <td>...</td>\n",
       "    </tr>\n",
       "    <tr>\n",
       "      <th>8</th>\n",
       "      <td>1</td>\n",
       "      <td>79</td>\n",
       "      <td>9.200</td>\n",
       "      <td>103.51</td>\n",
       "      <td>0.45</td>\n",
       "    </tr>\n",
       "    <tr>\n",
       "      <th>73</th>\n",
       "      <td>0</td>\n",
       "      <td>70</td>\n",
       "      <td>7.740</td>\n",
       "      <td>92.51</td>\n",
       "      <td>0.39</td>\n",
       "    </tr>\n",
       "    <tr>\n",
       "      <th>118</th>\n",
       "      <td>1</td>\n",
       "      <td>58</td>\n",
       "      <td>3.240</td>\n",
       "      <td>42.54</td>\n",
       "      <td>0.23</td>\n",
       "    </tr>\n",
       "    <tr>\n",
       "      <th>189</th>\n",
       "      <td>0</td>\n",
       "      <td>55</td>\n",
       "      <td>5.740</td>\n",
       "      <td>77.40</td>\n",
       "      <td>0.30</td>\n",
       "    </tr>\n",
       "    <tr>\n",
       "      <th>206</th>\n",
       "      <td>1</td>\n",
       "      <td>52</td>\n",
       "      <td>3.400</td>\n",
       "      <td>47.15</td>\n",
       "      <td>0.22</td>\n",
       "    </tr>\n",
       "  </tbody>\n",
       "</table>\n",
       "<p>225 rows × 5 columns</p>\n",
       "</div>\n",
       "      <button class=\"colab-df-convert\" onclick=\"convertToInteractive('df-9d4b2a78-d4fe-4891-9a4e-82894848cac1')\"\n",
       "              title=\"Convert this dataframe to an interactive table.\"\n",
       "              style=\"display:none;\">\n",
       "        \n",
       "  <svg xmlns=\"http://www.w3.org/2000/svg\" height=\"24px\"viewBox=\"0 0 24 24\"\n",
       "       width=\"24px\">\n",
       "    <path d=\"M0 0h24v24H0V0z\" fill=\"none\"/>\n",
       "    <path d=\"M18.56 5.44l.94 2.06.94-2.06 2.06-.94-2.06-.94-.94-2.06-.94 2.06-2.06.94zm-11 1L8.5 8.5l.94-2.06 2.06-.94-2.06-.94L8.5 2.5l-.94 2.06-2.06.94zm10 10l.94 2.06.94-2.06 2.06-.94-2.06-.94-.94-2.06-.94 2.06-2.06.94z\"/><path d=\"M17.41 7.96l-1.37-1.37c-.4-.4-.92-.59-1.43-.59-.52 0-1.04.2-1.43.59L10.3 9.45l-7.72 7.72c-.78.78-.78 2.05 0 2.83L4 21.41c.39.39.9.59 1.41.59.51 0 1.02-.2 1.41-.59l7.78-7.78 2.81-2.81c.8-.78.8-2.07 0-2.86zM5.41 20L4 18.59l7.72-7.72 1.47 1.35L5.41 20z\"/>\n",
       "  </svg>\n",
       "      </button>\n",
       "      \n",
       "  <style>\n",
       "    .colab-df-container {\n",
       "      display:flex;\n",
       "      flex-wrap:wrap;\n",
       "      gap: 12px;\n",
       "    }\n",
       "\n",
       "    .colab-df-convert {\n",
       "      background-color: #E8F0FE;\n",
       "      border: none;\n",
       "      border-radius: 50%;\n",
       "      cursor: pointer;\n",
       "      display: none;\n",
       "      fill: #1967D2;\n",
       "      height: 32px;\n",
       "      padding: 0 0 0 0;\n",
       "      width: 32px;\n",
       "    }\n",
       "\n",
       "    .colab-df-convert:hover {\n",
       "      background-color: #E2EBFA;\n",
       "      box-shadow: 0px 1px 2px rgba(60, 64, 67, 0.3), 0px 1px 3px 1px rgba(60, 64, 67, 0.15);\n",
       "      fill: #174EA6;\n",
       "    }\n",
       "\n",
       "    [theme=dark] .colab-df-convert {\n",
       "      background-color: #3B4455;\n",
       "      fill: #D2E3FC;\n",
       "    }\n",
       "\n",
       "    [theme=dark] .colab-df-convert:hover {\n",
       "      background-color: #434B5C;\n",
       "      box-shadow: 0px 1px 3px 1px rgba(0, 0, 0, 0.15);\n",
       "      filter: drop-shadow(0px 1px 2px rgba(0, 0, 0, 0.3));\n",
       "      fill: #FFFFFF;\n",
       "    }\n",
       "  </style>\n",
       "\n",
       "      <script>\n",
       "        const buttonEl =\n",
       "          document.querySelector('#df-9d4b2a78-d4fe-4891-9a4e-82894848cac1 button.colab-df-convert');\n",
       "        buttonEl.style.display =\n",
       "          google.colab.kernel.accessAllowed ? 'block' : 'none';\n",
       "\n",
       "        async function convertToInteractive(key) {\n",
       "          const element = document.querySelector('#df-9d4b2a78-d4fe-4891-9a4e-82894848cac1');\n",
       "          const dataTable =\n",
       "            await google.colab.kernel.invokeFunction('convertToInteractive',\n",
       "                                                     [key], {});\n",
       "          if (!dataTable) return;\n",
       "\n",
       "          const docLinkHtml = 'Like what you see? Visit the ' +\n",
       "            '<a target=\"_blank\" href=https://colab.research.google.com/notebooks/data_table.ipynb>data table notebook</a>'\n",
       "            + ' to learn more about interactive tables.';\n",
       "          element.innerHTML = '';\n",
       "          dataTable['output_type'] = 'display_data';\n",
       "          await google.colab.output.renderOutput(dataTable, element);\n",
       "          const docLink = document.createElement('div');\n",
       "          docLink.innerHTML = docLinkHtml;\n",
       "          element.appendChild(docLink);\n",
       "        }\n",
       "      </script>\n",
       "    </div>\n",
       "  </div>\n",
       "  "
      ],
      "text/plain": [
       "     sex  height  weight     BMI   BSA\n",
       "99     0      73   7.000   81.93  0.38\n",
       "119    1      54   4.408   59.99  0.26\n",
       "221    0      61   4.322   55.34  0.27\n",
       "37     0      69   7.595   91.43  0.38\n",
       "232    0      44   2.971   43.81  0.20\n",
       "..   ...     ...     ...     ...   ...\n",
       "8      1      79   9.200  103.51  0.45\n",
       "73     0      70   7.740   92.51  0.39\n",
       "118    1      58   3.240   42.54  0.23\n",
       "189    0      55   5.740   77.40  0.30\n",
       "206    1      52   3.400   47.15  0.22\n",
       "\n",
       "[225 rows x 5 columns]"
      ]
     },
     "metadata": {},
     "output_type": "display_data"
    }
   ],
   "source": [
    "# Feature Transformation. Converting all features.\n",
    "# Reversing str to num dtype via LabelEncoder\n",
    "for col in data.drop('target', axis=1).dtypes[(data.dtypes == 'object') \n",
    "                                              | (data.dtypes == 'category')].index.tolist():\n",
    "    data[col] = LabelEncoder().fit_transform(data[col])\n",
    "\n",
    "# Разбьем данные на обучающую и валидационную выборки в соотношении 75:25\n",
    "y = data['target']\n",
    "X = data.drop('target',axis=1)\n",
    "X_train, X_test, y_train, y_test = train_test_split(X, y, test_size=0.25, random_state=5)\n",
    "\n",
    "# Cтандартизация данных\n",
    "scaler = StandardScaler()\n",
    "scaler.fit(X_train)\n",
    "X_train_scale = scaler.transform(X_train)\n",
    "X_test_scale = scaler.transform(X_test)\n",
    "display(X_train)"
   ]
  },
  {
   "cell_type": "markdown",
   "metadata": {
    "id": "DA26uA9I8uRX"
   },
   "source": [
    "# Модель"
   ]
  },
  {
   "cell_type": "markdown",
   "metadata": {
    "id": "TpqN-6-AgIK9"
   },
   "source": [
    "## Важность признаков"
   ]
  },
  {
   "cell_type": "code",
   "execution_count": null,
   "metadata": {
    "colab": {
     "base_uri": "https://localhost:8080/",
     "height": 281
    },
    "id": "mCicPP87N0TX",
    "outputId": "a3e3473a-5ccc-4b81-9ae1-d6a2b3ac7577"
   },
   "outputs": [
    {
     "data": {
      "image/png": "[encoded data removed]",
      "text/plain": [
       "<Figure size 432x288 with 1 Axes>"
      ]
     },
     "metadata": {
      "needs_background": "light"
     },
     "output_type": "display_data"
    }
   ],
   "source": [
    "# Важность признаков\n",
    "best_rf = RandomForestClassifier(random_state = 5).fit(X_train,y_train)\n",
    "feat_importances = pd.Series(best_rf.feature_importances_, index=X_train.columns)\n",
    "feat_importance_names = feat_importances[feat_importances>0].sort_values(ascending=False).index.tolist()\n",
    "feat_importances.nlargest().plot(kind='barh')\n",
    "plt.title('Важность признаков')\n",
    "plt.show()"
   ]
  },
  {
   "cell_type": "markdown",
   "metadata": {
    "id": "yRzkISe3gK-Z"
   },
   "source": [
    "## Обучение"
   ]
  },
  {
   "cell_type": "code",
   "execution_count": null,
   "metadata": {
    "colab": {
     "base_uri": "https://localhost:8080/"
    },
    "id": "0dqtriixWrqB",
    "outputId": "cb2ff7d6-6706-4e8e-e1aa-3bb7dc613242"
   },
   "outputs": [
    {
     "name": "stdout",
     "output_type": "stream",
     "text": [
      "Fitting 5 folds for each of 55 candidates, totalling 275 fits\n",
      "CPU times: user 1.1 s, sys: 184 ms, total: 1.29 s\n",
      "Wall time: 1min 16s\n"
     ]
    },
    {
     "data": {
      "text/plain": [
       "{'C': 0.1, 'gamma': 0.1, 'kernel': 'rbf'}"
      ]
     },
     "execution_count": 34,
     "metadata": {},
     "output_type": "execute_result"
    }
   ],
   "source": [
    "%%time\n",
    "svc = SVC(probability = True)\n",
    "param_grid = tuned_parameters = [{'kernel': ['rbf'], 'gamma': [.1,.5,1,2,5,10],\n",
    "                                  'C': [.1, 1, 10, 100, 1000]},\n",
    "                                 {'kernel': ['linear'], 'C': [.1, 1, 10, 100, 1000]},\n",
    "                                 {'kernel': ['poly'], 'degree' : [2,3,4,5], 'C': [.1, 1, 10, 100, 1000]}]\n",
    "clf_svc = GridSearchCV(svc, param_grid = param_grid, cv = 5, verbose = True, n_jobs = 5)\n",
    "best_clf_svc = clf_svc.fit(X_train_scale,y_train)\n",
    "best_clf_svc.best_params_"
   ]
  },
  {
   "cell_type": "code",
   "execution_count": null,
   "metadata": {
    "colab": {
     "base_uri": "https://localhost:8080/"
    },
    "id": "FBZ8dpJNcO2b",
    "outputId": "4825cf66-2fa4-41d5-cac3-bd5448225644"
   },
   "outputs": [
    {
     "name": "stdout",
     "output_type": "stream",
     "text": [
      "Fitting 5 folds for each of 5 candidates, totalling 25 fits\n",
      "CPU times: user 2.06 s, sys: 259 ms, total: 2.32 s\n",
      "Wall time: 1min 10s\n"
     ]
    },
    {
     "data": {
      "text/plain": [
       "{'depth': 6}"
      ]
     },
     "execution_count": 35,
     "metadata": {},
     "output_type": "execute_result"
    }
   ],
   "source": [
    "%%time\n",
    "cb = CatBoostClassifier(silent=True)\n",
    "param_grid = {'depth': [6,7,8,9,10],\n",
    "#              'max_bin': [None,32,46,100,254],\n",
    "#              'l2_leaf_reg': [None,2,10,20,30],\n",
    "#              'bagging_temperature': [None,0,0.5,1],\n",
    "#              'random_strength': [None,1,5,10]\n",
    "              }\n",
    "clf_cb = GridSearchCV(cb, param_grid = param_grid, cv = 5, verbose = True, n_jobs = 5)\n",
    "best_clf_cb = clf_cb.fit(X_train_scale,y_train)\n",
    "best_clf_cb.best_params_"
   ]
  },
  {
   "cell_type": "code",
   "execution_count": null,
   "metadata": {
    "colab": {
     "base_uri": "https://localhost:8080/"
    },
    "id": "AYZLN54PdV5l",
    "outputId": "e9c6dbbb-ec2e-4bb3-ec47-d94e0bb6d788"
   },
   "outputs": [
    {
     "name": "stdout",
     "output_type": "stream",
     "text": [
      "Fitting 5 folds for each of 3 candidates, totalling 15 fits\n",
      "[11:03:19] WARNING: ../src/learner.cc:767: \n",
      "Parameters: { \"probability\" } are not used.\n",
      "\n",
      "CPU times: user 114 ms, sys: 7.04 ms, total: 121 ms\n",
      "Wall time: 484 ms\n"
     ]
    },
    {
     "data": {
      "text/plain": [
       "{'max_depth': 3}"
      ]
     },
     "execution_count": 36,
     "metadata": {},
     "output_type": "execute_result"
    }
   ],
   "source": [
    "%%time\n",
    "xb = XGBClassifier(probability=True)\n",
    "param_grid = {'max_depth': [3, 4, 5],\n",
    "#              'learning_rate': [0.1, 0.2, 0.3],\n",
    "#              'n_estimators': [50, 100, 150],\n",
    "#              'gamma': [0, 0.1, 0.2],\n",
    "#              'min_child_weight': [0, 0.5, 1],\n",
    " #             'subsample': [0.7, 0.8, 0.9, 1],\n",
    "#              'colsample_bytree': [0.6, 0.8, 1],\n",
    "#              'reg_alpha': [0, 1e-2, 1, 1e1],\n",
    "#              'reg_lambda': [0, 1e-2, 1, 1e1]\n",
    "              }\n",
    "clf_xb = GridSearchCV(xb, param_grid = param_grid, cv = 5, verbose = True, n_jobs = 5)\n",
    "best_clf_xb = clf_xb.fit(X_train_scale,y_train)\n",
    "best_clf_xb.best_params_"
   ]
  },
  {
   "cell_type": "markdown",
   "metadata": {
    "id": "49_xYKDbgR32"
   },
   "source": [
    "## Голосование"
   ]
  },
  {
   "cell_type": "code",
   "execution_count": null,
   "metadata": {
    "colab": {
     "base_uri": "https://localhost:8080/",
     "height": 719
    },
    "id": "vqdkcZtg21Bw",
    "outputId": "b38f7282-21e3-4d8f-9f54-854868a6efa7"
   },
   "outputs": [
    {
     "name": "stdout",
     "output_type": "stream",
     "text": [
      "[11:03:20] WARNING: ../src/learner.cc:767: \n",
      "Parameters: { \"probability\" } are not used.\n",
      "\n",
      "[11:03:21] WARNING: ../src/learner.cc:767: \n",
      "Parameters: { \"probability\" } are not used.\n",
      "\n",
      "[11:03:22] WARNING: ../src/learner.cc:767: \n",
      "Parameters: { \"probability\" } are not used.\n",
      "\n",
      "[11:03:23] WARNING: ../src/learner.cc:767: \n",
      "Parameters: { \"probability\" } are not used.\n",
      "\n",
      "[11:03:24] WARNING: ../src/learner.cc:767: \n",
      "Parameters: { \"probability\" } are not used.\n",
      "\n"
     ]
    },
    {
     "data": {
      "text/html": [
       "\n",
       "  <div id=\"df-93ec3263-a751-4813-8dfd-a8e55bf2da67\">\n",
       "    <div class=\"colab-df-container\">\n",
       "      <div>\n",
       "<style scoped>\n",
       "    .dataframe tbody tr th:only-of-type {\n",
       "        vertical-align: middle;\n",
       "    }\n",
       "\n",
       "    .dataframe tbody tr th {\n",
       "        vertical-align: top;\n",
       "    }\n",
       "\n",
       "    .dataframe thead th {\n",
       "        text-align: right;\n",
       "    }\n",
       "</style>\n",
       "<table border=\"1\" class=\"dataframe\">\n",
       "  <thead>\n",
       "    <tr style=\"text-align: right;\">\n",
       "      <th></th>\n",
       "      <th>Fold_1_Prob_1</th>\n",
       "      <th>Fold_2_Prob_1</th>\n",
       "      <th>Fold_3_Prob_1</th>\n",
       "      <th>Fold_4_Prob_1</th>\n",
       "      <th>Fold_5_Prob_1</th>\n",
       "      <th>1</th>\n",
       "      <th>pred</th>\n",
       "    </tr>\n",
       "  </thead>\n",
       "  <tbody>\n",
       "    <tr>\n",
       "      <th>0</th>\n",
       "      <td>0.020664</td>\n",
       "      <td>0.027363</td>\n",
       "      <td>0.026778</td>\n",
       "      <td>0.022853</td>\n",
       "      <td>0.017850</td>\n",
       "      <td>0.023102</td>\n",
       "      <td>0</td>\n",
       "    </tr>\n",
       "    <tr>\n",
       "      <th>1</th>\n",
       "      <td>0.044106</td>\n",
       "      <td>0.037200</td>\n",
       "      <td>0.072920</td>\n",
       "      <td>0.032469</td>\n",
       "      <td>0.043486</td>\n",
       "      <td>0.046036</td>\n",
       "      <td>0</td>\n",
       "    </tr>\n",
       "    <tr>\n",
       "      <th>2</th>\n",
       "      <td>0.032259</td>\n",
       "      <td>0.042835</td>\n",
       "      <td>0.027640</td>\n",
       "      <td>0.025871</td>\n",
       "      <td>0.029750</td>\n",
       "      <td>0.031671</td>\n",
       "      <td>0</td>\n",
       "    </tr>\n",
       "    <tr>\n",
       "      <th>3</th>\n",
       "      <td>0.032865</td>\n",
       "      <td>0.026010</td>\n",
       "      <td>0.025029</td>\n",
       "      <td>0.022362</td>\n",
       "      <td>0.019083</td>\n",
       "      <td>0.025070</td>\n",
       "      <td>0</td>\n",
       "    </tr>\n",
       "    <tr>\n",
       "      <th>4</th>\n",
       "      <td>0.036494</td>\n",
       "      <td>0.073415</td>\n",
       "      <td>0.027491</td>\n",
       "      <td>0.043283</td>\n",
       "      <td>0.043897</td>\n",
       "      <td>0.044916</td>\n",
       "      <td>0</td>\n",
       "    </tr>\n",
       "    <tr>\n",
       "      <th>...</th>\n",
       "      <td>...</td>\n",
       "      <td>...</td>\n",
       "      <td>...</td>\n",
       "      <td>...</td>\n",
       "      <td>...</td>\n",
       "      <td>...</td>\n",
       "      <td>...</td>\n",
       "    </tr>\n",
       "    <tr>\n",
       "      <th>70</th>\n",
       "      <td>0.022730</td>\n",
       "      <td>0.021841</td>\n",
       "      <td>0.022691</td>\n",
       "      <td>0.021995</td>\n",
       "      <td>0.020243</td>\n",
       "      <td>0.021900</td>\n",
       "      <td>0</td>\n",
       "    </tr>\n",
       "    <tr>\n",
       "      <th>71</th>\n",
       "      <td>0.040161</td>\n",
       "      <td>0.033899</td>\n",
       "      <td>0.044748</td>\n",
       "      <td>0.029343</td>\n",
       "      <td>0.035150</td>\n",
       "      <td>0.036660</td>\n",
       "      <td>0</td>\n",
       "    </tr>\n",
       "    <tr>\n",
       "      <th>72</th>\n",
       "      <td>0.029395</td>\n",
       "      <td>0.029420</td>\n",
       "      <td>0.025257</td>\n",
       "      <td>0.025972</td>\n",
       "      <td>0.017963</td>\n",
       "      <td>0.025601</td>\n",
       "      <td>0</td>\n",
       "    </tr>\n",
       "    <tr>\n",
       "      <th>73</th>\n",
       "      <td>0.024121</td>\n",
       "      <td>0.026485</td>\n",
       "      <td>0.026041</td>\n",
       "      <td>0.022418</td>\n",
       "      <td>0.021470</td>\n",
       "      <td>0.024107</td>\n",
       "      <td>0</td>\n",
       "    </tr>\n",
       "    <tr>\n",
       "      <th>74</th>\n",
       "      <td>0.027291</td>\n",
       "      <td>0.026779</td>\n",
       "      <td>0.044352</td>\n",
       "      <td>0.042716</td>\n",
       "      <td>0.028439</td>\n",
       "      <td>0.033915</td>\n",
       "      <td>0</td>\n",
       "    </tr>\n",
       "  </tbody>\n",
       "</table>\n",
       "<p>75 rows × 7 columns</p>\n",
       "</div>\n",
       "      <button class=\"colab-df-convert\" onclick=\"convertToInteractive('df-93ec3263-a751-4813-8dfd-a8e55bf2da67')\"\n",
       "              title=\"Convert this dataframe to an interactive table.\"\n",
       "              style=\"display:none;\">\n",
       "        \n",
       "  <svg xmlns=\"http://www.w3.org/2000/svg\" height=\"24px\"viewBox=\"0 0 24 24\"\n",
       "       width=\"24px\">\n",
       "    <path d=\"M0 0h24v24H0V0z\" fill=\"none\"/>\n",
       "    <path d=\"M18.56 5.44l.94 2.06.94-2.06 2.06-.94-2.06-.94-.94-2.06-.94 2.06-2.06.94zm-11 1L8.5 8.5l.94-2.06 2.06-.94-2.06-.94L8.5 2.5l-.94 2.06-2.06.94zm10 10l.94 2.06.94-2.06 2.06-.94-2.06-.94-.94-2.06-.94 2.06-2.06.94z\"/><path d=\"M17.41 7.96l-1.37-1.37c-.4-.4-.92-.59-1.43-.59-.52 0-1.04.2-1.43.59L10.3 9.45l-7.72 7.72c-.78.78-.78 2.05 0 2.83L4 21.41c.39.39.9.59 1.41.59.51 0 1.02-.2 1.41-.59l7.78-7.78 2.81-2.81c.8-.78.8-2.07 0-2.86zM5.41 20L4 18.59l7.72-7.72 1.47 1.35L5.41 20z\"/>\n",
       "  </svg>\n",
       "      </button>\n",
       "      \n",
       "  <style>\n",
       "    .colab-df-container {\n",
       "      display:flex;\n",
       "      flex-wrap:wrap;\n",
       "      gap: 12px;\n",
       "    }\n",
       "\n",
       "    .colab-df-convert {\n",
       "      background-color: #E8F0FE;\n",
       "      border: none;\n",
       "      border-radius: 50%;\n",
       "      cursor: pointer;\n",
       "      display: none;\n",
       "      fill: #1967D2;\n",
       "      height: 32px;\n",
       "      padding: 0 0 0 0;\n",
       "      width: 32px;\n",
       "    }\n",
       "\n",
       "    .colab-df-convert:hover {\n",
       "      background-color: #E2EBFA;\n",
       "      box-shadow: 0px 1px 2px rgba(60, 64, 67, 0.3), 0px 1px 3px 1px rgba(60, 64, 67, 0.15);\n",
       "      fill: #174EA6;\n",
       "    }\n",
       "\n",
       "    [theme=dark] .colab-df-convert {\n",
       "      background-color: #3B4455;\n",
       "      fill: #D2E3FC;\n",
       "    }\n",
       "\n",
       "    [theme=dark] .colab-df-convert:hover {\n",
       "      background-color: #434B5C;\n",
       "      box-shadow: 0px 1px 3px 1px rgba(0, 0, 0, 0.15);\n",
       "      filter: drop-shadow(0px 1px 2px rgba(0, 0, 0, 0.3));\n",
       "      fill: #FFFFFF;\n",
       "    }\n",
       "  </style>\n",
       "\n",
       "      <script>\n",
       "        const buttonEl =\n",
       "          document.querySelector('#df-93ec3263-a751-4813-8dfd-a8e55bf2da67 button.colab-df-convert');\n",
       "        buttonEl.style.display =\n",
       "          google.colab.kernel.accessAllowed ? 'block' : 'none';\n",
       "\n",
       "        async function convertToInteractive(key) {\n",
       "          const element = document.querySelector('#df-93ec3263-a751-4813-8dfd-a8e55bf2da67');\n",
       "          const dataTable =\n",
       "            await google.colab.kernel.invokeFunction('convertToInteractive',\n",
       "                                                     [key], {});\n",
       "          if (!dataTable) return;\n",
       "\n",
       "          const docLinkHtml = 'Like what you see? Visit the ' +\n",
       "            '<a target=\"_blank\" href=https://colab.research.google.com/notebooks/data_table.ipynb>data table notebook</a>'\n",
       "            + ' to learn more about interactive tables.';\n",
       "          element.innerHTML = '';\n",
       "          dataTable['output_type'] = 'display_data';\n",
       "          await google.colab.output.renderOutput(dataTable, element);\n",
       "          const docLink = document.createElement('div');\n",
       "          docLink.innerHTML = docLinkHtml;\n",
       "          element.appendChild(docLink);\n",
       "        }\n",
       "      </script>\n",
       "    </div>\n",
       "  </div>\n",
       "  "
      ],
      "text/plain": [
       "    Fold_1_Prob_1  Fold_2_Prob_1  Fold_3_Prob_1  Fold_4_Prob_1  Fold_5_Prob_1  \\\n",
       "0        0.020664       0.027363       0.026778       0.022853       0.017850   \n",
       "1        0.044106       0.037200       0.072920       0.032469       0.043486   \n",
       "2        0.032259       0.042835       0.027640       0.025871       0.029750   \n",
       "3        0.032865       0.026010       0.025029       0.022362       0.019083   \n",
       "4        0.036494       0.073415       0.027491       0.043283       0.043897   \n",
       "..            ...            ...            ...            ...            ...   \n",
       "70       0.022730       0.021841       0.022691       0.021995       0.020243   \n",
       "71       0.040161       0.033899       0.044748       0.029343       0.035150   \n",
       "72       0.029395       0.029420       0.025257       0.025972       0.017963   \n",
       "73       0.024121       0.026485       0.026041       0.022418       0.021470   \n",
       "74       0.027291       0.026779       0.044352       0.042716       0.028439   \n",
       "\n",
       "           1  pred  \n",
       "0   0.023102     0  \n",
       "1   0.046036     0  \n",
       "2   0.031671     0  \n",
       "3   0.025070     0  \n",
       "4   0.044916     0  \n",
       "..       ...   ...  \n",
       "70  0.021900     0  \n",
       "71  0.036660     0  \n",
       "72  0.025601     0  \n",
       "73  0.024107     0  \n",
       "74  0.033915     0  \n",
       "\n",
       "[75 rows x 7 columns]"
      ]
     },
     "metadata": {},
     "output_type": "display_data"
    },
    {
     "name": "stdout",
     "output_type": "stream",
     "text": [
      "CPU times: user 7.45 s, sys: 1.18 s, total: 8.63 s\n",
      "Wall time: 4.9 s\n"
     ]
    }
   ],
   "source": [
    "%%time\n",
    "\n",
    "N = 5\n",
    "cv = StratifiedKFold(n_splits=N, random_state=N, shuffle=True)\n",
    "\n",
    "# голосование моделей SVC, CatBoostClassifier, XGBClassifier\n",
    "classifiers = []\n",
    "classifiers.append(best_clf_svc.best_estimator_)\n",
    "classifiers.append(best_clf_cb.best_estimator_)\n",
    "classifiers.append(best_clf_xb.best_estimator_)\n",
    "\n",
    "estimators = []\n",
    "for classifier in classifiers:\n",
    "    estimators.append((str(classifier)[:-2], classifier))\n",
    "\n",
    "voting_clf_soft = VotingClassifier(estimators = estimators, voting = 'soft')\n",
    "\n",
    "y_train = y_train.reset_index(drop=True)\n",
    "# predict_proba\n",
    "probs = pd.DataFrame()\n",
    "for fold, (trn_idx, val_idx) in enumerate(cv.split(X_train_scale, y_train), 1):    \n",
    "    # учим единую модель\n",
    "    voting_clf_soft.fit(X_train_scale[trn_idx], y_train[trn_idx])\n",
    "    probs.loc[:, 'Fold_{}_Prob_1'.format(fold)] = voting_clf_soft.predict_proba(X_test_scale)[:, 1]\n",
    "    \n",
    "probs['1'] = probs.sum(axis=1) / N\n",
    "probs['pred'] = probs['1'].apply(lambda x: 1 if x>=0.5 else 0)\n",
    "\n",
    "display(probs)"
   ]
  },
  {
   "cell_type": "markdown",
   "metadata": {
    "id": "z1pW_yHx2y9E"
   },
   "source": [
    "## Модели"
   ]
  },
  {
   "cell_type": "code",
   "execution_count": null,
   "metadata": {
    "colab": {
     "base_uri": "https://localhost:8080/",
     "height": 573
    },
    "id": "_NeK0Y9e8KIB",
    "outputId": "ade68439-e3f4-47e3-8a24-94e006672a21"
   },
   "outputs": [
    {
     "name": "stdout",
     "output_type": "stream",
     "text": [
      "[11:03:33] WARNING: ../src/learner.cc:767: \n",
      "Parameters: { \"probability\" } are not used.\n",
      "\n",
      "[11:03:34] WARNING: ../src/learner.cc:767: \n",
      "Parameters: { \"probability\" } are not used.\n",
      "\n",
      "[11:03:35] WARNING: ../src/learner.cc:767: \n",
      "Parameters: { \"probability\" } are not used.\n",
      "\n",
      "[11:03:36] WARNING: ../src/learner.cc:767: \n",
      "Parameters: { \"probability\" } are not used.\n",
      "\n",
      "[11:03:37] WARNING: ../src/learner.cc:767: \n",
      "Parameters: { \"probability\" } are not used.\n",
      "\n",
      "Algorithm: Gausian Naive Bayes, Score: 0.7102620893318567, Std: 0.08051047512056476\n"
     ]
    },
    {
     "data": {
      "image/png": "[encoded data removed]",
      "text/plain": [
       "<Figure size 432x288 with 1 Axes>"
      ]
     },
     "metadata": {
      "needs_background": "light"
     },
     "output_type": "display_data"
    }
   ],
   "source": [
    "classifiers = []\n",
    "classifiers.append(LogisticRegression())\n",
    "classifiers.append(SVC())\n",
    "classifiers.append(KNeighborsClassifier(n_neighbors = 5))\n",
    "classifiers.append(GaussianNB())\n",
    "classifiers.append(Perceptron())\n",
    "classifiers.append(LinearSVC())\n",
    "classifiers.append(SGDClassifier())\n",
    "classifiers.append(DecisionTreeClassifier())\n",
    "classifiers.append(RandomForestClassifier())\n",
    "classifiers.append(CatBoostClassifier(silent=True))\n",
    "classifiers.append(LGBMClassifier())\n",
    "classifiers.append(XGBClassifier())\n",
    "classifiers.append(voting_clf_soft)\n",
    "\n",
    "\n",
    "cv_results = []\n",
    "for classifier in classifiers:\n",
    "    cv_results.append(cross_val_score(classifier, X_train, y_train, scoring = 'roc_auc', cv = 5))\n",
    "\n",
    "cv_mean = []\n",
    "cv_std = []\n",
    "for cv_result in cv_results:\n",
    "    cv_mean.append(cv_result.mean())\n",
    "    cv_std.append(cv_result.std())\n",
    "    \n",
    "cv_res = pd.DataFrame({'Cross Validation Mean': cv_mean, \n",
    "                       'Cross Validation Std': cv_std, \n",
    "                       'Algorithm': ['Logistic Regression', 'Support Vector Machines',\n",
    "                                     'KNN', 'Gausian Naive Bayes', \n",
    "                                     'Perceptron', 'Linear SVC', \n",
    "                                     'Stochastic Gradient Descent', 'Decision Tree', \n",
    "                                     'Random Forest', 'CatBoost', \n",
    "                                     'LightGBM', 'XGBoost',\n",
    "                                     'Voting_clf_soft']})\n",
    "cv_res.sort_values(by = 'Cross Validation Mean', ascending = False, ignore_index = True)\n",
    "\n",
    "sns.barplot(x='Cross Validation Mean', y='Algorithm', \n",
    "            data = cv_res, order = cv_res.sort_values(by = 'Cross Validation Mean', \n",
    "                                                      ascending = False)['Algorithm'], \n",
    "            palette = 'Set3', **{'xerr': cv_std})\n",
    "plt.ylabel('Algorithm')\n",
    "plt.title('Cross Validation Scores')\n",
    "\n",
    "result = cv_res.sort_values('Cross Validation Mean', ascending=False).reset_index()\n",
    "a, sc,st =  result['Algorithm'][0], result['Cross Validation Mean'][0], result['Cross Validation Std'][0]\n",
    "print(f'Algorithm: {a}, Score: {sc}, Std: {st}')"
   ]
  },
  {
   "cell_type": "markdown",
   "metadata": {
    "id": "A8CQVLufgc0O"
   },
   "source": [
    "## Тест"
   ]
  },
  {
   "cell_type": "code",
   "execution_count": 46,
   "metadata": {
    "colab": {
     "base_uri": "https://localhost:8080/"
    },
    "id": "_ivduBH8VIDR",
    "outputId": "b6130425-e3b5-4216-ef69-9fcc70629bf6"
   },
   "outputs": [
    {
     "name": "stdout",
     "output_type": "stream",
     "text": [
      "Матрица ошибок\n",
      "Размер: 225\n",
      "Соотношение\n",
      "0    213\n",
      "1     12\n",
      "Name: target, dtype: int64\n",
      "[[213   0]\n",
      " [ 12   0]]\n"
     ]
    }
   ],
   "source": [
    "model = voting_clf_soft #GaussianNB().fit(X_train_scale,y_train)\n",
    "\n",
    "predicted_train = model.predict(X_train)\n",
    "print(\"Матрица ошибок\")\n",
    "print(\"Размер:\",y_train.shape[0])\n",
    "print(\"Соотношение\")\n",
    "print(y_train.value_counts())\n",
    "print(confusion_matrix(y_train,predicted_train))"
   ]
  },
  {
   "cell_type": "code",
   "execution_count": 48,
   "metadata": {
    "colab": {
     "base_uri": "https://localhost:8080/",
     "height": 434
    },
    "id": "BpMWavZOQoO6",
    "outputId": "39414198-c08e-4e7f-99bd-b30d7e02deec"
   },
   "outputs": [
    {
     "name": "stdout",
     "output_type": "stream",
     "text": [
      "DummyClassifier: 0.97\n",
      "0    0.953333\n",
      "1    0.046667\n",
      "Name: target, dtype: float64\n",
      "\n",
      "AUC-ROC: 0.84\n"
     ]
    },
    {
     "data": {
      "image/png": "[encoded data removed]",
      "text/plain": [
       "<Figure size 432x288 with 1 Axes>"
      ]
     },
     "metadata": {
      "needs_background": "light"
     },
     "output_type": "display_data"
    },
    {
     "name": "stdout",
     "output_type": "stream",
     "text": [
      "CPU times: user 447 ms, sys: 45.9 ms, total: 492 ms\n",
      "Wall time: 773 ms\n"
     ]
    }
   ],
   "source": [
    "%%time\n",
    "predictions_train = model.predict(X_train)\n",
    "predictions_test = model.predict(X_test)\n",
    "\n",
    "clf = DummyClassifier(strategy='most_frequent', random_state=5)\n",
    "clf.fit(X_train, y_train)\n",
    "print(\"DummyClassifier: %.2f\" % clf.score(X_test, y_test))\n",
    "print(data['target'].value_counts() / data.shape[0])\n",
    "print()\n",
    "\n",
    "probabilities_test = model.predict_proba(X_test)\n",
    "probabilities_one_test = probabilities_test[:, 1]\n",
    "auc_roc = roc_auc_score(y_test, probabilities_one_test)\n",
    "print(\"AUC-ROC: %.2f\" % auc_roc)\n",
    "\n",
    "fpr, tpr, thresholds = roc_curve(y_test, probabilities_one_test)\n",
    "plt.figure()\n",
    "plt.plot(fpr, tpr)\n",
    "plt.plot([0, 1], [0, 1], linestyle='--')\n",
    "plt.xlim([0.0, 1.0])\n",
    "plt.ylim([0.0, 1.0])\n",
    "plt.xlabel('False Positive Rate')\n",
    "plt.ylabel('True Positive Rate')\n",
    "plt.title('ROC-кривая')\n",
    "plt.show()"
   ]
  }
 ],
 "metadata": {
  "colab": {
   "provenance": []
  },
  "kernelspec": {
   "display_name": "Python 3 (ipykernel)",
   "language": "python",
   "name": "python3"
  },
  "language_info": {
   "codemirror_mode": {
    "name": "ipython",
    "version": 3
   },
   "file_extension": ".py",
   "mimetype": "text/x-python",
   "name": "python",
   "nbconvert_exporter": "python",
   "pygments_lexer": "ipython3",
   "version": "3.9.13"
  }
 },
 "nbformat": 4,
 "nbformat_minor": 1
}
